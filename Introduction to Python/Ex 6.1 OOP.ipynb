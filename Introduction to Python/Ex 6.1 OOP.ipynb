{
 "cells": [
  {
   "cell_type": "code",
   "execution_count": null,
   "metadata": {},
   "outputs": [],
   "source": [
    "# Creatings Class and Object in Python\n",
    "class myBird:\n",
    "    \n",
    "  def __init__(self):\n",
    "    print(\"myBird class constructor is executing\")\n",
    "\n",
    "  def whatType(self):\n",
    "    print(\"I am a Bird ...\")\n",
    "\n",
    "  def canSwim(self):\n",
    "    print(\"I can Swim ...\")\n"
   ]
  }
 ],
 "metadata": {
  "kernelspec": {
   "display_name": "Python 3",
   "language": "python",
   "name": "python3"
  },
  "language_info": {
   "codemirror_mode": {
    "name": "ipython",
    "version": 3
   },
   "file_extension": ".py",
   "mimetype": "text/x-python",
   "name": "python",
   "nbconvert_exporter": "python",
   "pygments_lexer": "ipython3",
   "version": "3.8.5"
  }
 },
 "nbformat": 4,
 "nbformat_minor": 4
}
