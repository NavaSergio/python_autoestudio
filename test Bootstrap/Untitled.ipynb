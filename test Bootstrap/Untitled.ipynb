{
 "cells": [
  {
   "cell_type": "code",
   "execution_count": 1,
   "metadata": {},
   "outputs": [
    {
     "name": "stdout",
     "output_type": "stream",
     "text": [
      "Collecting ingeoML\n",
      "  Downloading IngeoML-0.0.16-py3-none-any.whl (26 kB)\n",
      "Collecting scikit-learn>=1.3.0\n",
      "  Downloading scikit_learn-1.3.2-cp38-cp38-macosx_10_9_x86_64.whl (10.1 MB)\n",
      "\u001b[K     |████████████████████████████████| 10.1 MB 1.2 MB/s eta 0:00:01\n",
      "\u001b[?25hRequirement already satisfied: numpy in /Users/sergionava/opt/anaconda3/lib/python3.8/site-packages (from ingeoML) (1.19.2)\n",
      "Collecting joblib>=1.1.1\n",
      "  Downloading joblib-1.3.2-py3-none-any.whl (302 kB)\n",
      "\u001b[K     |████████████████████████████████| 302 kB 25.1 MB/s eta 0:00:01\n",
      "\u001b[?25hRequirement already satisfied: scipy>=1.5.0 in /Users/sergionava/opt/anaconda3/lib/python3.8/site-packages (from scikit-learn>=1.3.0->ingeoML) (1.5.0)\n",
      "Requirement already satisfied: threadpoolctl>=2.0.0 in /Users/sergionava/opt/anaconda3/lib/python3.8/site-packages (from scikit-learn>=1.3.0->ingeoML) (2.1.0)\n",
      "Installing collected packages: joblib, scikit-learn, ingeoML\n",
      "  Attempting uninstall: joblib\n",
      "    Found existing installation: joblib 0.17.0\n",
      "    Uninstalling joblib-0.17.0:\n",
      "      Successfully uninstalled joblib-0.17.0\n",
      "  Attempting uninstall: scikit-learn\n",
      "    Found existing installation: scikit-learn 0.23.2\n",
      "    Uninstalling scikit-learn-0.23.2:\n",
      "      Successfully uninstalled scikit-learn-0.23.2\n",
      "Successfully installed ingeoML-0.0.16 joblib-1.3.2 scikit-learn-1.3.2\n"
     ]
    }
   ],
   "source": [
    "# !pip install ingeoML"
   ]
  },
  {
   "cell_type": "code",
   "execution_count": 8,
   "metadata": {},
   "outputs": [
    {
     "name": "stdout",
     "output_type": "stream",
     "text": [
      "0.8\n"
     ]
    },
    {
     "data": {
      "text/plain": [
       "array([0.7, 0.7, 0.9, ..., 0.8, 0.8, 0.7])"
      ]
     },
     "execution_count": 8,
     "metadata": {},
     "output_type": "execute_result"
    }
   ],
   "source": [
    "from IngeoML import StatisticSamples\n",
    "from sklearn.metrics import accuracy_score\n",
    "import numpy as np\n",
    "statistic = StatisticSamples(num_samples=10, statistic=np.mean)\n",
    "empirical_distribution = np.r_[[3, 4, 5, 2, 4]]\n",
    "statistic(empirical_distribution)\n",
    "labels = np.r_[[0, 0, 0, 0, 0, 1, 1, 1, 1, 1]]\n",
    "pred   = np.r_[[0, 0, 1, 0, 0, 1, 1, 1, 0, 1]]\n",
    "print(accuracy_score(labels, pred))\n",
    "acc = StatisticSamples(num_samples=10000, statistic=accuracy_score)\n",
    "acc(labels, pred)"
   ]
  },
  {
   "cell_type": "code",
   "execution_count": null,
   "metadata": {},
   "outputs": [],
   "source": []
  },
  {
   "cell_type": "code",
   "execution_count": 2,
   "metadata": {},
   "outputs": [
    {
     "data": {
      "text/plain": [
       "(0.5, 1.0)"
      ]
     },
     "execution_count": 2,
     "metadata": {},
     "output_type": "execute_result"
    }
   ],
   "source": [
    "from IngeoML import CI\n",
    "from sklearn.metrics import accuracy_score\n",
    "import numpy as np    \n",
    "labels = np.r_[[0, 0, 0, 0, 0, 1, 1, 1, 1, 1]]\n",
    "pred   = np.r_[[0, 0, 1, 0, 0, 1, 1, 1, 0, 1]]\n",
    "acc = CI(statistic=accuracy_score)\n",
    "acc(labels, pred)"
   ]
  },
  {
   "cell_type": "code",
   "execution_count": null,
   "metadata": {},
   "outputs": [],
   "source": []
  },
  {
   "cell_type": "code",
   "execution_count": 3,
   "metadata": {},
   "outputs": [
    {
     "data": {
      "text/plain": [
       "0.8"
      ]
     },
     "execution_count": 3,
     "metadata": {},
     "output_type": "execute_result"
    }
   ],
   "source": [
    "accuracy_score(labels, pred)"
   ]
  }
 ],
 "metadata": {
  "kernelspec": {
   "display_name": "Python 3",
   "language": "python",
   "name": "python3"
  },
  "language_info": {
   "codemirror_mode": {
    "name": "ipython",
    "version": 3
   },
   "file_extension": ".py",
   "mimetype": "text/x-python",
   "name": "python",
   "nbconvert_exporter": "python",
   "pygments_lexer": "ipython3",
   "version": "3.8.5"
  }
 },
 "nbformat": 4,
 "nbformat_minor": 4
}
