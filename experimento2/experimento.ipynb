{
 "cells": [
  {
   "cell_type": "markdown",
   "metadata": {},
   "source": [
    "# Experimento\n",
    "\n",
    "El propósito de este experimento es encontrar una situación en la que de tres experimentos que tienen un rendimiento similar, al obtener diferencias con el \"ganador\" o \"más alto desempeño\" las diferencias con el más cercano competidor son significativas pero con el tercer competidor no lo son."
   ]
  },
  {
   "cell_type": "code",
   "execution_count": 61,
   "metadata": {},
   "outputs": [],
   "source": [
    "import numpy as np\n",
    "import pandas as pd\n",
    "import matplotlib.pyplot as plt\n",
    "import seaborn as sns\n",
    "from sklearn.metrics import confusion_matrix, classification_report\n",
    "from CompStats import performance, plot_performance\n",
    "from CompStats import difference, plot_difference\n",
    "from sklearn.metrics import f1_score"
   ]
  },
  {
   "cell_type": "code",
   "execution_count": 62,
   "metadata": {},
   "outputs": [],
   "source": [
    "# La siguiente función da como salida una copia del vector de entrada, alterando aleatoriamente una proporcion \"prop\" de los valores de entrada.\n",
    "# la función está pensada en valor 0 y 1.\n",
    "def alterar_vector(vector, prop):\n",
    "    # Número total de elementos a modificar\n",
    "    n_alterar = int(len(vector) * prop)\n",
    "    \n",
    "    # Índices aleatorios de los elementos a modificar\n",
    "    indices_a_modificar = np.random.choice(len(vector), size=n_alterar, replace=False)\n",
    "    \n",
    "    # Alterar los valores en los índices seleccionados\n",
    "    vector_modificado = vector.copy()\n",
    "    vector_modificado[indices_a_modificar] = 1 - vector_modificado[indices_a_modificar]\n",
    "    \n",
    "    return vector_modificado\n"
   ]
  },
  {
   "cell_type": "markdown",
   "metadata": {},
   "source": [
    "## Parámetros del experimento\n",
    "Los parámetros utilizados son:\n",
    "\n",
    "$n$ es el número de valores del dataset.\n",
    "\n",
    "'prob_1_col1' es $P(X=1)$, por lo tanto $P(X=0)=1-P(X=1)$\n",
    "\n",
    "'prob_1_col2_given_col1_1' es $P(y=1|X = 1)$, por lo que $P(y=0|X = 1) = 1-P(y=1|X = 1)$\n",
    "\n",
    "'prob_1_col2_given_col1_0' es $P(y=1|X = 0)$, por lo que $P(y=0|X = 0) = 1-P(y=1|X = 0)$\n"
   ]
  },
  {
   "cell_type": "code",
   "execution_count": 63,
   "metadata": {},
   "outputs": [],
   "source": [
    "\n",
    "# Parámetros\n",
    "n = 500\n",
    "prob_1_col1 = 0.6\n",
    "prob_1_col2_given_col1_1 = 0.8\n",
    "prob_1_col2_given_col1_0 = 0.3\n",
    "p12 = 0.08\n",
    "p3 = 0.36\n"
   ]
  },
  {
   "cell_type": "markdown",
   "metadata": {},
   "source": [
    "A partir de los parámetros anteriores se obtiene un dataframe 'dforiginal' cuya primer columna denominada 'X' es un vector de $n$ valores de aproximadamente $n_1 = n * P(X = 1)$ valores $1$ y $n_0 = n * P(X = 0)$ valores $0$ . \n",
    "\n",
    "La segunda columna se denomina 'y' será el *ground truth* y tendrá aproximadamente $[n * (P(y=1|X = 1) + P(y=1|X = 0))]$ valores $1$ y  $[n * (P(y=0|X = 1) + P(y=0|X = 0))]$ valores $0$. \n",
    "\n",
    "La tercer columna denominada 'pred1' se obtiene al azar siguiendo la misma forma de construcción que la segunda columna. No significa que son columnas iguales.\n",
    "\n",
    "La cuarta columna llamada 'pred2' es una copia de 'pred1' alterando al azar aproximadamente el $8\\%$ de los valores.\n",
    "\n",
    "Por último, la quinta columna denominada 'pred3' es una copia del *ground truth*  'y' alterando al azar aproximadamente el $36\\%$.\n"
   ]
  },
  {
   "cell_type": "code",
   "execution_count": 64,
   "metadata": {},
   "outputs": [
    {
     "name": "stdout",
     "output_type": "stream",
     "text": [
      "   X  y  pred1  pred2  pred3\n",
      "0  1  1      1      1      1\n",
      "1  0  0      1      1      1\n",
      "2  0  0      0      1      0\n",
      "3  1  1      1      1      0\n",
      "4  1  1      1      1      1\n"
     ]
    }
   ],
   "source": [
    "np.random.seed(0)\n",
    "# Generar la primera columna con 60% de 1's y 40% de 0's\n",
    "col1 = np.random.choice([1, 0], size=n, p=[prob_1_col1, 1-prob_1_col1])\n",
    "\n",
    "# Generar la segunda columna basada en la primera\n",
    "col2 = np.array([\n",
    "    np.random.choice([1, 0], p=[prob_1_col2_given_col1_1, 1-prob_1_col2_given_col1_1]) if val == 1 \n",
    "    else np.random.choice([1, 0], p=[prob_1_col2_given_col1_0, 1-prob_1_col2_given_col1_0]) \n",
    "    for val in col1\n",
    "])\n",
    "col3 = np.array([\n",
    "    np.random.choice([1, 0], p=[prob_1_col2_given_col1_1, 1-prob_1_col2_given_col1_1]) if val == 1 \n",
    "    else np.random.choice([1, 0], p=[prob_1_col2_given_col1_0, 1-prob_1_col2_given_col1_0]) \n",
    "    for val in col1\n",
    "])\n",
    "\n",
    "col4 = alterar_vector(col3,p12)\n",
    "col5 = alterar_vector(col2,p3)\n",
    "\n",
    "# Crear el DataFrame\n",
    "dforiginal = pd.DataFrame({'X': col1, 'y': col2, 'pred1': col3,'pred2': col4,'pred3': col5})\n",
    "\n",
    "# Mostrar el DataFrame\n",
    "print(dforiginal.head())\n",
    "\n",
    "\n"
   ]
  },
  {
   "cell_type": "markdown",
   "metadata": {},
   "source": [
    "Ahora creamos el dataframe 'df' con el *ground truth* y las tres predicciones, es decir se omite la columna 'X' que se utilizó como mecanismo de creación de 'y', 'pred1' y 'pred2' (este último de forma indirecta)."
   ]
  },
  {
   "cell_type": "code",
   "execution_count": 65,
   "metadata": {},
   "outputs": [],
   "source": [
    "df = dforiginal.iloc[:,1:]"
   ]
  },
  {
   "cell_type": "markdown",
   "metadata": {},
   "source": [
    "Como se puede ver a continuación con el reporte de clasificación de las tres predicciones, son similares los resultados a primera vista."
   ]
  },
  {
   "cell_type": "code",
   "execution_count": 66,
   "metadata": {},
   "outputs": [
    {
     "name": "stdout",
     "output_type": "stream",
     "text": [
      "              precision    recall  f1-score   support\n",
      "\n",
      "           0       0.57      0.58      0.57       204\n",
      "           1       0.71      0.70      0.70       296\n",
      "\n",
      "    accuracy                           0.65       500\n",
      "   macro avg       0.64      0.64      0.64       500\n",
      "weighted avg       0.65      0.65      0.65       500\n",
      "\n",
      "              precision    recall  f1-score   support\n",
      "\n",
      "           0       0.53      0.54      0.53       204\n",
      "           1       0.68      0.67      0.67       296\n",
      "\n",
      "    accuracy                           0.61       500\n",
      "   macro avg       0.60      0.60      0.60       500\n",
      "weighted avg       0.62      0.61      0.61       500\n",
      "\n",
      "              precision    recall  f1-score   support\n",
      "\n",
      "           0       0.55      0.67      0.60       204\n",
      "           1       0.73      0.62      0.67       296\n",
      "\n",
      "    accuracy                           0.64       500\n",
      "   macro avg       0.64      0.64      0.64       500\n",
      "weighted avg       0.66      0.64      0.64       500\n",
      "\n"
     ]
    }
   ],
   "source": [
    "print(classification_report(df.y,df.pred1))\n",
    "print(classification_report(df.y,df.pred2))\n",
    "print(classification_report(df.y,df.pred3))"
   ]
  },
  {
   "cell_type": "markdown",
   "metadata": {},
   "source": [
    "## Bootstrap para inferencia\n",
    "\n",
    "A continuación se obtendrán las muestras *bootstrap* para hacer inferencia sobre la métrica de desempeño de las tres predicciones.\n",
    "\n",
    "Primero definimos o seleccionamos la métrica, en este caso *f1-score*. Posteriormente se calcula la métrica *f1-score* para '1000' muestras *bootstrap* del dataset."
   ]
  },
  {
   "cell_type": "code",
   "execution_count": 67,
   "metadata": {},
   "outputs": [],
   "source": [
    "score = lambda y, hy: f1_score(y, hy)\n",
    "perf = performance(df, score=score,num_samples=1000)"
   ]
  },
  {
   "cell_type": "markdown",
   "metadata": {},
   "source": [
    "A partir de las muestras *bootstrap* de rendimiento obtenemos el intervalo de confianza del $95\\%$ para cada predicción. Como se puede apreciar, los intervalos de confianza se traslapan, aunque 'pred1' se aprecia que tiene mejor desempeño. De hecho, de estos datos el orden de desempeño sería 'pred1', 'pred2', 'pred3'."
   ]
  },
  {
   "cell_type": "code",
   "execution_count": 68,
   "metadata": {},
   "outputs": [
    {
     "data": {
      "image/png": "[encoded data removed]",
      "text/plain": [
       "<Figure size 512.222x500 with 1 Axes>"
      ]
     },
     "metadata": {},
     "output_type": "display_data"
    }
   ],
   "source": [
    "face_grid = plot_performance(perf)"
   ]
  },
  {
   "cell_type": "markdown",
   "metadata": {},
   "source": [
    "Ahora, para poder responder la pregunta si una predicción es mejor que otra obtenemos las diferencias de rendimiento comparando contra el *mejor*, es decir contra 'pred1'"
   ]
  },
  {
   "cell_type": "code",
   "execution_count": 69,
   "metadata": {},
   "outputs": [
    {
     "data": {
      "text/plain": [
       "{'best': 'pred1'}"
      ]
     },
     "execution_count": 69,
     "metadata": {},
     "output_type": "execute_result"
    }
   ],
   "source": [
    "diff = difference(perf)\n",
    "diff.info"
   ]
  },
  {
   "cell_type": "markdown",
   "metadata": {},
   "source": [
    "Al graficar los intervalos de confianza de las diferencias contra el mejor, podemos apreciar que al evaluar el intervalo de confianza de 'pred1'-'pred2', el intervalo de confianza es angosto dada la gran asociación entre las dos predicciones, pero es suficientemente distinta de cero como para que sea significativa.  \n",
    "\n",
    "En cambio, en el caso de 'pred1'-'pred3' es un intervalo más amplio, dado que no tienen una asociación debido al mecanismo de simulación, y la diferencia no es significativa.\n"
   ]
  },
  {
   "cell_type": "code",
   "execution_count": 70,
   "metadata": {},
   "outputs": [
    {
     "data": {
      "image/png": "[encoded data removed]",
      "text/plain": [
       "<Figure size 592.5x500 with 1 Axes>"
      ]
     },
     "metadata": {},
     "output_type": "display_data"
    }
   ],
   "source": [
    "face_grid_diff = plot_difference(diff)"
   ]
  },
  {
   "cell_type": "code",
   "execution_count": 71,
   "metadata": {},
   "outputs": [
    {
     "name": "stdout",
     "output_type": "stream",
     "text": [
      "y    0    1\n",
      "X          \n",
      "0  142   54\n",
      "1   62  242\n",
      "pred1    0    1\n",
      "X              \n",
      "0      142   54\n",
      "1       65  239\n",
      "pred2    0    1\n",
      "X              \n",
      "0      134   62\n",
      "1       75  229\n",
      "pred3    0    1\n",
      "X              \n",
      "0      108   88\n",
      "1      140  164\n"
     ]
    }
   ],
   "source": [
    "print(pd.crosstab(dforiginal.X,dforiginal.y))\n",
    "print(pd.crosstab(dforiginal.X,dforiginal.pred1))\n",
    "print(pd.crosstab(dforiginal.X,dforiginal.pred2))\n",
    "print(pd.crosstab(dforiginal.X,dforiginal.pred3))"
   ]
  },
  {
   "cell_type": "code",
   "execution_count": 72,
   "metadata": {},
   "outputs": [
    {
     "name": "stdout",
     "output_type": "stream",
     "text": [
      "y         0         1\n",
      "X                    \n",
      "0  0.724490  0.275510\n",
      "1  0.203947  0.796053\n",
      "pred1         0         1\n",
      "X                        \n",
      "0      0.724490  0.275510\n",
      "1      0.213816  0.786184\n",
      "pred2         0         1\n",
      "X                        \n",
      "0      0.683673  0.316327\n",
      "1      0.246711  0.753289\n",
      "pred3         0         1\n",
      "X                        \n",
      "0      0.551020  0.448980\n",
      "1      0.460526  0.539474\n"
     ]
    }
   ],
   "source": [
    "# normalización por renglón\n",
    "print(pd.crosstab(dforiginal.X,dforiginal.y,normalize='index'))\n",
    "print(pd.crosstab(dforiginal.X,dforiginal.pred1,normalize='index'))\n",
    "print(pd.crosstab(dforiginal.X,dforiginal.pred2,normalize='index'))\n",
    "print(pd.crosstab(dforiginal.X,dforiginal.pred3,normalize='index'))"
   ]
  },
  {
   "cell_type": "code",
   "execution_count": 73,
   "metadata": {},
   "outputs": [
    {
     "name": "stdout",
     "output_type": "stream",
     "text": [
      "pred1    0    1\n",
      "y              \n",
      "0      118   86\n",
      "1       89  207\n",
      "pred2    0    1\n",
      "y              \n",
      "0      110   94\n",
      "1       99  197\n",
      "pred3    0    1\n",
      "y              \n",
      "0      136   68\n",
      "1      112  184\n"
     ]
    }
   ],
   "source": [
    "print(pd.crosstab(dforiginal.y,dforiginal.pred1))\n",
    "print(pd.crosstab(dforiginal.y,dforiginal.pred2))\n",
    "print(pd.crosstab(dforiginal.y,dforiginal.pred3))"
   ]
  },
  {
   "cell_type": "markdown",
   "metadata": {},
   "source": [
    "Recuerde que:\n",
    "\n",
    "$Accuracy = \\frac{TP+TN}{TP+TN+FP+FN}$\n",
    "\n",
    "$Precision = \\frac{TP}{TP+FP}$\n",
    "\n",
    "$Recall = \\frac{TP}{TP+FN}$\n",
    "\n",
    "$F1 = \\frac{2*Precision*Recall}{Precision+Recall} = \\frac{2*TP}{2*TP+FP+FN}$"
   ]
  },
  {
   "cell_type": "code",
   "execution_count": 74,
   "metadata": {},
   "outputs": [
    {
     "name": "stdout",
     "output_type": "stream",
     "text": [
      "0.7028862478777589\n",
      "0.6712095400340715\n",
      "0.6715328467153284\n"
     ]
    }
   ],
   "source": [
    "print(f1_score(df.y,df.pred1))\n",
    "print(f1_score(df.y,df.pred2))\n",
    "print(f1_score(df.y,df.pred3))"
   ]
  },
  {
   "cell_type": "code",
   "execution_count": 75,
   "metadata": {},
   "outputs": [
    {
     "name": "stdout",
     "output_type": "stream",
     "text": [
      "pred2    0    1\n",
      "pred1          \n",
      "0      188   19\n",
      "1       21  272\n",
      "pred3    0    1\n",
      "pred1          \n",
      "0       98  109\n",
      "1      150  143\n"
     ]
    }
   ],
   "source": [
    "print(pd.crosstab(dforiginal.pred1,dforiginal.pred2))\n",
    "print(pd.crosstab(dforiginal.pred1,dforiginal.pred3))"
   ]
  },
  {
   "cell_type": "code",
   "execution_count": 76,
   "metadata": {},
   "outputs": [],
   "source": [
    "np.random.seed(0)\n",
    "nsim = 1000\n",
    "results = []\n",
    "for i in range(nsim):\n",
    "    # Generar la primera columna con 60% de 1's y 40% de 0's\n",
    "    col1 = np.random.choice([1, 0], size=n, p=[prob_1_col1, 1-prob_1_col1])\n",
    "    # Generar la segunda columna basada en la primera\n",
    "    col2 = np.array([\n",
    "        np.random.choice([1, 0], p=[prob_1_col2_given_col1_1, 1-prob_1_col2_given_col1_1]) if val == 1 \n",
    "        else np.random.choice([1, 0], p=[prob_1_col2_given_col1_0, 1-prob_1_col2_given_col1_0]) \n",
    "        for val in col1\n",
    "    ])\n",
    "    col3 = np.array([\n",
    "    np.random.choice([1, 0], p=[prob_1_col2_given_col1_1, 1-prob_1_col2_given_col1_1]) if val == 1 \n",
    "    else np.random.choice([1, 0], p=[prob_1_col2_given_col1_0, 1-prob_1_col2_given_col1_0]) \n",
    "    for val in col1\n",
    "    ])\n",
    "    col4 = alterar_vector(col3,p12)\n",
    "    col5 = alterar_vector(col2,p3)\n",
    "\n",
    "    results.append((f1_score(col2,col3),f1_score(col2,col4),f1_score(col2,col5)))"
   ]
  },
  {
   "cell_type": "code",
   "execution_count": 77,
   "metadata": {},
   "outputs": [
    {
     "data": {
      "text/html": [
       "<div>\n",
       "<style scoped>\n",
       "    .dataframe tbody tr th:only-of-type {\n",
       "        vertical-align: middle;\n",
       "    }\n",
       "\n",
       "    .dataframe tbody tr th {\n",
       "        vertical-align: top;\n",
       "    }\n",
       "\n",
       "    .dataframe thead th {\n",
       "        text-align: right;\n",
       "    }\n",
       "</style>\n",
       "<table border=\"1\" class=\"dataframe\">\n",
       "  <thead>\n",
       "    <tr style=\"text-align: right;\">\n",
       "      <th></th>\n",
       "      <th>f1_m1</th>\n",
       "      <th>f1_m2</th>\n",
       "      <th>f1_m3</th>\n",
       "    </tr>\n",
       "  </thead>\n",
       "  <tbody>\n",
       "    <tr>\n",
       "      <th>count</th>\n",
       "      <td>1000.000000</td>\n",
       "      <td>1000.000000</td>\n",
       "      <td>1000.000000</td>\n",
       "    </tr>\n",
       "    <tr>\n",
       "      <th>mean</th>\n",
       "      <td>0.698179</td>\n",
       "      <td>0.675110</td>\n",
       "      <td>0.679684</td>\n",
       "    </tr>\n",
       "    <tr>\n",
       "      <th>std</th>\n",
       "      <td>0.021429</td>\n",
       "      <td>0.022064</td>\n",
       "      <td>0.009889</td>\n",
       "    </tr>\n",
       "    <tr>\n",
       "      <th>min</th>\n",
       "      <td>0.624573</td>\n",
       "      <td>0.605536</td>\n",
       "      <td>0.647059</td>\n",
       "    </tr>\n",
       "    <tr>\n",
       "      <th>25%</th>\n",
       "      <td>0.684430</td>\n",
       "      <td>0.660698</td>\n",
       "      <td>0.672727</td>\n",
       "    </tr>\n",
       "    <tr>\n",
       "      <th>50%</th>\n",
       "      <td>0.699064</td>\n",
       "      <td>0.674956</td>\n",
       "      <td>0.679715</td>\n",
       "    </tr>\n",
       "    <tr>\n",
       "      <th>75%</th>\n",
       "      <td>0.712159</td>\n",
       "      <td>0.690804</td>\n",
       "      <td>0.686411</td>\n",
       "    </tr>\n",
       "    <tr>\n",
       "      <th>max</th>\n",
       "      <td>0.772152</td>\n",
       "      <td>0.746032</td>\n",
       "      <td>0.705882</td>\n",
       "    </tr>\n",
       "  </tbody>\n",
       "</table>\n",
       "</div>"
      ],
      "text/plain": [
       "             f1_m1        f1_m2        f1_m3\n",
       "count  1000.000000  1000.000000  1000.000000\n",
       "mean      0.698179     0.675110     0.679684\n",
       "std       0.021429     0.022064     0.009889\n",
       "min       0.624573     0.605536     0.647059\n",
       "25%       0.684430     0.660698     0.672727\n",
       "50%       0.699064     0.674956     0.679715\n",
       "75%       0.712159     0.690804     0.686411\n",
       "max       0.772152     0.746032     0.705882"
      ]
     },
     "execution_count": 77,
     "metadata": {},
     "output_type": "execute_result"
    }
   ],
   "source": [
    "results_df = pd.DataFrame(results,columns = ['f1_m1','f1_m2','f1_m3'])\n",
    "results_df.describe()"
   ]
  },
  {
   "cell_type": "code",
   "execution_count": 78,
   "metadata": {},
   "outputs": [
    {
     "data": {
      "image/png": "[encoded data removed]",
      "text/plain": [
       "<Figure size 640x480 with 2 Axes>"
      ]
     },
     "metadata": {},
     "output_type": "display_data"
    }
   ],
   "source": [
    "sns.set_theme(style=\"darkgrid\")\n",
    " \n",
    "# creating a figure composed of two matplotlib.Axes objects (ax_box and ax_hist)\n",
    "f, (ax_box, ax_hist) = plt.subplots(2, sharex=True, gridspec_kw={\"height_ratios\": (.15, .85)})\n",
    " \n",
    "# assigning a graph to each ax\n",
    "sns.boxplot(results_df['f1_m1'], orient=\"h\", ax=ax_box)\n",
    "sns.histplot(data=results_df, x='f1_m1', ax=ax_hist)\n",
    " \n",
    "# Remove x axis name for the boxplot\n",
    "ax_box.set(xlabel='')\n",
    "plt.show()"
   ]
  },
  {
   "cell_type": "code",
   "execution_count": 79,
   "metadata": {},
   "outputs": [
    {
     "data": {
      "image/png": "[encoded data removed]",
      "text/plain": [
       "<Figure size 640x480 with 2 Axes>"
      ]
     },
     "metadata": {},
     "output_type": "display_data"
    }
   ],
   "source": [
    "sns.set_theme(style=\"darkgrid\")\n",
    " \n",
    "# creating a figure composed of two matplotlib.Axes objects (ax_box and ax_hist)\n",
    "f, (ax_box, ax_hist) = plt.subplots(2, sharex=True, gridspec_kw={\"height_ratios\": (.15, .85)})\n",
    " \n",
    "# assigning a graph to each ax\n",
    "sns.boxplot(results_df['f1_m2'], orient=\"h\", ax=ax_box)\n",
    "sns.histplot(data=results_df, x='f1_m2', ax=ax_hist)\n",
    " \n",
    "# Remove x axis name for the boxplot\n",
    "ax_box.set(xlabel='')\n",
    "plt.show()"
   ]
  },
  {
   "cell_type": "code",
   "execution_count": 80,
   "metadata": {},
   "outputs": [
    {
     "data": {
      "image/png": "[encoded data removed]",
      "text/plain": [
       "<Figure size 640x480 with 2 Axes>"
      ]
     },
     "metadata": {},
     "output_type": "display_data"
    }
   ],
   "source": [
    "sns.set_theme(style=\"darkgrid\")\n",
    " \n",
    "# creating a figure composed of two matplotlib.Axes objects (ax_box and ax_hist)\n",
    "f, (ax_box, ax_hist) = plt.subplots(2, sharex=True, gridspec_kw={\"height_ratios\": (.15, .85)})\n",
    " \n",
    "# assigning a graph to each ax\n",
    "sns.boxplot(results_df['f1_m3'], orient=\"h\", ax=ax_box)\n",
    "sns.histplot(data=results_df, x='f1_m3', ax=ax_hist)\n",
    " \n",
    "# Remove x axis name for the boxplot\n",
    "\n",
    "ax_box.set(xlabel='')\n",
    "plt.show()"
   ]
  }
 ],
 "metadata": {
  "kernelspec": {
   "display_name": "Python 3",
   "language": "python",
   "name": "python3"
  },
  "language_info": {
   "codemirror_mode": {
    "name": "ipython",
    "version": 3
   },
   "file_extension": ".py",
   "mimetype": "text/x-python",
   "name": "python",
   "nbconvert_exporter": "python",
   "pygments_lexer": "ipython3",
   "version": "3.11.7"
  }
 },
 "nbformat": 4,
 "nbformat_minor": 2
}
