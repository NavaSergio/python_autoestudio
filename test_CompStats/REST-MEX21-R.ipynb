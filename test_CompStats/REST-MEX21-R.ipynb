{
 "cells": [
  {
   "cell_type": "markdown",
   "metadata": {
    "id": "wGizC3XikMtk"
   },
   "source": [
    "<p><img alt=\"Colaboratory logo\" height=\"50px\" src=\"https://github.com/INGEOTEC/text_models/raw/master/docs/source/ingeotec.png\" align=\"left\" hspace=\"10px\" vspace=\"0px\" /></p>\n",
    "\n",
    "# CompStats\n",
    "## Quickstart Guide\n",
    "\n",
    "### <http://compstats.readthedocs.org>\n",
    "\n"
   ]
  },
  {
   "cell_type": "markdown",
   "metadata": {
    "id": "u-QV6DJYaQjg"
   },
   "source": [
    "## Installing CompStats"
   ]
  },
  {
   "cell_type": "code",
   "execution_count": 13,
   "metadata": {
    "id": "ISeelAVIJc59"
   },
   "outputs": [],
   "source": [
    "# !python -m pip uninstall CompStats"
   ]
  },
  {
   "cell_type": "code",
   "execution_count": 14,
   "metadata": {
    "id": "_4WTIJx5H9ii"
   },
   "outputs": [],
   "source": [
    "# !pip install -U git+https://github.com/INGEOTEC/CompStats@develop"
   ]
  },
  {
   "cell_type": "markdown",
   "metadata": {
    "id": "2sFWAgM0H3La"
   },
   "source": [
    "First, we need to install CompStats. This can be quickly done through pip, the Python package manager."
   ]
  },
  {
   "cell_type": "code",
   "execution_count": 15,
   "metadata": {
    "colab": {
     "base_uri": "https://localhost:8080/"
    },
    "id": "k2UzLxhkkMtp",
    "outputId": "dbadd757-1706-49ed-b866-539afbe92f71"
   },
   "outputs": [],
   "source": [
    "try:\n",
    "  import CompStats\n",
    "except ImportError:\n",
    "    !pip install Compstats\n",
    "    # !pip install -U git+https://github.com/INGEOTEC/CompStats@develop"
   ]
  },
  {
   "cell_type": "markdown",
   "metadata": {
    "id": "pqJKAfenkMtr"
   },
   "source": [
    "## Libraries"
   ]
  },
  {
   "cell_type": "markdown",
   "metadata": {
    "id": "ifWsyR9mH7-o"
   },
   "source": [
    "After installing `CompStats`, we must import the necessary libraries for our analysis. `CompStats` relies on several Python libraries for data analysis and scientific computing.\n",
    "\n",
    "The first line of the following code loads two functions from the `CompStats` library. The `performance` function is used to calculate and analyze the performance of machine learning models. On the other hand, the `plot_performance` function visualizes the performance metrics calculated by `performance`, such as accuracy or F1 score, along with confidence intervals to help understand the variability and reliability of the performance metrics.\n",
    "\n",
    "The second line imports two functions: `difference` and `plot_difference`; `difference` assesses the differences in performance between models in comparison to the best system, and `plot_difference` visually represents these differences relative to the best system.\n",
    "\n",
    "The third line imports two functions: `all_differences` and `difference_p_value`. `all_differences` evaluates the differences in performance between all models, and `difference_p_value` estimates the p-value of the hypothesis that the difference is significantly greater than zero.\n",
    "\n",
    "The fourth line imports the function `multipletests`that is used for adjusting p-values when multiple hypothesis tests are performed, to control for the false discovery rate or family-wise error rate.\n",
    "\n",
    "The rest of the lines load commonly used Python libraries."
   ]
  },
  {
   "cell_type": "code",
   "execution_count": 16,
   "metadata": {
    "id": "rUVyzgMokMts"
   },
   "outputs": [],
   "source": [
    "from CompStats import performance, plot_performance\n",
    "from CompStats import difference, plot_difference\n",
    "from CompStats import all_differences, difference_p_value\n",
    "from statsmodels.stats.multitest import multipletests\n",
    "from sklearn.metrics import mean_absolute_error as mae \n",
    "import pandas as pd"
   ]
  },
  {
   "cell_type": "markdown",
   "metadata": {
    "id": "DWcPnzA2HI-Y"
   },
   "source": [
    "# Dataset"
   ]
  },
  {
   "cell_type": "markdown",
   "metadata": {
    "id": "eKbW9vf-IASa"
   },
   "source": [
    "Once we have set up our environment, we can explore what CompStats offers. Let's begin with a basic example of how to use CompStats for a simple statistical analysis.\n",
    "\n",
    "To illustrate the use of CompStats, we will use a dataset included in the CompStats package. The path of the dataset is found with the following instructions. The variable `DATA` contains the path as shown below.  "
   ]
  },
  {
   "cell_type": "code",
   "execution_count": 25,
   "metadata": {
    "colab": {
     "base_uri": "https://localhost:8080/",
     "height": 36
    },
    "id": "8TGr5Jh6HIPR",
    "outputId": "b16c1843-a520-4b42-b653-84aee799f963"
   },
   "outputs": [],
   "source": [
    "# from CompStats.tests.test_performance import DATA\n",
    "DATA = 'RES-MEX2021_recomendation.csv'"
   ]
  },
  {
   "cell_type": "markdown",
   "metadata": {
    "id": "seBE-afbkMts"
   },
   "source": [
    "`DATA` contains the information to compare six systems for a multiclass classification task. The next instruction loads the data into a dataframe."
   ]
  },
  {
   "cell_type": "code",
   "execution_count": 26,
   "metadata": {
    "id": "WFo5qGVGI5fg"
   },
   "outputs": [],
   "source": [
    "df = pd.read_csv(DATA)"
   ]
  },
  {
   "cell_type": "markdown",
   "metadata": {
    "id": "CnOx0jOAJw6H"
   },
   "source": [
    "The first five rows of `df` are shown below. It can be observed that the first column contains the gold standard, identified with `y`, and the rest of the columns are the predictions performed by different systems."
   ]
  },
  {
   "cell_type": "code",
   "execution_count": 27,
   "metadata": {},
   "outputs": [
    {
     "data": {
      "text/html": [
       "<div>\n",
       "<style scoped>\n",
       "    .dataframe tbody tr th:only-of-type {\n",
       "        vertical-align: middle;\n",
       "    }\n",
       "\n",
       "    .dataframe tbody tr th {\n",
       "        vertical-align: top;\n",
       "    }\n",
       "\n",
       "    .dataframe thead th {\n",
       "        text-align: right;\n",
       "    }\n",
       "</style>\n",
       "<table border=\"1\" class=\"dataframe\">\n",
       "  <thead>\n",
       "    <tr style=\"text-align: right;\">\n",
       "      <th></th>\n",
       "      <th>y</th>\n",
       "      <th>Alumni.MCE.2GEN.run1</th>\n",
       "      <th>Alumni.MCE.2GEN.run2</th>\n",
       "      <th>jorge.hermosillo.recommendation</th>\n",
       "      <th>mayoritariaRecomendacion</th>\n",
       "    </tr>\n",
       "  </thead>\n",
       "  <tbody>\n",
       "    <tr>\n",
       "      <th>0</th>\n",
       "      <td>5</td>\n",
       "      <td>5</td>\n",
       "      <td>5</td>\n",
       "      <td>4</td>\n",
       "      <td>5</td>\n",
       "    </tr>\n",
       "    <tr>\n",
       "      <th>1</th>\n",
       "      <td>5</td>\n",
       "      <td>5</td>\n",
       "      <td>5</td>\n",
       "      <td>5</td>\n",
       "      <td>5</td>\n",
       "    </tr>\n",
       "    <tr>\n",
       "      <th>2</th>\n",
       "      <td>5</td>\n",
       "      <td>5</td>\n",
       "      <td>5</td>\n",
       "      <td>4</td>\n",
       "      <td>5</td>\n",
       "    </tr>\n",
       "    <tr>\n",
       "      <th>3</th>\n",
       "      <td>5</td>\n",
       "      <td>5</td>\n",
       "      <td>5</td>\n",
       "      <td>1</td>\n",
       "      <td>5</td>\n",
       "    </tr>\n",
       "    <tr>\n",
       "      <th>4</th>\n",
       "      <td>5</td>\n",
       "      <td>5</td>\n",
       "      <td>5</td>\n",
       "      <td>1</td>\n",
       "      <td>5</td>\n",
       "    </tr>\n",
       "    <tr>\n",
       "      <th>...</th>\n",
       "      <td>...</td>\n",
       "      <td>...</td>\n",
       "      <td>...</td>\n",
       "      <td>...</td>\n",
       "      <td>...</td>\n",
       "    </tr>\n",
       "    <tr>\n",
       "      <th>676</th>\n",
       "      <td>1</td>\n",
       "      <td>5</td>\n",
       "      <td>5</td>\n",
       "      <td>1</td>\n",
       "      <td>5</td>\n",
       "    </tr>\n",
       "    <tr>\n",
       "      <th>677</th>\n",
       "      <td>1</td>\n",
       "      <td>5</td>\n",
       "      <td>5</td>\n",
       "      <td>3</td>\n",
       "      <td>5</td>\n",
       "    </tr>\n",
       "    <tr>\n",
       "      <th>678</th>\n",
       "      <td>1</td>\n",
       "      <td>5</td>\n",
       "      <td>5</td>\n",
       "      <td>1</td>\n",
       "      <td>5</td>\n",
       "    </tr>\n",
       "    <tr>\n",
       "      <th>679</th>\n",
       "      <td>1</td>\n",
       "      <td>5</td>\n",
       "      <td>5</td>\n",
       "      <td>5</td>\n",
       "      <td>5</td>\n",
       "    </tr>\n",
       "    <tr>\n",
       "      <th>680</th>\n",
       "      <td>1</td>\n",
       "      <td>5</td>\n",
       "      <td>5</td>\n",
       "      <td>1</td>\n",
       "      <td>5</td>\n",
       "    </tr>\n",
       "  </tbody>\n",
       "</table>\n",
       "<p>681 rows × 5 columns</p>\n",
       "</div>"
      ],
      "text/plain": [
       "     y  Alumni.MCE.2GEN.run1  Alumni.MCE.2GEN.run2  \\\n",
       "0    5                     5                     5   \n",
       "1    5                     5                     5   \n",
       "2    5                     5                     5   \n",
       "3    5                     5                     5   \n",
       "4    5                     5                     5   \n",
       "..  ..                   ...                   ...   \n",
       "676  1                     5                     5   \n",
       "677  1                     5                     5   \n",
       "678  1                     5                     5   \n",
       "679  1                     5                     5   \n",
       "680  1                     5                     5   \n",
       "\n",
       "     jorge.hermosillo.recommendation  mayoritariaRecomendacion  \n",
       "0                                  4                         5  \n",
       "1                                  5                         5  \n",
       "2                                  4                         5  \n",
       "3                                  1                         5  \n",
       "4                                  1                         5  \n",
       "..                               ...                       ...  \n",
       "676                                1                         5  \n",
       "677                                3                         5  \n",
       "678                                1                         5  \n",
       "679                                5                         5  \n",
       "680                                1                         5  \n",
       "\n",
       "[681 rows x 5 columns]"
      ]
     },
     "execution_count": 27,
     "metadata": {},
     "output_type": "execute_result"
    }
   ],
   "source": [
    "df"
   ]
  },
  {
   "cell_type": "markdown",
   "metadata": {
    "id": "sqI3FxmCI_pM"
   },
   "source": [
    "# Performance Anaylisis"
   ]
  },
  {
   "cell_type": "markdown",
   "metadata": {
    "id": "JR1B0lg4K85m"
   },
   "source": [
    "Let us start with the performance analysis of the different systems. The performance metric used is the weighted average F1 score. This performance is coded in the variable `score` as observed in the next instruction."
   ]
  },
  {
   "cell_type": "code",
   "execution_count": 28,
   "metadata": {
    "id": "IXHA4HRkLA9q"
   },
   "outputs": [],
   "source": [
    "score = lambda y, hy: mae(y, hy)"
   ]
  },
  {
   "cell_type": "markdown",
   "metadata": {
    "id": "xYCMtk-1LZtL"
   },
   "source": [
    "The next step is to compute the performance on the bootstrap samples; this is done with the function `performance`. The function has a few parameters; one is the `score`, which receives the metric used to measure the performance."
   ]
  },
  {
   "cell_type": "code",
   "execution_count": 29,
   "metadata": {
    "colab": {
     "base_uri": "https://localhost:8080/"
    },
    "id": "-96k0EbaLadL",
    "outputId": "cba38610-383b-402e-e8e2-f0fcdea5908e"
   },
   "outputs": [],
   "source": [
    "perf = performance(df, score=score,num_samples=1000)"
   ]
  },
  {
   "cell_type": "markdown",
   "metadata": {
    "id": "sEfBLwenQpND"
   },
   "source": [
    "`perf` is an instance of `StatisticSamples`, the bootstrap samples can be seen on the property `calls`. The first five bootstrap samples of the performance of INGEOTEC are shown below. -- It verifies that the key is in the dictionary in case the dataset has been changed. --"
   ]
  },
  {
   "cell_type": "code",
   "execution_count": 60,
   "metadata": {
    "colab": {
     "base_uri": "https://localhost:8080/"
    },
    "id": "IrbRfFuCQsGf",
    "outputId": "995bf6f7-02d8-4526-de25-4e56151d7f3b"
   },
   "outputs": [],
   "source": [
    "if 'INGEOTEC' in perf.calls:\n",
    "  print(f\"{perf.calls['INGEOTEC'][:5]}\")"
   ]
  },
  {
   "cell_type": "code",
   "execution_count": null,
   "metadata": {},
   "outputs": [],
   "source": []
  },
  {
   "cell_type": "markdown",
   "metadata": {
    "id": "SaUGXqEVJE6A"
   },
   "source": [
    "The performance of the systems, along with their confidence intervals, can be seen using the next instruction."
   ]
  },
  {
   "cell_type": "code",
   "execution_count": 30,
   "metadata": {
    "colab": {
     "base_uri": "https://localhost:8080/",
     "height": 506
    },
    "id": "djiadR9dkMts",
    "outputId": "fbd0675c-0933-4d6e-e142-633394526b61"
   },
   "outputs": [
    {
     "data": {
      "image/png": "[encoded data removed]",
      "text/plain": [
       "<Figure size 511.111x500 with 1 Axes>"
      ]
     },
     "metadata": {},
     "output_type": "display_data"
    }
   ],
   "source": [
    "face_grid = plot_performance(perf)"
   ]
  },
  {
   "cell_type": "markdown",
   "metadata": {
    "id": "eBmUNHXWR2pL"
   },
   "source": [
    "It can be observed that the best system is INGEOTEC. Although the confidence intervals provide information that helps to assess the difference in the performance of the systems, in this case, the intervals intersect. Therefore, one needs another statistical tool to determine if the difference in performance is significant."
   ]
  },
  {
   "cell_type": "markdown",
   "metadata": {
    "id": "hJ1gAxzkkMts"
   },
   "source": [
    "# Performance Comparison against the Winner"
   ]
  },
  {
   "cell_type": "markdown",
   "metadata": {
    "id": "peFwDTsNdRiz"
   },
   "source": [
    "The difference in their performance compared to the best-performing system can be used to compare the algorithms analyzed. The function `difference` computes the difference as shown below."
   ]
  },
  {
   "cell_type": "code",
   "execution_count": 31,
   "metadata": {
    "id": "0FXWINpdkMtt"
   },
   "outputs": [],
   "source": [
    "diff = difference(perf)"
   ]
  },
  {
   "cell_type": "markdown",
   "metadata": {
    "id": "2p_ppDE9dV0F"
   },
   "source": [
    "`diff` is an instance of `StatisticSamples`; one can find the best system on the property `info`, as the following instruction shows."
   ]
  },
  {
   "cell_type": "code",
   "execution_count": 32,
   "metadata": {
    "colab": {
     "base_uri": "https://localhost:8080/"
    },
    "id": "7oz3wbr6dr_m",
    "outputId": "a4b5e252-dcbe-4345-c5e5-e84acd3edce7"
   },
   "outputs": [
    {
     "data": {
      "text/plain": [
       "{'best': 'jorge.hermosillo.recommendation'}"
      ]
     },
     "execution_count": 32,
     "metadata": {},
     "output_type": "execute_result"
    }
   ],
   "source": [
    "diff.info"
   ]
  },
  {
   "cell_type": "markdown",
   "metadata": {
    "id": "iD_jAdwmd5QZ"
   },
   "source": [
    "The difference in performance can be visualized with the following instruction."
   ]
  },
  {
   "cell_type": "code",
   "execution_count": 33,
   "metadata": {
    "colab": {
     "base_uri": "https://localhost:8080/",
     "height": 529
    },
    "id": "obO7DOUWdW52",
    "outputId": "38b7de59-4aea-43b7-d3dc-eae94c6f19d6"
   },
   "outputs": [
    {
     "data": {
      "image/png": "[encoded data removed]",
      "text/plain": [
       "<Figure size 511.111x500 with 1 Axes>"
      ]
     },
     "metadata": {},
     "output_type": "display_data"
    }
   ],
   "source": [
    "face_grid_diff = plot_difference(diff)"
   ]
  },
  {
   "cell_type": "markdown",
   "metadata": {
    "id": "aHlFz543kMtt"
   },
   "source": [
    "From the performance graphs, for this example, we can observe that the ranking is *INGEOTEC*, *BoW*, *StackBoW*, *BoW (Corpus)*, *Dense*, *Bow (Class Weight)*. Hence, in the last graph, we analyze the performance difference against the winner (INGEOTEC). From this graph, we can conclude that *BoW* and *StackBoW*, might perform similarly to INGEOTEC.\n",
    "\n",
    "Should we test the hypothesis of equality versus difference, considering that one system outperforms the other in the test? To address this question, we compare the performance of two systems, $A$ and $B$, to determine whether $A$ is superior to $B$ in a larger data population, represented as $\\theta_A > \\theta_B$. We can estimate the p-value associated with the hypothesis test $H_0: \\theta_A \\le \\theta_B$ vs $H_1: \\theta_A > \\theta_B$ given the data, equivalently $H_0: \\theta_A< -  \\theta_B\\le 0$ vs $H_1: \\theta_A - \\theta_B > 0$. The p-values for these differences can be estimated using the following instruction, comparing them against the winner (INGEOTEC) to determine the probability that $a$ (INGEOTEC) is better than $b$.\n",
    "\n",
    "The `difference_p_value` function estimates the p-value for each difference in comparison to the best system, as illustrated below.\n"
   ]
  },
  {
   "cell_type": "code",
   "execution_count": 20,
   "metadata": {
    "id": "83DAxZ18kMtt"
   },
   "outputs": [],
   "source": [
    "p_values = difference_p_value(diff)"
   ]
  },
  {
   "cell_type": "markdown",
   "metadata": {
    "id": "WEEPzr4l2BMn"
   },
   "source": [
    "For a given $\\alpha$ level, p-values smaller than $\\alpha$  are significant, meaning the observed difference is unlikely to be due to chance. An $\\alpha$ level of 0.05 is commonly used."
   ]
  },
  {
   "cell_type": "code",
   "execution_count": 21,
   "metadata": {
    "colab": {
     "base_uri": "https://localhost:8080/"
    },
    "id": "p2VtUMvS0Z4k",
    "outputId": "6a3cf917-98da-46ed-a103-4faf13725e53"
   },
   "outputs": [
    {
     "data": {
      "text/plain": [
       "{'CENAmrita': 0.0,\n",
       " 'aomar': 0.0,\n",
       " 'xjywing': 0.0,\n",
       " 'HugoJair': 0.0,\n",
       " 'Dong': 0.0,\n",
       " 'Timen': 0.0,\n",
       " 'Qu': 0.0,\n",
       " 'CICIPN': 0.0,\n",
       " 'UMUTeam': 0.002,\n",
       " 'CIMATMTYGTO': 0.0,\n",
       " 'CIMATGTO': 0.013,\n",
       " 'DCCDINFOTEC': 0.036,\n",
       " 'villacu67': 0.045}"
      ]
     },
     "execution_count": 21,
     "metadata": {},
     "output_type": "execute_result"
    }
   ],
   "source": [
    "p_values"
   ]
  },
  {
   "cell_type": "code",
   "execution_count": 22,
   "metadata": {},
   "outputs": [
    {
     "data": {
      "text/plain": [
       "{'CENAmrita': 0.0,\n",
       " 'aomar': 0.0,\n",
       " 'xjywing': 0.0,\n",
       " 'HugoJair': 0.0,\n",
       " 'Dong': 0.0,\n",
       " 'Timen': 0.0,\n",
       " 'Qu': 0.0,\n",
       " 'CICIPN': 0.0,\n",
       " 'UMUTeam': 0.026000000000000002,\n",
       " 'CIMATMTYGTO': 0.0,\n",
       " 'CIMATGTO': 0.16899999999999998,\n",
       " 'DCCDINFOTEC': 0.46799999999999997,\n",
       " 'villacu67': 0.585}"
      ]
     },
     "execution_count": 22,
     "metadata": {},
     "output_type": "execute_result"
    }
   ],
   "source": [
    "result = multipletests(list(p_values.values()), method='bonferroni')\n",
    "p_valuesC = dict(zip(p_values.keys(),result[1]))\n",
    "p_valuesC"
   ]
  },
  {
   "cell_type": "markdown",
   "metadata": {
    "id": "rt21qMcDkMtu"
   },
   "source": [
    "# Performance comparison between all models\n",
    "\n",
    "Similarly, the differences for each pair of variables between all models can be estimated using the function `all_differences`, as illustrated in the following instructions. This approach allows for a comprehensive analysis of how each model compares to the others, providing a statistical basis to understand the significance of performance variations among them. This method extends the comparative analysis, offering a detailed view of the competitive landscape of model performance."
   ]
  },
  {
   "cell_type": "code",
   "execution_count": 23,
   "metadata": {
    "id": "6ehkDIH_kMtu"
   },
   "outputs": [],
   "source": [
    "all_diff = all_differences(perf)"
   ]
  },
  {
   "cell_type": "markdown",
   "metadata": {
    "id": "CC2hR4w_4IzC"
   },
   "source": [
    "Once again, we use the function `difference_p_value` to estimate the p-value."
   ]
  },
  {
   "cell_type": "code",
   "execution_count": 24,
   "metadata": {
    "id": "x2vlIMNc3h5W"
   },
   "outputs": [],
   "source": [
    "p_values = difference_p_value(all_diff)"
   ]
  },
  {
   "cell_type": "markdown",
   "metadata": {
    "id": "192xc-_24chZ"
   },
   "source": [
    "And we can analyze from all pairs of systems individually which ones have significantly different performances by comparing their p-value with $\\alpha$."
   ]
  },
  {
   "cell_type": "code",
   "execution_count": 25,
   "metadata": {
    "colab": {
     "base_uri": "https://localhost:8080/"
    },
    "id": "l5hRhylS3jh2",
    "outputId": "b06cbf00-2d24-4714-e749-6210b2d96001"
   },
   "outputs": [
    {
     "data": {
      "text/plain": [
       "{'NLPCIC - villacu67': 0.045,\n",
       " 'NLPCIC - DCCDINFOTEC': 0.036,\n",
       " 'NLPCIC - CIMATGTO': 0.013,\n",
       " 'NLPCIC - CIMATMTYGTO': 0.0,\n",
       " 'NLPCIC - UMUTeam': 0.002,\n",
       " 'NLPCIC - CICIPN': 0.0,\n",
       " 'NLPCIC - Qu': 0.0,\n",
       " 'NLPCIC - Timen': 0.0,\n",
       " 'NLPCIC - Dong': 0.0,\n",
       " 'NLPCIC - HugoJair': 0.0,\n",
       " 'NLPCIC - xjywing': 0.0,\n",
       " 'NLPCIC - aomar': 0.0,\n",
       " 'NLPCIC - CENAmrita': 0.0,\n",
       " 'villacu67 - DCCDINFOTEC': 0.376,\n",
       " 'villacu67 - CIMATGTO': 0.28,\n",
       " 'villacu67 - CIMATMTYGTO': 0.09,\n",
       " 'villacu67 - UMUTeam': 0.062,\n",
       " 'villacu67 - CICIPN': 0.0,\n",
       " 'villacu67 - Qu': 0.0,\n",
       " 'villacu67 - Timen': 0.0,\n",
       " 'villacu67 - Dong': 0.0,\n",
       " 'villacu67 - HugoJair': 0.0,\n",
       " 'villacu67 - xjywing': 0.0,\n",
       " 'villacu67 - aomar': 0.0,\n",
       " 'villacu67 - CENAmrita': 0.0,\n",
       " 'DCCDINFOTEC - CIMATGTO': 0.45,\n",
       " 'DCCDINFOTEC - CIMATMTYGTO': 0.259,\n",
       " 'DCCDINFOTEC - UMUTeam': 0.167,\n",
       " 'DCCDINFOTEC - CICIPN': 0.004,\n",
       " 'DCCDINFOTEC - Qu': 0.002,\n",
       " 'DCCDINFOTEC - Timen': 0.0,\n",
       " 'DCCDINFOTEC - Dong': 0.0,\n",
       " 'DCCDINFOTEC - HugoJair': 0.0,\n",
       " 'DCCDINFOTEC - xjywing': 0.0,\n",
       " 'DCCDINFOTEC - aomar': 0.0,\n",
       " 'DCCDINFOTEC - CENAmrita': 0.0,\n",
       " 'CIMATGTO - CIMATMTYGTO': 0.238,\n",
       " 'CIMATGTO - UMUTeam': 0.134,\n",
       " 'CIMATGTO - CICIPN': 0.003,\n",
       " 'CIMATGTO - Qu': 0.0,\n",
       " 'CIMATGTO - Timen': 0.0,\n",
       " 'CIMATGTO - Dong': 0.0,\n",
       " 'CIMATGTO - HugoJair': 0.0,\n",
       " 'CIMATGTO - xjywing': 0.0,\n",
       " 'CIMATGTO - aomar': 0.0,\n",
       " 'CIMATGTO - CENAmrita': 0.0,\n",
       " 'CIMATMTYGTO - UMUTeam': 0.366,\n",
       " 'CIMATMTYGTO - CICIPN': 0.017,\n",
       " 'CIMATMTYGTO - Qu': 0.0,\n",
       " 'CIMATMTYGTO - Timen': 0.0,\n",
       " 'CIMATMTYGTO - Dong': 0.0,\n",
       " 'CIMATMTYGTO - HugoJair': 0.0,\n",
       " 'CIMATMTYGTO - xjywing': 0.0,\n",
       " 'CIMATMTYGTO - aomar': 0.0,\n",
       " 'CIMATMTYGTO - CENAmrita': 0.0,\n",
       " 'UMUTeam - CICIPN': 0.04,\n",
       " 'UMUTeam - Qu': 0.001,\n",
       " 'UMUTeam - Timen': 0.0,\n",
       " 'UMUTeam - Dong': 0.0,\n",
       " 'UMUTeam - HugoJair': 0.0,\n",
       " 'UMUTeam - xjywing': 0.0,\n",
       " 'UMUTeam - aomar': 0.0,\n",
       " 'UMUTeam - CENAmrita': 0.0,\n",
       " 'CICIPN - Qu': 0.209,\n",
       " 'CICIPN - Timen': 0.008,\n",
       " 'CICIPN - Dong': 0.0,\n",
       " 'CICIPN - HugoJair': 0.0,\n",
       " 'CICIPN - xjywing': 0.0,\n",
       " 'CICIPN - aomar': 0.0,\n",
       " 'CICIPN - CENAmrita': 0.0,\n",
       " 'Qu - Timen': 0.085,\n",
       " 'Qu - Dong': 0.0,\n",
       " 'Qu - HugoJair': 0.0,\n",
       " 'Qu - xjywing': 0.0,\n",
       " 'Qu - aomar': 0.0,\n",
       " 'Qu - CENAmrita': 0.0,\n",
       " 'Timen - Dong': 0.001,\n",
       " 'Timen - HugoJair': 0.0,\n",
       " 'Timen - xjywing': 0.0,\n",
       " 'Timen - aomar': 0.0,\n",
       " 'Timen - CENAmrita': 0.0,\n",
       " 'Dong - HugoJair': 0.0,\n",
       " 'Dong - xjywing': 0.0,\n",
       " 'Dong - aomar': 0.0,\n",
       " 'Dong - CENAmrita': 0.0,\n",
       " 'HugoJair - xjywing': 0.0,\n",
       " 'HugoJair - aomar': 0.0,\n",
       " 'HugoJair - CENAmrita': 0.0,\n",
       " 'xjywing - aomar': 0.0,\n",
       " 'xjywing - CENAmrita': 0.0,\n",
       " 'aomar - CENAmrita': 0.0}"
      ]
     },
     "execution_count": 25,
     "metadata": {},
     "output_type": "execute_result"
    }
   ],
   "source": [
    "p_values"
   ]
  },
  {
   "cell_type": "markdown",
   "metadata": {
    "id": "NS3RHI9SkMtu"
   },
   "source": [
    "When conducting numerous comparisons or hypothesis tests on a dataset, the risk of incurring Type I errors (incorrectly dismissing a valid null hypothesis) increases. This happens because more tests performed increase the probability of randomly identifying statistically significant outcomes. Implementing adjustments for multiple comparisons is critical for several reasons: (1) To manage the risk of Type I Error, (2) To prevent erroneous conclusions, and (3) To uphold the integrity of the research.\n",
    "\n",
    "The following code illustrates the effect of these methods for multiple comparison corrections. The function `multipletests` makes the p-value correction by selecting the parameter `method`. In this example, the Bonferroni correction method is used."
   ]
  },
  {
   "cell_type": "code",
   "execution_count": 26,
   "metadata": {
    "id": "V1J_cqfdkMtu"
   },
   "outputs": [],
   "source": [
    "result = multipletests(list(p_values.values()), method='bonferroni')"
   ]
  },
  {
   "cell_type": "markdown",
   "metadata": {
    "id": "e2myRaBo6mPf"
   },
   "source": [
    "`result` is an array; next, we convert it back into a dictionary."
   ]
  },
  {
   "cell_type": "code",
   "execution_count": 27,
   "metadata": {
    "id": "MSaGBndz6G6t"
   },
   "outputs": [],
   "source": [
    "p_valuesC = dict(zip(p_values.keys(),result[1]))"
   ]
  },
  {
   "cell_type": "markdown",
   "metadata": {
    "id": "FY-9W45Q7nId"
   },
   "source": [
    "And we can analyze from all pairs of systems simunstally which ones have significantly different performances by comparing their p-value with $\\alpha$."
   ]
  },
  {
   "cell_type": "code",
   "execution_count": 28,
   "metadata": {
    "colab": {
     "base_uri": "https://localhost:8080/"
    },
    "id": "SKiKx3GU6IlN",
    "outputId": "94dd212d-dcae-4ec3-92f0-7397f5bd91a7"
   },
   "outputs": [
    {
     "data": {
      "text/plain": [
       "{'NLPCIC - villacu67': 1.0,\n",
       " 'NLPCIC - DCCDINFOTEC': 1.0,\n",
       " 'NLPCIC - CIMATGTO': 1.0,\n",
       " 'NLPCIC - CIMATMTYGTO': 0.0,\n",
       " 'NLPCIC - UMUTeam': 0.182,\n",
       " 'NLPCIC - CICIPN': 0.0,\n",
       " 'NLPCIC - Qu': 0.0,\n",
       " 'NLPCIC - Timen': 0.0,\n",
       " 'NLPCIC - Dong': 0.0,\n",
       " 'NLPCIC - HugoJair': 0.0,\n",
       " 'NLPCIC - xjywing': 0.0,\n",
       " 'NLPCIC - aomar': 0.0,\n",
       " 'NLPCIC - CENAmrita': 0.0,\n",
       " 'villacu67 - DCCDINFOTEC': 1.0,\n",
       " 'villacu67 - CIMATGTO': 1.0,\n",
       " 'villacu67 - CIMATMTYGTO': 1.0,\n",
       " 'villacu67 - UMUTeam': 1.0,\n",
       " 'villacu67 - CICIPN': 0.0,\n",
       " 'villacu67 - Qu': 0.0,\n",
       " 'villacu67 - Timen': 0.0,\n",
       " 'villacu67 - Dong': 0.0,\n",
       " 'villacu67 - HugoJair': 0.0,\n",
       " 'villacu67 - xjywing': 0.0,\n",
       " 'villacu67 - aomar': 0.0,\n",
       " 'villacu67 - CENAmrita': 0.0,\n",
       " 'DCCDINFOTEC - CIMATGTO': 1.0,\n",
       " 'DCCDINFOTEC - CIMATMTYGTO': 1.0,\n",
       " 'DCCDINFOTEC - UMUTeam': 1.0,\n",
       " 'DCCDINFOTEC - CICIPN': 0.364,\n",
       " 'DCCDINFOTEC - Qu': 0.182,\n",
       " 'DCCDINFOTEC - Timen': 0.0,\n",
       " 'DCCDINFOTEC - Dong': 0.0,\n",
       " 'DCCDINFOTEC - HugoJair': 0.0,\n",
       " 'DCCDINFOTEC - xjywing': 0.0,\n",
       " 'DCCDINFOTEC - aomar': 0.0,\n",
       " 'DCCDINFOTEC - CENAmrita': 0.0,\n",
       " 'CIMATGTO - CIMATMTYGTO': 1.0,\n",
       " 'CIMATGTO - UMUTeam': 1.0,\n",
       " 'CIMATGTO - CICIPN': 0.273,\n",
       " 'CIMATGTO - Qu': 0.0,\n",
       " 'CIMATGTO - Timen': 0.0,\n",
       " 'CIMATGTO - Dong': 0.0,\n",
       " 'CIMATGTO - HugoJair': 0.0,\n",
       " 'CIMATGTO - xjywing': 0.0,\n",
       " 'CIMATGTO - aomar': 0.0,\n",
       " 'CIMATGTO - CENAmrita': 0.0,\n",
       " 'CIMATMTYGTO - UMUTeam': 1.0,\n",
       " 'CIMATMTYGTO - CICIPN': 1.0,\n",
       " 'CIMATMTYGTO - Qu': 0.0,\n",
       " 'CIMATMTYGTO - Timen': 0.0,\n",
       " 'CIMATMTYGTO - Dong': 0.0,\n",
       " 'CIMATMTYGTO - HugoJair': 0.0,\n",
       " 'CIMATMTYGTO - xjywing': 0.0,\n",
       " 'CIMATMTYGTO - aomar': 0.0,\n",
       " 'CIMATMTYGTO - CENAmrita': 0.0,\n",
       " 'UMUTeam - CICIPN': 1.0,\n",
       " 'UMUTeam - Qu': 0.091,\n",
       " 'UMUTeam - Timen': 0.0,\n",
       " 'UMUTeam - Dong': 0.0,\n",
       " 'UMUTeam - HugoJair': 0.0,\n",
       " 'UMUTeam - xjywing': 0.0,\n",
       " 'UMUTeam - aomar': 0.0,\n",
       " 'UMUTeam - CENAmrita': 0.0,\n",
       " 'CICIPN - Qu': 1.0,\n",
       " 'CICIPN - Timen': 0.728,\n",
       " 'CICIPN - Dong': 0.0,\n",
       " 'CICIPN - HugoJair': 0.0,\n",
       " 'CICIPN - xjywing': 0.0,\n",
       " 'CICIPN - aomar': 0.0,\n",
       " 'CICIPN - CENAmrita': 0.0,\n",
       " 'Qu - Timen': 1.0,\n",
       " 'Qu - Dong': 0.0,\n",
       " 'Qu - HugoJair': 0.0,\n",
       " 'Qu - xjywing': 0.0,\n",
       " 'Qu - aomar': 0.0,\n",
       " 'Qu - CENAmrita': 0.0,\n",
       " 'Timen - Dong': 0.091,\n",
       " 'Timen - HugoJair': 0.0,\n",
       " 'Timen - xjywing': 0.0,\n",
       " 'Timen - aomar': 0.0,\n",
       " 'Timen - CENAmrita': 0.0,\n",
       " 'Dong - HugoJair': 0.0,\n",
       " 'Dong - xjywing': 0.0,\n",
       " 'Dong - aomar': 0.0,\n",
       " 'Dong - CENAmrita': 0.0,\n",
       " 'HugoJair - xjywing': 0.0,\n",
       " 'HugoJair - aomar': 0.0,\n",
       " 'HugoJair - CENAmrita': 0.0,\n",
       " 'xjywing - aomar': 0.0,\n",
       " 'xjywing - CENAmrita': 0.0,\n",
       " 'aomar - CENAmrita': 0.0}"
      ]
     },
     "execution_count": 28,
     "metadata": {},
     "output_type": "execute_result"
    }
   ],
   "source": [
    "p_valuesC"
   ]
  }
 ],
 "metadata": {
  "colab": {
   "provenance": []
  },
  "kernelspec": {
   "display_name": "Python 3 (ipykernel)",
   "language": "python",
   "name": "python3"
  },
  "language_info": {
   "codemirror_mode": {
    "name": "ipython",
    "version": 3
   },
   "file_extension": ".py",
   "mimetype": "text/x-python",
   "name": "python",
   "nbconvert_exporter": "python",
   "pygments_lexer": "ipython3",
   "version": "3.0.0"
  }
 },
 "nbformat": 4,
 "nbformat_minor": 4
}
