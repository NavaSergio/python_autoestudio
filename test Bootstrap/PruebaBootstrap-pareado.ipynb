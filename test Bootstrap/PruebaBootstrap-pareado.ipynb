{
 "cells": [
  {
   "cell_type": "code",
   "execution_count": 57,
   "metadata": {},
   "outputs": [],
   "source": [
    "\n",
    "#!pip install --upgrade \"jax[cpu]\""
   ]
  },
  {
   "cell_type": "code",
   "execution_count": 58,
   "metadata": {},
   "outputs": [],
   "source": [
    "#!pip install optax"
   ]
  },
  {
   "cell_type": "code",
   "execution_count": 59,
   "metadata": {},
   "outputs": [],
   "source": [
    "#!pip install IngeoML"
   ]
  },
  {
   "cell_type": "code",
   "execution_count": 60,
   "metadata": {},
   "outputs": [
    {
     "name": "stdout",
     "output_type": "stream",
     "text": [
      "3.11.5 | packaged by Anaconda, Inc. | (main, Sep 11 2023, 13:26:23) [MSC v.1916 64 bit (AMD64)]\n"
     ]
    }
   ],
   "source": [
    "import sys\n",
    "print(sys.version)"
   ]
  },
  {
   "cell_type": "code",
   "execution_count": 61,
   "metadata": {},
   "outputs": [
    {
     "name": "stdout",
     "output_type": "stream",
     "text": [
      "Número de núcleos de CPU disponibles: 8\n"
     ]
    }
   ],
   "source": [
    "import os\n",
    "n_cores = os.cpu_count()\n",
    "print(f\"Número de núcleos de CPU disponibles: {n_cores}\")\n"
   ]
  },
  {
   "cell_type": "code",
   "execution_count": 91,
   "metadata": {},
   "outputs": [],
   "source": [
    "from IngeoML import StatisticSamples\n",
    "from sklearn.metrics import accuracy_score,recall_score\n",
    "import numpy as np"
   ]
  },
  {
   "cell_type": "code",
   "execution_count": 88,
   "metadata": {},
   "outputs": [
    {
     "name": "stdout",
     "output_type": "stream",
     "text": [
      "[3.8 4.  3.8 3.8 2.4 3.6 3.4 3.6 3.2 4. ]\n",
      "Muestras de statistic (mean) \n",
      " [[4 4 1 2 3]\n",
      " [1 1 2 0 4]\n",
      " [1 1 0 1 1]\n",
      " [0 4 2 2 3]\n",
      " [3 3 1 3 3]\n",
      " [3 2 0 2 0]\n",
      " [0 0 4 0 1]\n",
      " [4 2 3 0 4]\n",
      " [0 3 4 0 4]\n",
      " [4 2 4 0 4]]\n",
      "[1.0198039  0.89442719 0.8        1.16619038 1.356466   1.0198039\n",
      " 0.89442719 1.16619038 0.8        1.0198039 ]\n",
      "Muestras de statistic2 (std) \n",
      " [[0 2 3 1 1]\n",
      " [2 0 0 2 4]\n",
      " [1 4 1 3 0]\n",
      " [3 3 2 0 1]\n",
      " [3 1 3 2 2]\n",
      " [3 1 0 0 2]\n",
      " [2 0 1 2 0]\n",
      " [3 2 4 3 0]\n",
      " [4 0 2 2 2]\n",
      " [0 2 3 1 4]]\n"
     ]
    }
   ],
   "source": [
    "# ahora verificando las muestras\n",
    "statistic = StatisticSamples(num_samples=10, statistic=np.mean)\n",
    "empirical_distribution = np.r_[[3, 4, 5, 2, 4]]\n",
    "print(statistic(empirical_distribution))\n",
    "print(\"Muestras de statistic (mean) \\n\",statistic._samples)\n",
    "statistic2 = StatisticSamples(num_samples=10, statistic=np.std)\n",
    "print(statistic2(empirical_distribution))\n",
    "print(\"Muestras de statistic2 (std) \\n\",statistic2._samples)"
   ]
  },
  {
   "cell_type": "code",
   "execution_count": 97,
   "metadata": {},
   "outputs": [
    {
     "name": "stdout",
     "output_type": "stream",
     "text": [
      "[3.4 4.  3.4 4.6 4.2 3.2 2.8 3.8 3.6 3.6]\n",
      "Muestras de statistic (mean) \n",
      " [[1 1 0 4 3]\n",
      " [4 2 0 2 0]\n",
      " [4 1 3 0 4]\n",
      " [2 2 2 4 4]\n",
      " [4 4 2 4 1]\n",
      " [3 3 2 0 1]\n",
      " [4 3 4 3 3]\n",
      " [0 2 0 1 4]\n",
      " [4 1 1 0 0]\n",
      " [3 4 2 0 4]]\n",
      "[3.  3.2 3.2 3.8 3.2 4.  3.6 3.6 2.6 3.6]\n",
      "Muestras de statistic2 (mean2) \n",
      " [[3 0 4 0 0]\n",
      " [2 0 3 3 1]\n",
      " [3 3 3 2 2]\n",
      " [1 1 4 0 4]\n",
      " [0 0 1 3 4]\n",
      " [1 4 2 3 2]\n",
      " [4 3 4 0 2]\n",
      " [1 1 3 0 2]\n",
      " [1 0 3 3 3]\n",
      " [4 3 0 4 2]]\n"
     ]
    }
   ],
   "source": [
    "\n",
    "# ahora verificando las muestras\n",
    "statistic = StatisticSamples(num_samples=10, statistic=np.mean)\n",
    "empirical_distribution = np.r_[[3, 4, 5, 2, 4]]\n",
    "print(statistic(empirical_distribution))\n",
    "print(\"Muestras de statistic (mean) \\n\",statistic._samples)\n",
    "statistic2 = StatisticSamples(num_samples=10, statistic=np.mean)\n",
    "print(statistic2(empirical_distribution))\n",
    "print(\"Muestras de statistic2 (mean2) \\n\",statistic2._samples)"
   ]
  },
  {
   "cell_type": "code",
   "execution_count": 95,
   "metadata": {},
   "outputs": [
    {
     "name": "stdout",
     "output_type": "stream",
     "text": [
      "0.8\n",
      "Muestras de acc \n",
      " [[8 9 5 8 7 7 5 7 5 5]\n",
      " [8 8 1 1 3 9 5 1 3 3]\n",
      " [4 3 2 4 6 2 1 1 3 3]\n",
      " [5 2 2 1 0 8 3 3 6 3]\n",
      " [0 3 6 8 0 4 7 1 7 6]\n",
      " [7 6 0 0 4 6 5 6 0 0]\n",
      " [0 3 3 2 4 1 3 0 5 5]\n",
      " [5 1 0 3 4 0 1 4 4 5]\n",
      " [2 5 6 7 7 7 1 8 7 1]\n",
      " [2 9 4 3 3 8 7 6 5 8]]\n",
      "0.8\n",
      "Muestras de recall \n",
      " [[2 0 4 5 2 5 1 2 8 5]\n",
      " [9 7 5 7 3 7 5 9 0 0]\n",
      " [6 0 9 1 6 4 5 6 4 5]\n",
      " [1 0 4 4 3 1 4 4 0 6]\n",
      " [1 7 9 2 4 1 0 8 2 2]\n",
      " [1 1 7 8 3 2 8 8 0 4]\n",
      " [0 8 7 6 7 6 3 7 9 9]\n",
      " [6 0 9 6 7 4 1 9 6 0]\n",
      " [4 5 0 7 9 1 9 9 9 5]\n",
      " [8 2 2 7 5 2 9 2 8 1]]\n"
     ]
    }
   ],
   "source": [
    "labels = np.r_[[0, 0, 0, 0, 0, 1, 1, 1, 1, 1]]\n",
    "pred   = np.r_[[0, 0, 1, 0, 0, 1, 1, 1, 0, 1]]\n",
    "print(accuracy_score(labels, pred))\n",
    "acc = StatisticSamples(num_samples=10, statistic=accuracy_score)\n",
    "acc(labels, pred)\n",
    "print(\"Muestras de acc \\n\",acc._samples)\n",
    "print(recall_score(labels, pred,zero_division =0.0))\n",
    "rec = StatisticSamples(num_samples=10, statistic=recall_score)\n",
    "rec(labels, pred)\n",
    "print(\"Muestras de recall \\n\",rec._samples)"
   ]
  },
  {
   "cell_type": "code",
   "execution_count": 96,
   "metadata": {},
   "outputs": [
    {
     "name": "stdout",
     "output_type": "stream",
     "text": [
      "(10,)\n",
      "(10,)\n"
     ]
    }
   ],
   "source": [
    "print(labels.shape)\n",
    "print(pred.shape)"
   ]
  },
  {
   "cell_type": "code",
   "execution_count": null,
   "metadata": {},
   "outputs": [],
   "source": []
  }
 ],
 "metadata": {
  "kernelspec": {
   "display_name": "Python 3 (ipykernel)",
   "language": "python",
   "name": "python3"
  },
  "language_info": {
   "codemirror_mode": {
    "name": "ipython",
    "version": 3
   },
   "file_extension": ".py",
   "mimetype": "text/x-python",
   "name": "python",
   "nbconvert_exporter": "python",
   "pygments_lexer": "ipython3",
   "version": "3.11.5"
  }
 },
 "nbformat": 4,
 "nbformat_minor": 4
}
