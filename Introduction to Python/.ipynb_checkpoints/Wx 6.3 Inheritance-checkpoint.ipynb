{
 "cells": [
  {
   "cell_type": "code",
   "execution_count": null,
   "metadata": {
    "id": "_Y9TWTvNZENC"
   },
   "outputs": [],
   "source": [
    "# Creatings Class and Object in Python\n",
    "class myBird:\n",
    "  def __init__(self):\n",
    "    print(\"myBird class constructor is executing\")\n",
    "\n",
    "  def whatType(self):\n",
    "    print(\"I am a Bird ...\")\n",
    "\n",
    "  def canSwim(self):\n",
    "    print(\"I can Swim ...\")\n"
   ]
  },
  {
   "cell_type": "code",
   "execution_count": null,
   "metadata": {
    "id": "38KcUPUFZ7MT"
   },
   "outputs": [],
   "source": [
    "# myPenguin class inheriting the attributes from the myBird class\n",
    "class myPenguin(myBird):\n",
    "\n",
    "  def __init__(self):\n",
    "    super().__init__()\n",
    "    print(\"myPenguin class constructor is executing ...\")\n",
    "\n",
    "  def whoisThis(self):\n",
    "    print(\"I am Penguin ...\")\n",
    "\n",
    "  def canRun(self):\n",
    "    print(\"I can run faster ...\")"
   ]
  },
  {
   "cell_type": "code",
   "execution_count": null,
   "metadata": {
    "colab": {
     "base_uri": "https://localhost:8080/"
    },
    "executionInfo": {
     "elapsed": 294,
     "status": "ok",
     "timestamp": 1705008539580,
     "user": {
      "displayName": "Sergio Nava",
      "userId": "17456177049720626007"
     },
     "user_tz": 360
    },
    "id": "eBwUcNVvayJA",
    "outputId": "27b04c1d-91ff-4475-f6f8-e9e5aacd2f9a"
   },
   "outputs": [
    {
     "name": "stdout",
     "output_type": "stream",
     "text": [
      "myBird class constructor is executing\n",
      "myPenguin class constructor is executing ...\n",
      "I am a Bird ...\n",
      "I am Penguin ...\n",
      "I can Swim ...\n",
      "I can run faster ...\n"
     ]
    }
   ],
   "source": [
    "# Accessing the child class's attributes (Inheritance)\n",
    "pg1 = myPenguin()\n",
    "pg1.whatType()      # defined in myBird class\n",
    "pg1.whoisThis()     # defined in myPenguin class\n",
    "pg1.canSwim()       # defined in myBird class\n",
    "pg1.canRun()        # defined in myPenguin class"
   ]
  },
  {
   "cell_type": "code",
   "execution_count": null,
   "metadata": {
    "id": "-HxQ8w1eb_bZ"
   },
   "outputs": [],
   "source": [
    "# Polymorphism\n",
    "class MyParrot:\n",
    "\n",
    "  def canFly(self):\n",
    "    print(\"Parrot can fly ...\")\n",
    "\n",
    "  def canSwim(self):\n",
    "    print(\"Parrot can't swim ...\")\n"
   ]
  },
  {
   "cell_type": "code",
   "execution_count": null,
   "metadata": {
    "id": "9wQV0EircfsC"
   },
   "outputs": [],
   "source": [
    "class MyPenguin:\n",
    "\n",
    "  def canFly(self):\n",
    "    print(\"Penguin can't fly ...\")\n",
    "\n",
    "  def canSwim(self):\n",
    "    print(\"Penguin can swim ...\")\n"
   ]
  },
  {
   "cell_type": "code",
   "execution_count": null,
   "metadata": {
    "id": "Oic061GWdOnl"
   },
   "outputs": [],
   "source": [
    "# common interface\n",
    "def flying_bird_test(bird):\n",
    "  bird.canFly()\n",
    "  bird.canSwim()"
   ]
  },
  {
   "cell_type": "code",
   "execution_count": null,
   "metadata": {
    "colab": {
     "base_uri": "https://localhost:8080/"
    },
    "executionInfo": {
     "elapsed": 288,
     "status": "ok",
     "timestamp": 1705009339182,
     "user": {
      "displayName": "Sergio Nava",
      "userId": "17456177049720626007"
     },
     "user_tz": 360
    },
    "id": "z6pB8evbdcu_",
    "outputId": "cd2e6561-b1a0-43ea-ad8b-b3c38d87139a"
   },
   "outputs": [
    {
     "name": "stdout",
     "output_type": "stream",
     "text": [
      "Parrot can fly ...\n",
      "Parrot can't swim ...\n",
      "\n",
      "Penguin can't fly ...\n",
      "Penguin can swim ...\n"
     ]
    }
   ],
   "source": [
    "# instantiate objects\n",
    "bird_parrot = MyParrot()\n",
    "bird_penguin = MyPenguin()\n",
    "\n",
    "# passing the object\n",
    "flying_bird_test(bird_parrot)\n",
    "print()\n",
    "flying_bird_test(bird_penguin)"
   ]
  }
 ],
 "metadata": {
  "colab": {
   "authorship_tag": "ABX9TyNPDZLzi+oZZsLfA2DGJat4",
   "provenance": []
  },
  "kernelspec": {
   "display_name": "Python 3",
   "language": "python",
   "name": "python3"
  },
  "language_info": {
   "codemirror_mode": {
    "name": "ipython",
    "version": 3
   },
   "file_extension": ".py",
   "mimetype": "text/x-python",
   "name": "python",
   "nbconvert_exporter": "python",
   "pygments_lexer": "ipython3",
   "version": "3.8.5"
  }
 },
 "nbformat": 4,
 "nbformat_minor": 1
}
