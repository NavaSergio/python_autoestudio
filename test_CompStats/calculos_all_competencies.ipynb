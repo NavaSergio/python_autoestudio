{
 "cells": [
  {
   "cell_type": "markdown",
   "metadata": {
    "id": "wGizC3XikMtk"
   },
   "source": [
    "<p><img alt=\"Colaboratory logo\" height=\"50px\" src=\"https://github.com/INGEOTEC/text_models/raw/master/docs/source/ingeotec.png\" align=\"left\" hspace=\"10px\" vspace=\"0px\" /></p>\n",
    "\n",
    "# CompStats\n",
    "## Quickstart Guide\n",
    "\n",
    "### <http://compstats.readthedocs.org>\n",
    "\n"
   ]
  },
  {
   "cell_type": "markdown",
   "metadata": {
    "id": "u-QV6DJYaQjg"
   },
   "source": [
    "## Installing CompStats"
   ]
  },
  {
   "cell_type": "code",
   "execution_count": 1,
   "metadata": {
    "id": "ISeelAVIJc59"
   },
   "outputs": [],
   "source": [
    "# !python -m pip uninstall CompStats"
   ]
  },
  {
   "cell_type": "code",
   "execution_count": 2,
   "metadata": {
    "id": "_4WTIJx5H9ii"
   },
   "outputs": [],
   "source": [
    "# %pip install -U git+https://github.com/INGEOTEC/CompStats@develop"
   ]
  },
  {
   "cell_type": "markdown",
   "metadata": {
    "id": "2sFWAgM0H3La"
   },
   "source": [
    "First, we need to install CompStats. This can be quickly done through pip, the Python package manager."
   ]
  },
  {
   "cell_type": "code",
   "execution_count": 3,
   "metadata": {
    "colab": {
     "base_uri": "https://localhost:8080/"
    },
    "id": "k2UzLxhkkMtp",
    "outputId": "dbadd757-1706-49ed-b866-539afbe92f71"
   },
   "outputs": [],
   "source": [
    "try:\n",
    "  import CompStats\n",
    "except ImportError:\n",
    "    !pip install Compstats\n",
    "    # !pip install -U git+https://github.com/INGEOTEC/CompStats@develop"
   ]
  },
  {
   "cell_type": "markdown",
   "metadata": {
    "id": "pqJKAfenkMtr"
   },
   "source": [
    "## Libraries"
   ]
  },
  {
   "cell_type": "markdown",
   "metadata": {
    "id": "ifWsyR9mH7-o"
   },
   "source": [
    "After installing `CompStats`, we must import the necessary libraries for our analysis. `CompStats` relies on several Python libraries for data analysis and scientific computing.\n",
    "\n",
    "The first line of the following code loads two functions from the `CompStats` library. The `performance` function is used to calculate and analyze the performance of machine learning models. On the other hand, the `plot_performance` function visualizes the performance metrics calculated by `performance`, such as accuracy or F1 score, along with confidence intervals to help understand the variability and reliability of the performance metrics.\n",
    "\n",
    "The second line imports two functions: `difference` and `plot_difference`; `difference` assesses the differences in performance between models in comparison to the best system, and `plot_difference` visually represents these differences relative to the best system.\n",
    "\n",
    "The third line imports two functions: `all_differences` and `difference_p_value`. `all_differences` evaluates the differences in performance between all models, and `difference_p_value` estimates the p-value of the hypothesis that the difference is significantly greater than zero.\n",
    "\n",
    "The fourth line imports the function `multipletests`that is used for adjusting p-values when multiple hypothesis tests are performed, to control for the false discovery rate or family-wise error rate.\n",
    "\n",
    "The rest of the lines load commonly used Python libraries."
   ]
  },
  {
   "cell_type": "code",
   "execution_count": 4,
   "metadata": {
    "id": "rUVyzgMokMts"
   },
   "outputs": [],
   "source": [
    "from CompStats import performance, plot_performance\n",
    "from CompStats import difference, plot_difference\n",
    "from CompStats import all_differences, difference_p_value\n",
    "from statsmodels.stats.multitest import multipletests\n",
    "from sklearn.metrics import f1_score\n",
    "import pandas as pd"
   ]
  },
  {
   "cell_type": "markdown",
   "metadata": {
    "id": "DWcPnzA2HI-Y"
   },
   "source": [
    "# Dataset"
   ]
  },
  {
   "cell_type": "markdown",
   "metadata": {
    "id": "eKbW9vf-IASa"
   },
   "source": [
    "Once we have set up our environment, we can explore what CompStats offers. Let's begin with a basic example of how to use CompStats for a simple statistical analysis.\n",
    "\n",
    "To illustrate the use of CompStats, we will use a dataset included in the CompStats package. The path of the dataset is found with the following instructions. The variable `DATA` contains the path as shown below.  "
   ]
  },
  {
   "cell_type": "code",
   "execution_count": 5,
   "metadata": {
    "colab": {
     "base_uri": "https://localhost:8080/",
     "height": 36
    },
    "id": "8TGr5Jh6HIPR",
    "outputId": "b16c1843-a520-4b42-b653-84aee799f963"
   },
   "outputs": [],
   "source": [
    "# from CompStats.tests.test_performance import DATA\n",
    "DATA = 'MeOffendEs_subtask3.csv'"
   ]
  },
  {
   "cell_type": "markdown",
   "metadata": {
    "id": "seBE-afbkMts"
   },
   "source": [
    "`DATA` contains the information to compare six systems for a multiclass classification task. The next instruction loads the data into a dataframe."
   ]
  },
  {
   "cell_type": "code",
   "execution_count": 6,
   "metadata": {
    "id": "WFo5qGVGI5fg"
   },
   "outputs": [],
   "source": [
    "df = pd.read_csv(DATA)"
   ]
  },
  {
   "cell_type": "markdown",
   "metadata": {
    "id": "CnOx0jOAJw6H"
   },
   "source": [
    "The first five rows of `df` are shown below. It can be observed that the first column contains the gold standard, identified with `y`, and the rest of the columns are the predictions performed by different systems."
   ]
  },
  {
   "cell_type": "code",
   "execution_count": 7,
   "metadata": {
    "colab": {
     "base_uri": "https://localhost:8080/",
     "height": 206
    },
    "id": "PxDOXB8QJ2yT",
    "outputId": "08dad3e6-bdf9-4c72-848f-5576ccd383cc"
   },
   "outputs": [
    {
     "data": {
      "text/html": [
       "<div>\n",
       "<style scoped>\n",
       "    .dataframe tbody tr th:only-of-type {\n",
       "        vertical-align: middle;\n",
       "    }\n",
       "\n",
       "    .dataframe tbody tr th {\n",
       "        vertical-align: top;\n",
       "    }\n",
       "\n",
       "    .dataframe thead th {\n",
       "        text-align: right;\n",
       "    }\n",
       "</style>\n",
       "<table border=\"1\" class=\"dataframe\">\n",
       "  <thead>\n",
       "    <tr style=\"text-align: right;\">\n",
       "      <th></th>\n",
       "      <th>y</th>\n",
       "      <th>aomar</th>\n",
       "      <th>CEN-Amrita</th>\n",
       "      <th>CIC-IPN</th>\n",
       "      <th>CIMAT-GTO</th>\n",
       "      <th>CIMAT-MTY-GTO</th>\n",
       "      <th>DCCD-INFOTEC</th>\n",
       "      <th>NLP-CIC</th>\n",
       "      <th>Timen</th>\n",
       "      <th>UMUTeam</th>\n",
       "      <th>xjywing</th>\n",
       "    </tr>\n",
       "  </thead>\n",
       "  <tbody>\n",
       "    <tr>\n",
       "      <th>2178</th>\n",
       "      <td>0</td>\n",
       "      <td>1</td>\n",
       "      <td>1</td>\n",
       "      <td>1</td>\n",
       "      <td>1</td>\n",
       "      <td>1</td>\n",
       "      <td>0</td>\n",
       "      <td>1</td>\n",
       "      <td>1</td>\n",
       "      <td>0</td>\n",
       "      <td>1</td>\n",
       "    </tr>\n",
       "    <tr>\n",
       "      <th>2179</th>\n",
       "      <td>1</td>\n",
       "      <td>1</td>\n",
       "      <td>1</td>\n",
       "      <td>0</td>\n",
       "      <td>1</td>\n",
       "      <td>1</td>\n",
       "      <td>1</td>\n",
       "      <td>1</td>\n",
       "      <td>0</td>\n",
       "      <td>1</td>\n",
       "      <td>1</td>\n",
       "    </tr>\n",
       "    <tr>\n",
       "      <th>2180</th>\n",
       "      <td>0</td>\n",
       "      <td>1</td>\n",
       "      <td>1</td>\n",
       "      <td>0</td>\n",
       "      <td>0</td>\n",
       "      <td>0</td>\n",
       "      <td>0</td>\n",
       "      <td>0</td>\n",
       "      <td>0</td>\n",
       "      <td>0</td>\n",
       "      <td>1</td>\n",
       "    </tr>\n",
       "    <tr>\n",
       "      <th>2181</th>\n",
       "      <td>1</td>\n",
       "      <td>1</td>\n",
       "      <td>1</td>\n",
       "      <td>0</td>\n",
       "      <td>1</td>\n",
       "      <td>1</td>\n",
       "      <td>1</td>\n",
       "      <td>1</td>\n",
       "      <td>0</td>\n",
       "      <td>0</td>\n",
       "      <td>1</td>\n",
       "    </tr>\n",
       "    <tr>\n",
       "      <th>2182</th>\n",
       "      <td>0</td>\n",
       "      <td>1</td>\n",
       "      <td>1</td>\n",
       "      <td>0</td>\n",
       "      <td>1</td>\n",
       "      <td>0</td>\n",
       "      <td>0</td>\n",
       "      <td>0</td>\n",
       "      <td>0</td>\n",
       "      <td>0</td>\n",
       "      <td>1</td>\n",
       "    </tr>\n",
       "  </tbody>\n",
       "</table>\n",
       "</div>"
      ],
      "text/plain": [
       "      y  aomar  CEN-Amrita  CIC-IPN  CIMAT-GTO  CIMAT-MTY-GTO  DCCD-INFOTEC  \\\n",
       "2178  0      1           1        1          1              1             0   \n",
       "2179  1      1           1        0          1              1             1   \n",
       "2180  0      1           1        0          0              0             0   \n",
       "2181  1      1           1        0          1              1             1   \n",
       "2182  0      1           1        0          1              0             0   \n",
       "\n",
       "      NLP-CIC  Timen  UMUTeam  xjywing  \n",
       "2178        1      1        0        1  \n",
       "2179        1      0        1        1  \n",
       "2180        0      0        0        1  \n",
       "2181        1      0        0        1  \n",
       "2182        0      0        0        1  "
      ]
     },
     "execution_count": 7,
     "metadata": {},
     "output_type": "execute_result"
    }
   ],
   "source": [
    "df.tail(5)"
   ]
  },
  {
   "cell_type": "markdown",
   "metadata": {
    "id": "sqI3FxmCI_pM"
   },
   "source": [
    "# Performance Anaylisis"
   ]
  },
  {
   "cell_type": "markdown",
   "metadata": {
    "id": "JR1B0lg4K85m"
   },
   "source": [
    "Let us start with the performance analysis of the different systems. The performance metric used is the weighted average F1 score. This performance is coded in the variable `score` as observed in the next instruction."
   ]
  },
  {
   "cell_type": "code",
   "execution_count": 8,
   "metadata": {
    "id": "IXHA4HRkLA9q"
   },
   "outputs": [],
   "source": [
    "score = lambda y, hy: f1_score(y, hy, average='binary')"
   ]
  },
  {
   "cell_type": "markdown",
   "metadata": {
    "id": "xYCMtk-1LZtL"
   },
   "source": [
    "The next step is to compute the performance on the bootstrap samples; this is done with the function `performance`. The function has a few parameters; one is the `score`, which receives the metric used to measure the performance."
   ]
  },
  {
   "cell_type": "code",
   "execution_count": 9,
   "metadata": {
    "colab": {
     "base_uri": "https://localhost:8080/"
    },
    "id": "-96k0EbaLadL",
    "outputId": "cba38610-383b-402e-e8e2-f0fcdea5908e"
   },
   "outputs": [],
   "source": [
    "perf = performance(df, score=score,num_samples=10000)"
   ]
  },
  {
   "cell_type": "code",
   "execution_count": 10,
   "metadata": {},
   "outputs": [
    {
     "data": {
      "text/html": [
       "<div>\n",
       "<style scoped>\n",
       "    .dataframe tbody tr th:only-of-type {\n",
       "        vertical-align: middle;\n",
       "    }\n",
       "\n",
       "    .dataframe tbody tr th {\n",
       "        vertical-align: top;\n",
       "    }\n",
       "\n",
       "    .dataframe thead th {\n",
       "        text-align: right;\n",
       "    }\n",
       "</style>\n",
       "<table border=\"1\" class=\"dataframe\">\n",
       "  <thead>\n",
       "    <tr style=\"text-align: right;\">\n",
       "      <th></th>\n",
       "      <th>aomar</th>\n",
       "      <th>CEN-Amrita</th>\n",
       "      <th>CIC-IPN</th>\n",
       "      <th>CIMAT-GTO</th>\n",
       "      <th>CIMAT-MTY-GTO</th>\n",
       "      <th>DCCD-INFOTEC</th>\n",
       "      <th>NLP-CIC</th>\n",
       "      <th>Timen</th>\n",
       "      <th>UMUTeam</th>\n",
       "      <th>xjywing</th>\n",
       "    </tr>\n",
       "  </thead>\n",
       "  <tbody>\n",
       "    <tr>\n",
       "      <th>0</th>\n",
       "      <td>0.484002</td>\n",
       "      <td>0.469742</td>\n",
       "      <td>0.597723</td>\n",
       "      <td>0.678663</td>\n",
       "      <td>0.699767</td>\n",
       "      <td>0.688742</td>\n",
       "      <td>0.724225</td>\n",
       "      <td>0.606908</td>\n",
       "      <td>0.672742</td>\n",
       "      <td>0.496022</td>\n",
       "    </tr>\n",
       "    <tr>\n",
       "      <th>1</th>\n",
       "      <td>0.451379</td>\n",
       "      <td>0.454119</td>\n",
       "      <td>0.594803</td>\n",
       "      <td>0.684397</td>\n",
       "      <td>0.695093</td>\n",
       "      <td>0.671268</td>\n",
       "      <td>0.711923</td>\n",
       "      <td>0.585824</td>\n",
       "      <td>0.662598</td>\n",
       "      <td>0.481793</td>\n",
       "    </tr>\n",
       "    <tr>\n",
       "      <th>2</th>\n",
       "      <td>0.500894</td>\n",
       "      <td>0.490246</td>\n",
       "      <td>0.629234</td>\n",
       "      <td>0.660566</td>\n",
       "      <td>0.704648</td>\n",
       "      <td>0.701065</td>\n",
       "      <td>0.705401</td>\n",
       "      <td>0.643825</td>\n",
       "      <td>0.668847</td>\n",
       "      <td>0.516070</td>\n",
       "    </tr>\n",
       "    <tr>\n",
       "      <th>3</th>\n",
       "      <td>0.464692</td>\n",
       "      <td>0.458440</td>\n",
       "      <td>0.583493</td>\n",
       "      <td>0.682800</td>\n",
       "      <td>0.709119</td>\n",
       "      <td>0.670157</td>\n",
       "      <td>0.741631</td>\n",
       "      <td>0.587935</td>\n",
       "      <td>0.662671</td>\n",
       "      <td>0.484035</td>\n",
       "    </tr>\n",
       "    <tr>\n",
       "      <th>4</th>\n",
       "      <td>0.463742</td>\n",
       "      <td>0.466011</td>\n",
       "      <td>0.603704</td>\n",
       "      <td>0.679181</td>\n",
       "      <td>0.709677</td>\n",
       "      <td>0.695286</td>\n",
       "      <td>0.724855</td>\n",
       "      <td>0.604805</td>\n",
       "      <td>0.678363</td>\n",
       "      <td>0.494371</td>\n",
       "    </tr>\n",
       "    <tr>\n",
       "      <th>...</th>\n",
       "      <td>...</td>\n",
       "      <td>...</td>\n",
       "      <td>...</td>\n",
       "      <td>...</td>\n",
       "      <td>...</td>\n",
       "      <td>...</td>\n",
       "      <td>...</td>\n",
       "      <td>...</td>\n",
       "      <td>...</td>\n",
       "      <td>...</td>\n",
       "    </tr>\n",
       "    <tr>\n",
       "      <th>9995</th>\n",
       "      <td>0.467894</td>\n",
       "      <td>0.462649</td>\n",
       "      <td>0.590909</td>\n",
       "      <td>0.666667</td>\n",
       "      <td>0.686064</td>\n",
       "      <td>0.675302</td>\n",
       "      <td>0.715880</td>\n",
       "      <td>0.602349</td>\n",
       "      <td>0.661578</td>\n",
       "      <td>0.490741</td>\n",
       "    </tr>\n",
       "    <tr>\n",
       "      <th>9996</th>\n",
       "      <td>0.471111</td>\n",
       "      <td>0.461603</td>\n",
       "      <td>0.634862</td>\n",
       "      <td>0.691716</td>\n",
       "      <td>0.732460</td>\n",
       "      <td>0.701518</td>\n",
       "      <td>0.750419</td>\n",
       "      <td>0.627350</td>\n",
       "      <td>0.688608</td>\n",
       "      <td>0.488971</td>\n",
       "    </tr>\n",
       "    <tr>\n",
       "      <th>9997</th>\n",
       "      <td>0.459447</td>\n",
       "      <td>0.461998</td>\n",
       "      <td>0.572233</td>\n",
       "      <td>0.675475</td>\n",
       "      <td>0.683582</td>\n",
       "      <td>0.648241</td>\n",
       "      <td>0.699436</td>\n",
       "      <td>0.575658</td>\n",
       "      <td>0.641234</td>\n",
       "      <td>0.483886</td>\n",
       "    </tr>\n",
       "    <tr>\n",
       "      <th>9998</th>\n",
       "      <td>0.467831</td>\n",
       "      <td>0.462931</td>\n",
       "      <td>0.602662</td>\n",
       "      <td>0.668444</td>\n",
       "      <td>0.695721</td>\n",
       "      <td>0.692573</td>\n",
       "      <td>0.695279</td>\n",
       "      <td>0.586713</td>\n",
       "      <td>0.662671</td>\n",
       "      <td>0.493724</td>\n",
       "    </tr>\n",
       "    <tr>\n",
       "      <th>9999</th>\n",
       "      <td>0.482605</td>\n",
       "      <td>0.471882</td>\n",
       "      <td>0.628623</td>\n",
       "      <td>0.698254</td>\n",
       "      <td>0.708271</td>\n",
       "      <td>0.693467</td>\n",
       "      <td>0.729951</td>\n",
       "      <td>0.607553</td>\n",
       "      <td>0.687603</td>\n",
       "      <td>0.495177</td>\n",
       "    </tr>\n",
       "  </tbody>\n",
       "</table>\n",
       "<p>10000 rows × 10 columns</p>\n",
       "</div>"
      ],
      "text/plain": [
       "         aomar  CEN-Amrita   CIC-IPN  CIMAT-GTO  CIMAT-MTY-GTO  DCCD-INFOTEC  \\\n",
       "0     0.484002    0.469742  0.597723   0.678663       0.699767      0.688742   \n",
       "1     0.451379    0.454119  0.594803   0.684397       0.695093      0.671268   \n",
       "2     0.500894    0.490246  0.629234   0.660566       0.704648      0.701065   \n",
       "3     0.464692    0.458440  0.583493   0.682800       0.709119      0.670157   \n",
       "4     0.463742    0.466011  0.603704   0.679181       0.709677      0.695286   \n",
       "...        ...         ...       ...        ...            ...           ...   \n",
       "9995  0.467894    0.462649  0.590909   0.666667       0.686064      0.675302   \n",
       "9996  0.471111    0.461603  0.634862   0.691716       0.732460      0.701518   \n",
       "9997  0.459447    0.461998  0.572233   0.675475       0.683582      0.648241   \n",
       "9998  0.467831    0.462931  0.602662   0.668444       0.695721      0.692573   \n",
       "9999  0.482605    0.471882  0.628623   0.698254       0.708271      0.693467   \n",
       "\n",
       "       NLP-CIC     Timen   UMUTeam   xjywing  \n",
       "0     0.724225  0.606908  0.672742  0.496022  \n",
       "1     0.711923  0.585824  0.662598  0.481793  \n",
       "2     0.705401  0.643825  0.668847  0.516070  \n",
       "3     0.741631  0.587935  0.662671  0.484035  \n",
       "4     0.724855  0.604805  0.678363  0.494371  \n",
       "...        ...       ...       ...       ...  \n",
       "9995  0.715880  0.602349  0.661578  0.490741  \n",
       "9996  0.750419  0.627350  0.688608  0.488971  \n",
       "9997  0.699436  0.575658  0.641234  0.483886  \n",
       "9998  0.695279  0.586713  0.662671  0.493724  \n",
       "9999  0.729951  0.607553  0.687603  0.495177  \n",
       "\n",
       "[10000 rows x 10 columns]"
      ]
     },
     "execution_count": 10,
     "metadata": {},
     "output_type": "execute_result"
    }
   ],
   "source": [
    "pd.DataFrame(perf.calls)"
   ]
  },
  {
   "cell_type": "code",
   "execution_count": 11,
   "metadata": {},
   "outputs": [],
   "source": [
    "import pickle\n",
    "\n",
    "# Suponiendo que tienes un objeto \"perf\"\n",
    "#perf = {\"nombre\": \"Ejemplo\", \"valor\": 10}\n",
    "\n",
    "#print(perf)\n",
    "# Almacenar el objeto en un archivo\n",
    "with open(DATA+\".dat\", \"wb\") as archivo:\n",
    "    pickle.dump(perf.calls, archivo)\n",
    "\n",
    "# Recuperar el objeto del archivo\n",
    "with open(DATA+\".dat\", \"rb\") as archivo:\n",
    "    perf_recuperado = pickle.load(archivo)"
   ]
  },
  {
   "cell_type": "code",
   "execution_count": 12,
   "metadata": {},
   "outputs": [
    {
     "name": "stdout",
     "output_type": "stream",
     "text": [
      "{'aomar': array([0.4840018 , 0.45137947, 0.50089445, ..., 0.45944721, 0.46783088,\n",
      "       0.48260482]), 'CEN-Amrita': array([0.46974185, 0.45411865, 0.49024597, ..., 0.46199829, 0.46293103,\n",
      "       0.47188161]), 'CIC-IPN': array([0.59772296, 0.59480269, 0.62923351, ..., 0.57223265, 0.6026616 ,\n",
      "       0.62862319]), 'CIMAT-GTO': array([0.67866324, 0.68439716, 0.66056572, ..., 0.67547481, 0.66844444,\n",
      "       0.69825436]), 'CIMAT-MTY-GTO': array([0.69976726, 0.69509252, 0.70464768, ..., 0.68358209, 0.69572108,\n",
      "       0.70827068]), 'DCCD-INFOTEC': array([0.68874172, 0.67126833, 0.7010647 , ..., 0.64824121, 0.6925734 ,\n",
      "       0.69346734]), 'NLP-CIC': array([0.72422464, 0.71192341, 0.70540098, ..., 0.69943594, 0.69527897,\n",
      "       0.7299509 ]), 'Timen': array([0.60690789, 0.58582408, 0.6438247 , ..., 0.57565789, 0.58671268,\n",
      "       0.60755337]), 'UMUTeam': array([0.67274234, 0.66259808, 0.6688471 , ..., 0.64123377, 0.66267123,\n",
      "       0.68760331]), 'xjywing': array([0.49602246, 0.48179272, 0.51606979, ..., 0.48388603, 0.49372385,\n",
      "       0.49517685])}\n",
      "{'aomar': array([0.4840018 , 0.45137947, 0.50089445, ..., 0.45944721, 0.46783088,\n",
      "       0.48260482]), 'CEN-Amrita': array([0.46974185, 0.45411865, 0.49024597, ..., 0.46199829, 0.46293103,\n",
      "       0.47188161]), 'CIC-IPN': array([0.59772296, 0.59480269, 0.62923351, ..., 0.57223265, 0.6026616 ,\n",
      "       0.62862319]), 'CIMAT-GTO': array([0.67866324, 0.68439716, 0.66056572, ..., 0.67547481, 0.66844444,\n",
      "       0.69825436]), 'CIMAT-MTY-GTO': array([0.69976726, 0.69509252, 0.70464768, ..., 0.68358209, 0.69572108,\n",
      "       0.70827068]), 'DCCD-INFOTEC': array([0.68874172, 0.67126833, 0.7010647 , ..., 0.64824121, 0.6925734 ,\n",
      "       0.69346734]), 'NLP-CIC': array([0.72422464, 0.71192341, 0.70540098, ..., 0.69943594, 0.69527897,\n",
      "       0.7299509 ]), 'Timen': array([0.60690789, 0.58582408, 0.6438247 , ..., 0.57565789, 0.58671268,\n",
      "       0.60755337]), 'UMUTeam': array([0.67274234, 0.66259808, 0.6688471 , ..., 0.64123377, 0.66267123,\n",
      "       0.68760331]), 'xjywing': array([0.49602246, 0.48179272, 0.51606979, ..., 0.48388603, 0.49372385,\n",
      "       0.49517685])}\n"
     ]
    }
   ],
   "source": [
    "import pickle\n",
    "\n",
    "# Suponiendo que tienes un objeto \"perf\"\n",
    "#perf = {\"nombre\": \"Ejemplo\", \"valor\": 10}\n",
    "\n",
    "print(perf.calls)\n",
    "# Almacenar el objeto en un archivo\n",
    "with open(\"perf.dat\", \"wb\") as archivo:\n",
    "    pickle.dump(perf.calls, archivo)\n",
    "\n",
    "# Recuperar el objeto del archivo\n",
    "with open(\"perf.dat\", \"rb\") as archivo:\n",
    "    perf_recuperado = pickle.load(archivo)\n",
    "\n",
    "print(perf_recuperado)"
   ]
  },
  {
   "cell_type": "markdown",
   "metadata": {
    "id": "sEfBLwenQpND"
   },
   "source": [
    "`perf` is an instance of `StatisticSamples`, the bootstrap samples can be seen on the property `calls`. The first five bootstrap samples of the performance of INGEOTEC are shown below. -- It verifies that the key is in the dictionary in case the dataset has been changed. --"
   ]
  },
  {
   "cell_type": "code",
   "execution_count": 13,
   "metadata": {
    "colab": {
     "base_uri": "https://localhost:8080/"
    },
    "id": "IrbRfFuCQsGf",
    "outputId": "995bf6f7-02d8-4526-de25-4e56151d7f3b"
   },
   "outputs": [
    {
     "name": "stdout",
     "output_type": "stream",
     "text": [
      "[0.68874172 0.67126833 0.7010647  0.67015707 0.6952862 ]\n"
     ]
    }
   ],
   "source": [
    "if 'DCCD-INFOTEC' in perf.calls:\n",
    "  print(f\"{perf.calls['DCCD-INFOTEC'][:5]}\")"
   ]
  },
  {
   "cell_type": "markdown",
   "metadata": {
    "id": "SaUGXqEVJE6A"
   },
   "source": [
    "The performance of the systems, along with their confidence intervals, can be seen using the next instruction."
   ]
  },
  {
   "cell_type": "code",
   "execution_count": 14,
   "metadata": {
    "colab": {
     "base_uri": "https://localhost:8080/",
     "height": 506
    },
    "id": "djiadR9dkMts",
    "outputId": "fbd0675c-0933-4d6e-e142-633394526b61"
   },
   "outputs": [
    {
     "data": {
      "image/png": "[encoded data removed]",
      "text/plain": [
       "<Figure size 511.111x500 with 1 Axes>"
      ]
     },
     "metadata": {},
     "output_type": "display_data"
    }
   ],
   "source": [
    "face_grid = plot_performance(perf)"
   ]
  },
  {
   "cell_type": "markdown",
   "metadata": {
    "id": "eBmUNHXWR2pL"
   },
   "source": [
    "It can be observed that the best system is INGEOTEC. Although the confidence intervals provide information that helps to assess the difference in the performance of the systems, in this case, the intervals intersect. Therefore, one needs another statistical tool to determine if the difference in performance is significant."
   ]
  },
  {
   "cell_type": "markdown",
   "metadata": {
    "id": "hJ1gAxzkkMts"
   },
   "source": [
    "# Performance Comparison against the Winner"
   ]
  },
  {
   "cell_type": "markdown",
   "metadata": {
    "id": "peFwDTsNdRiz"
   },
   "source": [
    "The difference in their performance compared to the best-performing system can be used to compare the algorithms analyzed. The function `difference` computes the difference as shown below."
   ]
  },
  {
   "cell_type": "code",
   "execution_count": 15,
   "metadata": {
    "id": "0FXWINpdkMtt"
   },
   "outputs": [],
   "source": [
    "diff = difference(perf)"
   ]
  },
  {
   "cell_type": "markdown",
   "metadata": {
    "id": "2p_ppDE9dV0F"
   },
   "source": [
    "`diff` is an instance of `StatisticSamples`; one can find the best system on the property `info`, as the following instruction shows."
   ]
  },
  {
   "cell_type": "code",
   "execution_count": 16,
   "metadata": {
    "colab": {
     "base_uri": "https://localhost:8080/"
    },
    "id": "7oz3wbr6dr_m",
    "outputId": "a4b5e252-dcbe-4345-c5e5-e84acd3edce7"
   },
   "outputs": [
    {
     "data": {
      "text/plain": [
       "{'best': 'NLP-CIC'}"
      ]
     },
     "execution_count": 16,
     "metadata": {},
     "output_type": "execute_result"
    }
   ],
   "source": [
    "diff.info"
   ]
  },
  {
   "cell_type": "markdown",
   "metadata": {
    "id": "iD_jAdwmd5QZ"
   },
   "source": [
    "The difference in performance can be visualized with the following instruction."
   ]
  },
  {
   "cell_type": "code",
   "execution_count": 17,
   "metadata": {
    "colab": {
     "base_uri": "https://localhost:8080/",
     "height": 529
    },
    "id": "obO7DOUWdW52",
    "outputId": "38b7de59-4aea-43b7-d3dc-eae94c6f19d6"
   },
   "outputs": [
    {
     "data": {
      "image/png": "[encoded data removed]",
      "text/plain": [
       "<Figure size 584.875x500 with 1 Axes>"
      ]
     },
     "metadata": {},
     "output_type": "display_data"
    }
   ],
   "source": [
    "face_grid_diff = plot_difference(diff)"
   ]
  },
  {
   "cell_type": "markdown",
   "metadata": {
    "id": "aHlFz543kMtt"
   },
   "source": [
    "From the performance graphs, for this example, we can observe that the ranking is *INGEOTEC*, *BoW*, *StackBoW*, *BoW (Corpus)*, *Dense*, *Bow (Class Weight)*. Hence, in the last graph, we analyze the performance difference against the winner (INGEOTEC). From this graph, we can conclude that *BoW* and *StackBoW*, might perform similarly to INGEOTEC.\n",
    "\n",
    "Should we test the hypothesis of equality versus difference, considering that one system outperforms the other in the test? To address this question, we compare the performance of two systems, $A$ and $B$, to determine whether $A$ is superior to $B$ in a larger data population, represented as $\\theta_A > \\theta_B$. We can estimate the p-value associated with the hypothesis test $H_0: \\theta_A \\le \\theta_B$ vs $H_1: \\theta_A > \\theta_B$ given the data, equivalently $H_0: \\theta_A< -  \\theta_B\\le 0$ vs $H_1: \\theta_A - \\theta_B > 0$. The p-values for these differences can be estimated using the following instruction, comparing them against the winner (INGEOTEC) to determine the probability that $a$ (INGEOTEC) is better than $b$.\n",
    "\n",
    "The `difference_p_value` function estimates the p-value for each difference in comparison to the best system, as illustrated below.\n"
   ]
  },
  {
   "cell_type": "code",
   "execution_count": 18,
   "metadata": {
    "id": "83DAxZ18kMtt"
   },
   "outputs": [],
   "source": [
    "p_values = difference_p_value(diff)"
   ]
  },
  {
   "cell_type": "markdown",
   "metadata": {
    "id": "WEEPzr4l2BMn"
   },
   "source": [
    "For a given $\\alpha$ level, p-values smaller than $\\alpha$  are significant, meaning the observed difference is unlikely to be due to chance. An $\\alpha$ level of 0.05 is commonly used."
   ]
  },
  {
   "cell_type": "code",
   "execution_count": 19,
   "metadata": {
    "colab": {
     "base_uri": "https://localhost:8080/"
    },
    "id": "p2VtUMvS0Z4k",
    "outputId": "6a3cf917-98da-46ed-a103-4faf13725e53"
   },
   "outputs": [
    {
     "data": {
      "text/plain": [
       "{'CEN-Amrita': 0.0,\n",
       " 'aomar': 0.0,\n",
       " 'xjywing': 0.0,\n",
       " 'CIC-IPN': 0.0,\n",
       " 'Timen': 0.0,\n",
       " 'UMUTeam': 0.0012,\n",
       " 'CIMAT-GTO': 0.0044,\n",
       " 'DCCD-INFOTEC': 0.03,\n",
       " 'CIMAT-MTY-GTO': 0.1616}"
      ]
     },
     "execution_count": 19,
     "metadata": {},
     "output_type": "execute_result"
    }
   ],
   "source": [
    "p_values"
   ]
  },
  {
   "cell_type": "code",
   "execution_count": 20,
   "metadata": {},
   "outputs": [
    {
     "data": {
      "text/plain": [
       "{'CEN-Amrita': 0.0,\n",
       " 'aomar': 0.0,\n",
       " 'xjywing': 0.0,\n",
       " 'CIC-IPN': 0.0,\n",
       " 'Timen': 0.0,\n",
       " 'UMUTeam': 0.010799999999999999,\n",
       " 'CIMAT-GTO': 0.0396,\n",
       " 'DCCD-INFOTEC': 0.27,\n",
       " 'CIMAT-MTY-GTO': 1.0}"
      ]
     },
     "execution_count": 20,
     "metadata": {},
     "output_type": "execute_result"
    }
   ],
   "source": [
    "result = multipletests(list(p_values.values()), method='bonferroni')\n",
    "p_valuesC = dict(zip(p_values.keys(),result[1]))\n",
    "p_valuesC"
   ]
  },
  {
   "cell_type": "markdown",
   "metadata": {
    "id": "rt21qMcDkMtu"
   },
   "source": [
    "# Performance comparison between all models\n",
    "\n",
    "Similarly, the differences for each pair of variables between all models can be estimated using the function `all_differences`, as illustrated in the following instructions. This approach allows for a comprehensive analysis of how each model compares to the others, providing a statistical basis to understand the significance of performance variations among them. This method extends the comparative analysis, offering a detailed view of the competitive landscape of model performance."
   ]
  },
  {
   "cell_type": "code",
   "execution_count": 21,
   "metadata": {
    "id": "6ehkDIH_kMtu"
   },
   "outputs": [],
   "source": [
    "all_diff = all_differences(perf)\n"
   ]
  },
  {
   "cell_type": "code",
   "execution_count": 22,
   "metadata": {},
   "outputs": [
    {
     "data": {
      "text/plain": [
       "{'NLP-CIC - CIMAT-MTY-GTO': array([ 0.02445738,  0.01683089,  0.00075331, ...,  0.01585385,\n",
       "        -0.00044211,  0.02168022]),\n",
       " 'NLP-CIC - DCCD-INFOTEC': array([0.03548292, 0.04065508, 0.00433628, ..., 0.05119473, 0.00270557,\n",
       "        0.03648356]),\n",
       " 'NLP-CIC - CIMAT-GTO': array([0.0455614 , 0.02752625, 0.04483526, ..., 0.02396112, 0.02683453,\n",
       "        0.03169654]),\n",
       " 'NLP-CIC - UMUTeam': array([0.05148231, 0.04932533, 0.03655388, ..., 0.05820217, 0.03260774,\n",
       "        0.04234759]),\n",
       " 'NLP-CIC - Timen': array([0.11731675, 0.12609933, 0.06157628, ..., 0.12377804, 0.10856629,\n",
       "        0.12239753]),\n",
       " 'NLP-CIC - CIC-IPN': array([0.12650168, 0.11712072, 0.07616747, ..., 0.12720329, 0.09261737,\n",
       "        0.10132771]),\n",
       " 'NLP-CIC - xjywing': array([0.22820218, 0.23013069, 0.18933119, ..., 0.2155499 , 0.20155512,\n",
       "        0.23477405]),\n",
       " 'NLP-CIC - aomar': array([0.24022284, 0.26054395, 0.20450653, ..., 0.23998873, 0.22744809,\n",
       "        0.24734608]),\n",
       " 'NLP-CIC - CEN-Amrita': array([0.25448279, 0.25780476, 0.21515501, ..., 0.23743765, 0.23234794,\n",
       "        0.25806929]),\n",
       " 'CIMAT-MTY-GTO - DCCD-INFOTEC': array([0.01102554, 0.02382418, 0.00358298, ..., 0.03534088, 0.00314768,\n",
       "        0.01480334]),\n",
       " 'CIMAT-MTY-GTO - CIMAT-GTO': array([0.02110402, 0.01069535, 0.04408195, ..., 0.00810728, 0.02727663,\n",
       "        0.01001631]),\n",
       " 'CIMAT-MTY-GTO - UMUTeam': array([0.02702493, 0.03249444, 0.03580058, ..., 0.04234832, 0.03304984,\n",
       "        0.02066737]),\n",
       " 'CIMAT-MTY-GTO - Timen': array([0.09285937, 0.10926844, 0.06082297, ..., 0.10792419, 0.10900839,\n",
       "        0.10071731]),\n",
       " 'CIMAT-MTY-GTO - CIC-IPN': array([0.1020443 , 0.10028982, 0.07541416, ..., 0.11134944, 0.09305948,\n",
       "        0.07964749]),\n",
       " 'CIMAT-MTY-GTO - xjywing': array([0.2037448 , 0.2132998 , 0.18857789, ..., 0.19969605, 0.20199723,\n",
       "        0.21309383]),\n",
       " 'CIMAT-MTY-GTO - aomar': array([0.21576546, 0.24371305, 0.20375322, ..., 0.22413488, 0.2278902 ,\n",
       "        0.22566586]),\n",
       " 'CIMAT-MTY-GTO - CEN-Amrita': array([0.23002541, 0.24097387, 0.2144017 , ..., 0.2215838 , 0.23279004,\n",
       "        0.23638907]),\n",
       " 'DCCD-INFOTEC - CIMAT-GTO': array([ 0.01007848, -0.01312883,  0.04049898, ..., -0.02723361,\n",
       "         0.02412896, -0.00478703]),\n",
       " 'DCCD-INFOTEC - UMUTeam': array([0.01599939, 0.00867025, 0.0322176 , ..., 0.00700744, 0.02990217,\n",
       "        0.00586403]),\n",
       " 'DCCD-INFOTEC - Timen': array([0.08183383, 0.08544425, 0.05724   , ..., 0.07258331, 0.10586072,\n",
       "        0.08591397]),\n",
       " 'DCCD-INFOTEC - CIC-IPN': array([0.09101876, 0.07646564, 0.07183119, ..., 0.07600856, 0.08991181,\n",
       "        0.06484415]),\n",
       " 'DCCD-INFOTEC - xjywing': array([0.19271926, 0.18947562, 0.18499491, ..., 0.16435517, 0.19884955,\n",
       "        0.19829049]),\n",
       " 'DCCD-INFOTEC - aomar': array([0.20473992, 0.21988887, 0.20017025, ..., 0.18879399, 0.22474252,\n",
       "        0.21086252]),\n",
       " 'DCCD-INFOTEC - CEN-Amrita': array([0.21899987, 0.21714968, 0.21081873, ..., 0.18624291, 0.22964237,\n",
       "        0.22158573]),\n",
       " 'CIMAT-GTO - UMUTeam': array([ 0.0059209 ,  0.02179908, -0.00828137, ...,  0.03424105,\n",
       "         0.00577321,  0.01065106]),\n",
       " 'CIMAT-GTO - Timen': array([0.07175534, 0.09857308, 0.01674102, ..., 0.09981692, 0.08173176,\n",
       "        0.090701  ]),\n",
       " 'CIMAT-GTO - CIC-IPN': array([0.08094028, 0.08959447, 0.03133221, ..., 0.10324217, 0.06578285,\n",
       "        0.06963118]),\n",
       " 'CIMAT-GTO - xjywing': array([0.18264078, 0.20260445, 0.14449593, ..., 0.19158878, 0.1747206 ,\n",
       "        0.20307752]),\n",
       " 'CIMAT-GTO - aomar': array([0.19466144, 0.2330177 , 0.15967127, ..., 0.2160276 , 0.20061356,\n",
       "        0.21564955]),\n",
       " 'CIMAT-GTO - CEN-Amrita': array([0.20892139, 0.23027851, 0.17031975, ..., 0.21347652, 0.20551341,\n",
       "        0.22637276]),\n",
       " 'UMUTeam - Timen': array([0.06583444, 0.076774  , 0.0250224 , ..., 0.06557587, 0.07595855,\n",
       "        0.08004994]),\n",
       " 'UMUTeam - CIC-IPN': array([0.07501938, 0.06779539, 0.03961359, ..., 0.06900112, 0.06000964,\n",
       "        0.05898012]),\n",
       " 'UMUTeam - xjywing': array([0.17671987, 0.18080536, 0.15277731, ..., 0.15734773, 0.16894738,\n",
       "        0.19242646]),\n",
       " 'UMUTeam - aomar': array([0.18874053, 0.21121862, 0.16795264, ..., 0.18178655, 0.19484035,\n",
       "        0.20499849]),\n",
       " 'UMUTeam - CEN-Amrita': array([0.20300048, 0.20847943, 0.17860113, ..., 0.17923547, 0.1997402 ,\n",
       "        0.2157217 ]),\n",
       " 'Timen - CIC-IPN': array([ 0.00918493, -0.00897861,  0.01459119, ...,  0.00342525,\n",
       "        -0.01594891, -0.02106982]),\n",
       " 'Timen - xjywing': array([0.11088543, 0.10403136, 0.12775491, ..., 0.09177186, 0.09298883,\n",
       "        0.11237652]),\n",
       " 'Timen - aomar': array([0.12290609, 0.13444462, 0.14293025, ..., 0.11621068, 0.1188818 ,\n",
       "        0.12494855]),\n",
       " 'Timen - CEN-Amrita': array([0.13716604, 0.13170543, 0.15357873, ..., 0.1136596 , 0.12378165,\n",
       "        0.13567176]),\n",
       " 'CIC-IPN - xjywing': array([0.1017005 , 0.11300998, 0.11316372, ..., 0.08834661, 0.10893775,\n",
       "        0.13344634]),\n",
       " 'CIC-IPN - aomar': array([0.11372116, 0.14342323, 0.12833906, ..., 0.11278543, 0.13483071,\n",
       "        0.14601837]),\n",
       " 'CIC-IPN - CEN-Amrita': array([0.12798111, 0.14068404, 0.13898754, ..., 0.11023435, 0.13973056,\n",
       "        0.15674158]),\n",
       " 'xjywing - aomar': array([0.01202066, 0.03041325, 0.01517533, ..., 0.02443882, 0.02589297,\n",
       "        0.01257203]),\n",
       " 'xjywing - CEN-Amrita': array([0.02628061, 0.02767407, 0.02582382, ..., 0.02188774, 0.03079281,\n",
       "        0.02329524]),\n",
       " 'aomar - CEN-Amrita': array([ 0.01425995, -0.00273918,  0.01064848, ..., -0.00255108,\n",
       "         0.00489985,  0.01072321])}"
      ]
     },
     "execution_count": 22,
     "metadata": {},
     "output_type": "execute_result"
    }
   ],
   "source": [
    "all_diff.calls"
   ]
  },
  {
   "cell_type": "code",
   "execution_count": 23,
   "metadata": {},
   "outputs": [
    {
     "data": {
      "text/plain": [
       "{'NLP-CIC - CIMAT-MTY-GTO': 0.012896918750445463,\n",
       " 'NLP-CIC - DCCD-INFOTEC': 0.03082008479126206,\n",
       " 'NLP-CIC - CIMAT-GTO': 0.036436378319220024,\n",
       " 'NLP-CIC - UMUTeam': 0.044964116003549305,\n",
       " 'NLP-CIC - Timen': 0.11158778015473259,\n",
       " 'NLP-CIC - CIC-IPN': 0.11397015691373803,\n",
       " 'NLP-CIC - xjywing': 0.22198544165933298,\n",
       " 'NLP-CIC - aomar': 0.24271831914688996,\n",
       " 'NLP-CIC - CEN-Amrita': 0.24720701702044826,\n",
       " 'CIMAT-MTY-GTO - DCCD-INFOTEC': 0.017923166040816566,\n",
       " 'CIMAT-MTY-GTO - CIMAT-GTO': 0.02353945956877471,\n",
       " 'CIMAT-MTY-GTO - UMUTeam': 0.032067197253104064,\n",
       " 'CIMAT-MTY-GTO - Timen': 0.09869086140428676,\n",
       " 'CIMAT-MTY-GTO - CIC-IPN': 0.10107323816329297,\n",
       " 'CIMAT-MTY-GTO - xjywing': 0.20908852290888577,\n",
       " 'CIMAT-MTY-GTO - aomar': 0.22982140039644433,\n",
       " 'CIMAT-MTY-GTO - CEN-Amrita': 0.2343100982700008,\n",
       " 'DCCD-INFOTEC - CIMAT-GTO': 0.0056162935279581985,\n",
       " 'DCCD-INFOTEC - UMUTeam': 0.014144031212287345,\n",
       " 'DCCD-INFOTEC - Timen': 0.08076769536347007,\n",
       " 'DCCD-INFOTEC - CIC-IPN': 0.08315007212247619,\n",
       " 'DCCD-INFOTEC - xjywing': 0.19116535686807049,\n",
       " 'DCCD-INFOTEC - aomar': 0.2118982343556278,\n",
       " 'DCCD-INFOTEC - CEN-Amrita': 0.2163869322291856,\n",
       " 'CIMAT-GTO - UMUTeam': 0.008527737684329195,\n",
       " 'CIMAT-GTO - Timen': 0.07515140183551207,\n",
       " 'CIMAT-GTO - CIC-IPN': 0.0775337785945178,\n",
       " 'CIMAT-GTO - xjywing': 0.18554906334011323,\n",
       " 'CIMAT-GTO - aomar': 0.20628194082766954,\n",
       " 'CIMAT-GTO - CEN-Amrita': 0.21077063870122753,\n",
       " 'UMUTeam - Timen': 0.06662366415118284,\n",
       " 'UMUTeam - CIC-IPN': 0.06900604091018867,\n",
       " 'UMUTeam - xjywing': 0.17702132565578307,\n",
       " 'UMUTeam - aomar': 0.1977542031433396,\n",
       " 'UMUTeam - CEN-Amrita': 0.20224290101689812,\n",
       " 'Timen - CIC-IPN': 0.0023823767590058654,\n",
       " 'Timen - xjywing': 0.11039766150459952,\n",
       " 'Timen - aomar': 0.13113053899215663,\n",
       " 'Timen - CEN-Amrita': 0.13561923686571514,\n",
       " 'CIC-IPN - xjywing': 0.10801528474559416,\n",
       " 'CIC-IPN - aomar': 0.12874816223315091,\n",
       " 'CIC-IPN - CEN-Amrita': 0.13323686010670954,\n",
       " 'xjywing - aomar': 0.020732877487557484,\n",
       " 'xjywing - CEN-Amrita': 0.025221575361115692,\n",
       " 'aomar - CEN-Amrita': 0.0044886978735581545}"
      ]
     },
     "execution_count": 23,
     "metadata": {},
     "output_type": "execute_result"
    }
   ],
   "source": [
    "promedios = {key: sum(value) / len(value) for key, value in all_diff.calls.items()}\n",
    "promedios"
   ]
  },
  {
   "cell_type": "markdown",
   "metadata": {
    "id": "CC2hR4w_4IzC"
   },
   "source": [
    "Once again, we use the function `difference_p_value` to estimate the p-value."
   ]
  },
  {
   "cell_type": "code",
   "execution_count": 24,
   "metadata": {
    "id": "x2vlIMNc3h5W"
   },
   "outputs": [],
   "source": [
    "p_values = difference_p_value(all_diff)"
   ]
  },
  {
   "cell_type": "markdown",
   "metadata": {
    "id": "192xc-_24chZ"
   },
   "source": [
    "And we can analyze from all pairs of systems individually which ones have significantly different performances by comparing their p-value with $\\alpha$."
   ]
  },
  {
   "cell_type": "code",
   "execution_count": 25,
   "metadata": {
    "colab": {
     "base_uri": "https://localhost:8080/"
    },
    "id": "l5hRhylS3jh2",
    "outputId": "b06cbf00-2d24-4714-e749-6210b2d96001"
   },
   "outputs": [
    {
     "data": {
      "text/plain": [
       "{'NLP-CIC - CIMAT-MTY-GTO': 0.1616,\n",
       " 'NLP-CIC - DCCD-INFOTEC': 0.03,\n",
       " 'NLP-CIC - CIMAT-GTO': 0.0044,\n",
       " 'NLP-CIC - UMUTeam': 0.0012,\n",
       " 'NLP-CIC - Timen': 0.0,\n",
       " 'NLP-CIC - CIC-IPN': 0.0,\n",
       " 'NLP-CIC - xjywing': 0.0,\n",
       " 'NLP-CIC - aomar': 0.0,\n",
       " 'NLP-CIC - CEN-Amrita': 0.0,\n",
       " 'CIMAT-MTY-GTO - DCCD-INFOTEC': 0.1018,\n",
       " 'CIMAT-MTY-GTO - CIMAT-GTO': 0.0149,\n",
       " 'CIMAT-MTY-GTO - UMUTeam': 0.006,\n",
       " 'CIMAT-MTY-GTO - Timen': 0.0,\n",
       " 'CIMAT-MTY-GTO - CIC-IPN': 0.0,\n",
       " 'CIMAT-MTY-GTO - xjywing': 0.0,\n",
       " 'CIMAT-MTY-GTO - aomar': 0.0,\n",
       " 'CIMAT-MTY-GTO - CEN-Amrita': 0.0,\n",
       " 'DCCD-INFOTEC - CIMAT-GTO': 0.3553,\n",
       " 'DCCD-INFOTEC - UMUTeam': 0.1695,\n",
       " 'DCCD-INFOTEC - Timen': 0.0,\n",
       " 'DCCD-INFOTEC - CIC-IPN': 0.0,\n",
       " 'DCCD-INFOTEC - xjywing': 0.0,\n",
       " 'DCCD-INFOTEC - aomar': 0.0,\n",
       " 'DCCD-INFOTEC - CEN-Amrita': 0.0,\n",
       " 'CIMAT-GTO - UMUTeam': 0.2411,\n",
       " 'CIMAT-GTO - Timen': 0.0001,\n",
       " 'CIMAT-GTO - CIC-IPN': 0.0,\n",
       " 'CIMAT-GTO - xjywing': 0.0,\n",
       " 'CIMAT-GTO - aomar': 0.0,\n",
       " 'CIMAT-GTO - CEN-Amrita': 0.0,\n",
       " 'UMUTeam - Timen': 0.0,\n",
       " 'UMUTeam - CIC-IPN': 0.0001,\n",
       " 'UMUTeam - xjywing': 0.0,\n",
       " 'UMUTeam - aomar': 0.0,\n",
       " 'UMUTeam - CEN-Amrita': 0.0,\n",
       " 'Timen - CIC-IPN': 0.4472,\n",
       " 'Timen - xjywing': 0.0,\n",
       " 'Timen - aomar': 0.0,\n",
       " 'Timen - CEN-Amrita': 0.0,\n",
       " 'CIC-IPN - xjywing': 0.0,\n",
       " 'CIC-IPN - aomar': 0.0,\n",
       " 'CIC-IPN - CEN-Amrita': 0.0,\n",
       " 'xjywing - aomar': 0.0002,\n",
       " 'xjywing - CEN-Amrita': 0.0,\n",
       " 'aomar - CEN-Amrita': 0.1988}"
      ]
     },
     "execution_count": 25,
     "metadata": {},
     "output_type": "execute_result"
    }
   ],
   "source": [
    "p_values"
   ]
  },
  {
   "cell_type": "code",
   "execution_count": 26,
   "metadata": {},
   "outputs": [
    {
     "data": {
      "text/plain": [
       "{'NLP-CIC - CIMAT-MTY-GTO': 0.162,\n",
       " 'NLP-CIC - DCCD-INFOTEC': 0.03,\n",
       " 'NLP-CIC - CIMAT-GTO': 0.004,\n",
       " 'NLP-CIC - UMUTeam': 0.001,\n",
       " 'NLP-CIC - Timen': 0.0,\n",
       " 'NLP-CIC - CIC-IPN': 0.0,\n",
       " 'NLP-CIC - xjywing': 0.0,\n",
       " 'NLP-CIC - aomar': 0.0,\n",
       " 'NLP-CIC - CEN-Amrita': 0.0,\n",
       " 'CIMAT-MTY-GTO - DCCD-INFOTEC': 0.102,\n",
       " 'CIMAT-MTY-GTO - CIMAT-GTO': 0.015,\n",
       " 'CIMAT-MTY-GTO - UMUTeam': 0.006,\n",
       " 'CIMAT-MTY-GTO - Timen': 0.0,\n",
       " 'CIMAT-MTY-GTO - CIC-IPN': 0.0,\n",
       " 'CIMAT-MTY-GTO - xjywing': 0.0,\n",
       " 'CIMAT-MTY-GTO - aomar': 0.0,\n",
       " 'CIMAT-MTY-GTO - CEN-Amrita': 0.0,\n",
       " 'DCCD-INFOTEC - CIMAT-GTO': 0.355,\n",
       " 'DCCD-INFOTEC - UMUTeam': 0.17,\n",
       " 'DCCD-INFOTEC - Timen': 0.0,\n",
       " 'DCCD-INFOTEC - CIC-IPN': 0.0,\n",
       " 'DCCD-INFOTEC - xjywing': 0.0,\n",
       " 'DCCD-INFOTEC - aomar': 0.0,\n",
       " 'DCCD-INFOTEC - CEN-Amrita': 0.0,\n",
       " 'CIMAT-GTO - UMUTeam': 0.241,\n",
       " 'CIMAT-GTO - Timen': 0.0,\n",
       " 'CIMAT-GTO - CIC-IPN': 0.0,\n",
       " 'CIMAT-GTO - xjywing': 0.0,\n",
       " 'CIMAT-GTO - aomar': 0.0,\n",
       " 'CIMAT-GTO - CEN-Amrita': 0.0,\n",
       " 'UMUTeam - Timen': 0.0,\n",
       " 'UMUTeam - CIC-IPN': 0.0,\n",
       " 'UMUTeam - xjywing': 0.0,\n",
       " 'UMUTeam - aomar': 0.0,\n",
       " 'UMUTeam - CEN-Amrita': 0.0,\n",
       " 'Timen - CIC-IPN': 0.447,\n",
       " 'Timen - xjywing': 0.0,\n",
       " 'Timen - aomar': 0.0,\n",
       " 'Timen - CEN-Amrita': 0.0,\n",
       " 'CIC-IPN - xjywing': 0.0,\n",
       " 'CIC-IPN - aomar': 0.0,\n",
       " 'CIC-IPN - CEN-Amrita': 0.0,\n",
       " 'xjywing - aomar': 0.0,\n",
       " 'xjywing - CEN-Amrita': 0.0,\n",
       " 'aomar - CEN-Amrita': 0.199}"
      ]
     },
     "execution_count": 26,
     "metadata": {},
     "output_type": "execute_result"
    }
   ],
   "source": [
    "{k: round(v, 3) for k, v in p_values.items()}\n"
   ]
  },
  {
   "cell_type": "markdown",
   "metadata": {
    "id": "NS3RHI9SkMtu"
   },
   "source": [
    "When conducting numerous comparisons or hypothesis tests on a dataset, the risk of incurring Type I errors (incorrectly dismissing a valid null hypothesis) increases. This happens because more tests performed increase the probability of randomly identifying statistically significant outcomes. Implementing adjustments for multiple comparisons is critical for several reasons: (1) To manage the risk of Type I Error, (2) To prevent erroneous conclusions, and (3) To uphold the integrity of the research.\n",
    "\n",
    "The following code illustrates the effect of these methods for multiple comparison corrections. The function `multipletests` makes the p-value correction by selecting the parameter `method`. In this example, the Bonferroni correction method is used."
   ]
  },
  {
   "cell_type": "code",
   "execution_count": 27,
   "metadata": {
    "id": "V1J_cqfdkMtu"
   },
   "outputs": [],
   "source": [
    "result = multipletests(list(p_values.values()), method='bonferroni')"
   ]
  },
  {
   "cell_type": "markdown",
   "metadata": {
    "id": "e2myRaBo6mPf"
   },
   "source": [
    "`result` is an array; next, we convert it back into a dictionary."
   ]
  },
  {
   "cell_type": "code",
   "execution_count": 28,
   "metadata": {
    "id": "MSaGBndz6G6t"
   },
   "outputs": [],
   "source": [
    "p_valuesC = dict(zip(p_values.keys(),result[1]))"
   ]
  },
  {
   "cell_type": "markdown",
   "metadata": {
    "id": "FY-9W45Q7nId"
   },
   "source": [
    "And we can analyze from all pairs of systems simunstally which ones have significantly different performances by comparing their p-value with $\\alpha$."
   ]
  },
  {
   "cell_type": "code",
   "execution_count": 29,
   "metadata": {
    "colab": {
     "base_uri": "https://localhost:8080/"
    },
    "id": "SKiKx3GU6IlN",
    "outputId": "94dd212d-dcae-4ec3-92f0-7397f5bd91a7"
   },
   "outputs": [
    {
     "data": {
      "text/plain": [
       "{'NLP-CIC - CIMAT-MTY-GTO': 1.0,\n",
       " 'NLP-CIC - DCCD-INFOTEC': 1.0,\n",
       " 'NLP-CIC - CIMAT-GTO': 0.198,\n",
       " 'NLP-CIC - UMUTeam': 0.05399999999999999,\n",
       " 'NLP-CIC - Timen': 0.0,\n",
       " 'NLP-CIC - CIC-IPN': 0.0,\n",
       " 'NLP-CIC - xjywing': 0.0,\n",
       " 'NLP-CIC - aomar': 0.0,\n",
       " 'NLP-CIC - CEN-Amrita': 0.0,\n",
       " 'CIMAT-MTY-GTO - DCCD-INFOTEC': 1.0,\n",
       " 'CIMAT-MTY-GTO - CIMAT-GTO': 0.6705,\n",
       " 'CIMAT-MTY-GTO - UMUTeam': 0.27,\n",
       " 'CIMAT-MTY-GTO - Timen': 0.0,\n",
       " 'CIMAT-MTY-GTO - CIC-IPN': 0.0,\n",
       " 'CIMAT-MTY-GTO - xjywing': 0.0,\n",
       " 'CIMAT-MTY-GTO - aomar': 0.0,\n",
       " 'CIMAT-MTY-GTO - CEN-Amrita': 0.0,\n",
       " 'DCCD-INFOTEC - CIMAT-GTO': 1.0,\n",
       " 'DCCD-INFOTEC - UMUTeam': 1.0,\n",
       " 'DCCD-INFOTEC - Timen': 0.0,\n",
       " 'DCCD-INFOTEC - CIC-IPN': 0.0,\n",
       " 'DCCD-INFOTEC - xjywing': 0.0,\n",
       " 'DCCD-INFOTEC - aomar': 0.0,\n",
       " 'DCCD-INFOTEC - CEN-Amrita': 0.0,\n",
       " 'CIMAT-GTO - UMUTeam': 1.0,\n",
       " 'CIMAT-GTO - Timen': 0.0045000000000000005,\n",
       " 'CIMAT-GTO - CIC-IPN': 0.0,\n",
       " 'CIMAT-GTO - xjywing': 0.0,\n",
       " 'CIMAT-GTO - aomar': 0.0,\n",
       " 'CIMAT-GTO - CEN-Amrita': 0.0,\n",
       " 'UMUTeam - Timen': 0.0,\n",
       " 'UMUTeam - CIC-IPN': 0.0045000000000000005,\n",
       " 'UMUTeam - xjywing': 0.0,\n",
       " 'UMUTeam - aomar': 0.0,\n",
       " 'UMUTeam - CEN-Amrita': 0.0,\n",
       " 'Timen - CIC-IPN': 1.0,\n",
       " 'Timen - xjywing': 0.0,\n",
       " 'Timen - aomar': 0.0,\n",
       " 'Timen - CEN-Amrita': 0.0,\n",
       " 'CIC-IPN - xjywing': 0.0,\n",
       " 'CIC-IPN - aomar': 0.0,\n",
       " 'CIC-IPN - CEN-Amrita': 0.0,\n",
       " 'xjywing - aomar': 0.009000000000000001,\n",
       " 'xjywing - CEN-Amrita': 0.0,\n",
       " 'aomar - CEN-Amrita': 1.0}"
      ]
     },
     "execution_count": 29,
     "metadata": {},
     "output_type": "execute_result"
    }
   ],
   "source": [
    "p_valuesC"
   ]
  },
  {
   "cell_type": "code",
   "execution_count": 30,
   "metadata": {},
   "outputs": [
    {
     "name": "stdout",
     "output_type": "stream",
     "text": [
      "        bonferroni    holm    fdr_bh\n",
      "0.1616      1.0000  0.9696  0.181800\n",
      "0.0300      1.0000  0.2400  0.035526\n",
      "0.0044      0.1980  0.0484  0.005657\n",
      "0.0012      0.0540  0.0144  0.001588\n",
      "0.0000      0.0000  0.0000  0.000000\n",
      "0.0000      0.0000  0.0000  0.000000\n",
      "0.0000      0.0000  0.0000  0.000000\n",
      "0.0000      0.0000  0.0000  0.000000\n",
      "0.0000      0.0000  0.0000  0.000000\n",
      "0.1018      1.0000  0.7126  0.117462\n",
      "0.0149      0.6705  0.1341  0.018122\n",
      "0.0060      0.2700  0.0600  0.007500\n",
      "0.0000      0.0000  0.0000  0.000000\n",
      "0.0000      0.0000  0.0000  0.000000\n",
      "0.0000      0.0000  0.0000  0.000000\n",
      "0.0000      0.0000  0.0000  0.000000\n",
      "0.0000      0.0000  0.0000  0.000000\n",
      "0.3553      1.0000  0.9696  0.363375\n",
      "0.1695      1.0000  0.9696  0.186037\n",
      "0.0000      0.0000  0.0000  0.000000\n",
      "0.0000      0.0000  0.0000  0.000000\n",
      "0.0000      0.0000  0.0000  0.000000\n",
      "0.0000      0.0000  0.0000  0.000000\n",
      "0.0000      0.0000  0.0000  0.000000\n",
      "0.2411      1.0000  0.9696  0.252314\n",
      "0.0001      0.0045  0.0015  0.000141\n",
      "0.0000      0.0000  0.0000  0.000000\n",
      "0.0000      0.0000  0.0000  0.000000\n",
      "0.0000      0.0000  0.0000  0.000000\n",
      "0.0000      0.0000  0.0000  0.000000\n",
      "0.0000      0.0000  0.0000  0.000000\n",
      "0.0001      0.0045  0.0015  0.000141\n",
      "0.0000      0.0000  0.0000  0.000000\n",
      "0.0000      0.0000  0.0000  0.000000\n",
      "0.0000      0.0000  0.0000  0.000000\n",
      "0.4472      1.0000  0.9696  0.447200\n",
      "0.0000      0.0000  0.0000  0.000000\n",
      "0.0000      0.0000  0.0000  0.000000\n",
      "0.0000      0.0000  0.0000  0.000000\n",
      "0.0000      0.0000  0.0000  0.000000\n",
      "0.0000      0.0000  0.0000  0.000000\n",
      "0.0000      0.0000  0.0000  0.000000\n",
      "0.0002      0.0090  0.0026  0.000273\n",
      "0.0000      0.0000  0.0000  0.000000\n",
      "0.1988      1.0000  0.9696  0.213000\n"
     ]
    }
   ],
   "source": [
    "\n",
    "# assume p_values is a dictionary with p-values as values\n",
    "p_values_list = list(p_values.values())\n",
    "\n",
    "# define the correction methods to apply\n",
    "methods = ['bonferroni', 'holm', 'fdr_bh']\n",
    "\n",
    "# create a dictionary to store the corrected p-values\n",
    "corrected_pvalues = {}\n",
    "\n",
    "# apply each correction method and store the results\n",
    "for method in methods:\n",
    "    result = multipletests(p_values_list, method=method)\n",
    "    p_valuesC = dict(zip(p_values.keys(),result[1]))\n",
    "    corrected_pvalues[method] = p_valuesC\n",
    "\n",
    "# create a Pandas DataFrame from the corrected p-values\n",
    "df = pd.DataFrame(corrected_pvalues)\n",
    "\n",
    "# set the index to the original p-values (optional)\n",
    "df.index = p_values_list\n",
    "\n",
    "print(df)"
   ]
  },
  {
   "cell_type": "code",
   "execution_count": 31,
   "metadata": {},
   "outputs": [
    {
     "name": "stdout",
     "output_type": "stream",
     "text": [
      "p-value        38\n",
      "bonferroni     33\n",
      "holm           35\n",
      "fdr_bh         38\n",
      "diferencias    14\n",
      "dtype: int64\n"
     ]
    }
   ],
   "source": [
    "# Add a new column to the DataFrame with the promedios dictionary values\n",
    "df['diferencias'] = list(promedios.values())\n",
    "# Reset the index to a new column\n",
    "df.reset_index(inplace=True)\n",
    "\n",
    "# Rename the new index column to something meaningful (e.g., 'original_index')\n",
    "df = df.rename(columns={'index': 'p-value'})\n",
    "count_less_than_005 = (df < 0.05).sum()\n",
    "print(count_less_than_005)\n",
    "\n",
    "df['who'] = list(promedios.keys())"
   ]
  },
  {
   "cell_type": "code",
   "execution_count": 32,
   "metadata": {},
   "outputs": [],
   "source": [
    "df.to_csv(\"comparacion.csv\")"
   ]
  }
 ],
 "metadata": {
  "colab": {
   "provenance": []
  },
  "kernelspec": {
   "display_name": "tesis_env",
   "language": "python",
   "name": "python3"
  },
  "language_info": {
   "codemirror_mode": {
    "name": "ipython",
    "version": 3
   },
   "file_extension": ".py",
   "mimetype": "text/x-python",
   "name": "python",
   "nbconvert_exporter": "python",
   "pygments_lexer": "ipython3",
   "version": "3.11.5"
  }
 },
 "nbformat": 4,
 "nbformat_minor": 4
}
