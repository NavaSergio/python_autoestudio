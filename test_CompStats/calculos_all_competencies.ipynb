{
 "cells": [
  {
   "cell_type": "markdown",
   "metadata": {
    "id": "wGizC3XikMtk"
   },
   "source": [
    "<p><img alt=\"Colaboratory logo\" height=\"50px\" src=\"https://github.com/INGEOTEC/text_models/raw/master/docs/source/ingeotec.png\" align=\"left\" hspace=\"10px\" vspace=\"0px\" /></p>\n",
    "\n",
    "# CompStats\n",
    "## Quickstart Guide\n",
    "\n",
    "### <http://compstats.readthedocs.org>\n",
    "\n"
   ]
  },
  {
   "cell_type": "markdown",
   "metadata": {
    "id": "u-QV6DJYaQjg"
   },
   "source": [
    "## Installing CompStats"
   ]
  },
  {
   "cell_type": "code",
   "execution_count": 2,
   "metadata": {
    "id": "ISeelAVIJc59"
   },
   "outputs": [],
   "source": [
    "# !python -m pip uninstall CompStats"
   ]
  },
  {
   "cell_type": "code",
   "execution_count": 3,
   "metadata": {
    "id": "_4WTIJx5H9ii"
   },
   "outputs": [],
   "source": [
    "# %pip install -U git+https://github.com/INGEOTEC/CompStats@develop"
   ]
  },
  {
   "cell_type": "markdown",
   "metadata": {
    "id": "2sFWAgM0H3La"
   },
   "source": [
    "First, we need to install CompStats. This can be quickly done through pip, the Python package manager."
   ]
  },
  {
   "cell_type": "code",
   "execution_count": 4,
   "metadata": {
    "colab": {
     "base_uri": "https://localhost:8080/"
    },
    "id": "k2UzLxhkkMtp",
    "outputId": "dbadd757-1706-49ed-b866-539afbe92f71"
   },
   "outputs": [],
   "source": [
    "try:\n",
    "  import CompStats\n",
    "except ImportError:\n",
    "    !pip install Compstats\n",
    "    # !pip install -U git+https://github.com/INGEOTEC/CompStats@develop"
   ]
  },
  {
   "cell_type": "markdown",
   "metadata": {
    "id": "pqJKAfenkMtr"
   },
   "source": [
    "## Libraries"
   ]
  },
  {
   "cell_type": "markdown",
   "metadata": {
    "id": "ifWsyR9mH7-o"
   },
   "source": [
    "After installing `CompStats`, we must import the necessary libraries for our analysis. `CompStats` relies on several Python libraries for data analysis and scientific computing.\n",
    "\n",
    "The first line of the following code loads two functions from the `CompStats` library. The `performance` function is used to calculate and analyze the performance of machine learning models. On the other hand, the `plot_performance` function visualizes the performance metrics calculated by `performance`, such as accuracy or F1 score, along with confidence intervals to help understand the variability and reliability of the performance metrics.\n",
    "\n",
    "The second line imports two functions: `difference` and `plot_difference`; `difference` assesses the differences in performance between models in comparison to the best system, and `plot_difference` visually represents these differences relative to the best system.\n",
    "\n",
    "The third line imports two functions: `all_differences` and `difference_p_value`. `all_differences` evaluates the differences in performance between all models, and `difference_p_value` estimates the p-value of the hypothesis that the difference is significantly greater than zero.\n",
    "\n",
    "The fourth line imports the function `multipletests`that is used for adjusting p-values when multiple hypothesis tests are performed, to control for the false discovery rate or family-wise error rate.\n",
    "\n",
    "The rest of the lines load commonly used Python libraries."
   ]
  },
  {
   "cell_type": "code",
   "execution_count": 5,
   "metadata": {
    "id": "rUVyzgMokMts"
   },
   "outputs": [],
   "source": [
    "from CompStats import performance, plot_performance\n",
    "from CompStats import difference, plot_difference\n",
    "from CompStats import all_differences, difference_p_value\n",
    "from statsmodels.stats.multitest import multipletests\n",
    "from sklearn.metrics import f1_score\n",
    "import pandas as pd"
   ]
  },
  {
   "cell_type": "markdown",
   "metadata": {
    "id": "DWcPnzA2HI-Y"
   },
   "source": [
    "# Dataset"
   ]
  },
  {
   "cell_type": "markdown",
   "metadata": {
    "id": "eKbW9vf-IASa"
   },
   "source": [
    "Once we have set up our environment, we can explore what CompStats offers. Let's begin with a basic example of how to use CompStats for a simple statistical analysis.\n",
    "\n",
    "To illustrate the use of CompStats, we will use a dataset included in the CompStats package. The path of the dataset is found with the following instructions. The variable `DATA` contains the path as shown below.  "
   ]
  },
  {
   "cell_type": "code",
   "execution_count": 6,
   "metadata": {
    "colab": {
     "base_uri": "https://localhost:8080/",
     "height": 36
    },
    "id": "8TGr5Jh6HIPR",
    "outputId": "b16c1843-a520-4b42-b653-84aee799f963"
   },
   "outputs": [],
   "source": [
    "# from CompStats.tests.test_performance import DATA\n",
    "DATA = 'MeOffendEs_subtask3.csv'"
   ]
  },
  {
   "cell_type": "markdown",
   "metadata": {
    "id": "seBE-afbkMts"
   },
   "source": [
    "`DATA` contains the information to compare six systems for a multiclass classification task. The next instruction loads the data into a dataframe."
   ]
  },
  {
   "cell_type": "code",
   "execution_count": 7,
   "metadata": {
    "id": "WFo5qGVGI5fg"
   },
   "outputs": [],
   "source": [
    "df = pd.read_csv(DATA)"
   ]
  },
  {
   "cell_type": "markdown",
   "metadata": {
    "id": "CnOx0jOAJw6H"
   },
   "source": [
    "The first five rows of `df` are shown below. It can be observed that the first column contains the gold standard, identified with `y`, and the rest of the columns are the predictions performed by different systems."
   ]
  },
  {
   "cell_type": "code",
   "execution_count": 8,
   "metadata": {
    "colab": {
     "base_uri": "https://localhost:8080/",
     "height": 206
    },
    "id": "PxDOXB8QJ2yT",
    "outputId": "08dad3e6-bdf9-4c72-848f-5576ccd383cc"
   },
   "outputs": [
    {
     "data": {
      "text/html": [
       "<div>\n",
       "<style scoped>\n",
       "    .dataframe tbody tr th:only-of-type {\n",
       "        vertical-align: middle;\n",
       "    }\n",
       "\n",
       "    .dataframe tbody tr th {\n",
       "        vertical-align: top;\n",
       "    }\n",
       "\n",
       "    .dataframe thead th {\n",
       "        text-align: right;\n",
       "    }\n",
       "</style>\n",
       "<table border=\"1\" class=\"dataframe\">\n",
       "  <thead>\n",
       "    <tr style=\"text-align: right;\">\n",
       "      <th></th>\n",
       "      <th>y</th>\n",
       "      <th>aomar</th>\n",
       "      <th>CEN-Amrita</th>\n",
       "      <th>CIC-IPN</th>\n",
       "      <th>CIMAT-GTO</th>\n",
       "      <th>CIMAT-MTY-GTO</th>\n",
       "      <th>DCCD-INFOTEC</th>\n",
       "      <th>NLP-CIC</th>\n",
       "      <th>Timen</th>\n",
       "      <th>UMUTeam</th>\n",
       "      <th>xjywing</th>\n",
       "    </tr>\n",
       "  </thead>\n",
       "  <tbody>\n",
       "    <tr>\n",
       "      <th>2178</th>\n",
       "      <td>0</td>\n",
       "      <td>1</td>\n",
       "      <td>1</td>\n",
       "      <td>1</td>\n",
       "      <td>1</td>\n",
       "      <td>1</td>\n",
       "      <td>0</td>\n",
       "      <td>1</td>\n",
       "      <td>1</td>\n",
       "      <td>0</td>\n",
       "      <td>1</td>\n",
       "    </tr>\n",
       "    <tr>\n",
       "      <th>2179</th>\n",
       "      <td>1</td>\n",
       "      <td>1</td>\n",
       "      <td>1</td>\n",
       "      <td>0</td>\n",
       "      <td>1</td>\n",
       "      <td>1</td>\n",
       "      <td>1</td>\n",
       "      <td>1</td>\n",
       "      <td>0</td>\n",
       "      <td>1</td>\n",
       "      <td>1</td>\n",
       "    </tr>\n",
       "    <tr>\n",
       "      <th>2180</th>\n",
       "      <td>0</td>\n",
       "      <td>1</td>\n",
       "      <td>1</td>\n",
       "      <td>0</td>\n",
       "      <td>0</td>\n",
       "      <td>0</td>\n",
       "      <td>0</td>\n",
       "      <td>0</td>\n",
       "      <td>0</td>\n",
       "      <td>0</td>\n",
       "      <td>1</td>\n",
       "    </tr>\n",
       "    <tr>\n",
       "      <th>2181</th>\n",
       "      <td>1</td>\n",
       "      <td>1</td>\n",
       "      <td>1</td>\n",
       "      <td>0</td>\n",
       "      <td>1</td>\n",
       "      <td>1</td>\n",
       "      <td>1</td>\n",
       "      <td>1</td>\n",
       "      <td>0</td>\n",
       "      <td>0</td>\n",
       "      <td>1</td>\n",
       "    </tr>\n",
       "    <tr>\n",
       "      <th>2182</th>\n",
       "      <td>0</td>\n",
       "      <td>1</td>\n",
       "      <td>1</td>\n",
       "      <td>0</td>\n",
       "      <td>1</td>\n",
       "      <td>0</td>\n",
       "      <td>0</td>\n",
       "      <td>0</td>\n",
       "      <td>0</td>\n",
       "      <td>0</td>\n",
       "      <td>1</td>\n",
       "    </tr>\n",
       "  </tbody>\n",
       "</table>\n",
       "</div>"
      ],
      "text/plain": [
       "      y  aomar  CEN-Amrita  CIC-IPN  CIMAT-GTO  CIMAT-MTY-GTO  DCCD-INFOTEC  \\\n",
       "2178  0      1           1        1          1              1             0   \n",
       "2179  1      1           1        0          1              1             1   \n",
       "2180  0      1           1        0          0              0             0   \n",
       "2181  1      1           1        0          1              1             1   \n",
       "2182  0      1           1        0          1              0             0   \n",
       "\n",
       "      NLP-CIC  Timen  UMUTeam  xjywing  \n",
       "2178        1      1        0        1  \n",
       "2179        1      0        1        1  \n",
       "2180        0      0        0        1  \n",
       "2181        1      0        0        1  \n",
       "2182        0      0        0        1  "
      ]
     },
     "execution_count": 8,
     "metadata": {},
     "output_type": "execute_result"
    }
   ],
   "source": [
    "df.tail(5)"
   ]
  },
  {
   "cell_type": "markdown",
   "metadata": {
    "id": "sqI3FxmCI_pM"
   },
   "source": [
    "# Performance Anaylisis"
   ]
  },
  {
   "cell_type": "markdown",
   "metadata": {
    "id": "JR1B0lg4K85m"
   },
   "source": [
    "Let us start with the performance analysis of the different systems. The performance metric used is the weighted average F1 score. This performance is coded in the variable `score` as observed in the next instruction."
   ]
  },
  {
   "cell_type": "code",
   "execution_count": 9,
   "metadata": {
    "id": "IXHA4HRkLA9q"
   },
   "outputs": [],
   "source": [
    "score = lambda y, hy: f1_score(y, hy, average='binary')"
   ]
  },
  {
   "cell_type": "markdown",
   "metadata": {
    "id": "xYCMtk-1LZtL"
   },
   "source": [
    "The next step is to compute the performance on the bootstrap samples; this is done with the function `performance`. The function has a few parameters; one is the `score`, which receives the metric used to measure the performance."
   ]
  },
  {
   "cell_type": "code",
   "execution_count": 10,
   "metadata": {
    "colab": {
     "base_uri": "https://localhost:8080/"
    },
    "id": "-96k0EbaLadL",
    "outputId": "cba38610-383b-402e-e8e2-f0fcdea5908e"
   },
   "outputs": [],
   "source": [
    "perf = performance(df, score=score,num_samples=10000)"
   ]
  },
  {
   "cell_type": "code",
   "execution_count": 13,
   "metadata": {},
   "outputs": [
    {
     "data": {
      "text/html": [
       "<div>\n",
       "<style scoped>\n",
       "    .dataframe tbody tr th:only-of-type {\n",
       "        vertical-align: middle;\n",
       "    }\n",
       "\n",
       "    .dataframe tbody tr th {\n",
       "        vertical-align: top;\n",
       "    }\n",
       "\n",
       "    .dataframe thead th {\n",
       "        text-align: right;\n",
       "    }\n",
       "</style>\n",
       "<table border=\"1\" class=\"dataframe\">\n",
       "  <thead>\n",
       "    <tr style=\"text-align: right;\">\n",
       "      <th></th>\n",
       "      <th>aomar</th>\n",
       "      <th>CEN-Amrita</th>\n",
       "      <th>CIC-IPN</th>\n",
       "      <th>CIMAT-GTO</th>\n",
       "      <th>CIMAT-MTY-GTO</th>\n",
       "      <th>DCCD-INFOTEC</th>\n",
       "      <th>NLP-CIC</th>\n",
       "      <th>Timen</th>\n",
       "      <th>UMUTeam</th>\n",
       "      <th>xjywing</th>\n",
       "    </tr>\n",
       "  </thead>\n",
       "  <tbody>\n",
       "    <tr>\n",
       "      <th>0</th>\n",
       "      <td>0.499551</td>\n",
       "      <td>0.489676</td>\n",
       "      <td>0.621062</td>\n",
       "      <td>0.688442</td>\n",
       "      <td>0.709677</td>\n",
       "      <td>0.720539</td>\n",
       "      <td>0.716172</td>\n",
       "      <td>0.644573</td>\n",
       "      <td>0.704341</td>\n",
       "      <td>0.516367</td>\n",
       "    </tr>\n",
       "    <tr>\n",
       "      <th>1</th>\n",
       "      <td>0.489048</td>\n",
       "      <td>0.479132</td>\n",
       "      <td>0.613987</td>\n",
       "      <td>0.680307</td>\n",
       "      <td>0.710466</td>\n",
       "      <td>0.694421</td>\n",
       "      <td>0.734728</td>\n",
       "      <td>0.628993</td>\n",
       "      <td>0.689425</td>\n",
       "      <td>0.498175</td>\n",
       "    </tr>\n",
       "    <tr>\n",
       "      <th>2</th>\n",
       "      <td>0.477355</td>\n",
       "      <td>0.472481</td>\n",
       "      <td>0.632935</td>\n",
       "      <td>0.707666</td>\n",
       "      <td>0.719818</td>\n",
       "      <td>0.682717</td>\n",
       "      <td>0.707641</td>\n",
       "      <td>0.616162</td>\n",
       "      <td>0.700754</td>\n",
       "      <td>0.500702</td>\n",
       "    </tr>\n",
       "    <tr>\n",
       "      <th>3</th>\n",
       "      <td>0.477639</td>\n",
       "      <td>0.472585</td>\n",
       "      <td>0.584054</td>\n",
       "      <td>0.670112</td>\n",
       "      <td>0.704247</td>\n",
       "      <td>0.697714</td>\n",
       "      <td>0.715517</td>\n",
       "      <td>0.604534</td>\n",
       "      <td>0.684564</td>\n",
       "      <td>0.506413</td>\n",
       "    </tr>\n",
       "    <tr>\n",
       "      <th>4</th>\n",
       "      <td>0.478924</td>\n",
       "      <td>0.475465</td>\n",
       "      <td>0.603774</td>\n",
       "      <td>0.691419</td>\n",
       "      <td>0.714715</td>\n",
       "      <td>0.673384</td>\n",
       "      <td>0.719342</td>\n",
       "      <td>0.614498</td>\n",
       "      <td>0.657916</td>\n",
       "      <td>0.499309</td>\n",
       "    </tr>\n",
       "    <tr>\n",
       "      <th>...</th>\n",
       "      <td>...</td>\n",
       "      <td>...</td>\n",
       "      <td>...</td>\n",
       "      <td>...</td>\n",
       "      <td>...</td>\n",
       "      <td>...</td>\n",
       "      <td>...</td>\n",
       "      <td>...</td>\n",
       "      <td>...</td>\n",
       "      <td>...</td>\n",
       "    </tr>\n",
       "    <tr>\n",
       "      <th>9995</th>\n",
       "      <td>0.468917</td>\n",
       "      <td>0.463817</td>\n",
       "      <td>0.586368</td>\n",
       "      <td>0.680101</td>\n",
       "      <td>0.707831</td>\n",
       "      <td>0.692939</td>\n",
       "      <td>0.722591</td>\n",
       "      <td>0.598361</td>\n",
       "      <td>0.680395</td>\n",
       "      <td>0.485922</td>\n",
       "    </tr>\n",
       "    <tr>\n",
       "      <th>9996</th>\n",
       "      <td>0.473399</td>\n",
       "      <td>0.470839</td>\n",
       "      <td>0.626394</td>\n",
       "      <td>0.690355</td>\n",
       "      <td>0.710223</td>\n",
       "      <td>0.702612</td>\n",
       "      <td>0.737281</td>\n",
       "      <td>0.626566</td>\n",
       "      <td>0.675497</td>\n",
       "      <td>0.498839</td>\n",
       "    </tr>\n",
       "    <tr>\n",
       "      <th>9997</th>\n",
       "      <td>0.475168</td>\n",
       "      <td>0.479290</td>\n",
       "      <td>0.601476</td>\n",
       "      <td>0.685327</td>\n",
       "      <td>0.707763</td>\n",
       "      <td>0.683009</td>\n",
       "      <td>0.719064</td>\n",
       "      <td>0.613311</td>\n",
       "      <td>0.657214</td>\n",
       "      <td>0.498165</td>\n",
       "    </tr>\n",
       "    <tr>\n",
       "      <th>9998</th>\n",
       "      <td>0.473255</td>\n",
       "      <td>0.472187</td>\n",
       "      <td>0.579350</td>\n",
       "      <td>0.683903</td>\n",
       "      <td>0.704268</td>\n",
       "      <td>0.667228</td>\n",
       "      <td>0.714167</td>\n",
       "      <td>0.573617</td>\n",
       "      <td>0.659432</td>\n",
       "      <td>0.507863</td>\n",
       "    </tr>\n",
       "    <tr>\n",
       "      <th>9999</th>\n",
       "      <td>0.483900</td>\n",
       "      <td>0.481857</td>\n",
       "      <td>0.606171</td>\n",
       "      <td>0.675410</td>\n",
       "      <td>0.688379</td>\n",
       "      <td>0.680464</td>\n",
       "      <td>0.723473</td>\n",
       "      <td>0.592289</td>\n",
       "      <td>0.657980</td>\n",
       "      <td>0.490169</td>\n",
       "    </tr>\n",
       "  </tbody>\n",
       "</table>\n",
       "<p>10000 rows × 10 columns</p>\n",
       "</div>"
      ],
      "text/plain": [
       "         aomar  CEN-Amrita   CIC-IPN  CIMAT-GTO  CIMAT-MTY-GTO  DCCD-INFOTEC  \\\n",
       "0     0.499551    0.489676  0.621062   0.688442       0.709677      0.720539   \n",
       "1     0.489048    0.479132  0.613987   0.680307       0.710466      0.694421   \n",
       "2     0.477355    0.472481  0.632935   0.707666       0.719818      0.682717   \n",
       "3     0.477639    0.472585  0.584054   0.670112       0.704247      0.697714   \n",
       "4     0.478924    0.475465  0.603774   0.691419       0.714715      0.673384   \n",
       "...        ...         ...       ...        ...            ...           ...   \n",
       "9995  0.468917    0.463817  0.586368   0.680101       0.707831      0.692939   \n",
       "9996  0.473399    0.470839  0.626394   0.690355       0.710223      0.702612   \n",
       "9997  0.475168    0.479290  0.601476   0.685327       0.707763      0.683009   \n",
       "9998  0.473255    0.472187  0.579350   0.683903       0.704268      0.667228   \n",
       "9999  0.483900    0.481857  0.606171   0.675410       0.688379      0.680464   \n",
       "\n",
       "       NLP-CIC     Timen   UMUTeam   xjywing  \n",
       "0     0.716172  0.644573  0.704341  0.516367  \n",
       "1     0.734728  0.628993  0.689425  0.498175  \n",
       "2     0.707641  0.616162  0.700754  0.500702  \n",
       "3     0.715517  0.604534  0.684564  0.506413  \n",
       "4     0.719342  0.614498  0.657916  0.499309  \n",
       "...        ...       ...       ...       ...  \n",
       "9995  0.722591  0.598361  0.680395  0.485922  \n",
       "9996  0.737281  0.626566  0.675497  0.498839  \n",
       "9997  0.719064  0.613311  0.657214  0.498165  \n",
       "9998  0.714167  0.573617  0.659432  0.507863  \n",
       "9999  0.723473  0.592289  0.657980  0.490169  \n",
       "\n",
       "[10000 rows x 10 columns]"
      ]
     },
     "execution_count": 13,
     "metadata": {},
     "output_type": "execute_result"
    }
   ],
   "source": [
    "pd.DataFrame(perf.calls)"
   ]
  },
  {
   "cell_type": "code",
   "execution_count": 15,
   "metadata": {},
   "outputs": [],
   "source": [
    "import pickle\n",
    "\n",
    "# Suponiendo que tienes un objeto \"perf\"\n",
    "#perf = {\"nombre\": \"Ejemplo\", \"valor\": 10}\n",
    "\n",
    "#print(perf)\n",
    "# Almacenar el objeto en un archivo\n",
    "with open(DATA+\".dat\", \"wb\") as archivo:\n",
    "    pickle.dump(perf.calls, archivo)\n",
    "\n",
    "# Recuperar el objeto del archivo\n",
    "with open(DATA+\".dat\", \"rb\") as archivo:\n",
    "    perf_recuperado = pickle.load(archivo)"
   ]
  },
  {
   "cell_type": "code",
   "execution_count": 14,
   "metadata": {},
   "outputs": [
    {
     "name": "stdout",
     "output_type": "stream",
     "text": [
      "{'aomar': array([0.47790803, 0.48722628, 0.46091279, ..., 0.4690027 , 0.44696283,\n",
      "       0.48627104]), 'CEN-Amrita': array([0.47711864, 0.4788975 , 0.45716709, ..., 0.47118216, 0.45353794,\n",
      "       0.48877805]), 'CIC-IPN': array([0.60521415, 0.61524164, 0.62781955, ..., 0.60072595, 0.57555342,\n",
      "       0.6284153 ]), 'CIMAT-GTO': array([0.66381523, 0.69146238, 0.70136519, ..., 0.68209083, 0.68233246,\n",
      "       0.68012924]), 'CIMAT-MTY-GTO': array([0.67561168, 0.70175439, 0.7189441 , ..., 0.68783888, 0.70699136,\n",
      "       0.70432869]), 'DCCD-INFOTEC': array([0.67345208, 0.7       , 0.67362924, ..., 0.67517007, 0.68471616,\n",
      "       0.68468468]), 'NLP-CIC': array([0.72340426, 0.73010664, 0.7106599 , ..., 0.69106383, 0.71391973,\n",
      "       0.73541167]), 'Timen': array([0.59831933, 0.62959935, 0.60358056, ..., 0.59744681, 0.58987784,\n",
      "       0.61764706]), 'UMUTeam': array([0.67560771, 0.67536705, 0.67632027, ..., 0.67549669, 0.66319444,\n",
      "       0.6688    ]), 'xjywing': array([0.50068902, 0.5113852 , 0.48196115, ..., 0.48954947, 0.46455224,\n",
      "       0.52021563])}\n",
      "{'aomar': array([0.47790803, 0.48722628, 0.46091279, ..., 0.4690027 , 0.44696283,\n",
      "       0.48627104]), 'CEN-Amrita': array([0.47711864, 0.4788975 , 0.45716709, ..., 0.47118216, 0.45353794,\n",
      "       0.48877805]), 'CIC-IPN': array([0.60521415, 0.61524164, 0.62781955, ..., 0.60072595, 0.57555342,\n",
      "       0.6284153 ]), 'CIMAT-GTO': array([0.66381523, 0.69146238, 0.70136519, ..., 0.68209083, 0.68233246,\n",
      "       0.68012924]), 'CIMAT-MTY-GTO': array([0.67561168, 0.70175439, 0.7189441 , ..., 0.68783888, 0.70699136,\n",
      "       0.70432869]), 'DCCD-INFOTEC': array([0.67345208, 0.7       , 0.67362924, ..., 0.67517007, 0.68471616,\n",
      "       0.68468468]), 'NLP-CIC': array([0.72340426, 0.73010664, 0.7106599 , ..., 0.69106383, 0.71391973,\n",
      "       0.73541167]), 'Timen': array([0.59831933, 0.62959935, 0.60358056, ..., 0.59744681, 0.58987784,\n",
      "       0.61764706]), 'UMUTeam': array([0.67560771, 0.67536705, 0.67632027, ..., 0.67549669, 0.66319444,\n",
      "       0.6688    ]), 'xjywing': array([0.50068902, 0.5113852 , 0.48196115, ..., 0.48954947, 0.46455224,\n",
      "       0.52021563])}\n"
     ]
    }
   ],
   "source": [
    "import pickle\n",
    "\n",
    "# Suponiendo que tienes un objeto \"perf\"\n",
    "#perf = {\"nombre\": \"Ejemplo\", \"valor\": 10}\n",
    "\n",
    "print(perf.calls)\n",
    "# Almacenar el objeto en un archivo\n",
    "with open(\"perf.dat\", \"wb\") as archivo:\n",
    "    pickle.dump(perf.calls, archivo)\n",
    "\n",
    "# Recuperar el objeto del archivo\n",
    "with open(\"perf.dat\", \"rb\") as archivo:\n",
    "    perf_recuperado = pickle.load(archivo)\n",
    "\n",
    "print(perf_recuperado)"
   ]
  },
  {
   "cell_type": "markdown",
   "metadata": {
    "id": "sEfBLwenQpND"
   },
   "source": [
    "`perf` is an instance of `StatisticSamples`, the bootstrap samples can be seen on the property `calls`. The first five bootstrap samples of the performance of INGEOTEC are shown below. -- It verifies that the key is in the dictionary in case the dataset has been changed. --"
   ]
  },
  {
   "cell_type": "code",
   "execution_count": null,
   "metadata": {
    "colab": {
     "base_uri": "https://localhost:8080/"
    },
    "id": "IrbRfFuCQsGf",
    "outputId": "995bf6f7-02d8-4526-de25-4e56151d7f3b"
   },
   "outputs": [],
   "source": [
    "if 'DCCD-INFOTEC' in perf.calls:\n",
    "  print(f\"{perf.calls['DCCD-INFOTEC'][:5]}\")"
   ]
  },
  {
   "cell_type": "markdown",
   "metadata": {
    "id": "SaUGXqEVJE6A"
   },
   "source": [
    "The performance of the systems, along with their confidence intervals, can be seen using the next instruction."
   ]
  },
  {
   "cell_type": "code",
   "execution_count": null,
   "metadata": {
    "colab": {
     "base_uri": "https://localhost:8080/",
     "height": 506
    },
    "id": "djiadR9dkMts",
    "outputId": "fbd0675c-0933-4d6e-e142-633394526b61"
   },
   "outputs": [],
   "source": [
    "face_grid = plot_performance(perf)"
   ]
  },
  {
   "cell_type": "markdown",
   "metadata": {
    "id": "eBmUNHXWR2pL"
   },
   "source": [
    "It can be observed that the best system is INGEOTEC. Although the confidence intervals provide information that helps to assess the difference in the performance of the systems, in this case, the intervals intersect. Therefore, one needs another statistical tool to determine if the difference in performance is significant."
   ]
  },
  {
   "cell_type": "markdown",
   "metadata": {
    "id": "hJ1gAxzkkMts"
   },
   "source": [
    "# Performance Comparison against the Winner"
   ]
  },
  {
   "cell_type": "markdown",
   "metadata": {
    "id": "peFwDTsNdRiz"
   },
   "source": [
    "The difference in their performance compared to the best-performing system can be used to compare the algorithms analyzed. The function `difference` computes the difference as shown below."
   ]
  },
  {
   "cell_type": "code",
   "execution_count": 41,
   "metadata": {
    "id": "0FXWINpdkMtt"
   },
   "outputs": [],
   "source": [
    "diff = difference(perf)"
   ]
  },
  {
   "cell_type": "markdown",
   "metadata": {
    "id": "2p_ppDE9dV0F"
   },
   "source": [
    "`diff` is an instance of `StatisticSamples`; one can find the best system on the property `info`, as the following instruction shows."
   ]
  },
  {
   "cell_type": "code",
   "execution_count": null,
   "metadata": {
    "colab": {
     "base_uri": "https://localhost:8080/"
    },
    "id": "7oz3wbr6dr_m",
    "outputId": "a4b5e252-dcbe-4345-c5e5-e84acd3edce7"
   },
   "outputs": [],
   "source": [
    "diff.info"
   ]
  },
  {
   "cell_type": "markdown",
   "metadata": {
    "id": "iD_jAdwmd5QZ"
   },
   "source": [
    "The difference in performance can be visualized with the following instruction."
   ]
  },
  {
   "cell_type": "code",
   "execution_count": null,
   "metadata": {
    "colab": {
     "base_uri": "https://localhost:8080/",
     "height": 529
    },
    "id": "obO7DOUWdW52",
    "outputId": "38b7de59-4aea-43b7-d3dc-eae94c6f19d6"
   },
   "outputs": [],
   "source": [
    "face_grid_diff = plot_difference(diff)"
   ]
  },
  {
   "cell_type": "markdown",
   "metadata": {
    "id": "aHlFz543kMtt"
   },
   "source": [
    "From the performance graphs, for this example, we can observe that the ranking is *INGEOTEC*, *BoW*, *StackBoW*, *BoW (Corpus)*, *Dense*, *Bow (Class Weight)*. Hence, in the last graph, we analyze the performance difference against the winner (INGEOTEC). From this graph, we can conclude that *BoW* and *StackBoW*, might perform similarly to INGEOTEC.\n",
    "\n",
    "Should we test the hypothesis of equality versus difference, considering that one system outperforms the other in the test? To address this question, we compare the performance of two systems, $A$ and $B$, to determine whether $A$ is superior to $B$ in a larger data population, represented as $\\theta_A > \\theta_B$. We can estimate the p-value associated with the hypothesis test $H_0: \\theta_A \\le \\theta_B$ vs $H_1: \\theta_A > \\theta_B$ given the data, equivalently $H_0: \\theta_A< -  \\theta_B\\le 0$ vs $H_1: \\theta_A - \\theta_B > 0$. The p-values for these differences can be estimated using the following instruction, comparing them against the winner (INGEOTEC) to determine the probability that $a$ (INGEOTEC) is better than $b$.\n",
    "\n",
    "The `difference_p_value` function estimates the p-value for each difference in comparison to the best system, as illustrated below.\n"
   ]
  },
  {
   "cell_type": "code",
   "execution_count": 44,
   "metadata": {
    "id": "83DAxZ18kMtt"
   },
   "outputs": [],
   "source": [
    "p_values = difference_p_value(diff)"
   ]
  },
  {
   "cell_type": "markdown",
   "metadata": {
    "id": "WEEPzr4l2BMn"
   },
   "source": [
    "For a given $\\alpha$ level, p-values smaller than $\\alpha$  are significant, meaning the observed difference is unlikely to be due to chance. An $\\alpha$ level of 0.05 is commonly used."
   ]
  },
  {
   "cell_type": "code",
   "execution_count": null,
   "metadata": {
    "colab": {
     "base_uri": "https://localhost:8080/"
    },
    "id": "p2VtUMvS0Z4k",
    "outputId": "6a3cf917-98da-46ed-a103-4faf13725e53"
   },
   "outputs": [],
   "source": [
    "p_values"
   ]
  },
  {
   "cell_type": "code",
   "execution_count": null,
   "metadata": {},
   "outputs": [],
   "source": [
    "result = multipletests(list(p_values.values()), method='bonferroni')\n",
    "p_valuesC = dict(zip(p_values.keys(),result[1]))\n",
    "p_valuesC"
   ]
  },
  {
   "cell_type": "markdown",
   "metadata": {
    "id": "rt21qMcDkMtu"
   },
   "source": [
    "# Performance comparison between all models\n",
    "\n",
    "Similarly, the differences for each pair of variables between all models can be estimated using the function `all_differences`, as illustrated in the following instructions. This approach allows for a comprehensive analysis of how each model compares to the others, providing a statistical basis to understand the significance of performance variations among them. This method extends the comparative analysis, offering a detailed view of the competitive landscape of model performance."
   ]
  },
  {
   "cell_type": "code",
   "execution_count": 47,
   "metadata": {
    "id": "6ehkDIH_kMtu"
   },
   "outputs": [],
   "source": [
    "all_diff = all_differences(perf)\n"
   ]
  },
  {
   "cell_type": "code",
   "execution_count": null,
   "metadata": {},
   "outputs": [],
   "source": [
    "all_diff.calls"
   ]
  },
  {
   "cell_type": "code",
   "execution_count": null,
   "metadata": {},
   "outputs": [],
   "source": [
    "promedios = {key: sum(value) / len(value) for key, value in all_diff.calls.items()}\n",
    "promedios"
   ]
  },
  {
   "cell_type": "markdown",
   "metadata": {
    "id": "CC2hR4w_4IzC"
   },
   "source": [
    "Once again, we use the function `difference_p_value` to estimate the p-value."
   ]
  },
  {
   "cell_type": "code",
   "execution_count": 50,
   "metadata": {
    "id": "x2vlIMNc3h5W"
   },
   "outputs": [],
   "source": [
    "p_values = difference_p_value(all_diff)"
   ]
  },
  {
   "cell_type": "markdown",
   "metadata": {
    "id": "192xc-_24chZ"
   },
   "source": [
    "And we can analyze from all pairs of systems individually which ones have significantly different performances by comparing their p-value with $\\alpha$."
   ]
  },
  {
   "cell_type": "code",
   "execution_count": null,
   "metadata": {
    "colab": {
     "base_uri": "https://localhost:8080/"
    },
    "id": "l5hRhylS3jh2",
    "outputId": "b06cbf00-2d24-4714-e749-6210b2d96001"
   },
   "outputs": [],
   "source": [
    "p_values"
   ]
  },
  {
   "cell_type": "code",
   "execution_count": null,
   "metadata": {},
   "outputs": [],
   "source": [
    "{k: round(v, 3) for k, v in p_values.items()}\n"
   ]
  },
  {
   "cell_type": "markdown",
   "metadata": {
    "id": "NS3RHI9SkMtu"
   },
   "source": [
    "When conducting numerous comparisons or hypothesis tests on a dataset, the risk of incurring Type I errors (incorrectly dismissing a valid null hypothesis) increases. This happens because more tests performed increase the probability of randomly identifying statistically significant outcomes. Implementing adjustments for multiple comparisons is critical for several reasons: (1) To manage the risk of Type I Error, (2) To prevent erroneous conclusions, and (3) To uphold the integrity of the research.\n",
    "\n",
    "The following code illustrates the effect of these methods for multiple comparison corrections. The function `multipletests` makes the p-value correction by selecting the parameter `method`. In this example, the Bonferroni correction method is used."
   ]
  },
  {
   "cell_type": "code",
   "execution_count": 53,
   "metadata": {
    "id": "V1J_cqfdkMtu"
   },
   "outputs": [],
   "source": [
    "result = multipletests(list(p_values.values()), method='bonferroni')"
   ]
  },
  {
   "cell_type": "markdown",
   "metadata": {
    "id": "e2myRaBo6mPf"
   },
   "source": [
    "`result` is an array; next, we convert it back into a dictionary."
   ]
  },
  {
   "cell_type": "code",
   "execution_count": 54,
   "metadata": {
    "id": "MSaGBndz6G6t"
   },
   "outputs": [],
   "source": [
    "p_valuesC = dict(zip(p_values.keys(),result[1]))"
   ]
  },
  {
   "cell_type": "markdown",
   "metadata": {
    "id": "FY-9W45Q7nId"
   },
   "source": [
    "And we can analyze from all pairs of systems simunstally which ones have significantly different performances by comparing their p-value with $\\alpha$."
   ]
  },
  {
   "cell_type": "code",
   "execution_count": null,
   "metadata": {
    "colab": {
     "base_uri": "https://localhost:8080/"
    },
    "id": "SKiKx3GU6IlN",
    "outputId": "94dd212d-dcae-4ec3-92f0-7397f5bd91a7"
   },
   "outputs": [],
   "source": [
    "p_valuesC"
   ]
  },
  {
   "cell_type": "code",
   "execution_count": null,
   "metadata": {},
   "outputs": [],
   "source": [
    "\n",
    "# assume p_values is a dictionary with p-values as values\n",
    "p_values_list = list(p_values.values())\n",
    "\n",
    "# define the correction methods to apply\n",
    "methods = ['bonferroni', 'holm', 'fdr_bh']\n",
    "\n",
    "# create a dictionary to store the corrected p-values\n",
    "corrected_pvalues = {}\n",
    "\n",
    "# apply each correction method and store the results\n",
    "for method in methods:\n",
    "    result = multipletests(p_values_list, method=method)\n",
    "    p_valuesC = dict(zip(p_values.keys(),result[1]))\n",
    "    corrected_pvalues[method] = p_valuesC\n",
    "\n",
    "# create a Pandas DataFrame from the corrected p-values\n",
    "df = pd.DataFrame(corrected_pvalues)\n",
    "\n",
    "# set the index to the original p-values (optional)\n",
    "df.index = p_values_list\n",
    "\n",
    "print(df)"
   ]
  },
  {
   "cell_type": "code",
   "execution_count": null,
   "metadata": {},
   "outputs": [],
   "source": [
    "# Add a new column to the DataFrame with the promedios dictionary values\n",
    "df['diferencias'] = list(promedios.values())\n",
    "# Reset the index to a new column\n",
    "df.reset_index(inplace=True)\n",
    "\n",
    "# Rename the new index column to something meaningful (e.g., 'original_index')\n",
    "df = df.rename(columns={'index': 'p-value'})\n",
    "count_less_than_005 = (df < 0.05).sum()\n",
    "print(count_less_than_005)\n",
    "\n",
    "df['who'] = list(promedios.keys())"
   ]
  },
  {
   "cell_type": "code",
   "execution_count": 89,
   "metadata": {},
   "outputs": [],
   "source": [
    "df.to_csv(\"comparacion.csv\")"
   ]
  }
 ],
 "metadata": {
  "colab": {
   "provenance": []
  },
  "kernelspec": {
   "display_name": "tesis_env",
   "language": "python",
   "name": "python3"
  },
  "language_info": {
   "codemirror_mode": {
    "name": "ipython",
    "version": 3
   },
   "file_extension": ".py",
   "mimetype": "text/x-python",
   "name": "python",
   "nbconvert_exporter": "python",
   "pygments_lexer": "ipython3",
   "version": "3.11.5"
  }
 },
 "nbformat": 4,
 "nbformat_minor": 4
}
