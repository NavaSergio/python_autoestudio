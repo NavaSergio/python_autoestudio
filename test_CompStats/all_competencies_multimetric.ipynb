{
 "cells": [
  {
   "cell_type": "markdown",
   "metadata": {
    "id": "wGizC3XikMtk"
   },
   "source": [
    "<p><img alt=\"Colaboratory logo\" height=\"50px\" src=\"https://github.com/INGEOTEC/text_models/raw/master/docs/source/ingeotec.png\" align=\"left\" hspace=\"10px\" vspace=\"0px\" /></p>\n",
    "\n",
    "# CompStats\n",
    "## Quickstart Guide\n",
    "\n",
    "### <http://compstats.readthedocs.org>\n",
    "\n"
   ]
  },
  {
   "cell_type": "markdown",
   "metadata": {
    "id": "u-QV6DJYaQjg"
   },
   "source": [
    "## Installing CompStats"
   ]
  },
  {
   "cell_type": "code",
   "execution_count": 1,
   "metadata": {
    "id": "ISeelAVIJc59"
   },
   "outputs": [],
   "source": [
    "# !python -m pip uninstall CompStats"
   ]
  },
  {
   "cell_type": "code",
   "execution_count": 2,
   "metadata": {
    "id": "_4WTIJx5H9ii"
   },
   "outputs": [],
   "source": [
    "# %pip install -U git+https://github.com/INGEOTEC/CompStats@origin/develop\n",
    "# %pip install -U \"C:\\Users\\Sergio Nava\\Documentos\\GitHub\\INGEOTEC\\CompStats\"\n",
    "# %pip install -U git+https://github.com/INGEOTEC/CompStats@develop\n",
    "# %pip install -U CompStats"
   ]
  },
  {
   "cell_type": "markdown",
   "metadata": {
    "id": "2sFWAgM0H3La"
   },
   "source": [
    "First, we need to install CompStats. This can be quickly done through pip, the Python package manager."
   ]
  },
  {
   "cell_type": "code",
   "execution_count": 3,
   "metadata": {
    "colab": {
     "base_uri": "https://localhost:8080/"
    },
    "id": "k2UzLxhkkMtp",
    "outputId": "dbadd757-1706-49ed-b866-539afbe92f71"
   },
   "outputs": [],
   "source": [
    "try:\n",
    "  import CompStats\n",
    "except ImportError:\n",
    "    %pip install \"C:\\Users\\Sergio Nava\\Documentos\\GitHub\\INGEOTEC\\CompStats\""
   ]
  },
  {
   "cell_type": "markdown",
   "metadata": {
    "id": "pqJKAfenkMtr"
   },
   "source": [
    "## Libraries"
   ]
  },
  {
   "cell_type": "markdown",
   "metadata": {
    "id": "ifWsyR9mH7-o"
   },
   "source": [
    "After installing `CompStats`, we must import the necessary libraries for our analysis. `CompStats` relies on several Python libraries for data analysis and scientific computing.\n",
    "\n",
    "The first line of the following code loads two functions from the `CompStats` library. The `performance_multiple_metrics` function is used to calculate and analyze the performance of machine learning models for the multimetric case. On the other hand, the `plot_performance_multiple` function visualizes the performance metrics calculated by `performance_multiple_metrics`, such as accuracy or F1 score, along with confidence intervals to help understand the variability and reliability of the performance metrics.\n",
    "\n",
    "The second line imports two functions: `difference_multiple` and `plot_difference_multiple`; `difference_multiple` assesses the differences in performance between models in comparison to the best system for each metric, and `plot_difference_multiple` visually represents these differences relative to the best system.\n",
    "\n",
    "The third line imports two functions: `all_differences` and `difference_p_value`. `all_differences` evaluates the differences in performance between all models, and `difference_p_value` estimates the p-value of the hypothesis that the difference is significantly greater than zero.\n",
    "\n",
    "The fourth line imports the function `multipletests`that is used for adjusting p-values when multiple hypothesis tests are performed, to control for the false discovery rate or family-wise error rate.\n",
    "\n",
    "The rest of the lines load commonly used Python libraries."
   ]
  },
  {
   "cell_type": "code",
   "execution_count": 4,
   "metadata": {
    "id": "rUVyzgMokMts"
   },
   "outputs": [],
   "source": [
    "from CompStats import performance_multiple_metrics, plot_performance_multiple\n",
    "from CompStats import difference_multiple, plot_difference_multiple\n",
    "from CompStats import all_differences_multiple\n",
    "from CompStats import difference_p_value\n",
    "from statsmodels.stats.multitest import multipletests\n",
    "from sklearn.metrics import mean_absolute_error, accuracy_score, f1_score, precision_score\n",
    "import pandas as pd\n",
    "import numpy as np\n",
    "\n",
    "import matplotlib.pyplot as plt\n",
    "\n",
    "# la siguiente línea es para cargar el modulo measurements para calcular el CI \n",
    "from CompStats import measurements"
   ]
  },
  {
   "cell_type": "markdown",
   "metadata": {
    "id": "DWcPnzA2HI-Y"
   },
   "source": [
    "# Dataset"
   ]
  },
  {
   "cell_type": "markdown",
   "metadata": {
    "id": "eKbW9vf-IASa"
   },
   "source": [
    "Once we have set up our environment, we can explore what CompStats offers. Let's begin with a basic example of how to use CompStats for a simple statistical analysis.\n",
    "\n",
    "To illustrate the use of CompStats, we will use a dataset included in the CompStats package. The path of the dataset is found with the following instructions. The variable `DATA` contains the path as shown below.  "
   ]
  },
  {
   "cell_type": "code",
   "execution_count": 5,
   "metadata": {
    "colab": {
     "base_uri": "https://localhost:8080/",
     "height": 36
    },
    "id": "8TGr5Jh6HIPR",
    "outputId": "b16c1843-a520-4b42-b653-84aee799f963"
   },
   "outputs": [],
   "source": [
    "# from CompStats.tests.test_performance import DATA\n",
    "import os\n",
    "# DATA = \"C:\\\\Users\\\\Sergio Nava\\\\Documentos\\\\GitHub\\\\INGEOTEC\\\\CompStats\\\\CompStats\\\\tests\\\\data.csv\"\n",
    "#DATA = '/Users/nava/Documents/GitHub/DCCD/CompStats/CompStats/tests/data.csv'\n"
   ]
  },
  {
   "cell_type": "code",
   "execution_count": 26,
   "metadata": {},
   "outputs": [
    {
     "name": "stdout",
     "output_type": "stream",
     "text": [
      "Promedio del F1 Score: 0.4\n"
     ]
    }
   ],
   "source": [
    "from sklearn.metrics import f1_score\n",
    "\n",
    "def calcular_f1_score(y_true, y_pred, *args, **kwargs):\n",
    "    \"\"\"\n",
    "    Calcula el promedio del F1 Score para las clases 'FAVOR' y 'AGAINST'.\n",
    "    \n",
    "    Args:\n",
    "    y_true: Lista o array de etiquetas verdaderas.\n",
    "    y_pred: Lista o array de etiquetas predichas.\n",
    "    *args: Argumentos adicionales que se pasarán a f1_score.\n",
    "    **kwargs: Argumentos nombrados que se pasarán a f1_score.\n",
    "    \n",
    "    Returns:\n",
    "    float: Promedio del F1 Score para las clases 'FAVOR' y 'AGAINST'.\n",
    "    \"\"\"\n",
    " \n",
    "    # Calcular el promedio de los F1 Scores\n",
    "    promedio_f1 =  np.mean(f1_score(y_true, y_pred, average=None)[:2])\n",
    "    \n",
    "    return promedio_f1\n",
    "\n",
    "# Ejemplo de uso\n",
    "y_true = ['FAVOR', 'AGAINST', 'NONE', 'FAVOR', 'AGAINST', 'AGAINST']\n",
    "y_pred = ['FAVOR', 'AGAINST', 'FAVOR', 'AGAINST', 'NONE', 'FAVOR']\n",
    "\n",
    "promedio_f1 = calcular_f1_score(y_true, y_pred)\n",
    "print(f\"Promedio del F1 Score: {promedio_f1}\")\n"
   ]
  },
  {
   "cell_type": "markdown",
   "metadata": {
    "id": "seBE-afbkMts"
   },
   "source": [
    "`DATA` contains the information to compare six systems for a multiclass classification task. The next instruction loads the data into a dataframe."
   ]
  },
  {
   "cell_type": "code",
   "execution_count": 27,
   "metadata": {
    "id": "WFo5qGVGI5fg"
   },
   "outputs": [
    {
     "name": "stdout",
     "output_type": "stream",
     "text": [
      "         y MultiAztertest.01 MultiAztertest.02 SQYQP.01 WordUp.01 WordUp.02\n",
      "0  AGAINST           AGAINST           AGAINST  AGAINST     FAVOR     FAVOR\n",
      "1  AGAINST             FAVOR           AGAINST  AGAINST     FAVOR     FAVOR\n",
      "2  AGAINST             FAVOR              NONE    FAVOR   AGAINST   AGAINST\n",
      "3    FAVOR             FAVOR             FAVOR  AGAINST     FAVOR     FAVOR\n",
      "4    FAVOR             FAVOR              NONE  AGAINST     FAVOR     FAVOR\n"
     ]
    }
   ],
   "source": [
    "DATA = 'VaxxStance_Textual_eu_paper'\n",
    "metrics = [\n",
    "    {\"func\": calcular_f1_score,\"args\": {\"average\": \"None\"},  'BiB': True}\n",
    "    ]\n",
    "#DATA = 'detoxis_subtask1'\n",
    "#metrics = [\n",
    "#    {\"func\": f1_score, \"args\": {\"average\": \"binary\"}, 'BiB': True}\n",
    "#    ]\n",
    "#DATA = 'exist_task1_en_l'\n",
    "#metrics = [\n",
    "#    {\"func\": accuracy_score,  'BiB': True}\n",
    "#    ]\n",
    "#DATA = 'MeOffendEs_subtask3'\n",
    "#metrics = [\n",
    "#    {\"func\": f1_score, \"args\": {\"average\": \"binary\"}, 'BiB': True}\n",
    "#    ]\n",
    "#DATA = 'RES-MEX2021_recomendation'\n",
    "#metrics = [\n",
    "#    {\"func\": mean_absolute_error,  'BiB': False}\n",
    "#    ]\n",
    "#DATA = 'PARMEX_2022'\n",
    "#metrics = [\n",
    "#    {\"func\": f1_score, \"args\": {\"average\": \"binary\"}, 'BiB': True}\n",
    "#    ]\n",
    "df = pd.read_csv(DATA+'.csv')\n",
    "print(df.head())\n",
    "\n",
    "perf = performance_multiple_metrics(df, \"y\", metrics,num_samples=1000)"
   ]
  },
  {
   "cell_type": "code",
   "execution_count": 28,
   "metadata": {},
   "outputs": [],
   "source": [
    "import pickle\n",
    "\n",
    "# Suponiendo que tienes un objeto \"perf\"\n",
    "#perf = {\"nombre\": \"Ejemplo\", \"valor\": 10}\n",
    "\n",
    "#print(perf)\n",
    "# Almacenar el objeto en un archivo\n",
    "with open(DATA+\".dat\", \"wb\") as archivo:\n",
    "    pickle.dump(perf, archivo)\n",
    "\n",
    "# Recuperar el objeto del archivo\n",
    "with open(DATA+\".dat\", \"rb\") as archivo:\n",
    "    perf_recuperado = pickle.load(archivo)\n",
    "\n",
    "#print(perf_recuperado)"
   ]
  },
  {
   "cell_type": "code",
   "execution_count": 29,
   "metadata": {
    "colab": {
     "base_uri": "https://localhost:8080/",
     "height": 506
    },
    "id": "djiadR9dkMts",
    "outputId": "fbd0675c-0933-4d6e-e142-633394526b61"
   },
   "outputs": [
    {
     "data": {
      "image/png": "[encoded data removed]",
      "text/plain": [
       "<Figure size 511.111x500 with 1 Axes>"
      ]
     },
     "metadata": {},
     "output_type": "display_data"
    }
   ],
   "source": [
    "face_grid = plot_performance_multiple(perf_recuperado)"
   ]
  },
  {
   "cell_type": "code",
   "execution_count": null,
   "metadata": {
    "id": "0FXWINpdkMtt"
   },
   "outputs": [],
   "source": [
    "diff = difference_multiple(perf) "
   ]
  },
  {
   "cell_type": "code",
   "execution_count": null,
   "metadata": {},
   "outputs": [],
   "source": [
    "for metric, diffs in diff['winner'].items():\n",
    "    print(f\"For {metric} the best performing system is {diffs['best']}\")"
   ]
  },
  {
   "cell_type": "code",
   "execution_count": null,
   "metadata": {},
   "outputs": [],
   "source": [
    "for metric, diffs in diff['winner'].items():\n",
    "    print(f\"\\nFor the metric {metric} the best is {diffs['best']}\")\n",
    "    for key, value in diffs['CI'].items():\n",
    "        print(f\"CI for {key} {value}\")\n"
   ]
  },
  {
   "cell_type": "code",
   "execution_count": null,
   "metadata": {},
   "outputs": [],
   "source": [
    "face_grid_diff = plot_difference_multiple(diff)"
   ]
  },
  {
   "cell_type": "code",
   "execution_count": null,
   "metadata": {},
   "outputs": [],
   "source": [
    "for metric, diffs in diff['winner'].items():\n",
    "    print(f\"\\nFor the metric {metric} the best is {diffs['best']}\")\n",
    "    for key, value in diffs['p_value'].items():\n",
    "        print(f\"p-value for the difference with {key} {value}\")"
   ]
  },
  {
   "cell_type": "code",
   "execution_count": null,
   "metadata": {},
   "outputs": [],
   "source": [
    "correction = 'bonferroni'\n",
    "for metric, diffs in diff['winner'].items():\n",
    "    print(f\"\\nFor the metric {metric} the best is {diffs['best']}\")\n",
    "    result = multipletests(list(diffs['p_value'].values()), method=correction)\n",
    "    p_valuesC = dict(zip(diffs['p_value'].keys(),result[1])) \n",
    "    for key, value in p_valuesC.items():\n",
    "        print(f'{key}, p-value corrected by {correction} = {value}')"
   ]
  },
  {
   "cell_type": "code",
   "execution_count": null,
   "metadata": {
    "id": "6ehkDIH_kMtu"
   },
   "outputs": [],
   "source": [
    "all_diff = all_differences_multiple(perf)\n"
   ]
  },
  {
   "cell_type": "code",
   "execution_count": null,
   "metadata": {},
   "outputs": [],
   "source": [
    "all_diff['compg']"
   ]
  },
  {
   "cell_type": "code",
   "execution_count": null,
   "metadata": {
    "id": "x2vlIMNc3h5W"
   },
   "outputs": [],
   "source": [
    "for metric, diffs in all_diff['all'].items():\n",
    "    print(f\"\\nFor the metric {metric} \")\n",
    "    for key, value in diffs['p_value'].items():\n",
    "        print(f\"p-value for the difference {key} {value}\")"
   ]
  },
  {
   "cell_type": "code",
   "execution_count": null,
   "metadata": {},
   "outputs": [],
   "source": [
    "correction = 'bonferroni'\n",
    "for metric, diffs in all_diff['all'].items():\n",
    "    print(f\"\\nFor the metric {metric}\")\n",
    "    result = multipletests(list(diffs['p_value'].values()), method=correction)\n",
    "    p_valuesC = dict(zip(diffs['p_value'].keys(),result[1])) \n",
    "    for key, value in p_valuesC.items():\n",
    "        print(f'{key}, p-value corrected by {correction} = {value}')"
   ]
  }
 ],
 "metadata": {
  "colab": {
   "provenance": []
  },
  "kernelspec": {
   "display_name": "tesis_env",
   "language": "python",
   "name": "python3"
  },
  "language_info": {
   "codemirror_mode": {
    "name": "ipython",
    "version": 3
   },
   "file_extension": ".py",
   "mimetype": "text/x-python",
   "name": "python",
   "nbconvert_exporter": "python",
   "pygments_lexer": "ipython3",
   "version": "3.11.5"
  }
 },
 "nbformat": 4,
 "nbformat_minor": 4
}
