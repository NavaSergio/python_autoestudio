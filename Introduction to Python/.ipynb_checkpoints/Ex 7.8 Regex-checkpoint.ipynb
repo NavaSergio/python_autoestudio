{
 "cells": [
  {
   "cell_type": "code",
   "execution_count": 1,
   "metadata": {},
   "outputs": [
    {
     "name": "stdout",
     "output_type": "stream",
     "text": [
      "There is an ape\n"
     ]
    }
   ],
   "source": [
    "# Regular expressions allow you to locate and change\n",
    "# string in very powerful ways.\n",
    "# They work in almost exactly the same way in every\n",
    "# programming language as well.\n",
    "\n",
    "# Regular expressions (Regex) are used to\n",
    "# 1. Search fora specific string in a large amount of data\n",
    "# 2. Verify that a string has the proper format (Email, Phone #, etc)\n",
    "# 3. Find a string and replace it with another string\n",
    "# 4. Format data into a proper form for importing for example\n",
    "\n",
    "# import the Regex module\n",
    "import re\n",
    "\n",
    "# ------------ Was a Match found -------------\n",
    "\n",
    "# Search for ape in the string\n",
    "if re.search(\"ape\",'The ape was at the apex'):\n",
    "    print(\"There is an ape\")"
   ]
  },
  {
   "cell_type": "code",
   "execution_count": 3,
   "metadata": {},
   "outputs": [
    {
     "name": "stdout",
     "output_type": "stream",
     "text": [
      "ape \n",
      "apex\n"
     ]
    }
   ],
   "source": [
    "import re\n",
    "# ------------ Get All Matches --------------\n",
    "\n",
    "# findall() return a list of mathes\n",
    "# . is used to match any 1 character or space\n",
    "allApes = re.findall(\"ape.\",\"The ape was at the apex\")\n",
    "\n",
    "for i in allApes:\n",
    "    print(i)"
   ]
  },
  {
   "cell_type": "code",
   "execution_count": 5,
   "metadata": {},
   "outputs": [
    {
     "name": "stdout",
     "output_type": "stream",
     "text": [
      "(4, 8)\n",
      "ape \n",
      "(19, 23)\n",
      "apex\n"
     ]
    }
   ],
   "source": [
    "# finditer returns an iterator of matching objects\n",
    "# Yopu can use spa to get the location\n",
    "\n",
    "theStr = \"The ape was at the apex\"\n",
    "\n",
    "for i in re.finditer(\"ape.\",theStr):\n",
    "    \n",
    "    # Spam returns a tuple\n",
    "    locTuple = i.span()\n",
    "    \n",
    "    print(locTuple)\n",
    "    \n",
    "    # Slice the match out using the tuple values\n",
    "    print(theStr[locTuple[0]:locTuple[1]])"
   ]
  },
  {
   "cell_type": "code",
   "execution_count": 6,
   "metadata": {},
   "outputs": [
    {
     "name": "stdout",
     "output_type": "stream",
     "text": [
      "rat\n",
      "mat\n",
      "fat\n",
      "pat\n",
      "\n"
     ]
    }
   ],
   "source": [
    "import re\n",
    "# ------------- Match 1 of Several Letters ---------------\n",
    "\n",
    "# Square brackets with match any one of the characters betweeen\n",
    "# the brackets not including  upper and Lowercase varieties\n",
    "# unless they are listed\n",
    "\n",
    "animalStr = \"Cat rat mat fat pat\"\n",
    "\n",
    "allAnimals = re.findall(\"[crmfp]at\",animalStr)\n",
    "\n",
    "for i in allAnimals:\n",
    "    print(i)\n",
    "    \n",
    "print()"
   ]
  },
  {
   "cell_type": "code",
   "execution_count": 7,
   "metadata": {},
   "outputs": [
    {
     "name": "stdout",
     "output_type": "stream",
     "text": [
      "Cat\n",
      "mat\n",
      "fat\n",
      "\n"
     ]
    }
   ],
   "source": [
    "# We can also allow for characters in a range\n",
    "# Remember to include upper and lowercase letters\n",
    "\n",
    "animalStr = \"Cat rat mat fat pat\"\n",
    "someAnimals = re.findall(\"[c-mC-M]at\",animalStr)\n",
    "for i in someAnimals:\n",
    "    print(i)\n",
    "    \n",
    "print()    \n"
   ]
  },
  {
   "cell_type": "code",
   "execution_count": 8,
   "metadata": {},
   "outputs": [
    {
     "name": "stdout",
     "output_type": "stream",
     "text": [
      "owl owl mat pat\n"
     ]
    }
   ],
   "source": [
    "import re\n",
    "# ------------ Replace All matches ----------------\n",
    "\n",
    "# Replace matching items in a string\n",
    "\n",
    "owlFood = \"rat cat mat pat\"\n",
    "\n",
    "# You can compile a regex into pattern objects which\n",
    "# provide additional methods\n",
    "regex = re.compile(\"[cr]at\")\n",
    "\n",
    "# sub() replaces items that match the regex in the string\n",
    "# with the 1st attribute string passed to sub\n",
    "owlFood = regex.sub(\"owl\",owlFood)\n",
    "\n",
    "print(owlFood)"
   ]
  },
  {
   "cell_type": "code",
   "execution_count": 9,
   "metadata": {},
   "outputs": [
    {
     "name": "stdout",
     "output_type": "stream",
     "text": [
      "Find \\stuff : None\n",
      "Find \\stuff : <re.Match object; span=(8, 14), match='\\\\stuff'>\n",
      "Find \\stuff : <re.Match object; span=(8, 14), match='\\\\stuff'>\n"
     ]
    }
   ],
   "source": [
    "import re\n",
    "# ------------ Solving backslash Problems ---------------\n",
    "\n",
    "# Regex use the backslash to designate special characters\n",
    "# and Python does the same inside strings which causes\n",
    "# issues.\n",
    "\n",
    "# Let's try to get \"\\\\stuff\" out of a string\n",
    "\n",
    "randStr = \"Here is \\\\stuff\"\n",
    "\n",
    "# This won't find it\n",
    "print(\"Find \\\\stuff :\", re.search(\"\\\\stuff\",randStr))\n",
    "\n",
    "# This does, but we have to put in 4 slashes which is\n",
    "# messy\n",
    "print(\"Find \\\\stuff :\", re.search(\"\\\\\\\\stuff\",randStr))\n",
    "\n",
    "# You can get around this by using raw string which\n",
    "# don't treat backlashes as special\n",
    "print(\"Find \\\\stuff :\", re.search(r\"\\\\stuff\",randStr))"
   ]
  },
  {
   "cell_type": "code",
   "execution_count": null,
   "metadata": {},
   "outputs": [],
   "source": []
  }
 ],
 "metadata": {
  "kernelspec": {
   "display_name": "Python 3",
   "language": "python",
   "name": "python3"
  },
  "language_info": {
   "codemirror_mode": {
    "name": "ipython",
    "version": 3
   },
   "file_extension": ".py",
   "mimetype": "text/x-python",
   "name": "python",
   "nbconvert_exporter": "python",
   "pygments_lexer": "ipython3",
   "version": "3.8.5"
  }
 },
 "nbformat": 4,
 "nbformat_minor": 4
}
