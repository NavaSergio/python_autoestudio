{
 "cells": [
  {
   "cell_type": "markdown",
   "metadata": {
    "id": "wGizC3XikMtk"
   },
   "source": [
    "<p><img alt=\"Colaboratory logo\" height=\"50px\" src=\"https://github.com/INGEOTEC/text_models/raw/master/docs/source/ingeotec.png\" align=\"left\" hspace=\"10px\" vspace=\"0px\" /></p>\n",
    "\n",
    "# CompStats\n",
    "## Quickstart Guide\n",
    "\n",
    "### <http://compstats.readthedocs.org>\n",
    "\n"
   ]
  },
  {
   "cell_type": "markdown",
   "metadata": {
    "id": "u-QV6DJYaQjg"
   },
   "source": [
    "## Installing CompStats"
   ]
  },
  {
   "cell_type": "code",
   "execution_count": 1,
   "metadata": {
    "id": "ISeelAVIJc59"
   },
   "outputs": [],
   "source": [
    "# !python -m pip uninstall CompStats"
   ]
  },
  {
   "cell_type": "code",
   "execution_count": 2,
   "metadata": {
    "id": "_4WTIJx5H9ii"
   },
   "outputs": [],
   "source": [
    "# %pip install -U git+https://github.com/INGEOTEC/CompStats@develop"
   ]
  },
  {
   "cell_type": "markdown",
   "metadata": {
    "id": "2sFWAgM0H3La"
   },
   "source": [
    "First, we need to install CompStats. This can be quickly done through pip, the Python package manager."
   ]
  },
  {
   "cell_type": "code",
   "execution_count": 3,
   "metadata": {
    "colab": {
     "base_uri": "https://localhost:8080/"
    },
    "id": "k2UzLxhkkMtp",
    "outputId": "dbadd757-1706-49ed-b866-539afbe92f71"
   },
   "outputs": [],
   "source": [
    "try:\n",
    "  import CompStats\n",
    "except ImportError:\n",
    "    !pip install Compstats\n",
    "    # !pip install -U git+https://github.com/INGEOTEC/CompStats@develop"
   ]
  },
  {
   "cell_type": "markdown",
   "metadata": {
    "id": "pqJKAfenkMtr"
   },
   "source": [
    "## Libraries"
   ]
  },
  {
   "cell_type": "markdown",
   "metadata": {
    "id": "ifWsyR9mH7-o"
   },
   "source": [
    "After installing `CompStats`, we must import the necessary libraries for our analysis. `CompStats` relies on several Python libraries for data analysis and scientific computing.\n",
    "\n",
    "The first line of the following code loads two functions from the `CompStats` library. The `performance` function is used to calculate and analyze the performance of machine learning models. On the other hand, the `plot_performance` function visualizes the performance metrics calculated by `performance`, such as accuracy or F1 score, along with confidence intervals to help understand the variability and reliability of the performance metrics.\n",
    "\n",
    "The second line imports two functions: `difference` and `plot_difference`; `difference` assesses the differences in performance between models in comparison to the best system, and `plot_difference` visually represents these differences relative to the best system.\n",
    "\n",
    "The third line imports two functions: `all_differences` and `difference_p_value`. `all_differences` evaluates the differences in performance between all models, and `difference_p_value` estimates the p-value of the hypothesis that the difference is significantly greater than zero.\n",
    "\n",
    "The fourth line imports the function `multipletests`that is used for adjusting p-values when multiple hypothesis tests are performed, to control for the false discovery rate or family-wise error rate.\n",
    "\n",
    "The rest of the lines load commonly used Python libraries."
   ]
  },
  {
   "cell_type": "code",
   "execution_count": 4,
   "metadata": {
    "id": "rUVyzgMokMts"
   },
   "outputs": [],
   "source": [
    "from CompStats import performance, plot_performance\n",
    "from CompStats import difference, plot_difference\n",
    "from CompStats import all_differences, difference_p_value\n",
    "from statsmodels.stats.multitest import multipletests\n",
    "from sklearn.metrics import f1_score\n",
    "import pandas as pd"
   ]
  },
  {
   "cell_type": "markdown",
   "metadata": {
    "id": "DWcPnzA2HI-Y"
   },
   "source": [
    "# Dataset"
   ]
  },
  {
   "cell_type": "markdown",
   "metadata": {
    "id": "eKbW9vf-IASa"
   },
   "source": [
    "Once we have set up our environment, we can explore what CompStats offers. Let's begin with a basic example of how to use CompStats for a simple statistical analysis.\n",
    "\n",
    "To illustrate the use of CompStats, we will use a dataset included in the CompStats package. The path of the dataset is found with the following instructions. The variable `DATA` contains the path as shown below.  "
   ]
  },
  {
   "cell_type": "code",
   "execution_count": 5,
   "metadata": {
    "colab": {
     "base_uri": "https://localhost:8080/",
     "height": 36
    },
    "id": "8TGr5Jh6HIPR",
    "outputId": "b16c1843-a520-4b42-b653-84aee799f963"
   },
   "outputs": [],
   "source": [
    "# from CompStats.tests.test_performance import DATA\n",
    "DATA = 'MeOffendEs_subtask3.csv'"
   ]
  },
  {
   "cell_type": "markdown",
   "metadata": {
    "id": "seBE-afbkMts"
   },
   "source": [
    "`DATA` contains the information to compare six systems for a multiclass classification task. The next instruction loads the data into a dataframe."
   ]
  },
  {
   "cell_type": "code",
   "execution_count": 6,
   "metadata": {
    "id": "WFo5qGVGI5fg"
   },
   "outputs": [],
   "source": [
    "df = pd.read_csv(DATA)"
   ]
  },
  {
   "cell_type": "markdown",
   "metadata": {
    "id": "CnOx0jOAJw6H"
   },
   "source": [
    "The first five rows of `df` are shown below. It can be observed that the first column contains the gold standard, identified with `y`, and the rest of the columns are the predictions performed by different systems."
   ]
  },
  {
   "cell_type": "code",
   "execution_count": 7,
   "metadata": {
    "colab": {
     "base_uri": "https://localhost:8080/",
     "height": 206
    },
    "id": "PxDOXB8QJ2yT",
    "outputId": "08dad3e6-bdf9-4c72-848f-5576ccd383cc"
   },
   "outputs": [
    {
     "data": {
      "text/html": [
       "<div>\n",
       "<style scoped>\n",
       "    .dataframe tbody tr th:only-of-type {\n",
       "        vertical-align: middle;\n",
       "    }\n",
       "\n",
       "    .dataframe tbody tr th {\n",
       "        vertical-align: top;\n",
       "    }\n",
       "\n",
       "    .dataframe thead th {\n",
       "        text-align: right;\n",
       "    }\n",
       "</style>\n",
       "<table border=\"1\" class=\"dataframe\">\n",
       "  <thead>\n",
       "    <tr style=\"text-align: right;\">\n",
       "      <th></th>\n",
       "      <th>y</th>\n",
       "      <th>aomar</th>\n",
       "      <th>CEN-Amrita</th>\n",
       "      <th>CIC-IPN</th>\n",
       "      <th>CIMAT-GTO</th>\n",
       "      <th>CIMAT-MTY-GTO</th>\n",
       "      <th>DCCD-INFOTEC</th>\n",
       "      <th>NLP-CIC</th>\n",
       "      <th>Timen</th>\n",
       "      <th>UMUTeam</th>\n",
       "      <th>xjywing</th>\n",
       "    </tr>\n",
       "  </thead>\n",
       "  <tbody>\n",
       "    <tr>\n",
       "      <th>2178</th>\n",
       "      <td>0</td>\n",
       "      <td>1</td>\n",
       "      <td>1</td>\n",
       "      <td>1</td>\n",
       "      <td>1</td>\n",
       "      <td>1</td>\n",
       "      <td>0</td>\n",
       "      <td>1</td>\n",
       "      <td>1</td>\n",
       "      <td>0</td>\n",
       "      <td>1</td>\n",
       "    </tr>\n",
       "    <tr>\n",
       "      <th>2179</th>\n",
       "      <td>1</td>\n",
       "      <td>1</td>\n",
       "      <td>1</td>\n",
       "      <td>0</td>\n",
       "      <td>1</td>\n",
       "      <td>1</td>\n",
       "      <td>1</td>\n",
       "      <td>1</td>\n",
       "      <td>0</td>\n",
       "      <td>1</td>\n",
       "      <td>1</td>\n",
       "    </tr>\n",
       "    <tr>\n",
       "      <th>2180</th>\n",
       "      <td>0</td>\n",
       "      <td>1</td>\n",
       "      <td>1</td>\n",
       "      <td>0</td>\n",
       "      <td>0</td>\n",
       "      <td>0</td>\n",
       "      <td>0</td>\n",
       "      <td>0</td>\n",
       "      <td>0</td>\n",
       "      <td>0</td>\n",
       "      <td>1</td>\n",
       "    </tr>\n",
       "    <tr>\n",
       "      <th>2181</th>\n",
       "      <td>1</td>\n",
       "      <td>1</td>\n",
       "      <td>1</td>\n",
       "      <td>0</td>\n",
       "      <td>1</td>\n",
       "      <td>1</td>\n",
       "      <td>1</td>\n",
       "      <td>1</td>\n",
       "      <td>0</td>\n",
       "      <td>0</td>\n",
       "      <td>1</td>\n",
       "    </tr>\n",
       "    <tr>\n",
       "      <th>2182</th>\n",
       "      <td>0</td>\n",
       "      <td>1</td>\n",
       "      <td>1</td>\n",
       "      <td>0</td>\n",
       "      <td>1</td>\n",
       "      <td>0</td>\n",
       "      <td>0</td>\n",
       "      <td>0</td>\n",
       "      <td>0</td>\n",
       "      <td>0</td>\n",
       "      <td>1</td>\n",
       "    </tr>\n",
       "  </tbody>\n",
       "</table>\n",
       "</div>"
      ],
      "text/plain": [
       "      y  aomar  CEN-Amrita  CIC-IPN  CIMAT-GTO  CIMAT-MTY-GTO  DCCD-INFOTEC  \\\n",
       "2178  0      1           1        1          1              1             0   \n",
       "2179  1      1           1        0          1              1             1   \n",
       "2180  0      1           1        0          0              0             0   \n",
       "2181  1      1           1        0          1              1             1   \n",
       "2182  0      1           1        0          1              0             0   \n",
       "\n",
       "      NLP-CIC  Timen  UMUTeam  xjywing  \n",
       "2178        1      1        0        1  \n",
       "2179        1      0        1        1  \n",
       "2180        0      0        0        1  \n",
       "2181        1      0        0        1  \n",
       "2182        0      0        0        1  "
      ]
     },
     "execution_count": 7,
     "metadata": {},
     "output_type": "execute_result"
    }
   ],
   "source": [
    "df.tail(5)"
   ]
  },
  {
   "cell_type": "code",
   "execution_count": 8,
   "metadata": {},
   "outputs": [
    {
     "data": {
      "text/html": [
       "<div>\n",
       "<style scoped>\n",
       "    .dataframe tbody tr th:only-of-type {\n",
       "        vertical-align: middle;\n",
       "    }\n",
       "\n",
       "    .dataframe tbody tr th {\n",
       "        vertical-align: top;\n",
       "    }\n",
       "\n",
       "    .dataframe thead th {\n",
       "        text-align: right;\n",
       "    }\n",
       "</style>\n",
       "<table border=\"1\" class=\"dataframe\">\n",
       "  <thead>\n",
       "    <tr style=\"text-align: right;\">\n",
       "      <th></th>\n",
       "      <th>y</th>\n",
       "      <th>aomar</th>\n",
       "      <th>CEN-Amrita</th>\n",
       "      <th>CIC-IPN</th>\n",
       "      <th>CIMAT-GTO</th>\n",
       "      <th>CIMAT-MTY-GTO</th>\n",
       "      <th>DCCD-INFOTEC</th>\n",
       "      <th>NLP-CIC</th>\n",
       "      <th>Timen</th>\n",
       "      <th>UMUTeam</th>\n",
       "      <th>xjywing</th>\n",
       "    </tr>\n",
       "  </thead>\n",
       "  <tbody>\n",
       "    <tr>\n",
       "      <th>0</th>\n",
       "      <td>0</td>\n",
       "      <td>1</td>\n",
       "      <td>1</td>\n",
       "      <td>0</td>\n",
       "      <td>0</td>\n",
       "      <td>0</td>\n",
       "      <td>0</td>\n",
       "      <td>0</td>\n",
       "      <td>0</td>\n",
       "      <td>0</td>\n",
       "      <td>1</td>\n",
       "    </tr>\n",
       "    <tr>\n",
       "      <th>1</th>\n",
       "      <td>0</td>\n",
       "      <td>1</td>\n",
       "      <td>1</td>\n",
       "      <td>1</td>\n",
       "      <td>0</td>\n",
       "      <td>0</td>\n",
       "      <td>1</td>\n",
       "      <td>0</td>\n",
       "      <td>0</td>\n",
       "      <td>0</td>\n",
       "      <td>1</td>\n",
       "    </tr>\n",
       "    <tr>\n",
       "      <th>2</th>\n",
       "      <td>1</td>\n",
       "      <td>1</td>\n",
       "      <td>1</td>\n",
       "      <td>1</td>\n",
       "      <td>0</td>\n",
       "      <td>1</td>\n",
       "      <td>1</td>\n",
       "      <td>0</td>\n",
       "      <td>1</td>\n",
       "      <td>1</td>\n",
       "      <td>1</td>\n",
       "    </tr>\n",
       "    <tr>\n",
       "      <th>3</th>\n",
       "      <td>0</td>\n",
       "      <td>1</td>\n",
       "      <td>1</td>\n",
       "      <td>0</td>\n",
       "      <td>0</td>\n",
       "      <td>0</td>\n",
       "      <td>0</td>\n",
       "      <td>0</td>\n",
       "      <td>0</td>\n",
       "      <td>0</td>\n",
       "      <td>1</td>\n",
       "    </tr>\n",
       "    <tr>\n",
       "      <th>4</th>\n",
       "      <td>1</td>\n",
       "      <td>1</td>\n",
       "      <td>1</td>\n",
       "      <td>1</td>\n",
       "      <td>1</td>\n",
       "      <td>1</td>\n",
       "      <td>1</td>\n",
       "      <td>1</td>\n",
       "      <td>1</td>\n",
       "      <td>1</td>\n",
       "      <td>1</td>\n",
       "    </tr>\n",
       "    <tr>\n",
       "      <th>...</th>\n",
       "      <td>...</td>\n",
       "      <td>...</td>\n",
       "      <td>...</td>\n",
       "      <td>...</td>\n",
       "      <td>...</td>\n",
       "      <td>...</td>\n",
       "      <td>...</td>\n",
       "      <td>...</td>\n",
       "      <td>...</td>\n",
       "      <td>...</td>\n",
       "      <td>...</td>\n",
       "    </tr>\n",
       "    <tr>\n",
       "      <th>2178</th>\n",
       "      <td>0</td>\n",
       "      <td>1</td>\n",
       "      <td>1</td>\n",
       "      <td>1</td>\n",
       "      <td>1</td>\n",
       "      <td>1</td>\n",
       "      <td>0</td>\n",
       "      <td>1</td>\n",
       "      <td>1</td>\n",
       "      <td>0</td>\n",
       "      <td>1</td>\n",
       "    </tr>\n",
       "    <tr>\n",
       "      <th>2179</th>\n",
       "      <td>1</td>\n",
       "      <td>1</td>\n",
       "      <td>1</td>\n",
       "      <td>0</td>\n",
       "      <td>1</td>\n",
       "      <td>1</td>\n",
       "      <td>1</td>\n",
       "      <td>1</td>\n",
       "      <td>0</td>\n",
       "      <td>1</td>\n",
       "      <td>1</td>\n",
       "    </tr>\n",
       "    <tr>\n",
       "      <th>2180</th>\n",
       "      <td>0</td>\n",
       "      <td>1</td>\n",
       "      <td>1</td>\n",
       "      <td>0</td>\n",
       "      <td>0</td>\n",
       "      <td>0</td>\n",
       "      <td>0</td>\n",
       "      <td>0</td>\n",
       "      <td>0</td>\n",
       "      <td>0</td>\n",
       "      <td>1</td>\n",
       "    </tr>\n",
       "    <tr>\n",
       "      <th>2181</th>\n",
       "      <td>1</td>\n",
       "      <td>1</td>\n",
       "      <td>1</td>\n",
       "      <td>0</td>\n",
       "      <td>1</td>\n",
       "      <td>1</td>\n",
       "      <td>1</td>\n",
       "      <td>1</td>\n",
       "      <td>0</td>\n",
       "      <td>0</td>\n",
       "      <td>1</td>\n",
       "    </tr>\n",
       "    <tr>\n",
       "      <th>2182</th>\n",
       "      <td>0</td>\n",
       "      <td>1</td>\n",
       "      <td>1</td>\n",
       "      <td>0</td>\n",
       "      <td>1</td>\n",
       "      <td>0</td>\n",
       "      <td>0</td>\n",
       "      <td>0</td>\n",
       "      <td>0</td>\n",
       "      <td>0</td>\n",
       "      <td>1</td>\n",
       "    </tr>\n",
       "  </tbody>\n",
       "</table>\n",
       "<p>2183 rows × 11 columns</p>\n",
       "</div>"
      ],
      "text/plain": [
       "      y  aomar  CEN-Amrita  CIC-IPN  CIMAT-GTO  CIMAT-MTY-GTO  DCCD-INFOTEC  \\\n",
       "0     0      1           1        0          0              0             0   \n",
       "1     0      1           1        1          0              0             1   \n",
       "2     1      1           1        1          0              1             1   \n",
       "3     0      1           1        0          0              0             0   \n",
       "4     1      1           1        1          1              1             1   \n",
       "...  ..    ...         ...      ...        ...            ...           ...   \n",
       "2178  0      1           1        1          1              1             0   \n",
       "2179  1      1           1        0          1              1             1   \n",
       "2180  0      1           1        0          0              0             0   \n",
       "2181  1      1           1        0          1              1             1   \n",
       "2182  0      1           1        0          1              0             0   \n",
       "\n",
       "      NLP-CIC  Timen  UMUTeam  xjywing  \n",
       "0           0      0        0        1  \n",
       "1           0      0        0        1  \n",
       "2           0      1        1        1  \n",
       "3           0      0        0        1  \n",
       "4           1      1        1        1  \n",
       "...       ...    ...      ...      ...  \n",
       "2178        1      1        0        1  \n",
       "2179        1      0        1        1  \n",
       "2180        0      0        0        1  \n",
       "2181        1      0        0        1  \n",
       "2182        0      0        0        1  \n",
       "\n",
       "[2183 rows x 11 columns]"
      ]
     },
     "execution_count": 8,
     "metadata": {},
     "output_type": "execute_result"
    }
   ],
   "source": [
    "df"
   ]
  },
  {
   "cell_type": "markdown",
   "metadata": {
    "id": "sqI3FxmCI_pM"
   },
   "source": [
    "# Performance Anaylisis"
   ]
  },
  {
   "cell_type": "markdown",
   "metadata": {
    "id": "JR1B0lg4K85m"
   },
   "source": [
    "Let us start with the performance analysis of the different systems. The performance metric used is the weighted average F1 score. This performance is coded in the variable `score` as observed in the next instruction."
   ]
  },
  {
   "cell_type": "code",
   "execution_count": 9,
   "metadata": {
    "id": "IXHA4HRkLA9q"
   },
   "outputs": [],
   "source": [
    "score = lambda y, hy: f1_score(y, hy, average='binary')"
   ]
  },
  {
   "cell_type": "markdown",
   "metadata": {
    "id": "xYCMtk-1LZtL"
   },
   "source": [
    "The next step is to compute the performance on the bootstrap samples; this is done with the function `performance`. The function has a few parameters; one is the `score`, which receives the metric used to measure the performance."
   ]
  },
  {
   "cell_type": "code",
   "execution_count": 10,
   "metadata": {
    "colab": {
     "base_uri": "https://localhost:8080/"
    },
    "id": "-96k0EbaLadL",
    "outputId": "cba38610-383b-402e-e8e2-f0fcdea5908e"
   },
   "outputs": [
    {
     "name": "stderr",
     "output_type": "stream",
     "text": [
      "100%|██████████| 11/11 [01:37<00:00,  8.84s/it]\n"
     ]
    }
   ],
   "source": [
    "perf = performance(df, score=score,num_samples=10000)"
   ]
  },
  {
   "cell_type": "markdown",
   "metadata": {
    "id": "sEfBLwenQpND"
   },
   "source": [
    "`perf` is an instance of `StatisticSamples`, the bootstrap samples can be seen on the property `calls`. The first five bootstrap samples of the performance of INGEOTEC are shown below. -- It verifies that the key is in the dictionary in case the dataset has been changed. --"
   ]
  },
  {
   "cell_type": "code",
   "execution_count": 11,
   "metadata": {
    "colab": {
     "base_uri": "https://localhost:8080/"
    },
    "id": "IrbRfFuCQsGf",
    "outputId": "995bf6f7-02d8-4526-de25-4e56151d7f3b"
   },
   "outputs": [
    {
     "name": "stdout",
     "output_type": "stream",
     "text": [
      "[0.66830467 0.69243697 0.68999186 0.67744681 0.68469992]\n"
     ]
    }
   ],
   "source": [
    "if 'DCCD-INFOTEC' in perf.calls:\n",
    "  print(f\"{perf.calls['DCCD-INFOTEC'][:5]}\")"
   ]
  },
  {
   "cell_type": "markdown",
   "metadata": {
    "id": "SaUGXqEVJE6A"
   },
   "source": [
    "The performance of the systems, along with their confidence intervals, can be seen using the next instruction."
   ]
  },
  {
   "cell_type": "code",
   "execution_count": 12,
   "metadata": {
    "colab": {
     "base_uri": "https://localhost:8080/",
     "height": 506
    },
    "id": "djiadR9dkMts",
    "outputId": "fbd0675c-0933-4d6e-e142-633394526b61"
   },
   "outputs": [
    {
     "data": {
      "image/png": "[encoded data removed]",
      "text/plain": [
       "<Figure size 511.111x500 with 1 Axes>"
      ]
     },
     "metadata": {},
     "output_type": "display_data"
    }
   ],
   "source": [
    "face_grid = plot_performance(perf)"
   ]
  },
  {
   "cell_type": "markdown",
   "metadata": {
    "id": "eBmUNHXWR2pL"
   },
   "source": [
    "It can be observed that the best system is INGEOTEC. Although the confidence intervals provide information that helps to assess the difference in the performance of the systems, in this case, the intervals intersect. Therefore, one needs another statistical tool to determine if the difference in performance is significant."
   ]
  },
  {
   "cell_type": "markdown",
   "metadata": {
    "id": "hJ1gAxzkkMts"
   },
   "source": [
    "# Performance Comparison against the Winner"
   ]
  },
  {
   "cell_type": "markdown",
   "metadata": {
    "id": "peFwDTsNdRiz"
   },
   "source": [
    "The difference in their performance compared to the best-performing system can be used to compare the algorithms analyzed. The function `difference` computes the difference as shown below."
   ]
  },
  {
   "cell_type": "code",
   "execution_count": 13,
   "metadata": {
    "id": "0FXWINpdkMtt"
   },
   "outputs": [],
   "source": [
    "diff = difference(perf)"
   ]
  },
  {
   "cell_type": "markdown",
   "metadata": {
    "id": "2p_ppDE9dV0F"
   },
   "source": [
    "`diff` is an instance of `StatisticSamples`; one can find the best system on the property `info`, as the following instruction shows."
   ]
  },
  {
   "cell_type": "code",
   "execution_count": 14,
   "metadata": {
    "colab": {
     "base_uri": "https://localhost:8080/"
    },
    "id": "7oz3wbr6dr_m",
    "outputId": "a4b5e252-dcbe-4345-c5e5-e84acd3edce7"
   },
   "outputs": [
    {
     "data": {
      "text/plain": [
       "{'best': 'NLP-CIC'}"
      ]
     },
     "execution_count": 14,
     "metadata": {},
     "output_type": "execute_result"
    }
   ],
   "source": [
    "diff.info"
   ]
  },
  {
   "cell_type": "markdown",
   "metadata": {
    "id": "iD_jAdwmd5QZ"
   },
   "source": [
    "The difference in performance can be visualized with the following instruction."
   ]
  },
  {
   "cell_type": "code",
   "execution_count": 15,
   "metadata": {
    "colab": {
     "base_uri": "https://localhost:8080/",
     "height": 529
    },
    "id": "obO7DOUWdW52",
    "outputId": "38b7de59-4aea-43b7-d3dc-eae94c6f19d6"
   },
   "outputs": [
    {
     "data": {
      "image/png": "[encoded data removed]",
      "text/plain": [
       "<Figure size 584.875x500 with 1 Axes>"
      ]
     },
     "metadata": {},
     "output_type": "display_data"
    }
   ],
   "source": [
    "face_grid_diff = plot_difference(diff)"
   ]
  },
  {
   "cell_type": "markdown",
   "metadata": {
    "id": "aHlFz543kMtt"
   },
   "source": [
    "From the performance graphs, for this example, we can observe that the ranking is *INGEOTEC*, *BoW*, *StackBoW*, *BoW (Corpus)*, *Dense*, *Bow (Class Weight)*. Hence, in the last graph, we analyze the performance difference against the winner (INGEOTEC). From this graph, we can conclude that *BoW* and *StackBoW*, might perform similarly to INGEOTEC.\n",
    "\n",
    "Should we test the hypothesis of equality versus difference, considering that one system outperforms the other in the test? To address this question, we compare the performance of two systems, $A$ and $B$, to determine whether $A$ is superior to $B$ in a larger data population, represented as $\\theta_A > \\theta_B$. We can estimate the p-value associated with the hypothesis test $H_0: \\theta_A \\le \\theta_B$ vs $H_1: \\theta_A > \\theta_B$ given the data, equivalently $H_0: \\theta_A< -  \\theta_B\\le 0$ vs $H_1: \\theta_A - \\theta_B > 0$. The p-values for these differences can be estimated using the following instruction, comparing them against the winner (INGEOTEC) to determine the probability that $a$ (INGEOTEC) is better than $b$.\n",
    "\n",
    "The `difference_p_value` function estimates the p-value for each difference in comparison to the best system, as illustrated below.\n"
   ]
  },
  {
   "cell_type": "code",
   "execution_count": 16,
   "metadata": {
    "id": "83DAxZ18kMtt"
   },
   "outputs": [],
   "source": [
    "p_values = difference_p_value(diff)"
   ]
  },
  {
   "cell_type": "markdown",
   "metadata": {
    "id": "WEEPzr4l2BMn"
   },
   "source": [
    "For a given $\\alpha$ level, p-values smaller than $\\alpha$  are significant, meaning the observed difference is unlikely to be due to chance. An $\\alpha$ level of 0.05 is commonly used."
   ]
  },
  {
   "cell_type": "code",
   "execution_count": 17,
   "metadata": {
    "colab": {
     "base_uri": "https://localhost:8080/"
    },
    "id": "p2VtUMvS0Z4k",
    "outputId": "6a3cf917-98da-46ed-a103-4faf13725e53"
   },
   "outputs": [
    {
     "data": {
      "text/plain": [
       "{'CEN-Amrita': 0.0,\n",
       " 'aomar': 0.0,\n",
       " 'xjywing': 0.0,\n",
       " 'CIC-IPN': 0.0,\n",
       " 'Timen': 0.0,\n",
       " 'UMUTeam': 0.0012,\n",
       " 'CIMAT-GTO': 0.0042,\n",
       " 'DCCD-INFOTEC': 0.0279,\n",
       " 'CIMAT-MTY-GTO': 0.1608}"
      ]
     },
     "execution_count": 17,
     "metadata": {},
     "output_type": "execute_result"
    }
   ],
   "source": [
    "p_values"
   ]
  },
  {
   "cell_type": "code",
   "execution_count": 18,
   "metadata": {},
   "outputs": [
    {
     "data": {
      "text/plain": [
       "{'CEN-Amrita': 0.0,\n",
       " 'aomar': 0.0,\n",
       " 'xjywing': 0.0,\n",
       " 'CIC-IPN': 0.0,\n",
       " 'Timen': 0.0,\n",
       " 'UMUTeam': 0.010799999999999999,\n",
       " 'CIMAT-GTO': 0.0378,\n",
       " 'DCCD-INFOTEC': 0.2511,\n",
       " 'CIMAT-MTY-GTO': 1.0}"
      ]
     },
     "execution_count": 18,
     "metadata": {},
     "output_type": "execute_result"
    }
   ],
   "source": [
    "result = multipletests(list(p_values.values()), method='bonferroni')\n",
    "p_valuesC = dict(zip(p_values.keys(),result[1]))\n",
    "p_valuesC"
   ]
  },
  {
   "cell_type": "markdown",
   "metadata": {
    "id": "rt21qMcDkMtu"
   },
   "source": [
    "# Performance comparison between all models\n",
    "\n",
    "Similarly, the differences for each pair of variables between all models can be estimated using the function `all_differences`, as illustrated in the following instructions. This approach allows for a comprehensive analysis of how each model compares to the others, providing a statistical basis to understand the significance of performance variations among them. This method extends the comparative analysis, offering a detailed view of the competitive landscape of model performance."
   ]
  },
  {
   "cell_type": "code",
   "execution_count": 19,
   "metadata": {
    "id": "6ehkDIH_kMtu"
   },
   "outputs": [],
   "source": [
    "all_diff = all_differences(perf)\n"
   ]
  },
  {
   "cell_type": "code",
   "execution_count": 20,
   "metadata": {},
   "outputs": [
    {
     "data": {
      "text/plain": [
       "{'NLP-CIC - CIMAT-MTY-GTO': array([-0.01042502,  0.02548527,  0.01570197, ...,  0.01575472,\n",
       "         0.01575039,  0.01431111]),\n",
       " 'NLP-CIC - DCCD-INFOTEC': array([0.04220054, 0.01968424, 0.02714624, ..., 0.01788766, 0.02985974,\n",
       "        0.03097868]),\n",
       " 'NLP-CIC - CIMAT-GTO': array([0.04493144, 0.04258593, 0.0532585 , ..., 0.0493896 , 0.02414558,\n",
       "        0.0307001 ]),\n",
       " 'NLP-CIC - UMUTeam': array([0.06030601, 0.04033946, 0.04393549, ..., 0.05428286, 0.04224708,\n",
       "        0.03573294]),\n",
       " 'NLP-CIC - Timen': array([0.12353077, 0.1050079 , 0.11167905, ..., 0.1117684 , 0.11469359,\n",
       "        0.1242684 ]),\n",
       " 'NLP-CIC - CIC-IPN': array([0.10779028, 0.09472177, 0.11897297, ..., 0.12446915, 0.12164341,\n",
       "        0.0962682 ]),\n",
       " 'NLP-CIC - xjywing': array([0.19661   , 0.22206111, 0.21529308, ..., 0.20962223, 0.23693349,\n",
       "        0.24356087]),\n",
       " 'NLP-CIC - aomar': array([0.2285453 , 0.24100612, 0.24289299, ..., 0.22740288, 0.25369797,\n",
       "        0.25897309]),\n",
       " 'NLP-CIC - CEN-Amrita': array([0.22150352, 0.24198469, 0.24106757, ..., 0.23049667, 0.26092255,\n",
       "        0.26718557]),\n",
       " 'CIMAT-MTY-GTO - DCCD-INFOTEC': array([ 0.05262556, -0.00580103,  0.01144427, ...,  0.00213294,\n",
       "         0.01410935,  0.01666756]),\n",
       " 'CIMAT-MTY-GTO - CIMAT-GTO': array([0.05535646, 0.01710066, 0.03755653, ..., 0.03363488, 0.00839519,\n",
       "        0.01638899]),\n",
       " 'CIMAT-MTY-GTO - UMUTeam': array([0.07073103, 0.01485419, 0.02823352, ..., 0.03852814, 0.02649669,\n",
       "        0.02142183]),\n",
       " 'CIMAT-MTY-GTO - Timen': array([0.13395579, 0.07952263, 0.09597707, ..., 0.09601368, 0.0989432 ,\n",
       "        0.10995728]),\n",
       " 'CIMAT-MTY-GTO - CIC-IPN': array([0.1182153 , 0.06923651, 0.10327099, ..., 0.10871442, 0.10589301,\n",
       "        0.08195709]),\n",
       " 'CIMAT-MTY-GTO - xjywing': array([0.20703502, 0.19657584, 0.19959111, ..., 0.19386751, 0.2211831 ,\n",
       "        0.22924976]),\n",
       " 'CIMAT-MTY-GTO - aomar': array([0.23897032, 0.21552085, 0.22719101, ..., 0.21164815, 0.23794758,\n",
       "        0.24466197]),\n",
       " 'CIMAT-MTY-GTO - CEN-Amrita': array([0.23192854, 0.21649943, 0.2253656 , ..., 0.21474194, 0.24517216,\n",
       "        0.25287446]),\n",
       " 'DCCD-INFOTEC - CIMAT-GTO': array([ 0.0027309 ,  0.02290169,  0.02611226, ...,  0.03150194,\n",
       "        -0.00571416, -0.00027857]),\n",
       " 'DCCD-INFOTEC - UMUTeam': array([0.01810547, 0.02065522, 0.01678925, ..., 0.0363952 , 0.01238734,\n",
       "        0.00475426]),\n",
       " 'DCCD-INFOTEC - Timen': array([0.08133022, 0.08532366, 0.08453281, ..., 0.09388074, 0.08483385,\n",
       "        0.09328972]),\n",
       " 'DCCD-INFOTEC - CIC-IPN': array([0.06558974, 0.07503754, 0.09182673, ..., 0.10658148, 0.09178367,\n",
       "        0.06528953]),\n",
       " 'DCCD-INFOTEC - xjywing': array([0.15440945, 0.20237687, 0.18814684, ..., 0.19173457, 0.20707375,\n",
       "        0.2125822 ]),\n",
       " 'DCCD-INFOTEC - aomar': array([0.18634476, 0.22132188, 0.21574675, ..., 0.20951522, 0.22383823,\n",
       "        0.22799441]),\n",
       " 'DCCD-INFOTEC - CEN-Amrita': array([0.17930298, 0.22230046, 0.21392133, ..., 0.21260901, 0.23106281,\n",
       "        0.2362069 ]),\n",
       " 'CIMAT-GTO - UMUTeam': array([ 0.01537457, -0.00224647, -0.00932302, ...,  0.00489326,\n",
       "         0.0181015 ,  0.00503283]),\n",
       " 'CIMAT-GTO - Timen': array([0.07859933, 0.06242197, 0.05842054, ..., 0.0623788 , 0.09054802,\n",
       "        0.09356829]),\n",
       " 'CIMAT-GTO - CIC-IPN': array([0.06285884, 0.05213585, 0.06571446, ..., 0.07507954, 0.09749783,\n",
       "        0.0655681 ]),\n",
       " 'CIMAT-GTO - xjywing': array([0.15167855, 0.17947518, 0.16203458, ..., 0.16023263, 0.21278791,\n",
       "        0.21286077]),\n",
       " 'CIMAT-GTO - aomar': array([0.18361386, 0.19842019, 0.18963448, ..., 0.17801327, 0.2295524 ,\n",
       "        0.22827298]),\n",
       " 'CIMAT-GTO - CEN-Amrita': array([0.17657208, 0.19939877, 0.18780907, ..., 0.18110707, 0.23677697,\n",
       "        0.23648547]),\n",
       " 'UMUTeam - Timen': array([0.06322476, 0.06466844, 0.06774356, ..., 0.05748554, 0.07244651,\n",
       "        0.08853546]),\n",
       " 'UMUTeam - CIC-IPN': array([0.04748427, 0.05438232, 0.07503748, ..., 0.07018628, 0.07939633,\n",
       "        0.06053526]),\n",
       " 'UMUTeam - xjywing': array([0.13630399, 0.18172165, 0.1713576 , ..., 0.15533937, 0.19468641,\n",
       "        0.20782793]),\n",
       " 'UMUTeam - aomar': array([0.16823929, 0.20066666, 0.1989575 , ..., 0.17312001, 0.21145089,\n",
       "        0.22324015]),\n",
       " 'UMUTeam - CEN-Amrita': array([0.16119751, 0.20164524, 0.19713209, ..., 0.17621381, 0.21867547,\n",
       "        0.23145263]),\n",
       " 'Timen - CIC-IPN': array([-0.01574049, -0.01028612,  0.00729392, ...,  0.01270074,\n",
       "         0.00694981, -0.0280002 ]),\n",
       " 'Timen - xjywing': array([0.07307923, 0.11705322, 0.10361404, ..., 0.09785383, 0.12223989,\n",
       "        0.11929248]),\n",
       " 'Timen - aomar': array([0.10501453, 0.13599822, 0.13121394, ..., 0.11563447, 0.13900438,\n",
       "        0.13470469]),\n",
       " 'Timen - CEN-Amrita': array([0.09797275, 0.1369768 , 0.12938853, ..., 0.11872827, 0.14622896,\n",
       "        0.14291718]),\n",
       " 'CIC-IPN - xjywing': array([0.08881972, 0.12733934, 0.09632012, ..., 0.08515309, 0.11529008,\n",
       "        0.14729267]),\n",
       " 'CIC-IPN - aomar': array([0.12075502, 0.14628435, 0.12392002, ..., 0.10293373, 0.13205457,\n",
       "        0.16270489]),\n",
       " 'CIC-IPN - CEN-Amrita': array([0.11371324, 0.14726292, 0.12209461, ..., 0.10602752, 0.13927915,\n",
       "        0.17091737]),\n",
       " 'xjywing - aomar': array([0.03193531, 0.01894501, 0.0275999 , ..., 0.01778064, 0.01676449,\n",
       "        0.01541221]),\n",
       " 'xjywing - CEN-Amrita': array([0.02489352, 0.01992358, 0.02577449, ..., 0.02087443, 0.02398906,\n",
       "        0.0236247 ]),\n",
       " 'aomar - CEN-Amrita': array([-0.00704178,  0.00097857, -0.00182541, ...,  0.00309379,\n",
       "         0.00722458,  0.00821248])}"
      ]
     },
     "execution_count": 20,
     "metadata": {},
     "output_type": "execute_result"
    }
   ],
   "source": [
    "all_diff.calls"
   ]
  },
  {
   "cell_type": "code",
   "execution_count": 21,
   "metadata": {},
   "outputs": [
    {
     "data": {
      "text/plain": [
       "{'NLP-CIC - CIMAT-MTY-GTO': 0.012782589657659006,\n",
       " 'NLP-CIC - DCCD-INFOTEC': 0.0303821998448702,\n",
       " 'NLP-CIC - CIMAT-GTO': 0.036128138379288195,\n",
       " 'NLP-CIC - UMUTeam': 0.04476330540725792,\n",
       " 'NLP-CIC - Timen': 0.11137856694234922,\n",
       " 'NLP-CIC - CIC-IPN': 0.11352245274761497,\n",
       " 'NLP-CIC - xjywing': 0.2218514469666295,\n",
       " 'NLP-CIC - aomar': 0.24254326427608486,\n",
       " 'NLP-CIC - CEN-Amrita': 0.2470241466703371,\n",
       " 'CIMAT-MTY-GTO - DCCD-INFOTEC': 0.017599610187211255,\n",
       " 'CIMAT-MTY-GTO - CIMAT-GTO': 0.02334554872162921,\n",
       " 'CIMAT-MTY-GTO - UMUTeam': 0.03198071574959875,\n",
       " 'CIMAT-MTY-GTO - Timen': 0.09859597728468977,\n",
       " 'CIMAT-MTY-GTO - CIC-IPN': 0.10073986308995579,\n",
       " 'CIMAT-MTY-GTO - xjywing': 0.20906885730897035,\n",
       " 'CIMAT-MTY-GTO - aomar': 0.2297606746184244,\n",
       " 'CIMAT-MTY-GTO - CEN-Amrita': 0.2342415570126761,\n",
       " 'DCCD-INFOTEC - CIMAT-GTO': 0.005745938534417967,\n",
       " 'DCCD-INFOTEC - UMUTeam': 0.014381105562387564,\n",
       " 'DCCD-INFOTEC - Timen': 0.08099636709747894,\n",
       " 'DCCD-INFOTEC - CIC-IPN': 0.08314025290274493,\n",
       " 'DCCD-INFOTEC - xjywing': 0.19146924712175925,\n",
       " 'DCCD-INFOTEC - aomar': 0.2121610644312142,\n",
       " 'DCCD-INFOTEC - CEN-Amrita': 0.21664194682546667,\n",
       " 'CIMAT-GTO - UMUTeam': 0.008635167027969626,\n",
       " 'CIMAT-GTO - Timen': 0.07525042856306081,\n",
       " 'CIMAT-GTO - CIC-IPN': 0.0773943143683262,\n",
       " 'CIMAT-GTO - xjywing': 0.18572330858734168,\n",
       " 'CIMAT-GTO - aomar': 0.20641512589679614,\n",
       " 'CIMAT-GTO - CEN-Amrita': 0.21089600829104743,\n",
       " 'UMUTeam - Timen': 0.0666152615350911,\n",
       " 'UMUTeam - CIC-IPN': 0.06875914734035693,\n",
       " 'UMUTeam - xjywing': 0.17708814155937264,\n",
       " 'UMUTeam - aomar': 0.19777995886882566,\n",
       " 'UMUTeam - CEN-Amrita': 0.20226084126307908,\n",
       " 'Timen - CIC-IPN': 0.002143885805266003,\n",
       " 'Timen - xjywing': 0.1104728800242806,\n",
       " 'Timen - aomar': 0.1311646973337356,\n",
       " 'Timen - CEN-Amrita': 0.1356455797279881,\n",
       " 'CIC-IPN - xjywing': 0.10832899421901525,\n",
       " 'CIC-IPN - aomar': 0.1290208115284697,\n",
       " 'CIC-IPN - CEN-Amrita': 0.13350169392272165,\n",
       " 'xjywing - aomar': 0.020691817309454883,\n",
       " 'xjywing - CEN-Amrita': 0.025172699703707016,\n",
       " 'aomar - CEN-Amrita': 0.004480882394252032}"
      ]
     },
     "execution_count": 21,
     "metadata": {},
     "output_type": "execute_result"
    }
   ],
   "source": [
    "promedios = {key: sum(value) / len(value) for key, value in all_diff.calls.items()}\n",
    "promedios"
   ]
  },
  {
   "cell_type": "markdown",
   "metadata": {
    "id": "CC2hR4w_4IzC"
   },
   "source": [
    "Once again, we use the function `difference_p_value` to estimate the p-value."
   ]
  },
  {
   "cell_type": "code",
   "execution_count": 22,
   "metadata": {
    "id": "x2vlIMNc3h5W"
   },
   "outputs": [],
   "source": [
    "p_values = difference_p_value(all_diff)"
   ]
  },
  {
   "cell_type": "markdown",
   "metadata": {
    "id": "192xc-_24chZ"
   },
   "source": [
    "And we can analyze from all pairs of systems individually which ones have significantly different performances by comparing their p-value with $\\alpha$."
   ]
  },
  {
   "cell_type": "code",
   "execution_count": 23,
   "metadata": {
    "colab": {
     "base_uri": "https://localhost:8080/"
    },
    "id": "l5hRhylS3jh2",
    "outputId": "b06cbf00-2d24-4714-e749-6210b2d96001"
   },
   "outputs": [
    {
     "data": {
      "text/plain": [
       "{'NLP-CIC - CIMAT-MTY-GTO': 0.1608,\n",
       " 'NLP-CIC - DCCD-INFOTEC': 0.0279,\n",
       " 'NLP-CIC - CIMAT-GTO': 0.0042,\n",
       " 'NLP-CIC - UMUTeam': 0.0012,\n",
       " 'NLP-CIC - Timen': 0.0,\n",
       " 'NLP-CIC - CIC-IPN': 0.0,\n",
       " 'NLP-CIC - xjywing': 0.0,\n",
       " 'NLP-CIC - aomar': 0.0,\n",
       " 'NLP-CIC - CEN-Amrita': 0.0,\n",
       " 'CIMAT-MTY-GTO - DCCD-INFOTEC': 0.112,\n",
       " 'CIMAT-MTY-GTO - CIMAT-GTO': 0.016,\n",
       " 'CIMAT-MTY-GTO - UMUTeam': 0.0077,\n",
       " 'CIMAT-MTY-GTO - Timen': 0.0,\n",
       " 'CIMAT-MTY-GTO - CIC-IPN': 0.0,\n",
       " 'CIMAT-MTY-GTO - xjywing': 0.0,\n",
       " 'CIMAT-MTY-GTO - aomar': 0.0,\n",
       " 'CIMAT-MTY-GTO - CEN-Amrita': 0.0,\n",
       " 'DCCD-INFOTEC - CIMAT-GTO': 0.3553,\n",
       " 'DCCD-INFOTEC - UMUTeam': 0.1705,\n",
       " 'DCCD-INFOTEC - Timen': 0.0,\n",
       " 'DCCD-INFOTEC - CIC-IPN': 0.0,\n",
       " 'DCCD-INFOTEC - xjywing': 0.0,\n",
       " 'DCCD-INFOTEC - aomar': 0.0,\n",
       " 'DCCD-INFOTEC - CEN-Amrita': 0.0,\n",
       " 'CIMAT-GTO - UMUTeam': 0.2367,\n",
       " 'CIMAT-GTO - Timen': 0.0,\n",
       " 'CIMAT-GTO - CIC-IPN': 0.0,\n",
       " 'CIMAT-GTO - xjywing': 0.0,\n",
       " 'CIMAT-GTO - aomar': 0.0,\n",
       " 'CIMAT-GTO - CEN-Amrita': 0.0,\n",
       " 'UMUTeam - Timen': 0.0,\n",
       " 'UMUTeam - CIC-IPN': 0.0001,\n",
       " 'UMUTeam - xjywing': 0.0,\n",
       " 'UMUTeam - aomar': 0.0,\n",
       " 'UMUTeam - CEN-Amrita': 0.0,\n",
       " 'Timen - CIC-IPN': 0.4499,\n",
       " 'Timen - xjywing': 0.0,\n",
       " 'Timen - aomar': 0.0,\n",
       " 'Timen - CEN-Amrita': 0.0,\n",
       " 'CIC-IPN - xjywing': 0.0,\n",
       " 'CIC-IPN - aomar': 0.0,\n",
       " 'CIC-IPN - CEN-Amrita': 0.0,\n",
       " 'xjywing - aomar': 0.0002,\n",
       " 'xjywing - CEN-Amrita': 0.0,\n",
       " 'aomar - CEN-Amrita': 0.1983}"
      ]
     },
     "execution_count": 23,
     "metadata": {},
     "output_type": "execute_result"
    }
   ],
   "source": [
    "p_values"
   ]
  },
  {
   "cell_type": "code",
   "execution_count": 24,
   "metadata": {},
   "outputs": [
    {
     "data": {
      "text/plain": [
       "{'NLP-CIC - CIMAT-MTY-GTO': 0.161,\n",
       " 'NLP-CIC - DCCD-INFOTEC': 0.028,\n",
       " 'NLP-CIC - CIMAT-GTO': 0.004,\n",
       " 'NLP-CIC - UMUTeam': 0.001,\n",
       " 'NLP-CIC - Timen': 0.0,\n",
       " 'NLP-CIC - CIC-IPN': 0.0,\n",
       " 'NLP-CIC - xjywing': 0.0,\n",
       " 'NLP-CIC - aomar': 0.0,\n",
       " 'NLP-CIC - CEN-Amrita': 0.0,\n",
       " 'CIMAT-MTY-GTO - DCCD-INFOTEC': 0.112,\n",
       " 'CIMAT-MTY-GTO - CIMAT-GTO': 0.016,\n",
       " 'CIMAT-MTY-GTO - UMUTeam': 0.008,\n",
       " 'CIMAT-MTY-GTO - Timen': 0.0,\n",
       " 'CIMAT-MTY-GTO - CIC-IPN': 0.0,\n",
       " 'CIMAT-MTY-GTO - xjywing': 0.0,\n",
       " 'CIMAT-MTY-GTO - aomar': 0.0,\n",
       " 'CIMAT-MTY-GTO - CEN-Amrita': 0.0,\n",
       " 'DCCD-INFOTEC - CIMAT-GTO': 0.355,\n",
       " 'DCCD-INFOTEC - UMUTeam': 0.17,\n",
       " 'DCCD-INFOTEC - Timen': 0.0,\n",
       " 'DCCD-INFOTEC - CIC-IPN': 0.0,\n",
       " 'DCCD-INFOTEC - xjywing': 0.0,\n",
       " 'DCCD-INFOTEC - aomar': 0.0,\n",
       " 'DCCD-INFOTEC - CEN-Amrita': 0.0,\n",
       " 'CIMAT-GTO - UMUTeam': 0.237,\n",
       " 'CIMAT-GTO - Timen': 0.0,\n",
       " 'CIMAT-GTO - CIC-IPN': 0.0,\n",
       " 'CIMAT-GTO - xjywing': 0.0,\n",
       " 'CIMAT-GTO - aomar': 0.0,\n",
       " 'CIMAT-GTO - CEN-Amrita': 0.0,\n",
       " 'UMUTeam - Timen': 0.0,\n",
       " 'UMUTeam - CIC-IPN': 0.0,\n",
       " 'UMUTeam - xjywing': 0.0,\n",
       " 'UMUTeam - aomar': 0.0,\n",
       " 'UMUTeam - CEN-Amrita': 0.0,\n",
       " 'Timen - CIC-IPN': 0.45,\n",
       " 'Timen - xjywing': 0.0,\n",
       " 'Timen - aomar': 0.0,\n",
       " 'Timen - CEN-Amrita': 0.0,\n",
       " 'CIC-IPN - xjywing': 0.0,\n",
       " 'CIC-IPN - aomar': 0.0,\n",
       " 'CIC-IPN - CEN-Amrita': 0.0,\n",
       " 'xjywing - aomar': 0.0,\n",
       " 'xjywing - CEN-Amrita': 0.0,\n",
       " 'aomar - CEN-Amrita': 0.198}"
      ]
     },
     "execution_count": 24,
     "metadata": {},
     "output_type": "execute_result"
    }
   ],
   "source": [
    "{k: round(v, 3) for k, v in p_values.items()}\n"
   ]
  },
  {
   "cell_type": "markdown",
   "metadata": {
    "id": "NS3RHI9SkMtu"
   },
   "source": [
    "When conducting numerous comparisons or hypothesis tests on a dataset, the risk of incurring Type I errors (incorrectly dismissing a valid null hypothesis) increases. This happens because more tests performed increase the probability of randomly identifying statistically significant outcomes. Implementing adjustments for multiple comparisons is critical for several reasons: (1) To manage the risk of Type I Error, (2) To prevent erroneous conclusions, and (3) To uphold the integrity of the research.\n",
    "\n",
    "The following code illustrates the effect of these methods for multiple comparison corrections. The function `multipletests` makes the p-value correction by selecting the parameter `method`. In this example, the Bonferroni correction method is used."
   ]
  },
  {
   "cell_type": "code",
   "execution_count": 25,
   "metadata": {
    "id": "V1J_cqfdkMtu"
   },
   "outputs": [],
   "source": [
    "result = multipletests(list(p_values.values()), method='bonferroni')"
   ]
  },
  {
   "cell_type": "markdown",
   "metadata": {
    "id": "e2myRaBo6mPf"
   },
   "source": [
    "`result` is an array; next, we convert it back into a dictionary."
   ]
  },
  {
   "cell_type": "code",
   "execution_count": 26,
   "metadata": {
    "id": "MSaGBndz6G6t"
   },
   "outputs": [],
   "source": [
    "p_valuesC = dict(zip(p_values.keys(),result[1]))"
   ]
  },
  {
   "cell_type": "markdown",
   "metadata": {
    "id": "FY-9W45Q7nId"
   },
   "source": [
    "And we can analyze from all pairs of systems simunstally which ones have significantly different performances by comparing their p-value with $\\alpha$."
   ]
  },
  {
   "cell_type": "code",
   "execution_count": 27,
   "metadata": {
    "colab": {
     "base_uri": "https://localhost:8080/"
    },
    "id": "SKiKx3GU6IlN",
    "outputId": "94dd212d-dcae-4ec3-92f0-7397f5bd91a7"
   },
   "outputs": [
    {
     "data": {
      "text/plain": [
       "{'NLP-CIC - CIMAT-MTY-GTO': 1.0,\n",
       " 'NLP-CIC - DCCD-INFOTEC': 1.0,\n",
       " 'NLP-CIC - CIMAT-GTO': 0.189,\n",
       " 'NLP-CIC - UMUTeam': 0.05399999999999999,\n",
       " 'NLP-CIC - Timen': 0.0,\n",
       " 'NLP-CIC - CIC-IPN': 0.0,\n",
       " 'NLP-CIC - xjywing': 0.0,\n",
       " 'NLP-CIC - aomar': 0.0,\n",
       " 'NLP-CIC - CEN-Amrita': 0.0,\n",
       " 'CIMAT-MTY-GTO - DCCD-INFOTEC': 1.0,\n",
       " 'CIMAT-MTY-GTO - CIMAT-GTO': 0.72,\n",
       " 'CIMAT-MTY-GTO - UMUTeam': 0.34650000000000003,\n",
       " 'CIMAT-MTY-GTO - Timen': 0.0,\n",
       " 'CIMAT-MTY-GTO - CIC-IPN': 0.0,\n",
       " 'CIMAT-MTY-GTO - xjywing': 0.0,\n",
       " 'CIMAT-MTY-GTO - aomar': 0.0,\n",
       " 'CIMAT-MTY-GTO - CEN-Amrita': 0.0,\n",
       " 'DCCD-INFOTEC - CIMAT-GTO': 1.0,\n",
       " 'DCCD-INFOTEC - UMUTeam': 1.0,\n",
       " 'DCCD-INFOTEC - Timen': 0.0,\n",
       " 'DCCD-INFOTEC - CIC-IPN': 0.0,\n",
       " 'DCCD-INFOTEC - xjywing': 0.0,\n",
       " 'DCCD-INFOTEC - aomar': 0.0,\n",
       " 'DCCD-INFOTEC - CEN-Amrita': 0.0,\n",
       " 'CIMAT-GTO - UMUTeam': 1.0,\n",
       " 'CIMAT-GTO - Timen': 0.0,\n",
       " 'CIMAT-GTO - CIC-IPN': 0.0,\n",
       " 'CIMAT-GTO - xjywing': 0.0,\n",
       " 'CIMAT-GTO - aomar': 0.0,\n",
       " 'CIMAT-GTO - CEN-Amrita': 0.0,\n",
       " 'UMUTeam - Timen': 0.0,\n",
       " 'UMUTeam - CIC-IPN': 0.0045000000000000005,\n",
       " 'UMUTeam - xjywing': 0.0,\n",
       " 'UMUTeam - aomar': 0.0,\n",
       " 'UMUTeam - CEN-Amrita': 0.0,\n",
       " 'Timen - CIC-IPN': 1.0,\n",
       " 'Timen - xjywing': 0.0,\n",
       " 'Timen - aomar': 0.0,\n",
       " 'Timen - CEN-Amrita': 0.0,\n",
       " 'CIC-IPN - xjywing': 0.0,\n",
       " 'CIC-IPN - aomar': 0.0,\n",
       " 'CIC-IPN - CEN-Amrita': 0.0,\n",
       " 'xjywing - aomar': 0.009000000000000001,\n",
       " 'xjywing - CEN-Amrita': 0.0,\n",
       " 'aomar - CEN-Amrita': 1.0}"
      ]
     },
     "execution_count": 27,
     "metadata": {},
     "output_type": "execute_result"
    }
   ],
   "source": [
    "p_valuesC"
   ]
  },
  {
   "cell_type": "code",
   "execution_count": 28,
   "metadata": {},
   "outputs": [
    {
     "ename": "ValueError",
     "evalue": "too many values to unpack (expected 2)",
     "output_type": "error",
     "traceback": [
      "\u001b[1;31m---------------------------------------------------------------------------\u001b[0m",
      "\u001b[1;31mValueError\u001b[0m                                Traceback (most recent call last)",
      "Cell \u001b[1;32mIn[28], line 12\u001b[0m\n\u001b[0;32m     10\u001b[0m \u001b[38;5;66;03m# apply each correction method and store the results\u001b[39;00m\n\u001b[0;32m     11\u001b[0m \u001b[38;5;28;01mfor\u001b[39;00m method \u001b[38;5;129;01min\u001b[39;00m methods:\n\u001b[1;32m---> 12\u001b[0m     _, corrected_pvalues[method] \u001b[38;5;241m=\u001b[39m multipletests(p_values_list, method\u001b[38;5;241m=\u001b[39mmethod)\n\u001b[0;32m     14\u001b[0m \u001b[38;5;66;03m# create a Pandas DataFrame from the corrected p-values\u001b[39;00m\n\u001b[0;32m     15\u001b[0m df \u001b[38;5;241m=\u001b[39m pd\u001b[38;5;241m.\u001b[39mDataFrame(corrected_pvalues)\n",
      "\u001b[1;31mValueError\u001b[0m: too many values to unpack (expected 2)"
     ]
    }
   ],
   "source": [
    "\n",
    "# assume p_values is a dictionary with p-values as values\n",
    "p_values_list = list(p_values.values())\n",
    "\n",
    "# define the correction methods to apply\n",
    "methods = ['bonferroni', 'holm', 'hochberg', 'fdr_bh', 'fdr_by']\n",
    "\n",
    "# create a dictionary to store the corrected p-values\n",
    "corrected_pvalues = {}\n",
    "\n",
    "# apply each correction method and store the results\n",
    "for method in methods:\n",
    "    _, corrected_pvalues[method] = multipletests(p_values_list, method=method)\n",
    "\n",
    "# create a Pandas DataFrame from the corrected p-values\n",
    "df = pd.DataFrame(corrected_pvalues)\n",
    "\n",
    "# set the index to the original p-values (optional)\n",
    "df.index = p_values_list\n",
    "\n",
    "print(df)"
   ]
  }
 ],
 "metadata": {
  "colab": {
   "provenance": []
  },
  "kernelspec": {
   "display_name": "Python 3 (ipykernel)",
   "language": "python",
   "name": "python3"
  },
  "language_info": {
   "codemirror_mode": {
    "name": "ipython",
    "version": 3
   },
   "file_extension": ".py",
   "mimetype": "text/x-python",
   "name": "python",
   "nbconvert_exporter": "python",
   "pygments_lexer": "ipython3",
   "version": "3.11.9"
  }
 },
 "nbformat": 4,
 "nbformat_minor": 4
}
