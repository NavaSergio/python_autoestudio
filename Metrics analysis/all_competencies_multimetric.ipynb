{
 "cells": [
  {
   "cell_type": "markdown",
   "metadata": {
    "id": "wGizC3XikMtk"
   },
   "source": [
    "<p><img alt=\"Colaboratory logo\" height=\"50px\" src=\"https://github.com/INGEOTEC/text_models/raw/master/docs/source/ingeotec.png\" align=\"left\" hspace=\"10px\" vspace=\"0px\" /></p>\n",
    "\n",
    "# CompStats\n",
    "## Quickstart Guide\n",
    "\n",
    "### <http://compstats.readthedocs.org>\n",
    "\n"
   ]
  },
  {
   "cell_type": "markdown",
   "metadata": {
    "id": "u-QV6DJYaQjg"
   },
   "source": [
    "## Installing CompStats"
   ]
  },
  {
   "cell_type": "code",
   "execution_count": 1,
   "metadata": {
    "id": "ISeelAVIJc59"
   },
   "outputs": [],
   "source": [
    "# !python -m pip uninstall CompStats"
   ]
  },
  {
   "cell_type": "code",
   "execution_count": 2,
   "metadata": {
    "id": "_4WTIJx5H9ii"
   },
   "outputs": [],
   "source": [
    "# %pip install -U git+https://github.com/INGEOTEC/CompStats@origin/develop\n",
    "# %pip install -U \"C:\\Users\\Sergio Nava\\Documentos\\GitHub\\INGEOTEC\\CompStats\"\n",
    "# %pip install -U git+https://github.com/INGEOTEC/CompStats@develop\n",
    "# %pip install -U CompStats"
   ]
  },
  {
   "cell_type": "markdown",
   "metadata": {
    "id": "2sFWAgM0H3La"
   },
   "source": [
    "First, we need to install CompStats. This can be quickly done through pip, the Python package manager."
   ]
  },
  {
   "cell_type": "code",
   "execution_count": 3,
   "metadata": {
    "colab": {
     "base_uri": "https://localhost:8080/"
    },
    "id": "k2UzLxhkkMtp",
    "outputId": "dbadd757-1706-49ed-b866-539afbe92f71"
   },
   "outputs": [],
   "source": [
    "try:\n",
    "  import CompStats\n",
    "except ImportError:\n",
    "    %pip install \"C:\\Users\\Sergio Nava\\Documentos\\GitHub\\INGEOTEC\\CompStats\""
   ]
  },
  {
   "cell_type": "markdown",
   "metadata": {
    "id": "pqJKAfenkMtr"
   },
   "source": [
    "## Libraries"
   ]
  },
  {
   "cell_type": "markdown",
   "metadata": {
    "id": "ifWsyR9mH7-o"
   },
   "source": [
    "After installing `CompStats`, we must import the necessary libraries for our analysis. `CompStats` relies on several Python libraries for data analysis and scientific computing.\n",
    "\n",
    "The first line of the following code loads two functions from the `CompStats` library. The `performance_multiple_metrics` function is used to calculate and analyze the performance of machine learning models for the multimetric case. On the other hand, the `plot_performance_multiple` function visualizes the performance metrics calculated by `performance_multiple_metrics`, such as accuracy or F1 score, along with confidence intervals to help understand the variability and reliability of the performance metrics.\n",
    "\n",
    "The second line imports two functions: `difference_multiple` and `plot_difference_multiple`; `difference_multiple` assesses the differences in performance between models in comparison to the best system for each metric, and `plot_difference_multiple` visually represents these differences relative to the best system.\n",
    "\n",
    "The third line imports two functions: `all_differences` and `difference_p_value`. `all_differences` evaluates the differences in performance between all models, and `difference_p_value` estimates the p-value of the hypothesis that the difference is significantly greater than zero.\n",
    "\n",
    "The fourth line imports the function `multipletests`that is used for adjusting p-values when multiple hypothesis tests are performed, to control for the false discovery rate or family-wise error rate.\n",
    "\n",
    "The rest of the lines load commonly used Python libraries."
   ]
  },
  {
   "cell_type": "code",
   "execution_count": 4,
   "metadata": {
    "id": "rUVyzgMokMts"
   },
   "outputs": [],
   "source": [
    "from CompStats import performance_multiple_metrics, plot_performance_multiple\n",
    "from CompStats import difference_multiple, plot_difference_multiple\n",
    "from CompStats import all_differences_multiple\n",
    "#from CompStats import difference_p_value\n",
    "from statsmodels.stats.multitest import multipletests\n",
    "from sklearn.metrics import mean_absolute_error, accuracy_score, f1_score, precision_score\n",
    "import pandas as pd\n",
    "import numpy as np\n",
    "\n",
    "import matplotlib.pyplot as plt\n",
    "\n",
    "# la siguiente línea es para cargar el modulo measurements para calcular el CI \n",
    "from CompStats import measurements"
   ]
  },
  {
   "cell_type": "markdown",
   "metadata": {
    "id": "DWcPnzA2HI-Y"
   },
   "source": [
    "# Dataset"
   ]
  },
  {
   "cell_type": "markdown",
   "metadata": {
    "id": "eKbW9vf-IASa"
   },
   "source": [
    "Once we have set up our environment, we can explore what CompStats offers. Let's begin with a basic example of how to use CompStats for a simple statistical analysis.\n",
    "\n",
    "To illustrate the use of CompStats, we will use a dataset included in the CompStats package. The path of the dataset is found with the following instructions. The variable `DATA` contains the path as shown below.  "
   ]
  },
  {
   "cell_type": "code",
   "execution_count": 5,
   "metadata": {
    "colab": {
     "base_uri": "https://localhost:8080/",
     "height": 36
    },
    "id": "8TGr5Jh6HIPR",
    "outputId": "b16c1843-a520-4b42-b653-84aee799f963"
   },
   "outputs": [],
   "source": [
    "# from CompStats.tests.test_performance import DATA\n",
    "import os\n",
    "# DATA = \"C:\\\\Users\\\\Sergio Nava\\\\Documentos\\\\GitHub\\\\INGEOTEC\\\\CompStats\\\\CompStats\\\\tests\\\\data.csv\"\n",
    "#DATA = '/Users/nava/Documents/GitHub/DCCD/CompStats/CompStats/tests/data.csv'\n"
   ]
  },
  {
   "cell_type": "markdown",
   "metadata": {
    "id": "seBE-afbkMts"
   },
   "source": [
    "`DATA` contains the information to compare six systems for a multiclass classification task. The next instruction loads the data into a dataframe."
   ]
  },
  {
   "cell_type": "code",
   "execution_count": 6,
   "metadata": {
    "id": "WFo5qGVGI5fg"
   },
   "outputs": [
    {
     "name": "stdout",
     "output_type": "stream",
     "text": [
      "   y  aomar  CEN-Amrita  CIC-IPN  CIMAT-GTO  CIMAT-MTY-GTO  DCCD-INFOTEC  \\\n",
      "0  0      1           1        0          0              0             0   \n",
      "1  0      1           1        1          0              0             1   \n",
      "2  1      1           1        1          0              1             1   \n",
      "3  0      1           1        0          0              0             0   \n",
      "4  1      1           1        1          1              1             1   \n",
      "\n",
      "   NLP-CIC  Timen  UMUTeam  xjywing  \n",
      "0        0      0        0        1  \n",
      "1        0      0        0        1  \n",
      "2        0      1        1        1  \n",
      "3        0      0        0        1  \n",
      "4        1      1        1        1  \n"
     ]
    }
   ],
   "source": [
    "#DATA = 'detoxis_subtask1'\n",
    "#metrics = [\n",
    "#    {\"func\": f1_score, \"args\": {\"average\": \"binary\"}, 'BiB': True}\n",
    "#    ]\n",
    "#DATA = 'exist_task1_en_l'\n",
    "#metrics = [\n",
    "#    {\"func\": accuracy_score,  'BiB': True}\n",
    "#    ]\n",
    "DATA = 'MeOffendEs_subtask3'\n",
    "#metrics = [\n",
    "#    {\"func\": f1_score, \"args\": {\"average\": \"binary\"}, 'BiB': True}\n",
    "#    ]\n",
    "metrics = [\n",
    "    {\"func\": f1_score, \"args\": {\"average\": \"macro\"}, 'BiB': True},\n",
    "    {\"func\": accuracy_score, 'BiB': True},\n",
    "    {\"func\": precision_score, 'BiB': True}\n",
    "    ]\n",
    "#DATA = 'RES-MEX2021_recomendation'\n",
    "#metrics = [\n",
    "#    {\"func\": mean_absolute_error,  'BiB': False}\n",
    "#    ]\n",
    "#DATA = 'PARMEX_2022'\n",
    "#metrics = [\n",
    "#    {\"func\": f1_score, \"args\": {\"average\": \"binary\"}, 'BiB': True}\n",
    "#    ]\n",
    "df = pd.read_csv(DATA+'.csv')\n",
    "print(df.head())\n",
    "\n",
    "perf = performance_multiple_metrics(df, \"y\", metrics,num_samples=5)"
   ]
  },
  {
   "cell_type": "code",
   "execution_count": 7,
   "metadata": {},
   "outputs": [],
   "source": [
    "import pickle\n",
    "\n",
    "# Suponiendo que tienes un objeto \"perf\"\n",
    "#perf = {\"nombre\": \"Ejemplo\", \"valor\": 10}\n",
    "\n",
    "#print(perf)\n",
    "# Almacenar el objeto en un archivo\n",
    "with open(DATA+\".dat\", \"wb\") as archivo:\n",
    "    pickle.dump(perf, archivo)\n",
    "\n",
    "# Recuperar el objeto del archivo\n",
    "with open(DATA+\".dat\", \"rb\") as archivo:\n",
    "    perf_recuperado = pickle.load(archivo)\n",
    "\n",
    "#print(perf_recuperado)"
   ]
  },
  {
   "cell_type": "code",
   "execution_count": 8,
   "metadata": {
    "colab": {
     "base_uri": "https://localhost:8080/",
     "height": 506
    },
    "id": "djiadR9dkMts",
    "outputId": "fbd0675c-0933-4d6e-e142-633394526b61"
   },
   "outputs": [
    {
     "data": {
      "image/png": "[encoded data removed]",
      "text/plain": [
       "<Figure size 511.111x500 with 1 Axes>"
      ]
     },
     "metadata": {},
     "output_type": "display_data"
    },
    {
     "data": {
      "image/png": "[encoded data removed]",
      "text/plain": [
       "<Figure size 511.111x500 with 1 Axes>"
      ]
     },
     "metadata": {},
     "output_type": "display_data"
    },
    {
     "data": {
      "image/png": "[encoded data removed]",
      "text/plain": [
       "<Figure size 511.111x500 with 1 Axes>"
      ]
     },
     "metadata": {},
     "output_type": "display_data"
    }
   ],
   "source": [
    "face_grid = plot_performance_multiple(perf_recuperado)"
   ]
  },
  {
   "cell_type": "code",
   "execution_count": 44,
   "metadata": {},
   "outputs": [
    {
     "name": "stdout",
     "output_type": "stream",
     "text": [
      "{'f1_score_average=macro': {'aomar': array([0.45486814, 0.45337175, 0.47114495, 0.46158097, 0.48463295]), 'CEN-Amrita': array([0.42020652, 0.42348507, 0.43516064, 0.41024661, 0.42096263]), 'CIC-IPN': array([0.72699042, 0.73185901, 0.72575787, 0.72494612, 0.73269592]), 'CIMAT-GTO': array([0.77749843, 0.77548845, 0.77115197, 0.78426912, 0.78607639]), 'CIMAT-MTY-GTO': array([0.7902458 , 0.78233191, 0.78771484, 0.78034546, 0.78688374]), 'DCCD-INFOTEC': array([0.7695254 , 0.7901012 , 0.77682861, 0.78024959, 0.7809719 ]), 'NLP-CIC': array([0.80738888, 0.81053817, 0.79934876, 0.80199546, 0.79579549]), 'Timen': array([0.7310897 , 0.74245211, 0.72563849, 0.71064219, 0.73164405]), 'UMUTeam': array([0.75954206, 0.76939064, 0.76429323, 0.77044053, 0.77751412]), 'xjywing': array([0.50297714, 0.48674543, 0.5061542 , 0.50612933, 0.51292297])}, 'accuracy_score': {'aomar': array([0.46770499, 0.45258818, 0.45396244, 0.45121393, 0.4644984 ]), 'CEN-Amrita': array([0.43426477, 0.41868988, 0.42052222, 0.41456711, 0.42464498]), 'CIC-IPN': array([0.80943656, 0.8048557 , 0.79340357, 0.80989464, 0.81172698]), 'CIMAT-GTO': array([0.82546954, 0.82684379, 0.81997251, 0.83142464, 0.83508933]), 'CIMAT-MTY-GTO': array([0.82501145, 0.81905634, 0.81539166, 0.82180486, 0.83005039]), 'DCCD-INFOTEC': array([0.81997251, 0.83967018, 0.82775996, 0.83463124, 0.8295923 ]), 'NLP-CIC': array([0.83646358, 0.85387082, 0.83921209, 0.85020614, 0.84104443]), 'Timen': array([0.78424187, 0.78607421, 0.77966102, 0.78286761, 0.79431974]), 'UMUTeam': array([0.81310124, 0.83005039, 0.81218507, 0.82775996, 0.83325699]), 'xjywing': array([0.50251947, 0.47732478, 0.49335776, 0.48419606, 0.49152542])}, 'precision_score': {'aomar': array([0.31569231, 0.30516717, 0.30895795, 0.33375315, 0.31726663]), 'CEN-Amrita': array([0.31028571, 0.30091013, 0.298017  , 0.32389381, 0.31766055]), 'CIC-IPN': array([0.65327696, 0.66079295, 0.6587473 , 0.67311828, 0.67640919]), 'CIMAT-GTO': array([0.68421053, 0.69051878, 0.68726592, 0.71326165, 0.6975945 ]), 'CIMAT-MTY-GTO': array([0.64558824, 0.64583333, 0.63213213, 0.6735905 , 0.63983051]), 'DCCD-INFOTEC': array([0.68245614, 0.67417678, 0.6954955 , 0.6973913 , 0.68336026]), 'NLP-CIC': array([0.70497427, 0.70854271, 0.71479501, 0.73179396, 0.71239669]), 'Timen': array([0.58922559, 0.6       , 0.61319073, 0.64335664, 0.59602649]), 'UMUTeam': array([0.66440678, 0.67581475, 0.66422018, 0.6875    , 0.6768    ]), 'xjywing': array([0.33568678, 0.31977114, 0.32380952, 0.35483871, 0.33057851])}}\n"
     ]
    }
   ],
   "source": [
    "\n",
    "# Supongamos que perf_recuperado['samples'] es tu lista de listas\n",
    "lista_de_listas = perf_recuperado['samples']\n",
    "print(lista_de_listas)"
   ]
  },
  {
   "cell_type": "code",
   "execution_count": 51,
   "metadata": {},
   "outputs": [
    {
     "name": "stdout",
     "output_type": "stream",
     "text": [
      "      Competidor         0         1         2         3         4\n",
      "0          aomar  0.454868  0.453372  0.471145  0.461581  0.484633\n",
      "1     CEN-Amrita  0.420207  0.423485  0.435161  0.410247  0.420963\n",
      "2        CIC-IPN  0.726990  0.731859  0.725758  0.724946  0.732696\n",
      "3      CIMAT-GTO  0.777498  0.775488  0.771152  0.784269  0.786076\n",
      "4  CIMAT-MTY-GTO  0.790246  0.782332  0.787715  0.780345  0.786884\n",
      "5   DCCD-INFOTEC  0.769525  0.790101  0.776829  0.780250  0.780972\n",
      "6        NLP-CIC  0.807389  0.810538  0.799349  0.801995  0.795795\n",
      "7          Timen  0.731090  0.742452  0.725638  0.710642  0.731644\n",
      "8        UMUTeam  0.759542  0.769391  0.764293  0.770441  0.777514\n",
      "9        xjywing  0.502977  0.486745  0.506154  0.506129  0.512923\n"
     ]
    },
    {
     "ename": "ValueError",
     "evalue": "Length mismatch: Expected axis has 6 elements, new values have 7 elements",
     "output_type": "error",
     "traceback": [
      "\u001b[1;31m---------------------------------------------------------------------------\u001b[0m",
      "\u001b[1;31mValueError\u001b[0m                                Traceback (most recent call last)",
      "Cell \u001b[1;32mIn[51], line 12\u001b[0m\n\u001b[0;32m      9\u001b[0m     \u001b[38;5;28mprint\u001b[39m(df_temp)\n\u001b[0;32m     11\u001b[0m     \u001b[38;5;66;03m# Renombrar las columnas para que la primera columna sea la métrica\u001b[39;00m\n\u001b[1;32m---> 12\u001b[0m     \u001b[43mdf_temp\u001b[49m\u001b[38;5;241;43m.\u001b[39;49m\u001b[43mcolumns\u001b[49m \u001b[38;5;241m=\u001b[39m [\u001b[38;5;124m'\u001b[39m\u001b[38;5;124mCompetidor\u001b[39m\u001b[38;5;124m'\u001b[39m] \u001b[38;5;241m+\u001b[39m [metrica] \u001b[38;5;241m*\u001b[39m df_temp\u001b[38;5;241m.\u001b[39mshape[\u001b[38;5;241m1\u001b[39m]  \u001b[38;5;66;03m# Repite el nombre de la métrica para todas las columnas\u001b[39;00m\n\u001b[0;32m     13\u001b[0m     lista_de_dataframes[metrica] \u001b[38;5;241m=\u001b[39m df_temp  \u001b[38;5;66;03m# Almacenar en el diccionario\u001b[39;00m\n\u001b[0;32m     15\u001b[0m \u001b[38;5;66;03m# Mostrar el DataFrame para 'f1_score_average=macro'\u001b[39;00m\n",
      "File \u001b[1;32m~\\AppData\\Roaming\\Python\\Python311\\site-packages\\pandas\\core\\generic.py:6313\u001b[0m, in \u001b[0;36mNDFrame.__setattr__\u001b[1;34m(self, name, value)\u001b[0m\n\u001b[0;32m   6311\u001b[0m \u001b[38;5;28;01mtry\u001b[39;00m:\n\u001b[0;32m   6312\u001b[0m     \u001b[38;5;28mobject\u001b[39m\u001b[38;5;241m.\u001b[39m\u001b[38;5;21m__getattribute__\u001b[39m(\u001b[38;5;28mself\u001b[39m, name)\n\u001b[1;32m-> 6313\u001b[0m     \u001b[38;5;28;01mreturn\u001b[39;00m \u001b[38;5;28;43mobject\u001b[39;49m\u001b[38;5;241;43m.\u001b[39;49m\u001b[38;5;21;43m__setattr__\u001b[39;49m\u001b[43m(\u001b[49m\u001b[38;5;28;43mself\u001b[39;49m\u001b[43m,\u001b[49m\u001b[43m \u001b[49m\u001b[43mname\u001b[49m\u001b[43m,\u001b[49m\u001b[43m \u001b[49m\u001b[43mvalue\u001b[49m\u001b[43m)\u001b[49m\n\u001b[0;32m   6314\u001b[0m \u001b[38;5;28;01mexcept\u001b[39;00m \u001b[38;5;167;01mAttributeError\u001b[39;00m:\n\u001b[0;32m   6315\u001b[0m     \u001b[38;5;28;01mpass\u001b[39;00m\n",
      "File \u001b[1;32mproperties.pyx:69\u001b[0m, in \u001b[0;36mpandas._libs.properties.AxisProperty.__set__\u001b[1;34m()\u001b[0m\n",
      "File \u001b[1;32m~\\AppData\\Roaming\\Python\\Python311\\site-packages\\pandas\\core\\generic.py:814\u001b[0m, in \u001b[0;36mNDFrame._set_axis\u001b[1;34m(self, axis, labels)\u001b[0m\n\u001b[0;32m    809\u001b[0m \u001b[38;5;250m\u001b[39m\u001b[38;5;124;03m\"\"\"\u001b[39;00m\n\u001b[0;32m    810\u001b[0m \u001b[38;5;124;03mThis is called from the cython code when we set the `index` attribute\u001b[39;00m\n\u001b[0;32m    811\u001b[0m \u001b[38;5;124;03mdirectly, e.g. `series.index = [1, 2, 3]`.\u001b[39;00m\n\u001b[0;32m    812\u001b[0m \u001b[38;5;124;03m\"\"\"\u001b[39;00m\n\u001b[0;32m    813\u001b[0m labels \u001b[38;5;241m=\u001b[39m ensure_index(labels)\n\u001b[1;32m--> 814\u001b[0m \u001b[38;5;28;43mself\u001b[39;49m\u001b[38;5;241;43m.\u001b[39;49m\u001b[43m_mgr\u001b[49m\u001b[38;5;241;43m.\u001b[39;49m\u001b[43mset_axis\u001b[49m\u001b[43m(\u001b[49m\u001b[43maxis\u001b[49m\u001b[43m,\u001b[49m\u001b[43m \u001b[49m\u001b[43mlabels\u001b[49m\u001b[43m)\u001b[49m\n\u001b[0;32m    815\u001b[0m \u001b[38;5;28mself\u001b[39m\u001b[38;5;241m.\u001b[39m_clear_item_cache()\n",
      "File \u001b[1;32m~\\AppData\\Roaming\\Python\\Python311\\site-packages\\pandas\\core\\internals\\managers.py:238\u001b[0m, in \u001b[0;36mBaseBlockManager.set_axis\u001b[1;34m(self, axis, new_labels)\u001b[0m\n\u001b[0;32m    236\u001b[0m \u001b[38;5;28;01mdef\u001b[39;00m \u001b[38;5;21mset_axis\u001b[39m(\u001b[38;5;28mself\u001b[39m, axis: AxisInt, new_labels: Index) \u001b[38;5;241m-\u001b[39m\u001b[38;5;241m>\u001b[39m \u001b[38;5;28;01mNone\u001b[39;00m:\n\u001b[0;32m    237\u001b[0m     \u001b[38;5;66;03m# Caller is responsible for ensuring we have an Index object.\u001b[39;00m\n\u001b[1;32m--> 238\u001b[0m     \u001b[38;5;28;43mself\u001b[39;49m\u001b[38;5;241;43m.\u001b[39;49m\u001b[43m_validate_set_axis\u001b[49m\u001b[43m(\u001b[49m\u001b[43maxis\u001b[49m\u001b[43m,\u001b[49m\u001b[43m \u001b[49m\u001b[43mnew_labels\u001b[49m\u001b[43m)\u001b[49m\n\u001b[0;32m    239\u001b[0m     \u001b[38;5;28mself\u001b[39m\u001b[38;5;241m.\u001b[39maxes[axis] \u001b[38;5;241m=\u001b[39m new_labels\n",
      "File \u001b[1;32m~\\AppData\\Roaming\\Python\\Python311\\site-packages\\pandas\\core\\internals\\base.py:98\u001b[0m, in \u001b[0;36mDataManager._validate_set_axis\u001b[1;34m(self, axis, new_labels)\u001b[0m\n\u001b[0;32m     95\u001b[0m     \u001b[38;5;28;01mpass\u001b[39;00m\n\u001b[0;32m     97\u001b[0m \u001b[38;5;28;01melif\u001b[39;00m new_len \u001b[38;5;241m!=\u001b[39m old_len:\n\u001b[1;32m---> 98\u001b[0m     \u001b[38;5;28;01mraise\u001b[39;00m \u001b[38;5;167;01mValueError\u001b[39;00m(\n\u001b[0;32m     99\u001b[0m         \u001b[38;5;124mf\u001b[39m\u001b[38;5;124m\"\u001b[39m\u001b[38;5;124mLength mismatch: Expected axis has \u001b[39m\u001b[38;5;132;01m{\u001b[39;00mold_len\u001b[38;5;132;01m}\u001b[39;00m\u001b[38;5;124m elements, new \u001b[39m\u001b[38;5;124m\"\u001b[39m\n\u001b[0;32m    100\u001b[0m         \u001b[38;5;124mf\u001b[39m\u001b[38;5;124m\"\u001b[39m\u001b[38;5;124mvalues have \u001b[39m\u001b[38;5;132;01m{\u001b[39;00mnew_len\u001b[38;5;132;01m}\u001b[39;00m\u001b[38;5;124m elements\u001b[39m\u001b[38;5;124m\"\u001b[39m\n\u001b[0;32m    101\u001b[0m     )\n",
      "\u001b[1;31mValueError\u001b[0m: Length mismatch: Expected axis has 6 elements, new values have 7 elements"
     ]
    }
   ],
   "source": [
    "\n",
    "# Crear un diccionario de DataFrames\n",
    "lista_de_dataframes = {}\n",
    "\n",
    "for metrica, competidores_dict in lista_de_listas.items():\n",
    "    # Crear un DataFrame a partir del diccionario de competidores\n",
    "    df_temp = pd.DataFrame.from_dict(competidores_dict, orient='index')\n",
    "    df_temp.index.name = 'Competidor'\n",
    "    df_temp.reset_index(inplace=True)  # Convertir el índice en una columna\n",
    "    print(df_temp)\n",
    "    \n",
    "    # Renombrar las columnas para que la primera columna sea la métrica\n",
    "    df_temp.columns = ['Competidor'] + [metrica] * df_temp.shape[1]  # Repite el nombre de la métrica para todas las columnas\n",
    "    lista_de_dataframes[metrica] = df_temp  # Almacenar en el diccionario\n",
    "\n",
    "# Mostrar el DataFrame para 'f1_score_average=macro'\n",
    "print(lista_de_dataframes['f1_score_average=macro'])"
   ]
  },
  {
   "cell_type": "code",
   "execution_count": 36,
   "metadata": {},
   "outputs": [
    {
     "name": "stdout",
     "output_type": "stream",
     "text": [
      "      aomar  CEN-Amrita   CIC-IPN  CIMAT-GTO  CIMAT-MTY-GTO  DCCD-INFOTEC  \\\n",
      "0  0.454868    0.420207  0.726990   0.777498       0.790246      0.769525   \n",
      "1  0.453372    0.423485  0.731859   0.775488       0.782332      0.790101   \n",
      "2  0.471145    0.435161  0.725758   0.771152       0.787715      0.776829   \n",
      "3  0.461581    0.410247  0.724946   0.784269       0.780345      0.780250   \n",
      "4  0.484633    0.420963  0.732696   0.786076       0.786884      0.780972   \n",
      "\n",
      "    NLP-CIC     Timen   UMUTeam   xjywing  \n",
      "0  0.807389  0.731090  0.759542  0.502977  \n",
      "1  0.810538  0.742452  0.769391  0.486745  \n",
      "2  0.799349  0.725638  0.764293  0.506154  \n",
      "3  0.801995  0.710642  0.770441  0.506129  \n",
      "4  0.795795  0.731644  0.777514  0.512923  \n"
     ]
    }
   ],
   "source": [
    "    \n",
    "# Convertir cada lista en un DataFrame y almacenarlos en una lista\n",
    "lista_de_dataframes = [pd.DataFrame(lista_de_listas[data]) for data in lista_de_listas]\n",
    "\n",
    "print(lista_de_dataframes[0])\n"
   ]
  },
  {
   "cell_type": "code",
   "execution_count": 42,
   "metadata": {},
   "outputs": [
    {
     "name": "stdout",
     "output_type": "stream",
     "text": [
      "       Competidor    System\n",
      "0           aomar  0.467705\n",
      "1      CEN-Amrita  0.434265\n",
      "2         CIC-IPN  0.809437\n",
      "3       CIMAT-GTO  0.825470\n",
      "4   CIMAT-MTY-GTO  0.825011\n",
      "5    DCCD-INFOTEC  0.819973\n",
      "6         NLP-CIC  0.836464\n",
      "7           Timen  0.784242\n",
      "8         UMUTeam  0.813101\n",
      "9         xjywing  0.502519\n",
      "10          aomar  0.452588\n",
      "11     CEN-Amrita  0.418690\n",
      "12        CIC-IPN  0.804856\n",
      "13      CIMAT-GTO  0.826844\n",
      "14  CIMAT-MTY-GTO  0.819056\n",
      "15   DCCD-INFOTEC  0.839670\n",
      "16        NLP-CIC  0.853871\n",
      "17          Timen  0.786074\n",
      "18        UMUTeam  0.830050\n",
      "19        xjywing  0.477325\n",
      "20          aomar  0.453962\n",
      "21     CEN-Amrita  0.420522\n",
      "22        CIC-IPN  0.793404\n",
      "23      CIMAT-GTO  0.819973\n",
      "24  CIMAT-MTY-GTO  0.815392\n",
      "25   DCCD-INFOTEC  0.827760\n",
      "26        NLP-CIC  0.839212\n",
      "27          Timen  0.779661\n",
      "28        UMUTeam  0.812185\n",
      "29        xjywing  0.493358\n",
      "30          aomar  0.451214\n",
      "31     CEN-Amrita  0.414567\n",
      "32        CIC-IPN  0.809895\n",
      "33      CIMAT-GTO  0.831425\n",
      "34  CIMAT-MTY-GTO  0.821805\n",
      "35   DCCD-INFOTEC  0.834631\n",
      "36        NLP-CIC  0.850206\n",
      "37          Timen  0.782868\n",
      "38        UMUTeam  0.827760\n",
      "39        xjywing  0.484196\n",
      "40          aomar  0.464498\n",
      "41     CEN-Amrita  0.424645\n",
      "42        CIC-IPN  0.811727\n",
      "43      CIMAT-GTO  0.835089\n",
      "44  CIMAT-MTY-GTO  0.830050\n",
      "45   DCCD-INFOTEC  0.829592\n",
      "46        NLP-CIC  0.841044\n",
      "47          Timen  0.794320\n",
      "48        UMUTeam  0.833257\n",
      "49        xjywing  0.491525\n",
      "       Competidor    System\n",
      "0           aomar  0.315692\n",
      "1      CEN-Amrita  0.310286\n",
      "2         CIC-IPN  0.653277\n",
      "3       CIMAT-GTO  0.684211\n",
      "4   CIMAT-MTY-GTO  0.645588\n",
      "5    DCCD-INFOTEC  0.682456\n",
      "6         NLP-CIC  0.704974\n",
      "7           Timen  0.589226\n",
      "8         UMUTeam  0.664407\n",
      "9         xjywing  0.335687\n",
      "10          aomar  0.305167\n",
      "11     CEN-Amrita  0.300910\n",
      "12        CIC-IPN  0.660793\n",
      "13      CIMAT-GTO  0.690519\n",
      "14  CIMAT-MTY-GTO  0.645833\n",
      "15   DCCD-INFOTEC  0.674177\n",
      "16        NLP-CIC  0.708543\n",
      "17          Timen  0.600000\n",
      "18        UMUTeam  0.675815\n",
      "19        xjywing  0.319771\n",
      "20          aomar  0.308958\n",
      "21     CEN-Amrita  0.298017\n",
      "22        CIC-IPN  0.658747\n",
      "23      CIMAT-GTO  0.687266\n",
      "24  CIMAT-MTY-GTO  0.632132\n",
      "25   DCCD-INFOTEC  0.695495\n",
      "26        NLP-CIC  0.714795\n",
      "27          Timen  0.613191\n",
      "28        UMUTeam  0.664220\n",
      "29        xjywing  0.323810\n",
      "30          aomar  0.333753\n",
      "31     CEN-Amrita  0.323894\n",
      "32        CIC-IPN  0.673118\n",
      "33      CIMAT-GTO  0.713262\n",
      "34  CIMAT-MTY-GTO  0.673591\n",
      "35   DCCD-INFOTEC  0.697391\n",
      "36        NLP-CIC  0.731794\n",
      "37          Timen  0.643357\n",
      "38        UMUTeam  0.687500\n",
      "39        xjywing  0.354839\n",
      "40          aomar  0.317267\n",
      "41     CEN-Amrita  0.317661\n",
      "42        CIC-IPN  0.676409\n",
      "43      CIMAT-GTO  0.697595\n",
      "44  CIMAT-MTY-GTO  0.639831\n",
      "45   DCCD-INFOTEC  0.683360\n",
      "46        NLP-CIC  0.712397\n",
      "47          Timen  0.596026\n",
      "48        UMUTeam  0.676800\n",
      "49        xjywing  0.330579\n",
      "      Competidor  System_x  System_y    System\n",
      "0     CEN-Amrita  0.420207  0.434265  0.310286\n",
      "1     CEN-Amrita  0.420207  0.434265  0.300910\n",
      "2     CEN-Amrita  0.420207  0.434265  0.298017\n",
      "3     CEN-Amrita  0.420207  0.434265  0.323894\n",
      "4     CEN-Amrita  0.420207  0.434265  0.317661\n",
      "...          ...       ...       ...       ...\n",
      "1245     xjywing  0.512923  0.491525  0.335687\n",
      "1246     xjywing  0.512923  0.491525  0.319771\n",
      "1247     xjywing  0.512923  0.491525  0.323810\n",
      "1248     xjywing  0.512923  0.491525  0.354839\n",
      "1249     xjywing  0.512923  0.491525  0.330579\n",
      "\n",
      "[1250 rows x 4 columns]\n"
     ]
    }
   ],
   "source": [
    "# Combinar todos los DataFrames en uno solo\n",
    "df_final = pd.DataFrame({ 'Competidor': np.tile(lista_de_dataframes[0].columns, len(lista_de_dataframes[0])), 'System': lista_de_dataframes[0].values.ravel()})\n",
    "\n",
    "\n",
    "for df in lista_de_dataframes[1:]:\n",
    "    df1 = pd.DataFrame({ 'Competidor': np.tile(df.columns, len(df)), 'System': df.values.ravel()})\n",
    "\n",
    "    df_final = pd.merge(df_final, df1, on='Competidor', how='outer')\n",
    "    print(df1)\n",
    "\n",
    "# Mostrar el DataFrame final\n",
    "print(df_final)"
   ]
  },
  {
   "cell_type": "code",
   "execution_count": 26,
   "metadata": {},
   "outputs": [
    {
     "name": "stdout",
     "output_type": "stream",
     "text": [
      "aomar\n",
      "0    0.454868\n",
      "1    0.453372\n",
      "2    0.471145\n",
      "3    0.461581\n",
      "4    0.484633\n",
      "Name: aomar, dtype: float64\n"
     ]
    },
    {
     "ename": "TypeError",
     "evalue": "'float' object is not iterable",
     "output_type": "error",
     "traceback": [
      "\u001b[1;31m---------------------------------------------------------------------------\u001b[0m",
      "\u001b[1;31mTypeError\u001b[0m                                 Traceback (most recent call last)",
      "Cell \u001b[1;32mIn[26], line 13\u001b[0m\n\u001b[0;32m     10\u001b[0m \u001b[38;5;28mprint\u001b[39m(competidores_dict)\n\u001b[0;32m     11\u001b[0m \u001b[38;5;28;01mfor\u001b[39;00m competidor, valor_array \u001b[38;5;129;01min\u001b[39;00m competidores_dict\u001b[38;5;241m.\u001b[39mitems():\n\u001b[0;32m     12\u001b[0m     \u001b[38;5;66;03m# Para cada competidor, añadir los valores a las listas\u001b[39;00m\n\u001b[1;32m---> 13\u001b[0m \u001b[43m    \u001b[49m\u001b[38;5;28;43;01mfor\u001b[39;49;00m\u001b[43m \u001b[49m\u001b[43mvalor\u001b[49m\u001b[43m \u001b[49m\u001b[38;5;129;43;01min\u001b[39;49;00m\u001b[43m \u001b[49m\u001b[43mvalor_array\u001b[49m\u001b[43m:\u001b[49m\n\u001b[0;32m     14\u001b[0m \u001b[43m        \u001b[49m\u001b[43mmetricas\u001b[49m\u001b[38;5;241;43m.\u001b[39;49m\u001b[43mappend\u001b[49m\u001b[43m(\u001b[49m\u001b[43mmetrica\u001b[49m\u001b[43m)\u001b[49m\n\u001b[0;32m     15\u001b[0m \u001b[43m        \u001b[49m\u001b[43mcompetidores\u001b[49m\u001b[38;5;241;43m.\u001b[39;49m\u001b[43mappend\u001b[49m\u001b[43m(\u001b[49m\u001b[43mcompetidor\u001b[49m\u001b[43m)\u001b[49m\n",
      "\u001b[1;31mTypeError\u001b[0m: 'float' object is not iterable"
     ]
    }
   ],
   "source": [
    "for df in lista_de_dataframes:\n",
    "    # Crear listas para almacenar los datos\n",
    "    metricas = []\n",
    "    competidores = []\n",
    "    valores = []\n",
    "\n",
    "    # Iterar sobre las métricas y competidores\n",
    "    for metrica, competidores_dict in df.items():\n",
    "        print(metrica)\n",
    "        print(competidores_dict)\n",
    "        for competidor, valor_array in competidores_dict.items():\n",
    "            # Para cada competidor, añadir los valores a las listas\n",
    "            for valor in valor_array:\n",
    "                metricas.append(metrica)\n",
    "                competidores.append(competidor)\n",
    "                valores.append(valor)\n",
    "\n",
    "    # Crear el DataFrame\n",
    "    df = pd.DataFrame({\n",
    "        'Metrica': metricas,\n",
    "        'Competidor': competidores,\n",
    "        'Valor': valores\n",
    "        })\n",
    "\n",
    "print(df)"
   ]
  },
  {
   "cell_type": "code",
   "execution_count": 38,
   "metadata": {},
   "outputs": [
    {
     "data": {
      "application/vnd.plotly.v1+json": {
       "config": {
        "plotlyServerURL": "https://plot.ly"
       },
       "data": [
        {
         "dimensions": [
          {
           "axis": {
            "matches": true
           },
           "label": "System",
           "values": [
            "aomar",
            "aomar",
            "aomar",
            "aomar",
            "aomar"
           ]
          },
          {
           "axis": {
            "matches": true
           },
           "label": "value",
           "values": [
            0.45486814467950876,
            0.45337175214243,
            0.47114494829812925,
            0.4615809675801664,
            0.48463294911771426
           ]
          }
         ],
         "hovertemplate": "System=aomar<br>%{xaxis.title.text}=%{x}<br>%{yaxis.title.text}=%{y}<extra></extra>",
         "legendgroup": "aomar",
         "marker": {
          "color": "#636efa",
          "symbol": "circle"
         },
         "name": "aomar",
         "showlegend": true,
         "type": "splom"
        },
        {
         "dimensions": [
          {
           "axis": {
            "matches": true
           },
           "label": "System",
           "values": [
            "CEN-Amrita",
            "CEN-Amrita",
            "CEN-Amrita",
            "CEN-Amrita",
            "CEN-Amrita"
           ]
          },
          {
           "axis": {
            "matches": true
           },
           "label": "value",
           "values": [
            0.42020652111394186,
            0.42348506674349373,
            0.4351606411124412,
            0.4102466077417908,
            0.4209626296049873
           ]
          }
         ],
         "hovertemplate": "System=CEN-Amrita<br>%{xaxis.title.text}=%{x}<br>%{yaxis.title.text}=%{y}<extra></extra>",
         "legendgroup": "CEN-Amrita",
         "marker": {
          "color": "#EF553B",
          "symbol": "circle"
         },
         "name": "CEN-Amrita",
         "showlegend": true,
         "type": "splom"
        },
        {
         "dimensions": [
          {
           "axis": {
            "matches": true
           },
           "label": "System",
           "values": [
            "CIC-IPN",
            "CIC-IPN",
            "CIC-IPN",
            "CIC-IPN",
            "CIC-IPN"
           ]
          },
          {
           "axis": {
            "matches": true
           },
           "label": "value",
           "values": [
            0.7269904210681732,
            0.731859010290159,
            0.7257578721790905,
            0.7249461228249268,
            0.7326959168726541
           ]
          }
         ],
         "hovertemplate": "System=CIC-IPN<br>%{xaxis.title.text}=%{x}<br>%{yaxis.title.text}=%{y}<extra></extra>",
         "legendgroup": "CIC-IPN",
         "marker": {
          "color": "#00cc96",
          "symbol": "circle"
         },
         "name": "CIC-IPN",
         "showlegend": true,
         "type": "splom"
        },
        {
         "dimensions": [
          {
           "axis": {
            "matches": true
           },
           "label": "System",
           "values": [
            "CIMAT-GTO",
            "CIMAT-GTO",
            "CIMAT-GTO",
            "CIMAT-GTO",
            "CIMAT-GTO"
           ]
          },
          {
           "axis": {
            "matches": true
           },
           "label": "value",
           "values": [
            0.7774984286612194,
            0.7754884549946026,
            0.7711519741557289,
            0.7842691225985139,
            0.7860763900784201
           ]
          }
         ],
         "hovertemplate": "System=CIMAT-GTO<br>%{xaxis.title.text}=%{x}<br>%{yaxis.title.text}=%{y}<extra></extra>",
         "legendgroup": "CIMAT-GTO",
         "marker": {
          "color": "#ab63fa",
          "symbol": "circle"
         },
         "name": "CIMAT-GTO",
         "showlegend": true,
         "type": "splom"
        },
        {
         "dimensions": [
          {
           "axis": {
            "matches": true
           },
           "label": "System",
           "values": [
            "CIMAT-MTY-GTO",
            "CIMAT-MTY-GTO",
            "CIMAT-MTY-GTO",
            "CIMAT-MTY-GTO",
            "CIMAT-MTY-GTO"
           ]
          },
          {
           "axis": {
            "matches": true
           },
           "label": "value",
           "values": [
            0.7902457991309508,
            0.7823319106593641,
            0.7877148381507343,
            0.780345463692772,
            0.7868837396273006
           ]
          }
         ],
         "hovertemplate": "System=CIMAT-MTY-GTO<br>%{xaxis.title.text}=%{x}<br>%{yaxis.title.text}=%{y}<extra></extra>",
         "legendgroup": "CIMAT-MTY-GTO",
         "marker": {
          "color": "#FFA15A",
          "symbol": "circle"
         },
         "name": "CIMAT-MTY-GTO",
         "showlegend": true,
         "type": "splom"
        },
        {
         "dimensions": [
          {
           "axis": {
            "matches": true
           },
           "label": "System",
           "values": [
            "DCCD-INFOTEC",
            "DCCD-INFOTEC",
            "DCCD-INFOTEC",
            "DCCD-INFOTEC",
            "DCCD-INFOTEC"
           ]
          },
          {
           "axis": {
            "matches": true
           },
           "label": "value",
           "values": [
            0.7695253979518061,
            0.7901011994903968,
            0.7768286103163422,
            0.7802495902174065,
            0.7809719044993779
           ]
          }
         ],
         "hovertemplate": "System=DCCD-INFOTEC<br>%{xaxis.title.text}=%{x}<br>%{yaxis.title.text}=%{y}<extra></extra>",
         "legendgroup": "DCCD-INFOTEC",
         "marker": {
          "color": "#19d3f3",
          "symbol": "circle"
         },
         "name": "DCCD-INFOTEC",
         "showlegend": true,
         "type": "splom"
        },
        {
         "dimensions": [
          {
           "axis": {
            "matches": true
           },
           "label": "System",
           "values": [
            "NLP-CIC",
            "NLP-CIC",
            "NLP-CIC",
            "NLP-CIC",
            "NLP-CIC"
           ]
          },
          {
           "axis": {
            "matches": true
           },
           "label": "value",
           "values": [
            0.8073888843907715,
            0.8105381693584612,
            0.7993487596621032,
            0.8019954648526078,
            0.7957954853162001
           ]
          }
         ],
         "hovertemplate": "System=NLP-CIC<br>%{xaxis.title.text}=%{x}<br>%{yaxis.title.text}=%{y}<extra></extra>",
         "legendgroup": "NLP-CIC",
         "marker": {
          "color": "#FF6692",
          "symbol": "circle"
         },
         "name": "NLP-CIC",
         "showlegend": true,
         "type": "splom"
        },
        {
         "dimensions": [
          {
           "axis": {
            "matches": true
           },
           "label": "System",
           "values": [
            "Timen",
            "Timen",
            "Timen",
            "Timen",
            "Timen"
           ]
          },
          {
           "axis": {
            "matches": true
           },
           "label": "value",
           "values": [
            0.7310897030953885,
            0.742452106352988,
            0.7256384908992208,
            0.7106421929951342,
            0.7316440454651478
           ]
          }
         ],
         "hovertemplate": "System=Timen<br>%{xaxis.title.text}=%{x}<br>%{yaxis.title.text}=%{y}<extra></extra>",
         "legendgroup": "Timen",
         "marker": {
          "color": "#B6E880",
          "symbol": "circle"
         },
         "name": "Timen",
         "showlegend": true,
         "type": "splom"
        },
        {
         "dimensions": [
          {
           "axis": {
            "matches": true
           },
           "label": "System",
           "values": [
            "UMUTeam",
            "UMUTeam",
            "UMUTeam",
            "UMUTeam",
            "UMUTeam"
           ]
          },
          {
           "axis": {
            "matches": true
           },
           "label": "value",
           "values": [
            0.7595420631163445,
            0.7693906369584668,
            0.764293225505599,
            0.7704405288948687,
            0.7775141197643165
           ]
          }
         ],
         "hovertemplate": "System=UMUTeam<br>%{xaxis.title.text}=%{x}<br>%{yaxis.title.text}=%{y}<extra></extra>",
         "legendgroup": "UMUTeam",
         "marker": {
          "color": "#FF97FF",
          "symbol": "circle"
         },
         "name": "UMUTeam",
         "showlegend": true,
         "type": "splom"
        },
        {
         "dimensions": [
          {
           "axis": {
            "matches": true
           },
           "label": "System",
           "values": [
            "xjywing",
            "xjywing",
            "xjywing",
            "xjywing",
            "xjywing"
           ]
          },
          {
           "axis": {
            "matches": true
           },
           "label": "value",
           "values": [
            0.5029771366398174,
            0.48674542996532066,
            0.5061542012927054,
            0.506129327423525,
            0.5129229651275673
           ]
          }
         ],
         "hovertemplate": "System=xjywing<br>%{xaxis.title.text}=%{x}<br>%{yaxis.title.text}=%{y}<extra></extra>",
         "legendgroup": "xjywing",
         "marker": {
          "color": "#FECB52",
          "symbol": "circle"
         },
         "name": "xjywing",
         "showlegend": true,
         "type": "splom"
        }
       ],
       "layout": {
        "dragmode": "select",
        "legend": {
         "title": {
          "text": "System"
         },
         "tracegroupgap": 0
        },
        "margin": {
         "t": 60
        },
        "template": {
         "data": {
          "bar": [
           {
            "error_x": {
             "color": "#2a3f5f"
            },
            "error_y": {
             "color": "#2a3f5f"
            },
            "marker": {
             "line": {
              "color": "#E5ECF6",
              "width": 0.5
             },
             "pattern": {
              "fillmode": "overlay",
              "size": 10,
              "solidity": 0.2
             }
            },
            "type": "bar"
           }
          ],
          "barpolar": [
           {
            "marker": {
             "line": {
              "color": "#E5ECF6",
              "width": 0.5
             },
             "pattern": {
              "fillmode": "overlay",
              "size": 10,
              "solidity": 0.2
             }
            },
            "type": "barpolar"
           }
          ],
          "carpet": [
           {
            "aaxis": {
             "endlinecolor": "#2a3f5f",
             "gridcolor": "white",
             "linecolor": "white",
             "minorgridcolor": "white",
             "startlinecolor": "#2a3f5f"
            },
            "baxis": {
             "endlinecolor": "#2a3f5f",
             "gridcolor": "white",
             "linecolor": "white",
             "minorgridcolor": "white",
             "startlinecolor": "#2a3f5f"
            },
            "type": "carpet"
           }
          ],
          "choropleth": [
           {
            "colorbar": {
             "outlinewidth": 0,
             "ticks": ""
            },
            "type": "choropleth"
           }
          ],
          "contour": [
           {
            "colorbar": {
             "outlinewidth": 0,
             "ticks": ""
            },
            "colorscale": [
             [
              0,
              "#0d0887"
             ],
             [
              0.1111111111111111,
              "#46039f"
             ],
             [
              0.2222222222222222,
              "#7201a8"
             ],
             [
              0.3333333333333333,
              "#9c179e"
             ],
             [
              0.4444444444444444,
              "#bd3786"
             ],
             [
              0.5555555555555556,
              "#d8576b"
             ],
             [
              0.6666666666666666,
              "#ed7953"
             ],
             [
              0.7777777777777778,
              "#fb9f3a"
             ],
             [
              0.8888888888888888,
              "#fdca26"
             ],
             [
              1,
              "#f0f921"
             ]
            ],
            "type": "contour"
           }
          ],
          "contourcarpet": [
           {
            "colorbar": {
             "outlinewidth": 0,
             "ticks": ""
            },
            "type": "contourcarpet"
           }
          ],
          "heatmap": [
           {
            "colorbar": {
             "outlinewidth": 0,
             "ticks": ""
            },
            "colorscale": [
             [
              0,
              "#0d0887"
             ],
             [
              0.1111111111111111,
              "#46039f"
             ],
             [
              0.2222222222222222,
              "#7201a8"
             ],
             [
              0.3333333333333333,
              "#9c179e"
             ],
             [
              0.4444444444444444,
              "#bd3786"
             ],
             [
              0.5555555555555556,
              "#d8576b"
             ],
             [
              0.6666666666666666,
              "#ed7953"
             ],
             [
              0.7777777777777778,
              "#fb9f3a"
             ],
             [
              0.8888888888888888,
              "#fdca26"
             ],
             [
              1,
              "#f0f921"
             ]
            ],
            "type": "heatmap"
           }
          ],
          "heatmapgl": [
           {
            "colorbar": {
             "outlinewidth": 0,
             "ticks": ""
            },
            "colorscale": [
             [
              0,
              "#0d0887"
             ],
             [
              0.1111111111111111,
              "#46039f"
             ],
             [
              0.2222222222222222,
              "#7201a8"
             ],
             [
              0.3333333333333333,
              "#9c179e"
             ],
             [
              0.4444444444444444,
              "#bd3786"
             ],
             [
              0.5555555555555556,
              "#d8576b"
             ],
             [
              0.6666666666666666,
              "#ed7953"
             ],
             [
              0.7777777777777778,
              "#fb9f3a"
             ],
             [
              0.8888888888888888,
              "#fdca26"
             ],
             [
              1,
              "#f0f921"
             ]
            ],
            "type": "heatmapgl"
           }
          ],
          "histogram": [
           {
            "marker": {
             "pattern": {
              "fillmode": "overlay",
              "size": 10,
              "solidity": 0.2
             }
            },
            "type": "histogram"
           }
          ],
          "histogram2d": [
           {
            "colorbar": {
             "outlinewidth": 0,
             "ticks": ""
            },
            "colorscale": [
             [
              0,
              "#0d0887"
             ],
             [
              0.1111111111111111,
              "#46039f"
             ],
             [
              0.2222222222222222,
              "#7201a8"
             ],
             [
              0.3333333333333333,
              "#9c179e"
             ],
             [
              0.4444444444444444,
              "#bd3786"
             ],
             [
              0.5555555555555556,
              "#d8576b"
             ],
             [
              0.6666666666666666,
              "#ed7953"
             ],
             [
              0.7777777777777778,
              "#fb9f3a"
             ],
             [
              0.8888888888888888,
              "#fdca26"
             ],
             [
              1,
              "#f0f921"
             ]
            ],
            "type": "histogram2d"
           }
          ],
          "histogram2dcontour": [
           {
            "colorbar": {
             "outlinewidth": 0,
             "ticks": ""
            },
            "colorscale": [
             [
              0,
              "#0d0887"
             ],
             [
              0.1111111111111111,
              "#46039f"
             ],
             [
              0.2222222222222222,
              "#7201a8"
             ],
             [
              0.3333333333333333,
              "#9c179e"
             ],
             [
              0.4444444444444444,
              "#bd3786"
             ],
             [
              0.5555555555555556,
              "#d8576b"
             ],
             [
              0.6666666666666666,
              "#ed7953"
             ],
             [
              0.7777777777777778,
              "#fb9f3a"
             ],
             [
              0.8888888888888888,
              "#fdca26"
             ],
             [
              1,
              "#f0f921"
             ]
            ],
            "type": "histogram2dcontour"
           }
          ],
          "mesh3d": [
           {
            "colorbar": {
             "outlinewidth": 0,
             "ticks": ""
            },
            "type": "mesh3d"
           }
          ],
          "parcoords": [
           {
            "line": {
             "colorbar": {
              "outlinewidth": 0,
              "ticks": ""
             }
            },
            "type": "parcoords"
           }
          ],
          "pie": [
           {
            "automargin": true,
            "type": "pie"
           }
          ],
          "scatter": [
           {
            "fillpattern": {
             "fillmode": "overlay",
             "size": 10,
             "solidity": 0.2
            },
            "type": "scatter"
           }
          ],
          "scatter3d": [
           {
            "line": {
             "colorbar": {
              "outlinewidth": 0,
              "ticks": ""
             }
            },
            "marker": {
             "colorbar": {
              "outlinewidth": 0,
              "ticks": ""
             }
            },
            "type": "scatter3d"
           }
          ],
          "scattercarpet": [
           {
            "marker": {
             "colorbar": {
              "outlinewidth": 0,
              "ticks": ""
             }
            },
            "type": "scattercarpet"
           }
          ],
          "scattergeo": [
           {
            "marker": {
             "colorbar": {
              "outlinewidth": 0,
              "ticks": ""
             }
            },
            "type": "scattergeo"
           }
          ],
          "scattergl": [
           {
            "marker": {
             "colorbar": {
              "outlinewidth": 0,
              "ticks": ""
             }
            },
            "type": "scattergl"
           }
          ],
          "scattermapbox": [
           {
            "marker": {
             "colorbar": {
              "outlinewidth": 0,
              "ticks": ""
             }
            },
            "type": "scattermapbox"
           }
          ],
          "scatterpolar": [
           {
            "marker": {
             "colorbar": {
              "outlinewidth": 0,
              "ticks": ""
             }
            },
            "type": "scatterpolar"
           }
          ],
          "scatterpolargl": [
           {
            "marker": {
             "colorbar": {
              "outlinewidth": 0,
              "ticks": ""
             }
            },
            "type": "scatterpolargl"
           }
          ],
          "scatterternary": [
           {
            "marker": {
             "colorbar": {
              "outlinewidth": 0,
              "ticks": ""
             }
            },
            "type": "scatterternary"
           }
          ],
          "surface": [
           {
            "colorbar": {
             "outlinewidth": 0,
             "ticks": ""
            },
            "colorscale": [
             [
              0,
              "#0d0887"
             ],
             [
              0.1111111111111111,
              "#46039f"
             ],
             [
              0.2222222222222222,
              "#7201a8"
             ],
             [
              0.3333333333333333,
              "#9c179e"
             ],
             [
              0.4444444444444444,
              "#bd3786"
             ],
             [
              0.5555555555555556,
              "#d8576b"
             ],
             [
              0.6666666666666666,
              "#ed7953"
             ],
             [
              0.7777777777777778,
              "#fb9f3a"
             ],
             [
              0.8888888888888888,
              "#fdca26"
             ],
             [
              1,
              "#f0f921"
             ]
            ],
            "type": "surface"
           }
          ],
          "table": [
           {
            "cells": {
             "fill": {
              "color": "#EBF0F8"
             },
             "line": {
              "color": "white"
             }
            },
            "header": {
             "fill": {
              "color": "#C8D4E3"
             },
             "line": {
              "color": "white"
             }
            },
            "type": "table"
           }
          ]
         },
         "layout": {
          "annotationdefaults": {
           "arrowcolor": "#2a3f5f",
           "arrowhead": 0,
           "arrowwidth": 1
          },
          "autotypenumbers": "strict",
          "coloraxis": {
           "colorbar": {
            "outlinewidth": 0,
            "ticks": ""
           }
          },
          "colorscale": {
           "diverging": [
            [
             0,
             "#8e0152"
            ],
            [
             0.1,
             "#c51b7d"
            ],
            [
             0.2,
             "#de77ae"
            ],
            [
             0.3,
             "#f1b6da"
            ],
            [
             0.4,
             "#fde0ef"
            ],
            [
             0.5,
             "#f7f7f7"
            ],
            [
             0.6,
             "#e6f5d0"
            ],
            [
             0.7,
             "#b8e186"
            ],
            [
             0.8,
             "#7fbc41"
            ],
            [
             0.9,
             "#4d9221"
            ],
            [
             1,
             "#276419"
            ]
           ],
           "sequential": [
            [
             0,
             "#0d0887"
            ],
            [
             0.1111111111111111,
             "#46039f"
            ],
            [
             0.2222222222222222,
             "#7201a8"
            ],
            [
             0.3333333333333333,
             "#9c179e"
            ],
            [
             0.4444444444444444,
             "#bd3786"
            ],
            [
             0.5555555555555556,
             "#d8576b"
            ],
            [
             0.6666666666666666,
             "#ed7953"
            ],
            [
             0.7777777777777778,
             "#fb9f3a"
            ],
            [
             0.8888888888888888,
             "#fdca26"
            ],
            [
             1,
             "#f0f921"
            ]
           ],
           "sequentialminus": [
            [
             0,
             "#0d0887"
            ],
            [
             0.1111111111111111,
             "#46039f"
            ],
            [
             0.2222222222222222,
             "#7201a8"
            ],
            [
             0.3333333333333333,
             "#9c179e"
            ],
            [
             0.4444444444444444,
             "#bd3786"
            ],
            [
             0.5555555555555556,
             "#d8576b"
            ],
            [
             0.6666666666666666,
             "#ed7953"
            ],
            [
             0.7777777777777778,
             "#fb9f3a"
            ],
            [
             0.8888888888888888,
             "#fdca26"
            ],
            [
             1,
             "#f0f921"
            ]
           ]
          },
          "colorway": [
           "#636efa",
           "#EF553B",
           "#00cc96",
           "#ab63fa",
           "#FFA15A",
           "#19d3f3",
           "#FF6692",
           "#B6E880",
           "#FF97FF",
           "#FECB52"
          ],
          "font": {
           "color": "#2a3f5f"
          },
          "geo": {
           "bgcolor": "white",
           "lakecolor": "white",
           "landcolor": "#E5ECF6",
           "showlakes": true,
           "showland": true,
           "subunitcolor": "white"
          },
          "hoverlabel": {
           "align": "left"
          },
          "hovermode": "closest",
          "mapbox": {
           "style": "light"
          },
          "paper_bgcolor": "white",
          "plot_bgcolor": "#E5ECF6",
          "polar": {
           "angularaxis": {
            "gridcolor": "white",
            "linecolor": "white",
            "ticks": ""
           },
           "bgcolor": "#E5ECF6",
           "radialaxis": {
            "gridcolor": "white",
            "linecolor": "white",
            "ticks": ""
           }
          },
          "scene": {
           "xaxis": {
            "backgroundcolor": "#E5ECF6",
            "gridcolor": "white",
            "gridwidth": 2,
            "linecolor": "white",
            "showbackground": true,
            "ticks": "",
            "zerolinecolor": "white"
           },
           "yaxis": {
            "backgroundcolor": "#E5ECF6",
            "gridcolor": "white",
            "gridwidth": 2,
            "linecolor": "white",
            "showbackground": true,
            "ticks": "",
            "zerolinecolor": "white"
           },
           "zaxis": {
            "backgroundcolor": "#E5ECF6",
            "gridcolor": "white",
            "gridwidth": 2,
            "linecolor": "white",
            "showbackground": true,
            "ticks": "",
            "zerolinecolor": "white"
           }
          },
          "shapedefaults": {
           "line": {
            "color": "#2a3f5f"
           }
          },
          "ternary": {
           "aaxis": {
            "gridcolor": "white",
            "linecolor": "white",
            "ticks": ""
           },
           "baxis": {
            "gridcolor": "white",
            "linecolor": "white",
            "ticks": ""
           },
           "bgcolor": "#E5ECF6",
           "caxis": {
            "gridcolor": "white",
            "linecolor": "white",
            "ticks": ""
           }
          },
          "title": {
           "x": 0.05
          },
          "xaxis": {
           "automargin": true,
           "gridcolor": "white",
           "linecolor": "white",
           "ticks": "",
           "title": {
            "standoff": 15
           },
           "zerolinecolor": "white",
           "zerolinewidth": 2
          },
          "yaxis": {
           "automargin": true,
           "gridcolor": "white",
           "linecolor": "white",
           "ticks": "",
           "title": {
            "standoff": 15
           },
           "zerolinecolor": "white",
           "zerolinewidth": 2
          }
         }
        }
       }
      }
     },
     "metadata": {},
     "output_type": "display_data"
    },
    {
     "data": {
      "application/vnd.plotly.v1+json": {
       "config": {
        "plotlyServerURL": "https://plot.ly"
       },
       "data": [
        {
         "dimensions": [
          {
           "axis": {
            "matches": true
           },
           "label": "System",
           "values": [
            "aomar",
            "aomar",
            "aomar",
            "aomar",
            "aomar"
           ]
          },
          {
           "axis": {
            "matches": true
           },
           "label": "value",
           "values": [
            0.46770499312872194,
            0.45258818140174073,
            0.4539624370132845,
            0.451213925790197,
            0.46449839670178655
           ]
          }
         ],
         "hovertemplate": "System=aomar<br>%{xaxis.title.text}=%{x}<br>%{yaxis.title.text}=%{y}<extra></extra>",
         "legendgroup": "aomar",
         "marker": {
          "color": "#636efa",
          "symbol": "circle"
         },
         "name": "aomar",
         "showlegend": true,
         "type": "splom"
        },
        {
         "dimensions": [
          {
           "axis": {
            "matches": true
           },
           "label": "System",
           "values": [
            "CEN-Amrita",
            "CEN-Amrita",
            "CEN-Amrita",
            "CEN-Amrita",
            "CEN-Amrita"
           ]
          },
          {
           "axis": {
            "matches": true
           },
           "label": "value",
           "values": [
            0.4342647732478241,
            0.41868987631699495,
            0.42052221713238663,
            0.4145671094823637,
            0.4246449839670179
           ]
          }
         ],
         "hovertemplate": "System=CEN-Amrita<br>%{xaxis.title.text}=%{x}<br>%{yaxis.title.text}=%{y}<extra></extra>",
         "legendgroup": "CEN-Amrita",
         "marker": {
          "color": "#EF553B",
          "symbol": "circle"
         },
         "name": "CEN-Amrita",
         "showlegend": true,
         "type": "splom"
        },
        {
         "dimensions": [
          {
           "axis": {
            "matches": true
           },
           "label": "System",
           "values": [
            "CIC-IPN",
            "CIC-IPN",
            "CIC-IPN",
            "CIC-IPN",
            "CIC-IPN"
           ]
          },
          {
           "axis": {
            "matches": true
           },
           "label": "value",
           "values": [
            0.809436555199267,
            0.8048557031607879,
            0.79340357306459,
            0.809894640403115,
            0.8117269812185066
           ]
          }
         ],
         "hovertemplate": "System=CIC-IPN<br>%{xaxis.title.text}=%{x}<br>%{yaxis.title.text}=%{y}<extra></extra>",
         "legendgroup": "CIC-IPN",
         "marker": {
          "color": "#00cc96",
          "symbol": "circle"
         },
         "name": "CIC-IPN",
         "showlegend": true,
         "type": "splom"
        },
        {
         "dimensions": [
          {
           "axis": {
            "matches": true
           },
           "label": "System",
           "values": [
            "CIMAT-GTO",
            "CIMAT-GTO",
            "CIMAT-GTO",
            "CIMAT-GTO",
            "CIMAT-GTO"
           ]
          },
          {
           "axis": {
            "matches": true
           },
           "label": "value",
           "values": [
            0.8254695373339441,
            0.8268437929454878,
            0.8199725148877691,
            0.8314246449839671,
            0.8350893266147503
           ]
          }
         ],
         "hovertemplate": "System=CIMAT-GTO<br>%{xaxis.title.text}=%{x}<br>%{yaxis.title.text}=%{y}<extra></extra>",
         "legendgroup": "CIMAT-GTO",
         "marker": {
          "color": "#ab63fa",
          "symbol": "circle"
         },
         "name": "CIMAT-GTO",
         "showlegend": true,
         "type": "splom"
        },
        {
         "dimensions": [
          {
           "axis": {
            "matches": true
           },
           "label": "System",
           "values": [
            "CIMAT-MTY-GTO",
            "CIMAT-MTY-GTO",
            "CIMAT-MTY-GTO",
            "CIMAT-MTY-GTO",
            "CIMAT-MTY-GTO"
           ]
          },
          {
           "axis": {
            "matches": true
           },
           "label": "value",
           "values": [
            0.8250114521300962,
            0.8190563444800733,
            0.81539166284929,
            0.8218048557031608,
            0.8300503893724233
           ]
          }
         ],
         "hovertemplate": "System=CIMAT-MTY-GTO<br>%{xaxis.title.text}=%{x}<br>%{yaxis.title.text}=%{y}<extra></extra>",
         "legendgroup": "CIMAT-MTY-GTO",
         "marker": {
          "color": "#FFA15A",
          "symbol": "circle"
         },
         "name": "CIMAT-MTY-GTO",
         "showlegend": true,
         "type": "splom"
        },
        {
         "dimensions": [
          {
           "axis": {
            "matches": true
           },
           "label": "System",
           "values": [
            "DCCD-INFOTEC",
            "DCCD-INFOTEC",
            "DCCD-INFOTEC",
            "DCCD-INFOTEC",
            "DCCD-INFOTEC"
           ]
          },
          {
           "axis": {
            "matches": true
           },
           "label": "value",
           "values": [
            0.8199725148877691,
            0.8396701786532295,
            0.8277599633531837,
            0.8346312414109024,
            0.8295923041685753
           ]
          }
         ],
         "hovertemplate": "System=DCCD-INFOTEC<br>%{xaxis.title.text}=%{x}<br>%{yaxis.title.text}=%{y}<extra></extra>",
         "legendgroup": "DCCD-INFOTEC",
         "marker": {
          "color": "#19d3f3",
          "symbol": "circle"
         },
         "name": "DCCD-INFOTEC",
         "showlegend": true,
         "type": "splom"
        },
        {
         "dimensions": [
          {
           "axis": {
            "matches": true
           },
           "label": "System",
           "values": [
            "NLP-CIC",
            "NLP-CIC",
            "NLP-CIC",
            "NLP-CIC",
            "NLP-CIC"
           ]
          },
          {
           "axis": {
            "matches": true
           },
           "label": "value",
           "values": [
            0.8364635822262941,
            0.8538708199725149,
            0.8392120934493816,
            0.8502061383417315,
            0.8410444342647733
           ]
          }
         ],
         "hovertemplate": "System=NLP-CIC<br>%{xaxis.title.text}=%{x}<br>%{yaxis.title.text}=%{y}<extra></extra>",
         "legendgroup": "NLP-CIC",
         "marker": {
          "color": "#FF6692",
          "symbol": "circle"
         },
         "name": "NLP-CIC",
         "showlegend": true,
         "type": "splom"
        },
        {
         "dimensions": [
          {
           "axis": {
            "matches": true
           },
           "label": "System",
           "values": [
            "Timen",
            "Timen",
            "Timen",
            "Timen",
            "Timen"
           ]
          },
          {
           "axis": {
            "matches": true
           },
           "label": "value",
           "values": [
            0.7842418689876317,
            0.7860742098030233,
            0.7796610169491526,
            0.7828676133760879,
            0.7943197434722858
           ]
          }
         ],
         "hovertemplate": "System=Timen<br>%{xaxis.title.text}=%{x}<br>%{yaxis.title.text}=%{y}<extra></extra>",
         "legendgroup": "Timen",
         "marker": {
          "color": "#B6E880",
          "symbol": "circle"
         },
         "name": "Timen",
         "showlegend": true,
         "type": "splom"
        },
        {
         "dimensions": [
          {
           "axis": {
            "matches": true
           },
           "label": "System",
           "values": [
            "UMUTeam",
            "UMUTeam",
            "UMUTeam",
            "UMUTeam",
            "UMUTeam"
           ]
          },
          {
           "axis": {
            "matches": true
           },
           "label": "value",
           "values": [
            0.8131012368300504,
            0.8300503893724233,
            0.8121850664223546,
            0.8277599633531837,
            0.8332569857993587
           ]
          }
         ],
         "hovertemplate": "System=UMUTeam<br>%{xaxis.title.text}=%{x}<br>%{yaxis.title.text}=%{y}<extra></extra>",
         "legendgroup": "UMUTeam",
         "marker": {
          "color": "#FF97FF",
          "symbol": "circle"
         },
         "name": "UMUTeam",
         "showlegend": true,
         "type": "splom"
        },
        {
         "dimensions": [
          {
           "axis": {
            "matches": true
           },
           "label": "System",
           "values": [
            "xjywing",
            "xjywing",
            "xjywing",
            "xjywing",
            "xjywing"
           ]
          },
          {
           "axis": {
            "matches": true
           },
           "label": "value",
           "values": [
            0.5025194686211636,
            0.4773247824095282,
            0.4933577645442052,
            0.4841960604672469,
            0.4915254237288136
           ]
          }
         ],
         "hovertemplate": "System=xjywing<br>%{xaxis.title.text}=%{x}<br>%{yaxis.title.text}=%{y}<extra></extra>",
         "legendgroup": "xjywing",
         "marker": {
          "color": "#FECB52",
          "symbol": "circle"
         },
         "name": "xjywing",
         "showlegend": true,
         "type": "splom"
        }
       ],
       "layout": {
        "dragmode": "select",
        "legend": {
         "title": {
          "text": "System"
         },
         "tracegroupgap": 0
        },
        "margin": {
         "t": 60
        },
        "template": {
         "data": {
          "bar": [
           {
            "error_x": {
             "color": "#2a3f5f"
            },
            "error_y": {
             "color": "#2a3f5f"
            },
            "marker": {
             "line": {
              "color": "#E5ECF6",
              "width": 0.5
             },
             "pattern": {
              "fillmode": "overlay",
              "size": 10,
              "solidity": 0.2
             }
            },
            "type": "bar"
           }
          ],
          "barpolar": [
           {
            "marker": {
             "line": {
              "color": "#E5ECF6",
              "width": 0.5
             },
             "pattern": {
              "fillmode": "overlay",
              "size": 10,
              "solidity": 0.2
             }
            },
            "type": "barpolar"
           }
          ],
          "carpet": [
           {
            "aaxis": {
             "endlinecolor": "#2a3f5f",
             "gridcolor": "white",
             "linecolor": "white",
             "minorgridcolor": "white",
             "startlinecolor": "#2a3f5f"
            },
            "baxis": {
             "endlinecolor": "#2a3f5f",
             "gridcolor": "white",
             "linecolor": "white",
             "minorgridcolor": "white",
             "startlinecolor": "#2a3f5f"
            },
            "type": "carpet"
           }
          ],
          "choropleth": [
           {
            "colorbar": {
             "outlinewidth": 0,
             "ticks": ""
            },
            "type": "choropleth"
           }
          ],
          "contour": [
           {
            "colorbar": {
             "outlinewidth": 0,
             "ticks": ""
            },
            "colorscale": [
             [
              0,
              "#0d0887"
             ],
             [
              0.1111111111111111,
              "#46039f"
             ],
             [
              0.2222222222222222,
              "#7201a8"
             ],
             [
              0.3333333333333333,
              "#9c179e"
             ],
             [
              0.4444444444444444,
              "#bd3786"
             ],
             [
              0.5555555555555556,
              "#d8576b"
             ],
             [
              0.6666666666666666,
              "#ed7953"
             ],
             [
              0.7777777777777778,
              "#fb9f3a"
             ],
             [
              0.8888888888888888,
              "#fdca26"
             ],
             [
              1,
              "#f0f921"
             ]
            ],
            "type": "contour"
           }
          ],
          "contourcarpet": [
           {
            "colorbar": {
             "outlinewidth": 0,
             "ticks": ""
            },
            "type": "contourcarpet"
           }
          ],
          "heatmap": [
           {
            "colorbar": {
             "outlinewidth": 0,
             "ticks": ""
            },
            "colorscale": [
             [
              0,
              "#0d0887"
             ],
             [
              0.1111111111111111,
              "#46039f"
             ],
             [
              0.2222222222222222,
              "#7201a8"
             ],
             [
              0.3333333333333333,
              "#9c179e"
             ],
             [
              0.4444444444444444,
              "#bd3786"
             ],
             [
              0.5555555555555556,
              "#d8576b"
             ],
             [
              0.6666666666666666,
              "#ed7953"
             ],
             [
              0.7777777777777778,
              "#fb9f3a"
             ],
             [
              0.8888888888888888,
              "#fdca26"
             ],
             [
              1,
              "#f0f921"
             ]
            ],
            "type": "heatmap"
           }
          ],
          "heatmapgl": [
           {
            "colorbar": {
             "outlinewidth": 0,
             "ticks": ""
            },
            "colorscale": [
             [
              0,
              "#0d0887"
             ],
             [
              0.1111111111111111,
              "#46039f"
             ],
             [
              0.2222222222222222,
              "#7201a8"
             ],
             [
              0.3333333333333333,
              "#9c179e"
             ],
             [
              0.4444444444444444,
              "#bd3786"
             ],
             [
              0.5555555555555556,
              "#d8576b"
             ],
             [
              0.6666666666666666,
              "#ed7953"
             ],
             [
              0.7777777777777778,
              "#fb9f3a"
             ],
             [
              0.8888888888888888,
              "#fdca26"
             ],
             [
              1,
              "#f0f921"
             ]
            ],
            "type": "heatmapgl"
           }
          ],
          "histogram": [
           {
            "marker": {
             "pattern": {
              "fillmode": "overlay",
              "size": 10,
              "solidity": 0.2
             }
            },
            "type": "histogram"
           }
          ],
          "histogram2d": [
           {
            "colorbar": {
             "outlinewidth": 0,
             "ticks": ""
            },
            "colorscale": [
             [
              0,
              "#0d0887"
             ],
             [
              0.1111111111111111,
              "#46039f"
             ],
             [
              0.2222222222222222,
              "#7201a8"
             ],
             [
              0.3333333333333333,
              "#9c179e"
             ],
             [
              0.4444444444444444,
              "#bd3786"
             ],
             [
              0.5555555555555556,
              "#d8576b"
             ],
             [
              0.6666666666666666,
              "#ed7953"
             ],
             [
              0.7777777777777778,
              "#fb9f3a"
             ],
             [
              0.8888888888888888,
              "#fdca26"
             ],
             [
              1,
              "#f0f921"
             ]
            ],
            "type": "histogram2d"
           }
          ],
          "histogram2dcontour": [
           {
            "colorbar": {
             "outlinewidth": 0,
             "ticks": ""
            },
            "colorscale": [
             [
              0,
              "#0d0887"
             ],
             [
              0.1111111111111111,
              "#46039f"
             ],
             [
              0.2222222222222222,
              "#7201a8"
             ],
             [
              0.3333333333333333,
              "#9c179e"
             ],
             [
              0.4444444444444444,
              "#bd3786"
             ],
             [
              0.5555555555555556,
              "#d8576b"
             ],
             [
              0.6666666666666666,
              "#ed7953"
             ],
             [
              0.7777777777777778,
              "#fb9f3a"
             ],
             [
              0.8888888888888888,
              "#fdca26"
             ],
             [
              1,
              "#f0f921"
             ]
            ],
            "type": "histogram2dcontour"
           }
          ],
          "mesh3d": [
           {
            "colorbar": {
             "outlinewidth": 0,
             "ticks": ""
            },
            "type": "mesh3d"
           }
          ],
          "parcoords": [
           {
            "line": {
             "colorbar": {
              "outlinewidth": 0,
              "ticks": ""
             }
            },
            "type": "parcoords"
           }
          ],
          "pie": [
           {
            "automargin": true,
            "type": "pie"
           }
          ],
          "scatter": [
           {
            "fillpattern": {
             "fillmode": "overlay",
             "size": 10,
             "solidity": 0.2
            },
            "type": "scatter"
           }
          ],
          "scatter3d": [
           {
            "line": {
             "colorbar": {
              "outlinewidth": 0,
              "ticks": ""
             }
            },
            "marker": {
             "colorbar": {
              "outlinewidth": 0,
              "ticks": ""
             }
            },
            "type": "scatter3d"
           }
          ],
          "scattercarpet": [
           {
            "marker": {
             "colorbar": {
              "outlinewidth": 0,
              "ticks": ""
             }
            },
            "type": "scattercarpet"
           }
          ],
          "scattergeo": [
           {
            "marker": {
             "colorbar": {
              "outlinewidth": 0,
              "ticks": ""
             }
            },
            "type": "scattergeo"
           }
          ],
          "scattergl": [
           {
            "marker": {
             "colorbar": {
              "outlinewidth": 0,
              "ticks": ""
             }
            },
            "type": "scattergl"
           }
          ],
          "scattermapbox": [
           {
            "marker": {
             "colorbar": {
              "outlinewidth": 0,
              "ticks": ""
             }
            },
            "type": "scattermapbox"
           }
          ],
          "scatterpolar": [
           {
            "marker": {
             "colorbar": {
              "outlinewidth": 0,
              "ticks": ""
             }
            },
            "type": "scatterpolar"
           }
          ],
          "scatterpolargl": [
           {
            "marker": {
             "colorbar": {
              "outlinewidth": 0,
              "ticks": ""
             }
            },
            "type": "scatterpolargl"
           }
          ],
          "scatterternary": [
           {
            "marker": {
             "colorbar": {
              "outlinewidth": 0,
              "ticks": ""
             }
            },
            "type": "scatterternary"
           }
          ],
          "surface": [
           {
            "colorbar": {
             "outlinewidth": 0,
             "ticks": ""
            },
            "colorscale": [
             [
              0,
              "#0d0887"
             ],
             [
              0.1111111111111111,
              "#46039f"
             ],
             [
              0.2222222222222222,
              "#7201a8"
             ],
             [
              0.3333333333333333,
              "#9c179e"
             ],
             [
              0.4444444444444444,
              "#bd3786"
             ],
             [
              0.5555555555555556,
              "#d8576b"
             ],
             [
              0.6666666666666666,
              "#ed7953"
             ],
             [
              0.7777777777777778,
              "#fb9f3a"
             ],
             [
              0.8888888888888888,
              "#fdca26"
             ],
             [
              1,
              "#f0f921"
             ]
            ],
            "type": "surface"
           }
          ],
          "table": [
           {
            "cells": {
             "fill": {
              "color": "#EBF0F8"
             },
             "line": {
              "color": "white"
             }
            },
            "header": {
             "fill": {
              "color": "#C8D4E3"
             },
             "line": {
              "color": "white"
             }
            },
            "type": "table"
           }
          ]
         },
         "layout": {
          "annotationdefaults": {
           "arrowcolor": "#2a3f5f",
           "arrowhead": 0,
           "arrowwidth": 1
          },
          "autotypenumbers": "strict",
          "coloraxis": {
           "colorbar": {
            "outlinewidth": 0,
            "ticks": ""
           }
          },
          "colorscale": {
           "diverging": [
            [
             0,
             "#8e0152"
            ],
            [
             0.1,
             "#c51b7d"
            ],
            [
             0.2,
             "#de77ae"
            ],
            [
             0.3,
             "#f1b6da"
            ],
            [
             0.4,
             "#fde0ef"
            ],
            [
             0.5,
             "#f7f7f7"
            ],
            [
             0.6,
             "#e6f5d0"
            ],
            [
             0.7,
             "#b8e186"
            ],
            [
             0.8,
             "#7fbc41"
            ],
            [
             0.9,
             "#4d9221"
            ],
            [
             1,
             "#276419"
            ]
           ],
           "sequential": [
            [
             0,
             "#0d0887"
            ],
            [
             0.1111111111111111,
             "#46039f"
            ],
            [
             0.2222222222222222,
             "#7201a8"
            ],
            [
             0.3333333333333333,
             "#9c179e"
            ],
            [
             0.4444444444444444,
             "#bd3786"
            ],
            [
             0.5555555555555556,
             "#d8576b"
            ],
            [
             0.6666666666666666,
             "#ed7953"
            ],
            [
             0.7777777777777778,
             "#fb9f3a"
            ],
            [
             0.8888888888888888,
             "#fdca26"
            ],
            [
             1,
             "#f0f921"
            ]
           ],
           "sequentialminus": [
            [
             0,
             "#0d0887"
            ],
            [
             0.1111111111111111,
             "#46039f"
            ],
            [
             0.2222222222222222,
             "#7201a8"
            ],
            [
             0.3333333333333333,
             "#9c179e"
            ],
            [
             0.4444444444444444,
             "#bd3786"
            ],
            [
             0.5555555555555556,
             "#d8576b"
            ],
            [
             0.6666666666666666,
             "#ed7953"
            ],
            [
             0.7777777777777778,
             "#fb9f3a"
            ],
            [
             0.8888888888888888,
             "#fdca26"
            ],
            [
             1,
             "#f0f921"
            ]
           ]
          },
          "colorway": [
           "#636efa",
           "#EF553B",
           "#00cc96",
           "#ab63fa",
           "#FFA15A",
           "#19d3f3",
           "#FF6692",
           "#B6E880",
           "#FF97FF",
           "#FECB52"
          ],
          "font": {
           "color": "#2a3f5f"
          },
          "geo": {
           "bgcolor": "white",
           "lakecolor": "white",
           "landcolor": "#E5ECF6",
           "showlakes": true,
           "showland": true,
           "subunitcolor": "white"
          },
          "hoverlabel": {
           "align": "left"
          },
          "hovermode": "closest",
          "mapbox": {
           "style": "light"
          },
          "paper_bgcolor": "white",
          "plot_bgcolor": "#E5ECF6",
          "polar": {
           "angularaxis": {
            "gridcolor": "white",
            "linecolor": "white",
            "ticks": ""
           },
           "bgcolor": "#E5ECF6",
           "radialaxis": {
            "gridcolor": "white",
            "linecolor": "white",
            "ticks": ""
           }
          },
          "scene": {
           "xaxis": {
            "backgroundcolor": "#E5ECF6",
            "gridcolor": "white",
            "gridwidth": 2,
            "linecolor": "white",
            "showbackground": true,
            "ticks": "",
            "zerolinecolor": "white"
           },
           "yaxis": {
            "backgroundcolor": "#E5ECF6",
            "gridcolor": "white",
            "gridwidth": 2,
            "linecolor": "white",
            "showbackground": true,
            "ticks": "",
            "zerolinecolor": "white"
           },
           "zaxis": {
            "backgroundcolor": "#E5ECF6",
            "gridcolor": "white",
            "gridwidth": 2,
            "linecolor": "white",
            "showbackground": true,
            "ticks": "",
            "zerolinecolor": "white"
           }
          },
          "shapedefaults": {
           "line": {
            "color": "#2a3f5f"
           }
          },
          "ternary": {
           "aaxis": {
            "gridcolor": "white",
            "linecolor": "white",
            "ticks": ""
           },
           "baxis": {
            "gridcolor": "white",
            "linecolor": "white",
            "ticks": ""
           },
           "bgcolor": "#E5ECF6",
           "caxis": {
            "gridcolor": "white",
            "linecolor": "white",
            "ticks": ""
           }
          },
          "title": {
           "x": 0.05
          },
          "xaxis": {
           "automargin": true,
           "gridcolor": "white",
           "linecolor": "white",
           "ticks": "",
           "title": {
            "standoff": 15
           },
           "zerolinecolor": "white",
           "zerolinewidth": 2
          },
          "yaxis": {
           "automargin": true,
           "gridcolor": "white",
           "linecolor": "white",
           "ticks": "",
           "title": {
            "standoff": 15
           },
           "zerolinecolor": "white",
           "zerolinewidth": 2
          }
         }
        }
       }
      }
     },
     "metadata": {},
     "output_type": "display_data"
    },
    {
     "data": {
      "application/vnd.plotly.v1+json": {
       "config": {
        "plotlyServerURL": "https://plot.ly"
       },
       "data": [
        {
         "dimensions": [
          {
           "axis": {
            "matches": true
           },
           "label": "System",
           "values": [
            "aomar",
            "aomar",
            "aomar",
            "aomar",
            "aomar"
           ]
          },
          {
           "axis": {
            "matches": true
           },
           "label": "value",
           "values": [
            0.3156923076923077,
            0.30516717325227966,
            0.30895795246800734,
            0.3337531486146096,
            0.3172666259914582
           ]
          }
         ],
         "hovertemplate": "System=aomar<br>%{xaxis.title.text}=%{x}<br>%{yaxis.title.text}=%{y}<extra></extra>",
         "legendgroup": "aomar",
         "marker": {
          "color": "#636efa",
          "symbol": "circle"
         },
         "name": "aomar",
         "showlegend": true,
         "type": "splom"
        },
        {
         "dimensions": [
          {
           "axis": {
            "matches": true
           },
           "label": "System",
           "values": [
            "CEN-Amrita",
            "CEN-Amrita",
            "CEN-Amrita",
            "CEN-Amrita",
            "CEN-Amrita"
           ]
          },
          {
           "axis": {
            "matches": true
           },
           "label": "value",
           "values": [
            0.3102857142857143,
            0.30091012514220705,
            0.2980169971671388,
            0.3238938053097345,
            0.3176605504587156
           ]
          }
         ],
         "hovertemplate": "System=CEN-Amrita<br>%{xaxis.title.text}=%{x}<br>%{yaxis.title.text}=%{y}<extra></extra>",
         "legendgroup": "CEN-Amrita",
         "marker": {
          "color": "#EF553B",
          "symbol": "circle"
         },
         "name": "CEN-Amrita",
         "showlegend": true,
         "type": "splom"
        },
        {
         "dimensions": [
          {
           "axis": {
            "matches": true
           },
           "label": "System",
           "values": [
            "CIC-IPN",
            "CIC-IPN",
            "CIC-IPN",
            "CIC-IPN",
            "CIC-IPN"
           ]
          },
          {
           "axis": {
            "matches": true
           },
           "label": "value",
           "values": [
            0.653276955602537,
            0.6607929515418502,
            0.6587473002159827,
            0.6731182795698925,
            0.6764091858037579
           ]
          }
         ],
         "hovertemplate": "System=CIC-IPN<br>%{xaxis.title.text}=%{x}<br>%{yaxis.title.text}=%{y}<extra></extra>",
         "legendgroup": "CIC-IPN",
         "marker": {
          "color": "#00cc96",
          "symbol": "circle"
         },
         "name": "CIC-IPN",
         "showlegend": true,
         "type": "splom"
        },
        {
         "dimensions": [
          {
           "axis": {
            "matches": true
           },
           "label": "System",
           "values": [
            "CIMAT-GTO",
            "CIMAT-GTO",
            "CIMAT-GTO",
            "CIMAT-GTO",
            "CIMAT-GTO"
           ]
          },
          {
           "axis": {
            "matches": true
           },
           "label": "value",
           "values": [
            0.6842105263157895,
            0.6905187835420393,
            0.6872659176029963,
            0.7132616487455197,
            0.697594501718213
           ]
          }
         ],
         "hovertemplate": "System=CIMAT-GTO<br>%{xaxis.title.text}=%{x}<br>%{yaxis.title.text}=%{y}<extra></extra>",
         "legendgroup": "CIMAT-GTO",
         "marker": {
          "color": "#ab63fa",
          "symbol": "circle"
         },
         "name": "CIMAT-GTO",
         "showlegend": true,
         "type": "splom"
        },
        {
         "dimensions": [
          {
           "axis": {
            "matches": true
           },
           "label": "System",
           "values": [
            "CIMAT-MTY-GTO",
            "CIMAT-MTY-GTO",
            "CIMAT-MTY-GTO",
            "CIMAT-MTY-GTO",
            "CIMAT-MTY-GTO"
           ]
          },
          {
           "axis": {
            "matches": true
           },
           "label": "value",
           "values": [
            0.6455882352941177,
            0.6458333333333334,
            0.6321321321321322,
            0.6735905044510386,
            0.6398305084745762
           ]
          }
         ],
         "hovertemplate": "System=CIMAT-MTY-GTO<br>%{xaxis.title.text}=%{x}<br>%{yaxis.title.text}=%{y}<extra></extra>",
         "legendgroup": "CIMAT-MTY-GTO",
         "marker": {
          "color": "#FFA15A",
          "symbol": "circle"
         },
         "name": "CIMAT-MTY-GTO",
         "showlegend": true,
         "type": "splom"
        },
        {
         "dimensions": [
          {
           "axis": {
            "matches": true
           },
           "label": "System",
           "values": [
            "DCCD-INFOTEC",
            "DCCD-INFOTEC",
            "DCCD-INFOTEC",
            "DCCD-INFOTEC",
            "DCCD-INFOTEC"
           ]
          },
          {
           "axis": {
            "matches": true
           },
           "label": "value",
           "values": [
            0.6824561403508772,
            0.6741767764298093,
            0.6954954954954955,
            0.697391304347826,
            0.6833602584814217
           ]
          }
         ],
         "hovertemplate": "System=DCCD-INFOTEC<br>%{xaxis.title.text}=%{x}<br>%{yaxis.title.text}=%{y}<extra></extra>",
         "legendgroup": "DCCD-INFOTEC",
         "marker": {
          "color": "#19d3f3",
          "symbol": "circle"
         },
         "name": "DCCD-INFOTEC",
         "showlegend": true,
         "type": "splom"
        },
        {
         "dimensions": [
          {
           "axis": {
            "matches": true
           },
           "label": "System",
           "values": [
            "NLP-CIC",
            "NLP-CIC",
            "NLP-CIC",
            "NLP-CIC",
            "NLP-CIC"
           ]
          },
          {
           "axis": {
            "matches": true
           },
           "label": "value",
           "values": [
            0.7049742710120068,
            0.7085427135678392,
            0.714795008912656,
            0.7317939609236235,
            0.7123966942148761
           ]
          }
         ],
         "hovertemplate": "System=NLP-CIC<br>%{xaxis.title.text}=%{x}<br>%{yaxis.title.text}=%{y}<extra></extra>",
         "legendgroup": "NLP-CIC",
         "marker": {
          "color": "#FF6692",
          "symbol": "circle"
         },
         "name": "NLP-CIC",
         "showlegend": true,
         "type": "splom"
        },
        {
         "dimensions": [
          {
           "axis": {
            "matches": true
           },
           "label": "System",
           "values": [
            "Timen",
            "Timen",
            "Timen",
            "Timen",
            "Timen"
           ]
          },
          {
           "axis": {
            "matches": true
           },
           "label": "value",
           "values": [
            0.5892255892255892,
            0.6,
            0.6131907308377896,
            0.6433566433566433,
            0.5960264900662252
           ]
          }
         ],
         "hovertemplate": "System=Timen<br>%{xaxis.title.text}=%{x}<br>%{yaxis.title.text}=%{y}<extra></extra>",
         "legendgroup": "Timen",
         "marker": {
          "color": "#B6E880",
          "symbol": "circle"
         },
         "name": "Timen",
         "showlegend": true,
         "type": "splom"
        },
        {
         "dimensions": [
          {
           "axis": {
            "matches": true
           },
           "label": "System",
           "values": [
            "UMUTeam",
            "UMUTeam",
            "UMUTeam",
            "UMUTeam",
            "UMUTeam"
           ]
          },
          {
           "axis": {
            "matches": true
           },
           "label": "value",
           "values": [
            0.6644067796610169,
            0.6758147512864494,
            0.6642201834862386,
            0.6875,
            0.6768
           ]
          }
         ],
         "hovertemplate": "System=UMUTeam<br>%{xaxis.title.text}=%{x}<br>%{yaxis.title.text}=%{y}<extra></extra>",
         "legendgroup": "UMUTeam",
         "marker": {
          "color": "#FF97FF",
          "symbol": "circle"
         },
         "name": "UMUTeam",
         "showlegend": true,
         "type": "splom"
        },
        {
         "dimensions": [
          {
           "axis": {
            "matches": true
           },
           "label": "System",
           "values": [
            "xjywing",
            "xjywing",
            "xjywing",
            "xjywing",
            "xjywing"
           ]
          },
          {
           "axis": {
            "matches": true
           },
           "label": "value",
           "values": [
            0.3356867779204108,
            0.31977113795295614,
            0.3238095238095238,
            0.3548387096774194,
            0.3305785123966942
           ]
          }
         ],
         "hovertemplate": "System=xjywing<br>%{xaxis.title.text}=%{x}<br>%{yaxis.title.text}=%{y}<extra></extra>",
         "legendgroup": "xjywing",
         "marker": {
          "color": "#FECB52",
          "symbol": "circle"
         },
         "name": "xjywing",
         "showlegend": true,
         "type": "splom"
        }
       ],
       "layout": {
        "dragmode": "select",
        "legend": {
         "title": {
          "text": "System"
         },
         "tracegroupgap": 0
        },
        "margin": {
         "t": 60
        },
        "template": {
         "data": {
          "bar": [
           {
            "error_x": {
             "color": "#2a3f5f"
            },
            "error_y": {
             "color": "#2a3f5f"
            },
            "marker": {
             "line": {
              "color": "#E5ECF6",
              "width": 0.5
             },
             "pattern": {
              "fillmode": "overlay",
              "size": 10,
              "solidity": 0.2
             }
            },
            "type": "bar"
           }
          ],
          "barpolar": [
           {
            "marker": {
             "line": {
              "color": "#E5ECF6",
              "width": 0.5
             },
             "pattern": {
              "fillmode": "overlay",
              "size": 10,
              "solidity": 0.2
             }
            },
            "type": "barpolar"
           }
          ],
          "carpet": [
           {
            "aaxis": {
             "endlinecolor": "#2a3f5f",
             "gridcolor": "white",
             "linecolor": "white",
             "minorgridcolor": "white",
             "startlinecolor": "#2a3f5f"
            },
            "baxis": {
             "endlinecolor": "#2a3f5f",
             "gridcolor": "white",
             "linecolor": "white",
             "minorgridcolor": "white",
             "startlinecolor": "#2a3f5f"
            },
            "type": "carpet"
           }
          ],
          "choropleth": [
           {
            "colorbar": {
             "outlinewidth": 0,
             "ticks": ""
            },
            "type": "choropleth"
           }
          ],
          "contour": [
           {
            "colorbar": {
             "outlinewidth": 0,
             "ticks": ""
            },
            "colorscale": [
             [
              0,
              "#0d0887"
             ],
             [
              0.1111111111111111,
              "#46039f"
             ],
             [
              0.2222222222222222,
              "#7201a8"
             ],
             [
              0.3333333333333333,
              "#9c179e"
             ],
             [
              0.4444444444444444,
              "#bd3786"
             ],
             [
              0.5555555555555556,
              "#d8576b"
             ],
             [
              0.6666666666666666,
              "#ed7953"
             ],
             [
              0.7777777777777778,
              "#fb9f3a"
             ],
             [
              0.8888888888888888,
              "#fdca26"
             ],
             [
              1,
              "#f0f921"
             ]
            ],
            "type": "contour"
           }
          ],
          "contourcarpet": [
           {
            "colorbar": {
             "outlinewidth": 0,
             "ticks": ""
            },
            "type": "contourcarpet"
           }
          ],
          "heatmap": [
           {
            "colorbar": {
             "outlinewidth": 0,
             "ticks": ""
            },
            "colorscale": [
             [
              0,
              "#0d0887"
             ],
             [
              0.1111111111111111,
              "#46039f"
             ],
             [
              0.2222222222222222,
              "#7201a8"
             ],
             [
              0.3333333333333333,
              "#9c179e"
             ],
             [
              0.4444444444444444,
              "#bd3786"
             ],
             [
              0.5555555555555556,
              "#d8576b"
             ],
             [
              0.6666666666666666,
              "#ed7953"
             ],
             [
              0.7777777777777778,
              "#fb9f3a"
             ],
             [
              0.8888888888888888,
              "#fdca26"
             ],
             [
              1,
              "#f0f921"
             ]
            ],
            "type": "heatmap"
           }
          ],
          "heatmapgl": [
           {
            "colorbar": {
             "outlinewidth": 0,
             "ticks": ""
            },
            "colorscale": [
             [
              0,
              "#0d0887"
             ],
             [
              0.1111111111111111,
              "#46039f"
             ],
             [
              0.2222222222222222,
              "#7201a8"
             ],
             [
              0.3333333333333333,
              "#9c179e"
             ],
             [
              0.4444444444444444,
              "#bd3786"
             ],
             [
              0.5555555555555556,
              "#d8576b"
             ],
             [
              0.6666666666666666,
              "#ed7953"
             ],
             [
              0.7777777777777778,
              "#fb9f3a"
             ],
             [
              0.8888888888888888,
              "#fdca26"
             ],
             [
              1,
              "#f0f921"
             ]
            ],
            "type": "heatmapgl"
           }
          ],
          "histogram": [
           {
            "marker": {
             "pattern": {
              "fillmode": "overlay",
              "size": 10,
              "solidity": 0.2
             }
            },
            "type": "histogram"
           }
          ],
          "histogram2d": [
           {
            "colorbar": {
             "outlinewidth": 0,
             "ticks": ""
            },
            "colorscale": [
             [
              0,
              "#0d0887"
             ],
             [
              0.1111111111111111,
              "#46039f"
             ],
             [
              0.2222222222222222,
              "#7201a8"
             ],
             [
              0.3333333333333333,
              "#9c179e"
             ],
             [
              0.4444444444444444,
              "#bd3786"
             ],
             [
              0.5555555555555556,
              "#d8576b"
             ],
             [
              0.6666666666666666,
              "#ed7953"
             ],
             [
              0.7777777777777778,
              "#fb9f3a"
             ],
             [
              0.8888888888888888,
              "#fdca26"
             ],
             [
              1,
              "#f0f921"
             ]
            ],
            "type": "histogram2d"
           }
          ],
          "histogram2dcontour": [
           {
            "colorbar": {
             "outlinewidth": 0,
             "ticks": ""
            },
            "colorscale": [
             [
              0,
              "#0d0887"
             ],
             [
              0.1111111111111111,
              "#46039f"
             ],
             [
              0.2222222222222222,
              "#7201a8"
             ],
             [
              0.3333333333333333,
              "#9c179e"
             ],
             [
              0.4444444444444444,
              "#bd3786"
             ],
             [
              0.5555555555555556,
              "#d8576b"
             ],
             [
              0.6666666666666666,
              "#ed7953"
             ],
             [
              0.7777777777777778,
              "#fb9f3a"
             ],
             [
              0.8888888888888888,
              "#fdca26"
             ],
             [
              1,
              "#f0f921"
             ]
            ],
            "type": "histogram2dcontour"
           }
          ],
          "mesh3d": [
           {
            "colorbar": {
             "outlinewidth": 0,
             "ticks": ""
            },
            "type": "mesh3d"
           }
          ],
          "parcoords": [
           {
            "line": {
             "colorbar": {
              "outlinewidth": 0,
              "ticks": ""
             }
            },
            "type": "parcoords"
           }
          ],
          "pie": [
           {
            "automargin": true,
            "type": "pie"
           }
          ],
          "scatter": [
           {
            "fillpattern": {
             "fillmode": "overlay",
             "size": 10,
             "solidity": 0.2
            },
            "type": "scatter"
           }
          ],
          "scatter3d": [
           {
            "line": {
             "colorbar": {
              "outlinewidth": 0,
              "ticks": ""
             }
            },
            "marker": {
             "colorbar": {
              "outlinewidth": 0,
              "ticks": ""
             }
            },
            "type": "scatter3d"
           }
          ],
          "scattercarpet": [
           {
            "marker": {
             "colorbar": {
              "outlinewidth": 0,
              "ticks": ""
             }
            },
            "type": "scattercarpet"
           }
          ],
          "scattergeo": [
           {
            "marker": {
             "colorbar": {
              "outlinewidth": 0,
              "ticks": ""
             }
            },
            "type": "scattergeo"
           }
          ],
          "scattergl": [
           {
            "marker": {
             "colorbar": {
              "outlinewidth": 0,
              "ticks": ""
             }
            },
            "type": "scattergl"
           }
          ],
          "scattermapbox": [
           {
            "marker": {
             "colorbar": {
              "outlinewidth": 0,
              "ticks": ""
             }
            },
            "type": "scattermapbox"
           }
          ],
          "scatterpolar": [
           {
            "marker": {
             "colorbar": {
              "outlinewidth": 0,
              "ticks": ""
             }
            },
            "type": "scatterpolar"
           }
          ],
          "scatterpolargl": [
           {
            "marker": {
             "colorbar": {
              "outlinewidth": 0,
              "ticks": ""
             }
            },
            "type": "scatterpolargl"
           }
          ],
          "scatterternary": [
           {
            "marker": {
             "colorbar": {
              "outlinewidth": 0,
              "ticks": ""
             }
            },
            "type": "scatterternary"
           }
          ],
          "surface": [
           {
            "colorbar": {
             "outlinewidth": 0,
             "ticks": ""
            },
            "colorscale": [
             [
              0,
              "#0d0887"
             ],
             [
              0.1111111111111111,
              "#46039f"
             ],
             [
              0.2222222222222222,
              "#7201a8"
             ],
             [
              0.3333333333333333,
              "#9c179e"
             ],
             [
              0.4444444444444444,
              "#bd3786"
             ],
             [
              0.5555555555555556,
              "#d8576b"
             ],
             [
              0.6666666666666666,
              "#ed7953"
             ],
             [
              0.7777777777777778,
              "#fb9f3a"
             ],
             [
              0.8888888888888888,
              "#fdca26"
             ],
             [
              1,
              "#f0f921"
             ]
            ],
            "type": "surface"
           }
          ],
          "table": [
           {
            "cells": {
             "fill": {
              "color": "#EBF0F8"
             },
             "line": {
              "color": "white"
             }
            },
            "header": {
             "fill": {
              "color": "#C8D4E3"
             },
             "line": {
              "color": "white"
             }
            },
            "type": "table"
           }
          ]
         },
         "layout": {
          "annotationdefaults": {
           "arrowcolor": "#2a3f5f",
           "arrowhead": 0,
           "arrowwidth": 1
          },
          "autotypenumbers": "strict",
          "coloraxis": {
           "colorbar": {
            "outlinewidth": 0,
            "ticks": ""
           }
          },
          "colorscale": {
           "diverging": [
            [
             0,
             "#8e0152"
            ],
            [
             0.1,
             "#c51b7d"
            ],
            [
             0.2,
             "#de77ae"
            ],
            [
             0.3,
             "#f1b6da"
            ],
            [
             0.4,
             "#fde0ef"
            ],
            [
             0.5,
             "#f7f7f7"
            ],
            [
             0.6,
             "#e6f5d0"
            ],
            [
             0.7,
             "#b8e186"
            ],
            [
             0.8,
             "#7fbc41"
            ],
            [
             0.9,
             "#4d9221"
            ],
            [
             1,
             "#276419"
            ]
           ],
           "sequential": [
            [
             0,
             "#0d0887"
            ],
            [
             0.1111111111111111,
             "#46039f"
            ],
            [
             0.2222222222222222,
             "#7201a8"
            ],
            [
             0.3333333333333333,
             "#9c179e"
            ],
            [
             0.4444444444444444,
             "#bd3786"
            ],
            [
             0.5555555555555556,
             "#d8576b"
            ],
            [
             0.6666666666666666,
             "#ed7953"
            ],
            [
             0.7777777777777778,
             "#fb9f3a"
            ],
            [
             0.8888888888888888,
             "#fdca26"
            ],
            [
             1,
             "#f0f921"
            ]
           ],
           "sequentialminus": [
            [
             0,
             "#0d0887"
            ],
            [
             0.1111111111111111,
             "#46039f"
            ],
            [
             0.2222222222222222,
             "#7201a8"
            ],
            [
             0.3333333333333333,
             "#9c179e"
            ],
            [
             0.4444444444444444,
             "#bd3786"
            ],
            [
             0.5555555555555556,
             "#d8576b"
            ],
            [
             0.6666666666666666,
             "#ed7953"
            ],
            [
             0.7777777777777778,
             "#fb9f3a"
            ],
            [
             0.8888888888888888,
             "#fdca26"
            ],
            [
             1,
             "#f0f921"
            ]
           ]
          },
          "colorway": [
           "#636efa",
           "#EF553B",
           "#00cc96",
           "#ab63fa",
           "#FFA15A",
           "#19d3f3",
           "#FF6692",
           "#B6E880",
           "#FF97FF",
           "#FECB52"
          ],
          "font": {
           "color": "#2a3f5f"
          },
          "geo": {
           "bgcolor": "white",
           "lakecolor": "white",
           "landcolor": "#E5ECF6",
           "showlakes": true,
           "showland": true,
           "subunitcolor": "white"
          },
          "hoverlabel": {
           "align": "left"
          },
          "hovermode": "closest",
          "mapbox": {
           "style": "light"
          },
          "paper_bgcolor": "white",
          "plot_bgcolor": "#E5ECF6",
          "polar": {
           "angularaxis": {
            "gridcolor": "white",
            "linecolor": "white",
            "ticks": ""
           },
           "bgcolor": "#E5ECF6",
           "radialaxis": {
            "gridcolor": "white",
            "linecolor": "white",
            "ticks": ""
           }
          },
          "scene": {
           "xaxis": {
            "backgroundcolor": "#E5ECF6",
            "gridcolor": "white",
            "gridwidth": 2,
            "linecolor": "white",
            "showbackground": true,
            "ticks": "",
            "zerolinecolor": "white"
           },
           "yaxis": {
            "backgroundcolor": "#E5ECF6",
            "gridcolor": "white",
            "gridwidth": 2,
            "linecolor": "white",
            "showbackground": true,
            "ticks": "",
            "zerolinecolor": "white"
           },
           "zaxis": {
            "backgroundcolor": "#E5ECF6",
            "gridcolor": "white",
            "gridwidth": 2,
            "linecolor": "white",
            "showbackground": true,
            "ticks": "",
            "zerolinecolor": "white"
           }
          },
          "shapedefaults": {
           "line": {
            "color": "#2a3f5f"
           }
          },
          "ternary": {
           "aaxis": {
            "gridcolor": "white",
            "linecolor": "white",
            "ticks": ""
           },
           "baxis": {
            "gridcolor": "white",
            "linecolor": "white",
            "ticks": ""
           },
           "bgcolor": "#E5ECF6",
           "caxis": {
            "gridcolor": "white",
            "linecolor": "white",
            "ticks": ""
           }
          },
          "title": {
           "x": 0.05
          },
          "xaxis": {
           "automargin": true,
           "gridcolor": "white",
           "linecolor": "white",
           "ticks": "",
           "title": {
            "standoff": 15
           },
           "zerolinecolor": "white",
           "zerolinewidth": 2
          },
          "yaxis": {
           "automargin": true,
           "gridcolor": "white",
           "linecolor": "white",
           "ticks": "",
           "title": {
            "standoff": 15
           },
           "zerolinecolor": "white",
           "zerolinewidth": 2
          }
         }
        }
       }
      }
     },
     "metadata": {},
     "output_type": "display_data"
    }
   ],
   "source": [
    "import plotly.express as px\n",
    "#df = px.data.iris()\n",
    "for df in lista_de_dataframes:\n",
    "    df1 = pd.DataFrame({ 'System': np.tile(df.columns, len(df)), 'value': df.values.ravel()})\n",
    "    fig = px.scatter_matrix(df1,\n",
    "                             color=\"System\")\n",
    "    fig.show()\n"
   ]
  },
  {
   "cell_type": "code",
   "execution_count": null,
   "metadata": {},
   "outputs": [],
   "source": [
    "#%pip install nbformat --upgrade\n",
    "#%pip install -U plotly"
   ]
  },
  {
   "cell_type": "code",
   "execution_count": 9,
   "metadata": {
    "id": "0FXWINpdkMtt"
   },
   "outputs": [],
   "source": [
    "diff = difference_multiple(perf) "
   ]
  },
  {
   "cell_type": "code",
   "execution_count": null,
   "metadata": {},
   "outputs": [],
   "source": [
    "for metric, diffs in diff['winner'].items():\n",
    "    print(f\"For {metric} the best performing system is {diffs['best']}\")"
   ]
  },
  {
   "cell_type": "code",
   "execution_count": null,
   "metadata": {},
   "outputs": [],
   "source": [
    "for metric, diffs in diff['winner'].items():\n",
    "    print(f\"\\nFor the metric {metric} the best is {diffs['best']}\")\n",
    "    for key, value in diffs['CI'].items():\n",
    "        print(f\"CI for {key} {value}\")\n"
   ]
  },
  {
   "cell_type": "code",
   "execution_count": null,
   "metadata": {},
   "outputs": [],
   "source": [
    "face_grid_diff = plot_difference_multiple(diff)"
   ]
  },
  {
   "cell_type": "code",
   "execution_count": null,
   "metadata": {},
   "outputs": [],
   "source": [
    "for metric, diffs in diff['winner'].items():\n",
    "    print(f\"\\nFor the metric {metric} the best is {diffs['best']}\")\n",
    "    for key, value in diffs['p_value'].items():\n",
    "        print(f\"p-value for the difference with {key} {value}\")"
   ]
  },
  {
   "cell_type": "code",
   "execution_count": null,
   "metadata": {},
   "outputs": [],
   "source": [
    "correction = 'bonferroni'\n",
    "for metric, diffs in diff['winner'].items():\n",
    "    print(f\"\\nFor the metric {metric} the best is {diffs['best']}\")\n",
    "    result = multipletests(list(diffs['p_value'].values()), method=correction)\n",
    "    p_valuesC = dict(zip(diffs['p_value'].keys(),result[1])) \n",
    "    for key, value in p_valuesC.items():\n",
    "        print(f'{key}, p-value corrected by {correction} = {value}')"
   ]
  },
  {
   "cell_type": "code",
   "execution_count": 15,
   "metadata": {
    "id": "6ehkDIH_kMtu"
   },
   "outputs": [],
   "source": [
    "all_diff = all_differences_multiple(perf)\n"
   ]
  },
  {
   "cell_type": "code",
   "execution_count": null,
   "metadata": {},
   "outputs": [],
   "source": [
    "all_diff['compg']"
   ]
  },
  {
   "cell_type": "code",
   "execution_count": null,
   "metadata": {
    "id": "x2vlIMNc3h5W"
   },
   "outputs": [],
   "source": [
    "for metric, diffs in all_diff['all'].items():\n",
    "    print(f\"\\nFor the metric {metric} \")\n",
    "    for key, value in diffs['p_value'].items():\n",
    "        print(f\"p-value for the difference {key} {value}\")"
   ]
  },
  {
   "cell_type": "code",
   "execution_count": null,
   "metadata": {},
   "outputs": [],
   "source": [
    "correction = 'bonferroni'\n",
    "for metric, diffs in all_diff['all'].items():\n",
    "    print(f\"\\nFor the metric {metric}\")\n",
    "    result = multipletests(list(diffs['p_value'].values()), method=correction)\n",
    "    p_valuesC = dict(zip(diffs['p_value'].keys(),result[1])) \n",
    "    for key, value in p_valuesC.items():\n",
    "        print(f'{key}, p-value corrected by {correction} = {value}')"
   ]
  }
 ],
 "metadata": {
  "colab": {
   "provenance": []
  },
  "kernelspec": {
   "display_name": "Python 3",
   "language": "python",
   "name": "python3"
  },
  "language_info": {
   "codemirror_mode": {
    "name": "ipython",
    "version": 3
   },
   "file_extension": ".py",
   "mimetype": "text/x-python",
   "name": "python",
   "nbconvert_exporter": "python",
   "pygments_lexer": "ipython3",
   "version": "3.11.9"
  }
 },
 "nbformat": 4,
 "nbformat_minor": 4
}
