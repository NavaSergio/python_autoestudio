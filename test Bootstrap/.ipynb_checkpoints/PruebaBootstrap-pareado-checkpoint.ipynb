{
 "cells": [
  {
   "cell_type": "markdown",
   "metadata": {},
   "source": [
    "# Código para entender las funcionalidad de *IngeoML*"
   ]
  },
  {
   "cell_type": "code",
   "execution_count": 10,
   "metadata": {},
   "outputs": [],
   "source": [
    "# Bloque de código para instalar las bibliotecas necesarias para correr IngeoML\n",
    "#!pip install --upgrade \"jax[cpu]\"\n",
    "#!pip install optax\n",
    "#!pip install IngeoML"
   ]
  },
  {
   "cell_type": "code",
   "execution_count": 11,
   "metadata": {},
   "outputs": [
    {
     "name": "stdout",
     "output_type": "stream",
     "text": [
      "3.11.7 (main, Dec 15 2023, 12:09:04) [Clang 14.0.6 ]\n"
     ]
    }
   ],
   "source": [
    "# Verificar que versión de python se está usando.\n",
    "import sys\n",
    "print(sys.version)"
   ]
  },
  {
   "cell_type": "code",
   "execution_count": 12,
   "metadata": {},
   "outputs": [
    {
     "name": "stdout",
     "output_type": "stream",
     "text": [
      "Número de núcleos de CPU disponibles: 4\n"
     ]
    }
   ],
   "source": [
    "# Cuántos núcleos disponibles hay en el CPU\n",
    "import os\n",
    "n_cores = os.cpu_count()\n",
    "print(f\"Número de núcleos de CPU disponibles: {n_cores}\")\n"
   ]
  },
  {
   "cell_type": "code",
   "execution_count": 13,
   "metadata": {},
   "outputs": [],
   "source": [
    "from IngeoML import StatisticSamples\n",
    "from sklearn.metrics import accuracy_score,recall_score\n",
    "import numpy as np"
   ]
  },
  {
   "cell_type": "code",
   "execution_count": 14,
   "metadata": {},
   "outputs": [
    {
     "name": "stdout",
     "output_type": "stream",
     "text": [
      "[3.2 3.8 4.2 3.8 3.6 3.8 2.2 4.  4.  3.6]\n",
      "Muestras de statistic (mean) \n",
      " [[0 4 3 3 2]\n",
      " [4 1 3 4 2]\n",
      " [2 1 2 0 1]\n",
      " [3 2 4 1 1]\n",
      " [1 0 3 2 4]\n",
      " [1 2 3 0 2]\n",
      " [3 3 0 3 3]\n",
      " [2 2 1 4 3]\n",
      " [1 0 2 1 4]\n",
      " [0 4 1 3 2]]\n",
      "[0.         0.9797959  0.74833148 0.4        1.0198039  0.48989795\n",
      " 0.8        1.16619038 0.9797959  1.16619038]\n",
      "Muestras de statistic2 (std) \n",
      " [[1 1 4 4 4]\n",
      " [4 2 1 3 4]\n",
      " [4 4 3 0 0]\n",
      " [4 2 1 1 4]\n",
      " [0 2 1 3 0]\n",
      " [4 0 0 1 4]\n",
      " [4 1 4 0 3]\n",
      " [0 2 3 3 1]\n",
      " [3 3 4 4 4]\n",
      " [2 4 3 3 0]]\n"
     ]
    }
   ],
   "source": [
    "# se obtiene la distribución muestral de la la media y la desvición estándar\n",
    "# de 10 muestras bootstrap de una población de cinco datos\n",
    "statistic = StatisticSamples(num_samples=10, statistic=np.mean)\n",
    "empirical_distribution = np.r_[[3, 4, 5, 2, 4]]\n",
    "print(statistic(empirical_distribution))\n",
    "print(\"Muestras de statistic (mean) \\n\",statistic._samples)\n",
    "statistic2 = StatisticSamples(num_samples=10, statistic=np.std)\n",
    "print(statistic2(empirical_distribution))\n",
    "print(\"Muestras de statistic2 (std) \\n\",statistic2._samples)\n",
    "# en este caso se usand dos objetos-funciones \"statistic\" y \"statistic2\""
   ]
  },
  {
   "cell_type": "markdown",
   "metadata": {},
   "source": [
    "Como se puede ver, las muestras son diferentes en cada llamado, eso dificulta poder hacer bootstrap para diferentes estadísticos y/o métricas"
   ]
  },
  {
   "cell_type": "code",
   "execution_count": 15,
   "metadata": {},
   "outputs": [
    {
     "name": "stdout",
     "output_type": "stream",
     "text": [
      "[4.4 4.  3.6 3.8 3.8 3.2 4.4 3.6 3.8 3.2]\n",
      "Muestras de statistic (mean) \n",
      " [[2 0 2 4 2]\n",
      " [4 1 0 1 2]\n",
      " [0 1 0 4 4]\n",
      " [1 2 3 0 2]\n",
      " [4 0 3 2 2]\n",
      " [3 2 3 0 4]\n",
      " [4 2 2 0 2]\n",
      " [4 0 0 0 2]\n",
      " [4 2 3 0 2]\n",
      " [4 3 1 4 3]]\n",
      "[3.8 3.6 3.8 2.4 4.  4.  4.  3.6 3.6 3.4]\n",
      "Muestras de statistic2 (mean2) \n",
      " [[0 1 0 2 4]\n",
      " [4 4 4 3 1]\n",
      " [4 4 1 3 2]\n",
      " [3 3 3 3 4]\n",
      " [2 0 4 2 0]\n",
      " [2 1 1 2 3]\n",
      " [2 0 4 4 1]\n",
      " [0 4 3 1 2]\n",
      " [4 0 4 0 1]\n",
      " [1 1 3 0 1]]\n"
     ]
    }
   ],
   "source": [
    "\n",
    "# se repite el experimento\n",
    "statistic = StatisticSamples(num_samples=10, statistic=np.mean)\n",
    "empirical_distribution = np.r_[[3, 4, 5, 2, 4]]\n",
    "print(statistic(empirical_distribution))\n",
    "print(\"Muestras de statistic (mean) \\n\",statistic._samples)\n",
    "statistic2 = StatisticSamples(num_samples=10, statistic=np.mean)\n",
    "print(statistic2(empirical_distribution))\n",
    "print(\"Muestras de statistic2 (mean2) \\n\",statistic2._samples)\n",
    "# en este caso se utilizó la misma distribución \"empirical_distribution\""
   ]
  },
  {
   "cell_type": "code",
   "execution_count": 16,
   "metadata": {},
   "outputs": [
    {
     "name": "stdout",
     "output_type": "stream",
     "text": [
      "[2.8 3.4 4.4 2.  4.  3.  3.6 2.4 4.6 3.6]\n",
      "Muestras de statistic (mean) \n",
      " [[3 0 3 0 4]\n",
      " [4 0 1 0 0]\n",
      " [2 0 2 2 4]\n",
      " [3 3 3 3 3]\n",
      " [2 2 1 3 1]\n",
      " [3 4 4 0 3]\n",
      " [0 1 3 2 1]\n",
      " [3 3 0 3 0]\n",
      " [2 2 4 2 1]\n",
      " [1 3 4 1 4]]\n",
      "[3.6 4.  2.6 4.  3.8 3.4 4.  3.4 3.4 3.4]\n",
      "Muestras de statistic2 (mean2) \n",
      " [[2 3 1 2 3]\n",
      " [4 2 0 4 1]\n",
      " [0 3 0 3 0]\n",
      " [4 1 1 4 1]\n",
      " [4 0 4 0 2]\n",
      " [0 1 1 4 3]\n",
      " [4 1 2 2 3]\n",
      " [1 0 0 3 2]\n",
      " [2 0 4 0 3]\n",
      " [3 2 4 3 4]]\n"
     ]
    }
   ],
   "source": [
    "\n",
    "# se repite el experimento\n",
    "statistic = StatisticSamples(num_samples=10, statistic=np.mean)\n",
    "empirical_distribution = np.r_[[3, 4, 5, 2, 4]]\n",
    "print(statistic(empirical_distribution))\n",
    "print(\"Muestras de statistic (mean) \\n\",statistic._samples)\n",
    "statistic = StatisticSamples(num_samples=10, statistic=np.mean)\n",
    "print(statistic(empirical_distribution))\n",
    "print(\"Muestras de statistic2 (mean2) \\n\",statistic._samples)\n",
    "# en este caso se utilizó la misma distribución \"empirical_distribution\" \n",
    "# y el mismo nombre de funcion-objeto \"statistic\" y sin embargo las \n",
    "# muestras son distintas"
   ]
  },
  {
   "cell_type": "code",
   "execution_count": 17,
   "metadata": {},
   "outputs": [
    {
     "name": "stdout",
     "output_type": "stream",
     "text": [
      "0.8\n",
      "Muestras de acc \n",
      " [[7 5 5 0 9 2 8 6 6 8]\n",
      " [0 0 8 0 4 8 1 4 7 9]\n",
      " [6 7 9 8 5 3 9 7 8 2]\n",
      " [9 0 8 8 9 5 2 7 9 7]\n",
      " [0 2 5 7 4 3 8 9 7 7]\n",
      " [9 9 8 4 6 5 5 4 9 2]\n",
      " [9 2 5 1 5 7 7 6 4 5]\n",
      " [3 2 1 3 4 2 5 7 4 6]\n",
      " [1 9 4 4 5 8 0 1 3 0]\n",
      " [8 3 6 0 3 6 5 0 2 7]]\n",
      "0.8\n",
      "Muestras de recall \n",
      " [[8 7 0 6 1 8 0 6 5 7]\n",
      " [0 1 9 0 8 7 2 7 8 0]\n",
      " [1 3 0 1 8 8 9 0 1 7]\n",
      " [5 7 4 9 4 8 2 7 1 0]\n",
      " [5 2 1 0 1 7 7 7 9 5]\n",
      " [2 5 2 8 1 9 2 6 0 6]\n",
      " [6 8 4 6 9 0 8 1 1 3]\n",
      " [7 3 3 0 7 6 4 9 6 1]\n",
      " [7 8 9 4 1 5 6 4 0 5]\n",
      " [8 0 1 6 7 4 0 4 3 2]]\n"
     ]
    }
   ],
   "source": [
    "# se repite el ejemplo con métricas de desempeño y nuevamente \n",
    "# las muestras son distintas\n",
    "labels = np.r_[[0, 0, 0, 0, 0, 1, 1, 1, 1, 1]]\n",
    "pred   = np.r_[[0, 0, 1, 0, 0, 1, 1, 1, 0, 1]]\n",
    "print(accuracy_score(labels, pred))\n",
    "acc = StatisticSamples(num_samples=10, statistic=accuracy_score)\n",
    "acc(labels, pred)\n",
    "print(\"Muestras de acc \\n\",acc._samples)\n",
    "print(recall_score(labels, pred,zero_division =0.0))\n",
    "rec = StatisticSamples(num_samples=10, statistic=recall_score)\n",
    "rec(labels, pred)\n",
    "print(\"Muestras de recall \\n\",rec._samples)"
   ]
  },
  {
   "cell_type": "code",
   "execution_count": null,
   "metadata": {},
   "outputs": [],
   "source": []
  }
 ],
 "metadata": {
  "kernelspec": {
   "display_name": "Python 3 (ipykernel)",
   "language": "python",
   "name": "python3"
  },
  "language_info": {
   "codemirror_mode": {
    "name": "ipython",
    "version": 3
   },
   "file_extension": ".py",
   "mimetype": "text/x-python",
   "name": "python",
   "nbconvert_exporter": "python",
   "pygments_lexer": "ipython3",
   "version": "3.11.7"
  }
 },
 "nbformat": 4,
 "nbformat_minor": 4
}
