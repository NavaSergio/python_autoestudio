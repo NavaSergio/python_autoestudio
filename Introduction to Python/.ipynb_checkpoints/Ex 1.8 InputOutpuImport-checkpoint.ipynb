{
 "cells": [
  {
   "cell_type": "code",
   "execution_count": 1,
   "metadata": {},
   "outputs": [
    {
     "name": "stdout",
     "output_type": "stream",
     "text": [
      "This sentence is output to the screen\n",
      "The value of a is : 5\n",
      "1 2 3 4\n"
     ]
    }
   ],
   "source": [
    "# print function and it's usage\n",
    "print(\"This sentence is output to the screen\")\n",
    "# Output: This sentence es output to the screen\n",
    "\n",
    "a = 5\n",
    "\n",
    "print('The value of a is :',a)\n",
    "# Output: The value of a is 5\n",
    "\n",
    "print(1,2,3,4)\n",
    "# Output: 1 2 3 4 "
   ]
  },
  {
   "cell_type": "code",
   "execution_count": 4,
   "metadata": {},
   "outputs": [
    {
     "name": "stdout",
     "output_type": "stream",
     "text": [
      "1*2*3*4\n",
      "1*2*3*4&\n",
      "I love bread and butter\n",
      "I love bread and butter\n",
      "I love butter and bread\n"
     ]
    }
   ],
   "source": [
    "print(1,2,3,4,sep=\"*\")\n",
    "# Output: 1*2*3*4\n",
    "\n",
    "print(1,2,3,4,sep=\"*\",end=\"&\")\n",
    "# Output: 1*2*3*4&\n",
    "print()\n",
    "\n",
    "print(\"I love {} and {}\".format(\"bread\",\"butter\"))\n",
    "print(\"I love {0} and {1}\".format(\"bread\",\"butter\"))\n",
    "# Output: I love bread and butter\n",
    "\n",
    "\n",
    "print(\"I love {1} and {0}\".format(\"bread\",\"butter\"))\n",
    "# Output: I love butter and bread"
   ]
  },
  {
   "cell_type": "code",
   "execution_count": 5,
   "metadata": {},
   "outputs": [
    {
     "name": "stdout",
     "output_type": "stream",
     "text": [
      "Please enter any number :100\n",
      "100\n",
      "10000.0\n"
     ]
    }
   ],
   "source": [
    "# input\n",
    "x = input('Please enter any number :')\n",
    "print(x)\n",
    "\n",
    "# import module\n",
    "import math   # mainly done at the top of the program\n",
    "print(math.pow(int(x),2))"
   ]
  },
  {
   "cell_type": "code",
   "execution_count": null,
   "metadata": {},
   "outputs": [],
   "source": []
  }
 ],
 "metadata": {
  "kernelspec": {
   "display_name": "Python 3",
   "language": "python",
   "name": "python3"
  },
  "language_info": {
   "codemirror_mode": {
    "name": "ipython",
    "version": 3
   },
   "file_extension": ".py",
   "mimetype": "text/x-python",
   "name": "python",
   "nbconvert_exporter": "python",
   "pygments_lexer": "ipython3",
   "version": "3.8.5"
  }
 },
 "nbformat": 4,
 "nbformat_minor": 4
}
