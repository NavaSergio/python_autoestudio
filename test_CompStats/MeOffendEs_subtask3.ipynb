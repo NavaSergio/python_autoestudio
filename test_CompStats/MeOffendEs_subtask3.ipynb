{
 "cells": [
  {
   "cell_type": "markdown",
   "metadata": {
    "id": "wGizC3XikMtk"
   },
   "source": [
    "<p><img alt=\"Colaboratory logo\" height=\"50px\" src=\"https://github.com/INGEOTEC/text_models/raw/master/docs/source/ingeotec.png\" align=\"left\" hspace=\"10px\" vspace=\"0px\" /></p>\n",
    "\n",
    "# CompStats\n",
    "## Quickstart Guide\n",
    "\n",
    "### <http://compstats.readthedocs.org>\n",
    "\n"
   ]
  },
  {
   "cell_type": "markdown",
   "metadata": {
    "id": "u-QV6DJYaQjg"
   },
   "source": [
    "## Installing CompStats"
   ]
  },
  {
   "cell_type": "code",
   "execution_count": 34,
   "metadata": {
    "id": "ISeelAVIJc59"
   },
   "outputs": [],
   "source": [
    "# !python -m pip uninstall CompStats"
   ]
  },
  {
   "cell_type": "code",
   "execution_count": 35,
   "metadata": {
    "id": "_4WTIJx5H9ii"
   },
   "outputs": [],
   "source": [
    "# %pip install -U git+https://github.com/INGEOTEC/CompStats@develop"
   ]
  },
  {
   "cell_type": "markdown",
   "metadata": {
    "id": "2sFWAgM0H3La"
   },
   "source": [
    "First, we need to install CompStats. This can be quickly done through pip, the Python package manager."
   ]
  },
  {
   "cell_type": "code",
   "execution_count": 36,
   "metadata": {
    "colab": {
     "base_uri": "https://localhost:8080/"
    },
    "id": "k2UzLxhkkMtp",
    "outputId": "dbadd757-1706-49ed-b866-539afbe92f71"
   },
   "outputs": [],
   "source": [
    "try:\n",
    "  import CompStats\n",
    "except ImportError:\n",
    "    !pip install Compstats\n",
    "    # !pip install -U git+https://github.com/INGEOTEC/CompStats@develop"
   ]
  },
  {
   "cell_type": "markdown",
   "metadata": {
    "id": "pqJKAfenkMtr"
   },
   "source": [
    "## Libraries"
   ]
  },
  {
   "cell_type": "markdown",
   "metadata": {
    "id": "ifWsyR9mH7-o"
   },
   "source": [
    "After installing `CompStats`, we must import the necessary libraries for our analysis. `CompStats` relies on several Python libraries for data analysis and scientific computing.\n",
    "\n",
    "The first line of the following code loads two functions from the `CompStats` library. The `performance` function is used to calculate and analyze the performance of machine learning models. On the other hand, the `plot_performance` function visualizes the performance metrics calculated by `performance`, such as accuracy or F1 score, along with confidence intervals to help understand the variability and reliability of the performance metrics.\n",
    "\n",
    "The second line imports two functions: `difference` and `plot_difference`; `difference` assesses the differences in performance between models in comparison to the best system, and `plot_difference` visually represents these differences relative to the best system.\n",
    "\n",
    "The third line imports two functions: `all_differences` and `difference_p_value`. `all_differences` evaluates the differences in performance between all models, and `difference_p_value` estimates the p-value of the hypothesis that the difference is significantly greater than zero.\n",
    "\n",
    "The fourth line imports the function `multipletests`that is used for adjusting p-values when multiple hypothesis tests are performed, to control for the false discovery rate or family-wise error rate.\n",
    "\n",
    "The rest of the lines load commonly used Python libraries."
   ]
  },
  {
   "cell_type": "code",
   "execution_count": 37,
   "metadata": {
    "id": "rUVyzgMokMts"
   },
   "outputs": [],
   "source": [
    "from CompStats import performance, plot_performance\n",
    "from CompStats import difference, plot_difference\n",
    "from CompStats import all_differences, difference_p_value\n",
    "from statsmodels.stats.multitest import multipletests\n",
    "from sklearn.metrics import f1_score\n",
    "import pandas as pd"
   ]
  },
  {
   "cell_type": "markdown",
   "metadata": {
    "id": "DWcPnzA2HI-Y"
   },
   "source": [
    "# Dataset"
   ]
  },
  {
   "cell_type": "markdown",
   "metadata": {
    "id": "eKbW9vf-IASa"
   },
   "source": [
    "Once we have set up our environment, we can explore what CompStats offers. Let's begin with a basic example of how to use CompStats for a simple statistical analysis.\n",
    "\n",
    "To illustrate the use of CompStats, we will use a dataset included in the CompStats package. The path of the dataset is found with the following instructions. The variable `DATA` contains the path as shown below.  "
   ]
  },
  {
   "cell_type": "code",
   "execution_count": 38,
   "metadata": {
    "colab": {
     "base_uri": "https://localhost:8080/",
     "height": 36
    },
    "id": "8TGr5Jh6HIPR",
    "outputId": "b16c1843-a520-4b42-b653-84aee799f963"
   },
   "outputs": [],
   "source": [
    "# from CompStats.tests.test_performance import DATA\n",
    "DATA = 'MeOffendEs_subtask3.csv'"
   ]
  },
  {
   "cell_type": "markdown",
   "metadata": {
    "id": "seBE-afbkMts"
   },
   "source": [
    "`DATA` contains the information to compare six systems for a multiclass classification task. The next instruction loads the data into a dataframe."
   ]
  },
  {
   "cell_type": "code",
   "execution_count": 39,
   "metadata": {
    "id": "WFo5qGVGI5fg"
   },
   "outputs": [],
   "source": [
    "df = pd.read_csv(DATA)"
   ]
  },
  {
   "cell_type": "markdown",
   "metadata": {
    "id": "CnOx0jOAJw6H"
   },
   "source": [
    "The first five rows of `df` are shown below. It can be observed that the first column contains the gold standard, identified with `y`, and the rest of the columns are the predictions performed by different systems."
   ]
  },
  {
   "cell_type": "code",
   "execution_count": 40,
   "metadata": {
    "colab": {
     "base_uri": "https://localhost:8080/",
     "height": 206
    },
    "id": "PxDOXB8QJ2yT",
    "outputId": "08dad3e6-bdf9-4c72-848f-5576ccd383cc"
   },
   "outputs": [
    {
     "data": {
      "text/html": [
       "<div>\n",
       "<style scoped>\n",
       "    .dataframe tbody tr th:only-of-type {\n",
       "        vertical-align: middle;\n",
       "    }\n",
       "\n",
       "    .dataframe tbody tr th {\n",
       "        vertical-align: top;\n",
       "    }\n",
       "\n",
       "    .dataframe thead th {\n",
       "        text-align: right;\n",
       "    }\n",
       "</style>\n",
       "<table border=\"1\" class=\"dataframe\">\n",
       "  <thead>\n",
       "    <tr style=\"text-align: right;\">\n",
       "      <th></th>\n",
       "      <th>y</th>\n",
       "      <th>aomar</th>\n",
       "      <th>CEN-Amrita</th>\n",
       "      <th>CIC-IPN</th>\n",
       "      <th>CIMAT-GTO</th>\n",
       "      <th>CIMAT-MTY-GTO</th>\n",
       "      <th>DCCD-INFOTEC</th>\n",
       "      <th>NLP-CIC</th>\n",
       "      <th>Timen</th>\n",
       "      <th>UMUTeam</th>\n",
       "      <th>xjywing</th>\n",
       "    </tr>\n",
       "  </thead>\n",
       "  <tbody>\n",
       "    <tr>\n",
       "      <th>2178</th>\n",
       "      <td>0</td>\n",
       "      <td>1</td>\n",
       "      <td>1</td>\n",
       "      <td>1</td>\n",
       "      <td>1</td>\n",
       "      <td>1</td>\n",
       "      <td>0</td>\n",
       "      <td>1</td>\n",
       "      <td>1</td>\n",
       "      <td>0</td>\n",
       "      <td>1</td>\n",
       "    </tr>\n",
       "    <tr>\n",
       "      <th>2179</th>\n",
       "      <td>1</td>\n",
       "      <td>1</td>\n",
       "      <td>1</td>\n",
       "      <td>0</td>\n",
       "      <td>1</td>\n",
       "      <td>1</td>\n",
       "      <td>1</td>\n",
       "      <td>1</td>\n",
       "      <td>0</td>\n",
       "      <td>1</td>\n",
       "      <td>1</td>\n",
       "    </tr>\n",
       "    <tr>\n",
       "      <th>2180</th>\n",
       "      <td>0</td>\n",
       "      <td>1</td>\n",
       "      <td>1</td>\n",
       "      <td>0</td>\n",
       "      <td>0</td>\n",
       "      <td>0</td>\n",
       "      <td>0</td>\n",
       "      <td>0</td>\n",
       "      <td>0</td>\n",
       "      <td>0</td>\n",
       "      <td>1</td>\n",
       "    </tr>\n",
       "    <tr>\n",
       "      <th>2181</th>\n",
       "      <td>1</td>\n",
       "      <td>1</td>\n",
       "      <td>1</td>\n",
       "      <td>0</td>\n",
       "      <td>1</td>\n",
       "      <td>1</td>\n",
       "      <td>1</td>\n",
       "      <td>1</td>\n",
       "      <td>0</td>\n",
       "      <td>0</td>\n",
       "      <td>1</td>\n",
       "    </tr>\n",
       "    <tr>\n",
       "      <th>2182</th>\n",
       "      <td>0</td>\n",
       "      <td>1</td>\n",
       "      <td>1</td>\n",
       "      <td>0</td>\n",
       "      <td>1</td>\n",
       "      <td>0</td>\n",
       "      <td>0</td>\n",
       "      <td>0</td>\n",
       "      <td>0</td>\n",
       "      <td>0</td>\n",
       "      <td>1</td>\n",
       "    </tr>\n",
       "  </tbody>\n",
       "</table>\n",
       "</div>"
      ],
      "text/plain": [
       "      y  aomar  CEN-Amrita  CIC-IPN  CIMAT-GTO  CIMAT-MTY-GTO  DCCD-INFOTEC  \\\n",
       "2178  0      1           1        1          1              1             0   \n",
       "2179  1      1           1        0          1              1             1   \n",
       "2180  0      1           1        0          0              0             0   \n",
       "2181  1      1           1        0          1              1             1   \n",
       "2182  0      1           1        0          1              0             0   \n",
       "\n",
       "      NLP-CIC  Timen  UMUTeam  xjywing  \n",
       "2178        1      1        0        1  \n",
       "2179        1      0        1        1  \n",
       "2180        0      0        0        1  \n",
       "2181        1      0        0        1  \n",
       "2182        0      0        0        1  "
      ]
     },
     "execution_count": 40,
     "metadata": {},
     "output_type": "execute_result"
    }
   ],
   "source": [
    "df.tail(5)"
   ]
  },
  {
   "cell_type": "code",
   "execution_count": 41,
   "metadata": {},
   "outputs": [
    {
     "data": {
      "text/html": [
       "<div>\n",
       "<style scoped>\n",
       "    .dataframe tbody tr th:only-of-type {\n",
       "        vertical-align: middle;\n",
       "    }\n",
       "\n",
       "    .dataframe tbody tr th {\n",
       "        vertical-align: top;\n",
       "    }\n",
       "\n",
       "    .dataframe thead th {\n",
       "        text-align: right;\n",
       "    }\n",
       "</style>\n",
       "<table border=\"1\" class=\"dataframe\">\n",
       "  <thead>\n",
       "    <tr style=\"text-align: right;\">\n",
       "      <th></th>\n",
       "      <th>y</th>\n",
       "      <th>aomar</th>\n",
       "      <th>CEN-Amrita</th>\n",
       "      <th>CIC-IPN</th>\n",
       "      <th>CIMAT-GTO</th>\n",
       "      <th>CIMAT-MTY-GTO</th>\n",
       "      <th>DCCD-INFOTEC</th>\n",
       "      <th>NLP-CIC</th>\n",
       "      <th>Timen</th>\n",
       "      <th>UMUTeam</th>\n",
       "      <th>xjywing</th>\n",
       "    </tr>\n",
       "  </thead>\n",
       "  <tbody>\n",
       "    <tr>\n",
       "      <th>0</th>\n",
       "      <td>0</td>\n",
       "      <td>1</td>\n",
       "      <td>1</td>\n",
       "      <td>0</td>\n",
       "      <td>0</td>\n",
       "      <td>0</td>\n",
       "      <td>0</td>\n",
       "      <td>0</td>\n",
       "      <td>0</td>\n",
       "      <td>0</td>\n",
       "      <td>1</td>\n",
       "    </tr>\n",
       "    <tr>\n",
       "      <th>1</th>\n",
       "      <td>0</td>\n",
       "      <td>1</td>\n",
       "      <td>1</td>\n",
       "      <td>1</td>\n",
       "      <td>0</td>\n",
       "      <td>0</td>\n",
       "      <td>1</td>\n",
       "      <td>0</td>\n",
       "      <td>0</td>\n",
       "      <td>0</td>\n",
       "      <td>1</td>\n",
       "    </tr>\n",
       "    <tr>\n",
       "      <th>2</th>\n",
       "      <td>1</td>\n",
       "      <td>1</td>\n",
       "      <td>1</td>\n",
       "      <td>1</td>\n",
       "      <td>0</td>\n",
       "      <td>1</td>\n",
       "      <td>1</td>\n",
       "      <td>0</td>\n",
       "      <td>1</td>\n",
       "      <td>1</td>\n",
       "      <td>1</td>\n",
       "    </tr>\n",
       "    <tr>\n",
       "      <th>3</th>\n",
       "      <td>0</td>\n",
       "      <td>1</td>\n",
       "      <td>1</td>\n",
       "      <td>0</td>\n",
       "      <td>0</td>\n",
       "      <td>0</td>\n",
       "      <td>0</td>\n",
       "      <td>0</td>\n",
       "      <td>0</td>\n",
       "      <td>0</td>\n",
       "      <td>1</td>\n",
       "    </tr>\n",
       "    <tr>\n",
       "      <th>4</th>\n",
       "      <td>1</td>\n",
       "      <td>1</td>\n",
       "      <td>1</td>\n",
       "      <td>1</td>\n",
       "      <td>1</td>\n",
       "      <td>1</td>\n",
       "      <td>1</td>\n",
       "      <td>1</td>\n",
       "      <td>1</td>\n",
       "      <td>1</td>\n",
       "      <td>1</td>\n",
       "    </tr>\n",
       "    <tr>\n",
       "      <th>...</th>\n",
       "      <td>...</td>\n",
       "      <td>...</td>\n",
       "      <td>...</td>\n",
       "      <td>...</td>\n",
       "      <td>...</td>\n",
       "      <td>...</td>\n",
       "      <td>...</td>\n",
       "      <td>...</td>\n",
       "      <td>...</td>\n",
       "      <td>...</td>\n",
       "      <td>...</td>\n",
       "    </tr>\n",
       "    <tr>\n",
       "      <th>2178</th>\n",
       "      <td>0</td>\n",
       "      <td>1</td>\n",
       "      <td>1</td>\n",
       "      <td>1</td>\n",
       "      <td>1</td>\n",
       "      <td>1</td>\n",
       "      <td>0</td>\n",
       "      <td>1</td>\n",
       "      <td>1</td>\n",
       "      <td>0</td>\n",
       "      <td>1</td>\n",
       "    </tr>\n",
       "    <tr>\n",
       "      <th>2179</th>\n",
       "      <td>1</td>\n",
       "      <td>1</td>\n",
       "      <td>1</td>\n",
       "      <td>0</td>\n",
       "      <td>1</td>\n",
       "      <td>1</td>\n",
       "      <td>1</td>\n",
       "      <td>1</td>\n",
       "      <td>0</td>\n",
       "      <td>1</td>\n",
       "      <td>1</td>\n",
       "    </tr>\n",
       "    <tr>\n",
       "      <th>2180</th>\n",
       "      <td>0</td>\n",
       "      <td>1</td>\n",
       "      <td>1</td>\n",
       "      <td>0</td>\n",
       "      <td>0</td>\n",
       "      <td>0</td>\n",
       "      <td>0</td>\n",
       "      <td>0</td>\n",
       "      <td>0</td>\n",
       "      <td>0</td>\n",
       "      <td>1</td>\n",
       "    </tr>\n",
       "    <tr>\n",
       "      <th>2181</th>\n",
       "      <td>1</td>\n",
       "      <td>1</td>\n",
       "      <td>1</td>\n",
       "      <td>0</td>\n",
       "      <td>1</td>\n",
       "      <td>1</td>\n",
       "      <td>1</td>\n",
       "      <td>1</td>\n",
       "      <td>0</td>\n",
       "      <td>0</td>\n",
       "      <td>1</td>\n",
       "    </tr>\n",
       "    <tr>\n",
       "      <th>2182</th>\n",
       "      <td>0</td>\n",
       "      <td>1</td>\n",
       "      <td>1</td>\n",
       "      <td>0</td>\n",
       "      <td>1</td>\n",
       "      <td>0</td>\n",
       "      <td>0</td>\n",
       "      <td>0</td>\n",
       "      <td>0</td>\n",
       "      <td>0</td>\n",
       "      <td>1</td>\n",
       "    </tr>\n",
       "  </tbody>\n",
       "</table>\n",
       "<p>2183 rows × 11 columns</p>\n",
       "</div>"
      ],
      "text/plain": [
       "      y  aomar  CEN-Amrita  CIC-IPN  CIMAT-GTO  CIMAT-MTY-GTO  DCCD-INFOTEC  \\\n",
       "0     0      1           1        0          0              0             0   \n",
       "1     0      1           1        1          0              0             1   \n",
       "2     1      1           1        1          0              1             1   \n",
       "3     0      1           1        0          0              0             0   \n",
       "4     1      1           1        1          1              1             1   \n",
       "...  ..    ...         ...      ...        ...            ...           ...   \n",
       "2178  0      1           1        1          1              1             0   \n",
       "2179  1      1           1        0          1              1             1   \n",
       "2180  0      1           1        0          0              0             0   \n",
       "2181  1      1           1        0          1              1             1   \n",
       "2182  0      1           1        0          1              0             0   \n",
       "\n",
       "      NLP-CIC  Timen  UMUTeam  xjywing  \n",
       "0           0      0        0        1  \n",
       "1           0      0        0        1  \n",
       "2           0      1        1        1  \n",
       "3           0      0        0        1  \n",
       "4           1      1        1        1  \n",
       "...       ...    ...      ...      ...  \n",
       "2178        1      1        0        1  \n",
       "2179        1      0        1        1  \n",
       "2180        0      0        0        1  \n",
       "2181        1      0        0        1  \n",
       "2182        0      0        0        1  \n",
       "\n",
       "[2183 rows x 11 columns]"
      ]
     },
     "execution_count": 41,
     "metadata": {},
     "output_type": "execute_result"
    }
   ],
   "source": [
    "df"
   ]
  },
  {
   "cell_type": "markdown",
   "metadata": {
    "id": "sqI3FxmCI_pM"
   },
   "source": [
    "# Performance Anaylisis"
   ]
  },
  {
   "cell_type": "markdown",
   "metadata": {
    "id": "JR1B0lg4K85m"
   },
   "source": [
    "Let us start with the performance analysis of the different systems. The performance metric used is the weighted average F1 score. This performance is coded in the variable `score` as observed in the next instruction."
   ]
  },
  {
   "cell_type": "code",
   "execution_count": 42,
   "metadata": {
    "id": "IXHA4HRkLA9q"
   },
   "outputs": [],
   "source": [
    "score = lambda y, hy: f1_score(y, hy, average='binary')"
   ]
  },
  {
   "cell_type": "markdown",
   "metadata": {
    "id": "xYCMtk-1LZtL"
   },
   "source": [
    "The next step is to compute the performance on the bootstrap samples; this is done with the function `performance`. The function has a few parameters; one is the `score`, which receives the metric used to measure the performance."
   ]
  },
  {
   "cell_type": "code",
   "execution_count": 43,
   "metadata": {
    "colab": {
     "base_uri": "https://localhost:8080/"
    },
    "id": "-96k0EbaLadL",
    "outputId": "cba38610-383b-402e-e8e2-f0fcdea5908e"
   },
   "outputs": [
    {
     "name": "stderr",
     "output_type": "stream",
     "text": [
      "100%|██████████| 11/11 [03:04<00:00, 16.73s/it]\n"
     ]
    }
   ],
   "source": [
    "perf = performance(df, score=score,num_samples=10000)"
   ]
  },
  {
   "cell_type": "markdown",
   "metadata": {
    "id": "sEfBLwenQpND"
   },
   "source": [
    "`perf` is an instance of `StatisticSamples`, the bootstrap samples can be seen on the property `calls`. The first five bootstrap samples of the performance of INGEOTEC are shown below. -- It verifies that the key is in the dictionary in case the dataset has been changed. --"
   ]
  },
  {
   "cell_type": "code",
   "execution_count": 44,
   "metadata": {
    "colab": {
     "base_uri": "https://localhost:8080/"
    },
    "id": "IrbRfFuCQsGf",
    "outputId": "995bf6f7-02d8-4526-de25-4e56151d7f3b"
   },
   "outputs": [
    {
     "name": "stdout",
     "output_type": "stream",
     "text": [
      "[0.67352185 0.68497854 0.67130435 0.70150576 0.69023569]\n"
     ]
    }
   ],
   "source": [
    "if 'DCCD-INFOTEC' in perf.calls:\n",
    "  print(f\"{perf.calls['DCCD-INFOTEC'][:5]}\")"
   ]
  },
  {
   "cell_type": "markdown",
   "metadata": {
    "id": "SaUGXqEVJE6A"
   },
   "source": [
    "The performance of the systems, along with their confidence intervals, can be seen using the next instruction."
   ]
  },
  {
   "cell_type": "code",
   "execution_count": 45,
   "metadata": {
    "colab": {
     "base_uri": "https://localhost:8080/",
     "height": 506
    },
    "id": "djiadR9dkMts",
    "outputId": "fbd0675c-0933-4d6e-e142-633394526b61"
   },
   "outputs": [
    {
     "data": {
      "image/png": "[encoded data removed]",
      "text/plain": [
       "<Figure size 511.111x500 with 1 Axes>"
      ]
     },
     "metadata": {},
     "output_type": "display_data"
    }
   ],
   "source": [
    "face_grid = plot_performance(perf)"
   ]
  },
  {
   "cell_type": "markdown",
   "metadata": {
    "id": "eBmUNHXWR2pL"
   },
   "source": [
    "It can be observed that the best system is INGEOTEC. Although the confidence intervals provide information that helps to assess the difference in the performance of the systems, in this case, the intervals intersect. Therefore, one needs another statistical tool to determine if the difference in performance is significant."
   ]
  },
  {
   "cell_type": "markdown",
   "metadata": {
    "id": "hJ1gAxzkkMts"
   },
   "source": [
    "# Performance Comparison against the Winner"
   ]
  },
  {
   "cell_type": "markdown",
   "metadata": {
    "id": "peFwDTsNdRiz"
   },
   "source": [
    "The difference in their performance compared to the best-performing system can be used to compare the algorithms analyzed. The function `difference` computes the difference as shown below."
   ]
  },
  {
   "cell_type": "code",
   "execution_count": 46,
   "metadata": {
    "id": "0FXWINpdkMtt"
   },
   "outputs": [],
   "source": [
    "diff = difference(perf)"
   ]
  },
  {
   "cell_type": "markdown",
   "metadata": {
    "id": "2p_ppDE9dV0F"
   },
   "source": [
    "`diff` is an instance of `StatisticSamples`; one can find the best system on the property `info`, as the following instruction shows."
   ]
  },
  {
   "cell_type": "code",
   "execution_count": 47,
   "metadata": {
    "colab": {
     "base_uri": "https://localhost:8080/"
    },
    "id": "7oz3wbr6dr_m",
    "outputId": "a4b5e252-dcbe-4345-c5e5-e84acd3edce7"
   },
   "outputs": [
    {
     "data": {
      "text/plain": [
       "{'best': 'NLP-CIC'}"
      ]
     },
     "execution_count": 47,
     "metadata": {},
     "output_type": "execute_result"
    }
   ],
   "source": [
    "diff.info"
   ]
  },
  {
   "cell_type": "markdown",
   "metadata": {
    "id": "iD_jAdwmd5QZ"
   },
   "source": [
    "The difference in performance can be visualized with the following instruction."
   ]
  },
  {
   "cell_type": "code",
   "execution_count": 48,
   "metadata": {
    "colab": {
     "base_uri": "https://localhost:8080/",
     "height": 529
    },
    "id": "obO7DOUWdW52",
    "outputId": "38b7de59-4aea-43b7-d3dc-eae94c6f19d6"
   },
   "outputs": [
    {
     "data": {
      "image/png": "[encoded data removed]",
      "text/plain": [
       "<Figure size 584.875x500 with 1 Axes>"
      ]
     },
     "metadata": {},
     "output_type": "display_data"
    }
   ],
   "source": [
    "face_grid_diff = plot_difference(diff)"
   ]
  },
  {
   "cell_type": "markdown",
   "metadata": {
    "id": "aHlFz543kMtt"
   },
   "source": [
    "From the performance graphs, for this example, we can observe that the ranking is *INGEOTEC*, *BoW*, *StackBoW*, *BoW (Corpus)*, *Dense*, *Bow (Class Weight)*. Hence, in the last graph, we analyze the performance difference against the winner (INGEOTEC). From this graph, we can conclude that *BoW* and *StackBoW*, might perform similarly to INGEOTEC.\n",
    "\n",
    "Should we test the hypothesis of equality versus difference, considering that one system outperforms the other in the test? To address this question, we compare the performance of two systems, $A$ and $B$, to determine whether $A$ is superior to $B$ in a larger data population, represented as $\\theta_A > \\theta_B$. We can estimate the p-value associated with the hypothesis test $H_0: \\theta_A \\le \\theta_B$ vs $H_1: \\theta_A > \\theta_B$ given the data, equivalently $H_0: \\theta_A< -  \\theta_B\\le 0$ vs $H_1: \\theta_A - \\theta_B > 0$. The p-values for these differences can be estimated using the following instruction, comparing them against the winner (INGEOTEC) to determine the probability that $a$ (INGEOTEC) is better than $b$.\n",
    "\n",
    "The `difference_p_value` function estimates the p-value for each difference in comparison to the best system, as illustrated below.\n"
   ]
  },
  {
   "cell_type": "code",
   "execution_count": 49,
   "metadata": {
    "id": "83DAxZ18kMtt"
   },
   "outputs": [],
   "source": [
    "p_values = difference_p_value(diff)"
   ]
  },
  {
   "cell_type": "markdown",
   "metadata": {
    "id": "WEEPzr4l2BMn"
   },
   "source": [
    "For a given $\\alpha$ level, p-values smaller than $\\alpha$  are significant, meaning the observed difference is unlikely to be due to chance. An $\\alpha$ level of 0.05 is commonly used."
   ]
  },
  {
   "cell_type": "code",
   "execution_count": 50,
   "metadata": {
    "colab": {
     "base_uri": "https://localhost:8080/"
    },
    "id": "p2VtUMvS0Z4k",
    "outputId": "6a3cf917-98da-46ed-a103-4faf13725e53"
   },
   "outputs": [
    {
     "data": {
      "text/plain": [
       "{'CEN-Amrita': 0.0,\n",
       " 'aomar': 0.0,\n",
       " 'xjywing': 0.0,\n",
       " 'CIC-IPN': 0.0,\n",
       " 'Timen': 0.0,\n",
       " 'UMUTeam': 0.0008,\n",
       " 'CIMAT-GTO': 0.0043,\n",
       " 'DCCD-INFOTEC': 0.0305,\n",
       " 'CIMAT-MTY-GTO': 0.1599}"
      ]
     },
     "execution_count": 50,
     "metadata": {},
     "output_type": "execute_result"
    }
   ],
   "source": [
    "p_values"
   ]
  },
  {
   "cell_type": "code",
   "execution_count": 51,
   "metadata": {},
   "outputs": [
    {
     "data": {
      "text/plain": [
       "{'CEN-Amrita': 0.0,\n",
       " 'aomar': 0.0,\n",
       " 'xjywing': 0.0,\n",
       " 'CIC-IPN': 0.0,\n",
       " 'Timen': 0.0,\n",
       " 'UMUTeam': 0.007200000000000001,\n",
       " 'CIMAT-GTO': 0.0387,\n",
       " 'DCCD-INFOTEC': 0.27449999999999997,\n",
       " 'CIMAT-MTY-GTO': 1.0}"
      ]
     },
     "execution_count": 51,
     "metadata": {},
     "output_type": "execute_result"
    }
   ],
   "source": [
    "result = multipletests(list(p_values.values()), method='bonferroni')\n",
    "p_valuesC = dict(zip(p_values.keys(),result[1]))\n",
    "p_valuesC"
   ]
  },
  {
   "cell_type": "markdown",
   "metadata": {
    "id": "rt21qMcDkMtu"
   },
   "source": [
    "# Performance comparison between all models\n",
    "\n",
    "Similarly, the differences for each pair of variables between all models can be estimated using the function `all_differences`, as illustrated in the following instructions. This approach allows for a comprehensive analysis of how each model compares to the others, providing a statistical basis to understand the significance of performance variations among them. This method extends the comparative analysis, offering a detailed view of the competitive landscape of model performance."
   ]
  },
  {
   "cell_type": "code",
   "execution_count": 52,
   "metadata": {
    "id": "6ehkDIH_kMtu"
   },
   "outputs": [],
   "source": [
    "all_diff = all_differences(perf)\n"
   ]
  },
  {
   "cell_type": "code",
   "execution_count": 58,
   "metadata": {},
   "outputs": [
    {
     "data": {
      "text/plain": [
       "{'NLP-CIC - CIMAT-MTY-GTO': array([ 0.00092287, -0.00724851,  0.01898813, ...,  0.03258547,\n",
       "         0.00261489,  0.00911392]),\n",
       " 'NLP-CIC - DCCD-INFOTEC': array([0.03610014, 0.01022694, 0.03969309, ..., 0.04743325, 0.03216069,\n",
       "        0.03662885]),\n",
       " 'NLP-CIC - CIMAT-GTO': array([0.02625884, 0.00590157, 0.03797056, ..., 0.05636999, 0.02361821,\n",
       "        0.03519476]),\n",
       " 'NLP-CIC - UMUTeam': array([0.05282757, 0.01439054, 0.05573654, ..., 0.06253626, 0.03850845,\n",
       "        0.0455217 ]),\n",
       " 'NLP-CIC - Timen': array([0.10562865, 0.08614508, 0.11099744, ..., 0.11649623, 0.11795253,\n",
       "        0.09922984]),\n",
       " 'NLP-CIC - CIC-IPN': array([0.10501547, 0.08982015, 0.14066989, ..., 0.10151105, 0.10295902,\n",
       "        0.11789851]),\n",
       " 'NLP-CIC - xjywing': array([0.22857379, 0.20238473, 0.22725947, ..., 0.23258367, 0.22227633,\n",
       "        0.23312166]),\n",
       " 'NLP-CIC - aomar': array([0.25198719, 0.23077595, 0.2530368 , ..., 0.2582642 , 0.24414561,\n",
       "        0.25282431]),\n",
       " 'NLP-CIC - CEN-Amrita': array([0.26043327, 0.22250923, 0.25088769, ..., 0.26941248, 0.24550413,\n",
       "        0.24622434]),\n",
       " 'CIMAT-MTY-GTO - DCCD-INFOTEC': array([0.03517727, 0.01747545, 0.02070496, ..., 0.01484778, 0.02954579,\n",
       "        0.02751493]),\n",
       " 'CIMAT-MTY-GTO - CIMAT-GTO': array([0.02533597, 0.01315008, 0.01898242, ..., 0.02378452, 0.02100332,\n",
       "        0.02608084]),\n",
       " 'CIMAT-MTY-GTO - UMUTeam': array([0.0519047 , 0.02163905, 0.0367484 , ..., 0.02995079, 0.03589356,\n",
       "        0.03640778]),\n",
       " 'CIMAT-MTY-GTO - Timen': array([0.10470578, 0.09339359, 0.09200931, ..., 0.08391076, 0.11533764,\n",
       "        0.09011592]),\n",
       " 'CIMAT-MTY-GTO - CIC-IPN': array([0.1040926 , 0.09706866, 0.12168176, ..., 0.06892558, 0.10034413,\n",
       "        0.10878459]),\n",
       " 'CIMAT-MTY-GTO - xjywing': array([0.22765092, 0.20963324, 0.20827133, ..., 0.1999982 , 0.21966143,\n",
       "        0.22400774]),\n",
       " 'CIMAT-MTY-GTO - aomar': array([0.25106432, 0.23802446, 0.23404867, ..., 0.22567873, 0.24153072,\n",
       "        0.24371039]),\n",
       " 'CIMAT-MTY-GTO - CEN-Amrita': array([0.25951039, 0.22975774, 0.23189956, ..., 0.23682701, 0.24288924,\n",
       "        0.23711042]),\n",
       " 'DCCD-INFOTEC - CIMAT-GTO': array([-0.0098413 , -0.00432536, -0.00172254, ...,  0.00893673,\n",
       "        -0.00854248, -0.0014341 ]),\n",
       " 'DCCD-INFOTEC - UMUTeam': array([0.01672743, 0.0041636 , 0.01604344, ..., 0.01510301, 0.00634776,\n",
       "        0.00889285]),\n",
       " 'DCCD-INFOTEC - Timen': array([0.06952851, 0.07591814, 0.07130435, ..., 0.06906297, 0.08579185,\n",
       "        0.06260098]),\n",
       " 'DCCD-INFOTEC - CIC-IPN': array([0.06891532, 0.07959321, 0.10097679, ..., 0.05407779, 0.07079834,\n",
       "        0.08126966]),\n",
       " 'DCCD-INFOTEC - xjywing': array([0.19247365, 0.19215779, 0.18756637, ..., 0.18515042, 0.19011564,\n",
       "        0.19649281]),\n",
       " 'DCCD-INFOTEC - aomar': array([0.21588705, 0.22054901, 0.2133437 , ..., 0.21083095, 0.21198492,\n",
       "        0.21619546]),\n",
       " 'DCCD-INFOTEC - CEN-Amrita': array([0.22433312, 0.2122823 , 0.2111946 , ..., 0.22197922, 0.21334345,\n",
       "        0.20959548]),\n",
       " 'CIMAT-GTO - UMUTeam': array([0.02656872, 0.00848896, 0.01776598, ..., 0.00616627, 0.01489024,\n",
       "        0.01032695]),\n",
       " 'CIMAT-GTO - Timen': array([0.0793698 , 0.0802435 , 0.07302689, ..., 0.06012624, 0.09433433,\n",
       "        0.06403508]),\n",
       " 'CIMAT-GTO - CIC-IPN': array([0.07875662, 0.08391858, 0.10269933, ..., 0.04514106, 0.07934082,\n",
       "        0.08270376]),\n",
       " 'CIMAT-GTO - xjywing': array([0.20231495, 0.19648315, 0.18928891, ..., 0.17621368, 0.19865812,\n",
       "        0.19792691]),\n",
       " 'CIMAT-GTO - aomar': array([0.22572835, 0.22487437, 0.21506624, ..., 0.20189421, 0.2205274 ,\n",
       "        0.21762956]),\n",
       " 'CIMAT-GTO - CEN-Amrita': array([0.23417442, 0.21660766, 0.21291714, ..., 0.21304249, 0.22188593,\n",
       "        0.21102958]),\n",
       " 'UMUTeam - Timen': array([0.05280108, 0.07175454, 0.05526091, ..., 0.05395997, 0.07944409,\n",
       "        0.05370813]),\n",
       " 'UMUTeam - CIC-IPN': array([0.0521879 , 0.07542961, 0.08493335, ..., 0.03897478, 0.06445058,\n",
       "        0.07237681]),\n",
       " 'UMUTeam - xjywing': array([0.17574623, 0.18799419, 0.17152293, ..., 0.17004741, 0.18376788,\n",
       "        0.18759996]),\n",
       " 'UMUTeam - aomar': array([0.19915963, 0.21638541, 0.19730026, ..., 0.19572794, 0.20563716,\n",
       "        0.20730261]),\n",
       " 'UMUTeam - CEN-Amrita': array([0.2076057 , 0.20811869, 0.19515116, ..., 0.20687621, 0.20699569,\n",
       "        0.20070263]),\n",
       " 'Timen - CIC-IPN': array([-0.00061318,  0.00367507,  0.02967245, ..., -0.01498518,\n",
       "        -0.01499351,  0.01866868]),\n",
       " 'Timen - xjywing': array([0.12294515, 0.11623965, 0.11626202, ..., 0.11608744, 0.10432379,\n",
       "        0.13389183]),\n",
       " 'Timen - aomar': array([0.14635855, 0.14463087, 0.14203936, ..., 0.14176797, 0.12619307,\n",
       "        0.15359448]),\n",
       " 'Timen - CEN-Amrita': array([0.15480462, 0.13636416, 0.13989025, ..., 0.15291625, 0.1275516 ,\n",
       "        0.1469945 ]),\n",
       " 'CIC-IPN - xjywing': array([0.12355833, 0.11256458, 0.08658958, ..., 0.13107262, 0.1193173 ,\n",
       "        0.11522315]),\n",
       " 'CIC-IPN - aomar': array([0.14697173, 0.1409558 , 0.11236691, ..., 0.15675316, 0.14118658,\n",
       "        0.1349258 ]),\n",
       " 'CIC-IPN - CEN-Amrita': array([0.1554178 , 0.13268908, 0.1102178 , ..., 0.16790143, 0.14254511,\n",
       "        0.12832582]),\n",
       " 'xjywing - aomar': array([0.0234134 , 0.02839122, 0.02577733, ..., 0.02568053, 0.02186928,\n",
       "        0.01970265]),\n",
       " 'xjywing - CEN-Amrita': array([0.03185947, 0.0201245 , 0.02362822, ..., 0.0368288 , 0.02322781,\n",
       "        0.01310267]),\n",
       " 'aomar - CEN-Amrita': array([ 0.00844607, -0.00826672, -0.00214911, ...,  0.01114827,\n",
       "         0.00135853, -0.00659998])}"
      ]
     },
     "execution_count": 58,
     "metadata": {},
     "output_type": "execute_result"
    }
   ],
   "source": [
    "all_diff.calls"
   ]
  },
  {
   "cell_type": "code",
   "execution_count": 59,
   "metadata": {},
   "outputs": [
    {
     "data": {
      "text/plain": [
       "{'NLP-CIC - CIMAT-MTY-GTO': 0.012841872056701249,\n",
       " 'NLP-CIC - DCCD-INFOTEC': 0.030647960318270828,\n",
       " 'NLP-CIC - CIMAT-GTO': 0.0362069313701996,\n",
       " 'NLP-CIC - UMUTeam': 0.044905532299232845,\n",
       " 'NLP-CIC - Timen': 0.11145926528616769,\n",
       " 'NLP-CIC - CIC-IPN': 0.1137952837158708,\n",
       " 'NLP-CIC - xjywing': 0.22216791305013203,\n",
       " 'NLP-CIC - aomar': 0.2428755133618613,\n",
       " 'NLP-CIC - CEN-Amrita': 0.24720905113167313,\n",
       " 'CIMAT-MTY-GTO - DCCD-INFOTEC': 0.017806088261569403,\n",
       " 'CIMAT-MTY-GTO - CIMAT-GTO': 0.023365059313498374,\n",
       " 'CIMAT-MTY-GTO - UMUTeam': 0.03206366024253182,\n",
       " 'CIMAT-MTY-GTO - Timen': 0.09861739322946625,\n",
       " 'CIMAT-MTY-GTO - CIC-IPN': 0.10095341165916943,\n",
       " 'CIMAT-MTY-GTO - xjywing': 0.20932604099343088,\n",
       " 'CIMAT-MTY-GTO - aomar': 0.23003364130516107,\n",
       " 'CIMAT-MTY-GTO - CEN-Amrita': 0.2343671790749716,\n",
       " 'DCCD-INFOTEC - CIMAT-GTO': 0.005558971051928893,\n",
       " 'DCCD-INFOTEC - UMUTeam': 0.014257571980962402,\n",
       " 'DCCD-INFOTEC - Timen': 0.08081130496789674,\n",
       " 'DCCD-INFOTEC - CIC-IPN': 0.08314732339759986,\n",
       " 'DCCD-INFOTEC - xjywing': 0.19151995273186118,\n",
       " 'DCCD-INFOTEC - aomar': 0.21222755304359156,\n",
       " 'DCCD-INFOTEC - CEN-Amrita': 0.2165610908134027,\n",
       " 'CIMAT-GTO - UMUTeam': 0.008698600929033497,\n",
       " 'CIMAT-GTO - Timen': 0.0752523339159682,\n",
       " 'CIMAT-GTO - CIC-IPN': 0.07758835234567174,\n",
       " 'CIMAT-GTO - xjywing': 0.18596098167993202,\n",
       " 'CIMAT-GTO - aomar': 0.206668581991663,\n",
       " 'CIMAT-GTO - CEN-Amrita': 0.2110021197614737,\n",
       " 'UMUTeam - Timen': 0.0665537329869347,\n",
       " 'UMUTeam - CIC-IPN': 0.06888975141663772,\n",
       " 'UMUTeam - xjywing': 0.17726238075089976,\n",
       " 'UMUTeam - aomar': 0.1979699810626283,\n",
       " 'UMUTeam - CEN-Amrita': 0.20230351883244072,\n",
       " 'Timen - CIC-IPN': 0.0023360184297032973,\n",
       " 'Timen - xjywing': 0.11070864776396445,\n",
       " 'Timen - aomar': 0.13141624807569444,\n",
       " 'Timen - CEN-Amrita': 0.135749785845506,\n",
       " 'CIC-IPN - xjywing': 0.10837262933426087,\n",
       " 'CIC-IPN - aomar': 0.1290802296459914,\n",
       " 'CIC-IPN - CEN-Amrita': 0.13341376741580238,\n",
       " 'xjywing - aomar': 0.02070760031173001,\n",
       " 'xjywing - CEN-Amrita': 0.02504113808154125,\n",
       " 'aomar - CEN-Amrita': 0.004333537769811148}"
      ]
     },
     "execution_count": 59,
     "metadata": {},
     "output_type": "execute_result"
    }
   ],
   "source": [
    "promedios = {key: sum(value) / len(value) for key, value in all_diff.calls.items()}\n",
    "promedios"
   ]
  },
  {
   "cell_type": "markdown",
   "metadata": {
    "id": "CC2hR4w_4IzC"
   },
   "source": [
    "Once again, we use the function `difference_p_value` to estimate the p-value."
   ]
  },
  {
   "cell_type": "code",
   "execution_count": 53,
   "metadata": {
    "id": "x2vlIMNc3h5W"
   },
   "outputs": [],
   "source": [
    "p_values = difference_p_value(all_diff)"
   ]
  },
  {
   "cell_type": "markdown",
   "metadata": {
    "id": "192xc-_24chZ"
   },
   "source": [
    "And we can analyze from all pairs of systems individually which ones have significantly different performances by comparing their p-value with $\\alpha$."
   ]
  },
  {
   "cell_type": "code",
   "execution_count": 54,
   "metadata": {
    "colab": {
     "base_uri": "https://localhost:8080/"
    },
    "id": "l5hRhylS3jh2",
    "outputId": "b06cbf00-2d24-4714-e749-6210b2d96001"
   },
   "outputs": [
    {
     "data": {
      "text/plain": [
       "{'NLP-CIC - CIMAT-MTY-GTO': 0.1599,\n",
       " 'NLP-CIC - DCCD-INFOTEC': 0.0305,\n",
       " 'NLP-CIC - CIMAT-GTO': 0.0043,\n",
       " 'NLP-CIC - UMUTeam': 0.0008,\n",
       " 'NLP-CIC - Timen': 0.0,\n",
       " 'NLP-CIC - CIC-IPN': 0.0,\n",
       " 'NLP-CIC - xjywing': 0.0,\n",
       " 'NLP-CIC - aomar': 0.0,\n",
       " 'NLP-CIC - CEN-Amrita': 0.0,\n",
       " 'CIMAT-MTY-GTO - DCCD-INFOTEC': 0.109,\n",
       " 'CIMAT-MTY-GTO - CIMAT-GTO': 0.017,\n",
       " 'CIMAT-MTY-GTO - UMUTeam': 0.0057,\n",
       " 'CIMAT-MTY-GTO - Timen': 0.0,\n",
       " 'CIMAT-MTY-GTO - CIC-IPN': 0.0,\n",
       " 'CIMAT-MTY-GTO - xjywing': 0.0,\n",
       " 'CIMAT-MTY-GTO - aomar': 0.0,\n",
       " 'CIMAT-MTY-GTO - CEN-Amrita': 0.0,\n",
       " 'DCCD-INFOTEC - CIMAT-GTO': 0.3573,\n",
       " 'DCCD-INFOTEC - UMUTeam': 0.1709,\n",
       " 'DCCD-INFOTEC - Timen': 0.0,\n",
       " 'DCCD-INFOTEC - CIC-IPN': 0.0,\n",
       " 'DCCD-INFOTEC - xjywing': 0.0,\n",
       " 'DCCD-INFOTEC - aomar': 0.0,\n",
       " 'DCCD-INFOTEC - CEN-Amrita': 0.0,\n",
       " 'CIMAT-GTO - UMUTeam': 0.2375,\n",
       " 'CIMAT-GTO - Timen': 0.0,\n",
       " 'CIMAT-GTO - CIC-IPN': 0.0,\n",
       " 'CIMAT-GTO - xjywing': 0.0,\n",
       " 'CIMAT-GTO - aomar': 0.0,\n",
       " 'CIMAT-GTO - CEN-Amrita': 0.0,\n",
       " 'UMUTeam - Timen': 0.0,\n",
       " 'UMUTeam - CIC-IPN': 0.0001,\n",
       " 'UMUTeam - xjywing': 0.0,\n",
       " 'UMUTeam - aomar': 0.0,\n",
       " 'UMUTeam - CEN-Amrita': 0.0,\n",
       " 'Timen - CIC-IPN': 0.4473,\n",
       " 'Timen - xjywing': 0.0,\n",
       " 'Timen - aomar': 0.0,\n",
       " 'Timen - CEN-Amrita': 0.0,\n",
       " 'CIC-IPN - xjywing': 0.0,\n",
       " 'CIC-IPN - aomar': 0.0,\n",
       " 'CIC-IPN - CEN-Amrita': 0.0,\n",
       " 'xjywing - aomar': 0.0001,\n",
       " 'xjywing - CEN-Amrita': 0.0,\n",
       " 'aomar - CEN-Amrita': 0.2037}"
      ]
     },
     "execution_count": 54,
     "metadata": {},
     "output_type": "execute_result"
    }
   ],
   "source": [
    "p_values"
   ]
  },
  {
   "cell_type": "code",
   "execution_count": 60,
   "metadata": {},
   "outputs": [
    {
     "data": {
      "text/plain": [
       "{'NLP-CIC - CIMAT-MTY-GTO': 0.16,\n",
       " 'NLP-CIC - DCCD-INFOTEC': 0.03,\n",
       " 'NLP-CIC - CIMAT-GTO': 0.004,\n",
       " 'NLP-CIC - UMUTeam': 0.001,\n",
       " 'NLP-CIC - Timen': 0.0,\n",
       " 'NLP-CIC - CIC-IPN': 0.0,\n",
       " 'NLP-CIC - xjywing': 0.0,\n",
       " 'NLP-CIC - aomar': 0.0,\n",
       " 'NLP-CIC - CEN-Amrita': 0.0,\n",
       " 'CIMAT-MTY-GTO - DCCD-INFOTEC': 0.109,\n",
       " 'CIMAT-MTY-GTO - CIMAT-GTO': 0.017,\n",
       " 'CIMAT-MTY-GTO - UMUTeam': 0.006,\n",
       " 'CIMAT-MTY-GTO - Timen': 0.0,\n",
       " 'CIMAT-MTY-GTO - CIC-IPN': 0.0,\n",
       " 'CIMAT-MTY-GTO - xjywing': 0.0,\n",
       " 'CIMAT-MTY-GTO - aomar': 0.0,\n",
       " 'CIMAT-MTY-GTO - CEN-Amrita': 0.0,\n",
       " 'DCCD-INFOTEC - CIMAT-GTO': 0.357,\n",
       " 'DCCD-INFOTEC - UMUTeam': 0.171,\n",
       " 'DCCD-INFOTEC - Timen': 0.0,\n",
       " 'DCCD-INFOTEC - CIC-IPN': 0.0,\n",
       " 'DCCD-INFOTEC - xjywing': 0.0,\n",
       " 'DCCD-INFOTEC - aomar': 0.0,\n",
       " 'DCCD-INFOTEC - CEN-Amrita': 0.0,\n",
       " 'CIMAT-GTO - UMUTeam': 0.238,\n",
       " 'CIMAT-GTO - Timen': 0.0,\n",
       " 'CIMAT-GTO - CIC-IPN': 0.0,\n",
       " 'CIMAT-GTO - xjywing': 0.0,\n",
       " 'CIMAT-GTO - aomar': 0.0,\n",
       " 'CIMAT-GTO - CEN-Amrita': 0.0,\n",
       " 'UMUTeam - Timen': 0.0,\n",
       " 'UMUTeam - CIC-IPN': 0.0,\n",
       " 'UMUTeam - xjywing': 0.0,\n",
       " 'UMUTeam - aomar': 0.0,\n",
       " 'UMUTeam - CEN-Amrita': 0.0,\n",
       " 'Timen - CIC-IPN': 0.447,\n",
       " 'Timen - xjywing': 0.0,\n",
       " 'Timen - aomar': 0.0,\n",
       " 'Timen - CEN-Amrita': 0.0,\n",
       " 'CIC-IPN - xjywing': 0.0,\n",
       " 'CIC-IPN - aomar': 0.0,\n",
       " 'CIC-IPN - CEN-Amrita': 0.0,\n",
       " 'xjywing - aomar': 0.0,\n",
       " 'xjywing - CEN-Amrita': 0.0,\n",
       " 'aomar - CEN-Amrita': 0.204}"
      ]
     },
     "execution_count": 60,
     "metadata": {},
     "output_type": "execute_result"
    }
   ],
   "source": [
    "{k: round(v, 3) for k, v in p_values.items()}\n"
   ]
  },
  {
   "cell_type": "code",
   "execution_count": 62,
   "metadata": {},
   "outputs": [
    {
     "name": "stdout",
     "output_type": "stream",
     "text": [
      "0.000 0.000 0.109 0.000 0.000 0.000 0.160 0.006 0.000 0.017\n",
      "0.000 0.000 0.000 0.204 0.000 0.000 0.000 0.000 0.000 0.000\n",
      "0.109 0.000 0.000 0.000 0.000 0.000 0.030 0.171 0.000 0.357\n",
      "0.000 0.204 0.000 0.000 0.000 0.000 0.000 0.000 0.000 0.000\n",
      "0.000 0.000 0.000 0.000 0.000 0.447 0.000 0.000 0.000 0.000\n",
      "0.000 0.000 0.000 0.000 0.447 0.000 0.000 0.000 0.000 0.000\n",
      "0.160 0.000 0.030 0.000 0.000 0.000 0.000 0.001 0.000 0.004\n",
      "0.006 0.000 0.171 0.000 0.000 0.000 0.001 0.000 0.000 0.237\n",
      "0.000 0.000 0.000 0.000 0.000 0.000 0.000 0.000 0.000 0.000\n",
      "0.017 0.000 0.357 0.000 0.000 0.000 0.004 0.237 0.000 0.000\n"
     ]
    }
   ],
   "source": [
    "teams = list(set([team for pair in p_values.keys() for team in pair.split(' - ') if '-' in pair]))\n",
    "n = len(teams)\n",
    "matrix = [[0.0 for _ in range(n)] for _ in range(n)]\n",
    "\n",
    "for key, value in p_values.items():\n",
    "    if '-' in key:\n",
    "        team1, team2 = key.split(' - ')\n",
    "        i, j = teams.index(team1), teams.index(team2)\n",
    "        matrix[i][j] = value\n",
    "        matrix[j][i] = value\n",
    "\n",
    "for row in matrix:\n",
    "    print(' '.join(f'{x:.3f}' for x in row))"
   ]
  },
  {
   "cell_type": "markdown",
   "metadata": {
    "id": "NS3RHI9SkMtu"
   },
   "source": [
    "When conducting numerous comparisons or hypothesis tests on a dataset, the risk of incurring Type I errors (incorrectly dismissing a valid null hypothesis) increases. This happens because more tests performed increase the probability of randomly identifying statistically significant outcomes. Implementing adjustments for multiple comparisons is critical for several reasons: (1) To manage the risk of Type I Error, (2) To prevent erroneous conclusions, and (3) To uphold the integrity of the research.\n",
    "\n",
    "The following code illustrates the effect of these methods for multiple comparison corrections. The function `multipletests` makes the p-value correction by selecting the parameter `method`. In this example, the Bonferroni correction method is used."
   ]
  },
  {
   "cell_type": "code",
   "execution_count": 55,
   "metadata": {
    "id": "V1J_cqfdkMtu"
   },
   "outputs": [],
   "source": [
    "result = multipletests(list(p_values.values()), method='bonferroni')"
   ]
  },
  {
   "cell_type": "markdown",
   "metadata": {
    "id": "e2myRaBo6mPf"
   },
   "source": [
    "`result` is an array; next, we convert it back into a dictionary."
   ]
  },
  {
   "cell_type": "code",
   "execution_count": 56,
   "metadata": {
    "id": "MSaGBndz6G6t"
   },
   "outputs": [],
   "source": [
    "p_valuesC = dict(zip(p_values.keys(),result[1]))"
   ]
  },
  {
   "cell_type": "markdown",
   "metadata": {
    "id": "FY-9W45Q7nId"
   },
   "source": [
    "And we can analyze from all pairs of systems simunstally which ones have significantly different performances by comparing their p-value with $\\alpha$."
   ]
  },
  {
   "cell_type": "code",
   "execution_count": 57,
   "metadata": {
    "colab": {
     "base_uri": "https://localhost:8080/"
    },
    "id": "SKiKx3GU6IlN",
    "outputId": "94dd212d-dcae-4ec3-92f0-7397f5bd91a7"
   },
   "outputs": [
    {
     "data": {
      "text/plain": [
       "{'NLP-CIC - CIMAT-MTY-GTO': 1.0,\n",
       " 'NLP-CIC - DCCD-INFOTEC': 1.0,\n",
       " 'NLP-CIC - CIMAT-GTO': 0.1935,\n",
       " 'NLP-CIC - UMUTeam': 0.036000000000000004,\n",
       " 'NLP-CIC - Timen': 0.0,\n",
       " 'NLP-CIC - CIC-IPN': 0.0,\n",
       " 'NLP-CIC - xjywing': 0.0,\n",
       " 'NLP-CIC - aomar': 0.0,\n",
       " 'NLP-CIC - CEN-Amrita': 0.0,\n",
       " 'CIMAT-MTY-GTO - DCCD-INFOTEC': 1.0,\n",
       " 'CIMAT-MTY-GTO - CIMAT-GTO': 0.765,\n",
       " 'CIMAT-MTY-GTO - UMUTeam': 0.2565,\n",
       " 'CIMAT-MTY-GTO - Timen': 0.0,\n",
       " 'CIMAT-MTY-GTO - CIC-IPN': 0.0,\n",
       " 'CIMAT-MTY-GTO - xjywing': 0.0,\n",
       " 'CIMAT-MTY-GTO - aomar': 0.0,\n",
       " 'CIMAT-MTY-GTO - CEN-Amrita': 0.0,\n",
       " 'DCCD-INFOTEC - CIMAT-GTO': 1.0,\n",
       " 'DCCD-INFOTEC - UMUTeam': 1.0,\n",
       " 'DCCD-INFOTEC - Timen': 0.0,\n",
       " 'DCCD-INFOTEC - CIC-IPN': 0.0,\n",
       " 'DCCD-INFOTEC - xjywing': 0.0,\n",
       " 'DCCD-INFOTEC - aomar': 0.0,\n",
       " 'DCCD-INFOTEC - CEN-Amrita': 0.0,\n",
       " 'CIMAT-GTO - UMUTeam': 1.0,\n",
       " 'CIMAT-GTO - Timen': 0.0,\n",
       " 'CIMAT-GTO - CIC-IPN': 0.0,\n",
       " 'CIMAT-GTO - xjywing': 0.0,\n",
       " 'CIMAT-GTO - aomar': 0.0,\n",
       " 'CIMAT-GTO - CEN-Amrita': 0.0,\n",
       " 'UMUTeam - Timen': 0.0,\n",
       " 'UMUTeam - CIC-IPN': 0.0045000000000000005,\n",
       " 'UMUTeam - xjywing': 0.0,\n",
       " 'UMUTeam - aomar': 0.0,\n",
       " 'UMUTeam - CEN-Amrita': 0.0,\n",
       " 'Timen - CIC-IPN': 1.0,\n",
       " 'Timen - xjywing': 0.0,\n",
       " 'Timen - aomar': 0.0,\n",
       " 'Timen - CEN-Amrita': 0.0,\n",
       " 'CIC-IPN - xjywing': 0.0,\n",
       " 'CIC-IPN - aomar': 0.0,\n",
       " 'CIC-IPN - CEN-Amrita': 0.0,\n",
       " 'xjywing - aomar': 0.0045000000000000005,\n",
       " 'xjywing - CEN-Amrita': 0.0,\n",
       " 'aomar - CEN-Amrita': 1.0}"
      ]
     },
     "execution_count": 57,
     "metadata": {},
     "output_type": "execute_result"
    }
   ],
   "source": [
    "p_valuesC"
   ]
  }
 ],
 "metadata": {
  "colab": {
   "provenance": []
  },
  "kernelspec": {
   "display_name": "Python 3 (ipykernel)",
   "language": "python",
   "name": "python3"
  },
  "language_info": {
   "codemirror_mode": {
    "name": "ipython",
    "version": 3
   },
   "file_extension": ".py",
   "mimetype": "text/x-python",
   "name": "python",
   "nbconvert_exporter": "python",
   "pygments_lexer": "ipython3",
   "version": "3.11.9"
  }
 },
 "nbformat": 4,
 "nbformat_minor": 4
}
