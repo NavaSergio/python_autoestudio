{
 "cells": [
  {
   "cell_type": "markdown",
   "metadata": {},
   "source": [
    "# Experimento\n",
    "\n",
    "El propósito de este experimento es encontrar una situación en la que de tres experimentos que tienen un rendimiento similar, al obtener diferencias con el \"ganador\" o \"más alto desempeño\" las diferencias con el más cercano competidor son significativas pero con el tercer competidor no lo son."
   ]
  },
  {
   "cell_type": "code",
   "execution_count": 1,
   "metadata": {},
   "outputs": [],
   "source": [
    "import numpy as np\n",
    "import pandas as pd\n",
    "from sklearn.metrics import confusion_matrix, classification_report\n",
    "from CompStats import performance, plot_performance\n",
    "from CompStats import difference, plot_difference\n",
    "from sklearn.metrics import f1_score"
   ]
  },
  {
   "cell_type": "code",
   "execution_count": 2,
   "metadata": {},
   "outputs": [],
   "source": [
    "# La siguiente función da como salida una copia del vector de entrada, alterando aleatoriamente una proporcion \"prop\" de los valores de entrada.\n",
    "# la función está pensada en valor 0 y 1.\n",
    "def alterar_vector(vector, prop):\n",
    "    # Número total de elementos a modificar\n",
    "    n_alterar = int(len(vector) * prop)\n",
    "    \n",
    "    # Índices aleatorios de los elementos a modificar\n",
    "    indices_a_modificar = np.random.choice(len(vector), size=n_alterar, replace=False)\n",
    "    \n",
    "    # Alterar los valores en los índices seleccionados\n",
    "    vector_modificado = vector.copy()\n",
    "    vector_modificado[indices_a_modificar] = 1 - vector_modificado[indices_a_modificar]\n",
    "    \n",
    "    return vector_modificado\n"
   ]
  },
  {
   "cell_type": "markdown",
   "metadata": {},
   "source": [
    "## Parámetros del experimento\n",
    "Los parámetros utilizados son:\n",
    "\n",
    "$n$ es el número de valores del dataset.\n"
   ]
  },
  {
   "cell_type": "code",
   "execution_count": 3,
   "metadata": {},
   "outputs": [],
   "source": [
    "\n",
    "# Parámetros\n",
    "n = 500\n",
    "prob_1_col1 = 0.6\n",
    "prob_1_col2_given_col1_1 = 0.8\n",
    "prob_1_col2_given_col1_0 = 0.3\n"
   ]
  },
  {
   "cell_type": "code",
   "execution_count": 4,
   "metadata": {},
   "outputs": [
    {
     "name": "stdout",
     "output_type": "stream",
     "text": [
      "   Sexo  y  pred1  pred2  pred3\n",
      "0     1  1      1      1      1\n",
      "1     0  0      1      1      1\n",
      "2     0  0      0      1      0\n",
      "3     1  1      1      1      0\n",
      "4     1  1      1      1      1\n"
     ]
    }
   ],
   "source": [
    "np.random.seed(0)\n",
    "# Generar la primera columna con 60% de 1's y 40% de 0's\n",
    "col1 = np.random.choice([1, 0], size=n, p=[prob_1_col1, 1-prob_1_col1])\n",
    "\n",
    "# Generar la segunda columna basada en la primera\n",
    "col2 = np.array([\n",
    "    np.random.choice([1, 0], p=[prob_1_col2_given_col1_1, 1-prob_1_col2_given_col1_1]) if val == 1 \n",
    "    else np.random.choice([1, 0], p=[prob_1_col2_given_col1_0, 1-prob_1_col2_given_col1_0]) \n",
    "    for val in col1\n",
    "])\n",
    "col3 = np.array([\n",
    "    np.random.choice([1, 0], p=[prob_1_col2_given_col1_1, 1-prob_1_col2_given_col1_1]) if val == 1 \n",
    "    else np.random.choice([1, 0], p=[prob_1_col2_given_col1_0, 1-prob_1_col2_given_col1_0]) \n",
    "    for val in col1\n",
    "])\n",
    "\n",
    "col4 = alterar_vector(col3,0.08)\n",
    "col5 = alterar_vector(col2,0.36)\n",
    "\n",
    "# Crear el DataFrame\n",
    "dforiginal = pd.DataFrame({'Sexo': col1, 'y': col2, 'pred1': col3,'pred2': col4,'pred3': col5})\n",
    "\n",
    "# Mostrar el DataFrame\n",
    "print(dforiginal.head())\n",
    "\n",
    "\n"
   ]
  },
  {
   "cell_type": "code",
   "execution_count": 5,
   "metadata": {},
   "outputs": [
    {
     "data": {
      "text/plain": [
       "array([[188,  19],\n",
       "       [ 21, 272]])"
      ]
     },
     "execution_count": 5,
     "metadata": {},
     "output_type": "execute_result"
    }
   ],
   "source": [
    "confusion_matrix(col3,col4)"
   ]
  },
  {
   "cell_type": "code",
   "execution_count": 20,
   "metadata": {},
   "outputs": [
    {
     "name": "stdout",
     "output_type": "stream",
     "text": [
      "              precision    recall  f1-score   support\n",
      "\n",
      "           0       0.57      0.58      0.57       204\n",
      "           1       0.71      0.70      0.70       296\n",
      "\n",
      "    accuracy                           0.65       500\n",
      "   macro avg       0.64      0.64      0.64       500\n",
      "weighted avg       0.65      0.65      0.65       500\n",
      "\n",
      "              precision    recall  f1-score   support\n",
      "\n",
      "           0       0.53      0.54      0.53       204\n",
      "           1       0.68      0.67      0.67       296\n",
      "\n",
      "    accuracy                           0.61       500\n",
      "   macro avg       0.60      0.60      0.60       500\n",
      "weighted avg       0.62      0.61      0.61       500\n",
      "\n",
      "              precision    recall  f1-score   support\n",
      "\n",
      "           0       0.55      0.67      0.60       204\n",
      "           1       0.73      0.62      0.67       296\n",
      "\n",
      "    accuracy                           0.64       500\n",
      "   macro avg       0.64      0.64      0.64       500\n",
      "weighted avg       0.66      0.64      0.64       500\n",
      "\n"
     ]
    }
   ],
   "source": [
    "print(classification_report(dforiginal.y,dforiginal.pred1))\n",
    "print(classification_report(dforiginal.y,dforiginal.pred2))\n",
    "print(classification_report(dforiginal.y,dforiginal.pred3))"
   ]
  },
  {
   "cell_type": "code",
   "execution_count": 7,
   "metadata": {},
   "outputs": [],
   "source": []
  },
  {
   "cell_type": "code",
   "execution_count": 8,
   "metadata": {},
   "outputs": [],
   "source": [
    "df = dforiginal.iloc[:,1:]"
   ]
  },
  {
   "cell_type": "code",
   "execution_count": 9,
   "metadata": {},
   "outputs": [],
   "source": [
    "score = lambda y, hy: f1_score(y, hy)"
   ]
  },
  {
   "cell_type": "code",
   "execution_count": 10,
   "metadata": {},
   "outputs": [],
   "source": [
    "perf = performance(df, score=score,num_samples=1000)"
   ]
  },
  {
   "cell_type": "code",
   "execution_count": 11,
   "metadata": {},
   "outputs": [
    {
     "data": {
      "image/png": "[encoded data removed]",
      "text/plain": [
       "<Figure size 511.111x500 with 1 Axes>"
      ]
     },
     "metadata": {},
     "output_type": "display_data"
    }
   ],
   "source": [
    "face_grid = plot_performance(perf)"
   ]
  },
  {
   "cell_type": "code",
   "execution_count": 12,
   "metadata": {},
   "outputs": [
    {
     "data": {
      "text/plain": [
       "{'best': 'pred1'}"
      ]
     },
     "execution_count": 12,
     "metadata": {},
     "output_type": "execute_result"
    }
   ],
   "source": [
    "diff = difference(perf)\n",
    "diff.info"
   ]
  },
  {
   "cell_type": "code",
   "execution_count": 13,
   "metadata": {},
   "outputs": [
    {
     "data": {
      "image/png": "[encoded data removed]",
      "text/plain": [
       "<Figure size 584.875x500 with 1 Axes>"
      ]
     },
     "metadata": {},
     "output_type": "display_data"
    }
   ],
   "source": [
    "face_grid_diff = plot_difference(diff)"
   ]
  },
  {
   "cell_type": "code",
   "execution_count": 21,
   "metadata": {},
   "outputs": [
    {
     "data": {
      "text/html": [
       "<div>\n",
       "<style scoped>\n",
       "    .dataframe tbody tr th:only-of-type {\n",
       "        vertical-align: middle;\n",
       "    }\n",
       "\n",
       "    .dataframe tbody tr th {\n",
       "        vertical-align: top;\n",
       "    }\n",
       "\n",
       "    .dataframe thead th {\n",
       "        text-align: right;\n",
       "    }\n",
       "</style>\n",
       "<table border=\"1\" class=\"dataframe\">\n",
       "  <thead>\n",
       "    <tr style=\"text-align: right;\">\n",
       "      <th>y</th>\n",
       "      <th>0</th>\n",
       "      <th>1</th>\n",
       "    </tr>\n",
       "    <tr>\n",
       "      <th>Sexo</th>\n",
       "      <th></th>\n",
       "      <th></th>\n",
       "    </tr>\n",
       "  </thead>\n",
       "  <tbody>\n",
       "    <tr>\n",
       "      <th>0</th>\n",
       "      <td>142</td>\n",
       "      <td>54</td>\n",
       "    </tr>\n",
       "    <tr>\n",
       "      <th>1</th>\n",
       "      <td>62</td>\n",
       "      <td>242</td>\n",
       "    </tr>\n",
       "  </tbody>\n",
       "</table>\n",
       "</div>"
      ],
      "text/plain": [
       "y       0    1\n",
       "Sexo          \n",
       "0     142   54\n",
       "1      62  242"
      ]
     },
     "execution_count": 21,
     "metadata": {},
     "output_type": "execute_result"
    }
   ],
   "source": [
    "pd.crosstab(dforiginal.Sexo,dforiginal.y)"
   ]
  },
  {
   "cell_type": "code",
   "execution_count": 15,
   "metadata": {},
   "outputs": [
    {
     "data": {
      "text/html": [
       "<div>\n",
       "<style scoped>\n",
       "    .dataframe tbody tr th:only-of-type {\n",
       "        vertical-align: middle;\n",
       "    }\n",
       "\n",
       "    .dataframe tbody tr th {\n",
       "        vertical-align: top;\n",
       "    }\n",
       "\n",
       "    .dataframe thead th {\n",
       "        text-align: right;\n",
       "    }\n",
       "</style>\n",
       "<table border=\"1\" class=\"dataframe\">\n",
       "  <thead>\n",
       "    <tr style=\"text-align: right;\">\n",
       "      <th>y</th>\n",
       "      <th>0</th>\n",
       "      <th>1</th>\n",
       "    </tr>\n",
       "    <tr>\n",
       "      <th>Sexo</th>\n",
       "      <th></th>\n",
       "      <th></th>\n",
       "    </tr>\n",
       "  </thead>\n",
       "  <tbody>\n",
       "    <tr>\n",
       "      <th>0</th>\n",
       "      <td>0.724490</td>\n",
       "      <td>0.275510</td>\n",
       "    </tr>\n",
       "    <tr>\n",
       "      <th>1</th>\n",
       "      <td>0.203947</td>\n",
       "      <td>0.796053</td>\n",
       "    </tr>\n",
       "  </tbody>\n",
       "</table>\n",
       "</div>"
      ],
      "text/plain": [
       "y            0         1\n",
       "Sexo                    \n",
       "0     0.724490  0.275510\n",
       "1     0.203947  0.796053"
      ]
     },
     "execution_count": 15,
     "metadata": {},
     "output_type": "execute_result"
    }
   ],
   "source": [
    "pd.crosstab(dforiginal.Sexo,dforiginal.y,normalize='index')"
   ]
  },
  {
   "cell_type": "code",
   "execution_count": 16,
   "metadata": {},
   "outputs": [
    {
     "data": {
      "text/html": [
       "<div>\n",
       "<style scoped>\n",
       "    .dataframe tbody tr th:only-of-type {\n",
       "        vertical-align: middle;\n",
       "    }\n",
       "\n",
       "    .dataframe tbody tr th {\n",
       "        vertical-align: top;\n",
       "    }\n",
       "\n",
       "    .dataframe thead th {\n",
       "        text-align: right;\n",
       "    }\n",
       "</style>\n",
       "<table border=\"1\" class=\"dataframe\">\n",
       "  <thead>\n",
       "    <tr style=\"text-align: right;\">\n",
       "      <th>pred1</th>\n",
       "      <th>0</th>\n",
       "      <th>1</th>\n",
       "    </tr>\n",
       "    <tr>\n",
       "      <th>Sexo</th>\n",
       "      <th></th>\n",
       "      <th></th>\n",
       "    </tr>\n",
       "  </thead>\n",
       "  <tbody>\n",
       "    <tr>\n",
       "      <th>0</th>\n",
       "      <td>0.724490</td>\n",
       "      <td>0.275510</td>\n",
       "    </tr>\n",
       "    <tr>\n",
       "      <th>1</th>\n",
       "      <td>0.213816</td>\n",
       "      <td>0.786184</td>\n",
       "    </tr>\n",
       "  </tbody>\n",
       "</table>\n",
       "</div>"
      ],
      "text/plain": [
       "pred1         0         1\n",
       "Sexo                     \n",
       "0      0.724490  0.275510\n",
       "1      0.213816  0.786184"
      ]
     },
     "execution_count": 16,
     "metadata": {},
     "output_type": "execute_result"
    }
   ],
   "source": [
    "pd.crosstab(dforiginal.Sexo,dforiginal.pred1,normalize='index')"
   ]
  },
  {
   "cell_type": "code",
   "execution_count": 17,
   "metadata": {},
   "outputs": [
    {
     "data": {
      "text/html": [
       "<div>\n",
       "<style scoped>\n",
       "    .dataframe tbody tr th:only-of-type {\n",
       "        vertical-align: middle;\n",
       "    }\n",
       "\n",
       "    .dataframe tbody tr th {\n",
       "        vertical-align: top;\n",
       "    }\n",
       "\n",
       "    .dataframe thead th {\n",
       "        text-align: right;\n",
       "    }\n",
       "</style>\n",
       "<table border=\"1\" class=\"dataframe\">\n",
       "  <thead>\n",
       "    <tr style=\"text-align: right;\">\n",
       "      <th>pred2</th>\n",
       "      <th>0</th>\n",
       "      <th>1</th>\n",
       "    </tr>\n",
       "    <tr>\n",
       "      <th>Sexo</th>\n",
       "      <th></th>\n",
       "      <th></th>\n",
       "    </tr>\n",
       "  </thead>\n",
       "  <tbody>\n",
       "    <tr>\n",
       "      <th>0</th>\n",
       "      <td>0.683673</td>\n",
       "      <td>0.316327</td>\n",
       "    </tr>\n",
       "    <tr>\n",
       "      <th>1</th>\n",
       "      <td>0.246711</td>\n",
       "      <td>0.753289</td>\n",
       "    </tr>\n",
       "  </tbody>\n",
       "</table>\n",
       "</div>"
      ],
      "text/plain": [
       "pred2         0         1\n",
       "Sexo                     \n",
       "0      0.683673  0.316327\n",
       "1      0.246711  0.753289"
      ]
     },
     "execution_count": 17,
     "metadata": {},
     "output_type": "execute_result"
    }
   ],
   "source": [
    "pd.crosstab(dforiginal.Sexo,dforiginal.pred2,normalize='index')"
   ]
  },
  {
   "cell_type": "code",
   "execution_count": 18,
   "metadata": {},
   "outputs": [
    {
     "data": {
      "text/html": [
       "<div>\n",
       "<style scoped>\n",
       "    .dataframe tbody tr th:only-of-type {\n",
       "        vertical-align: middle;\n",
       "    }\n",
       "\n",
       "    .dataframe tbody tr th {\n",
       "        vertical-align: top;\n",
       "    }\n",
       "\n",
       "    .dataframe thead th {\n",
       "        text-align: right;\n",
       "    }\n",
       "</style>\n",
       "<table border=\"1\" class=\"dataframe\">\n",
       "  <thead>\n",
       "    <tr style=\"text-align: right;\">\n",
       "      <th>pred3</th>\n",
       "      <th>0</th>\n",
       "      <th>1</th>\n",
       "    </tr>\n",
       "    <tr>\n",
       "      <th>Sexo</th>\n",
       "      <th></th>\n",
       "      <th></th>\n",
       "    </tr>\n",
       "  </thead>\n",
       "  <tbody>\n",
       "    <tr>\n",
       "      <th>0</th>\n",
       "      <td>0.551020</td>\n",
       "      <td>0.448980</td>\n",
       "    </tr>\n",
       "    <tr>\n",
       "      <th>1</th>\n",
       "      <td>0.460526</td>\n",
       "      <td>0.539474</td>\n",
       "    </tr>\n",
       "  </tbody>\n",
       "</table>\n",
       "</div>"
      ],
      "text/plain": [
       "pred3         0         1\n",
       "Sexo                     \n",
       "0      0.551020  0.448980\n",
       "1      0.460526  0.539474"
      ]
     },
     "execution_count": 18,
     "metadata": {},
     "output_type": "execute_result"
    }
   ],
   "source": [
    "pd.crosstab(dforiginal.Sexo,dforiginal.pred3,normalize='index')"
   ]
  }
 ],
 "metadata": {
  "kernelspec": {
   "display_name": "Python 3",
   "language": "python",
   "name": "python3"
  },
  "language_info": {
   "codemirror_mode": {
    "name": "ipython",
    "version": 3
   },
   "file_extension": ".py",
   "mimetype": "text/x-python",
   "name": "python",
   "nbconvert_exporter": "python",
   "pygments_lexer": "ipython3",
   "version": "3.11.7"
  }
 },
 "nbformat": 4,
 "nbformat_minor": 2
}
