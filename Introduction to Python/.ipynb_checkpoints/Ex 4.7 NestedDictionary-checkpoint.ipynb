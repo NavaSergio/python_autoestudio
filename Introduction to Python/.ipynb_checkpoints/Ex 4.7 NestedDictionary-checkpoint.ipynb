{
 "cells": [
  {
   "cell_type": "code",
   "execution_count": 1,
   "id": "4a344d68",
   "metadata": {},
   "outputs": [
    {
     "name": "stdout",
     "output_type": "stream",
     "text": [
      "{1: {'name': 'Jhon', 'age': '27', 'sex': 'Male'}, 2: {'name': 'Marie', 'age': '22', 'sex': 'Female'}}\n",
      "Jhon\n",
      "27\n",
      "Male\n"
     ]
    }
   ],
   "source": [
    "# Declaring and defining a nested dictionary\n",
    "people = {1:{'name':'Jhon','age':'27','sex':'Male'},\n",
    "         2:{'name':'Marie','age':'22','sex':'Female'}}\n",
    "\n",
    "print(people)\n",
    "\n",
    "# Accessing elements of the dictionary\n",
    "\n",
    "print(people[1]['name'])\n",
    "print(people[1]['age'])\n",
    "print(people[1]['sex'])"
   ]
  },
  {
   "cell_type": "code",
   "execution_count": 2,
   "id": "7d3c40a8",
   "metadata": {},
   "outputs": [
    {
     "name": "stdout",
     "output_type": "stream",
     "text": [
      "{1: {'name': 'Jhon', 'age': '27', 'sex': 'Male'}, 2: {'name': 'Marie', 'age': '22', 'sex': 'Female'}, 3: {'name': 'Luna', 'age': '24', 'sex': 'Female', 'married': 'No'}}\n"
     ]
    }
   ],
   "source": [
    "people[3]={}\n",
    "# Adding elements to a Dictionary\n",
    "\n",
    "people[3]['name'] = 'Luna'\n",
    "people[3]['age'] = '24'\n",
    "people[3]['sex'] = 'Female'\n",
    "people[3]['married'] = 'No'\n",
    "\n",
    "print(people)"
   ]
  },
  {
   "cell_type": "code",
   "execution_count": 3,
   "id": "d183c969",
   "metadata": {},
   "outputs": [
    {
     "name": "stdout",
     "output_type": "stream",
     "text": [
      "{'name': 'Petter', 'age': '29', 'sex': 'Male', 'married': 'Yes'}\n",
      "{1: {'name': 'Jhon', 'age': '27', 'sex': 'Male'}, 2: {'name': 'Marie', 'age': '22', 'sex': 'Female'}, 3: {'name': 'Luna', 'age': '24', 'sex': 'Female', 'married': 'No'}, 4: {'name': 'Petter', 'age': '29', 'sex': 'Male', 'married': 'Yes'}}\n"
     ]
    }
   ],
   "source": [
    "people[4] = {'name':'Petter','age':'29','sex':'Male','married':'Yes'}\n",
    "print(people[4])\n",
    "\n",
    "print(people)"
   ]
  },
  {
   "cell_type": "code",
   "execution_count": 4,
   "id": "4b357157",
   "metadata": {},
   "outputs": [
    {
     "name": "stdout",
     "output_type": "stream",
     "text": [
      "{'name': 'Luna', 'age': '24', 'sex': 'Female', 'married': 'No'}\n",
      "{'name': 'Petter', 'age': '29', 'sex': 'Male', 'married': 'Yes'}\n",
      "{'name': 'Luna', 'age': '24', 'sex': 'Female'}\n",
      "{'name': 'Petter', 'age': '29', 'sex': 'Male'}\n"
     ]
    }
   ],
   "source": [
    "print(people[3])\n",
    "print(people[4])\n",
    "\n",
    "del people[3]['married']\n",
    "del people[4]['married']\n",
    "\n",
    "print(people[3])\n",
    "print(people[4])\n"
   ]
  },
  {
   "cell_type": "code",
   "execution_count": 5,
   "id": "fc027a67",
   "metadata": {},
   "outputs": [
    {
     "name": "stdout",
     "output_type": "stream",
     "text": [
      "{1: {'name': 'Jhon', 'age': '27', 'sex': 'Male'}, 2: {'name': 'Marie', 'age': '22', 'sex': 'Female'}, 3: {'name': 'Luna', 'age': '24', 'sex': 'Female'}, 4: {'name': 'Petter', 'age': '29', 'sex': 'Male'}}\n",
      "{1: {'name': 'Jhon', 'age': '27', 'sex': 'Male'}, 2: {'name': 'Marie', 'age': '22', 'sex': 'Female'}}\n"
     ]
    }
   ],
   "source": [
    "print(people)\n",
    "\n",
    "del people[3],people[4]\n",
    "print(people)"
   ]
  },
  {
   "cell_type": "code",
   "execution_count": 6,
   "id": "05864f43",
   "metadata": {},
   "outputs": [
    {
     "name": "stdout",
     "output_type": "stream",
     "text": [
      "dict_items([(1, {'name': 'Jhon', 'age': '27', 'sex': 'Male'}), (2, {'name': 'Marie', 'age': '22', 'sex': 'Female'})])\n",
      "\n",
      "Person ID: 1\n",
      "name: Jhon\n",
      "age: 27\n",
      "sex: Male\n",
      "\n",
      "Person ID: 2\n",
      "name: Marie\n",
      "age: 22\n",
      "sex: Female\n"
     ]
    }
   ],
   "source": [
    "# Iterating through a nested dictionary\n",
    "print(people.items())\n",
    "\n",
    "for p_id,p_info in people.items():\n",
    "    print(\"\\nPerson ID:\",p_id)\n",
    "    \n",
    "    for key in p_info:\n",
    "        print(key + ':',p_info[key])"
   ]
  },
  {
   "cell_type": "code",
   "execution_count": null,
   "id": "f925de26",
   "metadata": {},
   "outputs": [],
   "source": []
  }
 ],
 "metadata": {
  "kernelspec": {
   "display_name": "Python 3 (ipykernel)",
   "language": "python",
   "name": "python3"
  },
  "language_info": {
   "codemirror_mode": {
    "name": "ipython",
    "version": 3
   },
   "file_extension": ".py",
   "mimetype": "text/x-python",
   "name": "python",
   "nbconvert_exporter": "python",
   "pygments_lexer": "ipython3",
   "version": "3.11.5"
  }
 },
 "nbformat": 4,
 "nbformat_minor": 5
}
