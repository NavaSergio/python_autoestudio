{
 "cells": [
  {
   "cell_type": "code",
   "execution_count": 1,
   "id": "8c535fdc",
   "metadata": {},
   "outputs": [
    {
     "data": {
      "text/plain": [
       "array([[8, 1, 1, 8, 1, 3, 8, 8, 4, 9],\n",
       "       [5, 0, 3, 9, 0, 4, 2, 5, 7, 5],\n",
       "       [5, 8, 1, 2, 7, 3, 3, 5, 2, 9],\n",
       "       [1, 0, 5, 1, 4, 7, 9, 7, 5, 8],\n",
       "       [1, 6, 1, 4, 4, 4, 5, 4, 8, 2]])"
      ]
     },
     "execution_count": 1,
     "metadata": {},
     "output_type": "execute_result"
    }
   ],
   "source": [
    "import numpy as np\n",
    "N=10\n",
    "num_samples = 5\n",
    "np.random.randint(N, size=(num_samples, N))"
   ]
  },
  {
   "cell_type": "code",
   "execution_count": null,
   "id": "f3fa1c8c",
   "metadata": {},
   "outputs": [],
   "source": []
  }
 ],
 "metadata": {
  "kernelspec": {
   "display_name": "Python 3 (ipykernel)",
   "language": "python",
   "name": "python3"
  },
  "language_info": {
   "codemirror_mode": {
    "name": "ipython",
    "version": 3
   },
   "file_extension": ".py",
   "mimetype": "text/x-python",
   "name": "python",
   "nbconvert_exporter": "python",
   "pygments_lexer": "ipython3",
   "version": "3.11.5"
  }
 },
 "nbformat": 4,
 "nbformat_minor": 5
}
