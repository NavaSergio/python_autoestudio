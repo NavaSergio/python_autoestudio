{
 "cells": [
  {
   "cell_type": "code",
   "execution_count": 10,
   "metadata": {},
   "outputs": [
    {
     "name": "stdout",
     "output_type": "stream",
     "text": [
      "Requirement already satisfied: jax[cpu] in c:\\users\\sergio nava\\anaconda3\\lib\\site-packages (0.4.23)\n",
      "Requirement already satisfied: ml-dtypes>=0.2.0 in c:\\users\\sergio nava\\anaconda3\\lib\\site-packages (from jax[cpu]) (0.3.2)\n",
      "Requirement already satisfied: numpy>=1.22 in c:\\users\\sergio nava\\anaconda3\\lib\\site-packages (from jax[cpu]) (1.24.3)\n",
      "Requirement already satisfied: opt-einsum in c:\\users\\sergio nava\\anaconda3\\lib\\site-packages (from jax[cpu]) (3.3.0)\n",
      "Requirement already satisfied: scipy>=1.9 in c:\\users\\sergio nava\\anaconda3\\lib\\site-packages (from jax[cpu]) (1.11.1)\n",
      "Requirement already satisfied: jaxlib==0.4.23 in c:\\users\\sergio nava\\anaconda3\\lib\\site-packages (from jax[cpu]) (0.4.23)\n"
     ]
    }
   ],
   "source": [
    "\n",
    "!pip install --upgrade \"jax[cpu]\""
   ]
  },
  {
   "cell_type": "code",
   "execution_count": 13,
   "metadata": {},
   "outputs": [
    {
     "name": "stdout",
     "output_type": "stream",
     "text": [
      "Collecting optax\n",
      "  Obtaining dependency information for optax from https://files.pythonhosted.org/packages/95/f6/36933cf75cb37e21d3de2dc6195306aa1cc30250e29e55c10cc5a84c1ce6/optax-0.1.8-py3-none-any.whl.metadata\n",
      "  Downloading optax-0.1.8-py3-none-any.whl.metadata (14 kB)\n",
      "Collecting absl-py>=0.7.1 (from optax)\n",
      "  Obtaining dependency information for absl-py>=0.7.1 from https://files.pythonhosted.org/packages/a2/ad/e0d3c824784ff121c03cc031f944bc7e139a8f1870ffd2845cc2dd76f6c4/absl_py-2.1.0-py3-none-any.whl.metadata\n",
      "  Downloading absl_py-2.1.0-py3-none-any.whl.metadata (2.3 kB)\n",
      "Collecting chex>=0.1.7 (from optax)\n",
      "  Obtaining dependency information for chex>=0.1.7 from https://files.pythonhosted.org/packages/9a/82/257141baabfaf8b0187521ddb83e996f2a71cdd4f7796d9599ca3e3ea4a9/chex-0.1.85-py3-none-any.whl.metadata\n",
      "  Downloading chex-0.1.85-py3-none-any.whl.metadata (17 kB)\n",
      "Requirement already satisfied: jax>=0.1.55 in c:\\users\\sergio nava\\anaconda3\\lib\\site-packages (from optax) (0.4.23)\n",
      "Requirement already satisfied: jaxlib>=0.1.37 in c:\\users\\sergio nava\\anaconda3\\lib\\site-packages (from optax) (0.4.23)\n",
      "Requirement already satisfied: numpy>=1.18.0 in c:\\users\\sergio nava\\anaconda3\\lib\\site-packages (from optax) (1.24.3)\n",
      "Requirement already satisfied: typing-extensions>=4.2.0 in c:\\users\\sergio nava\\anaconda3\\lib\\site-packages (from chex>=0.1.7->optax) (4.7.1)\n",
      "Requirement already satisfied: toolz>=0.9.0 in c:\\users\\sergio nava\\anaconda3\\lib\\site-packages (from chex>=0.1.7->optax) (0.12.0)\n",
      "Requirement already satisfied: ml-dtypes>=0.2.0 in c:\\users\\sergio nava\\anaconda3\\lib\\site-packages (from jax>=0.1.55->optax) (0.3.2)\n",
      "Requirement already satisfied: opt-einsum in c:\\users\\sergio nava\\anaconda3\\lib\\site-packages (from jax>=0.1.55->optax) (3.3.0)\n",
      "Requirement already satisfied: scipy>=1.9 in c:\\users\\sergio nava\\anaconda3\\lib\\site-packages (from jax>=0.1.55->optax) (1.11.1)\n",
      "Downloading optax-0.1.8-py3-none-any.whl (199 kB)\n",
      "   ---------------------------------------- 0.0/200.0 kB ? eta -:--:--\n",
      "   ----- --------------------------------- 30.7/200.0 kB 660.6 kB/s eta 0:00:01\n",
      "   ---------------------- ----------------- 112.6/200.0 kB 1.3 MB/s eta 0:00:01\n",
      "   ---------------------------------------- 200.0/200.0 kB 1.7 MB/s eta 0:00:00\n",
      "Downloading absl_py-2.1.0-py3-none-any.whl (133 kB)\n",
      "   ---------------------------------------- 0.0/133.7 kB ? eta -:--:--\n",
      "   ---------------------------------------  133.1/133.7 kB 3.8 MB/s eta 0:00:01\n",
      "   ---------------------------------------- 133.7/133.7 kB 3.9 MB/s eta 0:00:00\n",
      "Downloading chex-0.1.85-py3-none-any.whl (95 kB)\n",
      "   ---------------------------------------- 0.0/95.1 kB ? eta -:--:--\n",
      "   ---------------------------------------- 95.1/95.1 kB ? eta 0:00:00\n",
      "Installing collected packages: absl-py, chex, optax\n",
      "Successfully installed absl-py-2.1.0 chex-0.1.85 optax-0.1.8\n"
     ]
    }
   ],
   "source": [
    "!pip install optax"
   ]
  },
  {
   "cell_type": "code",
   "execution_count": 14,
   "metadata": {},
   "outputs": [
    {
     "name": "stdout",
     "output_type": "stream",
     "text": [
      "Requirement already satisfied: IngeoML in c:\\users\\sergio nava\\anaconda3\\lib\\site-packages (0.0.17)\n",
      "Requirement already satisfied: numpy in c:\\users\\sergio nava\\anaconda3\\lib\\site-packages (from IngeoML) (1.24.3)\n",
      "Requirement already satisfied: scikit-learn>=1.3.0 in c:\\users\\sergio nava\\anaconda3\\lib\\site-packages (from IngeoML) (1.3.0)\n",
      "Requirement already satisfied: scipy>=1.5.0 in c:\\users\\sergio nava\\anaconda3\\lib\\site-packages (from scikit-learn>=1.3.0->IngeoML) (1.11.1)\n",
      "Requirement already satisfied: joblib>=1.1.1 in c:\\users\\sergio nava\\anaconda3\\lib\\site-packages (from scikit-learn>=1.3.0->IngeoML) (1.2.0)\n",
      "Requirement already satisfied: threadpoolctl>=2.0.0 in c:\\users\\sergio nava\\anaconda3\\lib\\site-packages (from scikit-learn>=1.3.0->IngeoML) (2.2.0)\n"
     ]
    }
   ],
   "source": [
    "!pip install IngeoML"
   ]
  },
  {
   "cell_type": "code",
   "execution_count": 19,
   "metadata": {},
   "outputs": [
    {
     "name": "stdout",
     "output_type": "stream",
     "text": [
      "0.8\n"
     ]
    },
    {
     "data": {
      "text/plain": [
       "array([0.9, 0.8, 0.6, ..., 0.7, 1. , 1. ])"
      ]
     },
     "execution_count": 19,
     "metadata": {},
     "output_type": "execute_result"
    }
   ],
   "source": [
    "from IngeoML import StatisticSamples\n",
    "from sklearn.metrics import accuracy_score\n",
    "import numpy as np\n",
    "statistic = StatisticSamples(num_samples=10, statistic=np.mean)\n",
    "empirical_distribution = np.r_[[3, 4, 5, 2, 4]]\n",
    "statistic(empirical_distribution)\n",
    "labels = np.r_[[0, 0, 0, 0, 0, 1, 1, 1, 1, 1]]\n",
    "pred   = np.r_[[0, 0, 1, 0, 0, 1, 1, 1, 0, 1]]\n",
    "print(accuracy_score(labels, pred))\n",
    "acc = StatisticSamples(num_samples=10000, statistic=accuracy_score)\n",
    "acc(labels, pred)"
   ]
  },
  {
   "cell_type": "code",
   "execution_count": 22,
   "metadata": {},
   "outputs": [
    {
     "data": {
      "text/plain": [
       "<IngeoML.bootstrap.StatisticSamples at 0x280913ea390>"
      ]
     },
     "execution_count": 22,
     "metadata": {},
     "output_type": "execute_result"
    }
   ],
   "source": [
    "statistic"
   ]
  },
  {
   "cell_type": "code",
   "execution_count": 21,
   "metadata": {},
   "outputs": [
    {
     "name": "stdout",
     "output_type": "stream",
     "text": [
      "(10,)\n",
      "(10,)\n"
     ]
    }
   ],
   "source": [
    "print(labels.shape)\n",
    "print(pred.shape)"
   ]
  },
  {
   "cell_type": "code",
   "execution_count": 2,
   "metadata": {},
   "outputs": [
    {
     "data": {
      "text/plain": [
       "(0.5, 1.0)"
      ]
     },
     "execution_count": 2,
     "metadata": {},
     "output_type": "execute_result"
    }
   ],
   "source": [
    "from IngeoML import CI\n",
    "from sklearn.metrics import accuracy_score\n",
    "import numpy as np    \n",
    "labels = np.r_[[0, 0, 0, 0, 0, 1, 1, 1, 1, 1]]\n",
    "pred   = np.r_[[0, 0, 1, 0, 0, 1, 1, 1, 0, 1]]\n",
    "acc = CI(statistic=accuracy_score)\n",
    "acc(labels, pred)"
   ]
  },
  {
   "cell_type": "code",
   "execution_count": null,
   "metadata": {},
   "outputs": [],
   "source": []
  },
  {
   "cell_type": "code",
   "execution_count": 3,
   "metadata": {},
   "outputs": [
    {
     "data": {
      "text/plain": [
       "0.8"
      ]
     },
     "execution_count": 3,
     "metadata": {},
     "output_type": "execute_result"
    }
   ],
   "source": [
    "accuracy_score(labels, pred)"
   ]
  }
 ],
 "metadata": {
  "kernelspec": {
   "display_name": "Python 3 (ipykernel)",
   "language": "python",
   "name": "python3"
  },
  "language_info": {
   "codemirror_mode": {
    "name": "ipython",
    "version": 3
   },
   "file_extension": ".py",
   "mimetype": "text/x-python",
   "name": "python",
   "nbconvert_exporter": "python",
   "pygments_lexer": "ipython3",
   "version": "3.11.5"
  }
 },
 "nbformat": 4,
 "nbformat_minor": 4
}
