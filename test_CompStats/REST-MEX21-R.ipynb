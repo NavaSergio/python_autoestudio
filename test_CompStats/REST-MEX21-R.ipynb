{
 "cells": [
  {
   "cell_type": "markdown",
   "metadata": {
    "id": "wGizC3XikMtk"
   },
   "source": [
    "<p><img alt=\"Colaboratory logo\" height=\"50px\" src=\"https://github.com/INGEOTEC/text_models/raw/master/docs/source/ingeotec.png\" align=\"left\" hspace=\"10px\" vspace=\"0px\" /></p>\n",
    "\n",
    "# CompStats\n",
    "## Quickstart Guide\n",
    "\n",
    "### <http://compstats.readthedocs.org>\n",
    "\n"
   ]
  },
  {
   "cell_type": "markdown",
   "metadata": {
    "id": "u-QV6DJYaQjg"
   },
   "source": [
    "## Installing CompStats"
   ]
  },
  {
   "cell_type": "code",
   "execution_count": 1,
   "metadata": {
    "id": "ISeelAVIJc59"
   },
   "outputs": [],
   "source": [
    "# !python -m pip uninstall CompStats"
   ]
  },
  {
   "cell_type": "code",
   "execution_count": 2,
   "metadata": {
    "id": "_4WTIJx5H9ii"
   },
   "outputs": [
    {
     "name": "stdout",
     "output_type": "stream",
     "text": [
      "Processing c:\\users\\sergio nava\\documentos\\github\\ingeotec\\compstats\n",
      "  Installing build dependencies: started\n",
      "  Installing build dependencies: finished with status 'done'\n",
      "  Getting requirements to build wheel: started\n",
      "  Getting requirements to build wheel: finished with status 'done'\n",
      "  Preparing metadata (pyproject.toml): started\n",
      "  Preparing metadata (pyproject.toml): finished with status 'done'\n",
      "Requirement already satisfied: numpy in c:\\users\\sergio nava\\anaconda3\\lib\\site-packages (from CompStats==0.0.7) (1.26.4)\n",
      "Requirement already satisfied: scikit-learn>=1.3.0 in c:\\users\\sergio nava\\anaconda3\\lib\\site-packages (from CompStats==0.0.7) (1.4.1.post1)\n",
      "Requirement already satisfied: pandas in c:\\users\\sergio nava\\appdata\\roaming\\python\\python311\\site-packages (from CompStats==0.0.7) (2.2.2)\n",
      "Requirement already satisfied: seaborn>=0.13.0 in c:\\users\\sergio nava\\anaconda3\\lib\\site-packages (from CompStats==0.0.7) (0.13.2)\n",
      "Requirement already satisfied: scipy>=1.6.0 in c:\\users\\sergio nava\\anaconda3\\lib\\site-packages (from scikit-learn>=1.3.0->CompStats==0.0.7) (1.13.1)\n",
      "Requirement already satisfied: joblib>=1.2.0 in c:\\users\\sergio nava\\anaconda3\\lib\\site-packages (from scikit-learn>=1.3.0->CompStats==0.0.7) (1.4.2)\n",
      "Requirement already satisfied: threadpoolctl>=2.0.0 in c:\\users\\sergio nava\\anaconda3\\lib\\site-packages (from scikit-learn>=1.3.0->CompStats==0.0.7) (2.2.0)\n",
      "Requirement already satisfied: matplotlib!=3.6.1,>=3.4 in c:\\users\\sergio nava\\appdata\\roaming\\python\\python311\\site-packages (from seaborn>=0.13.0->CompStats==0.0.7) (3.9.0)\n",
      "Requirement already satisfied: python-dateutil>=2.8.2 in c:\\users\\sergio nava\\appdata\\roaming\\python\\python311\\site-packages (from pandas->CompStats==0.0.7) (2.9.0.post0)\n",
      "Requirement already satisfied: pytz>=2020.1 in c:\\users\\sergio nava\\appdata\\roaming\\python\\python311\\site-packages (from pandas->CompStats==0.0.7) (2024.1)\n",
      "Requirement already satisfied: tzdata>=2022.7 in c:\\users\\sergio nava\\appdata\\roaming\\python\\python311\\site-packages (from pandas->CompStats==0.0.7) (2024.1)\n",
      "Requirement already satisfied: contourpy>=1.0.1 in c:\\users\\sergio nava\\appdata\\roaming\\python\\python311\\site-packages (from matplotlib!=3.6.1,>=3.4->seaborn>=0.13.0->CompStats==0.0.7) (1.2.1)\n",
      "Requirement already satisfied: cycler>=0.10 in c:\\users\\sergio nava\\appdata\\roaming\\python\\python311\\site-packages (from matplotlib!=3.6.1,>=3.4->seaborn>=0.13.0->CompStats==0.0.7) (0.12.1)\n",
      "Requirement already satisfied: fonttools>=4.22.0 in c:\\users\\sergio nava\\appdata\\roaming\\python\\python311\\site-packages (from matplotlib!=3.6.1,>=3.4->seaborn>=0.13.0->CompStats==0.0.7) (4.53.0)\n",
      "Requirement already satisfied: kiwisolver>=1.3.1 in c:\\users\\sergio nava\\appdata\\roaming\\python\\python311\\site-packages (from matplotlib!=3.6.1,>=3.4->seaborn>=0.13.0->CompStats==0.0.7) (1.4.5)\n",
      "Requirement already satisfied: packaging>=20.0 in c:\\users\\sergio nava\\appdata\\roaming\\python\\python311\\site-packages (from matplotlib!=3.6.1,>=3.4->seaborn>=0.13.0->CompStats==0.0.7) (24.1)\n",
      "Requirement already satisfied: pillow>=8 in c:\\users\\sergio nava\\appdata\\roaming\\python\\python311\\site-packages (from matplotlib!=3.6.1,>=3.4->seaborn>=0.13.0->CompStats==0.0.7) (10.3.0)\n",
      "Requirement already satisfied: pyparsing>=2.3.1 in c:\\users\\sergio nava\\appdata\\roaming\\python\\python311\\site-packages (from matplotlib!=3.6.1,>=3.4->seaborn>=0.13.0->CompStats==0.0.7) (3.1.2)\n",
      "Requirement already satisfied: six>=1.5 in c:\\users\\sergio nava\\appdata\\roaming\\python\\python311\\site-packages (from python-dateutil>=2.8.2->pandas->CompStats==0.0.7) (1.16.0)\n",
      "Building wheels for collected packages: CompStats\n",
      "  Building wheel for CompStats (pyproject.toml): started\n",
      "  Building wheel for CompStats (pyproject.toml): finished with status 'done'\n",
      "  Created wheel for CompStats: filename=CompStats-0.0.7-py3-none-any.whl size=24239 sha256=80b423cc6b8945c31d576d53ea7271aa54caa1b447ba455046892f1f17d76365\n",
      "  Stored in directory: C:\\Users\\Sergio Nava\\AppData\\Local\\Temp\\pip-ephem-wheel-cache-eefx_uaz\\wheels\\19\\3d\\47\\ac1dd586fda7dec78f516b825f8dc8d5f94f7a7b7820cd22b0\n",
      "Successfully built CompStats\n",
      "Installing collected packages: CompStats\n",
      "  Attempting uninstall: CompStats\n",
      "    Found existing installation: CompStats 0.0.7\n",
      "    Uninstalling CompStats-0.0.7:\n",
      "      Successfully uninstalled CompStats-0.0.7\n",
      "Successfully installed CompStats-0.0.7\n",
      "Note: you may need to restart the kernel to use updated packages.\n"
     ]
    }
   ],
   "source": [
    "# %pip install -U git+https://github.com/INGEOTEC/CompStats@origin/develop\n",
    "%pip install \"C:\\Users\\Sergio Nava\\Documentos\\GitHub\\INGEOTEC\\CompStats\"\n",
    "# %pip install -U git+https://github.com/INGEOTEC/CompStats@develop\n",
    "# %pip install CompStats"
   ]
  },
  {
   "cell_type": "markdown",
   "metadata": {
    "id": "2sFWAgM0H3La"
   },
   "source": [
    "First, we need to install CompStats. This can be quickly done through pip, the Python package manager."
   ]
  },
  {
   "cell_type": "code",
   "execution_count": 3,
   "metadata": {
    "colab": {
     "base_uri": "https://localhost:8080/"
    },
    "id": "k2UzLxhkkMtp",
    "outputId": "dbadd757-1706-49ed-b866-539afbe92f71"
   },
   "outputs": [],
   "source": [
    "try:\n",
    "  import CompStats\n",
    "except ImportError:\n",
    "    %pip install \"C:\\Users\\Sergio Nava\\Documentos\\GitHub\\INGEOTEC\\CompStats\""
   ]
  },
  {
   "cell_type": "markdown",
   "metadata": {
    "id": "pqJKAfenkMtr"
   },
   "source": [
    "## Libraries"
   ]
  },
  {
   "cell_type": "markdown",
   "metadata": {
    "id": "ifWsyR9mH7-o"
   },
   "source": [
    "After installing `CompStats`, we must import the necessary libraries for our analysis. `CompStats` relies on several Python libraries for data analysis and scientific computing.\n",
    "\n",
    "The first line of the following code loads two functions from the `CompStats` library. The `performance` function is used to calculate and analyze the performance of machine learning models. On the other hand, the `plot_performance` function visualizes the performance metrics calculated by `performance`, such as accuracy or F1 score, along with confidence intervals to help understand the variability and reliability of the performance metrics.\n",
    "\n",
    "The second line imports two functions: `difference` and `plot_difference`; `difference` assesses the differences in performance between models in comparison to the best system, and `plot_difference` visually represents these differences relative to the best system.\n",
    "\n",
    "The third line imports two functions: `all_differences` and `difference_p_value`. `all_differences` evaluates the differences in performance between all models, and `difference_p_value` estimates the p-value of the hypothesis that the difference is significantly greater than zero.\n",
    "\n",
    "The fourth line imports the function `multipletests`that is used for adjusting p-values when multiple hypothesis tests are performed, to control for the false discovery rate or family-wise error rate.\n",
    "\n",
    "The rest of the lines load commonly used Python libraries."
   ]
  },
  {
   "cell_type": "code",
   "execution_count": 4,
   "metadata": {
    "id": "rUVyzgMokMts"
   },
   "outputs": [],
   "source": [
    "from CompStats import performance, plot_performance\n",
    "from CompStats import difference, plot_difference\n",
    "from CompStats import all_differences, difference_p_value\n",
    "from statsmodels.stats.multitest import multipletests\n",
    "from sklearn.metrics import mean_absolute_error as mae \n",
    "import pandas as pd\n",
    "import numpy as np\n",
    "\n",
    "import matplotlib.pyplot as plt\n",
    "\n",
    "# la siguiente línea es para cargar el modulo measurements para calcular el CI \n",
    "from CompStats import measurements"
   ]
  },
  {
   "cell_type": "markdown",
   "metadata": {
    "id": "DWcPnzA2HI-Y"
   },
   "source": [
    "# Dataset"
   ]
  },
  {
   "cell_type": "markdown",
   "metadata": {
    "id": "eKbW9vf-IASa"
   },
   "source": [
    "Once we have set up our environment, we can explore what CompStats offers. Let's begin with a basic example of how to use CompStats for a simple statistical analysis.\n",
    "\n",
    "To illustrate the use of CompStats, we will use a dataset included in the CompStats package. The path of the dataset is found with the following instructions. The variable `DATA` contains the path as shown below.  "
   ]
  },
  {
   "cell_type": "code",
   "execution_count": 5,
   "metadata": {
    "colab": {
     "base_uri": "https://localhost:8080/",
     "height": 36
    },
    "id": "8TGr5Jh6HIPR",
    "outputId": "b16c1843-a520-4b42-b653-84aee799f963"
   },
   "outputs": [],
   "source": [
    "# from CompStats.tests.test_performance import DATA\n",
    "DATA = 'RES-MEX2021_recomendation.csv'"
   ]
  },
  {
   "cell_type": "markdown",
   "metadata": {
    "id": "seBE-afbkMts"
   },
   "source": [
    "`DATA` contains the information to compare six systems for a multiclass classification task. The next instruction loads the data into a dataframe."
   ]
  },
  {
   "cell_type": "code",
   "execution_count": 6,
   "metadata": {
    "id": "WFo5qGVGI5fg"
   },
   "outputs": [],
   "source": [
    "df = pd.read_csv(DATA)"
   ]
  },
  {
   "cell_type": "markdown",
   "metadata": {
    "id": "CnOx0jOAJw6H"
   },
   "source": [
    "The first five rows of `df` are shown below. It can be observed that the first column contains the gold standard, identified with `y`, and the rest of the columns are the predictions performed by different systems."
   ]
  },
  {
   "cell_type": "code",
   "execution_count": 7,
   "metadata": {},
   "outputs": [
    {
     "data": {
      "text/html": [
       "<div>\n",
       "<style scoped>\n",
       "    .dataframe tbody tr th:only-of-type {\n",
       "        vertical-align: middle;\n",
       "    }\n",
       "\n",
       "    .dataframe tbody tr th {\n",
       "        vertical-align: top;\n",
       "    }\n",
       "\n",
       "    .dataframe thead th {\n",
       "        text-align: right;\n",
       "    }\n",
       "</style>\n",
       "<table border=\"1\" class=\"dataframe\">\n",
       "  <thead>\n",
       "    <tr style=\"text-align: right;\">\n",
       "      <th></th>\n",
       "      <th>y</th>\n",
       "      <th>Alumni.MCE.2GEN.run1</th>\n",
       "      <th>Alumni.MCE.2GEN.run2</th>\n",
       "      <th>jorge.hermosillo.recommendation</th>\n",
       "      <th>mayoritariaRecomendacion</th>\n",
       "    </tr>\n",
       "  </thead>\n",
       "  <tbody>\n",
       "    <tr>\n",
       "      <th>0</th>\n",
       "      <td>5</td>\n",
       "      <td>5</td>\n",
       "      <td>5</td>\n",
       "      <td>4</td>\n",
       "      <td>5</td>\n",
       "    </tr>\n",
       "    <tr>\n",
       "      <th>1</th>\n",
       "      <td>5</td>\n",
       "      <td>5</td>\n",
       "      <td>5</td>\n",
       "      <td>5</td>\n",
       "      <td>5</td>\n",
       "    </tr>\n",
       "    <tr>\n",
       "      <th>2</th>\n",
       "      <td>5</td>\n",
       "      <td>5</td>\n",
       "      <td>5</td>\n",
       "      <td>4</td>\n",
       "      <td>5</td>\n",
       "    </tr>\n",
       "    <tr>\n",
       "      <th>3</th>\n",
       "      <td>5</td>\n",
       "      <td>5</td>\n",
       "      <td>5</td>\n",
       "      <td>1</td>\n",
       "      <td>5</td>\n",
       "    </tr>\n",
       "    <tr>\n",
       "      <th>4</th>\n",
       "      <td>5</td>\n",
       "      <td>5</td>\n",
       "      <td>5</td>\n",
       "      <td>1</td>\n",
       "      <td>5</td>\n",
       "    </tr>\n",
       "    <tr>\n",
       "      <th>...</th>\n",
       "      <td>...</td>\n",
       "      <td>...</td>\n",
       "      <td>...</td>\n",
       "      <td>...</td>\n",
       "      <td>...</td>\n",
       "    </tr>\n",
       "    <tr>\n",
       "      <th>676</th>\n",
       "      <td>1</td>\n",
       "      <td>5</td>\n",
       "      <td>5</td>\n",
       "      <td>1</td>\n",
       "      <td>5</td>\n",
       "    </tr>\n",
       "    <tr>\n",
       "      <th>677</th>\n",
       "      <td>1</td>\n",
       "      <td>5</td>\n",
       "      <td>5</td>\n",
       "      <td>3</td>\n",
       "      <td>5</td>\n",
       "    </tr>\n",
       "    <tr>\n",
       "      <th>678</th>\n",
       "      <td>1</td>\n",
       "      <td>5</td>\n",
       "      <td>5</td>\n",
       "      <td>1</td>\n",
       "      <td>5</td>\n",
       "    </tr>\n",
       "    <tr>\n",
       "      <th>679</th>\n",
       "      <td>1</td>\n",
       "      <td>5</td>\n",
       "      <td>5</td>\n",
       "      <td>5</td>\n",
       "      <td>5</td>\n",
       "    </tr>\n",
       "    <tr>\n",
       "      <th>680</th>\n",
       "      <td>1</td>\n",
       "      <td>5</td>\n",
       "      <td>5</td>\n",
       "      <td>1</td>\n",
       "      <td>5</td>\n",
       "    </tr>\n",
       "  </tbody>\n",
       "</table>\n",
       "<p>681 rows × 5 columns</p>\n",
       "</div>"
      ],
      "text/plain": [
       "     y  Alumni.MCE.2GEN.run1  Alumni.MCE.2GEN.run2  \\\n",
       "0    5                     5                     5   \n",
       "1    5                     5                     5   \n",
       "2    5                     5                     5   \n",
       "3    5                     5                     5   \n",
       "4    5                     5                     5   \n",
       "..  ..                   ...                   ...   \n",
       "676  1                     5                     5   \n",
       "677  1                     5                     5   \n",
       "678  1                     5                     5   \n",
       "679  1                     5                     5   \n",
       "680  1                     5                     5   \n",
       "\n",
       "     jorge.hermosillo.recommendation  mayoritariaRecomendacion  \n",
       "0                                  4                         5  \n",
       "1                                  5                         5  \n",
       "2                                  4                         5  \n",
       "3                                  1                         5  \n",
       "4                                  1                         5  \n",
       "..                               ...                       ...  \n",
       "676                                1                         5  \n",
       "677                                3                         5  \n",
       "678                                1                         5  \n",
       "679                                5                         5  \n",
       "680                                1                         5  \n",
       "\n",
       "[681 rows x 5 columns]"
      ]
     },
     "execution_count": 7,
     "metadata": {},
     "output_type": "execute_result"
    }
   ],
   "source": [
    "df"
   ]
  },
  {
   "cell_type": "markdown",
   "metadata": {
    "id": "sqI3FxmCI_pM"
   },
   "source": [
    "# Performance Anaylisis"
   ]
  },
  {
   "cell_type": "markdown",
   "metadata": {
    "id": "JR1B0lg4K85m"
   },
   "source": [
    "Let us start with the performance analysis of the different systems. The performance metric used is the weighted average F1 score. This performance is coded in the variable `score` as observed in the next instruction."
   ]
  },
  {
   "cell_type": "code",
   "execution_count": 8,
   "metadata": {
    "id": "IXHA4HRkLA9q"
   },
   "outputs": [],
   "source": [
    "score = lambda y, hy: mae(y, hy)"
   ]
  },
  {
   "cell_type": "markdown",
   "metadata": {
    "id": "xYCMtk-1LZtL"
   },
   "source": [
    "The next step is to compute the performance on the bootstrap samples; this is done with the function `performance`. The function has a few parameters; one is the `score`, which receives the metric used to measure the performance."
   ]
  },
  {
   "cell_type": "code",
   "execution_count": 9,
   "metadata": {
    "colab": {
     "base_uri": "https://localhost:8080/"
    },
    "id": "-96k0EbaLadL",
    "outputId": "cba38610-383b-402e-e8e2-f0fcdea5908e"
   },
   "outputs": [
    {
     "name": "stderr",
     "output_type": "stream",
     "text": [
      "100%|██████████| 5/5 [00:09<00:00,  1.84s/it]\n"
     ]
    }
   ],
   "source": [
    "perf = performance(df, score=score,num_samples=1000,BiB=False)"
   ]
  },
  {
   "cell_type": "code",
   "execution_count": 10,
   "metadata": {},
   "outputs": [
    {
     "name": "stdout",
     "output_type": "stream",
     "text": [
      "Key: Alumni.MCE.2GEN.run1, CI: (0.26138032305433184, 0.3642070484581497), mean=0.3106\n",
      "Key: Alumni.MCE.2GEN.run2, CI: (0.2701908957415565, 0.3759544787077826), mean=0.3226\n",
      "Key: jorge.hermosillo.recommendation, CI: (1.571145374449339, 1.7591776798825256), mean=1.6624\n",
      "Key: mayoritariaRecomendacion, CI: (0.6461086637298091, 0.7974669603524228), mean=0.7236\n"
     ]
    }
   ],
   "source": [
    "for key, value in perf.calls.items():\n",
    "    result = measurements.CI(value)\n",
    "    media = np.mean(value)\n",
    "    print(f\"Key: {key}, CI: {result}, mean={media:.4f}\")"
   ]
  },
  {
   "cell_type": "code",
   "execution_count": 11,
   "metadata": {},
   "outputs": [
    {
     "data": {
      "text/plain": [
       "<matplotlib.legend.Legend at 0x21cd873be50>"
      ]
     },
     "execution_count": 11,
     "metadata": {},
     "output_type": "execute_result"
    },
    {
     "data": {
      "image/png": "[encoded data removed]",
      "text/plain": [
       "<Figure size 640x480 with 1 Axes>"
      ]
     },
     "metadata": {},
     "output_type": "display_data"
    }
   ],
   "source": [
    "for key, value in perf.calls.items():\n",
    "    plt.hist(value,label=key)\n",
    "plt.legend(loc='upper right')    "
   ]
  },
  {
   "cell_type": "markdown",
   "metadata": {
    "id": "sEfBLwenQpND"
   },
   "source": [
    "`perf` is an instance of `StatisticSamples`, the bootstrap samples can be seen on the property `calls`. The first five bootstrap samples of the performance of INGEOTEC are shown below. -- It verifies that the key is in the dictionary in case the dataset has been changed. --"
   ]
  },
  {
   "cell_type": "code",
   "execution_count": 12,
   "metadata": {
    "colab": {
     "base_uri": "https://localhost:8080/"
    },
    "id": "IrbRfFuCQsGf",
    "outputId": "995bf6f7-02d8-4526-de25-4e56151d7f3b"
   },
   "outputs": [
    {
     "name": "stdout",
     "output_type": "stream",
     "text": [
      "[1.74449339 1.68281938 1.57415565 1.76798825 1.75917768]\n"
     ]
    }
   ],
   "source": [
    "if 'jorge.hermosillo.recommendation' in perf.calls:\n",
    "  print(f\"{perf.calls['jorge.hermosillo.recommendation'][:5]}\")"
   ]
  },
  {
   "cell_type": "markdown",
   "metadata": {
    "id": "SaUGXqEVJE6A"
   },
   "source": [
    "The performance of the systems, along with their confidence intervals, can be seen using the next instruction."
   ]
  },
  {
   "cell_type": "code",
   "execution_count": 13,
   "metadata": {
    "colab": {
     "base_uri": "https://localhost:8080/",
     "height": 506
    },
    "id": "djiadR9dkMts",
    "outputId": "fbd0675c-0933-4d6e-e142-633394526b61"
   },
   "outputs": [
    {
     "data": {
      "image/png": "[encoded data removed]",
      "text/plain": [
       "<Figure size 511.111x500 with 1 Axes>"
      ]
     },
     "metadata": {},
     "output_type": "display_data"
    }
   ],
   "source": [
    "face_grid = plot_performance(perf)"
   ]
  },
  {
   "cell_type": "markdown",
   "metadata": {
    "id": "eBmUNHXWR2pL"
   },
   "source": [
    "It can be observed that the best system is 'Alumni.MCE.2GEN.run1'. Although the confidence intervals provide information that helps to assess the difference in the performance of the systems, in this case, the intervals intersect. Therefore, one needs another statistical tool to determine if the difference in performance is significant."
   ]
  },
  {
   "cell_type": "markdown",
   "metadata": {
    "id": "hJ1gAxzkkMts"
   },
   "source": [
    "# Performance Comparison against the Winner"
   ]
  },
  {
   "cell_type": "markdown",
   "metadata": {
    "id": "peFwDTsNdRiz"
   },
   "source": [
    "The difference in their performance compared to the best-performing system can be used to compare the algorithms analyzed. The function `difference` computes the difference as shown below."
   ]
  },
  {
   "cell_type": "code",
   "execution_count": 14,
   "metadata": {
    "id": "0FXWINpdkMtt"
   },
   "outputs": [],
   "source": [
    "# diff = difference(perf,best_index = 0) \n",
    "# importante\n",
    "# si la métrica es mayor es mejor best_index = -1\n",
    "# si la métrica es menor es mejor best_index = 0\n",
    "diff = difference(perf) "
   ]
  },
  {
   "cell_type": "markdown",
   "metadata": {
    "id": "2p_ppDE9dV0F"
   },
   "source": [
    "`diff` is an instance of `StatisticSamples`; one can find the best system on the property `info`, as the following instruction shows."
   ]
  },
  {
   "cell_type": "code",
   "execution_count": 15,
   "metadata": {
    "colab": {
     "base_uri": "https://localhost:8080/"
    },
    "id": "7oz3wbr6dr_m",
    "outputId": "a4b5e252-dcbe-4345-c5e5-e84acd3edce7"
   },
   "outputs": [
    {
     "name": "stdout",
     "output_type": "stream",
     "text": [
      "El ganador de la competencia es {'best': 'Alumni.MCE.2GEN.run1'}\n",
      "La competencia es Menor es Mejor\n"
     ]
    }
   ],
   "source": [
    "print(f'El ganador de la competencia es {diff.info}')\n",
    "if diff.BiB:\n",
    "    print(f'La competencia es Mayor es Mejor')\n",
    "else:\n",
    "    print(f'La competencia es Menor es Mejor')"
   ]
  },
  {
   "cell_type": "markdown",
   "metadata": {},
   "source": [
    "CI for the difference against the winner."
   ]
  },
  {
   "cell_type": "code",
   "execution_count": 16,
   "metadata": {},
   "outputs": [
    {
     "name": "stdout",
     "output_type": "stream",
     "text": [
      "Key: Alumni.MCE.2GEN.run2, CI: (-0.024963289280469925, 0.0029368575624081905), mean=-0.0119\n",
      "Key: mayoritariaRecomendacion, CI: (-0.4714023494860499, -0.35682819383259917), mean=-0.4129\n",
      "Key: jorge.hermosillo.recommendation, CI: (-1.4581497797356828, -1.2466593245227606), mean=-1.3518\n"
     ]
    }
   ],
   "source": [
    "for key, value in diff.calls.items():\n",
    "    result = measurements.CI(value)\n",
    "    media = np.mean(value)\n",
    "    print(f\"Key: {key}, CI: {result}, mean={media:.4f}\")"
   ]
  },
  {
   "cell_type": "markdown",
   "metadata": {
    "id": "iD_jAdwmd5QZ"
   },
   "source": [
    "The difference in performance can be visualized with the following instruction."
   ]
  },
  {
   "cell_type": "code",
   "execution_count": 17,
   "metadata": {},
   "outputs": [
    {
     "data": {
      "image/png": "[encoded data removed]",
      "text/plain": [
       "<Figure size 584.875x500 with 1 Axes>"
      ]
     },
     "metadata": {},
     "output_type": "display_data"
    }
   ],
   "source": [
    "face_grid_diff = plot_difference(diff)"
   ]
  },
  {
   "cell_type": "code",
   "execution_count": 18,
   "metadata": {},
   "outputs": [
    {
     "data": {
      "text/plain": [
       "Text(0.5, 1.0, 'Ganador: Alumni.MCE.2GEN.run1')"
      ]
     },
     "execution_count": 18,
     "metadata": {},
     "output_type": "execute_result"
    },
    {
     "data": {
      "image/png": "[encoded data removed]",
      "text/plain": [
       "<Figure size 640x480 with 1 Axes>"
      ]
     },
     "metadata": {},
     "output_type": "display_data"
    }
   ],
   "source": [
    "for key, value in diff.calls.items():\n",
    "    plt.hist(value,label=key)\n",
    "plt.legend(loc='upper right')    \n",
    "plt.title(f\"Ganador: {diff.info['best']}\" )"
   ]
  },
  {
   "cell_type": "markdown",
   "metadata": {
    "id": "aHlFz543kMtt"
   },
   "source": [
    "From the performance graphs, for this example, we can observe that the ranking is *INGEOTEC*, *BoW*, *StackBoW*, *BoW (Corpus)*, *Dense*, *Bow (Class Weight)*. Hence, in the last graph, we analyze the performance difference against the winner (INGEOTEC). From this graph, we can conclude that *BoW* and *StackBoW*, might perform similarly to INGEOTEC.\n",
    "\n",
    "Should we test the hypothesis of equality versus difference, considering that one system outperforms the other in the test? To address this question, we compare the performance of two systems, $A$ and $B$, to determine whether $A$ is superior to $B$ in a larger data population, represented as $\\theta_A > \\theta_B$. We can estimate the p-value associated with the hypothesis test $H_0: \\theta_A \\le \\theta_B$ vs $H_1: \\theta_A > \\theta_B$ given the data, equivalently $H_0: \\theta_A< -  \\theta_B\\le 0$ vs $H_1: \\theta_A - \\theta_B > 0$. The p-values for these differences can be estimated using the following instruction, comparing them against the winner (INGEOTEC) to determine the probability that $a$ (INGEOTEC) is better than $b$.\n",
    "\n",
    "The `difference_p_value` function estimates the p-value for each difference in comparison to the best system, as illustrated below.\n"
   ]
  },
  {
   "cell_type": "code",
   "execution_count": 19,
   "metadata": {},
   "outputs": [
    {
     "data": {
      "text/plain": [
       "{'Alumni.MCE.2GEN.run2': 0.036,\n",
       " 'mayoritariaRecomendacion': 0.0,\n",
       " 'jorge.hermosillo.recommendation': 0.0}"
      ]
     },
     "execution_count": 19,
     "metadata": {},
     "output_type": "execute_result"
    }
   ],
   "source": [
    "p_values = difference_p_value(diff)\n",
    "p_values"
   ]
  },
  {
   "cell_type": "markdown",
   "metadata": {
    "id": "WEEPzr4l2BMn"
   },
   "source": [
    "For a given $\\alpha$ level, p-values smaller than $\\alpha$  are significant, meaning the observed difference is unlikely to be due to chance. An $\\alpha$ level of 0.05 is commonly used."
   ]
  },
  {
   "cell_type": "code",
   "execution_count": 20,
   "metadata": {
    "colab": {
     "base_uri": "https://localhost:8080/"
    },
    "id": "p2VtUMvS0Z4k",
    "outputId": "6a3cf917-98da-46ed-a103-4faf13725e53"
   },
   "outputs": [
    {
     "data": {
      "text/plain": [
       "{'Alumni.MCE.2GEN.run2': 0.036,\n",
       " 'mayoritariaRecomendacion': 0.0,\n",
       " 'jorge.hermosillo.recommendation': 0.0}"
      ]
     },
     "execution_count": 20,
     "metadata": {},
     "output_type": "execute_result"
    }
   ],
   "source": [
    "p_values"
   ]
  },
  {
   "cell_type": "code",
   "execution_count": 21,
   "metadata": {},
   "outputs": [
    {
     "name": "stdout",
     "output_type": "stream",
     "text": [
      "Mayor que 2V: 0.036\n",
      "Menor que 0 : 0.04\n"
     ]
    }
   ],
   "source": [
    "#comparacon = 'mayoritariaRecomendacion'\n",
    "comparacon = 'Alumni.MCE.2GEN.run2'\n",
    "may2 = np.mean(diff.calls[comparacon] < 2 * np.mean(diff.calls[comparacon], axis=0), axis=0)\n",
    "men0 = np.mean(diff.calls[comparacon] > 0, axis=0)\n",
    "print(f\"Mayor que 2V: {may2}\")\n",
    "print(f\"Menor que 0 : {men0}\")"
   ]
  },
  {
   "cell_type": "code",
   "execution_count": 22,
   "metadata": {},
   "outputs": [
    {
     "data": {
      "text/plain": [
       "<matplotlib.lines.Line2D at 0x21cdad53290>"
      ]
     },
     "execution_count": 22,
     "metadata": {},
     "output_type": "execute_result"
    },
    {
     "data": {
      "image/png": "[encoded data removed]",
      "text/plain": [
       "<Figure size 640x480 with 1 Axes>"
      ]
     },
     "metadata": {},
     "output_type": "display_data"
    }
   ],
   "source": [
    "\n",
    "plt.hist(diff.calls[comparacon])\n",
    "plt.title(f\"Alumni.MCE.2GEN.run1 - {comparacon}\")\n",
    "plt.axvline(x = 0, color = 'b', label = '0')\n",
    "plt.axvline(x = 2 * np.mean(diff.calls[comparacon], axis=0), color = 'r', label = '0')"
   ]
  },
  {
   "cell_type": "code",
   "execution_count": 23,
   "metadata": {},
   "outputs": [
    {
     "data": {
      "text/plain": [
       "{'Alumni.MCE.2GEN.run2': 0.10799999999999998,\n",
       " 'mayoritariaRecomendacion': 0.0,\n",
       " 'jorge.hermosillo.recommendation': 0.0}"
      ]
     },
     "execution_count": 23,
     "metadata": {},
     "output_type": "execute_result"
    }
   ],
   "source": [
    "result = multipletests(list(p_values.values()), method='bonferroni')\n",
    "p_valuesC = dict(zip(p_values.keys(),result[1]))\n",
    "p_valuesC"
   ]
  },
  {
   "cell_type": "markdown",
   "metadata": {
    "id": "rt21qMcDkMtu"
   },
   "source": [
    "# Performance comparison between all models\n",
    "\n",
    "Similarly, the differences for each pair of variables between all models can be estimated using the function `all_differences`, as illustrated in the following instructions. This approach allows for a comprehensive analysis of how each model compares to the others, providing a statistical basis to understand the significance of performance variations among them. This method extends the comparative analysis, offering a detailed view of the competitive landscape of model performance."
   ]
  },
  {
   "cell_type": "code",
   "execution_count": 24,
   "metadata": {
    "id": "6ehkDIH_kMtu"
   },
   "outputs": [],
   "source": [
    "all_diff = all_differences(perf)\n",
    "# reverse = False cuando Menor es mejor\n",
    "# reverse = True  cuando Mayor es mejor"
   ]
  },
  {
   "cell_type": "code",
   "execution_count": 25,
   "metadata": {},
   "outputs": [
    {
     "data": {
      "text/plain": [
       "{'Alumni.MCE.2GEN.run1 - Alumni.MCE.2GEN.run2': array([ 0.00440529, -0.020558  , -0.00881057, -0.020558  , -0.01762115,\n",
       "        -0.01321586, -0.00293686, -0.00881057, -0.00881057, -0.00587372,\n",
       "        -0.01908957, -0.00734214,  0.        , -0.01321586, -0.00881057,\n",
       "        -0.01468429, -0.02202643, -0.01762115, -0.00881057, -0.00881057,\n",
       "         0.        , -0.01468429, -0.020558  , -0.00734214, -0.00293686,\n",
       "        -0.00440529, -0.01468429, -0.01174743, -0.010279  , -0.00146843,\n",
       "        -0.00440529, -0.01468429, -0.02496329, -0.01174743, -0.01615272,\n",
       "        -0.01468429, -0.01321586, -0.01174743, -0.01615272,  0.00146843,\n",
       "        -0.010279  , -0.02643172, -0.00734214, -0.00146843, -0.00293686,\n",
       "        -0.01321586,  0.00146843, -0.00587372, -0.02202643, -0.00440529,\n",
       "        -0.01762115, -0.020558  , -0.00881057, -0.00587372, -0.01321586,\n",
       "        -0.00881057, -0.00881057, -0.01615272, -0.00734214, -0.00734214,\n",
       "        -0.00587372, -0.00293686, -0.01615272, -0.02349486, -0.02202643,\n",
       "        -0.01908957, -0.00146843, -0.020558  , -0.00293686, -0.00734214,\n",
       "        -0.00146843, -0.01762115, -0.02202643, -0.01174743, -0.02643172,\n",
       "        -0.00587372, -0.00734214, -0.02349486, -0.00734214, -0.010279  ,\n",
       "        -0.00881057, -0.01174743, -0.00440529, -0.01615272, -0.00881057,\n",
       "        -0.010279  , -0.00146843, -0.01321586, -0.01908957, -0.01468429,\n",
       "        -0.00734214, -0.01321586, -0.00587372, -0.01615272, -0.00587372,\n",
       "        -0.00734214, -0.020558  , -0.02643172, -0.00881057, -0.00587372,\n",
       "        -0.01908957,  0.        , -0.01468429, -0.01468429, -0.01615272,\n",
       "        -0.01615272, -0.00734214,  0.        , -0.02349486, -0.02349486,\n",
       "        -0.00293686, -0.00881057, -0.01468429,  0.00440529, -0.01468429,\n",
       "        -0.020558  , -0.01615272, -0.01321586, -0.010279  , -0.020558  ,\n",
       "        -0.00293686, -0.01174743, -0.00881057, -0.01468429, -0.02202643,\n",
       "        -0.020558  , -0.00881057, -0.00881057, -0.020558  , -0.01615272,\n",
       "        -0.00587372, -0.010279  , -0.01174743, -0.00587372, -0.00587372,\n",
       "        -0.00734214,  0.00293686, -0.01468429, -0.00440529, -0.01615272,\n",
       "        -0.01174743, -0.01321586, -0.01615272, -0.010279  , -0.01468429,\n",
       "        -0.01468429, -0.01174743, -0.01615272, -0.00146843, -0.00293686,\n",
       "        -0.010279  , -0.00293686, -0.00587372, -0.00293686, -0.01615272,\n",
       "        -0.00587372, -0.01615272,  0.        , -0.01468429, -0.01762115,\n",
       "        -0.010279  , -0.010279  , -0.020558  , -0.01615272, -0.020558  ,\n",
       "        -0.01468429, -0.01468429, -0.00146843, -0.01762115, -0.01908957,\n",
       "        -0.00293686, -0.01615272, -0.01468429, -0.01615272,  0.00293686,\n",
       "        -0.01174743,  0.00146843, -0.00881057, -0.01321586, -0.01468429,\n",
       "        -0.01908957, -0.01615272, -0.01174743, -0.00734214,  0.        ,\n",
       "        -0.00881057, -0.02202643, -0.01321586, -0.00881057, -0.00881057,\n",
       "        -0.01762115, -0.01468429, -0.01615272, -0.02202643, -0.01908957,\n",
       "        -0.020558  , -0.02202643, -0.00734214, -0.01908957, -0.00440529,\n",
       "        -0.01321586, -0.00146843, -0.00734214, -0.01468429, -0.02643172,\n",
       "        -0.01321586, -0.020558  , -0.010279  , -0.00293686, -0.01321586,\n",
       "        -0.01468429, -0.01762115, -0.01615272, -0.01174743, -0.01615272,\n",
       "        -0.00146843, -0.01174743, -0.00734214, -0.01468429, -0.01321586,\n",
       "        -0.00881057, -0.00734214, -0.00146843, -0.00587372, -0.01468429,\n",
       "        -0.01468429, -0.01321586, -0.01468429, -0.010279  , -0.00881057,\n",
       "        -0.010279  ,  0.00146843, -0.010279  , -0.01321586, -0.00146843,\n",
       "        -0.00881057, -0.00440529, -0.00734214, -0.00734214, -0.01762115,\n",
       "        -0.010279  , -0.00293686, -0.00734214, -0.00734214, -0.010279  ,\n",
       "        -0.01321586, -0.00587372, -0.02643172, -0.00881057, -0.01321586,\n",
       "        -0.00881057, -0.00146843, -0.020558  , -0.00293686, -0.01762115,\n",
       "        -0.00881057, -0.00881057, -0.01174743, -0.010279  ,  0.        ,\n",
       "        -0.01908957, -0.02349486, -0.00881057, -0.01468429,  0.        ,\n",
       "        -0.01908957, -0.00734214, -0.00881057, -0.00881057, -0.00881057,\n",
       "        -0.020558  , -0.00881057, -0.00440529, -0.00293686, -0.00293686,\n",
       "        -0.00440529,  0.        , -0.00881057,  0.00146843, -0.01174743,\n",
       "        -0.00734214, -0.01174743, -0.00881057, -0.01468429, -0.00881057,\n",
       "        -0.01321586, -0.00881057, -0.01762115, -0.00881057, -0.01321586,\n",
       "         0.00587372, -0.00734214, -0.01321586,  0.        ,  0.00146843,\n",
       "        -0.00587372, -0.020558  , -0.00734214, -0.01468429, -0.00293686,\n",
       "        -0.00734214, -0.01468429, -0.01321586, -0.01762115, -0.00881057,\n",
       "        -0.00440529, -0.00440529, -0.01321586, -0.02349486, -0.01615272,\n",
       "        -0.01174743, -0.02349486, -0.01468429, -0.01174743, -0.01174743,\n",
       "        -0.01615272, -0.010279  , -0.02202643, -0.020558  , -0.01468429,\n",
       "        -0.01321586, -0.00293686, -0.01321586, -0.01321586, -0.010279  ,\n",
       "        -0.00881057, -0.02202643, -0.00734214, -0.010279  , -0.01174743,\n",
       "        -0.00734214, -0.01908957, -0.020558  , -0.030837  , -0.00293686,\n",
       "        -0.01174743, -0.01615272,  0.00734214, -0.01321586, -0.01468429,\n",
       "        -0.010279  , -0.01615272, -0.01468429,  0.        , -0.01321586,\n",
       "        -0.02349486, -0.00440529, -0.01615272, -0.01174743, -0.02936858,\n",
       "        -0.010279  , -0.00587372, -0.020558  , -0.00734214, -0.020558  ,\n",
       "        -0.01321586, -0.02349486, -0.00734214, -0.00881057, -0.02496329,\n",
       "        -0.01615272, -0.020558  , -0.00734214, -0.00881057, -0.01174743,\n",
       "        -0.00734214, -0.02202643, -0.01321586,  0.00146843,  0.        ,\n",
       "        -0.01468429, -0.02349486, -0.01908957, -0.01468429, -0.00881057,\n",
       "        -0.00440529, -0.010279  , -0.01468429, -0.00587372, -0.010279  ,\n",
       "        -0.010279  ,  0.        , -0.00440529,  0.00146843, -0.00881057,\n",
       "        -0.01321586, -0.020558  , -0.01615272, -0.020558  , -0.01615272,\n",
       "        -0.01174743, -0.01468429, -0.02202643, -0.01468429, -0.00587372,\n",
       "        -0.02643172, -0.00146843, -0.00734214, -0.00587372, -0.01468429,\n",
       "         0.010279  , -0.01321586, -0.01615272, -0.01174743, -0.00146843,\n",
       "        -0.01321586, -0.010279  , -0.01762115, -0.00734214,  0.        ,\n",
       "        -0.00881057, -0.01468429, -0.020558  , -0.00734214, -0.01174743,\n",
       "        -0.01762115, -0.01321586, -0.01321586, -0.00440529, -0.01468429,\n",
       "        -0.01468429, -0.010279  , -0.01174743, -0.00734214, -0.02496329,\n",
       "        -0.020558  , -0.00881057, -0.01321586, -0.00587372, -0.01615272,\n",
       "        -0.01468429, -0.01321586, -0.01615272, -0.01321586, -0.02643172,\n",
       "        -0.00734214, -0.010279  , -0.00734214, -0.010279  , -0.00881057,\n",
       "        -0.01762115, -0.02349486, -0.00881057, -0.01762115, -0.01174743,\n",
       "        -0.00734214, -0.01468429, -0.01321586, -0.01174743, -0.02643172,\n",
       "        -0.020558  , -0.00734214, -0.010279  , -0.00881057,  0.00293686,\n",
       "        -0.01908957, -0.01174743, -0.01615272, -0.00146843, -0.01762115,\n",
       "        -0.01321586, -0.01321586, -0.00587372, -0.02202643, -0.00881057,\n",
       "        -0.01174743, -0.00734214,  0.        , -0.00734214, -0.01615272,\n",
       "         0.00146843, -0.02790015, -0.01174743, -0.02936858, -0.01174743,\n",
       "        -0.01908957,  0.00440529, -0.01174743, -0.01321586, -0.01174743,\n",
       "        -0.00881057, -0.00587372, -0.00440529, -0.01615272, -0.01468429,\n",
       "        -0.02643172, -0.01908957, -0.00881057, -0.00587372, -0.00881057,\n",
       "        -0.00146843,  0.00293686, -0.00881057, -0.01468429, -0.01908957,\n",
       "        -0.02202643, -0.01615272, -0.01762115, -0.00881057, -0.02936858,\n",
       "        -0.01615272, -0.01762115,  0.00293686, -0.00734214, -0.01321586,\n",
       "        -0.00587372, -0.020558  , -0.010279  , -0.00293686, -0.01615272,\n",
       "        -0.00293686, -0.01615272, -0.00734214, -0.01908957, -0.00881057,\n",
       "        -0.01762115, -0.00440529, -0.010279  , -0.02496329, -0.01174743,\n",
       "        -0.01321586, -0.02202643, -0.01321586, -0.020558  , -0.010279  ,\n",
       "        -0.01174743, -0.01908957, -0.00881057, -0.020558  , -0.00293686,\n",
       "        -0.01615272, -0.00146843, -0.01908957, -0.010279  , -0.01615272,\n",
       "        -0.02202643, -0.02349486, -0.02349486, -0.01468429, -0.00734214,\n",
       "        -0.00440529, -0.020558  , -0.02349486,  0.00440529, -0.01321586,\n",
       "        -0.00881057, -0.01321586, -0.010279  , -0.02349486, -0.00734214,\n",
       "        -0.01468429, -0.00293686,  0.        , -0.01615272, -0.00146843,\n",
       "        -0.00881057, -0.01174743, -0.01468429, -0.00587372,  0.        ,\n",
       "        -0.01615272, -0.01908957, -0.01468429, -0.020558  , -0.020558  ,\n",
       "        -0.00881057,  0.00293686, -0.02202643, -0.01174743, -0.01468429,\n",
       "        -0.00587372, -0.00440529, -0.00587372, -0.00881057, -0.00734214,\n",
       "        -0.00440529, -0.010279  , -0.01174743, -0.01174743, -0.00881057,\n",
       "        -0.00881057, -0.01615272, -0.00293686, -0.010279  , -0.00734214,\n",
       "         0.00293686, -0.00734214, -0.01468429, -0.01468429, -0.00734214,\n",
       "        -0.01762115, -0.00440529, -0.030837  , -0.01321586, -0.01615272,\n",
       "        -0.01615272, -0.01321586, -0.00293686, -0.01908957, -0.01174743,\n",
       "        -0.010279  , -0.01321586, -0.010279  , -0.00734214, -0.01615272,\n",
       "        -0.00146843, -0.01468429, -0.00881057, -0.020558  , -0.02202643,\n",
       "        -0.01468429,  0.00440529, -0.00587372, -0.00440529, -0.01321586,\n",
       "        -0.00734214, -0.01615272, -0.010279  , -0.01615272, -0.00440529,\n",
       "        -0.01468429, -0.01321586, -0.00440529, -0.02202643,  0.00587372,\n",
       "        -0.01908957, -0.00293686, -0.01615272, -0.02202643, -0.01468429,\n",
       "        -0.00881057, -0.02349486, -0.01174743, -0.00587372, -0.00881057,\n",
       "        -0.00293686, -0.02496329, -0.02349486, -0.00293686, -0.00734214,\n",
       "        -0.03524229, -0.02349486, -0.010279  , -0.01762115, -0.01615272,\n",
       "        -0.01321586, -0.01615272, -0.010279  , -0.010279  , -0.01468429,\n",
       "        -0.01908957, -0.01468429, -0.00587372, -0.01321586, -0.01321586,\n",
       "        -0.01908957, -0.00881057,  0.        , -0.01762115, -0.010279  ,\n",
       "        -0.00587372, -0.010279  , -0.00587372, -0.01908957, -0.02643172,\n",
       "        -0.00734214, -0.01615272, -0.01174743, -0.01615272, -0.00881057,\n",
       "        -0.00734214, -0.01615272, -0.01321586, -0.00881057, -0.010279  ,\n",
       "        -0.01321586, -0.010279  , -0.00734214, -0.01615272, -0.02202643,\n",
       "        -0.01174743, -0.01908957, -0.00293686, -0.01615272, -0.010279  ,\n",
       "        -0.00734214, -0.01908957, -0.00587372, -0.01174743, -0.00881057,\n",
       "        -0.01908957,  0.00293686, -0.02349486, -0.00293686, -0.01174743,\n",
       "        -0.02349486, -0.00146843, -0.01321586, -0.01174743, -0.01615272,\n",
       "        -0.01615272, -0.010279  ,  0.00293686, -0.01762115, -0.01174743,\n",
       "        -0.01321586, -0.00146843, -0.01321586, -0.02349486, -0.01615272,\n",
       "        -0.02202643, -0.00146843, -0.00881057, -0.01321586, -0.00734214,\n",
       "        -0.01762115, -0.01468429, -0.01174743, -0.010279  , -0.01321586,\n",
       "        -0.00881057, -0.01174743, -0.01762115, -0.00293686, -0.01615272,\n",
       "        -0.01762115, -0.01908957, -0.01468429, -0.01174743, -0.01468429,\n",
       "        -0.01174743, -0.01908957, -0.00734214, -0.020558  , -0.01321586,\n",
       "        -0.00734214, -0.00734214, -0.010279  , -0.00587372, -0.01174743,\n",
       "        -0.02349486, -0.00881057, -0.00293686, -0.020558  , -0.01321586,\n",
       "        -0.020558  , -0.01468429, -0.02202643, -0.01321586, -0.01468429,\n",
       "        -0.01908957, -0.00881057, -0.010279  , -0.00881057, -0.01321586,\n",
       "        -0.01762115, -0.01615272, -0.01615272, -0.01321586, -0.01908957,\n",
       "        -0.00881057, -0.010279  , -0.01468429, -0.00587372, -0.010279  ,\n",
       "        -0.02202643, -0.02496329, -0.01615272, -0.01908957, -0.00293686,\n",
       "        -0.00881057, -0.01908957, -0.01762115, -0.01174743, -0.01174743,\n",
       "        -0.01615272, -0.01762115, -0.00293686, -0.01174743, -0.02643172,\n",
       "        -0.00440529, -0.00881057, -0.01762115, -0.01174743, -0.00587372,\n",
       "        -0.01468429, -0.01908957, -0.00587372, -0.01468429,  0.00146843,\n",
       "        -0.010279  , -0.00734214, -0.01321586, -0.01174743, -0.01762115,\n",
       "        -0.01174743, -0.010279  , -0.02349486, -0.00293686, -0.01908957,\n",
       "        -0.01762115, -0.01174743, -0.01615272, -0.01174743, -0.00293686,\n",
       "        -0.00440529, -0.00587372,  0.00587372, -0.01174743, -0.01908957,\n",
       "        -0.00146843, -0.01762115, -0.01762115, -0.01908957, -0.00587372,\n",
       "        -0.01908957, -0.01615272, -0.01321586, -0.01615272, -0.010279  ,\n",
       "        -0.02790015, -0.02643172, -0.00734214, -0.00440529, -0.020558  ,\n",
       "        -0.01615272, -0.01174743, -0.00734214, -0.01762115, -0.01174743,\n",
       "        -0.00734214, -0.01615272, -0.010279  , -0.010279  , -0.00734214,\n",
       "        -0.00587372, -0.01321586, -0.02202643, -0.00587372, -0.00440529,\n",
       "         0.00440529, -0.020558  ,  0.00587372, -0.00440529, -0.02496329,\n",
       "        -0.01615272, -0.020558  , -0.00881057, -0.01468429, -0.01468429,\n",
       "        -0.00734214,  0.        , -0.01468429, -0.01762115, -0.00587372,\n",
       "        -0.00293686, -0.01615272, -0.01468429, -0.02202643, -0.00146843,\n",
       "        -0.01468429, -0.01174743, -0.010279  , -0.00440529, -0.01615272,\n",
       "        -0.010279  , -0.00734214, -0.02202643, -0.01321586, -0.00881057,\n",
       "        -0.01762115, -0.01321586, -0.01762115, -0.00587372,  0.00440529,\n",
       "        -0.01468429,  0.00146843, -0.00440529, -0.00881057, -0.01321586,\n",
       "        -0.020558  , -0.00881057, -0.01908957, -0.02496329, -0.010279  ,\n",
       "        -0.010279  , -0.00293686, -0.01615272, -0.01468429, -0.00587372,\n",
       "        -0.01468429, -0.01468429, -0.010279  , -0.01321586, -0.01321586,\n",
       "        -0.010279  ,  0.00146843, -0.020558  , -0.01468429,  0.00440529,\n",
       "         0.00587372, -0.00440529, -0.01468429, -0.010279  , -0.00881057,\n",
       "        -0.00881057, -0.01468429, -0.02496329, -0.00734214, -0.02349486,\n",
       "         0.00293686, -0.01321586, -0.00440529, -0.00587372, -0.00881057,\n",
       "        -0.02202643, -0.01908957, -0.00440529, -0.01174743, -0.01908957,\n",
       "        -0.00440529, -0.01468429,  0.00146843, -0.01908957, -0.01321586,\n",
       "         0.00440529, -0.02790015, -0.010279  , -0.01615272, -0.00146843,\n",
       "        -0.01468429, -0.020558  , -0.01615272, -0.00881057, -0.00734214,\n",
       "        -0.02202643, -0.02790015, -0.01468429, -0.01321586, -0.02202643,\n",
       "        -0.00440529, -0.00293686, -0.00146843, -0.00881057, -0.010279  ,\n",
       "        -0.01174743, -0.01468429, -0.02202643, -0.010279  , -0.00440529,\n",
       "        -0.01468429, -0.01174743, -0.01908957, -0.01321586, -0.01321586,\n",
       "        -0.01615272, -0.01321586, -0.01615272, -0.010279  , -0.00734214,\n",
       "         0.        , -0.010279  , -0.01174743, -0.010279  , -0.01762115,\n",
       "        -0.00881057, -0.010279  , -0.01174743, -0.010279  , -0.02790015,\n",
       "        -0.020558  , -0.02496329, -0.02349486, -0.02496329, -0.00587372,\n",
       "        -0.01321586, -0.00440529, -0.00293686, -0.02202643, -0.00146843,\n",
       "        -0.00440529, -0.01908957, -0.01762115, -0.01908957, -0.00734214,\n",
       "        -0.01174743, -0.01615272, -0.01468429, -0.030837  , -0.01615272,\n",
       "        -0.00293686, -0.02349486, -0.02202643, -0.01321586, -0.00587372,\n",
       "        -0.01321586, -0.01908957, -0.00734214,  0.00440529, -0.02496329]),\n",
       " 'Alumni.MCE.2GEN.run1 - mayoritariaRecomendacion': array([-0.40969163, -0.35976505, -0.4082232 , -0.44199706, -0.38325991,\n",
       "        -0.43759178, -0.3773862 , -0.39353891, -0.4082232 , -0.43465492,\n",
       "        -0.42731278, -0.46696035, -0.41409692, -0.45668135, -0.43024963,\n",
       "        -0.47283407, -0.39060206, -0.4287812 , -0.43465492, -0.44933921,\n",
       "        -0.41409692, -0.37004405, -0.44052863, -0.37444934, -0.4082232 ,\n",
       "        -0.40528634, -0.45961821, -0.42731278, -0.46255507, -0.36123348,\n",
       "        -0.36563877, -0.44933921, -0.38325991, -0.38913363, -0.3773862 ,\n",
       "        -0.44640235, -0.35535977, -0.46402349, -0.46108664, -0.48017621,\n",
       "        -0.45374449, -0.42143906, -0.41997063, -0.40234949, -0.45080764,\n",
       "        -0.45521292, -0.39941263, -0.40969163, -0.43171806, -0.37885463,\n",
       "        -0.38913363, -0.39500734, -0.44787078, -0.38913363, -0.43024963,\n",
       "        -0.43171806, -0.43024963, -0.43612335, -0.40381791, -0.42731278,\n",
       "        -0.3773862 , -0.38619677, -0.37151248, -0.34361233, -0.43024963,\n",
       "        -0.37885463, -0.40381791, -0.44493392, -0.41262849, -0.4082232 ,\n",
       "        -0.38325991, -0.39353891, -0.38179148, -0.37591777, -0.41997063,\n",
       "        -0.41997063, -0.43465492, -0.41997063, -0.38619677, -0.38325991,\n",
       "        -0.44640235, -0.39060206, -0.42437592, -0.40528634, -0.40234949,\n",
       "        -0.43465492, -0.43906021, -0.42437592, -0.41409692, -0.38472834,\n",
       "        -0.42437592, -0.41703377, -0.46255507, -0.41262849, -0.39647577,\n",
       "        -0.44052863, -0.41997063, -0.45961821, -0.40381791, -0.40969163,\n",
       "        -0.39647577, -0.39353891, -0.4185022 , -0.40381791, -0.43465492,\n",
       "        -0.40234949, -0.38325991, -0.45814978, -0.45521292, -0.3671072 ,\n",
       "        -0.44052863, -0.38913363, -0.43759178, -0.38179148, -0.39941263,\n",
       "        -0.37298091, -0.42437592, -0.43906021, -0.44199706, -0.43024963,\n",
       "        -0.45227606, -0.41409692, -0.4185022 , -0.45521292, -0.42143906,\n",
       "        -0.44787078, -0.44787078, -0.4082232 , -0.42290749, -0.39941263,\n",
       "        -0.3979442 , -0.36857562, -0.39060206, -0.46549192, -0.45814978,\n",
       "        -0.37004405, -0.43906021, -0.42143906, -0.44787078, -0.40969163,\n",
       "        -0.38179148, -0.44346549, -0.37151248, -0.44493392, -0.3876652 ,\n",
       "        -0.44493392, -0.46989721, -0.43759178, -0.44199706, -0.43465492,\n",
       "        -0.40969163, -0.39647577, -0.40234949, -0.45668135, -0.40381791,\n",
       "        -0.46842878, -0.43465492, -0.39207048, -0.3876652 , -0.40969163,\n",
       "        -0.43465492, -0.37298091, -0.4845815 , -0.4287812 , -0.43318649,\n",
       "        -0.44346549, -0.41116006, -0.43612335, -0.43465492, -0.45961821,\n",
       "        -0.38913363, -0.42731278, -0.39060206, -0.43906021, -0.35829662,\n",
       "        -0.39060206, -0.4082232 , -0.40969163, -0.3773862 , -0.41409692,\n",
       "        -0.37004405, -0.36270191, -0.41997063, -0.37885463, -0.3979442 ,\n",
       "        -0.45668135, -0.45961821, -0.42584435, -0.45227606, -0.4082232 ,\n",
       "        -0.42437592, -0.42437592, -0.39060206, -0.40528634, -0.3876652 ,\n",
       "        -0.38913363, -0.41703377, -0.44640235, -0.45814978, -0.43906021,\n",
       "        -0.40675477, -0.34654919, -0.4185022 , -0.41116006, -0.43318649,\n",
       "        -0.41997063, -0.47577093, -0.36123348, -0.39060206, -0.39353891,\n",
       "        -0.35829662, -0.3979442 , -0.45521292, -0.44052863, -0.39500734,\n",
       "        -0.44199706, -0.40528634, -0.41409692, -0.4082232 , -0.36270191,\n",
       "        -0.41409692, -0.3979442 , -0.4287812 , -0.43318649, -0.43759178,\n",
       "        -0.39353891, -0.45374449, -0.44933921, -0.40528634, -0.45227606,\n",
       "        -0.43906021, -0.4082232 , -0.36270191, -0.41997063, -0.4287812 ,\n",
       "        -0.44199706, -0.42143906, -0.44787078, -0.35242291, -0.38619677,\n",
       "        -0.41116006, -0.41409692, -0.44199706, -0.43612335, -0.4287812 ,\n",
       "        -0.37444934, -0.37885463, -0.4743025 , -0.44199706, -0.48311307,\n",
       "        -0.41116006, -0.37004405, -0.37151248, -0.4082232 , -0.42143906,\n",
       "        -0.42143906, -0.36417034, -0.39353891, -0.40528634, -0.37298091,\n",
       "        -0.44933921, -0.42290749, -0.40528634, -0.34801762, -0.39353891,\n",
       "        -0.42143906, -0.40381791, -0.41116006, -0.38472834, -0.48898678,\n",
       "        -0.42731278, -0.44199706, -0.42143906, -0.40675477, -0.39060206,\n",
       "        -0.40234949, -0.37151248, -0.47283407, -0.37298091, -0.3979442 ,\n",
       "        -0.43612335, -0.37151248, -0.40969163, -0.39941263, -0.42143906,\n",
       "        -0.35976505, -0.38032305, -0.4185022 , -0.44346549, -0.44199706,\n",
       "        -0.39060206, -0.45814978, -0.44933921, -0.42143906, -0.44199706,\n",
       "        -0.43171806, -0.43024963, -0.40675477, -0.39500734, -0.40675477,\n",
       "        -0.42584435, -0.41997063, -0.45227606, -0.42290749, -0.36563877,\n",
       "        -0.46402349, -0.37885463, -0.42437592, -0.45814978, -0.39941263,\n",
       "        -0.37004405, -0.44933921, -0.45521292, -0.40088106, -0.3876652 ,\n",
       "        -0.39941263, -0.41997063, -0.40528634, -0.39353891, -0.44933921,\n",
       "        -0.4287812 , -0.3979442 , -0.40528634, -0.42143906, -0.46549192,\n",
       "        -0.37885463, -0.42143906, -0.4287812 , -0.41556535, -0.39647577,\n",
       "        -0.41997063, -0.49339207, -0.41409692, -0.45080764, -0.38032305,\n",
       "        -0.39647577, -0.42290749, -0.3876652 , -0.41703377, -0.37444934,\n",
       "        -0.41409692, -0.35829662, -0.43318649, -0.4287812 , -0.41409692,\n",
       "        -0.39500734, -0.42731278, -0.43318649, -0.43465492, -0.42143906,\n",
       "        -0.40528634, -0.38913363, -0.35829662, -0.38032305, -0.40381791,\n",
       "        -0.42731278, -0.35242291, -0.37444934, -0.37591777, -0.41997063,\n",
       "        -0.45227606, -0.39941263, -0.4287812 , -0.42584435, -0.46989721,\n",
       "        -0.3979442 , -0.42143906, -0.40234949, -0.39647577, -0.44052863,\n",
       "        -0.45227606, -0.42143906, -0.40234949, -0.40528634, -0.43024963,\n",
       "        -0.41997063, -0.42731278, -0.40969163, -0.4082232 , -0.41703377,\n",
       "        -0.3671072 , -0.40381791, -0.41556535, -0.40088106, -0.3979442 ,\n",
       "        -0.38325991, -0.46108664, -0.4287812 , -0.39060206, -0.4743025 ,\n",
       "        -0.43318649, -0.4287812 , -0.43024963, -0.42731278, -0.42290749,\n",
       "        -0.49339207, -0.45227606, -0.38032305, -0.38179148, -0.39647577,\n",
       "        -0.39647577, -0.40088106, -0.42437592, -0.41262849, -0.38325991,\n",
       "        -0.35976505, -0.42143906, -0.37004405, -0.41262849, -0.3876652 ,\n",
       "        -0.37591777, -0.4082232 , -0.42290749, -0.44346549, -0.37151248,\n",
       "        -0.4287812 , -0.42437592, -0.3671072 , -0.42143906, -0.43612335,\n",
       "        -0.4082232 , -0.36857562, -0.38472834, -0.4082232 , -0.40528634,\n",
       "        -0.3773862 , -0.46842878, -0.41116006, -0.3979442 , -0.43465492,\n",
       "        -0.37885463, -0.44787078, -0.36417034, -0.37591777, -0.42584435,\n",
       "        -0.48164464, -0.35682819, -0.43171806, -0.41409692, -0.41997063,\n",
       "        -0.44640235, -0.42290749, -0.40381791, -0.40969163, -0.46108664,\n",
       "        -0.41262849, -0.40088106, -0.40381791, -0.42143906, -0.44933921,\n",
       "        -0.41703377, -0.43612335, -0.45227606, -0.44933921, -0.37298091,\n",
       "        -0.38179148, -0.36857562, -0.34067548, -0.39941263, -0.40088106,\n",
       "        -0.35389134, -0.41262849, -0.36417034, -0.39941263, -0.40675477,\n",
       "        -0.41703377, -0.45668135, -0.38179148, -0.40675477, -0.43759178,\n",
       "        -0.4287812 , -0.44346549, -0.37444934, -0.43759178, -0.36563877,\n",
       "        -0.45668135, -0.42437592, -0.37591777, -0.35976505, -0.42437592,\n",
       "        -0.36857562, -0.36417034, -0.38472834, -0.39941263, -0.44346549,\n",
       "        -0.42143906, -0.35535977, -0.43465492, -0.36563877, -0.35535977,\n",
       "        -0.41997063, -0.34654919, -0.39207048, -0.39207048, -0.40381791,\n",
       "        -0.46549192, -0.46696035, -0.44933921, -0.44640235, -0.39500734,\n",
       "        -0.4082232 , -0.41556535, -0.39207048, -0.36123348, -0.41262849,\n",
       "        -0.38179148, -0.44933921, -0.38913363, -0.36123348, -0.45374449,\n",
       "        -0.35976505, -0.43759178, -0.46696035, -0.40675477, -0.40381791,\n",
       "        -0.42584435, -0.3773862 , -0.45374449, -0.39207048, -0.39353891,\n",
       "        -0.4185022 , -0.38619677, -0.48164464, -0.39060206, -0.36563877,\n",
       "        -0.43612335, -0.41116006, -0.44787078, -0.40381791, -0.40675477,\n",
       "        -0.42584435, -0.39207048, -0.41262849, -0.36417034, -0.41409692,\n",
       "        -0.37885463, -0.40088106, -0.38619677, -0.39500734, -0.39207048,\n",
       "        -0.39060206, -0.43906021, -0.43171806, -0.37444934, -0.40234949,\n",
       "        -0.4185022 , -0.40234949, -0.40381791, -0.39500734, -0.39500734,\n",
       "        -0.38325991, -0.4082232 , -0.40969163, -0.49339207, -0.43759178,\n",
       "        -0.44346549, -0.39647577, -0.40088106, -0.42731278, -0.41262849,\n",
       "        -0.42731278, -0.39060206, -0.43759178, -0.42290749, -0.36563877,\n",
       "        -0.36270191, -0.44052863, -0.39353891, -0.48164464, -0.43318649,\n",
       "        -0.40234949, -0.40088106, -0.3876652 , -0.43906021, -0.39207048,\n",
       "        -0.39941263, -0.43024963, -0.41116006, -0.39941263, -0.36417034,\n",
       "        -0.40675477, -0.41997063, -0.45080764, -0.3876652 , -0.37591777,\n",
       "        -0.41116006, -0.37444934, -0.41703377, -0.40088106, -0.40675477,\n",
       "        -0.42290749, -0.41116006, -0.4287812 , -0.43612335, -0.43906021,\n",
       "        -0.46402349, -0.44052863, -0.35682819, -0.40381791, -0.42584435,\n",
       "        -0.41262849, -0.39647577, -0.4287812 , -0.44052863, -0.40088106,\n",
       "        -0.43024963, -0.33480176, -0.45080764, -0.42143906, -0.43024963,\n",
       "        -0.4082232 , -0.39941263, -0.3773862 , -0.44933921, -0.40088106,\n",
       "        -0.39647577, -0.45668135, -0.41262849, -0.36270191, -0.4185022 ,\n",
       "        -0.37004405, -0.38472834, -0.39353891, -0.40969163, -0.40675477,\n",
       "        -0.40381791, -0.4287812 , -0.44787078, -0.42731278, -0.46108664,\n",
       "        -0.41556535, -0.42584435, -0.39353891, -0.37298091, -0.43171806,\n",
       "        -0.42437592, -0.35242291, -0.40969163, -0.3773862 , -0.40969163,\n",
       "        -0.44640235, -0.37885463, -0.41703377, -0.46696035, -0.3979442 ,\n",
       "        -0.38619677, -0.43612335, -0.40969163, -0.45080764, -0.37444934,\n",
       "        -0.41556535, -0.40969163, -0.40088106, -0.40381791, -0.45521292,\n",
       "        -0.38325991, -0.4948605 , -0.35389134, -0.37591777, -0.43318649,\n",
       "        -0.47870778, -0.42584435, -0.42143906, -0.38619677, -0.42731278,\n",
       "        -0.49632893, -0.38913363, -0.40088106, -0.3876652 , -0.41997063,\n",
       "        -0.35682819, -0.40088106, -0.40234949, -0.37298091, -0.4287812 ,\n",
       "        -0.43465492, -0.36123348, -0.41262849, -0.43612335, -0.36417034,\n",
       "        -0.45227606, -0.43171806, -0.46989721, -0.40675477, -0.44640235,\n",
       "        -0.39941263, -0.41703377, -0.35829662, -0.3876652 , -0.45080764,\n",
       "        -0.40969163, -0.34654919, -0.44640235, -0.3979442 , -0.3671072 ,\n",
       "        -0.43759178, -0.41409692, -0.37885463, -0.39500734, -0.40528634,\n",
       "        -0.43318649, -0.42290749, -0.3773862 , -0.40675477, -0.42437592,\n",
       "        -0.38032305, -0.47870778, -0.42143906, -0.38325991, -0.4743025 ,\n",
       "        -0.37151248, -0.33333333, -0.39060206, -0.43612335, -0.41703377,\n",
       "        -0.39500734, -0.37444934, -0.39941263, -0.44199706, -0.37591777,\n",
       "        -0.41703377, -0.39060206, -0.45227606, -0.41556535, -0.42437592,\n",
       "        -0.42731278, -0.44933921, -0.44493392, -0.42143906, -0.39647577,\n",
       "        -0.38325991, -0.43759178, -0.33773862, -0.39207048, -0.43759178,\n",
       "        -0.41997063, -0.43612335, -0.44199706, -0.4082232 , -0.46402349,\n",
       "        -0.41409692, -0.41556535, -0.38472834, -0.44199706, -0.42584435,\n",
       "        -0.40234949, -0.43612335, -0.43465492, -0.41116006, -0.38619677,\n",
       "        -0.41409692, -0.43024963, -0.42143906, -0.44199706, -0.43759178,\n",
       "        -0.42290749, -0.43612335, -0.4082232 , -0.39353891, -0.38325991,\n",
       "        -0.4287812 , -0.41997063, -0.38913363, -0.41116006, -0.38325991,\n",
       "        -0.40528634, -0.40675477, -0.39060206, -0.44640235, -0.45961821,\n",
       "        -0.43612335, -0.40381791, -0.41409692, -0.44346549, -0.39500734,\n",
       "        -0.41409692, -0.44052863, -0.44052863, -0.40528634, -0.36857562,\n",
       "        -0.43171806, -0.44933921, -0.4185022 , -0.40234949, -0.44052863,\n",
       "        -0.41409692, -0.43612335, -0.41556535, -0.3876652 , -0.39207048,\n",
       "        -0.3979442 , -0.4185022 , -0.44787078, -0.37151248, -0.38325991,\n",
       "        -0.4185022 , -0.3671072 , -0.4082232 , -0.39500734, -0.42290749,\n",
       "        -0.38472834, -0.38032305, -0.39353891, -0.41409692, -0.37885463,\n",
       "        -0.39941263, -0.42437592, -0.43024963, -0.45374449, -0.42143906,\n",
       "        -0.40969163, -0.47870778, -0.4287812 , -0.38032305, -0.42731278,\n",
       "        -0.35829662, -0.41997063, -0.42290749, -0.43612335, -0.34654919,\n",
       "        -0.40528634, -0.35682819, -0.41997063, -0.41409692, -0.43612335,\n",
       "        -0.40088106, -0.3876652 , -0.46108664, -0.44493392, -0.40381791,\n",
       "        -0.39941263, -0.43024963, -0.41116006, -0.41997063, -0.39353891,\n",
       "        -0.40528634, -0.44052863, -0.44199706, -0.41703377, -0.37885463,\n",
       "        -0.41997063, -0.41409692, -0.33480176, -0.39207048, -0.44346549,\n",
       "        -0.36857562, -0.37004405, -0.41116006, -0.42143906, -0.43906021,\n",
       "        -0.37444934, -0.37591777, -0.39207048, -0.43612335, -0.43612335,\n",
       "        -0.37591777, -0.37444934, -0.45814978, -0.45227606, -0.38325991,\n",
       "        -0.44493392, -0.3876652 , -0.40234949, -0.44346549, -0.44052863,\n",
       "        -0.42584435, -0.46842878, -0.38913363, -0.38032305, -0.35389134,\n",
       "        -0.42437592, -0.45227606, -0.39500734, -0.43171806, -0.42290749,\n",
       "        -0.38325991, -0.3979442 , -0.40088106, -0.40088106, -0.39500734,\n",
       "        -0.41703377, -0.36123348, -0.42731278, -0.36123348, -0.43759178,\n",
       "        -0.45668135, -0.35095448, -0.46402349, -0.39207048, -0.40381791,\n",
       "        -0.38179148, -0.38913363, -0.3979442 , -0.39941263, -0.43318649,\n",
       "        -0.35682819, -0.38179148, -0.39500734, -0.4287812 , -0.39060206,\n",
       "        -0.43465492, -0.43171806, -0.42437592, -0.39500734, -0.41556535,\n",
       "        -0.46989721, -0.43612335, -0.37591777, -0.42143906, -0.4185022 ,\n",
       "        -0.44787078, -0.42437592, -0.46402349, -0.41116006, -0.40088106,\n",
       "        -0.4082232 , -0.4743025 , -0.44493392, -0.43024963, -0.40234949,\n",
       "        -0.43024963, -0.43465492, -0.44052863, -0.38913363, -0.37444934,\n",
       "        -0.38913363, -0.4082232 , -0.39500734, -0.39353891, -0.3773862 ,\n",
       "        -0.38913363, -0.4082232 , -0.43318649, -0.41116006, -0.42584435,\n",
       "        -0.41409692, -0.39647577, -0.4185022 , -0.39207048, -0.46696035,\n",
       "        -0.44640235, -0.46842878, -0.39941263, -0.38619677, -0.43318649,\n",
       "        -0.43171806, -0.44933921, -0.44346549, -0.44199706, -0.42290749,\n",
       "        -0.44346549, -0.41262849, -0.38179148, -0.40675477, -0.43906021,\n",
       "        -0.40675477, -0.37885463, -0.40088106, -0.40528634, -0.39647577,\n",
       "        -0.43612335, -0.36563877, -0.4185022 , -0.4743025 , -0.47283407,\n",
       "        -0.47136564, -0.44346549, -0.40675477, -0.42437592, -0.4287812 ,\n",
       "        -0.43318649, -0.39941263, -0.41409692, -0.43759178, -0.39941263,\n",
       "        -0.4287812 , -0.38325991, -0.34361233, -0.41703377, -0.4082232 ,\n",
       "        -0.4082232 , -0.43318649, -0.43024963, -0.45080764, -0.44199706,\n",
       "        -0.4185022 , -0.43171806, -0.45521292, -0.42290749, -0.37885463,\n",
       "        -0.36857562, -0.39941263, -0.43318649, -0.43612335, -0.42290749,\n",
       "        -0.38325991, -0.48751836, -0.40088106, -0.4082232 , -0.37885463]),\n",
       " 'Alumni.MCE.2GEN.run1 - jorge.hermosillo.recommendation': array([-1.43612335, -1.35095448, -1.24522761, -1.49045521, -1.45080764,\n",
       "        -1.38325991, -1.29368576, -1.3215859 , -1.28781204, -1.3773862 ,\n",
       "        -1.29221733, -1.24669604, -1.42584435, -1.28193833, -1.34214391,\n",
       "        -1.33333333, -1.34801762, -1.35976505, -1.24522761, -1.35682819,\n",
       "        -1.33333333, -1.33480176, -1.24229075, -1.38619677, -1.33773862,\n",
       "        -1.26725404, -1.24229075, -1.35095448, -1.36417034, -1.34948605,\n",
       "        -1.35829662, -1.38325991, -1.32452276, -1.44052863, -1.36270191,\n",
       "        -1.2701909 , -1.29221733, -1.41409692, -1.35535977, -1.27753304,\n",
       "        -1.26138032, -1.29809104, -1.35829662, -1.2907489 , -1.28928047,\n",
       "        -1.4287812 , -1.40381791, -1.33627019, -1.45374449, -1.30983847,\n",
       "        -1.28928047, -1.42437592, -1.33627019, -1.35682819, -1.38032305,\n",
       "        -1.32305433, -1.36563877, -1.3215859 , -1.32745962, -1.37298091,\n",
       "        -1.4287812 , -1.4082232 , -1.45668135, -1.36123348, -1.36270191,\n",
       "        -1.45080764, -1.32305433, -1.31277533, -1.2349486 , -1.4082232 ,\n",
       "        -1.33773862, -1.28928047, -1.45668135, -1.30249633, -1.29662261,\n",
       "        -1.3010279 , -1.37885463, -1.35535977, -1.39941263, -1.29662261,\n",
       "        -1.34361233, -1.39060206, -1.42731278, -1.35535977, -1.39647577,\n",
       "        -1.42731278, -1.42437592, -1.39353891, -1.42731278, -1.28193833,\n",
       "        -1.3318649 , -1.34654919, -1.30396476, -1.32892805, -1.38619677,\n",
       "        -1.35976505, -1.45814978, -1.41262849, -1.33480176, -1.24669604,\n",
       "        -1.34801762, -1.33627019, -1.33773862, -1.31277533, -1.34801762,\n",
       "        -1.32011747, -1.40528634, -1.40381791, -1.40528634, -1.37885463,\n",
       "        -1.34654919, -1.34508076, -1.2701909 , -1.35389134, -1.30249633,\n",
       "        -1.52422907, -1.42584435, -1.32452276, -1.36563877, -1.28634361,\n",
       "        -1.27606461, -1.38619677, -1.28928047, -1.34654919, -1.40969163,\n",
       "        -1.36857562, -1.37591777, -1.42290749, -1.28634361, -1.33920705,\n",
       "        -1.39207048, -1.33773862, -1.2907489 , -1.34508076, -1.31718062,\n",
       "        -1.34801762, -1.35829662, -1.36270191, -1.35682819, -1.38913363,\n",
       "        -1.25697504, -1.32892805, -1.34214391, -1.3113069 , -1.39207048,\n",
       "        -1.32599119, -1.32745962, -1.39647577, -1.32452276, -1.33480176,\n",
       "        -1.34948605, -1.27165932, -1.37151248, -1.44199706, -1.31571219,\n",
       "        -1.35829662, -1.24522761, -1.34361233, -1.38179148, -1.33039648,\n",
       "        -1.31864905, -1.41262849, -1.41262849, -1.35095448, -1.34948605,\n",
       "        -1.32892805, -1.43759178, -1.45080764, -1.3876652 , -1.39353891,\n",
       "        -1.3876652 , -1.4287812 , -1.29515419, -1.33480176, -1.34948605,\n",
       "        -1.2701909 , -1.33480176, -1.35095448, -1.29368576, -1.30690162,\n",
       "        -1.35829662, -1.30690162, -1.37151248, -1.25991189, -1.37444934,\n",
       "        -1.29955947, -1.25991189, -1.36563877, -1.26284875, -1.39500734,\n",
       "        -1.34361233, -1.25110132, -1.2701909 , -1.29955947, -1.25697504,\n",
       "        -1.42437592, -1.33039648, -1.35389134, -1.44052863, -1.38619677,\n",
       "        -1.32892805, -1.35389134, -1.35389134, -1.36270191, -1.24816446,\n",
       "        -1.34801762, -1.35389134, -1.42290749, -1.28487518, -1.32599119,\n",
       "        -1.34948605, -1.33333333, -1.39647577, -1.33333333, -1.40088106,\n",
       "        -1.22026432, -1.49632893, -1.29955947, -1.37151248, -1.34361233,\n",
       "        -1.37298091, -1.32745962, -1.29662261, -1.41997063, -1.38472834,\n",
       "        -1.35095448, -1.40675477, -1.3773862 , -1.34801762, -1.31571219,\n",
       "        -1.26284875, -1.41703377, -1.4082232 , -1.3113069 , -1.34361233,\n",
       "        -1.34654919, -1.37885463, -1.38325991, -1.40088106, -1.4287812 ,\n",
       "        -1.35829662, -1.28487518, -1.39500734, -1.26578561, -1.27753304,\n",
       "        -1.36270191, -1.25991189, -1.26138032, -1.3773862 , -1.4082232 ,\n",
       "        -1.43171806, -1.44052863, -1.34801762, -1.42143906, -1.32305433,\n",
       "        -1.31277533, -1.34948605, -1.32011747, -1.41116006, -1.43759178,\n",
       "        -1.37298091, -1.23935389, -1.37591777, -1.29662261, -1.35242291,\n",
       "        -1.30837004, -1.35976505, -1.40088106, -1.29809104, -1.20558003,\n",
       "        -1.27165932, -1.32892805, -1.3215859 , -1.26138032, -1.29368576,\n",
       "        -1.30249633, -1.35095448, -1.38032305, -1.35535977, -1.39207048,\n",
       "        -1.38179148, -1.28340675, -1.3318649 , -1.43171806, -1.41409692,\n",
       "        -1.44199706, -1.42143906, -1.38325991, -1.40528634, -1.35095448,\n",
       "        -1.33920705, -1.41556535, -1.37298091, -1.44787078, -1.32452276,\n",
       "        -1.39941263, -1.38179148, -1.30690162, -1.32305433, -1.35976505,\n",
       "        -1.3876652 , -1.30690162, -1.46842878, -1.31424376, -1.26725404,\n",
       "        -1.31718062, -1.24082232, -1.45814978, -1.40675477, -1.41703377,\n",
       "        -1.30837004, -1.39060206, -1.28634361, -1.31277533, -1.38179148,\n",
       "        -1.42437592, -1.39353891, -1.34801762, -1.39353891, -1.20704846,\n",
       "        -1.28634361, -1.31571219, -1.40969163, -1.37151248, -1.34654919,\n",
       "        -1.38913363, -1.37444934, -1.34801762, -1.38179148, -1.29368576,\n",
       "        -1.37885463, -1.27753304, -1.34067548, -1.34067548, -1.3876652 ,\n",
       "        -1.4743025 , -1.40675477, -1.42290749, -1.40528634, -1.36563877,\n",
       "        -1.35242291, -1.3876652 , -1.37885463, -1.38325991, -1.34801762,\n",
       "        -1.37004405, -1.39500734, -1.37298091, -1.33920705, -1.30543319,\n",
       "        -1.37004405, -1.37298091, -1.29221733, -1.3215859 , -1.36417034,\n",
       "        -1.32305433, -1.36563877, -1.31718062, -1.36270191, -1.41409692,\n",
       "        -1.40381791, -1.3113069 , -1.4185022 , -1.34948605, -1.24522761,\n",
       "        -1.41116006, -1.28928047, -1.33627019, -1.30837004, -1.42290749,\n",
       "        -1.3318649 , -1.31718062, -1.32011747, -1.34361233, -1.32892805,\n",
       "        -1.32452276, -1.29809104, -1.45080764, -1.30983847, -1.31571219,\n",
       "        -1.3876652 , -1.33773862, -1.32305433, -1.3113069 , -1.35682819,\n",
       "        -1.27900147, -1.40675477, -1.35976505, -1.34654919, -1.43465492,\n",
       "        -1.15124816, -1.29955947, -1.3318649 , -1.4287812 , -1.46108664,\n",
       "        -1.34214391, -1.33333333, -1.45814978, -1.30543319, -1.31864905,\n",
       "        -1.39353891, -1.36123348, -1.35829662, -1.3876652 , -1.15712188,\n",
       "        -1.38179148, -1.2701909 , -1.31571219, -1.3773862 , -1.3876652 ,\n",
       "        -1.41262849, -1.40234949, -1.36123348, -1.36123348, -1.47577093,\n",
       "        -1.34948605, -1.27312775, -1.29955947, -1.36417034, -1.28781204,\n",
       "        -1.32452276, -1.34508076, -1.39353891, -1.35976505, -1.42437592,\n",
       "        -1.3773862 , -1.35535977, -1.32011747, -1.31718062, -1.42143906,\n",
       "        -1.31424376, -1.35682819, -1.28487518, -1.28634361, -1.39647577,\n",
       "        -1.28634361, -1.35535977, -1.38619677, -1.37151248, -1.30837004,\n",
       "        -1.22173275, -1.29662261, -1.35242291, -1.44052863, -1.40528634,\n",
       "        -1.37298091, -1.46402349, -1.29368576, -1.31718062, -1.36417034,\n",
       "        -1.31864905, -1.43465492, -1.3113069 , -1.43906021, -1.32745962,\n",
       "        -1.30543319, -1.35242291, -1.3113069 , -1.33333333, -1.29368576,\n",
       "        -1.41997063, -1.26578561, -1.33039648, -1.35535977, -1.36417034,\n",
       "        -1.28487518, -1.41997063, -1.28634361, -1.44787078, -1.34214391,\n",
       "        -1.39941263, -1.36563877, -1.32305433, -1.34361233, -1.37004405,\n",
       "        -1.43612335, -1.3215859 , -1.40088106, -1.34361233, -1.33039648,\n",
       "        -1.32892805, -1.41997063, -1.32599119, -1.2907489 , -1.38472834,\n",
       "        -1.32305433, -1.45814978, -1.38179148, -1.42290749, -1.26284875,\n",
       "        -1.31864905, -1.35829662, -1.43024963, -1.44933921, -1.33773862,\n",
       "        -1.3318649 , -1.49192364, -1.29368576, -1.37004405, -1.35976505,\n",
       "        -1.44787078, -1.36123348, -1.32011747, -1.39353891, -1.36563877,\n",
       "        -1.27900147, -1.36270191, -1.38472834, -1.31864905, -1.33920705,\n",
       "        -1.25844347, -1.3773862 , -1.37444934, -1.3671072 , -1.40088106,\n",
       "        -1.3671072 , -1.40969163, -1.36123348, -1.39941263, -1.30543319,\n",
       "        -1.36270191, -1.39941263, -1.32452276, -1.45374449, -1.38325991,\n",
       "        -1.32452276, -1.38619677, -1.39060206, -1.33920705, -1.31571219,\n",
       "        -1.32745962, -1.37591777, -1.3010279 , -1.3773862 , -1.3979442 ,\n",
       "        -1.41262849, -1.35829662, -1.37591777, -1.28634361, -1.31277533,\n",
       "        -1.37298091, -1.33627019, -1.34508076, -1.26725404, -1.33627019,\n",
       "        -1.33480176, -1.30690162, -1.39353891, -1.3010279 , -1.32599119,\n",
       "        -1.31864905, -1.40234949, -1.28781204, -1.36417034, -1.38913363,\n",
       "        -1.31718062, -1.2907489 , -1.33039648, -1.35535977, -1.32745962,\n",
       "        -1.30396476, -1.36417034, -1.34654919, -1.33627019, -1.35242291,\n",
       "        -1.28781204, -1.3773862 , -1.35095448, -1.28193833, -1.34948605,\n",
       "        -1.2041116 , -1.4287812 , -1.29955947, -1.32305433, -1.40528634,\n",
       "        -1.37591777, -1.24082232, -1.29368576, -1.28634361, -1.3876652 ,\n",
       "        -1.31424376, -1.34361233, -1.3215859 , -1.3876652 , -1.3773862 ,\n",
       "        -1.30543319, -1.46842878, -1.3876652 , -1.35095448, -1.43759178,\n",
       "        -1.43906021, -1.30837004, -1.34214391, -1.3215859 , -1.30249633,\n",
       "        -1.45374449, -1.3979442 , -1.34801762, -1.28781204, -1.27900147,\n",
       "        -1.27606461, -1.33480176, -1.36563877, -1.39353891, -1.2804699 ,\n",
       "        -1.3010279 , -1.39060206, -1.32745962, -1.41116006, -1.32745962,\n",
       "        -1.39060206, -1.32599119, -1.30837004, -1.29809104, -1.30543319,\n",
       "        -1.34214391, -1.35976505, -1.26872247, -1.35095448, -1.39500734,\n",
       "        -1.4948605 , -1.25991189, -1.38472834, -1.45521292, -1.27459618,\n",
       "        -1.40969163, -1.39647577, -1.34508076, -1.40528634, -1.27753304,\n",
       "        -1.38913363, -1.41262849, -1.49632893, -1.36417034, -1.34508076,\n",
       "        -1.32452276, -1.45668135, -1.41409692, -1.39500734, -1.35976505,\n",
       "        -1.36857562, -1.31571219, -1.38913363, -1.34654919, -1.44493392,\n",
       "        -1.39647577, -1.44052863, -1.32599119, -1.37004405, -1.2907489 ,\n",
       "        -1.28781204, -1.32452276, -1.30690162, -1.27900147, -1.37591777,\n",
       "        -1.28193833, -1.52129222, -1.34214391, -1.38913363, -1.42437592,\n",
       "        -1.34067548, -1.28781204, -1.37004405, -1.41556535, -1.41556535,\n",
       "        -1.3876652 , -1.30837004, -1.41997063, -1.32745962, -1.32305433,\n",
       "        -1.34508076, -1.34067548, -1.26872247, -1.36417034, -1.38032305,\n",
       "        -1.38032305, -1.42584435, -1.44052863, -1.39647577, -1.25844347,\n",
       "        -1.30249633, -1.32892805, -1.38913363, -1.32892805, -1.35242291,\n",
       "        -1.4082232 , -1.35682819, -1.42143906, -1.41409692, -1.37151248,\n",
       "        -1.35389134, -1.32745962, -1.27459618, -1.34654919, -1.48898678,\n",
       "        -1.25110132, -1.34361233, -1.30983847, -1.35095448, -1.34654919,\n",
       "        -1.26431718, -1.34361233, -1.42731278, -1.2804699 , -1.23201175,\n",
       "        -1.29955947, -1.35829662, -1.43171806, -1.32452276, -1.35095448,\n",
       "        -1.43171806, -1.30249633, -1.41262849, -1.4082232 , -1.42437592,\n",
       "        -1.35829662, -1.34801762, -1.24375918, -1.44199706, -1.34948605,\n",
       "        -1.35829662, -1.25403818, -1.3318649 , -1.29368576, -1.43171806,\n",
       "        -1.3010279 , -1.36270191, -1.25991189, -1.37444934, -1.29221733,\n",
       "        -1.35976505, -1.33039648, -1.38619677, -1.26431718, -1.27165932,\n",
       "        -1.37151248, -1.34067548, -1.45374449, -1.29955947, -1.30837004,\n",
       "        -1.3215859 , -1.30837004, -1.34361233, -1.28340675, -1.30396476,\n",
       "        -1.32745962, -1.38179148, -1.41703377, -1.38619677, -1.35829662,\n",
       "        -1.38179148, -1.33773862, -1.35535977, -1.32305433, -1.43612335,\n",
       "        -1.30690162, -1.36123348, -1.25110132, -1.35976505, -1.34067548,\n",
       "        -1.32305433, -1.3113069 , -1.32011747, -1.33920705, -1.28193833,\n",
       "        -1.43024963, -1.35095448, -1.36417034, -1.31571219, -1.45374449,\n",
       "        -1.33039648, -1.27312775, -1.40088106, -1.35829662, -1.3318649 ,\n",
       "        -1.36417034, -1.41409692, -1.33920705, -1.36123348, -1.45961821,\n",
       "        -1.41703377, -1.44346549, -1.2701909 , -1.36563877, -1.25110132,\n",
       "        -1.42437592, -1.3215859 , -1.3671072 , -1.38032305, -1.44493392,\n",
       "        -1.27459618, -1.25256975, -1.31571219, -1.39060206, -1.38325991,\n",
       "        -1.36123348, -1.3215859 , -1.28340675, -1.37151248, -1.41116006,\n",
       "        -1.37004405, -1.3215859 , -1.36417034, -1.3010279 , -1.40969163,\n",
       "        -1.2907489 , -1.40675477, -1.2804699 , -1.29515419, -1.32745962,\n",
       "        -1.41703377, -1.41116006, -1.35682819, -1.38472834, -1.29515419,\n",
       "        -1.31277533, -1.36123348, -1.42143906, -1.3010279 , -1.30690162,\n",
       "        -1.2907489 , -1.27606461, -1.34067548, -1.40088106, -1.35976505,\n",
       "        -1.31277533, -1.34654919, -1.35535977, -1.32599119, -1.38179148,\n",
       "        -1.26578561, -1.38472834, -1.40381791, -1.36417034, -1.38913363,\n",
       "        -1.33773862, -1.4185022 , -1.24522761, -1.33920705, -1.34214391,\n",
       "        -1.33039648, -1.37444934, -1.23054332, -1.4948605 , -1.3215859 ,\n",
       "        -1.50660793, -1.44052863, -1.36123348, -1.33333333, -1.35389134,\n",
       "        -1.33773862, -1.2143906 , -1.34948605, -1.29221733, -1.26431718,\n",
       "        -1.31277533, -1.34067548, -1.37444934, -1.34067548, -1.3773862 ,\n",
       "        -1.35976505, -1.39647577, -1.38913363, -1.47723935, -1.36417034,\n",
       "        -1.31718062, -1.41556535, -1.31277533, -1.41703377, -1.4287812 ,\n",
       "        -1.32305433, -1.47136564, -1.31571219, -1.26431718, -1.29662261,\n",
       "        -1.26284875, -1.36123348, -1.39060206, -1.33627019, -1.27312775,\n",
       "        -1.28487518, -1.32452276, -1.46108664, -1.50073421, -1.29515419,\n",
       "        -1.45374449, -1.32305433, -1.3671072 , -1.35976505, -1.3773862 ,\n",
       "        -1.39060206, -1.4082232 , -1.37444934, -1.41556535, -1.37885463,\n",
       "        -1.25110132, -1.3773862 , -1.39060206, -1.43906021, -1.28781204,\n",
       "        -1.34214391, -1.44787078, -1.40234949, -1.33333333, -1.31277533,\n",
       "        -1.30249633, -1.40675477, -1.40528634, -1.3318649 , -1.35095448,\n",
       "        -1.34654919, -1.30396476, -1.30690162, -1.34214391, -1.28634361,\n",
       "        -1.37298091, -1.42143906, -1.28634361, -1.40381791, -1.33039648,\n",
       "        -1.34948605, -1.35976505, -1.28340675, -1.3215859 , -1.32011747,\n",
       "        -1.25697504, -1.4185022 , -1.35535977, -1.41556535, -1.36270191,\n",
       "        -1.38913363, -1.45668135, -1.35829662, -1.3773862 , -1.36563877,\n",
       "        -1.27900147, -1.45961821, -1.3215859 , -1.3876652 , -1.24229075,\n",
       "        -1.28340675, -1.44346549, -1.33627019, -1.35389134, -1.37298091,\n",
       "        -1.2907489 , -1.34654919, -1.25403818, -1.35535977, -1.3773862 ,\n",
       "        -1.21292217, -1.41556535, -1.39207048, -1.43759178, -1.47283407,\n",
       "        -1.30983847, -1.43465492, -1.37004405, -1.32745962, -1.32599119,\n",
       "        -1.34067548, -1.30396476, -1.29221733, -1.35389134, -1.49339207,\n",
       "        -1.31864905, -1.35389134, -1.35095448, -1.37591777, -1.4287812 ,\n",
       "        -1.35976505, -1.37298091, -1.39647577, -1.4185022 , -1.17621145,\n",
       "        -1.3979442 , -1.31424376, -1.29221733, -1.35389134, -1.31277533,\n",
       "        -1.33773862, -1.35095448, -1.31864905, -1.34508076, -1.32011747,\n",
       "        -1.27753304, -1.29221733, -1.45374449, -1.42143906, -1.39647577,\n",
       "        -1.32599119, -1.37151248, -1.3979442 , -1.37591777, -1.38032305,\n",
       "        -1.28193833, -1.33480176, -1.35242291, -1.26284875, -1.34214391]),\n",
       " 'Alumni.MCE.2GEN.run2 - mayoritariaRecomendacion': array([-0.41409692, -0.33920705, -0.39941263, -0.42143906, -0.36563877,\n",
       "        -0.42437592, -0.37444934, -0.38472834, -0.39941263, -0.4287812 ,\n",
       "        -0.4082232 , -0.45961821, -0.41409692, -0.44346549, -0.42143906,\n",
       "        -0.45814978, -0.36857562, -0.41116006, -0.42584435, -0.44052863,\n",
       "        -0.41409692, -0.35535977, -0.41997063, -0.3671072 , -0.40528634,\n",
       "        -0.40088106, -0.44493392, -0.41556535, -0.45227606, -0.35976505,\n",
       "        -0.36123348, -0.43465492, -0.35829662, -0.3773862 , -0.36123348,\n",
       "        -0.43171806, -0.34214391, -0.45227606, -0.44493392, -0.48164464,\n",
       "        -0.44346549, -0.39500734, -0.41262849, -0.40088106, -0.44787078,\n",
       "        -0.44199706, -0.40088106, -0.40381791, -0.40969163, -0.37444934,\n",
       "        -0.37151248, -0.37444934, -0.43906021, -0.38325991, -0.41703377,\n",
       "        -0.42290749, -0.42143906, -0.41997063, -0.39647577, -0.41997063,\n",
       "        -0.37151248, -0.38325991, -0.35535977, -0.32011747, -0.4082232 ,\n",
       "        -0.35976505, -0.40234949, -0.42437592, -0.40969163, -0.40088106,\n",
       "        -0.38179148, -0.37591777, -0.35976505, -0.36417034, -0.39353891,\n",
       "        -0.41409692, -0.42731278, -0.39647577, -0.37885463, -0.37298091,\n",
       "        -0.43759178, -0.37885463, -0.41997063, -0.38913363, -0.39353891,\n",
       "        -0.42437592, -0.43759178, -0.41116006, -0.39500734, -0.37004405,\n",
       "        -0.41703377, -0.40381791, -0.45668135, -0.39647577, -0.39060206,\n",
       "        -0.43318649, -0.39941263, -0.43318649, -0.39500734, -0.40381791,\n",
       "        -0.3773862 , -0.39353891, -0.40381791, -0.38913363, -0.4185022 ,\n",
       "        -0.38619677, -0.37591777, -0.45814978, -0.43171806, -0.34361233,\n",
       "        -0.43759178, -0.38032305, -0.42290749, -0.38619677, -0.38472834,\n",
       "        -0.35242291, -0.4082232 , -0.42584435, -0.43171806, -0.40969163,\n",
       "        -0.44933921, -0.40234949, -0.40969163, -0.44052863, -0.39941263,\n",
       "        -0.42731278, -0.43906021, -0.39941263, -0.40234949, -0.38325991,\n",
       "        -0.39207048, -0.35829662, -0.37885463, -0.45961821, -0.45227606,\n",
       "        -0.36270191, -0.44199706, -0.40675477, -0.44346549, -0.39353891,\n",
       "        -0.37004405, -0.43024963, -0.35535977, -0.43465492, -0.37298091,\n",
       "        -0.43024963, -0.45814978, -0.42143906, -0.44052863, -0.43171806,\n",
       "        -0.39941263, -0.39353891, -0.39647577, -0.45374449, -0.3876652 ,\n",
       "        -0.46255507, -0.4185022 , -0.39207048, -0.37298091, -0.39207048,\n",
       "        -0.42437592, -0.36270191, -0.46402349, -0.41262849, -0.41262849,\n",
       "        -0.4287812 , -0.39647577, -0.43465492, -0.41703377, -0.44052863,\n",
       "        -0.38619677, -0.41116006, -0.37591777, -0.42290749, -0.36123348,\n",
       "        -0.37885463, -0.40969163, -0.40088106, -0.36417034, -0.39941263,\n",
       "        -0.35095448, -0.34654919, -0.4082232 , -0.37151248, -0.3979442 ,\n",
       "        -0.44787078, -0.43759178, -0.41262849, -0.44346549, -0.39941263,\n",
       "        -0.40675477, -0.40969163, -0.37444934, -0.38325991, -0.36857562,\n",
       "        -0.36857562, -0.39500734, -0.43906021, -0.43906021, -0.43465492,\n",
       "        -0.39353891, -0.34508076, -0.41116006, -0.39647577, -0.40675477,\n",
       "        -0.40675477, -0.45521292, -0.35095448, -0.3876652 , -0.38032305,\n",
       "        -0.34361233, -0.38032305, -0.43906021, -0.4287812 , -0.37885463,\n",
       "        -0.44052863, -0.39353891, -0.40675477, -0.39353891, -0.34948605,\n",
       "        -0.40528634, -0.39060206, -0.42731278, -0.42731278, -0.42290749,\n",
       "        -0.37885463, -0.44052863, -0.43465492, -0.39500734, -0.44346549,\n",
       "        -0.4287812 , -0.40969163, -0.35242291, -0.40675477, -0.42731278,\n",
       "        -0.43318649, -0.41703377, -0.44052863, -0.34508076, -0.36857562,\n",
       "        -0.40088106, -0.41116006, -0.43465492, -0.4287812 , -0.4185022 ,\n",
       "        -0.36123348, -0.37298091, -0.44787078, -0.43318649, -0.46989721,\n",
       "        -0.40234949, -0.36857562, -0.35095448, -0.40528634, -0.40381791,\n",
       "        -0.41262849, -0.35535977, -0.38179148, -0.39500734, -0.37298091,\n",
       "        -0.43024963, -0.39941263, -0.39647577, -0.33333333, -0.39353891,\n",
       "        -0.40234949, -0.39647577, -0.40234949, -0.37591777, -0.48017621,\n",
       "        -0.40675477, -0.43318649, -0.41703377, -0.40381791, -0.3876652 ,\n",
       "        -0.3979442 , -0.37151248, -0.46402349, -0.37444934, -0.38619677,\n",
       "        -0.4287812 , -0.35976505, -0.40088106, -0.38472834, -0.41262849,\n",
       "        -0.34654919, -0.37151248, -0.40088106, -0.43465492, -0.4287812 ,\n",
       "        -0.39647577, -0.45080764, -0.43612335, -0.42143906, -0.44346549,\n",
       "        -0.42584435, -0.40969163, -0.39941263, -0.38032305, -0.40381791,\n",
       "        -0.4185022 , -0.40528634, -0.43906021, -0.40528634, -0.35682819,\n",
       "        -0.45961821, -0.37444934, -0.41116006, -0.43465492, -0.38325991,\n",
       "        -0.35829662, -0.42584435, -0.44052863, -0.38913363, -0.37591777,\n",
       "        -0.38325991, -0.40969163, -0.38325991, -0.37298091, -0.43465492,\n",
       "        -0.41556535, -0.39500734, -0.39207048, -0.4082232 , -0.45521292,\n",
       "        -0.37004405, -0.39941263, -0.42143906, -0.40528634, -0.38472834,\n",
       "        -0.41262849, -0.4743025 , -0.39353891, -0.41997063, -0.3773862 ,\n",
       "        -0.38472834, -0.40675477, -0.39500734, -0.40381791, -0.35976505,\n",
       "        -0.40381791, -0.34214391, -0.4185022 , -0.4287812 , -0.40088106,\n",
       "        -0.37151248, -0.42290749, -0.41703377, -0.42290749, -0.39207048,\n",
       "        -0.39500734, -0.38325991, -0.33773862, -0.37298091, -0.38325991,\n",
       "        -0.41409692, -0.32892805, -0.3671072 , -0.3671072 , -0.39500734,\n",
       "        -0.43612335, -0.37885463, -0.42143906, -0.41703377, -0.45814978,\n",
       "        -0.39060206, -0.39941263, -0.38913363, -0.3979442 , -0.44052863,\n",
       "        -0.43759178, -0.3979442 , -0.38325991, -0.39060206, -0.42143906,\n",
       "        -0.41556535, -0.41703377, -0.39500734, -0.40234949, -0.40675477,\n",
       "        -0.35682819, -0.40381791, -0.41116006, -0.40234949, -0.38913363,\n",
       "        -0.37004405, -0.44052863, -0.41262849, -0.37004405, -0.45814978,\n",
       "        -0.42143906, -0.41409692, -0.4082232 , -0.41262849, -0.41703377,\n",
       "        -0.46696035, -0.45080764, -0.37298091, -0.37591777, -0.38179148,\n",
       "        -0.40675477, -0.3876652 , -0.4082232 , -0.40088106, -0.38179148,\n",
       "        -0.34654919, -0.41116006, -0.35242291, -0.40528634, -0.3876652 ,\n",
       "        -0.3671072 , -0.39353891, -0.40234949, -0.43612335, -0.35976505,\n",
       "        -0.41116006, -0.41116006, -0.35389134, -0.41703377, -0.42143906,\n",
       "        -0.39353891, -0.35829662, -0.37298091, -0.40088106, -0.38032305,\n",
       "        -0.35682819, -0.45961821, -0.3979442 , -0.39207048, -0.4185022 ,\n",
       "        -0.36417034, -0.43465492, -0.34801762, -0.36270191, -0.39941263,\n",
       "        -0.4743025 , -0.34654919, -0.42437592, -0.40381791, -0.41116006,\n",
       "        -0.4287812 , -0.39941263, -0.39500734, -0.39207048, -0.44933921,\n",
       "        -0.40528634, -0.38619677, -0.39060206, -0.40969163, -0.42290749,\n",
       "        -0.39647577, -0.4287812 , -0.44199706, -0.44052863, -0.37591777,\n",
       "        -0.36270191, -0.35682819, -0.32452276, -0.3979442 , -0.38325991,\n",
       "        -0.34067548, -0.39941263, -0.35829662, -0.3773862 , -0.3979442 ,\n",
       "        -0.40528634, -0.44933921, -0.38179148, -0.39941263, -0.42143906,\n",
       "        -0.43024963, -0.41556535, -0.36270191, -0.4082232 , -0.35389134,\n",
       "        -0.43759178, -0.4287812 , -0.36417034, -0.34654919, -0.41262849,\n",
       "        -0.35976505, -0.35829662, -0.38032305, -0.38325991, -0.4287812 ,\n",
       "        -0.39500734, -0.33627019, -0.42584435, -0.35976505, -0.34654919,\n",
       "        -0.4185022 , -0.34948605, -0.38325991, -0.3773862 , -0.38472834,\n",
       "        -0.44346549, -0.45080764, -0.43171806, -0.43759178, -0.36563877,\n",
       "        -0.39207048, -0.3979442 , -0.39500734, -0.35389134, -0.39941263,\n",
       "        -0.37591777, -0.4287812 , -0.37885463, -0.35829662, -0.43759178,\n",
       "        -0.35682819, -0.42143906, -0.45961821, -0.3876652 , -0.39500734,\n",
       "        -0.4082232 , -0.37298091, -0.44346549, -0.3671072 , -0.38179148,\n",
       "        -0.40528634, -0.36417034, -0.46842878, -0.37004405, -0.35535977,\n",
       "        -0.42437592, -0.39207048, -0.43906021, -0.38325991, -0.40381791,\n",
       "        -0.40969163, -0.39060206, -0.39353891, -0.35389134, -0.3979442 ,\n",
       "        -0.35682819, -0.3773862 , -0.36270191, -0.38032305, -0.38472834,\n",
       "        -0.38619677, -0.4185022 , -0.4082232 , -0.37885463, -0.38913363,\n",
       "        -0.40969163, -0.38913363, -0.39353891, -0.37151248, -0.3876652 ,\n",
       "        -0.36857562, -0.40528634, -0.40969163, -0.47723935, -0.43612335,\n",
       "        -0.43465492, -0.38472834, -0.38619677, -0.42143906, -0.41262849,\n",
       "        -0.41116006, -0.37151248, -0.42290749, -0.40234949, -0.34508076,\n",
       "        -0.35389134, -0.44346549, -0.37151248, -0.46989721, -0.4185022 ,\n",
       "        -0.39647577, -0.39647577, -0.38179148, -0.43024963, -0.38472834,\n",
       "        -0.39500734, -0.41997063, -0.39941263, -0.3876652 , -0.35535977,\n",
       "        -0.3979442 , -0.40381791, -0.44787078, -0.3773862 , -0.36857562,\n",
       "        -0.41409692, -0.3671072 , -0.40234949, -0.38619677, -0.39941263,\n",
       "        -0.40528634, -0.40675477, -0.3979442 , -0.42290749, -0.42290749,\n",
       "        -0.44787078, -0.42731278, -0.35389134, -0.38472834, -0.41409692,\n",
       "        -0.40234949, -0.38325991, -0.4185022 , -0.43318649, -0.38472834,\n",
       "        -0.4287812 , -0.32011747, -0.44199706, -0.40088106, -0.4082232 ,\n",
       "        -0.39353891, -0.40381791, -0.37151248, -0.44493392, -0.3876652 ,\n",
       "        -0.38913363, -0.44052863, -0.40234949, -0.34654919, -0.41409692,\n",
       "        -0.35535977, -0.37151248, -0.38913363, -0.3876652 , -0.41262849,\n",
       "        -0.38472834, -0.42584435, -0.43171806, -0.40528634, -0.44640235,\n",
       "        -0.40675477, -0.40234949, -0.38179148, -0.3671072 , -0.42290749,\n",
       "        -0.42143906, -0.32745962, -0.38619677, -0.37444934, -0.40234949,\n",
       "        -0.41116006, -0.35535977, -0.40675477, -0.44933921, -0.38179148,\n",
       "        -0.37298091, -0.41997063, -0.39941263, -0.44052863, -0.35976505,\n",
       "        -0.39647577, -0.39500734, -0.39500734, -0.39060206, -0.44199706,\n",
       "        -0.36417034, -0.48604993, -0.35389134, -0.35829662, -0.42290749,\n",
       "        -0.47283407, -0.41556535, -0.41556535, -0.3671072 , -0.40088106,\n",
       "        -0.48898678, -0.37298091, -0.38913363, -0.37151248, -0.41116006,\n",
       "        -0.34948605, -0.38472834, -0.38913363, -0.36417034, -0.4185022 ,\n",
       "        -0.42143906, -0.35095448, -0.40528634, -0.41997063, -0.34214391,\n",
       "        -0.44052863, -0.41262849, -0.46696035, -0.39060206, -0.43612335,\n",
       "        -0.39207048, -0.3979442 , -0.35242291, -0.37591777, -0.44199706,\n",
       "        -0.39060206, -0.34948605, -0.42290749, -0.39500734, -0.35535977,\n",
       "        -0.41409692, -0.41262849, -0.36563877, -0.38325991, -0.38913363,\n",
       "        -0.41703377, -0.41262849, -0.38032305, -0.38913363, -0.41262849,\n",
       "        -0.3671072 , -0.47723935, -0.4082232 , -0.35976505, -0.45814978,\n",
       "        -0.34948605, -0.3318649 , -0.38179148, -0.42290749, -0.40969163,\n",
       "        -0.3773862 , -0.35976505, -0.3876652 , -0.43171806, -0.36270191,\n",
       "        -0.4082232 , -0.37885463, -0.43465492, -0.41262849, -0.4082232 ,\n",
       "        -0.40969163, -0.43024963, -0.43024963, -0.40969163, -0.38179148,\n",
       "        -0.37151248, -0.4185022 , -0.33039648, -0.37151248, -0.42437592,\n",
       "        -0.41262849, -0.4287812 , -0.43171806, -0.40234949, -0.45227606,\n",
       "        -0.39060206, -0.40675477, -0.38179148, -0.42143906, -0.41262849,\n",
       "        -0.38179148, -0.42143906, -0.41262849, -0.3979442 , -0.37151248,\n",
       "        -0.39500734, -0.42143906, -0.41116006, -0.43318649, -0.42437592,\n",
       "        -0.40528634, -0.41997063, -0.39207048, -0.38032305, -0.36417034,\n",
       "        -0.41997063, -0.40969163, -0.37444934, -0.40528634, -0.37298091,\n",
       "        -0.38325991, -0.38179148, -0.37444934, -0.42731278, -0.45668135,\n",
       "        -0.42731278, -0.38472834, -0.39647577, -0.43171806, -0.38325991,\n",
       "        -0.3979442 , -0.42290749, -0.43759178, -0.39353891, -0.34214391,\n",
       "        -0.42731278, -0.44052863, -0.40088106, -0.39060206, -0.43465492,\n",
       "        -0.39941263, -0.41703377, -0.40969163, -0.37298091, -0.39353891,\n",
       "        -0.3876652 , -0.41116006, -0.43465492, -0.35976505, -0.36563877,\n",
       "        -0.40675477, -0.35682819, -0.38472834, -0.39207048, -0.40381791,\n",
       "        -0.3671072 , -0.36857562, -0.3773862 , -0.40234949, -0.37591777,\n",
       "        -0.39500734, -0.4185022 , -0.43612335, -0.44199706, -0.40234949,\n",
       "        -0.4082232 , -0.46108664, -0.41116006, -0.36123348, -0.42143906,\n",
       "        -0.33920705, -0.40381791, -0.40969163, -0.41997063, -0.33627019,\n",
       "        -0.3773862 , -0.33039648, -0.41262849, -0.40969163, -0.41556535,\n",
       "        -0.38472834, -0.37591777, -0.45374449, -0.42731278, -0.39207048,\n",
       "        -0.39207048, -0.41409692, -0.40088106, -0.40969163, -0.38619677,\n",
       "        -0.39941263, -0.42731278, -0.41997063, -0.41116006, -0.37444934,\n",
       "        -0.42437592, -0.39353891, -0.34067548, -0.3876652 , -0.4185022 ,\n",
       "        -0.35242291, -0.34948605, -0.40234949, -0.40675477, -0.42437592,\n",
       "        -0.3671072 , -0.37591777, -0.3773862 , -0.4185022 , -0.43024963,\n",
       "        -0.37298091, -0.35829662, -0.44346549, -0.43024963, -0.38179148,\n",
       "        -0.43024963, -0.37591777, -0.39207048, -0.43906021, -0.42437592,\n",
       "        -0.41556535, -0.46108664, -0.3671072 , -0.3671072 , -0.34508076,\n",
       "        -0.40675477, -0.43906021, -0.3773862 , -0.42584435, -0.42731278,\n",
       "        -0.36857562, -0.39941263, -0.39647577, -0.39207048, -0.38179148,\n",
       "        -0.39647577, -0.35242291, -0.4082232 , -0.33627019, -0.42731278,\n",
       "        -0.44640235, -0.34801762, -0.44787078, -0.3773862 , -0.3979442 ,\n",
       "        -0.3671072 , -0.37444934, -0.3876652 , -0.38619677, -0.41997063,\n",
       "        -0.34654919, -0.38325991, -0.37444934, -0.41409692, -0.39500734,\n",
       "        -0.44052863, -0.42731278, -0.40969163, -0.38472834, -0.40675477,\n",
       "        -0.46108664, -0.42143906, -0.35095448, -0.41409692, -0.39500734,\n",
       "        -0.45080764, -0.41116006, -0.45961821, -0.40528634, -0.39207048,\n",
       "        -0.38619677, -0.45521292, -0.44052863, -0.4185022 , -0.38325991,\n",
       "        -0.42584435, -0.41997063, -0.44199706, -0.37004405, -0.36123348,\n",
       "        -0.39353891, -0.38032305, -0.38472834, -0.3773862 , -0.37591777,\n",
       "        -0.37444934, -0.3876652 , -0.41703377, -0.40234949, -0.4185022 ,\n",
       "        -0.39207048, -0.36857562, -0.40381791, -0.37885463, -0.44493392,\n",
       "        -0.44199706, -0.46549192, -0.3979442 , -0.3773862 , -0.42290749,\n",
       "        -0.41997063, -0.43465492, -0.42143906, -0.43171806, -0.4185022 ,\n",
       "        -0.4287812 , -0.40088106, -0.36270191, -0.39353891, -0.42584435,\n",
       "        -0.39060206, -0.36563877, -0.38472834, -0.39500734, -0.38913363,\n",
       "        -0.43612335, -0.35535977, -0.40675477, -0.46402349, -0.45521292,\n",
       "        -0.46255507, -0.43318649, -0.39500734, -0.41409692, -0.40088106,\n",
       "        -0.41262849, -0.37444934, -0.39060206, -0.41262849, -0.39353891,\n",
       "        -0.41556535, -0.37885463, -0.34067548, -0.39500734, -0.40675477,\n",
       "        -0.40381791, -0.41409692, -0.41262849, -0.43171806, -0.43465492,\n",
       "        -0.40675477, -0.41556535, -0.44052863, -0.39207048, -0.36270191,\n",
       "        -0.36563877, -0.37591777, -0.41116006, -0.42290749, -0.41703377,\n",
       "        -0.37004405, -0.46842878, -0.39353891, -0.41262849, -0.35389134]),\n",
       " 'Alumni.MCE.2GEN.run2 - jorge.hermosillo.recommendation': array([-1.44052863, -1.33039648, -1.23641703, -1.46989721, -1.43318649,\n",
       "        -1.37004405, -1.2907489 , -1.31277533, -1.27900147, -1.37151248,\n",
       "        -1.27312775, -1.23935389, -1.42584435, -1.26872247, -1.33333333,\n",
       "        -1.31864905, -1.32599119, -1.34214391, -1.23641703, -1.34801762,\n",
       "        -1.33333333, -1.32011747, -1.22173275, -1.37885463, -1.33480176,\n",
       "        -1.26284875, -1.22760646, -1.33920705, -1.35389134, -1.34801762,\n",
       "        -1.35389134, -1.36857562, -1.29955947, -1.4287812 , -1.34654919,\n",
       "        -1.25550661, -1.27900147, -1.40234949, -1.33920705, -1.27900147,\n",
       "        -1.25110132, -1.27165932, -1.35095448, -1.28928047, -1.28634361,\n",
       "        -1.41556535, -1.40528634, -1.33039648, -1.43171806, -1.30543319,\n",
       "        -1.27165932, -1.40381791, -1.32745962, -1.35095448, -1.3671072 ,\n",
       "        -1.31424376, -1.35682819, -1.30543319, -1.32011747, -1.36563877,\n",
       "        -1.42290749, -1.40528634, -1.44052863, -1.33773862, -1.34067548,\n",
       "        -1.43171806, -1.3215859 , -1.29221733, -1.23201175, -1.40088106,\n",
       "        -1.33627019, -1.27165932, -1.43465492, -1.2907489 , -1.2701909 ,\n",
       "        -1.29515419, -1.37151248, -1.3318649 , -1.39207048, -1.28634361,\n",
       "        -1.33480176, -1.37885463, -1.42290749, -1.33920705, -1.3876652 ,\n",
       "        -1.41703377, -1.42290749, -1.38032305, -1.4082232 , -1.26725404,\n",
       "        -1.32452276, -1.33333333, -1.29809104, -1.31277533, -1.38032305,\n",
       "        -1.35242291, -1.43759178, -1.38619677, -1.32599119, -1.24082232,\n",
       "        -1.32892805, -1.33627019, -1.32305433, -1.29809104, -1.3318649 ,\n",
       "        -1.30396476, -1.3979442 , -1.40381791, -1.38179148, -1.35535977,\n",
       "        -1.34361233, -1.33627019, -1.25550661, -1.35829662, -1.28781204,\n",
       "        -1.50367107, -1.40969163, -1.3113069 , -1.35535977, -1.26578561,\n",
       "        -1.27312775, -1.37444934, -1.2804699 , -1.3318649 , -1.3876652 ,\n",
       "        -1.34801762, -1.3671072 , -1.41409692, -1.26578561, -1.32305433,\n",
       "        -1.38619677, -1.32745962, -1.27900147, -1.33920705, -1.3113069 ,\n",
       "        -1.34067548, -1.36123348, -1.34801762, -1.35242291, -1.37298091,\n",
       "        -1.24522761, -1.31571219, -1.32599119, -1.3010279 , -1.3773862 ,\n",
       "        -1.3113069 , -1.31571219, -1.38032305, -1.32305433, -1.3318649 ,\n",
       "        -1.33920705, -1.26872247, -1.36563877, -1.43906021, -1.29955947,\n",
       "        -1.35242291, -1.22907489, -1.34361233, -1.3671072 , -1.31277533,\n",
       "        -1.30837004, -1.40234949, -1.39207048, -1.33480176, -1.32892805,\n",
       "        -1.31424376, -1.42290749, -1.44933921, -1.37004405, -1.37444934,\n",
       "        -1.38472834, -1.41262849, -1.2804699 , -1.31864905, -1.35242291,\n",
       "        -1.25844347, -1.33627019, -1.34214391, -1.2804699 , -1.29221733,\n",
       "        -1.33920705, -1.2907489 , -1.35976505, -1.25256975, -1.37444934,\n",
       "        -1.2907489 , -1.23788546, -1.35242291, -1.25403818, -1.38619677,\n",
       "        -1.32599119, -1.23641703, -1.25403818, -1.27753304, -1.23788546,\n",
       "        -1.40381791, -1.30837004, -1.34654919, -1.42143906, -1.38179148,\n",
       "        -1.31571219, -1.35242291, -1.34654919, -1.34801762, -1.22173275,\n",
       "        -1.33480176, -1.33333333, -1.41262849, -1.28193833, -1.31277533,\n",
       "        -1.33480176, -1.31571219, -1.38032305, -1.3215859 , -1.38472834,\n",
       "        -1.21879589, -1.4845815 , -1.29221733, -1.35682819, -1.33039648,\n",
       "        -1.36417034, -1.32011747, -1.29515419, -1.41409692, -1.37004405,\n",
       "        -1.33627019, -1.39353891, -1.36270191, -1.33773862, -1.30690162,\n",
       "        -1.25256975, -1.4185022 , -1.3979442 , -1.29809104, -1.34214391,\n",
       "        -1.33773862, -1.37444934, -1.37591777, -1.39353891, -1.41116006,\n",
       "        -1.34801762, -1.28193833, -1.3876652 , -1.25844347, -1.26725404,\n",
       "        -1.34948605, -1.25403818, -1.2349486 , -1.36857562, -1.39500734,\n",
       "        -1.42290749, -1.43906021, -1.32745962, -1.4185022 , -1.30543319,\n",
       "        -1.30396476, -1.34067548, -1.30837004, -1.40088106, -1.43759178,\n",
       "        -1.35389134, -1.21585903, -1.3671072 , -1.28193833, -1.35242291,\n",
       "        -1.28928047, -1.35242291, -1.39207048, -1.28928047, -1.19676946,\n",
       "        -1.25110132, -1.32011747, -1.31718062, -1.25844347, -1.2907489 ,\n",
       "        -1.29809104, -1.35095448, -1.37151248, -1.35682819, -1.38032305,\n",
       "        -1.37444934, -1.27165932, -1.32305433, -1.41703377, -1.40528634,\n",
       "        -1.4287812 , -1.41262849, -1.36563877, -1.39647577, -1.33773862,\n",
       "        -1.34508076, -1.4082232 , -1.35976505, -1.44787078, -1.32599119,\n",
       "        -1.39353891, -1.36123348, -1.29955947, -1.30837004, -1.35682819,\n",
       "        -1.38032305, -1.29221733, -1.45521292, -1.29662261, -1.25844347,\n",
       "        -1.31277533, -1.23641703, -1.44493392, -1.38325991, -1.40088106,\n",
       "        -1.29662261, -1.3671072 , -1.27165932, -1.3010279 , -1.37004405,\n",
       "        -1.4082232 , -1.38325991, -1.32599119, -1.37298091, -1.19236417,\n",
       "        -1.27312775, -1.31277533, -1.39647577, -1.35829662, -1.33627019,\n",
       "        -1.38032305, -1.35242291, -1.34067548, -1.37151248, -1.28193833,\n",
       "        -1.37151248, -1.25844347, -1.32011747, -1.30983847, -1.38472834,\n",
       "        -1.46255507, -1.39060206, -1.43024963, -1.39207048, -1.35095448,\n",
       "        -1.34214391, -1.37151248, -1.36417034, -1.38325991, -1.33480176,\n",
       "        -1.34654919, -1.39060206, -1.35682819, -1.32745962, -1.27606461,\n",
       "        -1.35976505, -1.3671072 , -1.27165932, -1.31424376, -1.34361233,\n",
       "        -1.30983847, -1.34214391, -1.30983847, -1.35389134, -1.38913363,\n",
       "        -1.3876652 , -1.2907489 , -1.41116006, -1.34067548, -1.23348018,\n",
       "        -1.40381791, -1.26725404, -1.32305433, -1.30983847, -1.42290749,\n",
       "        -1.31718062, -1.29368576, -1.3010279 , -1.32892805, -1.32011747,\n",
       "        -1.32011747, -1.28781204, -1.43612335, -1.30396476, -1.30543319,\n",
       "        -1.3773862 , -1.33773862, -1.31864905, -1.31277533, -1.34801762,\n",
       "        -1.26578561, -1.38619677, -1.34361233, -1.32599119, -1.4185022 ,\n",
       "        -1.13950073, -1.28487518, -1.30983847, -1.41409692, -1.45521292,\n",
       "        -1.31571219, -1.3318649 , -1.45080764, -1.29955947, -1.30396476,\n",
       "        -1.40381791, -1.34801762, -1.34214391, -1.37591777, -1.15565345,\n",
       "        -1.36857562, -1.25991189, -1.29809104, -1.37004405, -1.3876652 ,\n",
       "        -1.40381791, -1.3876652 , -1.34067548, -1.35389134, -1.46402349,\n",
       "        -1.3318649 , -1.25991189, -1.28634361, -1.35976505, -1.27312775,\n",
       "        -1.30983847, -1.33480176, -1.38179148, -1.35242291, -1.39941263,\n",
       "        -1.35682819, -1.34654919, -1.30690162, -1.3113069 , -1.40528634,\n",
       "        -1.29955947, -1.34361233, -1.26872247, -1.27312775, -1.37004405,\n",
       "        -1.27900147, -1.34508076, -1.37885463, -1.36123348, -1.29955947,\n",
       "        -1.2041116 , -1.27312775, -1.34361233, -1.42290749, -1.39353891,\n",
       "        -1.36563877, -1.44933921, -1.2804699 , -1.30543319, -1.33773862,\n",
       "        -1.29809104, -1.42731278, -1.3010279 , -1.43024963, -1.33039648,\n",
       "        -1.28634361, -1.34067548, -1.29515419, -1.3318649 , -1.27606461,\n",
       "        -1.40675477, -1.25256975, -1.32452276, -1.33333333, -1.35535977,\n",
       "        -1.27312775, -1.41262849, -1.28634361, -1.44052863, -1.32599119,\n",
       "        -1.40088106, -1.33773862, -1.3113069 , -1.31424376, -1.35829662,\n",
       "        -1.41703377, -1.32599119, -1.38913363, -1.33039648, -1.31864905,\n",
       "        -1.32011747, -1.41409692, -1.3215859 , -1.27459618, -1.37004405,\n",
       "        -1.29662261, -1.43906021, -1.37298091, -1.41703377, -1.25403818,\n",
       "        -1.31718062, -1.36123348, -1.42143906, -1.43465492, -1.31864905,\n",
       "        -1.30983847, -1.47577093, -1.27606461, -1.36123348, -1.33039648,\n",
       "        -1.43171806, -1.34361233, -1.32305433, -1.38619677, -1.35242291,\n",
       "        -1.27312775, -1.34214391, -1.37444934, -1.31571219, -1.32305433,\n",
       "        -1.25550661, -1.36123348, -1.3671072 , -1.34801762, -1.39207048,\n",
       "        -1.34948605, -1.40528634, -1.35095448, -1.37444934, -1.29368576,\n",
       "        -1.34948605, -1.3773862 , -1.3113069 , -1.43318649, -1.37298091,\n",
       "        -1.31277533, -1.3671072 , -1.38179148, -1.31864905, -1.31277533,\n",
       "        -1.3113069 , -1.37444934, -1.28193833, -1.3671072 , -1.38179148,\n",
       "        -1.39060206, -1.33480176, -1.35242291, -1.27165932, -1.30543319,\n",
       "        -1.36857562, -1.31571219, -1.3215859 , -1.27165932, -1.32305433,\n",
       "        -1.32599119, -1.29368576, -1.38325991, -1.27753304, -1.31864905,\n",
       "        -1.30396476, -1.39941263, -1.28781204, -1.34801762, -1.3876652 ,\n",
       "        -1.30837004, -1.27900147, -1.31571219, -1.34948605, -1.32745962,\n",
       "        -1.28781204, -1.34508076, -1.3318649 , -1.31571219, -1.3318649 ,\n",
       "        -1.27900147, -1.38032305, -1.32892805, -1.2701909 , -1.33480176,\n",
       "        -1.19823789, -1.42437592, -1.29368576, -1.31424376, -1.3979442 ,\n",
       "        -1.37151248, -1.23054332, -1.28193833, -1.27459618, -1.37885463,\n",
       "        -1.30543319, -1.32745962, -1.31864905, -1.3773862 , -1.37004405,\n",
       "        -1.30837004, -1.46108664, -1.37298091, -1.33627019, -1.43024963,\n",
       "        -1.42143906, -1.30396476, -1.3113069 , -1.30837004, -1.28634361,\n",
       "        -1.43759178, -1.38472834, -1.34508076, -1.26872247, -1.26725404,\n",
       "        -1.26578561, -1.3215859 , -1.35535977, -1.38619677, -1.26431718,\n",
       "        -1.29955947, -1.37591777, -1.31864905, -1.39060206, -1.30543319,\n",
       "        -1.37591777, -1.33039648, -1.30249633, -1.29368576, -1.29221733,\n",
       "        -1.33480176, -1.34361233, -1.25844347, -1.33480176, -1.39060206,\n",
       "        -1.48017621, -1.24669604, -1.38032305, -1.43318649, -1.2804699 ,\n",
       "        -1.39060206, -1.39353891, -1.32892805, -1.38325991, -1.26284875,\n",
       "        -1.38032305, -1.38913363, -1.4845815 , -1.35829662, -1.33627019,\n",
       "        -1.3215859 , -1.43171806, -1.39060206, -1.39207048, -1.35242291,\n",
       "        -1.33333333, -1.29221733, -1.37885463, -1.32892805, -1.4287812 ,\n",
       "        -1.38325991, -1.42437592, -1.31571219, -1.35976505, -1.27606461,\n",
       "        -1.26872247, -1.30983847, -1.3010279 , -1.26578561, -1.36270191,\n",
       "        -1.26284875, -1.51248164, -1.34214391, -1.37151248, -1.41409692,\n",
       "        -1.33480176, -1.27753304, -1.36417034, -1.39647577, -1.38913363,\n",
       "        -1.38032305, -1.29221733, -1.4082232 , -1.3113069 , -1.31424376,\n",
       "        -1.33773862, -1.32452276, -1.25550661, -1.35535977, -1.37004405,\n",
       "        -1.3671072 , -1.41556535, -1.43318649, -1.38032305, -1.23641703,\n",
       "        -1.2907489 , -1.30983847, -1.38619677, -1.31277533, -1.34214391,\n",
       "        -1.40088106, -1.33773862, -1.41556535, -1.40234949, -1.36270191,\n",
       "        -1.33480176, -1.33039648, -1.25110132, -1.34361233, -1.47723935,\n",
       "        -1.22760646, -1.34214391, -1.29662261, -1.33920705, -1.33039648,\n",
       "        -1.24816446, -1.33333333, -1.43024963, -1.26284875, -1.22026432,\n",
       "        -1.28634361, -1.35682819, -1.4185022 , -1.3010279 , -1.33480176,\n",
       "        -1.40969163, -1.3010279 , -1.40381791, -1.39500734, -1.41703377,\n",
       "        -1.34067548, -1.33333333, -1.23201175, -1.43171806, -1.33627019,\n",
       "        -1.34948605, -1.24229075, -1.31424376, -1.2907489 , -1.41556535,\n",
       "        -1.28340675, -1.34361233, -1.24522761, -1.36270191, -1.27753304,\n",
       "        -1.34801762, -1.3113069 , -1.37885463, -1.24375918, -1.25844347,\n",
       "        -1.36417034, -1.33333333, -1.44346549, -1.29368576, -1.29662261,\n",
       "        -1.29809104, -1.29955947, -1.34067548, -1.26284875, -1.2907489 ,\n",
       "        -1.30690162, -1.3671072 , -1.39500734, -1.37298091, -1.34361233,\n",
       "        -1.36270191, -1.32892805, -1.34508076, -1.31424376, -1.42290749,\n",
       "        -1.28928047, -1.34508076, -1.2349486 , -1.34654919, -1.3215859 ,\n",
       "        -1.31424376, -1.3010279 , -1.30543319, -1.33333333, -1.27165932,\n",
       "        -1.4082232 , -1.32599119, -1.34801762, -1.29662261, -1.45080764,\n",
       "        -1.3215859 , -1.25403818, -1.38325991, -1.34654919, -1.32011747,\n",
       "        -1.34801762, -1.39647577, -1.33627019, -1.34948605, -1.43318649,\n",
       "        -1.41262849, -1.43465492, -1.25256975, -1.35389134, -1.24522761,\n",
       "        -1.40969163, -1.30249633, -1.36123348, -1.36563877, -1.44640235,\n",
       "        -1.26431718, -1.24522761, -1.30249633, -1.37885463, -1.36563877,\n",
       "        -1.34948605, -1.3113069 , -1.25991189, -1.36857562, -1.39207048,\n",
       "        -1.35242291, -1.30983847, -1.34801762, -1.28928047, -1.40675477,\n",
       "        -1.28634361, -1.40088106, -1.28634361, -1.28340675, -1.30837004,\n",
       "        -1.41556535, -1.39353891, -1.33920705, -1.36563877, -1.28928047,\n",
       "        -1.29368576, -1.34508076, -1.4082232 , -1.28487518, -1.29662261,\n",
       "        -1.26284875, -1.24963289, -1.33333333, -1.39647577, -1.33920705,\n",
       "        -1.29662261, -1.33480176, -1.34801762, -1.30837004, -1.37004405,\n",
       "        -1.25844347, -1.36857562, -1.39353891, -1.35389134, -1.38179148,\n",
       "        -1.3318649 , -1.40528634, -1.22320117, -1.33333333, -1.33773862,\n",
       "        -1.33480176, -1.35389134, -1.23641703, -1.49045521, -1.29662261,\n",
       "        -1.49045521, -1.41997063, -1.35242291, -1.31864905, -1.33920705,\n",
       "        -1.33039648, -1.2143906 , -1.33480176, -1.27459618, -1.25844347,\n",
       "        -1.30983847, -1.32452276, -1.35976505, -1.31864905, -1.37591777,\n",
       "        -1.34508076, -1.38472834, -1.37885463, -1.47283407, -1.34801762,\n",
       "        -1.30690162, -1.4082232 , -1.2907489 , -1.40381791, -1.41997063,\n",
       "        -1.30543319, -1.45814978, -1.29809104, -1.25844347, -1.3010279 ,\n",
       "        -1.24816446, -1.36270191, -1.38619677, -1.32745962, -1.25991189,\n",
       "        -1.26431718, -1.31571219, -1.44199706, -1.47577093, -1.28487518,\n",
       "        -1.44346549, -1.32011747, -1.35095448, -1.34508076, -1.37151248,\n",
       "        -1.37591777, -1.39353891, -1.36417034, -1.40234949, -1.36563877,\n",
       "        -1.24082232, -1.37885463, -1.37004405, -1.42437592, -1.29221733,\n",
       "        -1.34801762, -1.44346549, -1.3876652 , -1.32305433, -1.30396476,\n",
       "        -1.29368576, -1.39207048, -1.38032305, -1.32452276, -1.32745962,\n",
       "        -1.34948605, -1.2907489 , -1.30249633, -1.33627019, -1.27753304,\n",
       "        -1.35095448, -1.40234949, -1.28193833, -1.39207048, -1.3113069 ,\n",
       "        -1.34508076, -1.34508076, -1.28487518, -1.30249633, -1.30690162,\n",
       "        -1.26138032, -1.39060206, -1.34508076, -1.39941263, -1.36123348,\n",
       "        -1.37444934, -1.43612335, -1.34214391, -1.36857562, -1.35829662,\n",
       "        -1.25697504, -1.43171806, -1.30690162, -1.37444934, -1.22026432,\n",
       "        -1.27900147, -1.44052863, -1.33480176, -1.34508076, -1.36270191,\n",
       "        -1.27900147, -1.3318649 , -1.23201175, -1.34508076, -1.37298091,\n",
       "        -1.19823789, -1.40381791, -1.37298091, -1.42437592, -1.45961821,\n",
       "        -1.29368576, -1.42143906, -1.35389134, -1.31718062, -1.31864905,\n",
       "        -1.34067548, -1.29368576, -1.2804699 , -1.34361233, -1.47577093,\n",
       "        -1.30983847, -1.34361233, -1.33920705, -1.36563877, -1.40088106,\n",
       "        -1.33920705, -1.34801762, -1.37298091, -1.39353891, -1.17033774,\n",
       "        -1.38472834, -1.30983847, -1.28928047, -1.3318649 , -1.3113069 ,\n",
       "        -1.33333333, -1.3318649 , -1.3010279 , -1.32599119, -1.31277533,\n",
       "        -1.26578561, -1.27606461, -1.43906021, -1.39060206, -1.38032305,\n",
       "        -1.32305433, -1.34801762, -1.37591777, -1.36270191, -1.37444934,\n",
       "        -1.26872247, -1.31571219, -1.34508076, -1.26725404, -1.31718062]),\n",
       " 'mayoritariaRecomendacion - jorge.hermosillo.recommendation': array([-1.02643172, -0.99118943, -0.83700441, -1.04845815, -1.06754772,\n",
       "        -0.94566814, -0.91629956, -0.92804699, -0.87958884, -0.94273128,\n",
       "        -0.86490455, -0.77973568, -1.01174743, -0.82525698, -0.91189427,\n",
       "        -0.86049927, -0.95741557, -0.93098385, -0.81057269, -0.90748899,\n",
       "        -0.91923642, -0.96475771, -0.80176211, -1.01174743, -0.92951542,\n",
       "        -0.86196769, -0.78267254, -0.9236417 , -0.90161527, -0.98825257,\n",
       "        -0.99265786, -0.9339207 , -0.94126285, -1.05139501, -0.98531571,\n",
       "        -0.82378855, -0.93685756, -0.95007342, -0.89427313, -0.79735683,\n",
       "        -0.80763583, -0.87665198, -0.93832599, -0.88839941, -0.83847283,\n",
       "        -0.97356828, -1.00440529, -0.92657856, -1.02202643, -0.93098385,\n",
       "        -0.90014684, -1.02936858, -0.88839941, -0.96769457, -0.95007342,\n",
       "        -0.89133627, -0.93538913, -0.88546256, -0.9236417 , -0.94566814,\n",
       "        -1.05139501, -1.02202643, -1.08516887, -1.01762115, -0.93245228,\n",
       "        -1.07195301, -0.91923642, -0.86784141, -0.82232012, -1.        ,\n",
       "        -0.95447871, -0.89574156, -1.07488987, -0.92657856, -0.87665198,\n",
       "        -0.88105727, -0.94419971, -0.93538913, -1.01321586, -0.9133627 ,\n",
       "        -0.89720999, -1.        , -1.00293686, -0.95007342, -0.99412628,\n",
       "        -0.99265786, -0.98531571, -0.969163  , -1.01321586, -0.89720999,\n",
       "        -0.90748899, -0.92951542, -0.84140969, -0.91629956, -0.989721  ,\n",
       "        -0.91923642, -1.03817915, -0.95301028, -0.93098385, -0.83700441,\n",
       "        -0.95154185, -0.94273128, -0.91923642, -0.90895742, -0.9133627 ,\n",
       "        -0.91776799, -1.02202643, -0.94566814, -0.95007342, -1.01174743,\n",
       "        -0.90602056, -0.95594714, -0.83259912, -0.97209985, -0.9030837 ,\n",
       "        -1.15124816, -1.00146843, -0.88546256, -0.9236417 , -0.85609398,\n",
       "        -0.82378855, -0.97209985, -0.87077827, -0.89133627, -0.98825257,\n",
       "        -0.92070485, -0.92804699, -1.01468429, -0.86343612, -0.93979442,\n",
       "        -0.99412628, -0.969163  , -0.90014684, -0.87958884, -0.85903084,\n",
       "        -0.97797357, -0.91923642, -0.94126285, -0.90895742, -0.979442  ,\n",
       "        -0.87518355, -0.88546256, -0.97063142, -0.86637298, -1.00440529,\n",
       "        -0.88105727, -0.85756241, -0.95888399, -0.8825257 , -0.90014684,\n",
       "        -0.93979442, -0.87518355, -0.969163  , -0.98531571, -0.91189427,\n",
       "        -0.88986784, -0.81057269, -0.95154185, -0.99412628, -0.92070485,\n",
       "        -0.88399413, -1.03964758, -0.92804699, -0.92217327, -0.91629956,\n",
       "        -0.88546256, -1.02643172, -1.01468429, -0.95301028, -0.9339207 ,\n",
       "        -0.99853157, -1.00146843, -0.90455213, -0.89574156, -0.99118943,\n",
       "        -0.87958884, -0.92657856, -0.94126285, -0.91629956, -0.8928047 ,\n",
       "        -0.98825257, -0.94419971, -0.95154185, -0.88105727, -0.97650514,\n",
       "        -0.84287812, -0.80029369, -0.93979442, -0.81057269, -0.98678414,\n",
       "        -0.91923642, -0.8267254 , -0.87958884, -0.89427313, -0.86930984,\n",
       "        -1.03524229, -0.9133627 , -0.90748899, -0.98237885, -0.94713656,\n",
       "        -0.92217327, -1.00734214, -0.93538913, -0.95154185, -0.81497797,\n",
       "        -0.92804699, -0.87812041, -1.06167401, -0.89427313, -0.93245228,\n",
       "        -0.99118943, -0.93538913, -0.94126285, -0.8928047 , -1.00587372,\n",
       "        -0.77826725, -1.09104258, -0.88546256, -0.96328928, -0.98091043,\n",
       "        -0.95888399, -0.92951542, -0.86784141, -0.98678414, -0.94713656,\n",
       "        -0.95741557, -0.95301028, -0.92804699, -0.94273128, -0.86343612,\n",
       "        -0.82378855, -1.00881057, -1.04552129, -0.89133627, -0.91483113,\n",
       "        -0.90455213, -0.95741557, -0.93538913, -1.04845815, -1.04258443,\n",
       "        -0.94713656, -0.87077827, -0.95301028, -0.82966226, -0.84875184,\n",
       "        -0.98825257, -0.88105727, -0.78707783, -0.93538913, -0.92511013,\n",
       "        -1.020558  , -1.07048458, -0.97650514, -1.01321586, -0.90161527,\n",
       "        -0.89133627, -0.98531571, -0.92657856, -1.00587372, -1.06461087,\n",
       "        -0.9236417 , -0.8164464 , -0.97063142, -0.94860499, -0.95888399,\n",
       "        -0.88693098, -0.95594714, -0.989721  , -0.9133627 , -0.71659325,\n",
       "        -0.84434655, -0.88693098, -0.90014684, -0.85462555, -0.9030837 ,\n",
       "        -0.90014684, -0.979442  , -0.90748899, -0.98237885, -0.99412628,\n",
       "        -0.94566814, -0.91189427, -0.92217327, -1.03230543, -0.99265786,\n",
       "        -1.08223201, -1.04111601, -0.96475771, -0.96182085, -0.90895742,\n",
       "        -0.94860499, -0.95741557, -0.9236417 , -1.02643172, -0.8825257 ,\n",
       "        -0.96769457, -0.95154185, -0.90014684, -0.92804699, -0.95301028,\n",
       "        -0.96182085, -0.88693098, -1.01615272, -0.89133627, -0.90161527,\n",
       "        -0.85315712, -0.86196769, -1.03377386, -0.94860499, -1.01762115,\n",
       "        -0.93832599, -0.94126285, -0.83113069, -0.91189427, -0.99412628,\n",
       "        -1.02496329, -0.97356828, -0.94273128, -1.        , -0.75770925,\n",
       "        -0.85756241, -0.91776799, -1.00440529, -0.95007342, -0.88105727,\n",
       "        -1.010279  , -0.95301028, -0.91923642, -0.96622614, -0.89720999,\n",
       "        -0.95888399, -0.78414097, -0.92657856, -0.88986784, -1.00734214,\n",
       "        -1.07782673, -0.98384728, -1.03524229, -0.98825257, -0.99118943,\n",
       "        -0.93832599, -1.02936858, -0.94566814, -0.95447871, -0.9339207 ,\n",
       "        -0.97503671, -0.96769457, -0.93979442, -0.90455213, -0.88399413,\n",
       "        -0.96475771, -0.98384728, -0.9339207 , -0.94126285, -0.96035242,\n",
       "        -0.89574156, -1.01321586, -0.94273128, -0.98678414, -0.99412628,\n",
       "        -0.95154185, -0.91189427, -0.989721  , -0.9236417 , -0.7753304 ,\n",
       "        -1.01321586, -0.86784141, -0.9339207 , -0.91189427, -0.98237885,\n",
       "        -0.87958884, -0.89574156, -0.91776799, -0.93832599, -0.89867841,\n",
       "        -0.90455213, -0.87077827, -1.04111601, -0.90161527, -0.89867841,\n",
       "        -1.020558  , -0.9339207 , -0.90748899, -0.91042584, -0.95888399,\n",
       "        -0.89574156, -0.94566814, -0.93098385, -0.95594714, -0.96035242,\n",
       "        -0.71806167, -0.87077827, -0.90161527, -1.00146843, -1.03817915,\n",
       "        -0.84875184, -0.88105727, -1.07782673, -0.9236417 , -0.92217327,\n",
       "        -0.99706314, -0.96035242, -0.9339207 , -0.97503671, -0.77386197,\n",
       "        -1.02202643, -0.84875184, -0.94566814, -0.96475771, -1.        ,\n",
       "        -1.03671072, -0.99412628, -0.93832599, -0.91776799, -1.10425844,\n",
       "        -0.92070485, -0.84875184, -0.93245228, -0.94273128, -0.85168869,\n",
       "        -0.91629956, -0.97650514, -1.00881057, -0.95154185, -1.01908957,\n",
       "        -1.        , -0.88693098, -0.90895742, -0.91923642, -0.98678414,\n",
       "        -0.93538913, -0.90895742, -0.92070485, -0.91042584, -0.97063142,\n",
       "        -0.80469897, -0.99853157, -0.95447871, -0.95741557, -0.88839941,\n",
       "        -0.7753304 , -0.87371512, -0.94860499, -1.030837  , -0.94419971,\n",
       "        -0.96035242, -1.06314244, -0.88986784, -0.89574156, -0.91483113,\n",
       "        -0.90161527, -0.99853157, -0.85903084, -0.989721  , -0.95447871,\n",
       "        -0.9236417 , -0.98384728, -0.97063142, -0.9339207 , -0.8928047 ,\n",
       "        -1.0660793 , -0.85315712, -0.96622614, -0.95594714, -0.95741557,\n",
       "        -0.86784141, -0.96328928, -0.90455213, -1.04111601, -0.90455213,\n",
       "        -0.97063142, -0.92217327, -0.94860499, -0.90602056, -1.00440529,\n",
       "        -0.979442  , -0.89720999, -1.02496329, -0.98384728, -0.90602056,\n",
       "        -0.96035242, -1.05580029, -0.94126285, -0.89133627, -0.94126285,\n",
       "        -0.90161527, -1.10279001, -0.94713656, -1.05726872, -0.90748899,\n",
       "        -0.89867841, -1.01174743, -1.03817915, -1.05726872, -0.9339207 ,\n",
       "        -0.86637298, -1.02496329, -0.84434655, -0.9236417 , -0.96475771,\n",
       "        -1.03964758, -0.94566814, -0.92804699, -1.03230543, -0.95301028,\n",
       "        -0.89720999, -0.9133627 , -0.99559471, -0.95741557, -0.88546256,\n",
       "        -0.89867841, -0.93979442, -0.90748899, -0.96035242, -0.99706314,\n",
       "        -0.94126285, -1.03230543, -0.90748899, -1.00734214, -0.91189427,\n",
       "        -0.94419971, -1.01321586, -0.84287812, -1.06314244, -1.01762115,\n",
       "        -0.88839941, -0.97503671, -0.94273128, -0.93538913, -0.90895742,\n",
       "        -0.90161527, -0.98384728, -0.88839941, -1.01321586, -0.98384728,\n",
       "        -1.03377386, -0.95741557, -0.989721  , -0.89133627, -0.92070485,\n",
       "        -0.98237885, -0.89720999, -0.9133627 , -0.8928047 , -0.9339207 ,\n",
       "        -0.91629956, -0.90455213, -0.989721  , -0.90602056, -0.93098385,\n",
       "        -0.93538913, -0.99412628, -0.87812041, -0.87077827, -0.95154185,\n",
       "        -0.87371512, -0.89427313, -0.92951542, -0.92804699, -0.91483113,\n",
       "        -0.87665198, -0.97356828, -0.90895742, -0.9133627 , -0.98678414,\n",
       "        -0.92511013, -0.93685756, -0.95741557, -0.80029369, -0.91629956,\n",
       "        -0.80176211, -1.02790015, -0.91189427, -0.88399413, -1.01321586,\n",
       "        -0.97650514, -0.81057269, -0.8825257 , -0.88693098, -1.02349486,\n",
       "        -0.90748899, -0.9236417 , -0.87077827, -1.        , -1.00146843,\n",
       "        -0.89427313, -1.09397944, -0.97063142, -0.95007342, -1.030837  ,\n",
       "        -1.01615272, -0.89720999, -0.9133627 , -0.88546256, -0.86343612,\n",
       "        -0.989721  , -0.95741557, -0.99118943, -0.88399413, -0.85315712,\n",
       "        -0.86343612, -0.93832599, -0.93685756, -0.95301028, -0.87958884,\n",
       "        -0.87077827, -1.05580029, -0.87665198, -0.989721  , -0.89720999,\n",
       "        -0.98237885, -0.92657856, -0.93098385, -0.84875184, -0.90455213,\n",
       "        -0.94566814, -0.9030837 , -0.85609398, -0.98825257, -0.97650514,\n",
       "        -1.12481645, -0.87518355, -0.99118943, -1.04552129, -0.86784141,\n",
       "        -1.00587372, -0.96769457, -0.89720999, -0.97797357, -0.8164464 ,\n",
       "        -0.97356828, -0.98678414, -1.10279001, -0.99118943, -0.9133627 ,\n",
       "        -0.90014684, -1.10425844, -1.00440529, -1.01762115, -0.95007342,\n",
       "        -0.92217327, -0.93685756, -0.97209985, -0.87958884, -1.04698972,\n",
       "        -1.010279  , -1.00440529, -0.91629956, -0.91923642, -0.91629956,\n",
       "        -0.8722467 , -0.91483113, -0.90602056, -0.87518355, -0.92070485,\n",
       "        -0.89867841, -1.02643172, -0.98825257, -1.01321586, -0.99118943,\n",
       "        -0.86196769, -0.86196769, -0.94860499, -1.02936858, -0.98825257,\n",
       "        -0.89133627, -0.91923642, -1.01908957, -0.93979442, -0.9030837 ,\n",
       "        -0.98825257, -0.93979442, -0.86637298, -0.99118943, -0.95154185,\n",
       "        -0.94566814, -1.06461087, -1.02790015, -0.96035242, -0.89427313,\n",
       "        -0.85022026, -0.89720999, -0.91923642, -0.92217327, -0.90602056,\n",
       "        -1.00881057, -0.93979442, -1.06314244, -1.02643172, -0.92070485,\n",
       "        -0.94419971, -0.98091043, -0.82819383, -0.94860499, -1.12187959,\n",
       "        -0.81350954, -0.92951542, -0.93098385, -0.95594714, -0.94126285,\n",
       "        -0.83113069, -0.92070485, -1.04992658, -0.87371512, -0.80763583,\n",
       "        -0.91923642, -0.87958884, -1.010279  , -0.94126285, -0.87665198,\n",
       "        -1.06020558, -0.969163  , -1.02202643, -0.97209985, -1.00734214,\n",
       "        -0.96328928, -0.97356828, -0.84434655, -1.        , -0.97356828,\n",
       "        -0.94126285, -0.86343612, -0.87958884, -0.87812041, -1.00734214,\n",
       "        -0.87371512, -0.9133627 , -0.81497797, -0.95301028, -0.89574156,\n",
       "        -0.97650514, -0.8928047 , -1.04845815, -0.8722467 , -0.83406755,\n",
       "        -0.95154185, -0.90455213, -1.01174743, -0.89133627, -0.84434655,\n",
       "        -0.90748899, -0.8928047 , -0.95888399, -0.84140969, -0.87812041,\n",
       "        -0.92511013, -0.94566814, -0.98237885, -0.97503671, -0.97209985,\n",
       "        -0.96769457, -0.90748899, -0.9339207 , -0.88105727, -0.99853157,\n",
       "        -0.88399413, -0.92511013, -0.84287812, -0.96622614, -0.95741557,\n",
       "        -0.89427313, -0.89133627, -0.93098385, -0.92804699, -0.89867841,\n",
       "        -1.02496329, -0.94419971, -0.97356828, -0.86930984, -0.99412628,\n",
       "        -0.89427313, -0.86930984, -0.98678414, -0.91483113, -0.93685756,\n",
       "        -0.95007342, -0.97356828, -0.89867841, -0.95594714, -1.09104258,\n",
       "        -0.98531571, -0.99412628, -0.85168869, -0.96328928, -0.81057269,\n",
       "        -1.010279  , -0.88546256, -0.95154185, -0.99265786, -1.05286344,\n",
       "        -0.87665198, -0.83406755, -0.86784141, -1.01908957, -1.        ,\n",
       "        -0.94273128, -0.95447871, -0.87518355, -0.97650514, -0.98825257,\n",
       "        -0.98531571, -0.94126285, -0.97063142, -0.88693098, -1.030837  ,\n",
       "        -0.89133627, -0.98237885, -0.85022026, -0.84140969, -0.90602056,\n",
       "        -1.00734214, -0.93245228, -0.92804699, -1.00440529, -0.86784141,\n",
       "        -0.95447871, -0.94126285, -0.99853157, -0.86490455, -0.96035242,\n",
       "        -0.88546256, -0.91923642, -0.92070485, -0.98678414, -0.9236417 ,\n",
       "        -0.91189427, -0.95888399, -0.89427313, -0.88105727, -0.97797357,\n",
       "        -0.86637298, -0.95447871, -0.99265786, -0.94419971, -0.99559471,\n",
       "        -0.93245228, -0.97797357, -0.80323054, -0.92217327, -0.96328928,\n",
       "        -0.91042584, -0.96035242, -0.89574156, -1.10279001, -0.87812041,\n",
       "        -1.13803231, -1.07048458, -0.95007342, -0.91189427, -0.91483113,\n",
       "        -0.96328928, -0.83847283, -0.95741557, -0.85609398, -0.82819383,\n",
       "        -0.93685756, -0.96622614, -0.91629956, -0.88839941, -0.99412628,\n",
       "        -0.91483113, -1.00881057, -0.98678414, -1.03377386, -0.9236417 ,\n",
       "        -0.89133627, -0.94713656, -0.9236417 , -1.03671072, -1.07488987,\n",
       "        -0.89867841, -1.01908957, -0.92070485, -0.83259912, -0.87371512,\n",
       "        -0.87958884, -0.96328928, -0.989721  , -0.93538913, -0.87812041,\n",
       "        -0.86784141, -0.96328928, -1.03377386, -1.13950073, -0.85756241,\n",
       "        -0.99706314, -0.97209985, -0.9030837 , -0.96769457, -0.97356828,\n",
       "        -1.00881057, -1.01908957, -0.97650514, -1.01615272, -0.94566814,\n",
       "        -0.89427313, -0.99559471, -0.99559471, -1.010279  , -0.89720999,\n",
       "        -0.90748899, -1.01615272, -0.97797357, -0.93832599, -0.89720999,\n",
       "        -0.83259912, -0.97063142, -1.02936858, -0.91042584, -0.93245228,\n",
       "        -0.89867841, -0.87958884, -0.84287812, -0.93098385, -0.88546256,\n",
       "        -0.96475771, -0.94713656, -0.84140969, -0.97356828, -0.92804699,\n",
       "        -0.91923642, -0.92511013, -0.84287812, -0.93245228, -0.94566814,\n",
       "        -0.86784141, -1.010279  , -0.96035242, -1.02202643, -0.98531571,\n",
       "        -1.        , -1.04845815, -0.92511013, -0.96622614, -0.93979442,\n",
       "        -0.86490455, -1.06314244, -0.9030837 , -0.99559471, -0.7753304 ,\n",
       "        -0.83700441, -0.97503671, -0.93685756, -0.96769457, -0.93979442,\n",
       "        -0.85903084, -0.89720999, -0.81057269, -0.9133627 , -0.95447871,\n",
       "        -0.76945668, -1.00293686, -1.010279  , -1.030837  , -1.03377386,\n",
       "        -0.9030837 , -1.05580029, -0.969163  , -0.92217327, -0.92951542,\n",
       "        -0.90455213, -0.93832599, -0.87371512, -0.87958884, -1.020558  ,\n",
       "        -0.84728341, -0.91042584, -0.94419971, -0.95154185, -1.        ,\n",
       "        -0.92657856, -0.97356828, -0.98237885, -0.98091043, -0.77679883,\n",
       "        -0.969163  , -0.93098385, -0.94860499, -0.93685756, -0.90455213,\n",
       "        -0.92951542, -0.91776799, -0.88839941, -0.89427313, -0.87812041,\n",
       "        -0.85903084, -0.86049927, -0.99853157, -0.99853157, -1.01762115,\n",
       "        -0.95741557, -0.97209985, -0.96475771, -0.93979442, -0.95741557,\n",
       "        -0.89867841, -0.84728341, -0.95154185, -0.85462555, -0.96328928])}"
      ]
     },
     "execution_count": 25,
     "metadata": {},
     "output_type": "execute_result"
    }
   ],
   "source": [
    "all_diff.calls"
   ]
  },
  {
   "cell_type": "code",
   "execution_count": 26,
   "metadata": {},
   "outputs": [
    {
     "name": "stdout",
     "output_type": "stream",
     "text": [
      "Key: Alumni.MCE.2GEN.run1 - Alumni.MCE.2GEN.run2, CI: (-0.024963289280469925, 0.0029368575624081905), mean=-0.0119\n",
      "Key: Alumni.MCE.2GEN.run1 - mayoritariaRecomendacion, CI: (-0.4714023494860499, -0.35682819383259917), mean=-0.4129\n",
      "Key: Alumni.MCE.2GEN.run1 - jorge.hermosillo.recommendation, CI: (-1.4581497797356828, -1.2466593245227606), mean=-1.3518\n",
      "Key: Alumni.MCE.2GEN.run2 - mayoritariaRecomendacion, CI: (-0.45961820851688695, -0.34508076358296624), mean=-0.4010\n",
      "Key: Alumni.MCE.2GEN.run2 - jorge.hermosillo.recommendation, CI: (-1.4464390602055799, -1.234948604992658), mean=-1.3399\n",
      "Key: mayoritariaRecomendacion - jorge.hermosillo.recommendation, CI: (-1.064610866372981, -0.8105726872246697), mean=-0.9388\n"
     ]
    }
   ],
   "source": [
    "for key, value in all_diff.calls.items():\n",
    "    result = measurements.CI(value)\n",
    "    media = np.mean(value)\n",
    "    print(f\"Key: {key}, CI: {result}, mean={media:.4f}\")"
   ]
  },
  {
   "cell_type": "code",
   "execution_count": 27,
   "metadata": {},
   "outputs": [
    {
     "data": {
      "text/plain": [
       "<matplotlib.legend.Legend at 0x21cd8b82450>"
      ]
     },
     "execution_count": 27,
     "metadata": {},
     "output_type": "execute_result"
    },
    {
     "data": {
      "image/png": "[encoded data removed]",
      "text/plain": [
       "<Figure size 640x480 with 1 Axes>"
      ]
     },
     "metadata": {},
     "output_type": "display_data"
    }
   ],
   "source": [
    "for key, value in all_diff.calls.items():\n",
    "    plt.hist(value,label=key)\n",
    "plt.legend(loc='upper right')    "
   ]
  },
  {
   "cell_type": "markdown",
   "metadata": {
    "id": "CC2hR4w_4IzC"
   },
   "source": [
    "Once again, we use the function `difference_p_value` to estimate the p-value."
   ]
  },
  {
   "cell_type": "code",
   "execution_count": 28,
   "metadata": {
    "id": "x2vlIMNc3h5W"
   },
   "outputs": [],
   "source": [
    "p_values = difference_p_value(all_diff)"
   ]
  },
  {
   "cell_type": "markdown",
   "metadata": {
    "id": "192xc-_24chZ"
   },
   "source": [
    "And we can analyze from all pairs of systems individually which ones have significantly different performances by comparing their p-value with $\\alpha$."
   ]
  },
  {
   "cell_type": "code",
   "execution_count": 29,
   "metadata": {
    "colab": {
     "base_uri": "https://localhost:8080/"
    },
    "id": "l5hRhylS3jh2",
    "outputId": "b06cbf00-2d24-4714-e749-6210b2d96001"
   },
   "outputs": [
    {
     "data": {
      "text/plain": [
       "{'Alumni.MCE.2GEN.run1 - Alumni.MCE.2GEN.run2': 0.036,\n",
       " 'Alumni.MCE.2GEN.run1 - mayoritariaRecomendacion': 0.0,\n",
       " 'Alumni.MCE.2GEN.run1 - jorge.hermosillo.recommendation': 0.0,\n",
       " 'Alumni.MCE.2GEN.run2 - mayoritariaRecomendacion': 0.0,\n",
       " 'Alumni.MCE.2GEN.run2 - jorge.hermosillo.recommendation': 0.0,\n",
       " 'mayoritariaRecomendacion - jorge.hermosillo.recommendation': 0.0}"
      ]
     },
     "execution_count": 29,
     "metadata": {},
     "output_type": "execute_result"
    }
   ],
   "source": [
    "p_values"
   ]
  },
  {
   "cell_type": "markdown",
   "metadata": {
    "id": "NS3RHI9SkMtu"
   },
   "source": [
    "When conducting numerous comparisons or hypothesis tests on a dataset, the risk of incurring Type I errors (incorrectly dismissing a valid null hypothesis) increases. This happens because more tests performed increase the probability of randomly identifying statistically significant outcomes. Implementing adjustments for multiple comparisons is critical for several reasons: (1) To manage the risk of Type I Error, (2) To prevent erroneous conclusions, and (3) To uphold the integrity of the research.\n",
    "\n",
    "The following code illustrates the effect of these methods for multiple comparison corrections. The function `multipletests` makes the p-value correction by selecting the parameter `method`. In this example, the Bonferroni correction method is used."
   ]
  },
  {
   "cell_type": "code",
   "execution_count": 30,
   "metadata": {
    "id": "V1J_cqfdkMtu"
   },
   "outputs": [],
   "source": [
    "result = multipletests(list(p_values.values()), method='bonferroni')"
   ]
  },
  {
   "cell_type": "markdown",
   "metadata": {
    "id": "e2myRaBo6mPf"
   },
   "source": [
    "`result` is an array; next, we convert it back into a dictionary."
   ]
  },
  {
   "cell_type": "code",
   "execution_count": 31,
   "metadata": {
    "id": "MSaGBndz6G6t"
   },
   "outputs": [],
   "source": [
    "p_valuesC = dict(zip(p_values.keys(),result[1]))"
   ]
  },
  {
   "cell_type": "markdown",
   "metadata": {
    "id": "FY-9W45Q7nId"
   },
   "source": [
    "And we can analyze from all pairs of systems simunstally which ones have significantly different performances by comparing their p-value with $\\alpha$."
   ]
  },
  {
   "cell_type": "code",
   "execution_count": 32,
   "metadata": {
    "colab": {
     "base_uri": "https://localhost:8080/"
    },
    "id": "SKiKx3GU6IlN",
    "outputId": "94dd212d-dcae-4ec3-92f0-7397f5bd91a7"
   },
   "outputs": [
    {
     "data": {
      "text/plain": [
       "{'Alumni.MCE.2GEN.run1 - Alumni.MCE.2GEN.run2': 0.21599999999999997,\n",
       " 'Alumni.MCE.2GEN.run1 - mayoritariaRecomendacion': 0.0,\n",
       " 'Alumni.MCE.2GEN.run1 - jorge.hermosillo.recommendation': 0.0,\n",
       " 'Alumni.MCE.2GEN.run2 - mayoritariaRecomendacion': 0.0,\n",
       " 'Alumni.MCE.2GEN.run2 - jorge.hermosillo.recommendation': 0.0,\n",
       " 'mayoritariaRecomendacion - jorge.hermosillo.recommendation': 0.0}"
      ]
     },
     "execution_count": 32,
     "metadata": {},
     "output_type": "execute_result"
    }
   ],
   "source": [
    "p_valuesC"
   ]
  }
 ],
 "metadata": {
  "colab": {
   "provenance": []
  },
  "kernelspec": {
   "display_name": "Python 3 (ipykernel)",
   "language": "python",
   "name": "python3"
  },
  "language_info": {
   "codemirror_mode": {
    "name": "ipython",
    "version": 3
   },
   "file_extension": ".py",
   "mimetype": "text/x-python",
   "name": "python",
   "nbconvert_exporter": "python",
   "pygments_lexer": "ipython3",
   "version": "3.11.9"
  }
 },
 "nbformat": 4,
 "nbformat_minor": 4
}
