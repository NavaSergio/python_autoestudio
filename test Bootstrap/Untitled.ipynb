{
 "cells": [
  {
   "cell_type": "code",
   "execution_count": null,
   "metadata": {},
   "outputs": [],
   "source": [
    "\n",
    "#!pip install --upgrade \"jax[cpu]\""
   ]
  },
  {
   "cell_type": "code",
   "execution_count": null,
   "metadata": {},
   "outputs": [],
   "source": [
    "#!pip install optax"
   ]
  },
  {
   "cell_type": "code",
   "execution_count": null,
   "metadata": {},
   "outputs": [],
   "source": [
    "#!pip install IngeoML"
   ]
  },
  {
   "cell_type": "code",
   "execution_count": 53,
   "metadata": {},
   "outputs": [
    {
     "name": "stdout",
     "output_type": "stream",
     "text": [
      "Número de núcleos de CPU disponibles: 8\n"
     ]
    }
   ],
   "source": [
    "import os\n",
    "n_cores = os.cpu_count()\n",
    "print(f\"Número de núcleos de CPU disponibles: {n_cores}\")\n"
   ]
  },
  {
   "cell_type": "code",
   "execution_count": 18,
   "metadata": {},
   "outputs": [],
   "source": [
    "import time\n"
   ]
  },
  {
   "cell_type": "code",
   "execution_count": 2,
   "metadata": {},
   "outputs": [],
   "source": [
    "from IngeoML import StatisticSamples\n",
    "from sklearn.metrics import accuracy_score\n",
    "import numpy as np"
   ]
  },
  {
   "cell_type": "code",
   "execution_count": 15,
   "metadata": {},
   "outputs": [
    {
     "name": "stdout",
     "output_type": "stream",
     "text": [
      "0.8\n"
     ]
    },
    {
     "data": {
      "text/plain": [
       "array([1. , 0.8, 0.9, ..., 0.6, 0.5, 0.9])"
      ]
     },
     "execution_count": 15,
     "metadata": {},
     "output_type": "execute_result"
    }
   ],
   "source": [
    "# versión original\n",
    "statistic = StatisticSamples(num_samples=10, statistic=np.mean)\n",
    "empirical_distribution = np.r_[[3, 4, 5, 2, 4]]\n",
    "statistic(empirical_distribution)\n",
    "labels = np.r_[[0, 0, 0, 0, 0, 1, 1, 1, 1, 1]]\n",
    "pred   = np.r_[[0, 0, 1, 0, 0, 1, 1, 1, 0, 1]]\n",
    "print(accuracy_score(labels, pred))\n",
    "acc = StatisticSamples(num_samples=10000, statistic=accuracy_score)\n",
    "acc(labels, pred)"
   ]
  },
  {
   "cell_type": "code",
   "execution_count": 8,
   "metadata": {},
   "outputs": [
    {
     "name": "stdout",
     "output_type": "stream",
     "text": [
      "(10,)\n",
      "(10,)\n"
     ]
    }
   ],
   "source": [
    "print(labels.shape)\n",
    "print(pred.shape)"
   ]
  },
  {
   "cell_type": "code",
   "execution_count": 51,
   "metadata": {},
   "outputs": [
    {
     "name": "stdout",
     "output_type": "stream",
     "text": [
      "(10,)\n",
      "(10, 3)\n",
      "Precisión del Modelo 1: 0.8\n",
      "Precisión del Modelo 2: 0.8\n",
      "Precisión del Modelo 3: 0.9\n",
      "Tiempo de ejecución: 2.6109979152679443 segundos\n"
     ]
    }
   ],
   "source": [
    "\n",
    "statistic = StatisticSamples(num_samples=10, statistic=np.mean)\n",
    "empirical_distribution = np.r_[[3, 4, 5, 2, 4]]\n",
    "statistic(empirical_distribution)\n",
    "labels = np.r_[[0, 0, 0, 0, 0, 1, 1, 1, 1, 1]]\n",
    "predicciones_matriz = np.array([[0, 0, 1, 0, 0, 1, 1, 1, 0, 1],\n",
    "                                [0, 0, 0, 1, 1, 1, 1, 1, 1, 1],\n",
    "                                [0, 0, 0, 0, 0, 1, 1, 1, 1, 0]])\n",
    "predicciones_matriz = predicciones_matriz.T\n",
    "print(labels.shape)\n",
    "print(predicciones_matriz.shape)\n",
    "\n",
    "start_time = time.time()\n",
    "\n",
    "\n",
    "for i in range(predicciones_matriz.shape[1]):\n",
    "    predicciones_modelo = predicciones_matriz[:, i]\n",
    "    precisión_modelo = accuracy_score(labels, predicciones_modelo)\n",
    "    print(f\"Precisión del Modelo {i + 1}: {precisión_modelo}\")\n",
    "    acc = StatisticSamples(num_samples=10000, statistic=accuracy_score, n_jobs = -1)\n",
    "    acc(labels, pred)\n",
    "    \n",
    "\n",
    "end_time = time.time()\n",
    "print(f\"Tiempo de ejecución: {end_time - start_time} segundos\")\n"
   ]
  },
  {
   "cell_type": "code",
   "execution_count": 52,
   "metadata": {},
   "outputs": [
    {
     "data": {
      "text/plain": [
       "array([0.8, 0.8, 0.9])"
      ]
     },
     "execution_count": 52,
     "metadata": {},
     "output_type": "execute_result"
    }
   ],
   "source": [
    "# arreglo por renglón.\n",
    "# Cada renglón es una competidor\n",
    "labels = np.r_[[0, 0, 0, 0, 0, 1, 1, 1, 1, 1]]\n",
    "predicciones_matriz = np.array([[0, 0, 1, 0, 0, 1, 1, 1, 0, 1],\n",
    "                                [0, 0, 0, 1, 1, 1, 1, 1, 1, 1],\n",
    "                                [0, 0, 0, 0, 0, 1, 1, 1, 1, 0]])\n",
    "resultado = np.array([accuracy_score(predicciones_matriz[i, :], labels) for i in range(predicciones_matriz.shape[0])])\n",
    "resultado"
   ]
  },
  {
   "cell_type": "code",
   "execution_count": 43,
   "metadata": {},
   "outputs": [
    {
     "name": "stdout",
     "output_type": "stream",
     "text": [
      "Tiempo de ejecución: 2.5689940452575684 segundos\n"
     ]
    }
   ],
   "source": [
    "start_time = time.time()\n",
    "acc = StatisticSamples(num_samples=10000, statistic=accuracy_score, n_jobs = -1)\n",
    "np.array([acc(labels,predicciones_matriz[i, :]) for i in range(predicciones_matriz.shape[0])]).T\n",
    "end_time = time.time()\n",
    "print(f\"Tiempo de ejecución: {end_time - start_time} segundos\")\n"
   ]
  },
  {
   "cell_type": "code",
   "execution_count": 13,
   "metadata": {},
   "outputs": [
    {
     "data": {
      "text/plain": [
       "array([0.8, 0.8, 0.9])"
      ]
     },
     "execution_count": 13,
     "metadata": {},
     "output_type": "execute_result"
    }
   ],
   "source": [
    "# arreglo por columna.\n",
    "# Cada columna es una competidor\n",
    "predicciones_matriz2 = predicciones_matriz.T\n",
    "np.array([accuracy_score(predicciones_matriz2[:, i], labels) for i in range(predicciones_matriz2.shape[1])])"
   ]
  },
  {
   "cell_type": "code",
   "execution_count": 53,
   "metadata": {},
   "outputs": [
    {
     "name": "stdout",
     "output_type": "stream",
     "text": [
      "[[0.6 0.9 0.7]\n",
      " [0.9 0.7 0.6]\n",
      " [0.7 0.9 1. ]\n",
      " [0.9 1.  1. ]\n",
      " [0.9 0.9 0.9]\n",
      " [0.8 0.3 0.9]\n",
      " [0.8 1.  0.8]\n",
      " [0.7 0.8 0.9]\n",
      " [0.8 0.6 0.9]\n",
      " [0.8 0.9 0.8]\n",
      " [0.9 0.7 0.9]\n",
      " [0.9 0.8 0.8]\n",
      " [0.7 0.9 1. ]\n",
      " [0.9 0.8 0.7]\n",
      " [0.6 0.8 0.8]\n",
      " [0.9 0.9 0.9]\n",
      " [0.9 0.6 0.9]\n",
      " [1.  0.7 0.9]\n",
      " [0.9 0.7 0.8]\n",
      " [0.7 0.9 1. ]\n",
      " [0.7 0.8 0.9]\n",
      " [1.  0.8 0.9]\n",
      " [0.7 0.7 1. ]\n",
      " [0.5 0.7 0.9]\n",
      " [0.8 0.9 1. ]\n",
      " [0.8 0.7 1. ]\n",
      " [0.8 1.  0.7]\n",
      " [0.8 1.  1. ]\n",
      " [0.8 0.9 1. ]\n",
      " [0.8 0.7 0.9]\n",
      " [0.8 0.9 0.9]\n",
      " [0.8 0.9 0.9]\n",
      " [1.  0.9 1. ]\n",
      " [0.8 0.8 0.9]\n",
      " [0.9 0.6 0.9]\n",
      " [0.8 0.9 1. ]\n",
      " [0.8 0.8 1. ]\n",
      " [0.8 0.6 1. ]\n",
      " [0.8 0.7 0.6]\n",
      " [0.7 0.7 0.8]\n",
      " [0.5 0.7 0.9]\n",
      " [0.8 0.9 1. ]\n",
      " [0.9 0.8 1. ]\n",
      " [0.7 0.5 0.8]\n",
      " [0.9 0.7 1. ]\n",
      " [0.7 0.9 1. ]\n",
      " [0.9 0.6 0.9]\n",
      " [0.9 0.7 1. ]\n",
      " [0.7 0.7 0.9]\n",
      " [0.9 0.8 0.9]\n",
      " [0.6 0.6 1. ]\n",
      " [0.7 0.7 0.9]\n",
      " [0.9 0.8 0.9]\n",
      " [0.9 0.8 1. ]\n",
      " [0.9 0.8 1. ]\n",
      " [0.8 0.9 0.8]\n",
      " [0.7 0.9 0.9]\n",
      " [0.9 0.5 1. ]\n",
      " [0.8 0.8 1. ]\n",
      " [1.  0.8 1. ]\n",
      " [0.9 0.9 0.9]\n",
      " [0.8 0.8 1. ]\n",
      " [0.8 0.9 0.9]\n",
      " [0.9 1.  1. ]\n",
      " [1.  0.9 0.8]\n",
      " [0.8 0.9 0.8]\n",
      " [0.9 0.8 0.9]\n",
      " [0.9 0.8 0.8]\n",
      " [1.  0.6 0.9]\n",
      " [0.6 0.7 0.9]\n",
      " [0.6 0.6 0.9]\n",
      " [0.8 1.  0.5]\n",
      " [0.9 0.8 0.9]\n",
      " [0.9 0.8 0.7]\n",
      " [0.7 0.7 0.8]\n",
      " [0.6 0.7 0.8]\n",
      " [0.8 0.8 0.6]\n",
      " [0.7 0.7 0.9]\n",
      " [0.8 0.9 0.9]\n",
      " [0.6 0.6 0.9]\n",
      " [0.7 0.7 0.9]\n",
      " [0.6 0.9 0.7]\n",
      " [1.  0.8 0.9]\n",
      " [0.6 0.8 0.8]\n",
      " [0.8 0.9 1. ]\n",
      " [0.9 0.6 1. ]\n",
      " [0.9 0.7 1. ]\n",
      " [1.  1.  0.9]\n",
      " [0.9 0.8 1. ]\n",
      " [0.7 0.8 0.8]\n",
      " [0.9 0.8 0.7]\n",
      " [0.8 1.  1. ]\n",
      " [0.6 0.9 0.8]\n",
      " [0.7 0.8 1. ]\n",
      " [0.8 0.9 0.7]\n",
      " [0.7 0.6 1. ]\n",
      " [0.9 0.9 0.8]\n",
      " [0.9 0.8 0.9]\n",
      " [0.8 0.6 0.9]\n",
      " [0.9 0.9 0.9]]\n",
      "[0.804 0.788 0.889]\n"
     ]
    }
   ],
   "source": [
    "acc = StatisticSamples(num_samples=100, statistic=accuracy_score)\n",
    "distMuestralAcc = np.array([acc(labels,predicciones_matriz2[:, i]) for i in range(predicciones_matriz2.shape[1])]).T\n",
    "print(distMuestralAcc)\n",
    "print(np.mean(distMuestralAcc,axis=0))"
   ]
  },
  {
   "cell_type": "code",
   "execution_count": null,
   "metadata": {},
   "outputs": [],
   "source": []
  }
 ],
 "metadata": {
  "kernelspec": {
   "display_name": "Python 3 (ipykernel)",
   "language": "python",
   "name": "python3"
  },
  "language_info": {
   "codemirror_mode": {
    "name": "ipython",
    "version": 3
   },
   "file_extension": ".py",
   "mimetype": "text/x-python",
   "name": "python",
   "nbconvert_exporter": "python",
   "pygments_lexer": "ipython3",
   "version": "3.11.5"
  }
 },
 "nbformat": 4,
 "nbformat_minor": 4
}
