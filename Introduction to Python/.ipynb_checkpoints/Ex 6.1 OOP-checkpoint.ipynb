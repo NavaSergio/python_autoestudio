{
 "cells": [
  {
   "cell_type": "code",
   "execution_count": 1,
   "metadata": {},
   "outputs": [],
   "source": [
    "# Creatings Class and Object in Python\n",
    "class myBird:\n",
    "    \n",
    "  def __init__(self):\n",
    "    print(\"myBird class constructor is executing\")\n",
    "\n",
    "  def whatType(self):\n",
    "    print(\"I am a Bird ...\")\n",
    "\n",
    "  def canSwim(self):\n",
    "    print(\"I can Swim ...\")\n"
   ]
  },
  {
   "cell_type": "code",
   "execution_count": 8,
   "metadata": {},
   "outputs": [],
   "source": [
    "class myParrot:\n",
    "    # class attribute\n",
    "    species = \"bird\"\n",
    "    \n",
    "    # instance attributes\n",
    "    def __init__(self, name, age):\n",
    "        print(\"myParrot class constructor is executing...\")\n",
    "        self.name = name\n",
    "        self.age = age\n",
    "    \n",
    "    def canSing(self, thisSong):\n",
    "        return \"{} can sing {}\".format(self.name,thisSong)\n",
    " "
   ]
  },
  {
   "cell_type": "code",
   "execution_count": 9,
   "metadata": {},
   "outputs": [],
   "source": [
    "   \n",
    "# myPenguin class inheriting the attribute from the myBird class\n",
    "class myPenguin(myBird):\n",
    "    \n",
    "    def __init__(self):\n",
    "        # call super() function\n",
    "        super().__init__()\n",
    "        print(\"Penguin is ready\")\n",
    "        \n",
    "    def whoisThis(self):\n",
    "        print(\"I am Penguin\")\n",
    "        \n",
    "    def canRun(self):\n",
    "        print(\"I can run faster\")"
   ]
  },
  {
   "cell_type": "code",
   "execution_count": 10,
   "metadata": {},
   "outputs": [
    {
     "name": "stdout",
     "output_type": "stream",
     "text": [
      "myParrot class constructor is executing...\n",
      "myParrot class constructor is executing...\n",
      "MP1 is a bird\n",
      "MP2 also is a bird\n",
      "MyParrot1 is 10 years of age\n",
      "MyParrot2 is 15 years of age\n",
      "MyParrot1 can sing Chirp\n",
      "myBird class constructor is executing\n",
      "Penguin is ready\n",
      "I am Penguin\n",
      "I can Swim ...\n",
      "I can run faster\n"
     ]
    }
   ],
   "source": [
    "# instantiate the Parrot class\n",
    "mp1 = myParrot(\"MyParrot1\",10)\n",
    "mp2 = myParrot(\"MyParrot2\",15)\n",
    "\n",
    "# access  the class attributes\n",
    "print(\"MP1 is a {}\".format(mp1.__class__.species))\n",
    "print(\"MP2 also is a {}\".format(mp2.__class__.species))\n",
    "\n",
    "# accesss the instance attributes\n",
    "print(\"{} is {} years of age\".format(mp1.name,mp1.age))\n",
    "print(\"{} is {} years of age\".format(mp2.name,mp2.age))\n",
    "print(mp1.canSing(\"Chirp\"))\n",
    "\n",
    "# Accessing the class child class´s attributes(Inheritance)\n",
    "pg1 = myPenguin()\n",
    "pg1.whoisThis()\n",
    "pg1.canSwim()\n",
    "pg1.canRun()\n"
   ]
  },
  {
   "cell_type": "code",
   "execution_count": 15,
   "metadata": {},
   "outputs": [
    {
     "name": "stdout",
     "output_type": "stream",
     "text": [
      "Selling Price: 20000\n",
      "Selling Price: 30000\n",
      "Selling Price: 40000\n"
     ]
    }
   ],
   "source": [
    "# Data Encapsulation\n",
    "class personalComputer:\n",
    "    \n",
    "    def __init__(self):\n",
    "        self.maxComputerPrice = 20000\n",
    "        \n",
    "    def mySell(self):\n",
    "        print(\"Selling Price: {}\".format(self.maxComputerPrice))\n",
    "        \n",
    "    def setMaxComputerPrice(self,price):\n",
    "        self.maxComputerPrice = price\n",
    "\n",
    "pc = personalComputer()\n",
    "pc.mySell()\n",
    "\n",
    "# change the price directly\n",
    "pc.maxComputerPrice = 30000\n",
    "pc.mySell()\n",
    "\n",
    "# change the price using setter function\n",
    "pc.setMaxComputerPrice(40000)\n",
    "pc.mySell()"
   ]
  },
  {
   "cell_type": "code",
   "execution_count": null,
   "metadata": {},
   "outputs": [],
   "source": []
  }
 ],
 "metadata": {
  "kernelspec": {
   "display_name": "Python 3 (ipykernel)",
   "language": "python",
   "name": "python3"
  },
  "language_info": {
   "codemirror_mode": {
    "name": "ipython",
    "version": 3
   },
   "file_extension": ".py",
   "mimetype": "text/x-python",
   "name": "python",
   "nbconvert_exporter": "python",
   "pygments_lexer": "ipython3",
   "version": "3.11.5"
  }
 },
 "nbformat": 4,
 "nbformat_minor": 4
}
