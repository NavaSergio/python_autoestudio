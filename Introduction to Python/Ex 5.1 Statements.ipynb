{
 "cells": [
  {
   "cell_type": "code",
   "execution_count": 3,
   "id": "f2d4eaf9",
   "metadata": {},
   "outputs": [
    {
     "data": {
      "text/plain": [
       "'\\nEste es un comentario multi-linea\\nque tambien se puede escribir de esta \\nforma\\n'"
      ]
     },
     "execution_count": 3,
     "metadata": {},
     "output_type": "execute_result"
    }
   ],
   "source": [
    "# comentario de una sola linea\n",
    "\n",
    "# Este es un comentario\n",
    "# multi-linea y puede \n",
    "# escribirse así \n",
    "\n",
    "\n",
    "'''\n",
    "Este es un comentario multi-linea\n",
    "que tambien se puede escribir de esta \n",
    "forma\n",
    "'''"
   ]
  },
  {
   "cell_type": "code",
   "execution_count": 4,
   "id": "d0cf749b",
   "metadata": {},
   "outputs": [],
   "source": [
    "# stateent ' assigment statement\n",
    "a = 1"
   ]
  },
  {
   "cell_type": "code",
   "execution_count": 7,
   "id": "4f4c4362",
   "metadata": {},
   "outputs": [
    {
     "name": "stdout",
     "output_type": "stream",
     "text": [
      "21\n",
      "21\n"
     ]
    }
   ],
   "source": [
    "# Multipleline statement\n",
    "# explicit line continuation -  '\\'\n",
    "b = 1 + 2 + 3 + \\\n",
    "    4 + 5 + 6\n",
    "print(b)\n",
    "# Implicity line comtinuation within brackets\n",
    "c = (1 + 2 + 3+\n",
    "    4 + 5 + 6)\n",
    "print(c)"
   ]
  },
  {
   "cell_type": "code",
   "execution_count": 8,
   "id": "7c38c6b3",
   "metadata": {},
   "outputs": [
    {
     "name": "stdout",
     "output_type": "stream",
     "text": [
      "1 3 0\n"
     ]
    }
   ],
   "source": [
    "# multiple statements in one line using ';'\n",
    "d=1 ; e = 3 ; f = 0 \n",
    "print(d,e,f)"
   ]
  },
  {
   "cell_type": "code",
   "execution_count": 9,
   "id": "a5ef03cb",
   "metadata": {},
   "outputs": [
    {
     "name": "stdout",
     "output_type": "stream",
     "text": [
      "1\n",
      "2\n",
      "3\n",
      "4\n",
      "5\n",
      "End of the program...\n"
     ]
    }
   ],
   "source": [
    "# Code block (body of a function, loop, etc.) starts with indentation\n",
    "# and ends with the first unindented line.\n",
    "for i in range(1,10):\n",
    "    print(i)\n",
    "    if i==5:\n",
    "        break\n",
    "print(\"End of the program...\")"
   ]
  },
  {
   "cell_type": "code",
   "execution_count": null,
   "id": "c63e03d8",
   "metadata": {},
   "outputs": [],
   "source": []
  }
 ],
 "metadata": {
  "kernelspec": {
   "display_name": "Python 3 (ipykernel)",
   "language": "python",
   "name": "python3"
  },
  "language_info": {
   "codemirror_mode": {
    "name": "ipython",
    "version": 3
   },
   "file_extension": ".py",
   "mimetype": "text/x-python",
   "name": "python",
   "nbconvert_exporter": "python",
   "pygments_lexer": "ipython3",
   "version": "3.11.5"
  }
 },
 "nbformat": 4,
 "nbformat_minor": 5
}
