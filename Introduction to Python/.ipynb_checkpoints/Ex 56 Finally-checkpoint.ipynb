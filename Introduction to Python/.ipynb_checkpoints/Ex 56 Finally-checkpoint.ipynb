{
 "cells": [
  {
   "cell_type": "code",
   "execution_count": 15,
   "metadata": {},
   "outputs": [
    {
     "name": "stdout",
     "output_type": "stream",
     "text": [
      "Please enter the first number ...22\n",
      "Please enter the second number ...6\n",
      "The data items are not defined\n"
     ]
    }
   ],
   "source": [
    "# catching specific exception\n",
    "try:\n",
    "    a = int(input(\"Please enter the first number ...\"))\n",
    "    b = int(input(\"Please enter the second number ...\"))\n",
    "    if (a < 0):\n",
    "        raise TypeError\n",
    "    c = x/y\n",
    "    print(\"{} / {} = {}\".format(a,b,c))\n",
    "except ZeroDivisionError:\n",
    "    print(\"Division by zero is not possible\")\n",
    "except ValueError:\n",
    "    print(\"The data types are not proper\")    \n",
    "except TypeError:\n",
    "    print(\"The data is not in range\")    \n",
    "except NameError:\n",
    "    print(\"The data items are not defined\")    "
   ]
  },
  {
   "cell_type": "code",
   "execution_count": null,
   "metadata": {},
   "outputs": [],
   "source": []
  },
  {
   "cell_type": "code",
   "execution_count": null,
   "metadata": {},
   "outputs": [],
   "source": []
  }
 ],
 "metadata": {
  "kernelspec": {
   "display_name": "Python 3",
   "language": "python",
   "name": "python3"
  },
  "language_info": {
   "codemirror_mode": {
    "name": "ipython",
    "version": 3
   },
   "file_extension": ".py",
   "mimetype": "text/x-python",
   "name": "python",
   "nbconvert_exporter": "python",
   "pygments_lexer": "ipython3",
   "version": "3.8.5"
  }
 },
 "nbformat": 4,
 "nbformat_minor": 4
}
