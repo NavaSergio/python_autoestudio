{
 "cells": [
  {
   "cell_type": "markdown",
   "metadata": {
    "id": "wGizC3XikMtk"
   },
   "source": [
    "<p><img alt=\"Colaboratory logo\" height=\"50px\" src=\"https://github.com/INGEOTEC/text_models/raw/master/docs/source/ingeotec.png\" align=\"left\" hspace=\"10px\" vspace=\"0px\" /></p>\n",
    "\n",
    "# CompStats\n",
    "## Quickstart Guide\n",
    "\n",
    "### <http://compstats.readthedocs.org>\n",
    "\n"
   ]
  },
  {
   "cell_type": "markdown",
   "metadata": {
    "id": "u-QV6DJYaQjg"
   },
   "source": [
    "## Installing CompStats"
   ]
  },
  {
   "cell_type": "code",
   "execution_count": 41,
   "metadata": {
    "id": "ISeelAVIJc59"
   },
   "outputs": [],
   "source": [
    "# !python -m pip uninstall CompStats"
   ]
  },
  {
   "cell_type": "code",
   "execution_count": 42,
   "metadata": {
    "id": "_4WTIJx5H9ii"
   },
   "outputs": [],
   "source": [
    "# %pip install -U git+https://github.com/INGEOTEC/CompStats@develop"
   ]
  },
  {
   "cell_type": "markdown",
   "metadata": {
    "id": "2sFWAgM0H3La"
   },
   "source": [
    "First, we need to install CompStats. This can be quickly done through pip, the Python package manager."
   ]
  },
  {
   "cell_type": "code",
   "execution_count": 43,
   "metadata": {
    "colab": {
     "base_uri": "https://localhost:8080/"
    },
    "id": "k2UzLxhkkMtp",
    "outputId": "dbadd757-1706-49ed-b866-539afbe92f71"
   },
   "outputs": [],
   "source": [
    "try:\n",
    "  import CompStats\n",
    "except ImportError:\n",
    "    !pip install Compstats\n",
    "    # !pip install -U git+https://github.com/INGEOTEC/CompStats@develop"
   ]
  },
  {
   "cell_type": "markdown",
   "metadata": {
    "id": "pqJKAfenkMtr"
   },
   "source": [
    "## Libraries"
   ]
  },
  {
   "cell_type": "markdown",
   "metadata": {
    "id": "ifWsyR9mH7-o"
   },
   "source": [
    "After installing `CompStats`, we must import the necessary libraries for our analysis. `CompStats` relies on several Python libraries for data analysis and scientific computing.\n",
    "\n",
    "The first line of the following code loads two functions from the `CompStats` library. The `performance` function is used to calculate and analyze the performance of machine learning models. On the other hand, the `plot_performance` function visualizes the performance metrics calculated by `performance`, such as accuracy or F1 score, along with confidence intervals to help understand the variability and reliability of the performance metrics.\n",
    "\n",
    "The second line imports two functions: `difference` and `plot_difference`; `difference` assesses the differences in performance between models in comparison to the best system, and `plot_difference` visually represents these differences relative to the best system.\n",
    "\n",
    "The third line imports two functions: `all_differences` and `difference_p_value`. `all_differences` evaluates the differences in performance between all models, and `difference_p_value` estimates the p-value of the hypothesis that the difference is significantly greater than zero.\n",
    "\n",
    "The fourth line imports the function `multipletests`that is used for adjusting p-values when multiple hypothesis tests are performed, to control for the false discovery rate or family-wise error rate.\n",
    "\n",
    "The rest of the lines load commonly used Python libraries."
   ]
  },
  {
   "cell_type": "code",
   "execution_count": 44,
   "metadata": {
    "id": "rUVyzgMokMts"
   },
   "outputs": [],
   "source": [
    "from CompStats import performance, plot_performance\n",
    "from CompStats import difference, plot_difference\n",
    "from CompStats import all_differences, difference_p_value\n",
    "from statsmodels.stats.multitest import multipletests\n",
    "from sklearn.metrics import f1_score\n",
    "import pandas as pd"
   ]
  },
  {
   "cell_type": "markdown",
   "metadata": {
    "id": "DWcPnzA2HI-Y"
   },
   "source": [
    "# Dataset"
   ]
  },
  {
   "cell_type": "markdown",
   "metadata": {
    "id": "eKbW9vf-IASa"
   },
   "source": [
    "Once we have set up our environment, we can explore what CompStats offers. Let's begin with a basic example of how to use CompStats for a simple statistical analysis.\n",
    "\n",
    "To illustrate the use of CompStats, we will use a dataset included in the CompStats package. The path of the dataset is found with the following instructions. The variable `DATA` contains the path as shown below.  "
   ]
  },
  {
   "cell_type": "code",
   "execution_count": 45,
   "metadata": {
    "colab": {
     "base_uri": "https://localhost:8080/",
     "height": 36
    },
    "id": "8TGr5Jh6HIPR",
    "outputId": "b16c1843-a520-4b42-b653-84aee799f963"
   },
   "outputs": [],
   "source": [
    "# from CompStats.tests.test_performance import DATA\n",
    "DATA = 'MeOffendEs_subtask3.csv'"
   ]
  },
  {
   "cell_type": "markdown",
   "metadata": {
    "id": "seBE-afbkMts"
   },
   "source": [
    "`DATA` contains the information to compare six systems for a multiclass classification task. The next instruction loads the data into a dataframe."
   ]
  },
  {
   "cell_type": "code",
   "execution_count": 46,
   "metadata": {
    "id": "WFo5qGVGI5fg"
   },
   "outputs": [],
   "source": [
    "df = pd.read_csv(DATA)"
   ]
  },
  {
   "cell_type": "markdown",
   "metadata": {
    "id": "CnOx0jOAJw6H"
   },
   "source": [
    "The first five rows of `df` are shown below. It can be observed that the first column contains the gold standard, identified with `y`, and the rest of the columns are the predictions performed by different systems."
   ]
  },
  {
   "cell_type": "code",
   "execution_count": 47,
   "metadata": {
    "colab": {
     "base_uri": "https://localhost:8080/",
     "height": 206
    },
    "id": "PxDOXB8QJ2yT",
    "outputId": "08dad3e6-bdf9-4c72-848f-5576ccd383cc"
   },
   "outputs": [
    {
     "data": {
      "text/html": [
       "<div>\n",
       "<style scoped>\n",
       "    .dataframe tbody tr th:only-of-type {\n",
       "        vertical-align: middle;\n",
       "    }\n",
       "\n",
       "    .dataframe tbody tr th {\n",
       "        vertical-align: top;\n",
       "    }\n",
       "\n",
       "    .dataframe thead th {\n",
       "        text-align: right;\n",
       "    }\n",
       "</style>\n",
       "<table border=\"1\" class=\"dataframe\">\n",
       "  <thead>\n",
       "    <tr style=\"text-align: right;\">\n",
       "      <th></th>\n",
       "      <th>y</th>\n",
       "      <th>aomar</th>\n",
       "      <th>CEN-Amrita</th>\n",
       "      <th>CIC-IPN</th>\n",
       "      <th>CIMAT-GTO</th>\n",
       "      <th>CIMAT-MTY-GTO</th>\n",
       "      <th>DCCD-INFOTEC</th>\n",
       "      <th>NLP-CIC</th>\n",
       "      <th>Timen</th>\n",
       "      <th>UMUTeam</th>\n",
       "      <th>xjywing</th>\n",
       "    </tr>\n",
       "  </thead>\n",
       "  <tbody>\n",
       "    <tr>\n",
       "      <th>2178</th>\n",
       "      <td>0</td>\n",
       "      <td>1</td>\n",
       "      <td>1</td>\n",
       "      <td>1</td>\n",
       "      <td>1</td>\n",
       "      <td>1</td>\n",
       "      <td>0</td>\n",
       "      <td>1</td>\n",
       "      <td>1</td>\n",
       "      <td>0</td>\n",
       "      <td>1</td>\n",
       "    </tr>\n",
       "    <tr>\n",
       "      <th>2179</th>\n",
       "      <td>1</td>\n",
       "      <td>1</td>\n",
       "      <td>1</td>\n",
       "      <td>0</td>\n",
       "      <td>1</td>\n",
       "      <td>1</td>\n",
       "      <td>1</td>\n",
       "      <td>1</td>\n",
       "      <td>0</td>\n",
       "      <td>1</td>\n",
       "      <td>1</td>\n",
       "    </tr>\n",
       "    <tr>\n",
       "      <th>2180</th>\n",
       "      <td>0</td>\n",
       "      <td>1</td>\n",
       "      <td>1</td>\n",
       "      <td>0</td>\n",
       "      <td>0</td>\n",
       "      <td>0</td>\n",
       "      <td>0</td>\n",
       "      <td>0</td>\n",
       "      <td>0</td>\n",
       "      <td>0</td>\n",
       "      <td>1</td>\n",
       "    </tr>\n",
       "    <tr>\n",
       "      <th>2181</th>\n",
       "      <td>1</td>\n",
       "      <td>1</td>\n",
       "      <td>1</td>\n",
       "      <td>0</td>\n",
       "      <td>1</td>\n",
       "      <td>1</td>\n",
       "      <td>1</td>\n",
       "      <td>1</td>\n",
       "      <td>0</td>\n",
       "      <td>0</td>\n",
       "      <td>1</td>\n",
       "    </tr>\n",
       "    <tr>\n",
       "      <th>2182</th>\n",
       "      <td>0</td>\n",
       "      <td>1</td>\n",
       "      <td>1</td>\n",
       "      <td>0</td>\n",
       "      <td>1</td>\n",
       "      <td>0</td>\n",
       "      <td>0</td>\n",
       "      <td>0</td>\n",
       "      <td>0</td>\n",
       "      <td>0</td>\n",
       "      <td>1</td>\n",
       "    </tr>\n",
       "  </tbody>\n",
       "</table>\n",
       "</div>"
      ],
      "text/plain": [
       "      y  aomar  CEN-Amrita  CIC-IPN  CIMAT-GTO  CIMAT-MTY-GTO  DCCD-INFOTEC  \\\n",
       "2178  0      1           1        1          1              1             0   \n",
       "2179  1      1           1        0          1              1             1   \n",
       "2180  0      1           1        0          0              0             0   \n",
       "2181  1      1           1        0          1              1             1   \n",
       "2182  0      1           1        0          1              0             0   \n",
       "\n",
       "      NLP-CIC  Timen  UMUTeam  xjywing  \n",
       "2178        1      1        0        1  \n",
       "2179        1      0        1        1  \n",
       "2180        0      0        0        1  \n",
       "2181        1      0        0        1  \n",
       "2182        0      0        0        1  "
      ]
     },
     "execution_count": 47,
     "metadata": {},
     "output_type": "execute_result"
    }
   ],
   "source": [
    "df.tail(5)"
   ]
  },
  {
   "cell_type": "code",
   "execution_count": 48,
   "metadata": {},
   "outputs": [
    {
     "data": {
      "text/html": [
       "<div>\n",
       "<style scoped>\n",
       "    .dataframe tbody tr th:only-of-type {\n",
       "        vertical-align: middle;\n",
       "    }\n",
       "\n",
       "    .dataframe tbody tr th {\n",
       "        vertical-align: top;\n",
       "    }\n",
       "\n",
       "    .dataframe thead th {\n",
       "        text-align: right;\n",
       "    }\n",
       "</style>\n",
       "<table border=\"1\" class=\"dataframe\">\n",
       "  <thead>\n",
       "    <tr style=\"text-align: right;\">\n",
       "      <th></th>\n",
       "      <th>y</th>\n",
       "      <th>aomar</th>\n",
       "      <th>CEN-Amrita</th>\n",
       "      <th>CIC-IPN</th>\n",
       "      <th>CIMAT-GTO</th>\n",
       "      <th>CIMAT-MTY-GTO</th>\n",
       "      <th>DCCD-INFOTEC</th>\n",
       "      <th>NLP-CIC</th>\n",
       "      <th>Timen</th>\n",
       "      <th>UMUTeam</th>\n",
       "      <th>xjywing</th>\n",
       "    </tr>\n",
       "  </thead>\n",
       "  <tbody>\n",
       "    <tr>\n",
       "      <th>0</th>\n",
       "      <td>0</td>\n",
       "      <td>1</td>\n",
       "      <td>1</td>\n",
       "      <td>0</td>\n",
       "      <td>0</td>\n",
       "      <td>0</td>\n",
       "      <td>0</td>\n",
       "      <td>0</td>\n",
       "      <td>0</td>\n",
       "      <td>0</td>\n",
       "      <td>1</td>\n",
       "    </tr>\n",
       "    <tr>\n",
       "      <th>1</th>\n",
       "      <td>0</td>\n",
       "      <td>1</td>\n",
       "      <td>1</td>\n",
       "      <td>1</td>\n",
       "      <td>0</td>\n",
       "      <td>0</td>\n",
       "      <td>1</td>\n",
       "      <td>0</td>\n",
       "      <td>0</td>\n",
       "      <td>0</td>\n",
       "      <td>1</td>\n",
       "    </tr>\n",
       "    <tr>\n",
       "      <th>2</th>\n",
       "      <td>1</td>\n",
       "      <td>1</td>\n",
       "      <td>1</td>\n",
       "      <td>1</td>\n",
       "      <td>0</td>\n",
       "      <td>1</td>\n",
       "      <td>1</td>\n",
       "      <td>0</td>\n",
       "      <td>1</td>\n",
       "      <td>1</td>\n",
       "      <td>1</td>\n",
       "    </tr>\n",
       "    <tr>\n",
       "      <th>3</th>\n",
       "      <td>0</td>\n",
       "      <td>1</td>\n",
       "      <td>1</td>\n",
       "      <td>0</td>\n",
       "      <td>0</td>\n",
       "      <td>0</td>\n",
       "      <td>0</td>\n",
       "      <td>0</td>\n",
       "      <td>0</td>\n",
       "      <td>0</td>\n",
       "      <td>1</td>\n",
       "    </tr>\n",
       "    <tr>\n",
       "      <th>4</th>\n",
       "      <td>1</td>\n",
       "      <td>1</td>\n",
       "      <td>1</td>\n",
       "      <td>1</td>\n",
       "      <td>1</td>\n",
       "      <td>1</td>\n",
       "      <td>1</td>\n",
       "      <td>1</td>\n",
       "      <td>1</td>\n",
       "      <td>1</td>\n",
       "      <td>1</td>\n",
       "    </tr>\n",
       "    <tr>\n",
       "      <th>...</th>\n",
       "      <td>...</td>\n",
       "      <td>...</td>\n",
       "      <td>...</td>\n",
       "      <td>...</td>\n",
       "      <td>...</td>\n",
       "      <td>...</td>\n",
       "      <td>...</td>\n",
       "      <td>...</td>\n",
       "      <td>...</td>\n",
       "      <td>...</td>\n",
       "      <td>...</td>\n",
       "    </tr>\n",
       "    <tr>\n",
       "      <th>2178</th>\n",
       "      <td>0</td>\n",
       "      <td>1</td>\n",
       "      <td>1</td>\n",
       "      <td>1</td>\n",
       "      <td>1</td>\n",
       "      <td>1</td>\n",
       "      <td>0</td>\n",
       "      <td>1</td>\n",
       "      <td>1</td>\n",
       "      <td>0</td>\n",
       "      <td>1</td>\n",
       "    </tr>\n",
       "    <tr>\n",
       "      <th>2179</th>\n",
       "      <td>1</td>\n",
       "      <td>1</td>\n",
       "      <td>1</td>\n",
       "      <td>0</td>\n",
       "      <td>1</td>\n",
       "      <td>1</td>\n",
       "      <td>1</td>\n",
       "      <td>1</td>\n",
       "      <td>0</td>\n",
       "      <td>1</td>\n",
       "      <td>1</td>\n",
       "    </tr>\n",
       "    <tr>\n",
       "      <th>2180</th>\n",
       "      <td>0</td>\n",
       "      <td>1</td>\n",
       "      <td>1</td>\n",
       "      <td>0</td>\n",
       "      <td>0</td>\n",
       "      <td>0</td>\n",
       "      <td>0</td>\n",
       "      <td>0</td>\n",
       "      <td>0</td>\n",
       "      <td>0</td>\n",
       "      <td>1</td>\n",
       "    </tr>\n",
       "    <tr>\n",
       "      <th>2181</th>\n",
       "      <td>1</td>\n",
       "      <td>1</td>\n",
       "      <td>1</td>\n",
       "      <td>0</td>\n",
       "      <td>1</td>\n",
       "      <td>1</td>\n",
       "      <td>1</td>\n",
       "      <td>1</td>\n",
       "      <td>0</td>\n",
       "      <td>0</td>\n",
       "      <td>1</td>\n",
       "    </tr>\n",
       "    <tr>\n",
       "      <th>2182</th>\n",
       "      <td>0</td>\n",
       "      <td>1</td>\n",
       "      <td>1</td>\n",
       "      <td>0</td>\n",
       "      <td>1</td>\n",
       "      <td>0</td>\n",
       "      <td>0</td>\n",
       "      <td>0</td>\n",
       "      <td>0</td>\n",
       "      <td>0</td>\n",
       "      <td>1</td>\n",
       "    </tr>\n",
       "  </tbody>\n",
       "</table>\n",
       "<p>2183 rows × 11 columns</p>\n",
       "</div>"
      ],
      "text/plain": [
       "      y  aomar  CEN-Amrita  CIC-IPN  CIMAT-GTO  CIMAT-MTY-GTO  DCCD-INFOTEC  \\\n",
       "0     0      1           1        0          0              0             0   \n",
       "1     0      1           1        1          0              0             1   \n",
       "2     1      1           1        1          0              1             1   \n",
       "3     0      1           1        0          0              0             0   \n",
       "4     1      1           1        1          1              1             1   \n",
       "...  ..    ...         ...      ...        ...            ...           ...   \n",
       "2178  0      1           1        1          1              1             0   \n",
       "2179  1      1           1        0          1              1             1   \n",
       "2180  0      1           1        0          0              0             0   \n",
       "2181  1      1           1        0          1              1             1   \n",
       "2182  0      1           1        0          1              0             0   \n",
       "\n",
       "      NLP-CIC  Timen  UMUTeam  xjywing  \n",
       "0           0      0        0        1  \n",
       "1           0      0        0        1  \n",
       "2           0      1        1        1  \n",
       "3           0      0        0        1  \n",
       "4           1      1        1        1  \n",
       "...       ...    ...      ...      ...  \n",
       "2178        1      1        0        1  \n",
       "2179        1      0        1        1  \n",
       "2180        0      0        0        1  \n",
       "2181        1      0        0        1  \n",
       "2182        0      0        0        1  \n",
       "\n",
       "[2183 rows x 11 columns]"
      ]
     },
     "execution_count": 48,
     "metadata": {},
     "output_type": "execute_result"
    }
   ],
   "source": [
    "df"
   ]
  },
  {
   "cell_type": "markdown",
   "metadata": {
    "id": "sqI3FxmCI_pM"
   },
   "source": [
    "# Performance Anaylisis"
   ]
  },
  {
   "cell_type": "markdown",
   "metadata": {
    "id": "JR1B0lg4K85m"
   },
   "source": [
    "Let us start with the performance analysis of the different systems. The performance metric used is the weighted average F1 score. This performance is coded in the variable `score` as observed in the next instruction."
   ]
  },
  {
   "cell_type": "code",
   "execution_count": 49,
   "metadata": {
    "id": "IXHA4HRkLA9q"
   },
   "outputs": [],
   "source": [
    "score = lambda y, hy: f1_score(y, hy, average='binary')"
   ]
  },
  {
   "cell_type": "markdown",
   "metadata": {
    "id": "xYCMtk-1LZtL"
   },
   "source": [
    "The next step is to compute the performance on the bootstrap samples; this is done with the function `performance`. The function has a few parameters; one is the `score`, which receives the metric used to measure the performance."
   ]
  },
  {
   "cell_type": "code",
   "execution_count": 50,
   "metadata": {
    "colab": {
     "base_uri": "https://localhost:8080/"
    },
    "id": "-96k0EbaLadL",
    "outputId": "cba38610-383b-402e-e8e2-f0fcdea5908e"
   },
   "outputs": [],
   "source": [
    "perf = performance(df, score=score,num_samples=10000)"
   ]
  },
  {
   "cell_type": "markdown",
   "metadata": {
    "id": "sEfBLwenQpND"
   },
   "source": [
    "`perf` is an instance of `StatisticSamples`, the bootstrap samples can be seen on the property `calls`. The first five bootstrap samples of the performance of INGEOTEC are shown below. -- It verifies that the key is in the dictionary in case the dataset has been changed. --"
   ]
  },
  {
   "cell_type": "code",
   "execution_count": 51,
   "metadata": {
    "colab": {
     "base_uri": "https://localhost:8080/"
    },
    "id": "IrbRfFuCQsGf",
    "outputId": "995bf6f7-02d8-4526-de25-4e56151d7f3b"
   },
   "outputs": [
    {
     "name": "stdout",
     "output_type": "stream",
     "text": [
      "[0.68016878 0.69073011 0.68639053 0.67521368 0.6984127 ]\n"
     ]
    }
   ],
   "source": [
    "if 'DCCD-INFOTEC' in perf.calls:\n",
    "  print(f\"{perf.calls['DCCD-INFOTEC'][:5]}\")"
   ]
  },
  {
   "cell_type": "markdown",
   "metadata": {
    "id": "SaUGXqEVJE6A"
   },
   "source": [
    "The performance of the systems, along with their confidence intervals, can be seen using the next instruction."
   ]
  },
  {
   "cell_type": "code",
   "execution_count": 52,
   "metadata": {
    "colab": {
     "base_uri": "https://localhost:8080/",
     "height": 506
    },
    "id": "djiadR9dkMts",
    "outputId": "fbd0675c-0933-4d6e-e142-633394526b61"
   },
   "outputs": [
    {
     "data": {
      "image/png": "[encoded data removed]",
      "text/plain": [
       "<Figure size 511.111x500 with 1 Axes>"
      ]
     },
     "metadata": {},
     "output_type": "display_data"
    }
   ],
   "source": [
    "face_grid = plot_performance(perf)"
   ]
  },
  {
   "cell_type": "markdown",
   "metadata": {
    "id": "eBmUNHXWR2pL"
   },
   "source": [
    "It can be observed that the best system is INGEOTEC. Although the confidence intervals provide information that helps to assess the difference in the performance of the systems, in this case, the intervals intersect. Therefore, one needs another statistical tool to determine if the difference in performance is significant."
   ]
  },
  {
   "cell_type": "markdown",
   "metadata": {
    "id": "hJ1gAxzkkMts"
   },
   "source": [
    "# Performance Comparison against the Winner"
   ]
  },
  {
   "cell_type": "markdown",
   "metadata": {
    "id": "peFwDTsNdRiz"
   },
   "source": [
    "The difference in their performance compared to the best-performing system can be used to compare the algorithms analyzed. The function `difference` computes the difference as shown below."
   ]
  },
  {
   "cell_type": "code",
   "execution_count": 53,
   "metadata": {
    "id": "0FXWINpdkMtt"
   },
   "outputs": [],
   "source": [
    "diff = difference(perf)"
   ]
  },
  {
   "cell_type": "markdown",
   "metadata": {
    "id": "2p_ppDE9dV0F"
   },
   "source": [
    "`diff` is an instance of `StatisticSamples`; one can find the best system on the property `info`, as the following instruction shows."
   ]
  },
  {
   "cell_type": "code",
   "execution_count": 54,
   "metadata": {
    "colab": {
     "base_uri": "https://localhost:8080/"
    },
    "id": "7oz3wbr6dr_m",
    "outputId": "a4b5e252-dcbe-4345-c5e5-e84acd3edce7"
   },
   "outputs": [
    {
     "data": {
      "text/plain": [
       "{'best': 'NLP-CIC'}"
      ]
     },
     "execution_count": 54,
     "metadata": {},
     "output_type": "execute_result"
    }
   ],
   "source": [
    "diff.info"
   ]
  },
  {
   "cell_type": "markdown",
   "metadata": {
    "id": "iD_jAdwmd5QZ"
   },
   "source": [
    "The difference in performance can be visualized with the following instruction."
   ]
  },
  {
   "cell_type": "code",
   "execution_count": 55,
   "metadata": {
    "colab": {
     "base_uri": "https://localhost:8080/",
     "height": 529
    },
    "id": "obO7DOUWdW52",
    "outputId": "38b7de59-4aea-43b7-d3dc-eae94c6f19d6"
   },
   "outputs": [
    {
     "data": {
      "image/png": "[encoded data removed]",
      "text/plain": [
       "<Figure size 584.875x500 with 1 Axes>"
      ]
     },
     "metadata": {},
     "output_type": "display_data"
    }
   ],
   "source": [
    "face_grid_diff = plot_difference(diff)"
   ]
  },
  {
   "cell_type": "markdown",
   "metadata": {
    "id": "aHlFz543kMtt"
   },
   "source": [
    "From the performance graphs, for this example, we can observe that the ranking is *INGEOTEC*, *BoW*, *StackBoW*, *BoW (Corpus)*, *Dense*, *Bow (Class Weight)*. Hence, in the last graph, we analyze the performance difference against the winner (INGEOTEC). From this graph, we can conclude that *BoW* and *StackBoW*, might perform similarly to INGEOTEC.\n",
    "\n",
    "Should we test the hypothesis of equality versus difference, considering that one system outperforms the other in the test? To address this question, we compare the performance of two systems, $A$ and $B$, to determine whether $A$ is superior to $B$ in a larger data population, represented as $\\theta_A > \\theta_B$. We can estimate the p-value associated with the hypothesis test $H_0: \\theta_A \\le \\theta_B$ vs $H_1: \\theta_A > \\theta_B$ given the data, equivalently $H_0: \\theta_A< -  \\theta_B\\le 0$ vs $H_1: \\theta_A - \\theta_B > 0$. The p-values for these differences can be estimated using the following instruction, comparing them against the winner (INGEOTEC) to determine the probability that $a$ (INGEOTEC) is better than $b$.\n",
    "\n",
    "The `difference_p_value` function estimates the p-value for each difference in comparison to the best system, as illustrated below.\n"
   ]
  },
  {
   "cell_type": "code",
   "execution_count": 56,
   "metadata": {
    "id": "83DAxZ18kMtt"
   },
   "outputs": [],
   "source": [
    "p_values = difference_p_value(diff)"
   ]
  },
  {
   "cell_type": "markdown",
   "metadata": {
    "id": "WEEPzr4l2BMn"
   },
   "source": [
    "For a given $\\alpha$ level, p-values smaller than $\\alpha$  are significant, meaning the observed difference is unlikely to be due to chance. An $\\alpha$ level of 0.05 is commonly used."
   ]
  },
  {
   "cell_type": "code",
   "execution_count": 57,
   "metadata": {
    "colab": {
     "base_uri": "https://localhost:8080/"
    },
    "id": "p2VtUMvS0Z4k",
    "outputId": "6a3cf917-98da-46ed-a103-4faf13725e53"
   },
   "outputs": [
    {
     "data": {
      "text/plain": [
       "{'CEN-Amrita': np.float64(0.0),\n",
       " 'aomar': np.float64(0.0),\n",
       " 'xjywing': np.float64(0.0),\n",
       " 'CIC-IPN': np.float64(0.0),\n",
       " 'Timen': np.float64(0.0),\n",
       " 'UMUTeam': np.float64(0.0018),\n",
       " 'CIMAT-GTO': np.float64(0.0043),\n",
       " 'DCCD-INFOTEC': np.float64(0.0298),\n",
       " 'CIMAT-MTY-GTO': np.float64(0.162)}"
      ]
     },
     "execution_count": 57,
     "metadata": {},
     "output_type": "execute_result"
    }
   ],
   "source": [
    "p_values"
   ]
  },
  {
   "cell_type": "code",
   "execution_count": 58,
   "metadata": {},
   "outputs": [
    {
     "data": {
      "text/plain": [
       "{'CEN-Amrita': np.float64(0.0),\n",
       " 'aomar': np.float64(0.0),\n",
       " 'xjywing': np.float64(0.0),\n",
       " 'CIC-IPN': np.float64(0.0),\n",
       " 'Timen': np.float64(0.0),\n",
       " 'UMUTeam': np.float64(0.0162),\n",
       " 'CIMAT-GTO': np.float64(0.0387),\n",
       " 'DCCD-INFOTEC': np.float64(0.2682),\n",
       " 'CIMAT-MTY-GTO': np.float64(1.0)}"
      ]
     },
     "execution_count": 58,
     "metadata": {},
     "output_type": "execute_result"
    }
   ],
   "source": [
    "result = multipletests(list(p_values.values()), method='bonferroni')\n",
    "p_valuesC = dict(zip(p_values.keys(),result[1]))\n",
    "p_valuesC"
   ]
  },
  {
   "cell_type": "markdown",
   "metadata": {
    "id": "rt21qMcDkMtu"
   },
   "source": [
    "# Performance comparison between all models\n",
    "\n",
    "Similarly, the differences for each pair of variables between all models can be estimated using the function `all_differences`, as illustrated in the following instructions. This approach allows for a comprehensive analysis of how each model compares to the others, providing a statistical basis to understand the significance of performance variations among them. This method extends the comparative analysis, offering a detailed view of the competitive landscape of model performance."
   ]
  },
  {
   "cell_type": "code",
   "execution_count": 59,
   "metadata": {
    "id": "6ehkDIH_kMtu"
   },
   "outputs": [],
   "source": [
    "all_diff = all_differences(perf)\n"
   ]
  },
  {
   "cell_type": "code",
   "execution_count": 60,
   "metadata": {},
   "outputs": [
    {
     "data": {
      "text/plain": [
       "{'NLP-CIC - CIMAT-MTY-GTO': array([0.02711943, 0.02460741, 0.00567419, ..., 0.03485328, 0.02348728,\n",
       "        0.0245068 ]),\n",
       " 'NLP-CIC - DCCD-INFOTEC': array([0.0553476 , 0.02913689, 0.02355195, ..., 0.05243289, 0.05844883,\n",
       "        0.03556182]),\n",
       " 'NLP-CIC - CIMAT-GTO': array([0.03193886, 0.03661658, 0.02568716, ..., 0.0555475 , 0.04815133,\n",
       "        0.06976936]),\n",
       " 'NLP-CIC - UMUTeam': array([0.04770335, 0.06203767, 0.03369565, ..., 0.06216436, 0.05100779,\n",
       "        0.06270989]),\n",
       " 'NLP-CIC - Timen': array([0.11819089, 0.06627223, 0.10729347, ..., 0.13737969, 0.11377759,\n",
       "        0.13234425]),\n",
       " 'NLP-CIC - CIC-IPN': array([0.1124749 , 0.10870668, 0.09512767, ..., 0.13824591, 0.13369815,\n",
       "        0.15141663]),\n",
       " 'NLP-CIC - xjywing': array([0.23666264, 0.207984  , 0.21548777, ..., 0.2424946 , 0.22437087,\n",
       "        0.22470935]),\n",
       " 'NLP-CIC - aomar': array([0.26712813, 0.223867  , 0.23095468, ..., 0.27046206, 0.24357077,\n",
       "        0.24617867]),\n",
       " 'NLP-CIC - CEN-Amrita': array([0.26354985, 0.22763684, 0.24035507, ..., 0.27320934, 0.24927965,\n",
       "        0.25174725]),\n",
       " 'CIMAT-MTY-GTO - DCCD-INFOTEC': array([0.02822817, 0.00452949, 0.01787776, ..., 0.01757961, 0.03496155,\n",
       "        0.01105502]),\n",
       " 'CIMAT-MTY-GTO - CIMAT-GTO': array([0.00481943, 0.01200918, 0.02001297, ..., 0.02069422, 0.02466405,\n",
       "        0.04526256]),\n",
       " 'CIMAT-MTY-GTO - UMUTeam': array([0.02058392, 0.03743026, 0.02802146, ..., 0.02731108, 0.02752051,\n",
       "        0.03820309]),\n",
       " 'CIMAT-MTY-GTO - Timen': array([0.09107146, 0.04166482, 0.10161929, ..., 0.10252641, 0.09029031,\n",
       "        0.10783745]),\n",
       " 'CIMAT-MTY-GTO - CIC-IPN': array([0.08535547, 0.08409927, 0.08945348, ..., 0.10339263, 0.11021087,\n",
       "        0.12690983]),\n",
       " 'CIMAT-MTY-GTO - xjywing': array([0.20954321, 0.1833766 , 0.20981358, ..., 0.20764132, 0.20088359,\n",
       "        0.20020255]),\n",
       " 'CIMAT-MTY-GTO - aomar': array([0.2400087 , 0.19925959, 0.22528049, ..., 0.23560878, 0.22008349,\n",
       "        0.22167187]),\n",
       " 'CIMAT-MTY-GTO - CEN-Amrita': array([0.23643042, 0.20302944, 0.23468088, ..., 0.23835606, 0.22579237,\n",
       "        0.22724045]),\n",
       " 'DCCD-INFOTEC - CIMAT-GTO': array([-0.02340874,  0.00747969,  0.00213521, ...,  0.00311462,\n",
       "        -0.01029749,  0.03420754]),\n",
       " 'DCCD-INFOTEC - UMUTeam': array([-0.00764425,  0.03290078,  0.0101437 , ...,  0.00973147,\n",
       "        -0.00744104,  0.02714807]),\n",
       " 'DCCD-INFOTEC - Timen': array([0.06284329, 0.03713534, 0.08374153, ..., 0.08494681, 0.05532876,\n",
       "        0.09678243]),\n",
       " 'DCCD-INFOTEC - CIC-IPN': array([0.0571273 , 0.07956979, 0.07157572, ..., 0.08581303, 0.07524932,\n",
       "        0.11585481]),\n",
       " 'DCCD-INFOTEC - xjywing': array([0.18131504, 0.17884711, 0.19193582, ..., 0.19006171, 0.16592205,\n",
       "        0.18914753]),\n",
       " 'DCCD-INFOTEC - aomar': array([0.21178053, 0.19473011, 0.20740273, ..., 0.21802917, 0.18512195,\n",
       "        0.21061685]),\n",
       " 'DCCD-INFOTEC - CEN-Amrita': array([0.20820225, 0.19849995, 0.21680312, ..., 0.22077645, 0.19083082,\n",
       "        0.21618543]),\n",
       " 'CIMAT-GTO - UMUTeam': array([ 0.01576449,  0.02542109,  0.00800849, ...,  0.00661686,\n",
       "         0.00285646, -0.00705947]),\n",
       " 'CIMAT-GTO - Timen': array([0.08625203, 0.02965564, 0.08160631, ..., 0.08183219, 0.06562625,\n",
       "        0.06257489]),\n",
       " 'CIMAT-GTO - CIC-IPN': array([0.08053604, 0.0720901 , 0.0694405 , ..., 0.08269841, 0.08554681,\n",
       "        0.08164727]),\n",
       " 'CIMAT-GTO - xjywing': array([0.20472378, 0.17136742, 0.18980061, ..., 0.1869471 , 0.17621954,\n",
       "        0.15493999]),\n",
       " 'CIMAT-GTO - aomar': array([0.23518927, 0.18725041, 0.20526752, ..., 0.21491455, 0.19541944,\n",
       "        0.17640931]),\n",
       " 'CIMAT-GTO - CEN-Amrita': array([0.23161099, 0.19102026, 0.21466791, ..., 0.21766183, 0.20112831,\n",
       "        0.18197789]),\n",
       " 'UMUTeam - Timen': array([0.07048754, 0.00423456, 0.07359782, ..., 0.07521533, 0.06276979,\n",
       "        0.06963436]),\n",
       " 'UMUTeam - CIC-IPN': array([0.06477155, 0.04666901, 0.06143202, ..., 0.07608155, 0.08269035,\n",
       "        0.08870674]),\n",
       " 'UMUTeam - xjywing': array([0.18895928, 0.14594633, 0.18179212, ..., 0.18033024, 0.17336308,\n",
       "        0.16199946]),\n",
       " 'UMUTeam - aomar': array([0.21942478, 0.16182933, 0.19725903, ..., 0.2082977 , 0.19256298,\n",
       "        0.18346878]),\n",
       " 'UMUTeam - CEN-Amrita': array([0.21584649, 0.16559917, 0.20665942, ..., 0.21104498, 0.19827185,\n",
       "        0.18903736]),\n",
       " 'Timen - CIC-IPN': array([-0.00571599,  0.04243445, -0.01216581, ...,  0.00086622,\n",
       "         0.01992056,  0.01907238]),\n",
       " 'Timen - xjywing': array([0.11847175, 0.14171177, 0.10819429, ..., 0.10511491, 0.11059329,\n",
       "        0.0923651 ]),\n",
       " 'Timen - aomar': array([0.14893724, 0.15759477, 0.12366121, ..., 0.13308236, 0.12979319,\n",
       "        0.11383442]),\n",
       " 'Timen - CEN-Amrita': array([0.14535896, 0.16136462, 0.1330616 , ..., 0.13582964, 0.13550206,\n",
       "        0.119403  ]),\n",
       " 'CIC-IPN - xjywing': array([0.12418774, 0.09927732, 0.1203601 , ..., 0.10424869, 0.09067273,\n",
       "        0.07329272]),\n",
       " 'CIC-IPN - aomar': array([0.15465323, 0.11516032, 0.13582702, ..., 0.13221615, 0.10987263,\n",
       "        0.09476204]),\n",
       " 'CIC-IPN - CEN-Amrita': array([0.15107495, 0.11893016, 0.14522741, ..., 0.13496342, 0.1155815 ,\n",
       "        0.10033062]),\n",
       " 'xjywing - aomar': array([0.03046549, 0.015883  , 0.01546691, ..., 0.02796746, 0.0191999 ,\n",
       "        0.02146932]),\n",
       " 'xjywing - CEN-Amrita': array([0.02688721, 0.01965284, 0.0248673 , ..., 0.03071474, 0.02490877,\n",
       "        0.0270379 ]),\n",
       " 'aomar - CEN-Amrita': array([-0.00357828,  0.00376984,  0.00940039, ...,  0.00274728,\n",
       "         0.00570887,  0.00556858])}"
      ]
     },
     "execution_count": 60,
     "metadata": {},
     "output_type": "execute_result"
    }
   ],
   "source": [
    "all_diff.calls"
   ]
  },
  {
   "cell_type": "code",
   "execution_count": 61,
   "metadata": {},
   "outputs": [
    {
     "data": {
      "text/plain": [
       "{'NLP-CIC - CIMAT-MTY-GTO': np.float64(0.012697699123587335),\n",
       " 'NLP-CIC - DCCD-INFOTEC': np.float64(0.030773327049707224),\n",
       " 'NLP-CIC - CIMAT-GTO': np.float64(0.036285837516666274),\n",
       " 'NLP-CIC - UMUTeam': np.float64(0.04497987532304316),\n",
       " 'NLP-CIC - Timen': np.float64(0.11166756086498968),\n",
       " 'NLP-CIC - CIC-IPN': np.float64(0.11373645174760391),\n",
       " 'NLP-CIC - xjywing': np.float64(0.22187266916373918),\n",
       " 'NLP-CIC - aomar': np.float64(0.24265908272742337),\n",
       " 'NLP-CIC - CEN-Amrita': np.float64(0.24709647829198234),\n",
       " 'CIMAT-MTY-GTO - DCCD-INFOTEC': np.float64(0.018075627926119806),\n",
       " 'CIMAT-MTY-GTO - CIMAT-GTO': np.float64(0.02358813839307899),\n",
       " 'CIMAT-MTY-GTO - UMUTeam': np.float64(0.032282176199455885),\n",
       " 'CIMAT-MTY-GTO - Timen': np.float64(0.09896986174140221),\n",
       " 'CIMAT-MTY-GTO - CIC-IPN': np.float64(0.101038752624016),\n",
       " 'CIMAT-MTY-GTO - xjywing': np.float64(0.20917497004015254),\n",
       " 'CIMAT-MTY-GTO - aomar': np.float64(0.2299613836038363),\n",
       " 'CIMAT-MTY-GTO - CEN-Amrita': np.float64(0.23439877916839627),\n",
       " 'DCCD-INFOTEC - CIMAT-GTO': np.float64(0.005512510466959152),\n",
       " 'DCCD-INFOTEC - UMUTeam': np.float64(0.014206548273336016),\n",
       " 'DCCD-INFOTEC - Timen': np.float64(0.08089423381528267),\n",
       " 'DCCD-INFOTEC - CIC-IPN': np.float64(0.08296312469789639),\n",
       " 'DCCD-INFOTEC - xjywing': np.float64(0.19109934211403273),\n",
       " 'DCCD-INFOTEC - aomar': np.float64(0.21188575567771645),\n",
       " 'DCCD-INFOTEC - CEN-Amrita': np.float64(0.21632315124227539),\n",
       " 'CIMAT-GTO - UMUTeam': np.float64(0.008694037806376924),\n",
       " 'CIMAT-GTO - Timen': np.float64(0.07538172334832324),\n",
       " 'CIMAT-GTO - CIC-IPN': np.float64(0.07745061423093734),\n",
       " 'CIMAT-GTO - xjywing': np.float64(0.18558683164707324),\n",
       " 'CIMAT-GTO - aomar': np.float64(0.2063732452107574),\n",
       " 'CIMAT-GTO - CEN-Amrita': np.float64(0.21081064077531678),\n",
       " 'UMUTeam - Timen': np.float64(0.06668768554194615),\n",
       " 'UMUTeam - CIC-IPN': np.float64(0.06875657642456041),\n",
       " 'UMUTeam - xjywing': np.float64(0.1768927938406965),\n",
       " 'UMUTeam - aomar': np.float64(0.19767920740438058),\n",
       " 'UMUTeam - CEN-Amrita': np.float64(0.20211660296894007),\n",
       " 'Timen - CIC-IPN': np.float64(0.0020688908826140035),\n",
       " 'Timen - xjywing': np.float64(0.11020510829874999),\n",
       " 'Timen - aomar': np.float64(0.13099152186243368),\n",
       " 'Timen - CEN-Amrita': np.float64(0.13542891742699395),\n",
       " 'CIC-IPN - xjywing': np.float64(0.10813621741613645),\n",
       " 'CIC-IPN - aomar': np.float64(0.1289226309798191),\n",
       " 'CIC-IPN - CEN-Amrita': np.float64(0.13336002654437917),\n",
       " 'xjywing - aomar': np.float64(0.020786413563683315),\n",
       " 'xjywing - CEN-Amrita': np.float64(0.025223809128243388),\n",
       " 'aomar - CEN-Amrita': np.float64(0.004437395564560078)}"
      ]
     },
     "execution_count": 61,
     "metadata": {},
     "output_type": "execute_result"
    }
   ],
   "source": [
    "promedios = {key: sum(value) / len(value) for key, value in all_diff.calls.items()}\n",
    "promedios"
   ]
  },
  {
   "cell_type": "markdown",
   "metadata": {
    "id": "CC2hR4w_4IzC"
   },
   "source": [
    "Once again, we use the function `difference_p_value` to estimate the p-value."
   ]
  },
  {
   "cell_type": "code",
   "execution_count": 62,
   "metadata": {
    "id": "x2vlIMNc3h5W"
   },
   "outputs": [],
   "source": [
    "p_values = difference_p_value(all_diff)"
   ]
  },
  {
   "cell_type": "markdown",
   "metadata": {
    "id": "192xc-_24chZ"
   },
   "source": [
    "And we can analyze from all pairs of systems individually which ones have significantly different performances by comparing their p-value with $\\alpha$."
   ]
  },
  {
   "cell_type": "code",
   "execution_count": 63,
   "metadata": {
    "colab": {
     "base_uri": "https://localhost:8080/"
    },
    "id": "l5hRhylS3jh2",
    "outputId": "b06cbf00-2d24-4714-e749-6210b2d96001"
   },
   "outputs": [
    {
     "data": {
      "text/plain": [
       "{'NLP-CIC - CIMAT-MTY-GTO': np.float64(0.162),\n",
       " 'NLP-CIC - DCCD-INFOTEC': np.float64(0.0298),\n",
       " 'NLP-CIC - CIMAT-GTO': np.float64(0.0043),\n",
       " 'NLP-CIC - UMUTeam': np.float64(0.0018),\n",
       " 'NLP-CIC - Timen': np.float64(0.0),\n",
       " 'NLP-CIC - CIC-IPN': np.float64(0.0),\n",
       " 'NLP-CIC - xjywing': np.float64(0.0),\n",
       " 'NLP-CIC - aomar': np.float64(0.0),\n",
       " 'NLP-CIC - CEN-Amrita': np.float64(0.0),\n",
       " 'CIMAT-MTY-GTO - DCCD-INFOTEC': np.float64(0.1065),\n",
       " 'CIMAT-MTY-GTO - CIMAT-GTO': np.float64(0.0146),\n",
       " 'CIMAT-MTY-GTO - UMUTeam': np.float64(0.0058),\n",
       " 'CIMAT-MTY-GTO - Timen': np.float64(0.0),\n",
       " 'CIMAT-MTY-GTO - CIC-IPN': np.float64(0.0),\n",
       " 'CIMAT-MTY-GTO - xjywing': np.float64(0.0),\n",
       " 'CIMAT-MTY-GTO - aomar': np.float64(0.0),\n",
       " 'CIMAT-MTY-GTO - CEN-Amrita': np.float64(0.0),\n",
       " 'DCCD-INFOTEC - CIMAT-GTO': np.float64(0.3566),\n",
       " 'DCCD-INFOTEC - UMUTeam': np.float64(0.1727),\n",
       " 'DCCD-INFOTEC - Timen': np.float64(0.0),\n",
       " 'DCCD-INFOTEC - CIC-IPN': np.float64(0.0),\n",
       " 'DCCD-INFOTEC - xjywing': np.float64(0.0),\n",
       " 'DCCD-INFOTEC - aomar': np.float64(0.0),\n",
       " 'DCCD-INFOTEC - CEN-Amrita': np.float64(0.0),\n",
       " 'CIMAT-GTO - UMUTeam': np.float64(0.238),\n",
       " 'CIMAT-GTO - Timen': np.float64(0.0),\n",
       " 'CIMAT-GTO - CIC-IPN': np.float64(0.0),\n",
       " 'CIMAT-GTO - xjywing': np.float64(0.0),\n",
       " 'CIMAT-GTO - aomar': np.float64(0.0),\n",
       " 'CIMAT-GTO - CEN-Amrita': np.float64(0.0),\n",
       " 'UMUTeam - Timen': np.float64(0.0002),\n",
       " 'UMUTeam - CIC-IPN': np.float64(0.0),\n",
       " 'UMUTeam - xjywing': np.float64(0.0),\n",
       " 'UMUTeam - aomar': np.float64(0.0),\n",
       " 'UMUTeam - CEN-Amrita': np.float64(0.0),\n",
       " 'Timen - CIC-IPN': np.float64(0.4514),\n",
       " 'Timen - xjywing': np.float64(0.0),\n",
       " 'Timen - aomar': np.float64(0.0),\n",
       " 'Timen - CEN-Amrita': np.float64(0.0),\n",
       " 'CIC-IPN - xjywing': np.float64(0.0),\n",
       " 'CIC-IPN - aomar': np.float64(0.0),\n",
       " 'CIC-IPN - CEN-Amrita': np.float64(0.0),\n",
       " 'xjywing - aomar': np.float64(0.0001),\n",
       " 'xjywing - CEN-Amrita': np.float64(0.0),\n",
       " 'aomar - CEN-Amrita': np.float64(0.1983)}"
      ]
     },
     "execution_count": 63,
     "metadata": {},
     "output_type": "execute_result"
    }
   ],
   "source": [
    "p_values"
   ]
  },
  {
   "cell_type": "code",
   "execution_count": 64,
   "metadata": {},
   "outputs": [
    {
     "data": {
      "text/plain": [
       "{'NLP-CIC - CIMAT-MTY-GTO': np.float64(0.162),\n",
       " 'NLP-CIC - DCCD-INFOTEC': np.float64(0.03),\n",
       " 'NLP-CIC - CIMAT-GTO': np.float64(0.004),\n",
       " 'NLP-CIC - UMUTeam': np.float64(0.002),\n",
       " 'NLP-CIC - Timen': np.float64(0.0),\n",
       " 'NLP-CIC - CIC-IPN': np.float64(0.0),\n",
       " 'NLP-CIC - xjywing': np.float64(0.0),\n",
       " 'NLP-CIC - aomar': np.float64(0.0),\n",
       " 'NLP-CIC - CEN-Amrita': np.float64(0.0),\n",
       " 'CIMAT-MTY-GTO - DCCD-INFOTEC': np.float64(0.106),\n",
       " 'CIMAT-MTY-GTO - CIMAT-GTO': np.float64(0.015),\n",
       " 'CIMAT-MTY-GTO - UMUTeam': np.float64(0.006),\n",
       " 'CIMAT-MTY-GTO - Timen': np.float64(0.0),\n",
       " 'CIMAT-MTY-GTO - CIC-IPN': np.float64(0.0),\n",
       " 'CIMAT-MTY-GTO - xjywing': np.float64(0.0),\n",
       " 'CIMAT-MTY-GTO - aomar': np.float64(0.0),\n",
       " 'CIMAT-MTY-GTO - CEN-Amrita': np.float64(0.0),\n",
       " 'DCCD-INFOTEC - CIMAT-GTO': np.float64(0.357),\n",
       " 'DCCD-INFOTEC - UMUTeam': np.float64(0.173),\n",
       " 'DCCD-INFOTEC - Timen': np.float64(0.0),\n",
       " 'DCCD-INFOTEC - CIC-IPN': np.float64(0.0),\n",
       " 'DCCD-INFOTEC - xjywing': np.float64(0.0),\n",
       " 'DCCD-INFOTEC - aomar': np.float64(0.0),\n",
       " 'DCCD-INFOTEC - CEN-Amrita': np.float64(0.0),\n",
       " 'CIMAT-GTO - UMUTeam': np.float64(0.238),\n",
       " 'CIMAT-GTO - Timen': np.float64(0.0),\n",
       " 'CIMAT-GTO - CIC-IPN': np.float64(0.0),\n",
       " 'CIMAT-GTO - xjywing': np.float64(0.0),\n",
       " 'CIMAT-GTO - aomar': np.float64(0.0),\n",
       " 'CIMAT-GTO - CEN-Amrita': np.float64(0.0),\n",
       " 'UMUTeam - Timen': np.float64(0.0),\n",
       " 'UMUTeam - CIC-IPN': np.float64(0.0),\n",
       " 'UMUTeam - xjywing': np.float64(0.0),\n",
       " 'UMUTeam - aomar': np.float64(0.0),\n",
       " 'UMUTeam - CEN-Amrita': np.float64(0.0),\n",
       " 'Timen - CIC-IPN': np.float64(0.451),\n",
       " 'Timen - xjywing': np.float64(0.0),\n",
       " 'Timen - aomar': np.float64(0.0),\n",
       " 'Timen - CEN-Amrita': np.float64(0.0),\n",
       " 'CIC-IPN - xjywing': np.float64(0.0),\n",
       " 'CIC-IPN - aomar': np.float64(0.0),\n",
       " 'CIC-IPN - CEN-Amrita': np.float64(0.0),\n",
       " 'xjywing - aomar': np.float64(0.0),\n",
       " 'xjywing - CEN-Amrita': np.float64(0.0),\n",
       " 'aomar - CEN-Amrita': np.float64(0.198)}"
      ]
     },
     "execution_count": 64,
     "metadata": {},
     "output_type": "execute_result"
    }
   ],
   "source": [
    "{k: round(v, 3) for k, v in p_values.items()}\n"
   ]
  },
  {
   "cell_type": "markdown",
   "metadata": {
    "id": "NS3RHI9SkMtu"
   },
   "source": [
    "When conducting numerous comparisons or hypothesis tests on a dataset, the risk of incurring Type I errors (incorrectly dismissing a valid null hypothesis) increases. This happens because more tests performed increase the probability of randomly identifying statistically significant outcomes. Implementing adjustments for multiple comparisons is critical for several reasons: (1) To manage the risk of Type I Error, (2) To prevent erroneous conclusions, and (3) To uphold the integrity of the research.\n",
    "\n",
    "The following code illustrates the effect of these methods for multiple comparison corrections. The function `multipletests` makes the p-value correction by selecting the parameter `method`. In this example, the Bonferroni correction method is used."
   ]
  },
  {
   "cell_type": "code",
   "execution_count": 65,
   "metadata": {
    "id": "V1J_cqfdkMtu"
   },
   "outputs": [],
   "source": [
    "result = multipletests(list(p_values.values()), method='bonferroni')"
   ]
  },
  {
   "cell_type": "markdown",
   "metadata": {
    "id": "e2myRaBo6mPf"
   },
   "source": [
    "`result` is an array; next, we convert it back into a dictionary."
   ]
  },
  {
   "cell_type": "code",
   "execution_count": 66,
   "metadata": {
    "id": "MSaGBndz6G6t"
   },
   "outputs": [],
   "source": [
    "p_valuesC = dict(zip(p_values.keys(),result[1]))"
   ]
  },
  {
   "cell_type": "markdown",
   "metadata": {
    "id": "FY-9W45Q7nId"
   },
   "source": [
    "And we can analyze from all pairs of systems simunstally which ones have significantly different performances by comparing their p-value with $\\alpha$."
   ]
  },
  {
   "cell_type": "code",
   "execution_count": 67,
   "metadata": {
    "colab": {
     "base_uri": "https://localhost:8080/"
    },
    "id": "SKiKx3GU6IlN",
    "outputId": "94dd212d-dcae-4ec3-92f0-7397f5bd91a7"
   },
   "outputs": [
    {
     "data": {
      "text/plain": [
       "{'NLP-CIC - CIMAT-MTY-GTO': np.float64(1.0),\n",
       " 'NLP-CIC - DCCD-INFOTEC': np.float64(1.0),\n",
       " 'NLP-CIC - CIMAT-GTO': np.float64(0.1935),\n",
       " 'NLP-CIC - UMUTeam': np.float64(0.081),\n",
       " 'NLP-CIC - Timen': np.float64(0.0),\n",
       " 'NLP-CIC - CIC-IPN': np.float64(0.0),\n",
       " 'NLP-CIC - xjywing': np.float64(0.0),\n",
       " 'NLP-CIC - aomar': np.float64(0.0),\n",
       " 'NLP-CIC - CEN-Amrita': np.float64(0.0),\n",
       " 'CIMAT-MTY-GTO - DCCD-INFOTEC': np.float64(1.0),\n",
       " 'CIMAT-MTY-GTO - CIMAT-GTO': np.float64(0.657),\n",
       " 'CIMAT-MTY-GTO - UMUTeam': np.float64(0.261),\n",
       " 'CIMAT-MTY-GTO - Timen': np.float64(0.0),\n",
       " 'CIMAT-MTY-GTO - CIC-IPN': np.float64(0.0),\n",
       " 'CIMAT-MTY-GTO - xjywing': np.float64(0.0),\n",
       " 'CIMAT-MTY-GTO - aomar': np.float64(0.0),\n",
       " 'CIMAT-MTY-GTO - CEN-Amrita': np.float64(0.0),\n",
       " 'DCCD-INFOTEC - CIMAT-GTO': np.float64(1.0),\n",
       " 'DCCD-INFOTEC - UMUTeam': np.float64(1.0),\n",
       " 'DCCD-INFOTEC - Timen': np.float64(0.0),\n",
       " 'DCCD-INFOTEC - CIC-IPN': np.float64(0.0),\n",
       " 'DCCD-INFOTEC - xjywing': np.float64(0.0),\n",
       " 'DCCD-INFOTEC - aomar': np.float64(0.0),\n",
       " 'DCCD-INFOTEC - CEN-Amrita': np.float64(0.0),\n",
       " 'CIMAT-GTO - UMUTeam': np.float64(1.0),\n",
       " 'CIMAT-GTO - Timen': np.float64(0.0),\n",
       " 'CIMAT-GTO - CIC-IPN': np.float64(0.0),\n",
       " 'CIMAT-GTO - xjywing': np.float64(0.0),\n",
       " 'CIMAT-GTO - aomar': np.float64(0.0),\n",
       " 'CIMAT-GTO - CEN-Amrita': np.float64(0.0),\n",
       " 'UMUTeam - Timen': np.float64(0.009000000000000001),\n",
       " 'UMUTeam - CIC-IPN': np.float64(0.0),\n",
       " 'UMUTeam - xjywing': np.float64(0.0),\n",
       " 'UMUTeam - aomar': np.float64(0.0),\n",
       " 'UMUTeam - CEN-Amrita': np.float64(0.0),\n",
       " 'Timen - CIC-IPN': np.float64(1.0),\n",
       " 'Timen - xjywing': np.float64(0.0),\n",
       " 'Timen - aomar': np.float64(0.0),\n",
       " 'Timen - CEN-Amrita': np.float64(0.0),\n",
       " 'CIC-IPN - xjywing': np.float64(0.0),\n",
       " 'CIC-IPN - aomar': np.float64(0.0),\n",
       " 'CIC-IPN - CEN-Amrita': np.float64(0.0),\n",
       " 'xjywing - aomar': np.float64(0.0045000000000000005),\n",
       " 'xjywing - CEN-Amrita': np.float64(0.0),\n",
       " 'aomar - CEN-Amrita': np.float64(1.0)}"
      ]
     },
     "execution_count": 67,
     "metadata": {},
     "output_type": "execute_result"
    }
   ],
   "source": [
    "p_valuesC"
   ]
  },
  {
   "cell_type": "code",
   "execution_count": 86,
   "metadata": {},
   "outputs": [
    {
     "name": "stdout",
     "output_type": "stream",
     "text": [
      "        bonferroni    holm    fdr_bh\n",
      "0.1620      1.0000  0.9720  0.182250\n",
      "0.0298      1.0000  0.2384  0.035289\n",
      "0.0043      0.1935  0.0473  0.005529\n",
      "0.0018      0.0810  0.0216  0.002382\n",
      "0.0000      0.0000  0.0000  0.000000\n",
      "0.0000      0.0000  0.0000  0.000000\n",
      "0.0000      0.0000  0.0000  0.000000\n",
      "0.0000      0.0000  0.0000  0.000000\n",
      "0.0000      0.0000  0.0000  0.000000\n",
      "0.1065      1.0000  0.7455  0.122885\n",
      "0.0146      0.6570  0.1314  0.017757\n",
      "0.0058      0.2610  0.0580  0.007250\n",
      "0.0000      0.0000  0.0000  0.000000\n",
      "0.0000      0.0000  0.0000  0.000000\n",
      "0.0000      0.0000  0.0000  0.000000\n",
      "0.0000      0.0000  0.0000  0.000000\n",
      "0.0000      0.0000  0.0000  0.000000\n",
      "0.3566      1.0000  0.9720  0.364705\n",
      "0.1727      1.0000  0.9720  0.189549\n",
      "0.0000      0.0000  0.0000  0.000000\n",
      "0.0000      0.0000  0.0000  0.000000\n",
      "0.0000      0.0000  0.0000  0.000000\n",
      "0.0000      0.0000  0.0000  0.000000\n",
      "0.0000      0.0000  0.0000  0.000000\n",
      "0.2380      1.0000  0.9720  0.249070\n",
      "0.0000      0.0000  0.0000  0.000000\n",
      "0.0000      0.0000  0.0000  0.000000\n",
      "0.0000      0.0000  0.0000  0.000000\n",
      "0.0000      0.0000  0.0000  0.000000\n",
      "0.0000      0.0000  0.0000  0.000000\n",
      "0.0002      0.0090  0.0026  0.000273\n",
      "0.0000      0.0000  0.0000  0.000000\n",
      "0.0000      0.0000  0.0000  0.000000\n",
      "0.0000      0.0000  0.0000  0.000000\n",
      "0.0000      0.0000  0.0000  0.000000\n",
      "0.4514      1.0000  0.9720  0.451400\n",
      "0.0000      0.0000  0.0000  0.000000\n",
      "0.0000      0.0000  0.0000  0.000000\n",
      "0.0000      0.0000  0.0000  0.000000\n",
      "0.0000      0.0000  0.0000  0.000000\n",
      "0.0000      0.0000  0.0000  0.000000\n",
      "0.0000      0.0000  0.0000  0.000000\n",
      "0.0001      0.0045  0.0014  0.000141\n",
      "0.0000      0.0000  0.0000  0.000000\n",
      "0.1983      1.0000  0.9720  0.212464\n"
     ]
    }
   ],
   "source": [
    "\n",
    "# assume p_values is a dictionary with p-values as values\n",
    "p_values_list = list(p_values.values())\n",
    "\n",
    "# define the correction methods to apply\n",
    "methods = ['bonferroni', 'holm', 'fdr_bh']\n",
    "\n",
    "# create a dictionary to store the corrected p-values\n",
    "corrected_pvalues = {}\n",
    "\n",
    "# apply each correction method and store the results\n",
    "for method in methods:\n",
    "    result = multipletests(p_values_list, method=method)\n",
    "    p_valuesC = dict(zip(p_values.keys(),result[1]))\n",
    "    corrected_pvalues[method] = p_valuesC\n",
    "\n",
    "# create a Pandas DataFrame from the corrected p-values\n",
    "df = pd.DataFrame(corrected_pvalues)\n",
    "\n",
    "# set the index to the original p-values (optional)\n",
    "df.index = p_values_list\n",
    "\n",
    "print(df)"
   ]
  },
  {
   "cell_type": "code",
   "execution_count": 87,
   "metadata": {},
   "outputs": [],
   "source": [
    "# Add a new column to the DataFrame with the promedios dictionary values\n",
    "df['diferencias'] = list(promedios.values())\n",
    "df['who'] = list(promedios.keys())"
   ]
  },
  {
   "cell_type": "code",
   "execution_count": 88,
   "metadata": {},
   "outputs": [],
   "source": [
    "# Reset the index to a new column\n",
    "df.reset_index(inplace=True)\n",
    "\n",
    "# Rename the new index column to something meaningful (e.g., 'original_index')\n",
    "df = df.rename(columns={'index': 'p-value'})\n"
   ]
  },
  {
   "cell_type": "code",
   "execution_count": 89,
   "metadata": {},
   "outputs": [],
   "source": [
    "df.to_csv(\"comparacion.csv\")"
   ]
  }
 ],
 "metadata": {
  "colab": {
   "provenance": []
  },
  "kernelspec": {
   "display_name": "Python 3 (ipykernel)",
   "language": "python",
   "name": "python3"
  },
  "language_info": {
   "codemirror_mode": {
    "name": "ipython",
    "version": 3
   },
   "file_extension": ".py",
   "mimetype": "text/x-python",
   "name": "python",
   "nbconvert_exporter": "python",
   "pygments_lexer": "ipython3",
   "version": "3.11.7"
  }
 },
 "nbformat": 4,
 "nbformat_minor": 4
}
