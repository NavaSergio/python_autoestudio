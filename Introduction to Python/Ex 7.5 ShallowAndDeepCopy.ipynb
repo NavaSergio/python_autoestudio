{
 "cells": [
  {
   "cell_type": "code",
   "execution_count": 3,
   "metadata": {},
   "outputs": [
    {
     "name": "stdout",
     "output_type": "stream",
     "text": [
      "List1 ->  [[1, 2, 3], [4, 5, 6], [7, 8, 9]]\n",
      "List2 ->  [[1, 2, 3], [4, 5, 6], [7, 8, 9]]\n",
      "id of List1 ->  140439695882368\n",
      "id of List2 ->  140439695882368\n",
      "List1 ->  [[1, 2, 3], [4, 5, 6], [7, 8, 9], [10, 11, 12]]\n",
      "List2 ->  [[1, 2, 3], [4, 5, 6], [7, 8, 9], [10, 11, 12]]\n"
     ]
    }
   ],
   "source": [
    "# copy using = operator\n",
    "list1 = [[1, 2, 3], [4, 5, 6], [7, 8, 9]]\n",
    "list2 = list1\n",
    "print(\"List1 -> \", list1)\n",
    "print(\"List2 -> \", list2)\n",
    "print(\"id of List1 -> \", id(list1))\n",
    "print(\"id of List2 -> \", id(list2))\n",
    "\n",
    "list1.append([10, 11, 12])\n",
    "print(\"List1 -> \", list1)\n",
    "print(\"List2 -> \", list2)\n"
   ]
  },
  {
   "cell_type": "code",
   "execution_count": 6,
   "metadata": {},
   "outputs": [
    {
     "name": "stdout",
     "output_type": "stream",
     "text": [
      "old list: [[1, 2, 3], [4, 5, 6], [7, 8, 9]]\n",
      "new list: [[1, 2, 3], [4, 5, 6], [7, 8, 9]]\n",
      "old list: 140439696101952\n",
      "new list: 140439696104064\n"
     ]
    }
   ],
   "source": [
    "# Creating a copy using Shallow Copy\n",
    "import copy\n",
    "\n",
    "old_list = [[1, 2, 3], [4, 5, 6], [7, 8, 9]]\n",
    "new_list = copy.copy(old_list)\n",
    "\n",
    "print(\"old list:\",old_list)\n",
    "print(\"new list:\",new_list)\n",
    "\n",
    "\n",
    "print(\"old list:\",id(old_list))\n",
    "print(\"new list:\",id(new_list))"
   ]
  },
  {
   "cell_type": "code",
   "execution_count": 7,
   "metadata": {},
   "outputs": [
    {
     "name": "stdout",
     "output_type": "stream",
     "text": [
      "old list: [[1, 2, 3], [4, 5, 6], [7, 8, 9], [4, 4, 4]]\n",
      "new list: [[1, 2, 3], [4, 5, 6], [7, 8, 9]]\n",
      "old list: [[1, 2, 3], [4, 'AA', 6], [7, 8, 9], [4, 4, 4]]\n",
      "new list: [[1, 2, 3], [4, 'AA', 6], [7, 8, 9]]\n"
     ]
    }
   ],
   "source": [
    "# Adding elements to the old_list using shallow copy\n",
    "old_list.append([4, 4, 4])\n",
    "print(\"old list:\",old_list)\n",
    "print(\"new list:\",new_list)\n",
    "\n",
    "# adding new nested object using shallow copy\n",
    "old_list[1][1] = \"AA\"\n",
    "print(\"old list:\",old_list)\n",
    "print(\"new list:\",new_list)\n"
   ]
  },
  {
   "cell_type": "code",
   "execution_count": 8,
   "metadata": {},
   "outputs": [
    {
     "name": "stdout",
     "output_type": "stream",
     "text": [
      "old list: [[1, 1, 1], [2, 2, 2], [3, 3, 3]]\n",
      "new list: [[1, 1, 1], [2, 2, 2], [3, 3, 3]]\n",
      "id of old list: 140439696101888\n",
      "id of new list: 140439696101440\n"
     ]
    }
   ],
   "source": [
    "# copying a list using deepcopy()\n",
    "import copy\n",
    "old_list = [[1, 1, 1], [2, 2, 2], [3, 3, 3]]\n",
    "new_list = copy.deepcopy(old_list)\n",
    "\n",
    "print(\"old list:\",old_list)\n",
    "print(\"new list:\",new_list)\n",
    "print(\"id of old list:\",id(old_list))\n",
    "print(\"id of new list:\",id(new_list))"
   ]
  },
  {
   "cell_type": "code",
   "execution_count": 9,
   "metadata": {},
   "outputs": [
    {
     "name": "stdout",
     "output_type": "stream",
     "text": [
      "old list: [[1, 1, 1], ['BB', 2, 2], [3, 3, 3]]\n",
      "new list: [[1, 1, 1], [2, 2, 2], [3, 3, 3]]\n"
     ]
    }
   ],
   "source": [
    "# adding a new nested object in the list using deep copy\n",
    "old_list[1][0]=\"BB\"\n",
    "print(\"old list:\",old_list)\n",
    "print(\"new list:\",new_list)\n"
   ]
  },
  {
   "cell_type": "code",
   "execution_count": null,
   "metadata": {},
   "outputs": [],
   "source": []
  }
 ],
 "metadata": {
  "kernelspec": {
   "display_name": "Python 3",
   "language": "python",
   "name": "python3"
  },
  "language_info": {
   "codemirror_mode": {
    "name": "ipython",
    "version": 3
   },
   "file_extension": ".py",
   "mimetype": "text/x-python",
   "name": "python",
   "nbconvert_exporter": "python",
   "pygments_lexer": "ipython3",
   "version": "3.8.5"
  }
 },
 "nbformat": 4,
 "nbformat_minor": 4
}
