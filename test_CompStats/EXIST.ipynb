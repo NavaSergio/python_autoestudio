{
 "cells": [
  {
   "cell_type": "markdown",
   "metadata": {
    "id": "wGizC3XikMtk"
   },
   "source": [
    "<p><img alt=\"Colaboratory logo\" height=\"50px\" src=\"https://github.com/INGEOTEC/text_models/raw/master/docs/source/ingeotec.png\" align=\"left\" hspace=\"10px\" vspace=\"0px\" /></p>\n",
    "\n",
    "# CompStats\n",
    "## Quickstart Guide\n",
    "\n",
    "### <http://compstats.readthedocs.org>\n",
    "\n"
   ]
  },
  {
   "cell_type": "markdown",
   "metadata": {
    "id": "u-QV6DJYaQjg"
   },
   "source": [
    "## Installing CompStats"
   ]
  },
  {
   "cell_type": "code",
   "execution_count": 1,
   "metadata": {
    "id": "ISeelAVIJc59"
   },
   "outputs": [],
   "source": [
    "# !python -m pip uninstall CompStats"
   ]
  },
  {
   "cell_type": "code",
   "execution_count": 2,
   "metadata": {
    "id": "_4WTIJx5H9ii"
   },
   "outputs": [],
   "source": [
    "# !pip install -U git+https://github.com/INGEOTEC/CompStats@develop\n",
    "# %pip install \"C:\\Users\\Sergio Nava\\Documentos\\GitHub\\INGEOTEC\\CompStats\""
   ]
  },
  {
   "cell_type": "markdown",
   "metadata": {
    "id": "2sFWAgM0H3La"
   },
   "source": [
    "First, we need to install CompStats. This can be quickly done through pip, the Python package manager."
   ]
  },
  {
   "cell_type": "code",
   "execution_count": 3,
   "metadata": {
    "colab": {
     "base_uri": "https://localhost:8080/"
    },
    "id": "k2UzLxhkkMtp",
    "outputId": "dbadd757-1706-49ed-b866-539afbe92f71"
   },
   "outputs": [],
   "source": [
    "try:\n",
    "  import CompStats\n",
    "except ImportError:\n",
    "  %pip install \"C:\\Users\\Sergio Nava\\Documentos\\GitHub\\INGEOTEC\\CompStats\"\n",
    "    #!pip install Compstats\n",
    "    # !pip install -U git+https://github.com/INGEOTEC/CompStats@develop"
   ]
  },
  {
   "cell_type": "markdown",
   "metadata": {
    "id": "pqJKAfenkMtr"
   },
   "source": [
    "## Libraries"
   ]
  },
  {
   "cell_type": "markdown",
   "metadata": {
    "id": "ifWsyR9mH7-o"
   },
   "source": [
    "After installing `CompStats`, we must import the necessary libraries for our analysis. `CompStats` relies on several Python libraries for data analysis and scientific computing.\n",
    "\n",
    "The first line of the following code loads two functions from the `CompStats` library. The `performance` function is used to calculate and analyze the performance of machine learning models. On the other hand, the `plot_performance` function visualizes the performance metrics calculated by `performance`, such as accuracy or F1 score, along with confidence intervals to help understand the variability and reliability of the performance metrics.\n",
    "\n",
    "The second line imports two functions: `difference` and `plot_difference`; `difference` assesses the differences in performance between models in comparison to the best system, and `plot_difference` visually represents these differences relative to the best system.\n",
    "\n",
    "The third line imports two functions: `all_differences` and `difference_p_value`. `all_differences` evaluates the differences in performance between all models, and `difference_p_value` estimates the p-value of the hypothesis that the difference is significantly greater than zero.\n",
    "\n",
    "The fourth line imports the function `multipletests`that is used for adjusting p-values when multiple hypothesis tests are performed, to control for the false discovery rate or family-wise error rate.\n",
    "\n",
    "The rest of the lines load commonly used Python libraries."
   ]
  },
  {
   "cell_type": "code",
   "execution_count": 4,
   "metadata": {
    "id": "rUVyzgMokMts"
   },
   "outputs": [],
   "source": [
    "from CompStats import performance, plot_performance\n",
    "from CompStats import difference, plot_difference\n",
    "from CompStats import all_differences, difference_p_value\n",
    "from statsmodels.stats.multitest import multipletests\n",
    "from sklearn.metrics import accuracy_score\n",
    "import matplotlib.pyplot as plt\n",
    "import seaborn as sns\n",
    "import pandas as pd\n",
    "#plt.style.use('_mpl-gallery')"
   ]
  },
  {
   "cell_type": "markdown",
   "metadata": {
    "id": "DWcPnzA2HI-Y"
   },
   "source": [
    "# Dataset"
   ]
  },
  {
   "cell_type": "markdown",
   "metadata": {
    "id": "eKbW9vf-IASa"
   },
   "source": [
    "Once we have set up our environment, we can explore what CompStats offers. Let's begin with a basic example of how to use CompStats for a simple statistical analysis.\n",
    "\n",
    "To illustrate the use of CompStats, we will use a dataset included in the CompStats package. The path of the dataset is found with the following instructions. The variable `DATA` contains the path as shown below.  "
   ]
  },
  {
   "cell_type": "code",
   "execution_count": 5,
   "metadata": {
    "colab": {
     "base_uri": "https://localhost:8080/",
     "height": 36
    },
    "id": "8TGr5Jh6HIPR",
    "outputId": "b16c1843-a520-4b42-b653-84aee799f963"
   },
   "outputs": [],
   "source": [
    "# from CompStats.tests.test_performance import DATA\n",
    "DATA = 'exist_task1_en_l.csv'"
   ]
  },
  {
   "cell_type": "markdown",
   "metadata": {
    "id": "seBE-afbkMts"
   },
   "source": [
    "`DATA` contains the information to compare six systems for a multiclass classification task. The next instruction loads the data into a dataframe."
   ]
  },
  {
   "cell_type": "code",
   "execution_count": 6,
   "metadata": {
    "id": "WFo5qGVGI5fg"
   },
   "outputs": [],
   "source": [
    "df = pd.read_csv(DATA)"
   ]
  },
  {
   "cell_type": "markdown",
   "metadata": {
    "id": "CnOx0jOAJw6H"
   },
   "source": [
    "The first five rows of `df` are shown below. It can be observed that the first column contains the gold standard, identified with `y`, and the rest of the columns are the predictions performed by different systems."
   ]
  },
  {
   "cell_type": "code",
   "execution_count": 7,
   "metadata": {
    "colab": {
     "base_uri": "https://localhost:8080/",
     "height": 206
    },
    "id": "PxDOXB8QJ2yT",
    "outputId": "08dad3e6-bdf9-4c72-848f-5576ccd383cc"
   },
   "outputs": [
    {
     "data": {
      "text/html": [
       "<div>\n",
       "<style scoped>\n",
       "    .dataframe tbody tr th:only-of-type {\n",
       "        vertical-align: middle;\n",
       "    }\n",
       "\n",
       "    .dataframe tbody tr th {\n",
       "        vertical-align: top;\n",
       "    }\n",
       "\n",
       "    .dataframe thead th {\n",
       "        text-align: right;\n",
       "    }\n",
       "</style>\n",
       "<table border=\"1\" class=\"dataframe\">\n",
       "  <thead>\n",
       "    <tr style=\"text-align: right;\">\n",
       "      <th></th>\n",
       "      <th>y</th>\n",
       "      <th>task1.SINAI.TL.3</th>\n",
       "      <th>task1.multiaztertest.1</th>\n",
       "      <th>task1.AI.UPV.1</th>\n",
       "      <th>task1.free.1</th>\n",
       "      <th>task1.zk.1</th>\n",
       "      <th>task1.LHZ.1</th>\n",
       "      <th>task1.nlp.uned.team.1</th>\n",
       "      <th>task1.GuillemGSubies.1</th>\n",
       "      <th>task1.AIT.FHSTP.2</th>\n",
       "      <th>task1.IREL.hatespeech.group.3</th>\n",
       "    </tr>\n",
       "  </thead>\n",
       "  <tbody>\n",
       "    <tr>\n",
       "      <th>2203</th>\n",
       "      <td>non-sexist</td>\n",
       "      <td>non-sexist</td>\n",
       "      <td>non-sexist</td>\n",
       "      <td>sexist</td>\n",
       "      <td>non-sexist</td>\n",
       "      <td>non-sexist</td>\n",
       "      <td>sexist</td>\n",
       "      <td>non-sexist</td>\n",
       "      <td>non-sexist</td>\n",
       "      <td>non-sexist</td>\n",
       "      <td>non-sexist</td>\n",
       "    </tr>\n",
       "    <tr>\n",
       "      <th>2204</th>\n",
       "      <td>non-sexist</td>\n",
       "      <td>sexist</td>\n",
       "      <td>sexist</td>\n",
       "      <td>sexist</td>\n",
       "      <td>sexist</td>\n",
       "      <td>sexist</td>\n",
       "      <td>sexist</td>\n",
       "      <td>sexist</td>\n",
       "      <td>sexist</td>\n",
       "      <td>sexist</td>\n",
       "      <td>sexist</td>\n",
       "    </tr>\n",
       "    <tr>\n",
       "      <th>2205</th>\n",
       "      <td>sexist</td>\n",
       "      <td>sexist</td>\n",
       "      <td>sexist</td>\n",
       "      <td>sexist</td>\n",
       "      <td>non-sexist</td>\n",
       "      <td>sexist</td>\n",
       "      <td>sexist</td>\n",
       "      <td>sexist</td>\n",
       "      <td>non-sexist</td>\n",
       "      <td>sexist</td>\n",
       "      <td>sexist</td>\n",
       "    </tr>\n",
       "    <tr>\n",
       "      <th>2206</th>\n",
       "      <td>non-sexist</td>\n",
       "      <td>non-sexist</td>\n",
       "      <td>non-sexist</td>\n",
       "      <td>non-sexist</td>\n",
       "      <td>non-sexist</td>\n",
       "      <td>non-sexist</td>\n",
       "      <td>non-sexist</td>\n",
       "      <td>non-sexist</td>\n",
       "      <td>non-sexist</td>\n",
       "      <td>non-sexist</td>\n",
       "      <td>non-sexist</td>\n",
       "    </tr>\n",
       "    <tr>\n",
       "      <th>2207</th>\n",
       "      <td>sexist</td>\n",
       "      <td>sexist</td>\n",
       "      <td>sexist</td>\n",
       "      <td>sexist</td>\n",
       "      <td>sexist</td>\n",
       "      <td>sexist</td>\n",
       "      <td>sexist</td>\n",
       "      <td>sexist</td>\n",
       "      <td>non-sexist</td>\n",
       "      <td>sexist</td>\n",
       "      <td>sexist</td>\n",
       "    </tr>\n",
       "  </tbody>\n",
       "</table>\n",
       "</div>"
      ],
      "text/plain": [
       "               y task1.SINAI.TL.3 task1.multiaztertest.1 task1.AI.UPV.1  \\\n",
       "2203  non-sexist       non-sexist             non-sexist         sexist   \n",
       "2204  non-sexist           sexist                 sexist         sexist   \n",
       "2205      sexist           sexist                 sexist         sexist   \n",
       "2206  non-sexist       non-sexist             non-sexist     non-sexist   \n",
       "2207      sexist           sexist                 sexist         sexist   \n",
       "\n",
       "     task1.free.1  task1.zk.1 task1.LHZ.1 task1.nlp.uned.team.1  \\\n",
       "2203   non-sexist  non-sexist      sexist            non-sexist   \n",
       "2204       sexist      sexist      sexist                sexist   \n",
       "2205   non-sexist      sexist      sexist                sexist   \n",
       "2206   non-sexist  non-sexist  non-sexist            non-sexist   \n",
       "2207       sexist      sexist      sexist                sexist   \n",
       "\n",
       "     task1.GuillemGSubies.1 task1.AIT.FHSTP.2 task1.IREL.hatespeech.group.3  \n",
       "2203             non-sexist        non-sexist                    non-sexist  \n",
       "2204                 sexist            sexist                        sexist  \n",
       "2205             non-sexist            sexist                        sexist  \n",
       "2206             non-sexist        non-sexist                    non-sexist  \n",
       "2207             non-sexist            sexist                        sexist  "
      ]
     },
     "execution_count": 7,
     "metadata": {},
     "output_type": "execute_result"
    }
   ],
   "source": [
    "df.tail(5)"
   ]
  },
  {
   "cell_type": "code",
   "execution_count": 8,
   "metadata": {},
   "outputs": [
    {
     "data": {
      "text/html": [
       "<div>\n",
       "<style scoped>\n",
       "    .dataframe tbody tr th:only-of-type {\n",
       "        vertical-align: middle;\n",
       "    }\n",
       "\n",
       "    .dataframe tbody tr th {\n",
       "        vertical-align: top;\n",
       "    }\n",
       "\n",
       "    .dataframe thead th {\n",
       "        text-align: right;\n",
       "    }\n",
       "</style>\n",
       "<table border=\"1\" class=\"dataframe\">\n",
       "  <thead>\n",
       "    <tr style=\"text-align: right;\">\n",
       "      <th></th>\n",
       "      <th>y</th>\n",
       "      <th>task1.SINAI.TL.3</th>\n",
       "      <th>task1.multiaztertest.1</th>\n",
       "      <th>task1.AI.UPV.1</th>\n",
       "      <th>task1.free.1</th>\n",
       "      <th>task1.zk.1</th>\n",
       "      <th>task1.LHZ.1</th>\n",
       "      <th>task1.nlp.uned.team.1</th>\n",
       "      <th>task1.GuillemGSubies.1</th>\n",
       "      <th>task1.AIT.FHSTP.2</th>\n",
       "      <th>task1.IREL.hatespeech.group.3</th>\n",
       "    </tr>\n",
       "  </thead>\n",
       "  <tbody>\n",
       "    <tr>\n",
       "      <th>0</th>\n",
       "      <td>non-sexist</td>\n",
       "      <td>non-sexist</td>\n",
       "      <td>non-sexist</td>\n",
       "      <td>non-sexist</td>\n",
       "      <td>non-sexist</td>\n",
       "      <td>non-sexist</td>\n",
       "      <td>non-sexist</td>\n",
       "      <td>non-sexist</td>\n",
       "      <td>non-sexist</td>\n",
       "      <td>non-sexist</td>\n",
       "      <td>non-sexist</td>\n",
       "    </tr>\n",
       "    <tr>\n",
       "      <th>1</th>\n",
       "      <td>non-sexist</td>\n",
       "      <td>non-sexist</td>\n",
       "      <td>non-sexist</td>\n",
       "      <td>non-sexist</td>\n",
       "      <td>non-sexist</td>\n",
       "      <td>non-sexist</td>\n",
       "      <td>non-sexist</td>\n",
       "      <td>non-sexist</td>\n",
       "      <td>non-sexist</td>\n",
       "      <td>non-sexist</td>\n",
       "      <td>non-sexist</td>\n",
       "    </tr>\n",
       "    <tr>\n",
       "      <th>2</th>\n",
       "      <td>sexist</td>\n",
       "      <td>sexist</td>\n",
       "      <td>sexist</td>\n",
       "      <td>sexist</td>\n",
       "      <td>sexist</td>\n",
       "      <td>sexist</td>\n",
       "      <td>sexist</td>\n",
       "      <td>sexist</td>\n",
       "      <td>sexist</td>\n",
       "      <td>sexist</td>\n",
       "      <td>sexist</td>\n",
       "    </tr>\n",
       "    <tr>\n",
       "      <th>3</th>\n",
       "      <td>sexist</td>\n",
       "      <td>sexist</td>\n",
       "      <td>sexist</td>\n",
       "      <td>sexist</td>\n",
       "      <td>sexist</td>\n",
       "      <td>sexist</td>\n",
       "      <td>sexist</td>\n",
       "      <td>sexist</td>\n",
       "      <td>sexist</td>\n",
       "      <td>sexist</td>\n",
       "      <td>sexist</td>\n",
       "    </tr>\n",
       "    <tr>\n",
       "      <th>4</th>\n",
       "      <td>non-sexist</td>\n",
       "      <td>non-sexist</td>\n",
       "      <td>non-sexist</td>\n",
       "      <td>non-sexist</td>\n",
       "      <td>non-sexist</td>\n",
       "      <td>non-sexist</td>\n",
       "      <td>non-sexist</td>\n",
       "      <td>non-sexist</td>\n",
       "      <td>non-sexist</td>\n",
       "      <td>non-sexist</td>\n",
       "      <td>non-sexist</td>\n",
       "    </tr>\n",
       "    <tr>\n",
       "      <th>...</th>\n",
       "      <td>...</td>\n",
       "      <td>...</td>\n",
       "      <td>...</td>\n",
       "      <td>...</td>\n",
       "      <td>...</td>\n",
       "      <td>...</td>\n",
       "      <td>...</td>\n",
       "      <td>...</td>\n",
       "      <td>...</td>\n",
       "      <td>...</td>\n",
       "      <td>...</td>\n",
       "    </tr>\n",
       "    <tr>\n",
       "      <th>2203</th>\n",
       "      <td>non-sexist</td>\n",
       "      <td>non-sexist</td>\n",
       "      <td>non-sexist</td>\n",
       "      <td>sexist</td>\n",
       "      <td>non-sexist</td>\n",
       "      <td>non-sexist</td>\n",
       "      <td>sexist</td>\n",
       "      <td>non-sexist</td>\n",
       "      <td>non-sexist</td>\n",
       "      <td>non-sexist</td>\n",
       "      <td>non-sexist</td>\n",
       "    </tr>\n",
       "    <tr>\n",
       "      <th>2204</th>\n",
       "      <td>non-sexist</td>\n",
       "      <td>sexist</td>\n",
       "      <td>sexist</td>\n",
       "      <td>sexist</td>\n",
       "      <td>sexist</td>\n",
       "      <td>sexist</td>\n",
       "      <td>sexist</td>\n",
       "      <td>sexist</td>\n",
       "      <td>sexist</td>\n",
       "      <td>sexist</td>\n",
       "      <td>sexist</td>\n",
       "    </tr>\n",
       "    <tr>\n",
       "      <th>2205</th>\n",
       "      <td>sexist</td>\n",
       "      <td>sexist</td>\n",
       "      <td>sexist</td>\n",
       "      <td>sexist</td>\n",
       "      <td>non-sexist</td>\n",
       "      <td>sexist</td>\n",
       "      <td>sexist</td>\n",
       "      <td>sexist</td>\n",
       "      <td>non-sexist</td>\n",
       "      <td>sexist</td>\n",
       "      <td>sexist</td>\n",
       "    </tr>\n",
       "    <tr>\n",
       "      <th>2206</th>\n",
       "      <td>non-sexist</td>\n",
       "      <td>non-sexist</td>\n",
       "      <td>non-sexist</td>\n",
       "      <td>non-sexist</td>\n",
       "      <td>non-sexist</td>\n",
       "      <td>non-sexist</td>\n",
       "      <td>non-sexist</td>\n",
       "      <td>non-sexist</td>\n",
       "      <td>non-sexist</td>\n",
       "      <td>non-sexist</td>\n",
       "      <td>non-sexist</td>\n",
       "    </tr>\n",
       "    <tr>\n",
       "      <th>2207</th>\n",
       "      <td>sexist</td>\n",
       "      <td>sexist</td>\n",
       "      <td>sexist</td>\n",
       "      <td>sexist</td>\n",
       "      <td>sexist</td>\n",
       "      <td>sexist</td>\n",
       "      <td>sexist</td>\n",
       "      <td>sexist</td>\n",
       "      <td>non-sexist</td>\n",
       "      <td>sexist</td>\n",
       "      <td>sexist</td>\n",
       "    </tr>\n",
       "  </tbody>\n",
       "</table>\n",
       "<p>2208 rows × 11 columns</p>\n",
       "</div>"
      ],
      "text/plain": [
       "               y task1.SINAI.TL.3 task1.multiaztertest.1 task1.AI.UPV.1  \\\n",
       "0     non-sexist       non-sexist             non-sexist     non-sexist   \n",
       "1     non-sexist       non-sexist             non-sexist     non-sexist   \n",
       "2         sexist           sexist                 sexist         sexist   \n",
       "3         sexist           sexist                 sexist         sexist   \n",
       "4     non-sexist       non-sexist             non-sexist     non-sexist   \n",
       "...          ...              ...                    ...            ...   \n",
       "2203  non-sexist       non-sexist             non-sexist         sexist   \n",
       "2204  non-sexist           sexist                 sexist         sexist   \n",
       "2205      sexist           sexist                 sexist         sexist   \n",
       "2206  non-sexist       non-sexist             non-sexist     non-sexist   \n",
       "2207      sexist           sexist                 sexist         sexist   \n",
       "\n",
       "     task1.free.1  task1.zk.1 task1.LHZ.1 task1.nlp.uned.team.1  \\\n",
       "0      non-sexist  non-sexist  non-sexist            non-sexist   \n",
       "1      non-sexist  non-sexist  non-sexist            non-sexist   \n",
       "2          sexist      sexist      sexist                sexist   \n",
       "3          sexist      sexist      sexist                sexist   \n",
       "4      non-sexist  non-sexist  non-sexist            non-sexist   \n",
       "...           ...         ...         ...                   ...   \n",
       "2203   non-sexist  non-sexist      sexist            non-sexist   \n",
       "2204       sexist      sexist      sexist                sexist   \n",
       "2205   non-sexist      sexist      sexist                sexist   \n",
       "2206   non-sexist  non-sexist  non-sexist            non-sexist   \n",
       "2207       sexist      sexist      sexist                sexist   \n",
       "\n",
       "     task1.GuillemGSubies.1 task1.AIT.FHSTP.2 task1.IREL.hatespeech.group.3  \n",
       "0                non-sexist        non-sexist                    non-sexist  \n",
       "1                non-sexist        non-sexist                    non-sexist  \n",
       "2                    sexist            sexist                        sexist  \n",
       "3                    sexist            sexist                        sexist  \n",
       "4                non-sexist        non-sexist                    non-sexist  \n",
       "...                     ...               ...                           ...  \n",
       "2203             non-sexist        non-sexist                    non-sexist  \n",
       "2204                 sexist            sexist                        sexist  \n",
       "2205             non-sexist            sexist                        sexist  \n",
       "2206             non-sexist        non-sexist                    non-sexist  \n",
       "2207             non-sexist            sexist                        sexist  \n",
       "\n",
       "[2208 rows x 11 columns]"
      ]
     },
     "execution_count": 8,
     "metadata": {},
     "output_type": "execute_result"
    }
   ],
   "source": [
    "df"
   ]
  },
  {
   "cell_type": "code",
   "execution_count": 9,
   "metadata": {},
   "outputs": [
    {
     "name": "stdout",
     "output_type": "stream",
     "text": [
      "Categoria                      non-sexist  sexist\n",
      "Columna                                          \n",
      "task1.AI.UPV.1                       1013    1195\n",
      "task1.AIT.FHSTP.2                    1003    1205\n",
      "task1.GuillemGSubies.1               1053    1155\n",
      "task1.IREL.hatespeech.group.3        1011    1197\n",
      "task1.LHZ.1                           929    1279\n",
      "task1.SINAI.TL.3                      926    1282\n",
      "task1.free.1                         1047    1161\n",
      "task1.multiaztertest.1                920    1288\n",
      "task1.nlp.uned.team.1                 884    1324\n",
      "task1.zk.1                            998    1210\n",
      "y                                    1050    1158\n"
     ]
    }
   ],
   "source": [
    "\n",
    "# Obtener una lista de categorías únicas (asumiendo que todas las columnas comparten las mismas categorías)\n",
    "# Aquí se asume que las categorías son cadenas de texto y se ignoran los valores nulos\n",
    "categorias = pd.unique(df.dropna().values.ravel('K'))\n",
    "\n",
    "# Derretir el DataFrame para obtener una tabla de dos columnas: 'variable' y 'value'\n",
    "df_melted = df.melt(var_name='Columna', value_name='Categoria')\n",
    "\n",
    "# Contar la frecuencia de cada categoría en cada columna usando crosstab\n",
    "frecuencia_categorias = pd.crosstab(df_melted['Columna'], df_melted['Categoria'])\n",
    "\n",
    "# Asegurarse de que todas las categorías estén presentes en la tabla de frecuencia\n",
    "# Esto agrega cualquier categoría faltante con frecuencia 0\n",
    "frecuencia_categorias = frecuencia_categorias.reindex(columns=categorias, fill_value=0)\n",
    "\n",
    "# Mostrar la tabla de frecuencias\n",
    "print(frecuencia_categorias)\n"
   ]
  },
  {
   "cell_type": "markdown",
   "metadata": {
    "id": "sqI3FxmCI_pM"
   },
   "source": [
    "# Performance Anaylisis"
   ]
  },
  {
   "cell_type": "markdown",
   "metadata": {
    "id": "JR1B0lg4K85m"
   },
   "source": [
    "Let us start with the performance analysis of the different systems. The performance metric used is the weighted average F1 score. This performance is coded in the variable `score` as observed in the next instruction."
   ]
  },
  {
   "cell_type": "code",
   "execution_count": 10,
   "metadata": {
    "id": "IXHA4HRkLA9q"
   },
   "outputs": [],
   "source": [
    "score = lambda y, hy: accuracy_score(y, hy)"
   ]
  },
  {
   "cell_type": "markdown",
   "metadata": {
    "id": "xYCMtk-1LZtL"
   },
   "source": [
    "The next step is to compute the performance on the bootstrap samples; this is done with the function `performance`. The function has a few parameters; one is the `score`, which receives the metric used to measure the performance."
   ]
  },
  {
   "cell_type": "code",
   "execution_count": 11,
   "metadata": {
    "colab": {
     "base_uri": "https://localhost:8080/"
    },
    "id": "-96k0EbaLadL",
    "outputId": "cba38610-383b-402e-e8e2-f0fcdea5908e"
   },
   "outputs": [
    {
     "name": "stderr",
     "output_type": "stream",
     "text": [
      "100%|██████████| 11/11 [00:23<00:00,  2.09s/it]\n"
     ]
    }
   ],
   "source": [
    "perf = performance(df, score=score,num_samples=1000)"
   ]
  },
  {
   "cell_type": "markdown",
   "metadata": {
    "id": "sEfBLwenQpND"
   },
   "source": [
    "`perf` is an instance of `StatisticSamples`, the bootstrap samples can be seen on the property `calls`. The first five bootstrap samples of the performance of INGEOTEC are shown below. -- It verifies that the key is in the dictionary in case the dataset has been changed. --"
   ]
  },
  {
   "cell_type": "code",
   "execution_count": 12,
   "metadata": {
    "colab": {
     "base_uri": "https://localhost:8080/"
    },
    "id": "IrbRfFuCQsGf",
    "outputId": "995bf6f7-02d8-4526-de25-4e56151d7f3b"
   },
   "outputs": [
    {
     "name": "stdout",
     "output_type": "stream",
     "text": [
      "[0.77219203 0.77762681 0.76992754 0.78532609 0.78894928]\n"
     ]
    }
   ],
   "source": [
    "if 'task1.SINAI.TL.3' in perf.calls:\n",
    "  print(f\"{perf.calls['task1.SINAI.TL.3'][:5]}\")"
   ]
  },
  {
   "cell_type": "markdown",
   "metadata": {
    "id": "SaUGXqEVJE6A"
   },
   "source": [
    "The performance of the systems, along with their confidence intervals, can be seen using the next instruction."
   ]
  },
  {
   "cell_type": "code",
   "execution_count": 13,
   "metadata": {},
   "outputs": [
    {
     "data": {
      "image/png": "[encoded data removed]",
      "text/plain": [
       "<Figure size 508.889x500 with 1 Axes>"
      ]
     },
     "metadata": {},
     "output_type": "display_data"
    }
   ],
   "source": [
    "import matplotlib as mpl\n",
    "plt.style.use('bmh')\n",
    "\n",
    "#plt.style.use('https://github.com/dhaitz/matplotlib-stylesheets/raw/master/pitayasmoothie-light.mplstyle')\n",
    "\n",
    "mpl.rcParams['font.size'] = 8\n",
    "mpl.rcParams['grid.color'] = \"black\"\n",
    "# Generar el gráfico de rendimiento\n",
    "face_grid = plot_performance(perf)\n",
    "\n",
    "# Ajustar los límites del eje X\n",
    "face_grid.set(xlim=(0.6, 0.9))\n",
    "\n",
    "# Mostrar el gráfico\n",
    "plt.show()"
   ]
  },
  {
   "cell_type": "markdown",
   "metadata": {
    "id": "eBmUNHXWR2pL"
   },
   "source": [
    "It can be observed that the best system is INGEOTEC. Although the confidence intervals provide information that helps to assess the difference in the performance of the systems, in this case, the intervals intersect. Therefore, one needs another statistical tool to determine if the difference in performance is significant."
   ]
  },
  {
   "cell_type": "markdown",
   "metadata": {
    "id": "hJ1gAxzkkMts"
   },
   "source": [
    "# Performance Comparison against the Winner"
   ]
  },
  {
   "cell_type": "markdown",
   "metadata": {
    "id": "peFwDTsNdRiz"
   },
   "source": [
    "The difference in their performance compared to the best-performing system can be used to compare the algorithms analyzed. The function `difference` computes the difference as shown below."
   ]
  },
  {
   "cell_type": "code",
   "execution_count": 14,
   "metadata": {
    "id": "0FXWINpdkMtt"
   },
   "outputs": [],
   "source": [
    "diff = difference(perf)"
   ]
  },
  {
   "cell_type": "markdown",
   "metadata": {
    "id": "2p_ppDE9dV0F"
   },
   "source": [
    "`diff` is an instance of `StatisticSamples`; one can find the best system on the property `info`, as the following instruction shows."
   ]
  },
  {
   "cell_type": "code",
   "execution_count": 15,
   "metadata": {
    "colab": {
     "base_uri": "https://localhost:8080/"
    },
    "id": "7oz3wbr6dr_m",
    "outputId": "a4b5e252-dcbe-4345-c5e5-e84acd3edce7"
   },
   "outputs": [
    {
     "data": {
      "text/plain": [
       "{'best': 'task1.SINAI.TL.3'}"
      ]
     },
     "execution_count": 15,
     "metadata": {},
     "output_type": "execute_result"
    }
   ],
   "source": [
    "diff.info"
   ]
  },
  {
   "cell_type": "markdown",
   "metadata": {
    "id": "iD_jAdwmd5QZ"
   },
   "source": [
    "The difference in performance can be visualized with the following instruction."
   ]
  },
  {
   "cell_type": "code",
   "execution_count": 16,
   "metadata": {
    "colab": {
     "base_uri": "https://localhost:8080/",
     "height": 529
    },
    "id": "obO7DOUWdW52",
    "outputId": "38b7de59-4aea-43b7-d3dc-eae94c6f19d6"
   },
   "outputs": [
    {
     "data": {
      "image/png": "[encoded data removed]",
      "text/plain": [
       "<Figure size 568.139x500 with 1 Axes>"
      ]
     },
     "metadata": {},
     "output_type": "display_data"
    }
   ],
   "source": [
    "face_grid_diff = plot_difference(diff)"
   ]
  },
  {
   "cell_type": "markdown",
   "metadata": {
    "id": "aHlFz543kMtt"
   },
   "source": [
    "From the performance graphs, for this example, we can observe that the ranking is *INGEOTEC*, *BoW*, *StackBoW*, *BoW (Corpus)*, *Dense*, *Bow (Class Weight)*. Hence, in the last graph, we analyze the performance difference against the winner (INGEOTEC). From this graph, we can conclude that *BoW* and *StackBoW*, might perform similarly to INGEOTEC.\n",
    "\n",
    "Should we test the hypothesis of equality versus difference, considering that one system outperforms the other in the test? To address this question, we compare the performance of two systems, $A$ and $B$, to determine whether $A$ is superior to $B$ in a larger data population, represented as $\\theta_A > \\theta_B$. We can estimate the p-value associated with the hypothesis test $H_0: \\theta_A \\le \\theta_B$ vs $H_1: \\theta_A > \\theta_B$ given the data, equivalently $H_0: \\theta_A< -  \\theta_B\\le 0$ vs $H_1: \\theta_A - \\theta_B > 0$. The p-values for these differences can be estimated using the following instruction, comparing them against the winner (INGEOTEC) to determine the probability that $a$ (INGEOTEC) is better than $b$.\n",
    "\n",
    "The `difference_p_value` function estimates the p-value for each difference in comparison to the best system, as illustrated below.\n"
   ]
  },
  {
   "cell_type": "code",
   "execution_count": 17,
   "metadata": {
    "id": "83DAxZ18kMtt"
   },
   "outputs": [],
   "source": [
    "p_values = difference_p_value(diff)"
   ]
  },
  {
   "cell_type": "markdown",
   "metadata": {
    "id": "WEEPzr4l2BMn"
   },
   "source": [
    "For a given $\\alpha$ level, p-values smaller than $\\alpha$  are significant, meaning the observed difference is unlikely to be due to chance. An $\\alpha$ level of 0.05 is commonly used."
   ]
  },
  {
   "cell_type": "code",
   "execution_count": 18,
   "metadata": {
    "colab": {
     "base_uri": "https://localhost:8080/"
    },
    "id": "p2VtUMvS0Z4k",
    "outputId": "6a3cf917-98da-46ed-a103-4faf13725e53"
   },
   "outputs": [
    {
     "data": {
      "text/plain": [
       "{'task1.IREL.hatespeech.group.3': 0.014,\n",
       " 'task1.AIT.FHSTP.2': 0.024,\n",
       " 'task1.GuillemGSubies.1': 0.033,\n",
       " 'task1.nlp.uned.team.1': 0.024,\n",
       " 'task1.LHZ.1': 0.091,\n",
       " 'task1.zk.1': 0.076,\n",
       " 'task1.free.1': 0.102,\n",
       " 'task1.AI.UPV.1': 0.1,\n",
       " 'task1.multiaztertest.1': 0.227}"
      ]
     },
     "execution_count": 18,
     "metadata": {},
     "output_type": "execute_result"
    }
   ],
   "source": [
    "p_values"
   ]
  },
  {
   "cell_type": "code",
   "execution_count": 19,
   "metadata": {},
   "outputs": [
    {
     "data": {
      "text/plain": [
       "{'task1.IREL.hatespeech.group.3': 0.126,\n",
       " 'task1.AIT.FHSTP.2': 0.216,\n",
       " 'task1.GuillemGSubies.1': 0.29700000000000004,\n",
       " 'task1.nlp.uned.team.1': 0.216,\n",
       " 'task1.LHZ.1': 0.819,\n",
       " 'task1.zk.1': 0.6839999999999999,\n",
       " 'task1.free.1': 0.9179999999999999,\n",
       " 'task1.AI.UPV.1': 0.9,\n",
       " 'task1.multiaztertest.1': 1.0}"
      ]
     },
     "execution_count": 19,
     "metadata": {},
     "output_type": "execute_result"
    }
   ],
   "source": [
    "result = multipletests(list(p_values.values()), method='bonferroni')\n",
    "p_valuesC = dict(zip(p_values.keys(),result[1]))\n",
    "p_valuesC"
   ]
  },
  {
   "cell_type": "markdown",
   "metadata": {
    "id": "rt21qMcDkMtu"
   },
   "source": [
    "# Performance comparison between all models\n",
    "\n",
    "Similarly, the differences for each pair of variables between all models can be estimated using the function `all_differences`, as illustrated in the following instructions. This approach allows for a comprehensive analysis of how each model compares to the others, providing a statistical basis to understand the significance of performance variations among them. This method extends the comparative analysis, offering a detailed view of the competitive landscape of model performance."
   ]
  },
  {
   "cell_type": "code",
   "execution_count": 20,
   "metadata": {
    "id": "6ehkDIH_kMtu"
   },
   "outputs": [],
   "source": [
    "all_diff = all_differences(perf)"
   ]
  },
  {
   "cell_type": "markdown",
   "metadata": {
    "id": "CC2hR4w_4IzC"
   },
   "source": [
    "Once again, we use the function `difference_p_value` to estimate the p-value."
   ]
  },
  {
   "cell_type": "code",
   "execution_count": 21,
   "metadata": {
    "id": "x2vlIMNc3h5W"
   },
   "outputs": [],
   "source": [
    "p_values = difference_p_value(all_diff)"
   ]
  },
  {
   "cell_type": "markdown",
   "metadata": {
    "id": "192xc-_24chZ"
   },
   "source": [
    "And we can analyze from all pairs of systems individually which ones have significantly different performances by comparing their p-value with $\\alpha$."
   ]
  },
  {
   "cell_type": "code",
   "execution_count": 22,
   "metadata": {
    "colab": {
     "base_uri": "https://localhost:8080/"
    },
    "id": "l5hRhylS3jh2",
    "outputId": "b06cbf00-2d24-4714-e749-6210b2d96001"
   },
   "outputs": [
    {
     "data": {
      "text/plain": [
       "{'task1.SINAI.TL.3 - task1.multiaztertest.1': 0.227,\n",
       " 'task1.SINAI.TL.3 - task1.AI.UPV.1': 0.1,\n",
       " 'task1.SINAI.TL.3 - task1.free.1': 0.102,\n",
       " 'task1.SINAI.TL.3 - task1.zk.1': 0.076,\n",
       " 'task1.SINAI.TL.3 - task1.LHZ.1': 0.091,\n",
       " 'task1.SINAI.TL.3 - task1.nlp.uned.team.1': 0.024,\n",
       " 'task1.SINAI.TL.3 - task1.GuillemGSubies.1': 0.033,\n",
       " 'task1.SINAI.TL.3 - task1.AIT.FHSTP.2': 0.024,\n",
       " 'task1.SINAI.TL.3 - task1.IREL.hatespeech.group.3': 0.014,\n",
       " 'task1.multiaztertest.1 - task1.AI.UPV.1': 0.232,\n",
       " 'task1.multiaztertest.1 - task1.free.1': 0.253,\n",
       " 'task1.multiaztertest.1 - task1.zk.1': 0.222,\n",
       " 'task1.multiaztertest.1 - task1.LHZ.1': 0.248,\n",
       " 'task1.multiaztertest.1 - task1.nlp.uned.team.1': 0.108,\n",
       " 'task1.multiaztertest.1 - task1.GuillemGSubies.1': 0.097,\n",
       " 'task1.multiaztertest.1 - task1.AIT.FHSTP.2': 0.081,\n",
       " 'task1.multiaztertest.1 - task1.IREL.hatespeech.group.3': 0.045,\n",
       " 'task1.AI.UPV.1 - task1.free.1': 0.479,\n",
       " 'task1.AI.UPV.1 - task1.zk.1': 0.47,\n",
       " 'task1.AI.UPV.1 - task1.LHZ.1': 0.459,\n",
       " 'task1.AI.UPV.1 - task1.nlp.uned.team.1': 0.246,\n",
       " 'task1.AI.UPV.1 - task1.GuillemGSubies.1': 0.23,\n",
       " 'task1.AI.UPV.1 - task1.AIT.FHSTP.2': 0.19,\n",
       " 'task1.AI.UPV.1 - task1.IREL.hatespeech.group.3': 0.141,\n",
       " 'task1.free.1 - task1.zk.1': 0.477,\n",
       " 'task1.free.1 - task1.LHZ.1': 0.495,\n",
       " 'task1.free.1 - task1.nlp.uned.team.1': 0.256,\n",
       " 'task1.free.1 - task1.GuillemGSubies.1': 0.233,\n",
       " 'task1.free.1 - task1.AIT.FHSTP.2': 0.217,\n",
       " 'task1.free.1 - task1.IREL.hatespeech.group.3': 0.161,\n",
       " 'task1.zk.1 - task1.LHZ.1': 0.474,\n",
       " 'task1.zk.1 - task1.nlp.uned.team.1': 0.251,\n",
       " 'task1.zk.1 - task1.GuillemGSubies.1': 0.231,\n",
       " 'task1.zk.1 - task1.AIT.FHSTP.2': 0.222,\n",
       " 'task1.zk.1 - task1.IREL.hatespeech.group.3': 0.16,\n",
       " 'task1.LHZ.1 - task1.nlp.uned.team.1': 0.271,\n",
       " 'task1.LHZ.1 - task1.GuillemGSubies.1': 0.266,\n",
       " 'task1.LHZ.1 - task1.AIT.FHSTP.2': 0.225,\n",
       " 'task1.LHZ.1 - task1.IREL.hatespeech.group.3': 0.176,\n",
       " 'task1.nlp.uned.team.1 - task1.GuillemGSubies.1': 0.497,\n",
       " 'task1.nlp.uned.team.1 - task1.AIT.FHSTP.2': 0.453,\n",
       " 'task1.nlp.uned.team.1 - task1.IREL.hatespeech.group.3': 0.399,\n",
       " 'task1.GuillemGSubies.1 - task1.AIT.FHSTP.2': 0.473,\n",
       " 'task1.GuillemGSubies.1 - task1.IREL.hatespeech.group.3': 0.369,\n",
       " 'task1.AIT.FHSTP.2 - task1.IREL.hatespeech.group.3': 0.413}"
      ]
     },
     "execution_count": 22,
     "metadata": {},
     "output_type": "execute_result"
    }
   ],
   "source": [
    "p_values"
   ]
  },
  {
   "cell_type": "markdown",
   "metadata": {
    "id": "NS3RHI9SkMtu"
   },
   "source": [
    "When conducting numerous comparisons or hypothesis tests on a dataset, the risk of incurring Type I errors (incorrectly dismissing a valid null hypothesis) increases. This happens because more tests performed increase the probability of randomly identifying statistically significant outcomes. Implementing adjustments for multiple comparisons is critical for several reasons: (1) To manage the risk of Type I Error, (2) To prevent erroneous conclusions, and (3) To uphold the integrity of the research.\n",
    "\n",
    "The following code illustrates the effect of these methods for multiple comparison corrections. The function `multipletests` makes the p-value correction by selecting the parameter `method`. In this example, the Bonferroni correction method is used."
   ]
  },
  {
   "cell_type": "code",
   "execution_count": 23,
   "metadata": {
    "id": "V1J_cqfdkMtu"
   },
   "outputs": [],
   "source": [
    "result = multipletests(list(p_values.values()), method='bonferroni')"
   ]
  },
  {
   "cell_type": "markdown",
   "metadata": {
    "id": "e2myRaBo6mPf"
   },
   "source": [
    "`result` is an array; next, we convert it back into a dictionary."
   ]
  },
  {
   "cell_type": "code",
   "execution_count": 24,
   "metadata": {
    "id": "MSaGBndz6G6t"
   },
   "outputs": [],
   "source": [
    "p_valuesC = dict(zip(p_values.keys(),result[1]))"
   ]
  },
  {
   "cell_type": "markdown",
   "metadata": {
    "id": "FY-9W45Q7nId"
   },
   "source": [
    "And we can analyze from all pairs of systems simunstally which ones have significantly different performances by comparing their p-value with $\\alpha$."
   ]
  },
  {
   "cell_type": "code",
   "execution_count": 25,
   "metadata": {
    "colab": {
     "base_uri": "https://localhost:8080/"
    },
    "id": "SKiKx3GU6IlN",
    "outputId": "94dd212d-dcae-4ec3-92f0-7397f5bd91a7"
   },
   "outputs": [
    {
     "data": {
      "text/plain": [
       "{'task1.SINAI.TL.3 - task1.multiaztertest.1': 1.0,\n",
       " 'task1.SINAI.TL.3 - task1.AI.UPV.1': 1.0,\n",
       " 'task1.SINAI.TL.3 - task1.free.1': 1.0,\n",
       " 'task1.SINAI.TL.3 - task1.zk.1': 1.0,\n",
       " 'task1.SINAI.TL.3 - task1.LHZ.1': 1.0,\n",
       " 'task1.SINAI.TL.3 - task1.nlp.uned.team.1': 1.0,\n",
       " 'task1.SINAI.TL.3 - task1.GuillemGSubies.1': 1.0,\n",
       " 'task1.SINAI.TL.3 - task1.AIT.FHSTP.2': 1.0,\n",
       " 'task1.SINAI.TL.3 - task1.IREL.hatespeech.group.3': 0.63,\n",
       " 'task1.multiaztertest.1 - task1.AI.UPV.1': 1.0,\n",
       " 'task1.multiaztertest.1 - task1.free.1': 1.0,\n",
       " 'task1.multiaztertest.1 - task1.zk.1': 1.0,\n",
       " 'task1.multiaztertest.1 - task1.LHZ.1': 1.0,\n",
       " 'task1.multiaztertest.1 - task1.nlp.uned.team.1': 1.0,\n",
       " 'task1.multiaztertest.1 - task1.GuillemGSubies.1': 1.0,\n",
       " 'task1.multiaztertest.1 - task1.AIT.FHSTP.2': 1.0,\n",
       " 'task1.multiaztertest.1 - task1.IREL.hatespeech.group.3': 1.0,\n",
       " 'task1.AI.UPV.1 - task1.free.1': 1.0,\n",
       " 'task1.AI.UPV.1 - task1.zk.1': 1.0,\n",
       " 'task1.AI.UPV.1 - task1.LHZ.1': 1.0,\n",
       " 'task1.AI.UPV.1 - task1.nlp.uned.team.1': 1.0,\n",
       " 'task1.AI.UPV.1 - task1.GuillemGSubies.1': 1.0,\n",
       " 'task1.AI.UPV.1 - task1.AIT.FHSTP.2': 1.0,\n",
       " 'task1.AI.UPV.1 - task1.IREL.hatespeech.group.3': 1.0,\n",
       " 'task1.free.1 - task1.zk.1': 1.0,\n",
       " 'task1.free.1 - task1.LHZ.1': 1.0,\n",
       " 'task1.free.1 - task1.nlp.uned.team.1': 1.0,\n",
       " 'task1.free.1 - task1.GuillemGSubies.1': 1.0,\n",
       " 'task1.free.1 - task1.AIT.FHSTP.2': 1.0,\n",
       " 'task1.free.1 - task1.IREL.hatespeech.group.3': 1.0,\n",
       " 'task1.zk.1 - task1.LHZ.1': 1.0,\n",
       " 'task1.zk.1 - task1.nlp.uned.team.1': 1.0,\n",
       " 'task1.zk.1 - task1.GuillemGSubies.1': 1.0,\n",
       " 'task1.zk.1 - task1.AIT.FHSTP.2': 1.0,\n",
       " 'task1.zk.1 - task1.IREL.hatespeech.group.3': 1.0,\n",
       " 'task1.LHZ.1 - task1.nlp.uned.team.1': 1.0,\n",
       " 'task1.LHZ.1 - task1.GuillemGSubies.1': 1.0,\n",
       " 'task1.LHZ.1 - task1.AIT.FHSTP.2': 1.0,\n",
       " 'task1.LHZ.1 - task1.IREL.hatespeech.group.3': 1.0,\n",
       " 'task1.nlp.uned.team.1 - task1.GuillemGSubies.1': 1.0,\n",
       " 'task1.nlp.uned.team.1 - task1.AIT.FHSTP.2': 1.0,\n",
       " 'task1.nlp.uned.team.1 - task1.IREL.hatespeech.group.3': 1.0,\n",
       " 'task1.GuillemGSubies.1 - task1.AIT.FHSTP.2': 1.0,\n",
       " 'task1.GuillemGSubies.1 - task1.IREL.hatespeech.group.3': 1.0,\n",
       " 'task1.AIT.FHSTP.2 - task1.IREL.hatespeech.group.3': 1.0}"
      ]
     },
     "execution_count": 25,
     "metadata": {},
     "output_type": "execute_result"
    }
   ],
   "source": [
    "p_valuesC"
   ]
  }
 ],
 "metadata": {
  "colab": {
   "provenance": []
  },
  "kernelspec": {
   "display_name": "Python 3 (ipykernel)",
   "language": "python",
   "name": "python3"
  },
  "language_info": {
   "codemirror_mode": {
    "name": "ipython",
    "version": 3
   },
   "file_extension": ".py",
   "mimetype": "text/x-python",
   "name": "python",
   "nbconvert_exporter": "python",
   "pygments_lexer": "ipython3",
   "version": "3.11.9"
  }
 },
 "nbformat": 4,
 "nbformat_minor": 4
}
