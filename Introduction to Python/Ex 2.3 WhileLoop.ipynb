{
 "cells": [
  {
   "cell_type": "code",
   "execution_count": 1,
   "metadata": {},
   "outputs": [
    {
     "name": "stdout",
     "output_type": "stream",
     "text": [
      "3\n",
      "2\n",
      "1\n"
     ]
    }
   ],
   "source": [
    "# Using while loop\n",
    "i = 3\n",
    "while i > 0:\n",
    "    print(i)\n",
    "    i -= 1"
   ]
  },
  {
   "cell_type": "code",
   "execution_count": 3,
   "metadata": {},
   "outputs": [
    {
     "name": "stdout",
     "output_type": "stream",
     "text": [
      "5\n",
      "6\n",
      "7\n",
      "8\n",
      "9\n",
      "Displayed Succesfully!\n"
     ]
    }
   ],
   "source": [
    "i = 5\n",
    "while i < 10:\n",
    "    print(i)\n",
    "    i += 1\n",
    "else: \n",
    "    print(\"Displayed Succesfully!\")"
   ]
  },
  {
   "cell_type": "code",
   "execution_count": null,
   "metadata": {},
   "outputs": [],
   "source": [
    "# A program to display a pattern using loops\n",
    "\n",
    "n = 6                   i    .    *\n",
    "                    ___________________\n",
    ".....*                  1    5    1\n",
    "....***                 2    4    3\n",
    "...*****                3    3    5    . => n - i\n",
    "..*******               4    2    7\n",
    ".*********              5    1    9    * => 2*i - 1\n",
    "***********             6    0   11\n",
    "                     __________________"
   ]
  },
  {
   "cell_type": "code",
   "execution_count": 5,
   "metadata": {},
   "outputs": [
    {
     "name": "stdout",
     "output_type": "stream",
     "text": [
      "Please enter the number of layers...11\n",
      "..........*\n",
      ".........***\n",
      "........*****\n",
      ".......*******\n",
      "......*********\n",
      ".....***********\n",
      "....*************\n",
      "...***************\n",
      "..*****************\n",
      ".*******************\n",
      "*********************\n"
     ]
    }
   ],
   "source": [
    "n = int(input(\"Please enter the number of layers...\"))\n",
    "i = 1\n",
    "while i <= n:\n",
    "    j = 1\n",
    "    while j <= n-i:\n",
    "        print(\".\", end=\"\")\n",
    "        j +=1\n",
    "    j = 1\n",
    "    while j <= 2*i - 1:\n",
    "        print(\"*\",end=\"\")\n",
    "        j += 1\n",
    "    print()\n",
    "    i += 1"
   ]
  },
  {
   "cell_type": "code",
   "execution_count": null,
   "metadata": {},
   "outputs": [],
   "source": [
    "# A program to display a pattern using loops\n",
    "\n",
    "n = 11 (odd)            i   .   *\n",
    "m = (n+1)/2 = 6       ______________\n",
    "***********             1   0  11\n",
    ".*********              2   1   9   . => n-1\n",
    "..*******               3   2   7\n",
    "...*****                4   3   5   * => 2*(m-i)+1\n",
    "....***                 5   4   3\n",
    ".....*                  6   5   1\n",
    "....***                 7   4   3\n",
    "...*****                8   3   5   . => n-i\n",
    "..*******               9   2   7\n",
    ".*********             10   1   9   * => 2*(i-m)+1\n",
    "***********            11   0  11"
   ]
  },
  {
   "cell_type": "code",
   "execution_count": 9,
   "metadata": {},
   "outputs": [
    {
     "name": "stdout",
     "output_type": "stream",
     "text": [
      "Please enter the odd number of layers...5\n",
      "*****\n",
      ".***\n",
      "..*\n",
      ".***\n",
      "*****\n"
     ]
    }
   ],
   "source": [
    "n = int(input(\"Please enter the odd number of layers...\"))\n",
    "m = (n+1)/2\n",
    "i = 1\n",
    "while i <= n:\n",
    "    if (i > m):\n",
    "        b = n-i\n",
    "        s = 2*(i-m)+1\n",
    "    else:\n",
    "        b = i-1\n",
    "        s = 2*(m-i)+1\n",
    "    j = 1\n",
    "    while j <= b:\n",
    "        print(\".\", end=\"\")\n",
    "        j +=1\n",
    "    j = 1\n",
    "    while j <= s:\n",
    "        print(\"*\",end=\"\")\n",
    "        j += 1\n",
    "    print()\n",
    "    i += 1"
   ]
  },
  {
   "cell_type": "code",
   "execution_count": null,
   "metadata": {},
   "outputs": [],
   "source": [
    "# A practical work\n",
    "# A programa to display a pattern using loops\n",
    "\n",
    "n = 11           i   .   *\n",
    "m = (n+1) / 2   ____________\n",
    ".....*           1   5   1\n",
    "....***          2   4   3   . => m-i \n",
    "...*****         3   3   5\n",
    "..*******        4   2   9   * => 2*(i-1)+1\n",
    ".*********       5   1  11\n",
    "***********    __6___0__13__\n",
    ".*********       7   1  11\n",
    "..*******        8   2   9   . => i-m\n",
    "...*****         9   3   5\n",
    "....***         10   4   3   * => 2*(n-i)+1\n",
    ".....*          11   5   1\n",
    "               _____________\n"
   ]
  },
  {
   "cell_type": "code",
   "execution_count": 22,
   "metadata": {},
   "outputs": [
    {
     "name": "stdout",
     "output_type": "stream",
     "text": [
      "Please enter the odd number of layers...7\n",
      "...*\n",
      "..***\n",
      ".*****\n",
      "*******\n",
      ".*****\n",
      "..***\n",
      "...*\n"
     ]
    }
   ],
   "source": [
    "n = int(input(\"Please enter the odd number of layers...\"))\n",
    "m = (n+1)/2\n",
    "i = 1\n",
    "while i <= n:\n",
    "    if (i > m):\n",
    "        b = i-m\n",
    "        s = 2*(n-i)+1\n",
    "    else:\n",
    "        b = m-i\n",
    "        s = 2*(i-1)+1\n",
    "    j = 1\n",
    "    while j <= b:\n",
    "        print(\".\", end=\"\")\n",
    "        j +=1\n",
    "    j = 1\n",
    "    while j <= s:\n",
    "        print(\"*\",end=\"\")\n",
    "        j += 1\n",
    "    print()\n",
    "    i += 1"
   ]
  },
  {
   "cell_type": "code",
   "execution_count": null,
   "metadata": {},
   "outputs": [],
   "source": []
  }
 ],
 "metadata": {
  "kernelspec": {
   "display_name": "Python 3",
   "language": "python",
   "name": "python3"
  },
  "language_info": {
   "codemirror_mode": {
    "name": "ipython",
    "version": 3
   },
   "file_extension": ".py",
   "mimetype": "text/x-python",
   "name": "python",
   "nbconvert_exporter": "python",
   "pygments_lexer": "ipython3",
   "version": "3.8.5"
  }
 },
 "nbformat": 4,
 "nbformat_minor": 4
}
