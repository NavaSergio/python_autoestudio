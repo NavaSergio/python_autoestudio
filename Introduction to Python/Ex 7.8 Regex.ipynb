{
 "cells": [
  {
   "cell_type": "code",
   "execution_count": 1,
   "metadata": {},
   "outputs": [
    {
     "name": "stdout",
     "output_type": "stream",
     "text": [
      "There is an ape\n"
     ]
    }
   ],
   "source": [
    "# Regular expressions allow you to locate and change\n",
    "# string in very powerful ways.\n",
    "# They work in almost exactly the same way in every\n",
    "# programming language as well.\n",
    "\n",
    "# Regular expressions (Regex) are used to\n",
    "# 1. Search fora specific string in a large amount of data\n",
    "# 2. Verify that a string has the proper format (Email, Phone #, etc)\n",
    "# 3. Find a string and replace it with another string\n",
    "# 4. Format data into a proper form for importing for example\n",
    "\n",
    "# import the Regex module\n",
    "import re\n",
    "\n",
    "# ------------ Was a Match found -------------\n",
    "\n",
    "# Search for ape in the string\n",
    "if re.search(\"ape\",'The ape was at the apex'):\n",
    "    print(\"There is an ape\")"
   ]
  },
  {
   "cell_type": "code",
   "execution_count": 3,
   "metadata": {},
   "outputs": [
    {
     "name": "stdout",
     "output_type": "stream",
     "text": [
      "ape \n",
      "apex\n"
     ]
    }
   ],
   "source": [
    "import re\n",
    "# ------------ Get All Matches --------------\n",
    "\n",
    "# findall() return a list of mathes\n",
    "# . is used to match any 1 character or space\n",
    "allApes = re.findall(\"ape.\",\"The ape was at the apex\")\n",
    "\n",
    "for i in allApes:\n",
    "    print(i)"
   ]
  },
  {
   "cell_type": "code",
   "execution_count": 5,
   "metadata": {},
   "outputs": [
    {
     "name": "stdout",
     "output_type": "stream",
     "text": [
      "(4, 8)\n",
      "ape \n",
      "(19, 23)\n",
      "apex\n"
     ]
    }
   ],
   "source": [
    "# finditer returns an iterator of matching objects\n",
    "# Yopu can use spa to get the location\n",
    "\n",
    "theStr = \"The ape was at the apex\"\n",
    "\n",
    "for i in re.finditer(\"ape.\",theStr):\n",
    "    \n",
    "    # Spam returns a tuple\n",
    "    locTuple = i.span()\n",
    "    \n",
    "    print(locTuple)\n",
    "    \n",
    "    # Slice the match out using the tuple values\n",
    "    print(theStr[locTuple[0]:locTuple[1]])"
   ]
  },
  {
   "cell_type": "code",
   "execution_count": 6,
   "metadata": {},
   "outputs": [
    {
     "name": "stdout",
     "output_type": "stream",
     "text": [
      "rat\n",
      "mat\n",
      "fat\n",
      "pat\n",
      "\n"
     ]
    }
   ],
   "source": [
    "import re\n",
    "# ------------- Match 1 of Several Letters ---------------\n",
    "\n",
    "# Square brackets with match any one of the characters betweeen\n",
    "# the brackets not including  upper and Lowercase varieties\n",
    "# unless they are listed\n",
    "\n",
    "animalStr = \"Cat rat mat fat pat\"\n",
    "\n",
    "allAnimals = re.findall(\"[crmfp]at\",animalStr)\n",
    "\n",
    "for i in allAnimals:\n",
    "    print(i)\n",
    "    \n",
    "print()"
   ]
  },
  {
   "cell_type": "code",
   "execution_count": 7,
   "metadata": {},
   "outputs": [
    {
     "name": "stdout",
     "output_type": "stream",
     "text": [
      "Cat\n",
      "mat\n",
      "fat\n",
      "\n"
     ]
    }
   ],
   "source": [
    "# We can also allow for characters in a range\n",
    "# Remember to include upper and lowercase letters\n",
    "\n",
    "animalStr = \"Cat rat mat fat pat\"\n",
    "someAnimals = re.findall(\"[c-mC-M]at\",animalStr)\n",
    "for i in someAnimals:\n",
    "    print(i)\n",
    "    \n",
    "print()    \n"
   ]
  },
  {
   "cell_type": "code",
   "execution_count": 8,
   "metadata": {},
   "outputs": [
    {
     "name": "stdout",
     "output_type": "stream",
     "text": [
      "owl owl mat pat\n"
     ]
    }
   ],
   "source": [
    "import re\n",
    "# ------------ Replace All matches ----------------\n",
    "\n",
    "# Replace matching items in a string\n",
    "\n",
    "owlFood = \"rat cat mat pat\"\n",
    "\n",
    "# You can compile a regex into pattern objects which\n",
    "# provide additional methods\n",
    "regex = re.compile(\"[cr]at\")\n",
    "\n",
    "# sub() replaces items that match the regex in the string\n",
    "# with the 1st attribute string passed to sub\n",
    "owlFood = regex.sub(\"owl\",owlFood)\n",
    "\n",
    "print(owlFood)"
   ]
  },
  {
   "cell_type": "code",
   "execution_count": 9,
   "metadata": {},
   "outputs": [
    {
     "name": "stdout",
     "output_type": "stream",
     "text": [
      "Find \\stuff : None\n",
      "Find \\stuff : <re.Match object; span=(8, 14), match='\\\\stuff'>\n",
      "Find \\stuff : <re.Match object; span=(8, 14), match='\\\\stuff'>\n"
     ]
    }
   ],
   "source": [
    "import re\n",
    "# ------------ Solving backslash Problems ---------------\n",
    "\n",
    "# Regex use the backslash to designate special characters\n",
    "# and Python does the same inside strings which causes\n",
    "# issues.\n",
    "\n",
    "# Let's try to get \"\\\\stuff\" out of a string\n",
    "\n",
    "randStr = \"Here is \\\\stuff\"\n",
    "\n",
    "# This won't find it\n",
    "print(\"Find \\\\stuff :\", re.search(\"\\\\stuff\",randStr))\n",
    "\n",
    "# This does, but we have to put in 4 slashes which is\n",
    "# messy\n",
    "print(\"Find \\\\stuff :\", re.search(\"\\\\\\\\stuff\",randStr))\n",
    "\n",
    "# You can get around this by using raw string which\n",
    "# don't treat backlashes as special\n",
    "print(\"Find \\\\stuff :\", re.search(r\"\\\\stuff\",randStr))"
   ]
  },
  {
   "cell_type": "code",
   "execution_count": 10,
   "metadata": {},
   "outputs": [
    {
     "name": "stdout",
     "output_type": "stream",
     "text": [
      "Matches : 2\n",
      "Matches : ['F.B.I', 'I.R.S']\n"
     ]
    }
   ],
   "source": [
    "import re\n",
    "# ------------- Matching Any character ------------\n",
    "# We saw that  . matches any character, but what if we\n",
    "# want to match a period. Backslash the period\n",
    "# You do the same with [, ] and others\n",
    "\n",
    "\n",
    "randStr = \"F.B.I. I.R.S. CIA\"\n",
    "\n",
    "print(\"Matches :\", len(re.findall(\".\\..\\..\", randStr)))\n",
    "print(\"Matches :\", re.findall(\".\\..\\..\", randStr))"
   ]
  },
  {
   "cell_type": "code",
   "execution_count": 12,
   "metadata": {},
   "outputs": [
    {
     "name": "stdout",
     "output_type": "stream",
     "text": [
      "This is a long\n",
      "string that goes\n",
      "on for many lines\n",
      "This is a long string that goes on for many lines\n"
     ]
    }
   ],
   "source": [
    "import re\n",
    "# ------------- Matching whitespaces --------------\n",
    "# We can match many whitespaces characters\n",
    "\n",
    "randStr = \"\"\"This is a long\n",
    "string that goes\n",
    "on for many lines\"\"\"\n",
    "\n",
    "print(randStr)\n",
    "\n",
    "# Removes newlines\n",
    "regex = re.compile(\"\\n\")\n",
    "\n",
    "randStr = regex.sub(\" \",randStr)\n",
    "\n",
    "print(randStr)\n",
    "\n",
    "# You can also match\n",
    "# \\b : Backspace\n",
    "# \\f : Form feed\n",
    "# \\r : Carriage Return\n",
    "# \\t : tab\n",
    "# \\v : vertical tab\n",
    "\n",
    "# You may need to remove \\r\\n on Windows\n"
   ]
  },
  {
   "cell_type": "code",
   "execution_count": 13,
   "metadata": {},
   "outputs": [
    {
     "name": "stdout",
     "output_type": "stream",
     "text": [
      "Matches : 5\n",
      "Matches : ['1', '2', '3', '4', '5']\n"
     ]
    }
   ],
   "source": [
    "import re\n",
    "# ----------- Matching any Single Numer ------------\n",
    "# \\d can be used instead [0-9]\n",
    "# \\D is the same as [^0-9]\n",
    "\n",
    "randStr = \"12345\"\n",
    "\n",
    "print(\"Matches :\",len(re.findall(\"\\d\",randStr)))\n",
    "print(\"Matches :\",re.findall(\"\\d\",randStr))"
   ]
  },
  {
   "cell_type": "code",
   "execution_count": 15,
   "metadata": {},
   "outputs": [
    {
     "name": "stdout",
     "output_type": "stream",
     "text": [
      "It is a zip code\n",
      "Matches : 3\n",
      "Matches : ['12345', '123456', '1234567']\n"
     ]
    }
   ],
   "source": [
    "import re\n",
    "# ------------ Matching Multiple Numbers -------------\n",
    "# You can match multiple digits by following the \\d with {numOfValues}\n",
    "\n",
    "# match 5 numbers only\n",
    "if re.search(\"\\d{5}\",\"12345\"):\n",
    "    print(\"It is a zip code\")\n",
    "    \n",
    "# You can also match within a range\n",
    "# Match values that are between 5 y 7 digits\n",
    "numStr= \"123 12345 123456 1234567\"\n",
    "\n",
    "print(\"Matches :\", len(re.findall(\"\\d{5,7}\",numStr)))\n",
    "print(\"Matches :\", re.findall(\"\\d{5,7}\",numStr))"
   ]
  },
  {
   "cell_type": "code",
   "execution_count": 17,
   "metadata": {},
   "outputs": [
    {
     "name": "stdout",
     "output_type": "stream",
     "text": [
      "It is a phone number\n",
      "It is a name\n"
     ]
    }
   ],
   "source": [
    "import re\n",
    "# ------------ Matching Any Single Letter or Number ---------------\n",
    "# \\w is the same as [a-zA-Z0-9_]\n",
    "# \\W is the same as [^a-zA-Z0-9_]\n",
    "\n",
    "phNum = \"412-555-1212\"\n",
    "\n",
    "# Check if it is a phone number\n",
    "if re.search(\"\\w{3}-\\w{3}-\\w{4}\",phNum):\n",
    "    print(\"It is a phone number\")\n",
    "    \n",
    "# check for valid first name between 2 and 20 characters\n",
    "if re.search(\"\\w{2,20}\",\"Ultraman\"):\n",
    "    print(\"It is a name\")\n",
    "\n",
    "    "
   ]
  },
  {
   "cell_type": "code",
   "execution_count": 21,
   "metadata": {},
   "outputs": [
    {
     "name": "stdout",
     "output_type": "stream",
     "text": [
      "It is a valid full name\n"
     ]
    }
   ],
   "source": [
    "import re\n",
    "# -------------- Matching Whitespace -------------\n",
    "# \\s is the same as [\\f\\n\\r\\t\\v]\n",
    "# \\S is the same as [^\\f\\n\\r\\t\\v]\n",
    "\n",
    "# Check for valid first and last name with a space\n",
    "if re.search(\"\\w{2,20}\\s\\w{2,20}\", \"Toshiro Muratamatsu\"):\n",
    "    print(\"It is a valid full name\")"
   ]
  },
  {
   "cell_type": "code",
   "execution_count": 22,
   "metadata": {},
   "outputs": [
    {
     "name": "stdout",
     "output_type": "stream",
     "text": [
      "Matches : 4\n",
      "Matches : ['a', 'a', 'a', 'a']\n"
     ]
    }
   ],
   "source": [
    "import re\n",
    "# --------------- Matching one or more ------------------\n",
    "# + mathces 1 or more characters\n",
    "\n",
    "# match a followed by 1 or more characters\n",
    "print(\"Matches :\", len(re.findall(\"a+\",\"a as a ape bug\")))\n",
    "print(\"Matches :\", re.findall(\"a+\",\"a as a ape bug\"))"
   ]
  },
  {
   "cell_type": "code",
   "execution_count": 24,
   "metadata": {},
   "outputs": [
    {
     "name": "stdout",
     "output_type": "stream",
     "text": [
      "Email matches : 1\n",
      "Email matches : ['bd@aol.com']\n"
     ]
    }
   ],
   "source": [
    "import re\n",
    "#  Create a Regex that matches email addresses from a list\n",
    "# 1. 1 to 20 Lowecase and uppercase letters, numbers, plus ._%+-\n",
    "# 2. An @ suymbol\n",
    "# 3. 2 to 20 lowercase and uppercase letters, numbers, plus .-\n",
    "# 4. A period\n",
    "# 5. 2 to 3 lowercase and uppercase letters\n",
    "\n",
    "emailList = \"bd@aol.com m@.com @apple.com bd@.com\"\n",
    "\n",
    "print(\"Email matches :\", len(re.findall(\"[\\w._%+-]{1,20}@[\\w.-]{2,20}.[a-zA-Z]{2,3}\",\n",
    "                                       emailList)))\n",
    "print(\"Email matches :\", re.findall(\"[\\w._%+-]{1,20}@[\\w.-]{2,20}.[a-zA-Z]{2,3}\",\n",
    "                                       emailList))"
   ]
  },
  {
   "cell_type": "code",
   "execution_count": null,
   "metadata": {},
   "outputs": [],
   "source": []
  }
 ],
 "metadata": {
  "kernelspec": {
   "display_name": "Python 3",
   "language": "python",
   "name": "python3"
  },
  "language_info": {
   "codemirror_mode": {
    "name": "ipython",
    "version": 3
   },
   "file_extension": ".py",
   "mimetype": "text/x-python",
   "name": "python",
   "nbconvert_exporter": "python",
   "pygments_lexer": "ipython3",
   "version": "3.8.5"
  }
 },
 "nbformat": 4,
 "nbformat_minor": 4
}
