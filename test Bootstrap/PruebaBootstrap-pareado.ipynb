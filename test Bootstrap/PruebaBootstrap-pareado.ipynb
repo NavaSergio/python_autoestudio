{
 "cells": [
  {
   "cell_type": "code",
   "execution_count": 1,
   "metadata": {},
   "outputs": [],
   "source": [
    "#!pip install --upgrade \"jax[cpu]\"\n",
    "#!pip install optax\n",
    "#!pip install IngeoML"
   ]
  },
  {
   "cell_type": "code",
   "execution_count": 2,
   "metadata": {},
   "outputs": [
    {
     "name": "stdout",
     "output_type": "stream",
     "text": [
      "3.11.7 (main, Dec 15 2023, 12:09:04) [Clang 14.0.6 ]\n"
     ]
    }
   ],
   "source": [
    "import sys\n",
    "print(sys.version)"
   ]
  },
  {
   "cell_type": "code",
   "execution_count": 3,
   "metadata": {},
   "outputs": [
    {
     "name": "stdout",
     "output_type": "stream",
     "text": [
      "Número de núcleos de CPU disponibles: 4\n"
     ]
    }
   ],
   "source": [
    "import os\n",
    "n_cores = os.cpu_count()\n",
    "print(f\"Número de núcleos de CPU disponibles: {n_cores}\")\n"
   ]
  },
  {
   "cell_type": "code",
   "execution_count": 4,
   "metadata": {},
   "outputs": [],
   "source": [
    "from IngeoML import StatisticSamples\n",
    "from sklearn.metrics import accuracy_score,recall_score\n",
    "import numpy as np"
   ]
  },
  {
   "cell_type": "code",
   "execution_count": 5,
   "metadata": {},
   "outputs": [
    {
     "name": "stdout",
     "output_type": "stream",
     "text": [
      "[3.6 3.  4.4 3.4 4.  4.4 3.2 3.4 4.  3. ]\n",
      "Muestras de statistic (mean) \n",
      " [[4 0 3 2 1]\n",
      " [0 3 0 0 4]\n",
      " [2 2 4 1 1]\n",
      " [2 3 3 4 4]\n",
      " [2 1 0 1 4]\n",
      " [2 0 2 2 1]\n",
      " [2 0 3 4 3]\n",
      " [1 1 3 0 1]\n",
      " [1 1 0 4 2]\n",
      " [1 0 3 3 4]]\n",
      "[1.16619038 0.8        0.63245553 0.74833148 0.8        0.9797959\n",
      " 1.09544512 0.48989795 0.48989795 0.8       ]\n",
      "Muestras de statistic2 (std) \n",
      " [[1 3 3 0 2]\n",
      " [4 4 1 1 3]\n",
      " [0 0 0 3 1]\n",
      " [0 3 0 4 1]\n",
      " [0 0 0 2 0]\n",
      " [1 1 1 2 3]\n",
      " [2 4 1 3 2]\n",
      " [0 4 0 4 4]\n",
      " [4 2 2 2 4]\n",
      " [2 1 2 2 0]]\n"
     ]
    }
   ],
   "source": [
    "# ahora verificando las muestras\n",
    "statistic = StatisticSamples(num_samples=10, statistic=np.mean)\n",
    "empirical_distribution = np.r_[[3, 4, 5, 2, 4]]\n",
    "print(statistic(empirical_distribution))\n",
    "print(\"Muestras de statistic (mean) \\n\",statistic._samples)\n",
    "statistic2 = StatisticSamples(num_samples=10, statistic=np.std)\n",
    "print(statistic2(empirical_distribution))\n",
    "print(\"Muestras de statistic2 (std) \\n\",statistic2._samples)"
   ]
  },
  {
   "cell_type": "code",
   "execution_count": 6,
   "metadata": {},
   "outputs": [
    {
     "name": "stdout",
     "output_type": "stream",
     "text": [
      "[3.2 4.2 4.  4.  4.4 3.8 3.6 4.4 3.6 3.6]\n",
      "Muestras de statistic (mean) \n",
      " [[3 0 0 2 0]\n",
      " [2 1 2 4 0]\n",
      " [4 2 4 1 0]\n",
      " [1 4 2 0 4]\n",
      " [1 1 2 2 4]\n",
      " [4 0 0 4 2]\n",
      " [0 4 2 3 4]\n",
      " [1 4 2 2 1]\n",
      " [2 4 0 0 0]\n",
      " [0 1 2 4 3]]\n",
      "[3.6 3.2 3.6 3.6 3.4 3.4 3.4 3.6 3.8 3.6]\n",
      "Muestras de statistic2 (mean2) \n",
      " [[4 0 1 4 0]\n",
      " [3 2 0 3 1]\n",
      " [0 0 4 1 1]\n",
      " [0 0 1 1 4]\n",
      " [4 4 3 1 0]\n",
      " [1 2 3 3 1]\n",
      " [3 1 0 1 4]\n",
      " [4 2 1 0 3]\n",
      " [0 3 2 4 2]\n",
      " [2 1 3 4 0]]\n"
     ]
    }
   ],
   "source": [
    "\n",
    "# ahora verificando las muestras\n",
    "statistic = StatisticSamples(num_samples=10, statistic=np.mean)\n",
    "empirical_distribution = np.r_[[3, 4, 5, 2, 4]]\n",
    "print(statistic(empirical_distribution))\n",
    "print(\"Muestras de statistic (mean) \\n\",statistic._samples)\n",
    "statistic2 = StatisticSamples(num_samples=10, statistic=np.mean)\n",
    "print(statistic2(empirical_distribution))\n",
    "print(\"Muestras de statistic2 (mean2) \\n\",statistic2._samples)"
   ]
  },
  {
   "cell_type": "code",
   "execution_count": 7,
   "metadata": {},
   "outputs": [
    {
     "name": "stdout",
     "output_type": "stream",
     "text": [
      "0.8\n",
      "Muestras de acc \n",
      " [[7 1 1 7 6 8 3 1 1 2]\n",
      " [3 5 0 0 8 3 7 9 6 3]\n",
      " [3 6 8 9 2 2 1 8 2 6]\n",
      " [7 4 8 5 7 9 4 0 9 2]\n",
      " [0 7 3 7 0 7 1 1 3 6]\n",
      " [0 0 9 5 2 2 8 3 3 3]\n",
      " [3 1 7 7 6 9 5 5 6 7]\n",
      " [0 2 4 1 0 8 3 7 3 0]\n",
      " [0 2 3 0 0 4 7 3 4 8]\n",
      " [0 4 7 5 8 9 2 0 9 7]]\n",
      "0.8\n",
      "Muestras de recall \n",
      " [[8 9 9 3 1 1 0 7 2 8]\n",
      " [7 3 0 9 0 8 3 6 4 4]\n",
      " [8 5 0 9 8 0 6 2 2 5]\n",
      " [5 4 7 7 4 0 7 8 0 8]\n",
      " [1 7 2 7 9 1 7 2 0 0]\n",
      " [1 8 2 6 9 9 5 0 4 8]\n",
      " [4 3 8 3 9 3 9 8 1 7]\n",
      " [6 2 4 3 7 3 3 6 5 7]\n",
      " [7 8 5 2 5 2 3 1 9 2]\n",
      " [2 9 7 1 1 9 5 0 1 3]]\n"
     ]
    }
   ],
   "source": [
    "labels = np.r_[[0, 0, 0, 0, 0, 1, 1, 1, 1, 1]]\n",
    "pred   = np.r_[[0, 0, 1, 0, 0, 1, 1, 1, 0, 1]]\n",
    "print(accuracy_score(labels, pred))\n",
    "acc = StatisticSamples(num_samples=10, statistic=accuracy_score)\n",
    "acc(labels, pred)\n",
    "print(\"Muestras de acc \\n\",acc._samples)\n",
    "print(recall_score(labels, pred,zero_division =0.0))\n",
    "rec = StatisticSamples(num_samples=10, statistic=recall_score)\n",
    "rec(labels, pred)\n",
    "print(\"Muestras de recall \\n\",rec._samples)"
   ]
  },
  {
   "cell_type": "code",
   "execution_count": 8,
   "metadata": {},
   "outputs": [
    {
     "name": "stdout",
     "output_type": "stream",
     "text": [
      "(10,)\n",
      "(10,)\n"
     ]
    }
   ],
   "source": [
    "print(labels.shape)\n",
    "print(pred.shape)"
   ]
  },
  {
   "cell_type": "code",
   "execution_count": null,
   "metadata": {},
   "outputs": [],
   "source": []
  }
 ],
 "metadata": {
  "kernelspec": {
   "display_name": "Python 3 (ipykernel)",
   "language": "python",
   "name": "python3"
  },
  "language_info": {
   "codemirror_mode": {
    "name": "ipython",
    "version": 3
   },
   "file_extension": ".py",
   "mimetype": "text/x-python",
   "name": "python",
   "nbconvert_exporter": "python",
   "pygments_lexer": "ipython3",
   "version": "3.11.7"
  }
 },
 "nbformat": 4,
 "nbformat_minor": 4
}
