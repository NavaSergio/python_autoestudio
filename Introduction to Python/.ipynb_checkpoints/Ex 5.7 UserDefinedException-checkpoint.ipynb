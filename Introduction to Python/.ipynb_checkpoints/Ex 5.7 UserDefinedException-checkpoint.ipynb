{
 "cells": [
  {
   "cell_type": "code",
   "execution_count": 4,
   "metadata": {},
   "outputs": [
    {
     "name": "stdout",
     "output_type": "stream",
     "text": [
      "Age is  12\n",
      "Age is not numeric\n",
      "End of the program\n"
     ]
    }
   ],
   "source": [
    "class VotersElligibility(Exception):\n",
    "    def __init__(self):\n",
    "        super()\n",
    "        \n",
    "try:\n",
    "    age = \"12\"\n",
    "    print(\"Age is \",age)\n",
    "    if age<18:\n",
    "        raise VotersElligibility\n",
    "except VotersElligibility:\n",
    "    print(\"Ages is less than 18\")\n",
    "except TypeError:\n",
    "    print(\"Age is not numeric\")\n",
    "else:\n",
    "    print(\"Ages is greater than or equal to 18\")\n",
    "finally:\n",
    "    print(\"End of the program\")"
   ]
  },
  {
   "cell_type": "code",
   "execution_count": null,
   "metadata": {},
   "outputs": [],
   "source": []
  }
 ],
 "metadata": {
  "kernelspec": {
   "display_name": "Python 3",
   "language": "python",
   "name": "python3"
  },
  "language_info": {
   "codemirror_mode": {
    "name": "ipython",
    "version": 3
   },
   "file_extension": ".py",
   "mimetype": "text/x-python",
   "name": "python",
   "nbconvert_exporter": "python",
   "pygments_lexer": "ipython3",
   "version": "3.8.5"
  }
 },
 "nbformat": 4,
 "nbformat_minor": 4
}
