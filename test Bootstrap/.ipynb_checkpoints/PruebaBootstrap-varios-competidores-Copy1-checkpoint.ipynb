{
 "cells": [
  {
   "cell_type": "markdown",
   "metadata": {},
   "source": [
    "# Código para entender las funcionalidad de *IngeoML*"
   ]
  },
  {
   "cell_type": "code",
   "execution_count": 14,
   "metadata": {},
   "outputs": [],
   "source": [
    "# Bloque de código para instalar las bibliotecas necesarias para correr IngeoML\n",
    "#!pip install --upgrade \"jax[cpu]\"\n",
    "#!pip install optax\n",
    "#!pip install IngeoML"
   ]
  },
  {
   "cell_type": "code",
   "execution_count": 15,
   "metadata": {},
   "outputs": [
    {
     "name": "stdout",
     "output_type": "stream",
     "text": [
      "3.11.7 (main, Dec 15 2023, 12:09:04) [Clang 14.0.6 ]\n"
     ]
    }
   ],
   "source": [
    "# Verificar que versión de python se está usando.\n",
    "import sys\n",
    "print(sys.version)"
   ]
  },
  {
   "cell_type": "code",
   "execution_count": 16,
   "metadata": {},
   "outputs": [
    {
     "name": "stdout",
     "output_type": "stream",
     "text": [
      "Número de núcleos de CPU disponibles: 4\n"
     ]
    }
   ],
   "source": [
    "# Cuántos núcleos disponibles hay en el CPU\n",
    "import os\n",
    "n_cores = os.cpu_count()\n",
    "print(f\"Número de núcleos de CPU disponibles: {n_cores}\")\n"
   ]
  },
  {
   "cell_type": "code",
   "execution_count": 17,
   "metadata": {},
   "outputs": [],
   "source": [
    "# biblioteca de funciones referentes al tiempo. \n",
    "# en este caso para medir el tiempo de procesamiento\n",
    "# de una sección de código\n",
    "import time\n"
   ]
  },
  {
   "cell_type": "code",
   "execution_count": 3,
   "metadata": {},
   "outputs": [],
   "source": [
    "from IngeoML import StatisticSamples\n",
    "from sklearn.metrics import accuracy_score, precision_recall_fscore_support\n",
    "import numpy as np"
   ]
  },
  {
   "cell_type": "code",
   "execution_count": 8,
   "metadata": {},
   "outputs": [
    {
     "name": "stdout",
     "output_type": "stream",
     "text": [
      "Accuracy de los datos originales\n",
      " 0.8\n",
      "Precision/recall/fscore/support de datos originales\n",
      " (array([0.8, 0.8]), array([0.8, 0.8]), array([0.8, 0.8]), array([5, 5]))\n",
      "Distribucion Muestral de accuracy\n",
      " [0.6 0.6 1.  ... 0.7 0.8 0.6]\n"
     ]
    }
   ],
   "source": [
    "# Primer prueba, para medir accuracy\n",
    "labels = np.r_[[0, 0, 0, 0, 0, 1, 1, 1, 1, 1]]\n",
    "pred   = np.r_[[0, 0, 1, 0, 0, 1, 1, 1, 0, 1]]\n",
    "print(\"Accuracy de los datos originales\\n\",accuracy_score(labels, pred))\n",
    "print(\"Precision/recall/fscore/support de datos originales\\n\",precision_recall_fscore_support(labels,pred))\n",
    "acc = StatisticSamples(num_samples=10000, statistic=accuracy_score)\n",
    "distmuestral = acc(labels, pred)\n",
    "print(\"Distribucion Muestral de accuracy\\n\",distmuestral)"
   ]
  },
  {
   "cell_type": "code",
   "execution_count": 20,
   "metadata": {},
   "outputs": [
    {
     "name": "stdout",
     "output_type": "stream",
     "text": [
      "(10,)\n",
      "(10,)\n"
     ]
    }
   ],
   "source": [
    "print(labels.shape)\n",
    "print(pred.shape)"
   ]
  },
  {
   "cell_type": "code",
   "execution_count": 21,
   "metadata": {},
   "outputs": [
    {
     "name": "stdout",
     "output_type": "stream",
     "text": [
      "(10,)\n",
      "(10, 3)\n"
     ]
    }
   ],
   "source": [
    "# Prueba de múltiples competidores con una sola \"referencia o etiqueta\"\n",
    "labels = np.r_[[0, 0, 0, 0, 0, 1, 1, 1, 1, 1]]\n",
    "predicciones_matriz = np.array([[0, 0, 1, 0, 0, 1, 1, 1, 0, 1],\n",
    "                                [0, 0, 0, 1, 1, 1, 1, 1, 1, 1],\n",
    "                                [0, 0, 0, 0, 0, 1, 1, 1, 1, 0]])\n",
    "predicciones_matriz = predicciones_matriz.T\n",
    "print(labels.shape)\n",
    "print(predicciones_matriz.shape)"
   ]
  },
  {
   "cell_type": "code",
   "execution_count": 22,
   "metadata": {},
   "outputs": [
    {
     "name": "stdout",
     "output_type": "stream",
     "text": [
      "Precisión del Modelo 1: 0.8\n",
      "Precisión del Modelo 2: 0.8\n",
      "Precisión del Modelo 3: 0.9\n",
      "Tiempo de ejecución: 10.484956979751587 segundos\n"
     ]
    }
   ],
   "source": [
    "start_time = time.time()\n",
    "for i in range(predicciones_matriz.shape[1]):\n",
    "    predicciones_modelo = predicciones_matriz[:, i]\n",
    "    precisión_modelo = accuracy_score(labels, predicciones_modelo)\n",
    "    print(f\"Precisión del Modelo {i + 1}: {precisión_modelo}\")\n",
    "    acc = StatisticSamples(num_samples=10000, statistic=accuracy_score, n_jobs = -1)\n",
    "    acc(labels, pred)\n",
    "    \n",
    "\n",
    "end_time = time.time()\n",
    "print(f\"Tiempo de ejecución: {end_time - start_time} segundos\")"
   ]
  },
  {
   "cell_type": "code",
   "execution_count": 24,
   "metadata": {},
   "outputs": [
    {
     "data": {
      "text/plain": [
       "array([0.8, 0.8, 0.9])"
      ]
     },
     "execution_count": 24,
     "metadata": {},
     "output_type": "execute_result"
    }
   ],
   "source": [
    "# arreglo por renglón.\n",
    "# Cada renglón es una competidor\n",
    "labels = np.r_[[0, 0, 0, 0, 0, 1, 1, 1, 1, 1]]\n",
    "predicciones_matriz = np.array([[0, 0, 1, 0, 0, 1, 1, 1, 0, 1],\n",
    "                                [0, 0, 0, 1, 1, 1, 1, 1, 1, 1],\n",
    "                                [0, 0, 0, 0, 0, 1, 1, 1, 1, 0]])\n",
    "resultado = np.array([accuracy_score(predicciones_matriz[i, :], labels) for i in range(predicciones_matriz.shape[0])])\n",
    "resultado"
   ]
  },
  {
   "cell_type": "code",
   "execution_count": 25,
   "metadata": {},
   "outputs": [
    {
     "name": "stdout",
     "output_type": "stream",
     "text": [
      "Tiempo de ejecución: 17.910701036453247 segundos\n"
     ]
    }
   ],
   "source": [
    "start_time = time.time()\n",
    "acc = StatisticSamples(num_samples=10000, statistic=accuracy_score, n_jobs = -1)\n",
    "np.array([acc(labels,predicciones_matriz[i, :]) for i in range(predicciones_matriz.shape[0])]).T\n",
    "end_time = time.time()\n",
    "print(f\"Tiempo de ejecución: {end_time - start_time} segundos\")\n"
   ]
  },
  {
   "cell_type": "code",
   "execution_count": 26,
   "metadata": {},
   "outputs": [
    {
     "data": {
      "text/plain": [
       "array([0.8, 0.8, 0.9])"
      ]
     },
     "execution_count": 26,
     "metadata": {},
     "output_type": "execute_result"
    }
   ],
   "source": [
    "# arreglo por columna.\n",
    "# Cada columna es una competidor\n",
    "predicciones_matriz2 = predicciones_matriz.T\n",
    "np.array([accuracy_score(predicciones_matriz2[:, i], labels) for i in range(predicciones_matriz2.shape[1])])"
   ]
  },
  {
   "cell_type": "code",
   "execution_count": 27,
   "metadata": {},
   "outputs": [
    {
     "name": "stdout",
     "output_type": "stream",
     "text": [
      "[[0.6 0.4 0.8]\n",
      " [0.8 0.7 0.9]\n",
      " [0.8 0.8 0.8]\n",
      " [0.9 0.7 1. ]\n",
      " [0.8 0.8 0.8]\n",
      " [1.  0.6 0.9]\n",
      " [0.9 1.  0.9]\n",
      " [0.9 0.6 0.9]\n",
      " [0.9 0.8 0.9]\n",
      " [0.9 0.7 0.8]\n",
      " [0.6 0.8 1. ]\n",
      " [1.  0.9 0.9]\n",
      " [0.8 0.7 1. ]\n",
      " [0.9 0.5 1. ]\n",
      " [0.9 0.9 0.8]\n",
      " [1.  0.8 1. ]\n",
      " [0.8 0.9 0.9]\n",
      " [0.8 0.8 0.9]\n",
      " [0.8 1.  0.7]\n",
      " [0.8 0.9 0.6]\n",
      " [0.9 0.8 1. ]\n",
      " [0.7 0.8 0.7]\n",
      " [0.9 0.5 1. ]\n",
      " [0.6 0.6 0.9]\n",
      " [0.6 0.7 0.8]\n",
      " [0.7 0.9 0.8]\n",
      " [0.7 0.8 0.8]\n",
      " [0.9 0.8 0.9]\n",
      " [0.4 0.7 0.8]\n",
      " [0.8 0.8 1. ]\n",
      " [0.7 0.8 1. ]\n",
      " [0.8 0.8 0.9]\n",
      " [0.8 0.8 0.9]\n",
      " [0.6 0.8 1. ]\n",
      " [1.  1.  0.7]\n",
      " [1.  0.9 0.6]\n",
      " [0.9 1.  1. ]\n",
      " [1.  0.8 0.9]\n",
      " [0.8 0.9 0.9]\n",
      " [0.9 0.8 0.9]\n",
      " [0.6 0.8 0.8]\n",
      " [0.9 0.8 0.9]\n",
      " [1.  0.9 0.9]\n",
      " [0.8 0.8 0.8]\n",
      " [0.8 0.9 0.9]\n",
      " [1.  0.8 0.8]\n",
      " [0.9 0.9 1. ]\n",
      " [0.7 0.8 0.8]\n",
      " [0.9 0.8 0.9]\n",
      " [0.9 0.9 0.8]\n",
      " [1.  0.7 0.9]\n",
      " [0.9 0.9 0.9]\n",
      " [0.9 0.6 1. ]\n",
      " [0.9 0.6 0.9]\n",
      " [0.7 0.7 0.9]\n",
      " [1.  0.8 0.9]\n",
      " [0.7 0.6 0.8]\n",
      " [0.9 0.9 1. ]\n",
      " [0.9 0.9 1. ]\n",
      " [0.9 0.7 1. ]\n",
      " [0.8 0.8 1. ]\n",
      " [0.6 0.7 0.9]\n",
      " [0.7 0.8 0.8]\n",
      " [0.9 1.  1. ]\n",
      " [0.8 0.6 0.9]\n",
      " [0.8 0.8 0.9]\n",
      " [0.6 0.7 0.7]\n",
      " [0.6 0.8 0.8]\n",
      " [0.8 0.8 0.9]\n",
      " [1.  0.6 0.9]\n",
      " [0.6 0.9 0.8]\n",
      " [0.8 0.8 1. ]\n",
      " [0.9 0.8 0.9]\n",
      " [0.6 0.9 0.7]\n",
      " [0.8 0.7 0.9]\n",
      " [0.9 0.9 1. ]\n",
      " [1.  1.  1. ]\n",
      " [0.9 1.  1. ]\n",
      " [0.9 0.7 0.7]\n",
      " [1.  0.8 0.9]\n",
      " [0.9 0.6 1. ]\n",
      " [0.6 1.  0.9]\n",
      " [0.8 0.7 1. ]\n",
      " [0.9 0.9 1. ]\n",
      " [0.9 1.  0.8]\n",
      " [0.9 0.7 1. ]\n",
      " [0.8 0.7 0.9]\n",
      " [0.8 0.9 1. ]\n",
      " [0.9 0.7 0.7]\n",
      " [0.8 0.9 1. ]\n",
      " [0.8 0.8 0.9]\n",
      " [0.8 0.9 1. ]\n",
      " [1.  0.6 1. ]\n",
      " [0.7 0.8 1. ]\n",
      " [1.  0.8 1. ]\n",
      " [0.8 0.8 0.9]\n",
      " [0.8 0.8 1. ]\n",
      " [0.6 0.6 1. ]\n",
      " [0.7 0.6 0.9]\n",
      " [0.6 0.8 1. ]]\n",
      "[0.82  0.788 0.896]\n"
     ]
    }
   ],
   "source": [
    "acc = StatisticSamples(num_samples=100, statistic=accuracy_score)\n",
    "distMuestralAcc = np.array([acc(labels,predicciones_matriz2[:, i]) for i in range(predicciones_matriz2.shape[1])]).T\n",
    "print(distMuestralAcc)\n",
    "print(np.mean(distMuestralAcc,axis=0))"
   ]
  },
  {
   "cell_type": "code",
   "execution_count": null,
   "metadata": {},
   "outputs": [],
   "source": []
  }
 ],
 "metadata": {
  "kernelspec": {
   "display_name": "Python 3 (ipykernel)",
   "language": "python",
   "name": "python3"
  },
  "language_info": {
   "codemirror_mode": {
    "name": "ipython",
    "version": 3
   },
   "file_extension": ".py",
   "mimetype": "text/x-python",
   "name": "python",
   "nbconvert_exporter": "python",
   "pygments_lexer": "ipython3",
   "version": "3.11.7"
  }
 },
 "nbformat": 4,
 "nbformat_minor": 4
}
