{
 "cells": [
  {
   "cell_type": "code",
   "execution_count": 1,
   "id": "e36421fd",
   "metadata": {},
   "outputs": [
    {
     "name": "stdout",
     "output_type": "stream",
     "text": [
      "This is printed first\n",
      "This es printed second\n",
      "This is printed at last\n",
      "Using for loop...\n",
      "This is printed first\n",
      "1\n",
      "This es printed second\n",
      "2\n",
      "This is printed at last\n",
      "3\n"
     ]
    }
   ],
   "source": [
    "# A simple genertor function\n",
    "def my_generator():\n",
    "    n = 1\n",
    "    print(\"This is printed first\")\n",
    "    # generator function contains yield statements\n",
    "    yield n\n",
    "    \n",
    "    n += 1 \n",
    "    print(\"This es printed second\")\n",
    "    yield n\n",
    "    \n",
    "    n += 1\n",
    "    print(\"This is printed at last\")\n",
    "    yield n\n",
    "    \n",
    "a = my_generator()\n",
    "# Iterating using next\n",
    "next(a)\n",
    "next(a)\n",
    "next(a)\n",
    "\n",
    "print(\"Using for loop...\")\n",
    "# Iterrating using for loop\n",
    "for item in my_generator():\n",
    "    print(item)"
   ]
  },
  {
   "cell_type": "code",
   "execution_count": 3,
   "id": "4bec8ccb",
   "metadata": {},
   "outputs": [
    {
     "name": "stdout",
     "output_type": "stream",
     "text": [
      "D\n",
      "L\n",
      "R\n",
      "O\n",
      "W\n"
     ]
    }
   ],
   "source": [
    "# generators with a loop\n",
    "def reverse_string(my_string):\n",
    "    length = len(my_string)\n",
    "    for i in range(length - 1,-1,-1):\n",
    "        yield my_string[i]\n",
    "        \n",
    "\n",
    "# for loop to reverse the string\n",
    "\n",
    "for char in reverse_string(\"WORLD\"):\n",
    "    print(char)"
   ]
  },
  {
   "cell_type": "code",
   "execution_count": 4,
   "id": "75df8baa",
   "metadata": {},
   "outputs": [
    {
     "name": "stdout",
     "output_type": "stream",
     "text": [
      "9\n",
      "8\n",
      "7\n",
      "6\n",
      "5\n",
      "4\n",
      "3\n",
      "2\n",
      "1\n",
      "0\n"
     ]
    }
   ],
   "source": [
    " for i in range(10 - 1,-1,-1):\n",
    "        print(i)\n",
    "        "
   ]
  },
  {
   "cell_type": "code",
   "execution_count": null,
   "id": "e56946db",
   "metadata": {},
   "outputs": [],
   "source": []
  }
 ],
 "metadata": {
  "kernelspec": {
   "display_name": "Python 3 (ipykernel)",
   "language": "python",
   "name": "python3"
  },
  "language_info": {
   "codemirror_mode": {
    "name": "ipython",
    "version": 3
   },
   "file_extension": ".py",
   "mimetype": "text/x-python",
   "name": "python",
   "nbconvert_exporter": "python",
   "pygments_lexer": "ipython3",
   "version": "3.11.5"
  }
 },
 "nbformat": 4,
 "nbformat_minor": 5
}
